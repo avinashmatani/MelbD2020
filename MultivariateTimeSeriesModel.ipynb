{
  "nbformat": 4,
  "nbformat_minor": 0,
  "metadata": {
    "colab": {
      "name": "MultivariateTimeSeriesModel.ipynb",
      "provenance": []
    },
    "kernelspec": {
      "name": "python3",
      "display_name": "Python 3"
    }
  },
  "cells": [
    {
      "cell_type": "code",
      "metadata": {
        "id": "mj8bbvTulvo1",
        "outputId": "6946cd7e-7ea8-4091-93a6-fbf814ce7b62",
        "colab": {
          "resources": {
            "http://localhost:8080/nbextensions/google.colab/files.js": {
              "data": "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",
              "ok": true,
              "headers": [
                [
                  "content-type",
                  "application/javascript"
                ]
              ],
              "status": 200,
              "status_text": ""
            }
          },
          "base_uri": "https://localhost:8080/",
          "height": 72
        }
      },
      "source": [
        "from google.colab import files\n",
        "uploaded = files.upload()"
      ],
      "execution_count": 3,
      "outputs": [
        {
          "output_type": "display_data",
          "data": {
            "text/html": [
              "\n",
              "     <input type=\"file\" id=\"files-98c6ca6f-05da-4551-b031-0748e0068182\" name=\"files[]\" multiple disabled\n",
              "        style=\"border:none\" />\n",
              "     <output id=\"result-98c6ca6f-05da-4551-b031-0748e0068182\">\n",
              "      Upload widget is only available when the cell has been executed in the\n",
              "      current browser session. Please rerun this cell to enable.\n",
              "      </output>\n",
              "      <script src=\"/nbextensions/google.colab/files.js\"></script> "
            ],
            "text/plain": [
              "<IPython.core.display.HTML object>"
            ]
          },
          "metadata": {
            "tags": []
          }
        },
        {
          "output_type": "stream",
          "text": [
            "Saving au_fulldata_vic.csv to au_fulldata_vic.csv\n"
          ],
          "name": "stdout"
        }
      ]
    },
    {
      "cell_type": "code",
      "metadata": {
        "id": "kQtRZpG_mGUi"
      },
      "source": [
        "import pandas as pd\n",
        "import numpy as np\n",
        "import matplotlib.pyplot as plt\n",
        "import pandas as pd\n",
        "from sklearn.preprocessing import MinMaxScaler\n",
        "from tensorflow.keras import Sequential\n",
        "from tensorflow.keras.layers import Dense, LSTM, Dropout\n",
        "from keras.preprocessing.sequence import TimeseriesGenerator\n",
        "from sklearn.model_selection import train_test_split\n",
        "import tensorflow as tf"
      ],
      "execution_count": 4,
      "outputs": []
    },
    {
      "cell_type": "code",
      "metadata": {
        "id": "G8CrggmxmJ-L"
      },
      "source": [
        "ts19 = pd.read_csv(\"au_fulldata_vic.csv\")"
      ],
      "execution_count": 5,
      "outputs": []
    },
    {
      "cell_type": "code",
      "metadata": {
        "id": "47EkAlK0ztOg",
        "outputId": "4148818a-c007-4824-f378-2474ca28be00",
        "colab": {
          "base_uri": "https://localhost:8080/",
          "height": 411
        }
      },
      "source": [
        "ts19.head()"
      ],
      "execution_count": 6,
      "outputs": [
        {
          "output_type": "execute_result",
          "data": {
            "text/html": [
              "<div>\n",
              "<style scoped>\n",
              "    .dataframe tbody tr th:only-of-type {\n",
              "        vertical-align: middle;\n",
              "    }\n",
              "\n",
              "    .dataframe tbody tr th {\n",
              "        vertical-align: top;\n",
              "    }\n",
              "\n",
              "    .dataframe thead th {\n",
              "        text-align: right;\n",
              "    }\n",
              "</style>\n",
              "<table border=\"1\" class=\"dataframe\">\n",
              "  <thead>\n",
              "    <tr style=\"text-align: right;\">\n",
              "      <th></th>\n",
              "      <th>Month</th>\n",
              "      <th>Day</th>\n",
              "      <th>TOTALDEMAND</th>\n",
              "      <th>YEAR</th>\n",
              "      <th>Date</th>\n",
              "      <th>relative_humidity</th>\n",
              "      <th>dew_temp</th>\n",
              "      <th>max_temp</th>\n",
              "      <th>min_temp</th>\n",
              "      <th>temp2m</th>\n",
              "      <th>WS50M_MIN</th>\n",
              "      <th>WS10M_MIN</th>\n",
              "      <th>WS50M_MAX</th>\n",
              "      <th>WS10M_MAX</th>\n",
              "      <th>WS50M</th>\n",
              "      <th>WS10M</th>\n",
              "      <th>avg_temp</th>\n",
              "      <th>ws_avg_50</th>\n",
              "      <th>ws_avg_10</th>\n",
              "      <th>Unnamed: 19</th>\n",
              "    </tr>\n",
              "  </thead>\n",
              "  <tbody>\n",
              "    <tr>\n",
              "      <th>0</th>\n",
              "      <td>1</td>\n",
              "      <td>1</td>\n",
              "      <td>226550.31</td>\n",
              "      <td>2016</td>\n",
              "      <td>01-01-2016</td>\n",
              "      <td>56.49</td>\n",
              "      <td>12.69</td>\n",
              "      <td>27.74</td>\n",
              "      <td>15.97</td>\n",
              "      <td>21.87</td>\n",
              "      <td>1.63</td>\n",
              "      <td>1.09</td>\n",
              "      <td>6.98</td>\n",
              "      <td>5.98</td>\n",
              "      <td>4.48</td>\n",
              "      <td>3.60</td>\n",
              "      <td>21.855</td>\n",
              "      <td>4.305</td>\n",
              "      <td>3.535</td>\n",
              "      <td>NaN</td>\n",
              "    </tr>\n",
              "    <tr>\n",
              "      <th>1</th>\n",
              "      <td>1</td>\n",
              "      <td>2</td>\n",
              "      <td>199245.28</td>\n",
              "      <td>2016</td>\n",
              "      <td>02-01-2016</td>\n",
              "      <td>66.32</td>\n",
              "      <td>12.94</td>\n",
              "      <td>26.07</td>\n",
              "      <td>14.76</td>\n",
              "      <td>19.40</td>\n",
              "      <td>4.69</td>\n",
              "      <td>4.19</td>\n",
              "      <td>9.66</td>\n",
              "      <td>8.12</td>\n",
              "      <td>7.04</td>\n",
              "      <td>5.80</td>\n",
              "      <td>20.415</td>\n",
              "      <td>7.175</td>\n",
              "      <td>6.155</td>\n",
              "      <td>NaN</td>\n",
              "    </tr>\n",
              "    <tr>\n",
              "      <th>2</th>\n",
              "      <td>1</td>\n",
              "      <td>3</td>\n",
              "      <td>195312.89</td>\n",
              "      <td>2016</td>\n",
              "      <td>03-01-2016</td>\n",
              "      <td>71.23</td>\n",
              "      <td>13.13</td>\n",
              "      <td>22.40</td>\n",
              "      <td>15.35</td>\n",
              "      <td>18.41</td>\n",
              "      <td>5.58</td>\n",
              "      <td>3.55</td>\n",
              "      <td>7.79</td>\n",
              "      <td>6.27</td>\n",
              "      <td>6.92</td>\n",
              "      <td>5.35</td>\n",
              "      <td>18.875</td>\n",
              "      <td>6.685</td>\n",
              "      <td>4.910</td>\n",
              "      <td>NaN</td>\n",
              "    </tr>\n",
              "    <tr>\n",
              "      <th>3</th>\n",
              "      <td>1</td>\n",
              "      <td>4</td>\n",
              "      <td>221865.01</td>\n",
              "      <td>2016</td>\n",
              "      <td>04-01-2016</td>\n",
              "      <td>75.53</td>\n",
              "      <td>13.78</td>\n",
              "      <td>21.67</td>\n",
              "      <td>15.31</td>\n",
              "      <td>18.16</td>\n",
              "      <td>3.91</td>\n",
              "      <td>3.01</td>\n",
              "      <td>7.76</td>\n",
              "      <td>5.58</td>\n",
              "      <td>5.39</td>\n",
              "      <td>4.07</td>\n",
              "      <td>18.490</td>\n",
              "      <td>5.835</td>\n",
              "      <td>4.295</td>\n",
              "      <td>NaN</td>\n",
              "    </tr>\n",
              "    <tr>\n",
              "      <th>4</th>\n",
              "      <td>1</td>\n",
              "      <td>5</td>\n",
              "      <td>235747.16</td>\n",
              "      <td>2016</td>\n",
              "      <td>05-01-2016</td>\n",
              "      <td>68.87</td>\n",
              "      <td>13.47</td>\n",
              "      <td>24.57</td>\n",
              "      <td>13.86</td>\n",
              "      <td>19.37</td>\n",
              "      <td>0.63</td>\n",
              "      <td>0.71</td>\n",
              "      <td>5.34</td>\n",
              "      <td>3.24</td>\n",
              "      <td>3.29</td>\n",
              "      <td>2.33</td>\n",
              "      <td>19.215</td>\n",
              "      <td>2.985</td>\n",
              "      <td>1.975</td>\n",
              "      <td>NaN</td>\n",
              "    </tr>\n",
              "  </tbody>\n",
              "</table>\n",
              "</div>"
            ],
            "text/plain": [
              "   Month  Day  TOTALDEMAND  YEAR  ... avg_temp  ws_avg_50  ws_avg_10  Unnamed: 19\n",
              "0      1    1    226550.31  2016  ...   21.855      4.305      3.535          NaN\n",
              "1      1    2    199245.28  2016  ...   20.415      7.175      6.155          NaN\n",
              "2      1    3    195312.89  2016  ...   18.875      6.685      4.910          NaN\n",
              "3      1    4    221865.01  2016  ...   18.490      5.835      4.295          NaN\n",
              "4      1    5    235747.16  2016  ...   19.215      2.985      1.975          NaN\n",
              "\n",
              "[5 rows x 20 columns]"
            ]
          },
          "metadata": {
            "tags": []
          },
          "execution_count": 6
        }
      ]
    },
    {
      "cell_type": "code",
      "metadata": {
        "id": "eImeIAD_ztY9"
      },
      "source": [
        "#test19.head()"
      ],
      "execution_count": null,
      "outputs": []
    },
    {
      "cell_type": "code",
      "metadata": {
        "id": "PPcc3rnwo0r6"
      },
      "source": [
        "#test19.head()"
      ],
      "execution_count": null,
      "outputs": []
    },
    {
      "cell_type": "code",
      "metadata": {
        "id": "u_myntaGmKEz"
      },
      "source": [
        "ts19 = ts19[['TOTALDEMAND',\t'Date',\t'relative_humidity','avg_temp',\t'ws_avg_50']]"
      ],
      "execution_count": 7,
      "outputs": []
    },
    {
      "cell_type": "code",
      "metadata": {
        "id": "WffHFa8AosqR"
      },
      "source": [
        "##### New \n",
        "#test19 = test19[['total_demand',\t'Date',\t'relative_humidity','avg_temp',\t'ws_avg_50']]"
      ],
      "execution_count": null,
      "outputs": []
    },
    {
      "cell_type": "code",
      "metadata": {
        "id": "svYdqhJ6mKHv"
      },
      "source": [
        "ts19['Date'] = pd.to_datetime(ts19['Date'])\n",
        "\n",
        "\n",
        "##### New\n",
        "# test19['Date'] = pd.to_datetime(test19['Date'])"
      ],
      "execution_count": null,
      "outputs": []
    },
    {
      "cell_type": "code",
      "metadata": {
        "id": "-NsG1DFxQXsx",
        "outputId": "8d053cf5-8575-47cd-e05c-6f4220f4f462",
        "colab": {
          "base_uri": "https://localhost:8080/",
          "height": 221
        }
      },
      "source": [
        "ts19.info()"
      ],
      "execution_count": 8,
      "outputs": [
        {
          "output_type": "stream",
          "text": [
            "<class 'pandas.core.frame.DataFrame'>\n",
            "RangeIndex: 1711 entries, 0 to 1710\n",
            "Data columns (total 5 columns):\n",
            " #   Column             Non-Null Count  Dtype  \n",
            "---  ------             --------------  -----  \n",
            " 0   TOTALDEMAND        1711 non-null   float64\n",
            " 1   Date               1711 non-null   object \n",
            " 2   relative_humidity  1711 non-null   float64\n",
            " 3   avg_temp           1711 non-null   float64\n",
            " 4   ws_avg_50          1711 non-null   float64\n",
            "dtypes: float64(4), object(1)\n",
            "memory usage: 67.0+ KB\n"
          ],
          "name": "stdout"
        }
      ]
    },
    {
      "cell_type": "code",
      "metadata": {
        "id": "_FoPJADxplbQ"
      },
      "source": [
        "#### New\n",
        "\n",
        "#test19.info()"
      ],
      "execution_count": null,
      "outputs": []
    },
    {
      "cell_type": "code",
      "metadata": {
        "id": "Sm4D7Qm8mKKI",
        "outputId": "d9a17261-2d54-405f-f888-281a43205667",
        "colab": {
          "base_uri": "https://localhost:8080/",
          "height": 370
        }
      },
      "source": [
        "ts19.set_index('Date')[['TOTALDEMAND','avg_temp','relative_humidity','ws_avg_50']].plot(subplots=True)"
      ],
      "execution_count": 9,
      "outputs": [
        {
          "output_type": "execute_result",
          "data": {
            "text/plain": [
              "array([<matplotlib.axes._subplots.AxesSubplot object at 0x7f92206d7860>,\n",
              "       <matplotlib.axes._subplots.AxesSubplot object at 0x7f92206b7b00>,\n",
              "       <matplotlib.axes._subplots.AxesSubplot object at 0x7f9220673b00>,\n",
              "       <matplotlib.axes._subplots.AxesSubplot object at 0x7f9220629b00>],\n",
              "      dtype=object)"
            ]
          },
          "metadata": {
            "tags": []
          },
          "execution_count": 9
        },
        {
          "output_type": "display_data",
          "data": {
            "image/png": "[encoded data removed]",
            "text/plain": [
              "<Figure size 432x288 with 4 Axes>"
            ]
          },
          "metadata": {
            "tags": [],
            "needs_background": "light"
          }
        }
      ]
    },
    {
      "cell_type": "code",
      "metadata": {
        "id": "ElN3xGgCqDA3"
      },
      "source": [
        "#### New\n",
        "\n",
        "#test19.set_index('Date')[['total_demand','avg_temp','relative_humidity','ws_avg_50']].plot(subplots=True)"
      ],
      "execution_count": null,
      "outputs": []
    },
    {
      "cell_type": "code",
      "metadata": {
        "id": "5AkB_11bTUyg"
      },
      "source": [
        "# #### New\n",
        "\n",
        "# test19.set_index(['Date'], inplace=True)\n",
        "# test19.head()"
      ],
      "execution_count": null,
      "outputs": []
    },
    {
      "cell_type": "code",
      "metadata": {
        "id": "DhqH7aFCp3f6",
        "outputId": "2ce044c9-7263-47a4-f9b6-bd1f6685f493",
        "colab": {
          "base_uri": "https://localhost:8080/",
          "height": 235
        }
      },
      "source": [
        "\n",
        "ts19.set_index(['Date'], inplace=True)\n",
        "ts19.head()"
      ],
      "execution_count": 10,
      "outputs": [
        {
          "output_type": "execute_result",
          "data": {
            "text/html": [
              "<div>\n",
              "<style scoped>\n",
              "    .dataframe tbody tr th:only-of-type {\n",
              "        vertical-align: middle;\n",
              "    }\n",
              "\n",
              "    .dataframe tbody tr th {\n",
              "        vertical-align: top;\n",
              "    }\n",
              "\n",
              "    .dataframe thead th {\n",
              "        text-align: right;\n",
              "    }\n",
              "</style>\n",
              "<table border=\"1\" class=\"dataframe\">\n",
              "  <thead>\n",
              "    <tr style=\"text-align: right;\">\n",
              "      <th></th>\n",
              "      <th>TOTALDEMAND</th>\n",
              "      <th>relative_humidity</th>\n",
              "      <th>avg_temp</th>\n",
              "      <th>ws_avg_50</th>\n",
              "    </tr>\n",
              "    <tr>\n",
              "      <th>Date</th>\n",
              "      <th></th>\n",
              "      <th></th>\n",
              "      <th></th>\n",
              "      <th></th>\n",
              "    </tr>\n",
              "  </thead>\n",
              "  <tbody>\n",
              "    <tr>\n",
              "      <th>01-01-2016</th>\n",
              "      <td>226550.31</td>\n",
              "      <td>56.49</td>\n",
              "      <td>21.855</td>\n",
              "      <td>4.305</td>\n",
              "    </tr>\n",
              "    <tr>\n",
              "      <th>02-01-2016</th>\n",
              "      <td>199245.28</td>\n",
              "      <td>66.32</td>\n",
              "      <td>20.415</td>\n",
              "      <td>7.175</td>\n",
              "    </tr>\n",
              "    <tr>\n",
              "      <th>03-01-2016</th>\n",
              "      <td>195312.89</td>\n",
              "      <td>71.23</td>\n",
              "      <td>18.875</td>\n",
              "      <td>6.685</td>\n",
              "    </tr>\n",
              "    <tr>\n",
              "      <th>04-01-2016</th>\n",
              "      <td>221865.01</td>\n",
              "      <td>75.53</td>\n",
              "      <td>18.490</td>\n",
              "      <td>5.835</td>\n",
              "    </tr>\n",
              "    <tr>\n",
              "      <th>05-01-2016</th>\n",
              "      <td>235747.16</td>\n",
              "      <td>68.87</td>\n",
              "      <td>19.215</td>\n",
              "      <td>2.985</td>\n",
              "    </tr>\n",
              "  </tbody>\n",
              "</table>\n",
              "</div>"
            ],
            "text/plain": [
              "            TOTALDEMAND  relative_humidity  avg_temp  ws_avg_50\n",
              "Date                                                           \n",
              "01-01-2016    226550.31              56.49    21.855      4.305\n",
              "02-01-2016    199245.28              66.32    20.415      7.175\n",
              "03-01-2016    195312.89              71.23    18.875      6.685\n",
              "04-01-2016    221865.01              75.53    18.490      5.835\n",
              "05-01-2016    235747.16              68.87    19.215      2.985"
            ]
          },
          "metadata": {
            "tags": []
          },
          "execution_count": 10
        }
      ]
    },
    {
      "cell_type": "code",
      "metadata": {
        "id": "sSpSD1hmQ1nU",
        "outputId": "9c9b7d20-2eb7-4954-bb00-6afd2a6b5f7c",
        "colab": {
          "base_uri": "https://localhost:8080/",
          "height": 297
        }
      },
      "source": [
        "ts19.describe()"
      ],
      "execution_count": 11,
      "outputs": [
        {
          "output_type": "execute_result",
          "data": {
            "text/html": [
              "<div>\n",
              "<style scoped>\n",
              "    .dataframe tbody tr th:only-of-type {\n",
              "        vertical-align: middle;\n",
              "    }\n",
              "\n",
              "    .dataframe tbody tr th {\n",
              "        vertical-align: top;\n",
              "    }\n",
              "\n",
              "    .dataframe thead th {\n",
              "        text-align: right;\n",
              "    }\n",
              "</style>\n",
              "<table border=\"1\" class=\"dataframe\">\n",
              "  <thead>\n",
              "    <tr style=\"text-align: right;\">\n",
              "      <th></th>\n",
              "      <th>TOTALDEMAND</th>\n",
              "      <th>relative_humidity</th>\n",
              "      <th>avg_temp</th>\n",
              "      <th>ws_avg_50</th>\n",
              "    </tr>\n",
              "  </thead>\n",
              "  <tbody>\n",
              "    <tr>\n",
              "      <th>count</th>\n",
              "      <td>1711.000000</td>\n",
              "      <td>1711.000000</td>\n",
              "      <td>1711.000000</td>\n",
              "      <td>1711.000000</td>\n",
              "    </tr>\n",
              "    <tr>\n",
              "      <th>mean</th>\n",
              "      <td>238292.377832</td>\n",
              "      <td>71.025985</td>\n",
              "      <td>14.437314</td>\n",
              "      <td>6.174305</td>\n",
              "    </tr>\n",
              "    <tr>\n",
              "      <th>std</th>\n",
              "      <td>27303.815962</td>\n",
              "      <td>13.524438</td>\n",
              "      <td>5.282906</td>\n",
              "      <td>2.503401</td>\n",
              "    </tr>\n",
              "    <tr>\n",
              "      <th>min</th>\n",
              "      <td>170188.750000</td>\n",
              "      <td>24.040000</td>\n",
              "      <td>4.940000</td>\n",
              "      <td>1.220000</td>\n",
              "    </tr>\n",
              "    <tr>\n",
              "      <th>25%</th>\n",
              "      <td>218645.815000</td>\n",
              "      <td>61.950000</td>\n",
              "      <td>9.885000</td>\n",
              "      <td>4.122500</td>\n",
              "    </tr>\n",
              "    <tr>\n",
              "      <th>50%</th>\n",
              "      <td>236614.310000</td>\n",
              "      <td>72.500000</td>\n",
              "      <td>13.410000</td>\n",
              "      <td>5.820000</td>\n",
              "    </tr>\n",
              "    <tr>\n",
              "      <th>75%</th>\n",
              "      <td>258331.630000</td>\n",
              "      <td>81.750000</td>\n",
              "      <td>18.187500</td>\n",
              "      <td>7.772500</td>\n",
              "    </tr>\n",
              "    <tr>\n",
              "      <th>max</th>\n",
              "      <td>341307.680000</td>\n",
              "      <td>98.240000</td>\n",
              "      <td>31.085000</td>\n",
              "      <td>14.540000</td>\n",
              "    </tr>\n",
              "  </tbody>\n",
              "</table>\n",
              "</div>"
            ],
            "text/plain": [
              "         TOTALDEMAND  relative_humidity     avg_temp    ws_avg_50\n",
              "count    1711.000000        1711.000000  1711.000000  1711.000000\n",
              "mean   238292.377832          71.025985    14.437314     6.174305\n",
              "std     27303.815962          13.524438     5.282906     2.503401\n",
              "min    170188.750000          24.040000     4.940000     1.220000\n",
              "25%    218645.815000          61.950000     9.885000     4.122500\n",
              "50%    236614.310000          72.500000    13.410000     5.820000\n",
              "75%    258331.630000          81.750000    18.187500     7.772500\n",
              "max    341307.680000          98.240000    31.085000    14.540000"
            ]
          },
          "metadata": {
            "tags": []
          },
          "execution_count": 11
        }
      ]
    },
    {
      "cell_type": "code",
      "metadata": {
        "id": "G5RgxoRwmKQe"
      },
      "source": [
        "#Normalising the dataset\n",
        "\n",
        "scaler = MinMaxScaler()\n",
        "data_training = scaler.fit_transform(ts19)"
      ],
      "execution_count": 12,
      "outputs": []
    },
    {
      "cell_type": "code",
      "metadata": {
        "id": "VeNTgr6gqN_h"
      },
      "source": [
        "##### New\n",
        "\n",
        "# #Normalising the dataset\n",
        "\n",
        "# scaler = MinMaxScaler()\n",
        "# data_testing = scaler.fit_transform(test19)"
      ],
      "execution_count": null,
      "outputs": []
    },
    {
      "cell_type": "code",
      "metadata": {
        "id": "Ms1Nm-2ImKTH",
        "outputId": "1e1d4229-6f7b-4ce6-a09d-4bbc191708ba",
        "colab": {
          "base_uri": "https://localhost:8080/",
          "height": 136
        }
      },
      "source": [
        "data_training"
      ],
      "execution_count": 13,
      "outputs": [
        {
          "output_type": "execute_result",
          "data": {
            "text/plain": [
              "array([[0.32937069, 0.43733154, 0.64696883, 0.23160661],\n",
              "       [0.16980313, 0.56981132, 0.59189138, 0.44707207],\n",
              "       [0.14682268, 0.63598383, 0.5329891 , 0.41028529],\n",
              "       ...,\n",
              "       [0.3454529 , 0.70619946, 0.15720023, 0.19481982],\n",
              "       [0.31536061, 0.67008086, 0.2314018 , 0.35247748],\n",
              "       [0.33340362, 0.8245283 , 0.30981067, 0.5762012 ]])"
            ]
          },
          "metadata": {
            "tags": []
          },
          "execution_count": 13
        }
      ]
    },
    {
      "cell_type": "code",
      "metadata": {
        "id": "8qvmdM-sq9ls"
      },
      "source": [
        "##### New\n",
        "\n",
        "# data_testing"
      ],
      "execution_count": null,
      "outputs": []
    },
    {
      "cell_type": "code",
      "metadata": {
        "id": "forRbswumKYN"
      },
      "source": [
        "features = data_training\n",
        "target = data_training[:,0]"
      ],
      "execution_count": 14,
      "outputs": []
    },
    {
      "cell_type": "code",
      "metadata": {
        "id": "Xh3IhUSNrDvm"
      },
      "source": [
        "#### New\n",
        "\n",
        "# features_test = data_testing\n",
        "# target_test = data_testing[:,0]"
      ],
      "execution_count": null,
      "outputs": []
    },
    {
      "cell_type": "code",
      "metadata": {
        "id": "BIHhvfz_mKa8",
        "outputId": "840676a4-003b-42bc-ca08-824234b7d017",
        "colab": {
          "base_uri": "https://localhost:8080/",
          "height": 544
        }
      },
      "source": [
        "TimeseriesGenerator(features, target, length=30, sampling_rate=1, batch_size=1)[0]"
      ],
      "execution_count": 15,
      "outputs": [
        {
          "output_type": "execute_result",
          "data": {
            "text/plain": [
              "(array([[[0.32937069, 0.43733154, 0.64696883, 0.23160661],\n",
              "         [0.16980313, 0.56981132, 0.59189138, 0.44707207],\n",
              "         [0.14682268, 0.63598383, 0.5329891 , 0.41028529],\n",
              "         [0.30199032, 0.69393531, 0.51826353, 0.34647147],\n",
              "         [0.38311606, 0.6041779 , 0.5459935 , 0.13250751],\n",
              "         [0.35028141, 0.64663073, 0.56855995, 0.46884384],\n",
              "         [0.31905669, 0.52991914, 0.51099637, 0.44744745],\n",
              "         [0.31305905, 0.50983827, 0.51176133, 0.34647147],\n",
              "         [0.23829415, 0.48382749, 0.52935552, 0.2042042 ],\n",
              "         [0.32672914, 0.29986523, 0.67814114, 0.1295045 ],\n",
              "         [0.65496798, 0.2925876 , 0.8141136 , 0.22372372],\n",
              "         [0.58335726, 0.45525606, 0.65595716, 0.23385886],\n",
              "         [0.87560973, 0.22749326, 0.89596481, 0.47222222],\n",
              "         [0.41260146, 0.47695418, 0.52151463, 0.61036036],\n",
              "         [0.32901579, 0.39487871, 0.42685026, 0.50487988],\n",
              "         [0.20981659, 0.36698113, 0.48288392, 0.20795796],\n",
              "         [0.33897705, 0.22412399, 0.6746988 , 0.26351351],\n",
              "         [0.73309493, 0.1245283 , 0.8118187 , 0.35960961],\n",
              "         [0.7423842 , 0.2606469 , 0.7741442 , 0.18130631],\n",
              "         [0.67061119, 0.56981132, 0.71849302, 0.1478979 ],\n",
              "         [0.63530365, 0.55768194, 0.67546376, 0.16966967],\n",
              "         [0.51473919, 0.77978437, 0.5492446 , 0.08783784],\n",
              "         [0.26885944, 0.64177898, 0.56071907, 0.33633634],\n",
              "         [0.21390883, 0.63948787, 0.53509275, 0.34084084],\n",
              "         [0.32205934, 0.61792453, 0.51615988, 0.43993994],\n",
              "         [0.29287747, 0.55309973, 0.6152228 , 0.28978979],\n",
              "         [0.56830253, 0.64541779, 0.66456301, 0.38213213],\n",
              "         [0.573583  , 0.57574124, 0.66112067, 0.3033033 ],\n",
              "         [0.45022295, 0.75687332, 0.36335819, 0.13588589],\n",
              "         [0.26279933, 0.58490566, 0.46739338, 0.25675676]]]),\n",
              " array([0.18916989]))"
            ]
          },
          "metadata": {
            "tags": []
          },
          "execution_count": 15
        }
      ]
    },
    {
      "cell_type": "code",
      "metadata": {
        "id": "k4c-uudvrM27"
      },
      "source": [
        "##### New\n",
        "\n",
        "#TimeseriesGenerator(features_test, target_test, length=30, sampling_rate=1, batch_size=1)[0]"
      ],
      "execution_count": null,
      "outputs": []
    },
    {
      "cell_type": "code",
      "metadata": {
        "id": "AiVtl8uMMRMS",
        "outputId": "3775ee30-b35e-4903-8d0f-35299313f722",
        "colab": {
          "base_uri": "https://localhost:8080/",
          "height": 34
        }
      },
      "source": [
        "features.shape"
      ],
      "execution_count": 16,
      "outputs": [
        {
          "output_type": "execute_result",
          "data": {
            "text/plain": [
              "(1711, 4)"
            ]
          },
          "metadata": {
            "tags": []
          },
          "execution_count": 16
        }
      ]
    },
    {
      "cell_type": "code",
      "metadata": {
        "id": "yguW64olMVVv",
        "outputId": "bddcbcd7-07df-4319-a2bb-dcae8108ef30",
        "colab": {
          "base_uri": "https://localhost:8080/",
          "height": 34
        }
      },
      "source": [
        "target.shape"
      ],
      "execution_count": 17,
      "outputs": [
        {
          "output_type": "execute_result",
          "data": {
            "text/plain": [
              "(1711,)"
            ]
          },
          "metadata": {
            "tags": []
          },
          "execution_count": 17
        }
      ]
    },
    {
      "cell_type": "code",
      "metadata": {
        "id": "cBBSqZq4mKdr"
      },
      "source": [
        "########## x_train, x_test, y_train, y_test = train_test_split(features, target, test_size=0.0, shuffle=False)"
      ],
      "execution_count": null,
      "outputs": []
    },
    {
      "cell_type": "code",
      "metadata": {
        "id": "PIDVHasdJsVB"
      },
      "source": [
        "x_train = features[:1361]\n",
        "y_train = target[:1361]\n",
        "x_test = features[1361:]\n",
        "y_test = features[1361:]"
      ],
      "execution_count": 18,
      "outputs": []
    },
    {
      "cell_type": "code",
      "metadata": {
        "id": "9OsmTN7SntS0"
      },
      "source": [
        "##### New\n",
        "\n",
        "# x_train = features\n",
        "# x_test = features_test\n",
        "# y_train = target\n",
        "# y_test = target_test"
      ],
      "execution_count": null,
      "outputs": []
    },
    {
      "cell_type": "code",
      "metadata": {
        "id": "v9K6MAuinteu"
      },
      "source": [
        ""
      ],
      "execution_count": null,
      "outputs": []
    },
    {
      "cell_type": "code",
      "metadata": {
        "id": "r8f2ojoTmKgL",
        "outputId": "3285c84c-0363-47ec-d275-788d7f1284db",
        "colab": {
          "base_uri": "https://localhost:8080/",
          "height": 34
        }
      },
      "source": [
        "x_train.shape"
      ],
      "execution_count": 19,
      "outputs": [
        {
          "output_type": "execute_result",
          "data": {
            "text/plain": [
              "(1361, 4)"
            ]
          },
          "metadata": {
            "tags": []
          },
          "execution_count": 19
        }
      ]
    },
    {
      "cell_type": "code",
      "metadata": {
        "id": "JSpwb5B0mKi5",
        "outputId": "7e1ed357-9a2d-4998-aff0-32aea5b385d8",
        "colab": {
          "base_uri": "https://localhost:8080/",
          "height": 34
        }
      },
      "source": [
        "x_test.shape"
      ],
      "execution_count": 20,
      "outputs": [
        {
          "output_type": "execute_result",
          "data": {
            "text/plain": [
              "(350, 4)"
            ]
          },
          "metadata": {
            "tags": []
          },
          "execution_count": 20
        }
      ]
    },
    {
      "cell_type": "code",
      "metadata": {
        "id": "bOtm4Du8U1ZQ",
        "outputId": "9b38e384-9275-43b8-9ad7-de1042fb9130",
        "colab": {
          "base_uri": "https://localhost:8080/",
          "height": 136
        }
      },
      "source": [
        "x_test"
      ],
      "execution_count": 21,
      "outputs": [
        {
          "output_type": "execute_result",
          "data": {
            "text/plain": [
              "array([[0.42974217, 0.7361186 , 0.18512144, 0.3506006 ],\n",
              "       [0.47561021, 0.72991914, 0.18569516, 0.30405405],\n",
              "       [0.45826087, 0.72425876, 0.23388793, 0.16103604],\n",
              "       ...,\n",
              "       [0.3454529 , 0.70619946, 0.15720023, 0.19481982],\n",
              "       [0.31536061, 0.67008086, 0.2314018 , 0.35247748],\n",
              "       [0.33340362, 0.8245283 , 0.30981067, 0.5762012 ]])"
            ]
          },
          "metadata": {
            "tags": []
          },
          "execution_count": 21
        }
      ]
    },
    {
      "cell_type": "code",
      "metadata": {
        "id": "upYaooPSmKlS",
        "outputId": "6245b357-e12f-4967-cd0f-d5028ef0c03b",
        "colab": {
          "base_uri": "https://localhost:8080/",
          "height": 34
        }
      },
      "source": [
        "y_train.shape"
      ],
      "execution_count": 22,
      "outputs": [
        {
          "output_type": "execute_result",
          "data": {
            "text/plain": [
              "(1361,)"
            ]
          },
          "metadata": {
            "tags": []
          },
          "execution_count": 22
        }
      ]
    },
    {
      "cell_type": "code",
      "metadata": {
        "id": "q7mhLr-1qfTx",
        "outputId": "db4a2590-aa93-4e4f-848b-3375daceea9a",
        "colab": {
          "base_uri": "https://localhost:8080/",
          "height": 34
        }
      },
      "source": [
        "y_test.shape"
      ],
      "execution_count": 23,
      "outputs": [
        {
          "output_type": "execute_result",
          "data": {
            "text/plain": [
              "(350, 4)"
            ]
          },
          "metadata": {
            "tags": []
          },
          "execution_count": 23
        }
      ]
    },
    {
      "cell_type": "code",
      "metadata": {
        "id": "O_q4Vg6XqkBn"
      },
      "source": [
        "win_length=30\n",
        "batch_size=32\n",
        "num_features = 4\n",
        "train_generator = TimeseriesGenerator(x_train,y_train,length=win_length,sampling_rate=1,batch_size=batch_size)\n",
        "test_generator = TimeseriesGenerator(x_test,y_test,length=win_length,sampling_rate=1,batch_size=batch_size)"
      ],
      "execution_count": 24,
      "outputs": []
    },
    {
      "cell_type": "code",
      "metadata": {
        "id": "TVc28erorZ9r",
        "outputId": "4367e3c8-46f7-43cf-ed2d-b201e039e9f8",
        "colab": {
          "base_uri": "https://localhost:8080/",
          "height": 969
        }
      },
      "source": [
        "train_generator[0]"
      ],
      "execution_count": 25,
      "outputs": [
        {
          "output_type": "execute_result",
          "data": {
            "text/plain": [
              "(array([[[0.32937069, 0.43733154, 0.64696883, 0.23160661],\n",
              "         [0.16980313, 0.56981132, 0.59189138, 0.44707207],\n",
              "         [0.14682268, 0.63598383, 0.5329891 , 0.41028529],\n",
              "         ...,\n",
              "         [0.573583  , 0.57574124, 0.66112067, 0.3033033 ],\n",
              "         [0.45022295, 0.75687332, 0.36335819, 0.13588589],\n",
              "         [0.26279933, 0.58490566, 0.46739338, 0.25675676]],\n",
              " \n",
              "        [[0.16980313, 0.56981132, 0.59189138, 0.44707207],\n",
              "         [0.14682268, 0.63598383, 0.5329891 , 0.41028529],\n",
              "         [0.30199032, 0.69393531, 0.51826353, 0.34647147],\n",
              "         ...,\n",
              "         [0.45022295, 0.75687332, 0.36335819, 0.13588589],\n",
              "         [0.26279933, 0.58490566, 0.46739338, 0.25675676],\n",
              "         [0.18916989, 0.69743935, 0.43736852, 0.28415916]],\n",
              " \n",
              "        [[0.14682268, 0.63598383, 0.5329891 , 0.41028529],\n",
              "         [0.30199032, 0.69393531, 0.51826353, 0.34647147],\n",
              "         [0.38311606, 0.6041779 , 0.5459935 , 0.13250751],\n",
              "         ...,\n",
              "         [0.26279933, 0.58490566, 0.46739338, 0.25675676],\n",
              "         [0.18916989, 0.69743935, 0.43736852, 0.28415916],\n",
              "         [0.4035252 , 0.61226415, 0.48689998, 0.19557057]],\n",
              " \n",
              "        ...,\n",
              " \n",
              "        [[0.26279933, 0.58490566, 0.46739338, 0.25675676],\n",
              "         [0.18916989, 0.69743935, 0.43736852, 0.28415916],\n",
              "         [0.4035252 , 0.61226415, 0.48689998, 0.19557057],\n",
              "         ...,\n",
              "         [0.43807614, 0.49716981, 0.52380952, 0.3246997 ],\n",
              "         [0.29747106, 0.53814016, 0.57200229, 0.24887387],\n",
              "         [0.24179219, 0.57735849, 0.55115701, 0.30217718]],\n",
              " \n",
              "        [[0.18916989, 0.69743935, 0.43736852, 0.28415916],\n",
              "         [0.4035252 , 0.61226415, 0.48689998, 0.19557057],\n",
              "         [0.57147132, 0.50363881, 0.63128705, 0.18168168],\n",
              "         ...,\n",
              "         [0.29747106, 0.53814016, 0.57200229, 0.24887387],\n",
              "         [0.24179219, 0.57735849, 0.55115701, 0.30217718],\n",
              "         [0.47108412, 0.56091644, 0.56855995, 0.26351351]],\n",
              " \n",
              "        [[0.4035252 , 0.61226415, 0.48689998, 0.19557057],\n",
              "         [0.57147132, 0.50363881, 0.63128705, 0.18168168],\n",
              "         [0.43829283, 0.68328841, 0.51635112, 0.5228979 ],\n",
              "         ...,\n",
              "         [0.24179219, 0.57735849, 0.55115701, 0.30217718],\n",
              "         [0.47108412, 0.56091644, 0.56855995, 0.26351351],\n",
              "         [0.63849119, 0.27857143, 0.69994263, 0.20495495]]]),\n",
              " array([0.18916989, 0.4035252 , 0.57147132, 0.43829283, 0.40702954,\n",
              "        0.48195924, 0.45164652, 0.45982563, 0.51698371, 0.53970522,\n",
              "        0.55131983, 0.53657903, 0.56979254, 0.41778686, 0.22522768,\n",
              "        0.41805953, 0.3736309 , 0.40191246, 0.47767725, 0.44293504,\n",
              "        0.24330838, 0.26636422, 0.53101022, 0.83953838, 0.7868801 ,\n",
              "        0.61910719, 0.43807614, 0.29747106, 0.24179219, 0.47108412,\n",
              "        0.63849119, 0.70230225]))"
            ]
          },
          "metadata": {
            "tags": []
          },
          "execution_count": 25
        }
      ]
    },
    {
      "cell_type": "code",
      "metadata": {
        "id": "Z0nwnWjOraAh"
      },
      "source": [
        "model = tf.keras.Sequential()\n",
        "model.add(tf.keras.layers.LSTM(128, input_shape= (win_length,num_features), return_sequences=True))\n",
        "model.add(tf.keras.layers.LeakyReLU(alpha=0.5))\n",
        "model.add(tf.keras.layers.LSTM(128, return_sequences=True))\n",
        "model.add(tf.keras.layers.LeakyReLU(alpha=0.5))\n",
        "model.add(tf.keras.layers.Dropout(0.3))\n",
        "model.add(tf.keras.layers.LSTM(64, return_sequences=False))\n",
        "model.add(tf.keras.layers.Dropout(0.3))\n",
        "model.add(tf.keras.layers.Dense(1))\n"
      ],
      "execution_count": 26,
      "outputs": []
    },
    {
      "cell_type": "code",
      "metadata": {
        "id": "tkuCD88draDI",
        "outputId": "3689ad28-09da-47e8-d2ab-d18d9144ed1e",
        "colab": {
          "base_uri": "https://localhost:8080/",
          "height": 425
        }
      },
      "source": [
        "model.summary()"
      ],
      "execution_count": 27,
      "outputs": [
        {
          "output_type": "stream",
          "text": [
            "Model: \"sequential\"\n",
            "_________________________________________________________________\n",
            "Layer (type)                 Output Shape              Param #   \n",
            "=================================================================\n",
            "lstm (LSTM)                  (None, 30, 128)           68096     \n",
            "_________________________________________________________________\n",
            "leaky_re_lu (LeakyReLU)      (None, 30, 128)           0         \n",
            "_________________________________________________________________\n",
            "lstm_1 (LSTM)                (None, 30, 128)           131584    \n",
            "_________________________________________________________________\n",
            "leaky_re_lu_1 (LeakyReLU)    (None, 30, 128)           0         \n",
            "_________________________________________________________________\n",
            "dropout (Dropout)            (None, 30, 128)           0         \n",
            "_________________________________________________________________\n",
            "lstm_2 (LSTM)                (None, 64)                49408     \n",
            "_________________________________________________________________\n",
            "dropout_1 (Dropout)          (None, 64)                0         \n",
            "_________________________________________________________________\n",
            "dense (Dense)                (None, 1)                 65        \n",
            "=================================================================\n",
            "Total params: 249,153\n",
            "Trainable params: 249,153\n",
            "Non-trainable params: 0\n",
            "_________________________________________________________________\n"
          ],
          "name": "stdout"
        }
      ]
    },
    {
      "cell_type": "code",
      "metadata": {
        "id": "mUr89h0GtG3s",
        "outputId": "f15b478c-d817-4718-dfef-ad92016f139f",
        "colab": {
          "base_uri": "https://localhost:8080/",
          "height": 1000
        }
      },
      "source": [
        "# early_stopping = tf.keras.callbacks.EarlyStopping(monitor='val_loss',\n",
        "#                                                   patience=2,\n",
        "#                                                   mode='min')\n",
        "\n",
        "model.compile(loss=tf.losses.MeanSquaredError(),\n",
        "              optimizer = tf.optimizers.Adam(),\n",
        "              metrics=[tf.metrics.MeanAbsoluteError()])\n",
        "\n",
        "history = model.fit_generator(train_generator, epochs=50, validation_data=test_generator, shuffle=False)#])#, callbacks=[early_stopping])"
      ],
      "execution_count": 28,
      "outputs": [
        {
          "output_type": "stream",
          "text": [
            "WARNING:tensorflow:From <ipython-input-28-68d8066c8c4f>:9: Model.fit_generator (from tensorflow.python.keras.engine.training) is deprecated and will be removed in a future version.\n",
            "Instructions for updating:\n",
            "Please use Model.fit, which supports generators.\n",
            "Epoch 1/50\n",
            "42/42 [==============================] - 5s 117ms/step - loss: 0.0373 - mean_absolute_error: 0.1520 - val_loss: 0.0555 - val_mean_absolute_error: 0.1955\n",
            "Epoch 2/50\n",
            "42/42 [==============================] - 4s 86ms/step - loss: 0.0256 - mean_absolute_error: 0.1243 - val_loss: 0.0546 - val_mean_absolute_error: 0.1960\n",
            "Epoch 3/50\n",
            "42/42 [==============================] - 4s 88ms/step - loss: 0.0251 - mean_absolute_error: 0.1227 - val_loss: 0.0548 - val_mean_absolute_error: 0.1955\n",
            "Epoch 4/50\n",
            "42/42 [==============================] - 4s 87ms/step - loss: 0.0256 - mean_absolute_error: 0.1248 - val_loss: 0.0561 - val_mean_absolute_error: 0.1952\n",
            "Epoch 5/50\n",
            "42/42 [==============================] - 4s 87ms/step - loss: 0.0251 - mean_absolute_error: 0.1239 - val_loss: 0.0576 - val_mean_absolute_error: 0.1964\n",
            "Epoch 6/50\n",
            "42/42 [==============================] - 4s 88ms/step - loss: 0.0258 - mean_absolute_error: 0.1263 - val_loss: 0.0592 - val_mean_absolute_error: 0.1981\n",
            "Epoch 7/50\n",
            "42/42 [==============================] - 4s 88ms/step - loss: 0.0250 - mean_absolute_error: 0.1241 - val_loss: 0.0583 - val_mean_absolute_error: 0.1970\n",
            "Epoch 8/50\n",
            "42/42 [==============================] - 4s 87ms/step - loss: 0.0242 - mean_absolute_error: 0.1215 - val_loss: 0.0587 - val_mean_absolute_error: 0.1972\n",
            "Epoch 9/50\n",
            "42/42 [==============================] - 4s 88ms/step - loss: 0.0233 - mean_absolute_error: 0.1197 - val_loss: 0.0592 - val_mean_absolute_error: 0.1977\n",
            "Epoch 10/50\n",
            "42/42 [==============================] - 4s 88ms/step - loss: 0.0227 - mean_absolute_error: 0.1187 - val_loss: 0.0594 - val_mean_absolute_error: 0.1985\n",
            "Epoch 11/50\n",
            "42/42 [==============================] - 4s 90ms/step - loss: 0.0236 - mean_absolute_error: 0.1211 - val_loss: 0.0589 - val_mean_absolute_error: 0.1970\n",
            "Epoch 12/50\n",
            "42/42 [==============================] - 4s 87ms/step - loss: 0.0234 - mean_absolute_error: 0.1201 - val_loss: 0.0592 - val_mean_absolute_error: 0.1973\n",
            "Epoch 13/50\n",
            "42/42 [==============================] - 4s 87ms/step - loss: 0.0225 - mean_absolute_error: 0.1181 - val_loss: 0.0595 - val_mean_absolute_error: 0.1988\n",
            "Epoch 14/50\n",
            "42/42 [==============================] - 4s 88ms/step - loss: 0.0215 - mean_absolute_error: 0.1138 - val_loss: 0.0585 - val_mean_absolute_error: 0.1971\n",
            "Epoch 15/50\n",
            "42/42 [==============================] - 4s 88ms/step - loss: 0.0217 - mean_absolute_error: 0.1156 - val_loss: 0.0587 - val_mean_absolute_error: 0.1970\n",
            "Epoch 16/50\n",
            "42/42 [==============================] - 4s 88ms/step - loss: 0.0229 - mean_absolute_error: 0.1192 - val_loss: 0.0594 - val_mean_absolute_error: 0.1979\n",
            "Epoch 17/50\n",
            "42/42 [==============================] - 4s 88ms/step - loss: 0.0217 - mean_absolute_error: 0.1153 - val_loss: 0.0605 - val_mean_absolute_error: 0.1997\n",
            "Epoch 18/50\n",
            "42/42 [==============================] - 4s 88ms/step - loss: 0.0211 - mean_absolute_error: 0.1142 - val_loss: 0.0616 - val_mean_absolute_error: 0.2012\n",
            "Epoch 19/50\n",
            "42/42 [==============================] - 4s 88ms/step - loss: 0.0216 - mean_absolute_error: 0.1154 - val_loss: 0.0608 - val_mean_absolute_error: 0.2001\n",
            "Epoch 20/50\n",
            "42/42 [==============================] - 4s 88ms/step - loss: 0.0217 - mean_absolute_error: 0.1159 - val_loss: 0.0601 - val_mean_absolute_error: 0.1987\n",
            "Epoch 21/50\n",
            "42/42 [==============================] - 4s 89ms/step - loss: 0.0216 - mean_absolute_error: 0.1152 - val_loss: 0.0596 - val_mean_absolute_error: 0.1986\n",
            "Epoch 22/50\n",
            "42/42 [==============================] - 4s 89ms/step - loss: 0.0211 - mean_absolute_error: 0.1149 - val_loss: 0.0600 - val_mean_absolute_error: 0.1989\n",
            "Epoch 23/50\n",
            "42/42 [==============================] - 4s 89ms/step - loss: 0.0207 - mean_absolute_error: 0.1135 - val_loss: 0.0606 - val_mean_absolute_error: 0.2000\n",
            "Epoch 24/50\n",
            "42/42 [==============================] - 4s 88ms/step - loss: 0.0208 - mean_absolute_error: 0.1133 - val_loss: 0.0612 - val_mean_absolute_error: 0.2007\n",
            "Epoch 25/50\n",
            "42/42 [==============================] - 4s 88ms/step - loss: 0.0212 - mean_absolute_error: 0.1150 - val_loss: 0.0613 - val_mean_absolute_error: 0.2014\n",
            "Epoch 26/50\n",
            "42/42 [==============================] - 4s 88ms/step - loss: 0.0204 - mean_absolute_error: 0.1118 - val_loss: 0.0620 - val_mean_absolute_error: 0.2021\n",
            "Epoch 27/50\n",
            "42/42 [==============================] - 4s 88ms/step - loss: 0.0204 - mean_absolute_error: 0.1123 - val_loss: 0.0622 - val_mean_absolute_error: 0.2024\n",
            "Epoch 28/50\n",
            "42/42 [==============================] - 4s 90ms/step - loss: 0.0209 - mean_absolute_error: 0.1134 - val_loss: 0.0610 - val_mean_absolute_error: 0.2000\n",
            "Epoch 29/50\n",
            "42/42 [==============================] - 4s 93ms/step - loss: 0.0206 - mean_absolute_error: 0.1123 - val_loss: 0.0607 - val_mean_absolute_error: 0.1996\n",
            "Epoch 30/50\n",
            "42/42 [==============================] - 4s 93ms/step - loss: 0.0211 - mean_absolute_error: 0.1147 - val_loss: 0.0612 - val_mean_absolute_error: 0.2008\n",
            "Epoch 31/50\n",
            "42/42 [==============================] - 4s 90ms/step - loss: 0.0207 - mean_absolute_error: 0.1134 - val_loss: 0.0610 - val_mean_absolute_error: 0.2007\n",
            "Epoch 32/50\n",
            "42/42 [==============================] - 4s 89ms/step - loss: 0.0203 - mean_absolute_error: 0.1117 - val_loss: 0.0628 - val_mean_absolute_error: 0.2033\n",
            "Epoch 33/50\n",
            "42/42 [==============================] - 4s 91ms/step - loss: 0.0199 - mean_absolute_error: 0.1115 - val_loss: 0.0629 - val_mean_absolute_error: 0.2036\n",
            "Epoch 34/50\n",
            "42/42 [==============================] - 4s 89ms/step - loss: 0.0203 - mean_absolute_error: 0.1124 - val_loss: 0.0630 - val_mean_absolute_error: 0.2039\n",
            "Epoch 35/50\n",
            "42/42 [==============================] - 4s 87ms/step - loss: 0.0203 - mean_absolute_error: 0.1129 - val_loss: 0.0613 - val_mean_absolute_error: 0.2011\n",
            "Epoch 36/50\n",
            "42/42 [==============================] - 4s 89ms/step - loss: 0.0206 - mean_absolute_error: 0.1133 - val_loss: 0.0614 - val_mean_absolute_error: 0.2011\n",
            "Epoch 37/50\n",
            "42/42 [==============================] - 4s 88ms/step - loss: 0.0203 - mean_absolute_error: 0.1123 - val_loss: 0.0615 - val_mean_absolute_error: 0.2017\n",
            "Epoch 38/50\n",
            "42/42 [==============================] - 4s 88ms/step - loss: 0.0196 - mean_absolute_error: 0.1100 - val_loss: 0.0617 - val_mean_absolute_error: 0.2020\n",
            "Epoch 39/50\n",
            "42/42 [==============================] - 4s 89ms/step - loss: 0.0198 - mean_absolute_error: 0.1106 - val_loss: 0.0626 - val_mean_absolute_error: 0.2031\n",
            "Epoch 40/50\n",
            "42/42 [==============================] - 4s 88ms/step - loss: 0.0193 - mean_absolute_error: 0.1092 - val_loss: 0.0619 - val_mean_absolute_error: 0.2025\n",
            "Epoch 41/50\n",
            "42/42 [==============================] - 4s 89ms/step - loss: 0.0191 - mean_absolute_error: 0.1091 - val_loss: 0.0615 - val_mean_absolute_error: 0.2018\n",
            "Epoch 42/50\n",
            "42/42 [==============================] - 4s 89ms/step - loss: 0.0194 - mean_absolute_error: 0.1107 - val_loss: 0.0629 - val_mean_absolute_error: 0.2041\n",
            "Epoch 43/50\n",
            "42/42 [==============================] - 4s 90ms/step - loss: 0.0197 - mean_absolute_error: 0.1109 - val_loss: 0.0625 - val_mean_absolute_error: 0.2037\n",
            "Epoch 44/50\n",
            "42/42 [==============================] - 4s 89ms/step - loss: 0.0196 - mean_absolute_error: 0.1104 - val_loss: 0.0624 - val_mean_absolute_error: 0.2032\n",
            "Epoch 45/50\n",
            "42/42 [==============================] - 4s 90ms/step - loss: 0.0194 - mean_absolute_error: 0.1106 - val_loss: 0.0627 - val_mean_absolute_error: 0.2035\n",
            "Epoch 46/50\n",
            "42/42 [==============================] - 4s 89ms/step - loss: 0.0192 - mean_absolute_error: 0.1091 - val_loss: 0.0636 - val_mean_absolute_error: 0.2051\n",
            "Epoch 47/50\n",
            "42/42 [==============================] - 4s 89ms/step - loss: 0.0191 - mean_absolute_error: 0.1098 - val_loss: 0.0637 - val_mean_absolute_error: 0.2049\n",
            "Epoch 48/50\n",
            "42/42 [==============================] - 4s 89ms/step - loss: 0.0183 - mean_absolute_error: 0.1077 - val_loss: 0.0616 - val_mean_absolute_error: 0.2020\n",
            "Epoch 49/50\n",
            "42/42 [==============================] - 4s 91ms/step - loss: 0.0181 - mean_absolute_error: 0.1064 - val_loss: 0.0620 - val_mean_absolute_error: 0.2030\n",
            "Epoch 50/50\n",
            "42/42 [==============================] - 4s 91ms/step - loss: 0.0176 - mean_absolute_error: 0.1057 - val_loss: 0.0619 - val_mean_absolute_error: 0.2026\n"
          ],
          "name": "stdout"
        }
      ]
    },
    {
      "cell_type": "code",
      "metadata": {
        "id": "TKEHURS6raFv",
        "outputId": "a8276d2f-7ad5-4367-f78a-74ef322f652f",
        "colab": {
          "base_uri": "https://localhost:8080/",
          "height": 105
        }
      },
      "source": [
        "model.evaluate_generator(test_generator, verbose=0)"
      ],
      "execution_count": 29,
      "outputs": [
        {
          "output_type": "stream",
          "text": [
            "WARNING:tensorflow:From <ipython-input-29-a68ec1088d46>:1: Model.evaluate_generator (from tensorflow.python.keras.engine.training) is deprecated and will be removed in a future version.\n",
            "Instructions for updating:\n",
            "Please use Model.evaluate, which supports generators.\n"
          ],
          "name": "stdout"
        },
        {
          "output_type": "execute_result",
          "data": {
            "text/plain": [
              "[0.06192890554666519, 0.20255276560783386]"
            ]
          },
          "metadata": {
            "tags": []
          },
          "execution_count": 29
        }
      ]
    },
    {
      "cell_type": "code",
      "metadata": {
        "id": "vKLBLA8WraIL",
        "outputId": "6ba5d623-61b9-4532-ae49-5ec2bed5caab",
        "colab": {
          "base_uri": "https://localhost:8080/",
          "height": 88
        }
      },
      "source": [
        "predictions = model.predict_generator(test_generator)"
      ],
      "execution_count": 30,
      "outputs": [
        {
          "output_type": "stream",
          "text": [
            "WARNING:tensorflow:From <ipython-input-30-9068eb02ed61>:1: Model.predict_generator (from tensorflow.python.keras.engine.training) is deprecated and will be removed in a future version.\n",
            "Instructions for updating:\n",
            "Please use Model.predict, which supports generators.\n"
          ],
          "name": "stdout"
        }
      ]
    },
    {
      "cell_type": "code",
      "metadata": {
        "id": "afzKvwVVraKz",
        "outputId": "846db2a3-9d23-450e-8cce-bdadb3ef9d6d",
        "colab": {
          "base_uri": "https://localhost:8080/",
          "height": 34
        }
      },
      "source": [
        "predictions.shape[0]"
      ],
      "execution_count": 31,
      "outputs": [
        {
          "output_type": "execute_result",
          "data": {
            "text/plain": [
              "320"
            ]
          },
          "metadata": {
            "tags": []
          },
          "execution_count": 31
        }
      ]
    },
    {
      "cell_type": "code",
      "metadata": {
        "id": "uL7d8XVQraNF",
        "outputId": "4eee64fe-85d8-4017-fea6-2fe829a27765",
        "colab": {
          "base_uri": "https://localhost:8080/",
          "height": 1000
        }
      },
      "source": [
        "predictions"
      ],
      "execution_count": 32,
      "outputs": [
        {
          "output_type": "execute_result",
          "data": {
            "text/plain": [
              "array([[0.35003167],\n",
              "       [0.35519913],\n",
              "       [0.33212513],\n",
              "       [0.2802279 ],\n",
              "       [0.24483703],\n",
              "       [0.26030743],\n",
              "       [0.30553788],\n",
              "       [0.32423425],\n",
              "       [0.34043893],\n",
              "       [0.31811568],\n",
              "       [0.3026468 ],\n",
              "       [0.2621163 ],\n",
              "       [0.24398263],\n",
              "       [0.2541129 ],\n",
              "       [0.24550056],\n",
              "       [0.22427228],\n",
              "       [0.22086357],\n",
              "       [0.23777848],\n",
              "       [0.25150448],\n",
              "       [0.266541  ],\n",
              "       [0.26572332],\n",
              "       [0.26378238],\n",
              "       [0.28573328],\n",
              "       [0.302507  ],\n",
              "       [0.31218258],\n",
              "       [0.3094394 ],\n",
              "       [0.310326  ],\n",
              "       [0.32275885],\n",
              "       [0.32910421],\n",
              "       [0.32995808],\n",
              "       [0.31149632],\n",
              "       [0.291072  ],\n",
              "       [0.27135885],\n",
              "       [0.27962592],\n",
              "       [0.3098718 ],\n",
              "       [0.25962514],\n",
              "       [0.26222432],\n",
              "       [0.27837396],\n",
              "       [0.285006  ],\n",
              "       [0.24331039],\n",
              "       [0.20945764],\n",
              "       [0.20926607],\n",
              "       [0.21716015],\n",
              "       [0.23835906],\n",
              "       [0.25377026],\n",
              "       [0.25950894],\n",
              "       [0.25965774],\n",
              "       [0.27341712],\n",
              "       [0.32109624],\n",
              "       [0.29173365],\n",
              "       [0.27327448],\n",
              "       [0.26459968],\n",
              "       [0.26484084],\n",
              "       [0.2697385 ],\n",
              "       [0.2752781 ],\n",
              "       [0.3031389 ],\n",
              "       [0.34921637],\n",
              "       [0.43821418],\n",
              "       [0.3639794 ],\n",
              "       [0.44219536],\n",
              "       [0.2671324 ],\n",
              "       [0.24313185],\n",
              "       [0.29437417],\n",
              "       [0.31982017],\n",
              "       [0.33917174],\n",
              "       [0.30946863],\n",
              "       [0.33824906],\n",
              "       [0.3381852 ],\n",
              "       [0.36700585],\n",
              "       [0.36037463],\n",
              "       [0.21498504],\n",
              "       [0.2271261 ],\n",
              "       [0.24428323],\n",
              "       [0.2561571 ],\n",
              "       [0.2983744 ],\n",
              "       [0.3564872 ],\n",
              "       [0.46169266],\n",
              "       [0.48695168],\n",
              "       [0.3057933 ],\n",
              "       [0.25937143],\n",
              "       [0.26822925],\n",
              "       [0.31580505],\n",
              "       [0.34775862],\n",
              "       [0.40611875],\n",
              "       [0.4104457 ],\n",
              "       [0.33022138],\n",
              "       [0.29658774],\n",
              "       [0.34434065],\n",
              "       [0.3721226 ],\n",
              "       [0.32853243],\n",
              "       [0.380798  ],\n",
              "       [0.3971371 ],\n",
              "       [0.28730458],\n",
              "       [0.27873662],\n",
              "       [0.36143982],\n",
              "       [0.3653334 ],\n",
              "       [0.30551118],\n",
              "       [0.3087213 ],\n",
              "       [0.30803105],\n",
              "       [0.30420813],\n",
              "       [0.32007152],\n",
              "       [0.36922193],\n",
              "       [0.36644784],\n",
              "       [0.29427868],\n",
              "       [0.27185336],\n",
              "       [0.27913293],\n",
              "       [0.28523177],\n",
              "       [0.28140554],\n",
              "       [0.27672926],\n",
              "       [0.2821012 ],\n",
              "       [0.31218693],\n",
              "       [0.32752743],\n",
              "       [0.2899958 ],\n",
              "       [0.26224232],\n",
              "       [0.25344825],\n",
              "       [0.25937155],\n",
              "       [0.29786563],\n",
              "       [0.31745148],\n",
              "       [0.30743968],\n",
              "       [0.27192515],\n",
              "       [0.2517654 ],\n",
              "       [0.2633405 ],\n",
              "       [0.2982345 ],\n",
              "       [0.3127494 ],\n",
              "       [0.32338646],\n",
              "       [0.33844084],\n",
              "       [0.2982205 ],\n",
              "       [0.2895023 ],\n",
              "       [0.27985007],\n",
              "       [0.29156104],\n",
              "       [0.3081365 ],\n",
              "       [0.29844478],\n",
              "       [0.2956022 ],\n",
              "       [0.3023947 ],\n",
              "       [0.2680477 ],\n",
              "       [0.24601181],\n",
              "       [0.2715272 ],\n",
              "       [0.2941407 ],\n",
              "       [0.2970299 ],\n",
              "       [0.29552928],\n",
              "       [0.26309016],\n",
              "       [0.24315397],\n",
              "       [0.25400394],\n",
              "       [0.30042902],\n",
              "       [0.33561742],\n",
              "       [0.34137744],\n",
              "       [0.34909365],\n",
              "       [0.33565956],\n",
              "       [0.32316804],\n",
              "       [0.3421828 ],\n",
              "       [0.35624304],\n",
              "       [0.35600978],\n",
              "       [0.33409655],\n",
              "       [0.32955492],\n",
              "       [0.3267222 ],\n",
              "       [0.3344965 ],\n",
              "       [0.3340125 ],\n",
              "       [0.33016366],\n",
              "       [0.33607325],\n",
              "       [0.34392303],\n",
              "       [0.34108824],\n",
              "       [0.33114642],\n",
              "       [0.31696442],\n",
              "       [0.3172596 ],\n",
              "       [0.34213102],\n",
              "       [0.34641176],\n",
              "       [0.3588917 ],\n",
              "       [0.3680405 ],\n",
              "       [0.37797886],\n",
              "       [0.38517514],\n",
              "       [0.40015116],\n",
              "       [0.43363127],\n",
              "       [0.4382301 ],\n",
              "       [0.4233137 ],\n",
              "       [0.39971298],\n",
              "       [0.39539203],\n",
              "       [0.40172726],\n",
              "       [0.41254413],\n",
              "       [0.42779753],\n",
              "       [0.42317525],\n",
              "       [0.43234447],\n",
              "       [0.44125995],\n",
              "       [0.44576055],\n",
              "       [0.42104214],\n",
              "       [0.41253498],\n",
              "       [0.41692957],\n",
              "       [0.40996253],\n",
              "       [0.40761113],\n",
              "       [0.42738423],\n",
              "       [0.44377753],\n",
              "       [0.43701768],\n",
              "       [0.43045872],\n",
              "       [0.4492182 ],\n",
              "       [0.46167985],\n",
              "       [0.45361072],\n",
              "       [0.4536065 ],\n",
              "       [0.44548213],\n",
              "       [0.41281974],\n",
              "       [0.4026249 ],\n",
              "       [0.43198237],\n",
              "       [0.45878643],\n",
              "       [0.46587044],\n",
              "       [0.477199  ],\n",
              "       [0.48858333],\n",
              "       [0.48381272],\n",
              "       [0.4777446 ],\n",
              "       [0.48480415],\n",
              "       [0.51075697],\n",
              "       [0.5093931 ],\n",
              "       [0.5167137 ],\n",
              "       [0.49871334],\n",
              "       [0.4525139 ],\n",
              "       [0.43144202],\n",
              "       [0.44174302],\n",
              "       [0.45403802],\n",
              "       [0.48451576],\n",
              "       [0.48080245],\n",
              "       [0.4498728 ],\n",
              "       [0.43504694],\n",
              "       [0.45371258],\n",
              "       [0.47159892],\n",
              "       [0.4759735 ],\n",
              "       [0.48124835],\n",
              "       [0.47301948],\n",
              "       [0.48765218],\n",
              "       [0.49131492],\n",
              "       [0.49711102],\n",
              "       [0.5181972 ],\n",
              "       [0.5032825 ],\n",
              "       [0.4750939 ],\n",
              "       [0.48145956],\n",
              "       [0.51714647],\n",
              "       [0.51374626],\n",
              "       [0.50839967],\n",
              "       [0.5277324 ],\n",
              "       [0.54369545],\n",
              "       [0.5448354 ],\n",
              "       [0.52469   ],\n",
              "       [0.51668   ],\n",
              "       [0.51249945],\n",
              "       [0.49447903],\n",
              "       [0.49614313],\n",
              "       [0.5034244 ],\n",
              "       [0.5137331 ],\n",
              "       [0.5339031 ],\n",
              "       [0.5345327 ],\n",
              "       [0.4941427 ],\n",
              "       [0.4682393 ],\n",
              "       [0.49478388],\n",
              "       [0.52665645],\n",
              "       [0.53639233],\n",
              "       [0.54951584],\n",
              "       [0.5342474 ],\n",
              "       [0.5275825 ],\n",
              "       [0.518759  ],\n",
              "       [0.51010764],\n",
              "       [0.51326483],\n",
              "       [0.51443243],\n",
              "       [0.5126532 ],\n",
              "       [0.507732  ],\n",
              "       [0.44731176],\n",
              "       [0.4326887 ],\n",
              "       [0.45536673],\n",
              "       [0.4737773 ],\n",
              "       [0.48183298],\n",
              "       [0.4977131 ],\n",
              "       [0.51019984],\n",
              "       [0.49093926],\n",
              "       [0.48189652],\n",
              "       [0.49613696],\n",
              "       [0.5003524 ],\n",
              "       [0.49274948],\n",
              "       [0.48386377],\n",
              "       [0.48592964],\n",
              "       [0.4729588 ],\n",
              "       [0.45624927],\n",
              "       [0.45652348],\n",
              "       [0.44376433],\n",
              "       [0.45211822],\n",
              "       [0.44409594],\n",
              "       [0.4446359 ],\n",
              "       [0.45818394],\n",
              "       [0.4671703 ],\n",
              "       [0.4963963 ],\n",
              "       [0.51963145],\n",
              "       [0.512605  ],\n",
              "       [0.47848627],\n",
              "       [0.47586423],\n",
              "       [0.44909668],\n",
              "       [0.4303258 ],\n",
              "       [0.45572573],\n",
              "       [0.46002984],\n",
              "       [0.42903423],\n",
              "       [0.39910656],\n",
              "       [0.3937932 ],\n",
              "       [0.38173196],\n",
              "       [0.35845268],\n",
              "       [0.33036914],\n",
              "       [0.32789207],\n",
              "       [0.33659443],\n",
              "       [0.33741826],\n",
              "       [0.32307824],\n",
              "       [0.32582644],\n",
              "       [0.32264864],\n",
              "       [0.33140108],\n",
              "       [0.34852833],\n",
              "       [0.34113914],\n",
              "       [0.347717  ],\n",
              "       [0.35297698],\n",
              "       [0.32369643],\n",
              "       [0.29851407],\n",
              "       [0.3010299 ],\n",
              "       [0.3074373 ],\n",
              "       [0.33089915],\n",
              "       [0.35088652],\n",
              "       [0.3795275 ],\n",
              "       [0.37722582],\n",
              "       [0.37708658],\n",
              "       [0.39262524],\n",
              "       [0.39403582]], dtype=float32)"
            ]
          },
          "metadata": {
            "tags": []
          },
          "execution_count": 32
        }
      ]
    },
    {
      "cell_type": "code",
      "metadata": {
        "id": "R2T_Wak8u45F",
        "outputId": "a571899d-d0dc-4e0d-f8cb-e1e6335961b0",
        "colab": {
          "base_uri": "https://localhost:8080/",
          "height": 136
        }
      },
      "source": [
        "y_test"
      ],
      "execution_count": 34,
      "outputs": [
        {
          "output_type": "execute_result",
          "data": {
            "text/plain": [
              "array([[0.42974217, 0.7361186 , 0.18512144, 0.3506006 ],\n",
              "       [0.47561021, 0.72991914, 0.18569516, 0.30405405],\n",
              "       [0.45826087, 0.72425876, 0.23388793, 0.16103604],\n",
              "       ...,\n",
              "       [0.3454529 , 0.70619946, 0.15720023, 0.19481982],\n",
              "       [0.31536061, 0.67008086, 0.2314018 , 0.35247748],\n",
              "       [0.33340362, 0.8245283 , 0.30981067, 0.5762012 ]])"
            ]
          },
          "metadata": {
            "tags": []
          },
          "execution_count": 34
        }
      ]
    },
    {
      "cell_type": "code",
      "metadata": {
        "id": "5seUrgRNu7T9",
        "outputId": "85c20f4b-3bad-47f4-871f-a9e08fc5e88b",
        "colab": {
          "base_uri": "https://localhost:8080/",
          "height": 1000
        }
      },
      "source": [
        "x_test[:,1:][win_length:]"
      ],
      "execution_count": 35,
      "outputs": [
        {
          "output_type": "execute_result",
          "data": {
            "text/plain": [
              "array([[0.24797844, 0.54580226, 0.13325826],\n",
              "       [0.13638814, 0.65155862, 0.53303303],\n",
              "       [0.30795148, 0.44846051, 0.72785285],\n",
              "       [0.58598383, 0.22241346, 0.70683183],\n",
              "       [0.65188679, 0.26678141, 0.3734985 ],\n",
              "       [0.41522911, 0.38248231, 0.09421922],\n",
              "       [0.16913747, 0.53012048, 0.27252252],\n",
              "       [0.24892183, 0.60585198, 0.25075075],\n",
              "       [0.17196765, 0.70414993, 0.61786787],\n",
              "       [0.24326146, 0.72231784, 0.71734234],\n",
              "       [0.71091644, 0.51424747, 0.3765015 ],\n",
              "       [0.60849057, 0.4540065 , 0.31043544],\n",
              "       [0.71752022, 0.24268503, 0.27552553],\n",
              "       [0.45390836, 0.30828074, 0.31493994],\n",
              "       [0.4171159 , 0.40084146, 0.71734234],\n",
              "       [0.61037736, 0.32243259, 0.77402402],\n",
              "       [0.72318059, 0.15796519, 0.55142643],\n",
              "       [0.67156334, 0.20462804, 0.6524024 ],\n",
              "       [0.67978437, 0.3438516 , 0.30555556],\n",
              "       [0.25660377, 0.46509849, 0.58821321],\n",
              "       [0.42277628, 0.32071142, 0.73460961],\n",
              "       [0.61644205, 0.26142666, 0.53190691],\n",
              "       [0.58274933, 0.41920061, 0.39902402],\n",
              "       [0.57331536, 0.32874355, 0.48385886],\n",
              "       [0.49245283, 0.28609677, 0.34797297],\n",
              "       [0.53962264, 0.30828074, 0.18656156],\n",
              "       [0.34501348, 0.47045324, 0.16704204],\n",
              "       [0.61361186, 0.40619621, 0.21584084],\n",
              "       [0.22560647, 0.60126219, 0.39602102],\n",
              "       [0.17978437, 0.76840696, 0.85998498],\n",
              "       [0.44299191, 0.41843565, 0.26951952],\n",
              "       [0.46698113, 0.43067508, 0.21133634],\n",
              "       [0.34487871, 0.44693058, 0.10848348],\n",
              "       [0.26765499, 0.53222413, 0.31006006],\n",
              "       [0.59838275, 0.28131574, 0.5548048 ],\n",
              "       [0.29851752, 0.40409256, 0.2515015 ],\n",
              "       [0.44986523, 0.45362402, 0.18843844],\n",
              "       [0.5083558 , 0.48728246, 0.20457958],\n",
              "       [0.5222372 , 0.31975521, 0.24324324],\n",
              "       [0.71859838, 0.25645439, 0.46621622],\n",
              "       [0.58126685, 0.23159304, 0.65990991],\n",
              "       [0.55552561, 0.33945305, 0.76989489],\n",
              "       [0.49339623, 0.410786  , 0.39864865],\n",
              "       [0.51994609, 0.42971888, 0.46171171],\n",
              "       [0.47681941, 0.38783706, 0.50037538],\n",
              "       [0.49083558, 0.39261809, 0.33295796],\n",
              "       [0.37533693, 0.53203289, 0.11261261],\n",
              "       [0.23247978, 0.77318799, 0.47447447],\n",
              "       [0.55727763, 0.38248231, 0.41816817],\n",
              "       [0.55377358, 0.4042838 , 0.39602102],\n",
              "       [0.53396226, 0.40313635, 0.40878378],\n",
              "       [0.55256065, 0.38898451, 0.34534535],\n",
              "       [0.59716981, 0.45917001, 0.22747748],\n",
              "       [0.49460916, 0.47867661, 0.19106607],\n",
              "       [0.5171159 , 0.49837445, 0.20007508],\n",
              "       [0.30539084, 0.60087971, 0.12837838],\n",
              "       [0.09150943, 0.84088736, 0.25675676],\n",
              "       [0.32574124, 0.6022184 , 0.20345345],\n",
              "       [0.        , 0.88716772, 0.39864865],\n",
              "       [0.44838275, 0.48154523, 0.40653153],\n",
              "       [0.4148248 , 0.41212469, 0.37012012],\n",
              "       [0.48140162, 0.45821381, 0.253003  ],\n",
              "       [0.43153639, 0.51367374, 0.33108108],\n",
              "       [0.38638814, 0.63778925, 0.20045045],\n",
              "       [0.51671159, 0.51004016, 0.29204204],\n",
              "       [0.29622642, 0.63625932, 0.14564565],\n",
              "       [0.17156334, 0.79957927, 0.36036036],\n",
              "       [0.25862534, 0.87607573, 0.16291291],\n",
              "       [0.1361186 , 0.96901893, 0.63438438],\n",
              "       [0.38045822, 0.49015108, 0.3536036 ],\n",
              "       [0.48247978, 0.58290304, 0.18130631],\n",
              "       [0.62331536, 0.58997896, 0.17304805],\n",
              "       [0.57385445, 0.54580226, 0.23048048],\n",
              "       [0.51522911, 0.57735705, 0.20157658],\n",
              "       [0.42439353, 0.64084911, 0.15015015],\n",
              "       [0.11576819, 0.84930197, 0.25112613],\n",
              "       [0.25849057, 0.97800727, 0.41403904],\n",
              "       [0.82237197, 0.63530312, 0.29917417],\n",
              "       [0.49946092, 0.52610442, 0.4009009 ],\n",
              "       [0.50579515, 0.36163702, 0.56006006],\n",
              "       [0.47439353, 0.37445018, 0.37912913],\n",
              "       [0.58854447, 0.40715242, 0.32882883],\n",
              "       [0.66266846, 0.56569134, 0.15015015],\n",
              "       [0.74797844, 0.59801109, 0.16066066],\n",
              "       [0.5819407 , 0.67049149, 0.51539039],\n",
              "       [0.56469003, 0.63339071, 0.45983483],\n",
              "       [0.7287062 , 0.65060241, 0.23911411],\n",
              "       [0.7180593 , 0.66035571, 0.16891892],\n",
              "       [0.72425876, 0.64907248, 0.41328829],\n",
              "       [0.61846361, 0.70109007, 0.20795796],\n",
              "       [0.65080863, 0.77777778, 0.21996997],\n",
              "       [0.83787062, 0.49856569, 0.44632132],\n",
              "       [0.68867925, 0.57047237, 0.31043544],\n",
              "       [0.62075472, 0.61809141, 0.18430931],\n",
              "       [0.77493261, 0.5264869 , 0.27965465],\n",
              "       [0.76347709, 0.39797284, 0.65878378],\n",
              "       [0.67587601, 0.37865749, 0.43843844],\n",
              "       [0.65592992, 0.39147064, 0.45307808],\n",
              "       [0.63180593, 0.42532033, 0.28115616],\n",
              "       [0.5796496 , 0.62746223, 0.31456456],\n",
              "       [0.65619946, 0.65041117, 0.19256757],\n",
              "       [0.6416442 , 0.64754255, 0.32432432],\n",
              "       [0.6296496 , 0.34213043, 0.49211712],\n",
              "       [0.57533693, 0.34633773, 0.40878378],\n",
              "       [0.69501348, 0.43220501, 0.29391892],\n",
              "       [0.68719677, 0.49282846, 0.16741742],\n",
              "       [0.51994609, 0.61560528, 0.36636637],\n",
              "       [0.643531  , 0.35283993, 0.45983483],\n",
              "       [0.62196765, 0.38535093, 0.38325826],\n",
              "       [0.76293801, 0.51615988, 0.16929429],\n",
              "       [0.92250674, 0.48689998, 0.14001502],\n",
              "       [0.79474394, 0.41059476, 0.44707207],\n",
              "       [0.79083558, 0.41021228, 0.39714715],\n",
              "       [0.77924528, 0.40944731, 0.39001502],\n",
              "       [0.72196765, 0.35341365, 0.37612613],\n",
              "       [0.73315364, 0.42073054, 0.14039039],\n",
              "       [0.64204852, 0.55421687, 0.30367868],\n",
              "       [0.57884097, 0.59055269, 0.46659159],\n",
              "       [0.63921833, 0.49569707, 0.69932432],\n",
              "       [0.57749326, 0.30445592, 0.54917417],\n",
              "       [0.74784367, 0.34213043, 0.36749249],\n",
              "       [0.61967655, 0.44272327, 0.19932432],\n",
              "       [0.58207547, 0.51845477, 0.46133634],\n",
              "       [0.55148248, 0.63664181, 0.44369369],\n",
              "       [0.54339623, 0.70701855, 0.41028529],\n",
              "       [0.68557951, 0.45152037, 0.50112613],\n",
              "       [0.63854447, 0.38076114, 0.21358859],\n",
              "       [0.70539084, 0.34614649, 0.2774024 ],\n",
              "       [0.64743935, 0.31497418, 0.40990991],\n",
              "       [0.68207547, 0.31860776, 0.26801802],\n",
              "       [0.6925876 , 0.32568369, 0.42905405],\n",
              "       [0.71590296, 0.40141518, 0.25037538],\n",
              "       [0.62951482, 0.48938612, 0.16178679],\n",
              "       [0.53369272, 0.57410595, 0.47635135],\n",
              "       [0.7222372 , 0.52820807, 0.53190691],\n",
              "       [0.69137466, 0.40543125, 0.17267267],\n",
              "       [0.68463612, 0.41021228, 0.13100601],\n",
              "       [0.65700809, 0.44119334, 0.15352853],\n",
              "       [0.88962264, 0.43411742, 0.23723724],\n",
              "       [0.7796496 , 0.45878753, 0.39039039],\n",
              "       [0.81846361, 0.23006311, 0.56869369],\n",
              "       [0.89097035, 0.24039013, 0.65840841],\n",
              "       [0.75566038, 0.25071715, 0.25187688],\n",
              "       [0.75350404, 0.26027921, 0.2256006 ],\n",
              "       [0.87358491, 0.31593039, 0.34534535],\n",
              "       [0.82277628, 0.3545611 , 0.18543544],\n",
              "       [0.83342318, 0.38305603, 0.40915916],\n",
              "       [0.74070081, 0.26238286, 0.81306306],\n",
              "       [0.77520216, 0.25702811, 0.32845345],\n",
              "       [0.74730458, 0.3178428 , 0.18205706],\n",
              "       [0.66118598, 0.40084146, 0.40127628],\n",
              "       [0.62668464, 0.42991012, 0.63851351],\n",
              "       [0.7467655 , 0.32644865, 0.38438438],\n",
              "       [0.77708895, 0.26257411, 0.52515015],\n",
              "       [0.82884097, 0.25549818, 0.28978979],\n",
              "       [0.73045822, 0.26639893, 0.25900901],\n",
              "       [0.7097035 , 0.33065596, 0.54954955],\n",
              "       [0.67318059, 0.29240773, 0.2972973 ],\n",
              "       [0.76846361, 0.30847198, 0.19144144],\n",
              "       [0.80849057, 0.26123542, 0.40765766],\n",
              "       [0.743531  , 0.36641805, 0.37612613],\n",
              "       [0.73126685, 0.34844138, 0.45795796],\n",
              "       [0.80404313, 0.26831134, 0.38551051],\n",
              "       [0.69460916, 0.22336967, 0.1996997 ],\n",
              "       [0.74420485, 0.23484414, 0.48348348],\n",
              "       [0.8958221 , 0.34461656, 0.33183183],\n",
              "       [0.8351752 , 0.1686747 , 0.46021021],\n",
              "       [0.87345013, 0.12717537, 0.84947447],\n",
              "       [0.81401617, 0.18225282, 0.75      ],\n",
              "       [0.78544474, 0.205393  , 0.48648649],\n",
              "       [0.9138814 , 0.22432587, 0.18993994],\n",
              "       [0.81684636, 0.28361063, 0.23310811],\n",
              "       [0.77803235, 0.25932301, 0.5518018 ],\n",
              "       [0.69177898, 0.36603557, 0.71996997],\n",
              "       [0.79487871, 0.3080895 , 0.45307808],\n",
              "       [0.83477089, 0.14629948, 0.50225225],\n",
              "       [0.84245283, 0.11397973, 0.44406907],\n",
              "       [0.83032345, 0.21973609, 0.34947447],\n",
              "       [0.75916442, 0.20271562, 0.56944444],\n",
              "       [0.81778976, 0.16829222, 0.30105105],\n",
              "       [0.72628032, 0.14974182, 0.15165165],\n",
              "       [0.74716981, 0.19162364, 0.0762012 ],\n",
              "       [0.8032345 , 0.17116083, 0.26651652],\n",
              "       [0.76630728, 0.20328935, 0.09872372],\n",
              "       [0.86495957, 0.21591126, 0.30855856],\n",
              "       [0.87250674, 0.24880474, 0.5701952 ],\n",
              "       [0.76778976, 0.22279595, 0.5274024 ],\n",
              "       [0.83274933, 0.15433161, 0.30855856],\n",
              "       [0.82938005, 0.15261044, 0.27927928],\n",
              "       [0.96253369, 0.15777395, 0.37387387],\n",
              "       [0.87102426, 0.14993307, 0.45157658],\n",
              "       [0.8884097 , 0.17861924, 0.31118619],\n",
              "       [0.85808625, 0.1946835 , 0.25112613],\n",
              "       [0.86549865, 0.23924269, 0.44632132],\n",
              "       [0.87614555, 0.23656531, 0.28490991],\n",
              "       [0.85485175, 0.22298719, 0.38588589],\n",
              "       [0.75202156, 0.20807038, 0.76201201],\n",
              "       [0.75309973, 0.23484414, 0.61373874],\n",
              "       [0.83557951, 0.13138267, 0.63100601],\n",
              "       [0.92439353, 0.16446739, 0.51051051],\n",
              "       [0.75714286, 0.1589214 , 0.47972973],\n",
              "       [0.75      , 0.1696309 , 0.13100601],\n",
              "       [0.8032345 , 0.13272136, 0.14827327],\n",
              "       [0.87439353, 0.11971696, 0.2027027 ],\n",
              "       [0.86320755, 0.09638554, 0.2759009 ],\n",
              "       [0.78072776, 0.1394148 , 0.10698198],\n",
              "       [0.79622642, 0.10843373, 0.16516517],\n",
              "       [0.85444744, 0.16274622, 0.22597598],\n",
              "       [0.75336927, 0.17460317, 0.12237237],\n",
              "       [0.78706199, 0.16026009, 0.25      ],\n",
              "       [0.86913747, 0.18837254, 0.64189189],\n",
              "       [0.81280323, 0.20921782, 0.68693694],\n",
              "       [0.86266846, 0.30369095, 0.62274775],\n",
              "       [0.84339623, 0.24918723, 0.51576577],\n",
              "       [0.75997305, 0.15222796, 0.12875375],\n",
              "       [0.91630728, 0.13329509, 0.31006006],\n",
              "       [0.88369272, 0.2346529 , 0.61111111],\n",
              "       [0.87318059, 0.21782368, 0.37687688],\n",
              "       [0.9361186 , 0.13578122, 0.10322823],\n",
              "       [0.93126685, 0.1524192 , 0.39226727],\n",
              "       [0.94824798, 0.20348059, 0.29091592],\n",
              "       [0.91778976, 0.24593613, 0.15015015],\n",
              "       [0.89541779, 0.17307325, 0.4039039 ],\n",
              "       [0.8074124 , 0.11130235, 0.21358859],\n",
              "       [0.80849057, 0.13061771, 0.04316817],\n",
              "       [0.83450135, 0.11187608, 0.02214715],\n",
              "       [0.8351752 , 0.10021037, 0.16779279],\n",
              "       [0.88557951, 0.10766877, 0.51839339],\n",
              "       [0.76725067, 0.18359151, 0.66366366],\n",
              "       [0.7809973 , 0.15509658, 0.62725225],\n",
              "       [0.93679245, 0.07401033, 0.42867868],\n",
              "       [0.94663073, 0.12947026, 0.44894895],\n",
              "       [0.92628032, 0.18014917, 0.371997  ],\n",
              "       [0.94568733, 0.1696309 , 0.28753754],\n",
              "       [0.95121294, 0.16236374, 0.1798048 ],\n",
              "       [0.89959569, 0.15146299, 0.1295045 ],\n",
              "       [0.85714286, 0.14744693, 0.33483483],\n",
              "       [0.95687332, 0.17823676, 0.30593093],\n",
              "       [0.94218329, 0.18856378, 0.20533033],\n",
              "       [0.9583558 , 0.16790973, 0.30743243],\n",
              "       [0.93814016, 0.18837254, 0.44106607],\n",
              "       [0.91374663, 0.16408491, 0.3978979 ],\n",
              "       [0.90080863, 0.15796519, 0.24587087],\n",
              "       [0.92115903, 0.1254542 , 0.14226727],\n",
              "       [0.86010782, 0.10900746, 0.18355856],\n",
              "       [0.82264151, 0.05603366, 0.56569069],\n",
              "       [0.78355795, 0.1352075 , 0.68355856],\n",
              "       [0.88207547, 0.12507172, 0.49474474],\n",
              "       [0.93800539, 0.13673743, 0.26238739],\n",
              "       [0.89730458, 0.13233888, 0.25112613],\n",
              "       [0.82264151, 0.11168483, 0.0960961 ],\n",
              "       [0.84824798, 0.07534902, 0.24211712],\n",
              "       [0.83962264, 0.09007458, 0.125     ],\n",
              "       [0.94892183, 0.13578122, 0.13213213],\n",
              "       [0.9222372 , 0.16274622, 0.48873874],\n",
              "       [0.92318059, 0.18990247, 0.32695195],\n",
              "       [0.84070081, 0.19487474, 0.18093093],\n",
              "       [0.79824798, 0.16389367, 0.1996997 ],\n",
              "       [0.74272237, 0.15069803, 0.16666667],\n",
              "       [0.67277628, 0.1923886 , 0.50187688],\n",
              "       [0.75175202, 0.17230828, 0.35998498],\n",
              "       [0.80687332, 0.14419583, 0.31418919],\n",
              "       [0.84865229, 0.        , 0.56756757],\n",
              "       [0.79838275, 0.0929432 , 0.52252252],\n",
              "       [0.86105121, 0.10346146, 0.31156156],\n",
              "       [0.91657682, 0.06330082, 0.44707207],\n",
              "       [0.91469003, 0.19277108, 0.46021021],\n",
              "       [0.88948787, 0.178428  , 0.39451952],\n",
              "       [0.7712938 , 0.17766303, 0.18393393],\n",
              "       [0.79407008, 0.07152419, 0.5015015 ],\n",
              "       [0.84366577, 0.22222222, 0.5259009 ],\n",
              "       [0.88477089, 0.25320329, 0.42154655],\n",
              "       [0.91199461, 0.232358  , 0.27852853],\n",
              "       [0.88207547, 0.22891566, 0.22522523],\n",
              "       [0.92183288, 0.19085867, 0.43581081],\n",
              "       [0.79622642, 0.20022949, 0.33220721],\n",
              "       [0.80889488, 0.20328935, 0.50112613],\n",
              "       [0.90296496, 0.12029069, 0.47522523],\n",
              "       [0.81415094, 0.16427615, 0.55593093],\n",
              "       [0.78153639, 0.10231402, 0.64902402],\n",
              "       [0.89326146, 0.06483075, 0.67605105],\n",
              "       [0.85700809, 0.08529356, 0.5487988 ],\n",
              "       [0.83342318, 0.07764391, 0.31268769],\n",
              "       [0.8583558 , 0.06425703, 0.24474474],\n",
              "       [0.76684636, 0.12927902, 0.31456456],\n",
              "       [0.64811321, 0.21744119, 0.76276276],\n",
              "       [0.72857143, 0.16465863, 0.37424925],\n",
              "       [0.62439353, 0.1979346 , 0.60472973],\n",
              "       [0.7       , 0.23733027, 0.73423423],\n",
              "       [0.75606469, 0.10059285, 0.28153153],\n",
              "       [0.69986523, 0.13253012, 0.26163664],\n",
              "       [0.6884097 , 0.2778734 , 0.69181682],\n",
              "       [0.65754717, 0.26372155, 0.67717718],\n",
              "       [0.74622642, 0.14763817, 0.49399399],\n",
              "       [0.70283019, 0.22279595, 0.27402402],\n",
              "       [0.63719677, 0.20692293, 0.31569069],\n",
              "       [0.63598383, 0.30254351, 0.79204204],\n",
              "       [0.73221024, 0.31057564, 0.64151652],\n",
              "       [0.73261456, 0.17173456, 0.41216216],\n",
              "       [0.7638814 , 0.26123542, 0.3506006 ],\n",
              "       [0.6532345 , 0.29336393, 0.65915916],\n",
              "       [0.78881402, 0.28475808, 0.47034535],\n",
              "       [0.75053908, 0.26314783, 0.30518018],\n",
              "       [0.71617251, 0.23484414, 0.28115616],\n",
              "       [0.73328841, 0.21954485, 0.08896396],\n",
              "       [0.65579515, 0.29259897, 0.43430931],\n",
              "       [0.82978437, 0.22547332, 0.31456456],\n",
              "       [0.83409704, 0.32568369, 0.14001502],\n",
              "       [0.80161725, 0.46012622, 0.56118619],\n",
              "       [0.73665768, 0.44253203, 0.73648649],\n",
              "       [0.61455526, 0.33161216, 0.5472973 ],\n",
              "       [0.68301887, 0.25377701, 0.77102102],\n",
              "       [0.7690027 , 0.16389367, 0.49399399],\n",
              "       [0.67318059, 0.14668197, 0.46734234],\n",
              "       [0.82237197, 0.0701855 , 0.45345345],\n",
              "       [0.74636119, 0.15203672, 0.60472973],\n",
              "       [0.66226415, 0.15605278, 0.30930931],\n",
              "       [0.70619946, 0.15720023, 0.19481982],\n",
              "       [0.67008086, 0.2314018 , 0.35247748],\n",
              "       [0.8245283 , 0.30981067, 0.5762012 ]])"
            ]
          },
          "metadata": {
            "tags": []
          },
          "execution_count": 35
        }
      ]
    },
    {
      "cell_type": "code",
      "metadata": {
        "id": "xtO6SNDDu7XD"
      },
      "source": [
        "df_pred = pd.concat([pd.DataFrame(predictions), pd.DataFrame(x_test[:,1:][win_length:])],axis=1)"
      ],
      "execution_count": 36,
      "outputs": []
    },
    {
      "cell_type": "code",
      "metadata": {
        "id": "7FNPk315vvp1",
        "outputId": "68df59a5-b1cf-4fb0-fdce-545a33ec238c",
        "colab": {
          "base_uri": "https://localhost:8080/",
          "height": 419
        }
      },
      "source": [
        "df_pred"
      ],
      "execution_count": 37,
      "outputs": [
        {
          "output_type": "execute_result",
          "data": {
            "text/html": [
              "<div>\n",
              "<style scoped>\n",
              "    .dataframe tbody tr th:only-of-type {\n",
              "        vertical-align: middle;\n",
              "    }\n",
              "\n",
              "    .dataframe tbody tr th {\n",
              "        vertical-align: top;\n",
              "    }\n",
              "\n",
              "    .dataframe thead th {\n",
              "        text-align: right;\n",
              "    }\n",
              "</style>\n",
              "<table border=\"1\" class=\"dataframe\">\n",
              "  <thead>\n",
              "    <tr style=\"text-align: right;\">\n",
              "      <th></th>\n",
              "      <th>0</th>\n",
              "      <th>0</th>\n",
              "      <th>1</th>\n",
              "      <th>2</th>\n",
              "    </tr>\n",
              "  </thead>\n",
              "  <tbody>\n",
              "    <tr>\n",
              "      <th>0</th>\n",
              "      <td>0.350032</td>\n",
              "      <td>0.247978</td>\n",
              "      <td>0.545802</td>\n",
              "      <td>0.133258</td>\n",
              "    </tr>\n",
              "    <tr>\n",
              "      <th>1</th>\n",
              "      <td>0.355199</td>\n",
              "      <td>0.136388</td>\n",
              "      <td>0.651559</td>\n",
              "      <td>0.533033</td>\n",
              "    </tr>\n",
              "    <tr>\n",
              "      <th>2</th>\n",
              "      <td>0.332125</td>\n",
              "      <td>0.307951</td>\n",
              "      <td>0.448461</td>\n",
              "      <td>0.727853</td>\n",
              "    </tr>\n",
              "    <tr>\n",
              "      <th>3</th>\n",
              "      <td>0.280228</td>\n",
              "      <td>0.585984</td>\n",
              "      <td>0.222413</td>\n",
              "      <td>0.706832</td>\n",
              "    </tr>\n",
              "    <tr>\n",
              "      <th>4</th>\n",
              "      <td>0.244837</td>\n",
              "      <td>0.651887</td>\n",
              "      <td>0.266781</td>\n",
              "      <td>0.373498</td>\n",
              "    </tr>\n",
              "    <tr>\n",
              "      <th>...</th>\n",
              "      <td>...</td>\n",
              "      <td>...</td>\n",
              "      <td>...</td>\n",
              "      <td>...</td>\n",
              "    </tr>\n",
              "    <tr>\n",
              "      <th>315</th>\n",
              "      <td>0.379528</td>\n",
              "      <td>0.746361</td>\n",
              "      <td>0.152037</td>\n",
              "      <td>0.604730</td>\n",
              "    </tr>\n",
              "    <tr>\n",
              "      <th>316</th>\n",
              "      <td>0.377226</td>\n",
              "      <td>0.662264</td>\n",
              "      <td>0.156053</td>\n",
              "      <td>0.309309</td>\n",
              "    </tr>\n",
              "    <tr>\n",
              "      <th>317</th>\n",
              "      <td>0.377087</td>\n",
              "      <td>0.706199</td>\n",
              "      <td>0.157200</td>\n",
              "      <td>0.194820</td>\n",
              "    </tr>\n",
              "    <tr>\n",
              "      <th>318</th>\n",
              "      <td>0.392625</td>\n",
              "      <td>0.670081</td>\n",
              "      <td>0.231402</td>\n",
              "      <td>0.352477</td>\n",
              "    </tr>\n",
              "    <tr>\n",
              "      <th>319</th>\n",
              "      <td>0.394036</td>\n",
              "      <td>0.824528</td>\n",
              "      <td>0.309811</td>\n",
              "      <td>0.576201</td>\n",
              "    </tr>\n",
              "  </tbody>\n",
              "</table>\n",
              "<p>320 rows × 4 columns</p>\n",
              "</div>"
            ],
            "text/plain": [
              "            0         0         1         2\n",
              "0    0.350032  0.247978  0.545802  0.133258\n",
              "1    0.355199  0.136388  0.651559  0.533033\n",
              "2    0.332125  0.307951  0.448461  0.727853\n",
              "3    0.280228  0.585984  0.222413  0.706832\n",
              "4    0.244837  0.651887  0.266781  0.373498\n",
              "..        ...       ...       ...       ...\n",
              "315  0.379528  0.746361  0.152037  0.604730\n",
              "316  0.377226  0.662264  0.156053  0.309309\n",
              "317  0.377087  0.706199  0.157200  0.194820\n",
              "318  0.392625  0.670081  0.231402  0.352477\n",
              "319  0.394036  0.824528  0.309811  0.576201\n",
              "\n",
              "[320 rows x 4 columns]"
            ]
          },
          "metadata": {
            "tags": []
          },
          "execution_count": 37
        }
      ]
    },
    {
      "cell_type": "code",
      "metadata": {
        "id": "JXFFpUE0u7Zv"
      },
      "source": [
        "rev_trans = scaler.inverse_transform(df_pred)"
      ],
      "execution_count": 38,
      "outputs": []
    },
    {
      "cell_type": "code",
      "metadata": {
        "id": "b_5b8gmhu7cr",
        "outputId": "fc4ec7fe-90ed-4a66-921c-b8f8e0627f6a",
        "colab": {
          "base_uri": "https://localhost:8080/",
          "height": 136
        }
      },
      "source": [
        "rev_trans"
      ],
      "execution_count": 39,
      "outputs": [
        {
          "output_type": "execute_result",
          "data": {
            "text/plain": [
              "array([[2.30085796e+05, 4.24400000e+01, 1.92100000e+01, 2.99500000e+00],\n",
              "       [2.30970045e+05, 3.41600000e+01, 2.19750000e+01, 8.32000000e+00],\n",
              "       [2.27021646e+05, 4.68900000e+01, 1.66650000e+01, 1.09150000e+01],\n",
              "       ...,\n",
              "       [2.34715402e+05, 7.64400000e+01, 9.05000000e+00, 3.81500000e+00],\n",
              "       [2.37374361e+05, 7.37600000e+01, 1.09900000e+01, 5.91500000e+00],\n",
              "       [2.37615737e+05, 8.52200000e+01, 1.30400000e+01, 8.89500000e+00]])"
            ]
          },
          "metadata": {
            "tags": []
          },
          "execution_count": 39
        }
      ]
    },
    {
      "cell_type": "code",
      "metadata": {
        "id": "zc5-Wphru7f0"
      },
      "source": [
        "df_final=ts19[predictions.shape[0]*-1:]"
      ],
      "execution_count": 40,
      "outputs": []
    },
    {
      "cell_type": "code",
      "metadata": {
        "id": "JOMJVOiqviBN"
      },
      "source": [
        "##### New \n",
        "\n",
        "#df_final_new=ts19[predictions.shape[0]*-1:]"
      ],
      "execution_count": null,
      "outputs": []
    },
    {
      "cell_type": "code",
      "metadata": {
        "id": "scbDDOGtv0_c",
        "outputId": "d940b8b8-0dff-4db0-c397-21e8ca29d71a",
        "colab": {
          "base_uri": "https://localhost:8080/",
          "height": 102
        }
      },
      "source": [
        "df_final.count()"
      ],
      "execution_count": 41,
      "outputs": [
        {
          "output_type": "execute_result",
          "data": {
            "text/plain": [
              "TOTALDEMAND          320\n",
              "relative_humidity    320\n",
              "avg_temp             320\n",
              "ws_avg_50            320\n",
              "dtype: int64"
            ]
          },
          "metadata": {
            "tags": []
          },
          "execution_count": 41
        }
      ]
    },
    {
      "cell_type": "code",
      "metadata": {
        "id": "GwaaH6E1vlVW"
      },
      "source": [
        "##### New\n",
        "\n",
        "#df_final_new.count()"
      ],
      "execution_count": 42,
      "outputs": []
    },
    {
      "cell_type": "code",
      "metadata": {
        "id": "SfZWeI2-v1CQ",
        "outputId": "9d1185e9-4f88-46b8-fc7a-7fe00eb74818",
        "colab": {
          "base_uri": "https://localhost:8080/",
          "height": 139
        }
      },
      "source": [
        "df_final['Energy_pred'] = rev_trans[:,0]"
      ],
      "execution_count": 43,
      "outputs": [
        {
          "output_type": "stream",
          "text": [
            "/usr/local/lib/python3.6/dist-packages/ipykernel_launcher.py:1: SettingWithCopyWarning: \n",
            "A value is trying to be set on a copy of a slice from a DataFrame.\n",
            "Try using .loc[row_indexer,col_indexer] = value instead\n",
            "\n",
            "See the caveats in the documentation: https://pandas.pydata.org/pandas-docs/stable/user_guide/indexing.html#returning-a-view-versus-a-copy\n",
            "  \"\"\"Entry point for launching an IPython kernel.\n"
          ],
          "name": "stderr"
        }
      ]
    },
    {
      "cell_type": "code",
      "metadata": {
        "id": "m5TByCeOvsXs",
        "outputId": "0625c0d7-b36f-42d4-ab70-a6445c5f4f50",
        "colab": {
          "base_uri": "https://localhost:8080/",
          "height": 139
        }
      },
      "source": [
        "#### New\n",
        "\n",
        "#df_final_new['Energy_pred'] = rev_trans[:,0]"
      ],
      "execution_count": null,
      "outputs": [
        {
          "output_type": "stream",
          "text": [
            "/usr/local/lib/python3.6/dist-packages/ipykernel_launcher.py:3: SettingWithCopyWarning: \n",
            "A value is trying to be set on a copy of a slice from a DataFrame.\n",
            "Try using .loc[row_indexer,col_indexer] = value instead\n",
            "\n",
            "See the caveats in the documentation: https://pandas.pydata.org/pandas-docs/stable/user_guide/indexing.html#returning-a-view-versus-a-copy\n",
            "  This is separate from the ipykernel package so we can avoid doing imports until\n"
          ],
          "name": "stderr"
        }
      ]
    },
    {
      "cell_type": "code",
      "metadata": {
        "id": "a2Rwa2z4v1FK",
        "outputId": "e89ba8dd-5226-4859-bd87-e75738b6e323",
        "colab": {
          "base_uri": "https://localhost:8080/",
          "height": 68
        }
      },
      "source": [
        "df_final.columns"
      ],
      "execution_count": 44,
      "outputs": [
        {
          "output_type": "execute_result",
          "data": {
            "text/plain": [
              "Index(['TOTALDEMAND', 'relative_humidity', 'avg_temp', 'ws_avg_50',\n",
              "       'Energy_pred'],\n",
              "      dtype='object')"
            ]
          },
          "metadata": {
            "tags": []
          },
          "execution_count": 44
        }
      ]
    },
    {
      "cell_type": "code",
      "metadata": {
        "id": "4Sch4yhNvxTo"
      },
      "source": [
        "#df_final_new.columns"
      ],
      "execution_count": 45,
      "outputs": []
    },
    {
      "cell_type": "code",
      "metadata": {
        "id": "u76FX3CDv1KN",
        "outputId": "c20ebc8d-b832-4ade-e292-df5cd290e2ed",
        "colab": {
          "base_uri": "https://localhost:8080/",
          "height": 450
        }
      },
      "source": [
        "df_final"
      ],
      "execution_count": 49,
      "outputs": [
        {
          "output_type": "execute_result",
          "data": {
            "text/html": [
              "<div>\n",
              "<style scoped>\n",
              "    .dataframe tbody tr th:only-of-type {\n",
              "        vertical-align: middle;\n",
              "    }\n",
              "\n",
              "    .dataframe tbody tr th {\n",
              "        vertical-align: top;\n",
              "    }\n",
              "\n",
              "    .dataframe thead th {\n",
              "        text-align: right;\n",
              "    }\n",
              "</style>\n",
              "<table border=\"1\" class=\"dataframe\">\n",
              "  <thead>\n",
              "    <tr style=\"text-align: right;\">\n",
              "      <th></th>\n",
              "      <th>TOTALDEMAND</th>\n",
              "      <th>relative_humidity</th>\n",
              "      <th>avg_temp</th>\n",
              "      <th>ws_avg_50</th>\n",
              "      <th>Energy_pred</th>\n",
              "    </tr>\n",
              "    <tr>\n",
              "      <th>Date</th>\n",
              "      <th></th>\n",
              "      <th></th>\n",
              "      <th></th>\n",
              "      <th></th>\n",
              "      <th></th>\n",
              "    </tr>\n",
              "  </thead>\n",
              "  <tbody>\n",
              "    <tr>\n",
              "      <th>23-10-2019</th>\n",
              "      <td>228563.23</td>\n",
              "      <td>42.44</td>\n",
              "      <td>19.210</td>\n",
              "      <td>2.995</td>\n",
              "      <td>230085.795505</td>\n",
              "    </tr>\n",
              "    <tr>\n",
              "      <th>24-10-2019</th>\n",
              "      <td>230885.31</td>\n",
              "      <td>34.16</td>\n",
              "      <td>21.975</td>\n",
              "      <td>8.320</td>\n",
              "      <td>230970.044787</td>\n",
              "    </tr>\n",
              "    <tr>\n",
              "      <th>25-10-2019</th>\n",
              "      <td>218261.54</td>\n",
              "      <td>46.89</td>\n",
              "      <td>16.665</td>\n",
              "      <td>10.915</td>\n",
              "      <td>227021.646412</td>\n",
              "    </tr>\n",
              "    <tr>\n",
              "      <th>26-10-2019</th>\n",
              "      <td>193396.57</td>\n",
              "      <td>67.52</td>\n",
              "      <td>10.755</td>\n",
              "      <td>10.635</td>\n",
              "      <td>218141.048327</td>\n",
              "    </tr>\n",
              "    <tr>\n",
              "      <th>27-10-2019</th>\n",
              "      <td>205661.11</td>\n",
              "      <td>72.41</td>\n",
              "      <td>11.915</td>\n",
              "      <td>6.195</td>\n",
              "      <td>212085.000729</td>\n",
              "    </tr>\n",
              "    <tr>\n",
              "      <th>...</th>\n",
              "      <td>...</td>\n",
              "      <td>...</td>\n",
              "      <td>...</td>\n",
              "      <td>...</td>\n",
              "      <td>...</td>\n",
              "    </tr>\n",
              "    <tr>\n",
              "      <th>26-09-2020</th>\n",
              "      <td>213389.93</td>\n",
              "      <td>79.42</td>\n",
              "      <td>8.915</td>\n",
              "      <td>9.275</td>\n",
              "      <td>235133.091282</td>\n",
              "    </tr>\n",
              "    <tr>\n",
              "      <th>27-09-2020</th>\n",
              "      <td>203406.98</td>\n",
              "      <td>73.18</td>\n",
              "      <td>9.020</td>\n",
              "      <td>5.340</td>\n",
              "      <td>234739.228045</td>\n",
              "    </tr>\n",
              "    <tr>\n",
              "      <th>28-09-2020</th>\n",
              "      <td>229302.28</td>\n",
              "      <td>76.44</td>\n",
              "      <td>9.050</td>\n",
              "      <td>3.815</td>\n",
              "      <td>234715.402053</td>\n",
              "    </tr>\n",
              "    <tr>\n",
              "      <th>29-09-2020</th>\n",
              "      <td>224152.92</td>\n",
              "      <td>73.76</td>\n",
              "      <td>10.990</td>\n",
              "      <td>5.915</td>\n",
              "      <td>237374.361383</td>\n",
              "    </tr>\n",
              "    <tr>\n",
              "      <th>30-09-2020</th>\n",
              "      <td>227240.42</td>\n",
              "      <td>85.22</td>\n",
              "      <td>13.040</td>\n",
              "      <td>8.895</td>\n",
              "      <td>237615.737249</td>\n",
              "    </tr>\n",
              "  </tbody>\n",
              "</table>\n",
              "<p>320 rows × 5 columns</p>\n",
              "</div>"
            ],
            "text/plain": [
              "            TOTALDEMAND  relative_humidity  avg_temp  ws_avg_50    Energy_pred\n",
              "Date                                                                          \n",
              "23-10-2019    228563.23              42.44    19.210      2.995  230085.795505\n",
              "24-10-2019    230885.31              34.16    21.975      8.320  230970.044787\n",
              "25-10-2019    218261.54              46.89    16.665     10.915  227021.646412\n",
              "26-10-2019    193396.57              67.52    10.755     10.635  218141.048327\n",
              "27-10-2019    205661.11              72.41    11.915      6.195  212085.000729\n",
              "...                 ...                ...       ...        ...            ...\n",
              "26-09-2020    213389.93              79.42     8.915      9.275  235133.091282\n",
              "27-09-2020    203406.98              73.18     9.020      5.340  234739.228045\n",
              "28-09-2020    229302.28              76.44     9.050      3.815  234715.402053\n",
              "29-09-2020    224152.92              73.76    10.990      5.915  237374.361383\n",
              "30-09-2020    227240.42              85.22    13.040      8.895  237615.737249\n",
              "\n",
              "[320 rows x 5 columns]"
            ]
          },
          "metadata": {
            "tags": []
          },
          "execution_count": 49
        }
      ]
    },
    {
      "cell_type": "code",
      "metadata": {
        "id": "LRkHTHT3DZd4"
      },
      "source": [
        "df_test = df_final.reset_index()"
      ],
      "execution_count": 47,
      "outputs": []
    },
    {
      "cell_type": "code",
      "metadata": {
        "id": "DZROyhLWESH0"
      },
      "source": [
        "df_test = df_test[df_test.Date.between('2020-04-01', '2020-04-05')]"
      ],
      "execution_count": null,
      "outputs": []
    },
    {
      "cell_type": "code",
      "metadata": {
        "id": "cQASWndyFHtZ"
      },
      "source": [
        "df_final.to_csv('Test.csv')"
      ],
      "execution_count": 50,
      "outputs": []
    },
    {
      "cell_type": "code",
      "metadata": {
        "id": "85gJzkv_GhsJ"
      },
      "source": [
        "x = pd.read_csv(\"Test.csv\")"
      ],
      "execution_count": 51,
      "outputs": []
    },
    {
      "cell_type": "code",
      "metadata": {
        "id": "JX7QhEwQGlwD",
        "outputId": "7d870a69-cb90-464a-b640-992dd01f8d02",
        "colab": {
          "base_uri": "https://localhost:8080/",
          "height": 204
        }
      },
      "source": [
        "x.head()"
      ],
      "execution_count": 52,
      "outputs": [
        {
          "output_type": "execute_result",
          "data": {
            "text/html": [
              "<div>\n",
              "<style scoped>\n",
              "    .dataframe tbody tr th:only-of-type {\n",
              "        vertical-align: middle;\n",
              "    }\n",
              "\n",
              "    .dataframe tbody tr th {\n",
              "        vertical-align: top;\n",
              "    }\n",
              "\n",
              "    .dataframe thead th {\n",
              "        text-align: right;\n",
              "    }\n",
              "</style>\n",
              "<table border=\"1\" class=\"dataframe\">\n",
              "  <thead>\n",
              "    <tr style=\"text-align: right;\">\n",
              "      <th></th>\n",
              "      <th>Date</th>\n",
              "      <th>TOTALDEMAND</th>\n",
              "      <th>relative_humidity</th>\n",
              "      <th>avg_temp</th>\n",
              "      <th>ws_avg_50</th>\n",
              "      <th>Energy_pred</th>\n",
              "    </tr>\n",
              "  </thead>\n",
              "  <tbody>\n",
              "    <tr>\n",
              "      <th>0</th>\n",
              "      <td>23-10-2019</td>\n",
              "      <td>228563.23</td>\n",
              "      <td>42.44</td>\n",
              "      <td>19.210</td>\n",
              "      <td>2.995</td>\n",
              "      <td>230085.795505</td>\n",
              "    </tr>\n",
              "    <tr>\n",
              "      <th>1</th>\n",
              "      <td>24-10-2019</td>\n",
              "      <td>230885.31</td>\n",
              "      <td>34.16</td>\n",
              "      <td>21.975</td>\n",
              "      <td>8.320</td>\n",
              "      <td>230970.044787</td>\n",
              "    </tr>\n",
              "    <tr>\n",
              "      <th>2</th>\n",
              "      <td>25-10-2019</td>\n",
              "      <td>218261.54</td>\n",
              "      <td>46.89</td>\n",
              "      <td>16.665</td>\n",
              "      <td>10.915</td>\n",
              "      <td>227021.646412</td>\n",
              "    </tr>\n",
              "    <tr>\n",
              "      <th>3</th>\n",
              "      <td>26-10-2019</td>\n",
              "      <td>193396.57</td>\n",
              "      <td>67.52</td>\n",
              "      <td>10.755</td>\n",
              "      <td>10.635</td>\n",
              "      <td>218141.048327</td>\n",
              "    </tr>\n",
              "    <tr>\n",
              "      <th>4</th>\n",
              "      <td>27-10-2019</td>\n",
              "      <td>205661.11</td>\n",
              "      <td>72.41</td>\n",
              "      <td>11.915</td>\n",
              "      <td>6.195</td>\n",
              "      <td>212085.000729</td>\n",
              "    </tr>\n",
              "  </tbody>\n",
              "</table>\n",
              "</div>"
            ],
            "text/plain": [
              "         Date  TOTALDEMAND  ...  ws_avg_50    Energy_pred\n",
              "0  23-10-2019    228563.23  ...      2.995  230085.795505\n",
              "1  24-10-2019    230885.31  ...      8.320  230970.044787\n",
              "2  25-10-2019    218261.54  ...     10.915  227021.646412\n",
              "3  26-10-2019    193396.57  ...     10.635  218141.048327\n",
              "4  27-10-2019    205661.11  ...      6.195  212085.000729\n",
              "\n",
              "[5 rows x 6 columns]"
            ]
          },
          "metadata": {
            "tags": []
          },
          "execution_count": 52
        }
      ]
    },
    {
      "cell_type": "code",
      "metadata": {
        "id": "QNlQGnBpv2Gb"
      },
      "source": [
        "#df_final_new"
      ],
      "execution_count": null,
      "outputs": []
    },
    {
      "cell_type": "code",
      "metadata": {
        "id": "a0Liv7RAv1Mw",
        "outputId": "41760503-268d-437b-bc7b-56284184d2e8",
        "colab": {
          "base_uri": "https://localhost:8080/",
          "height": 296
        }
      },
      "source": [
        "df_final[['TOTALDEMAND','Energy_pred']].plot()"
      ],
      "execution_count": 48,
      "outputs": [
        {
          "output_type": "execute_result",
          "data": {
            "text/plain": [
              "<matplotlib.axes._subplots.AxesSubplot at 0x7f92151d50b8>"
            ]
          },
          "metadata": {
            "tags": []
          },
          "execution_count": 48
        },
        {
          "output_type": "display_data",
          "data": {
            "image/png": "[encoded data removed]",
            "text/plain": [
              "<Figure size 432x288 with 1 Axes>"
            ]
          },
          "metadata": {
            "tags": [],
            "needs_background": "light"
          }
        }
      ]
    },
    {
      "cell_type": "code",
      "metadata": {
        "id": "UVvk72omv1R2"
      },
      "source": [
        "t = pd.read_csv(\"2020_pred.csv\")"
      ],
      "execution_count": 58,
      "outputs": []
    },
    {
      "cell_type": "code",
      "metadata": {
        "id": "2vbbyfEDHyta",
        "outputId": "3d85e35b-17de-4d9a-cb7f-7a3ea62ed54f",
        "colab": {
          "base_uri": "https://localhost:8080/",
          "height": 450
        }
      },
      "source": [
        "t.set_index(['Date'], inplace=True)\n",
        "t"
      ],
      "execution_count": 59,
      "outputs": [
        {
          "output_type": "execute_result",
          "data": {
            "text/html": [
              "<div>\n",
              "<style scoped>\n",
              "    .dataframe tbody tr th:only-of-type {\n",
              "        vertical-align: middle;\n",
              "    }\n",
              "\n",
              "    .dataframe tbody tr th {\n",
              "        vertical-align: top;\n",
              "    }\n",
              "\n",
              "    .dataframe thead th {\n",
              "        text-align: right;\n",
              "    }\n",
              "</style>\n",
              "<table border=\"1\" class=\"dataframe\">\n",
              "  <thead>\n",
              "    <tr style=\"text-align: right;\">\n",
              "      <th></th>\n",
              "      <th>TOTALDEMAND</th>\n",
              "      <th>relative_humidity</th>\n",
              "      <th>avg_temp</th>\n",
              "      <th>ws_avg_50</th>\n",
              "      <th>Energy_pred</th>\n",
              "    </tr>\n",
              "    <tr>\n",
              "      <th>Date</th>\n",
              "      <th></th>\n",
              "      <th></th>\n",
              "      <th></th>\n",
              "      <th></th>\n",
              "      <th></th>\n",
              "    </tr>\n",
              "  </thead>\n",
              "  <tbody>\n",
              "    <tr>\n",
              "      <th>25/1/20</th>\n",
              "      <td>204891.76</td>\n",
              "      <td>59.84</td>\n",
              "      <td>20.180</td>\n",
              "      <td>3.635</td>\n",
              "      <td>206976.7605</td>\n",
              "    </tr>\n",
              "    <tr>\n",
              "      <th>26/1/20</th>\n",
              "      <td>202466.41</td>\n",
              "      <td>70.29</td>\n",
              "      <td>20.365</td>\n",
              "      <td>3.525</td>\n",
              "      <td>209054.3263</td>\n",
              "    </tr>\n",
              "    <tr>\n",
              "      <th>27/1/20</th>\n",
              "      <td>206268.92</td>\n",
              "      <td>66.62</td>\n",
              "      <td>19.210</td>\n",
              "      <td>4.290</td>\n",
              "      <td>211990.2348</td>\n",
              "    </tr>\n",
              "    <tr>\n",
              "      <th>28/1/20</th>\n",
              "      <td>232381.11</td>\n",
              "      <td>62.27</td>\n",
              "      <td>20.035</td>\n",
              "      <td>3.905</td>\n",
              "      <td>214022.0789</td>\n",
              "    </tr>\n",
              "    <tr>\n",
              "      <th>29/1/20</th>\n",
              "      <td>259625.83</td>\n",
              "      <td>55.53</td>\n",
              "      <td>21.695</td>\n",
              "      <td>3.220</td>\n",
              "      <td>221246.2605</td>\n",
              "    </tr>\n",
              "    <tr>\n",
              "      <th>...</th>\n",
              "      <td>...</td>\n",
              "      <td>...</td>\n",
              "      <td>...</td>\n",
              "      <td>...</td>\n",
              "      <td>...</td>\n",
              "    </tr>\n",
              "    <tr>\n",
              "      <th>26/9/20</th>\n",
              "      <td>213389.93</td>\n",
              "      <td>79.42</td>\n",
              "      <td>8.915</td>\n",
              "      <td>9.275</td>\n",
              "      <td>235133.0913</td>\n",
              "    </tr>\n",
              "    <tr>\n",
              "      <th>27/9/20</th>\n",
              "      <td>203406.98</td>\n",
              "      <td>73.18</td>\n",
              "      <td>9.020</td>\n",
              "      <td>5.340</td>\n",
              "      <td>234739.2280</td>\n",
              "    </tr>\n",
              "    <tr>\n",
              "      <th>28/9/20</th>\n",
              "      <td>229302.28</td>\n",
              "      <td>76.44</td>\n",
              "      <td>9.050</td>\n",
              "      <td>3.815</td>\n",
              "      <td>234715.4021</td>\n",
              "    </tr>\n",
              "    <tr>\n",
              "      <th>29/9/20</th>\n",
              "      <td>224152.92</td>\n",
              "      <td>73.76</td>\n",
              "      <td>10.990</td>\n",
              "      <td>5.915</td>\n",
              "      <td>237374.3614</td>\n",
              "    </tr>\n",
              "    <tr>\n",
              "      <th>30/9/20</th>\n",
              "      <td>227240.42</td>\n",
              "      <td>85.22</td>\n",
              "      <td>13.040</td>\n",
              "      <td>8.895</td>\n",
              "      <td>237615.7372</td>\n",
              "    </tr>\n",
              "  </tbody>\n",
              "</table>\n",
              "<p>250 rows × 5 columns</p>\n",
              "</div>"
            ],
            "text/plain": [
              "         TOTALDEMAND  relative_humidity  avg_temp  ws_avg_50  Energy_pred\n",
              "Date                                                                     \n",
              "25/1/20    204891.76              59.84    20.180      3.635  206976.7605\n",
              "26/1/20    202466.41              70.29    20.365      3.525  209054.3263\n",
              "27/1/20    206268.92              66.62    19.210      4.290  211990.2348\n",
              "28/1/20    232381.11              62.27    20.035      3.905  214022.0789\n",
              "29/1/20    259625.83              55.53    21.695      3.220  221246.2605\n",
              "...              ...                ...       ...        ...          ...\n",
              "26/9/20    213389.93              79.42     8.915      9.275  235133.0913\n",
              "27/9/20    203406.98              73.18     9.020      5.340  234739.2280\n",
              "28/9/20    229302.28              76.44     9.050      3.815  234715.4021\n",
              "29/9/20    224152.92              73.76    10.990      5.915  237374.3614\n",
              "30/9/20    227240.42              85.22    13.040      8.895  237615.7372\n",
              "\n",
              "[250 rows x 5 columns]"
            ]
          },
          "metadata": {
            "tags": []
          },
          "execution_count": 59
        }
      ]
    },
    {
      "cell_type": "code",
      "metadata": {
        "id": "2o9qo7XfHsMS",
        "outputId": "83fc959b-8c69-43d3-dfc1-a4ca3218e76e",
        "colab": {
          "base_uri": "https://localhost:8080/",
          "height": 296
        }
      },
      "source": [
        "t[['TOTALDEMAND','Energy_pred']].plot()"
      ],
      "execution_count": 60,
      "outputs": [
        {
          "output_type": "execute_result",
          "data": {
            "text/plain": [
              "<matplotlib.axes._subplots.AxesSubplot at 0x7f92150ecc18>"
            ]
          },
          "metadata": {
            "tags": []
          },
          "execution_count": 60
        },
        {
          "output_type": "display_data",
          "data": {
            "image/png": "[encoded data removed]",
            "text/plain": [
              "<Figure size 432x288 with 1 Axes>"
            ]
          },
          "metadata": {
            "tags": [],
            "needs_background": "light"
          }
        }
      ]
    },
    {
      "cell_type": "markdown",
      "metadata": {
        "id": "TDGD3W82l5yH"
      },
      "source": [
        "**##### ANOTHER MODEL #####**"
      ]
    },
    {
      "cell_type": "code",
      "metadata": {
        "id": "MuSXLBvwqYwC"
      },
      "source": [
        "import numpy as np\n",
        "import pandas as pd\n",
        "import matplotlib.pyplot as plt\n",
        "import datetime as dt\n",
        "from datetime import datetime\n",
        "\n",
        "from keras.callbacks import EarlyStopping, ReduceLROnPlateau, ModelCheckpoint, TensorBoard\n",
        "\n",
        "%matplotlib inline"
      ],
      "execution_count": null,
      "outputs": []
    },
    {
      "cell_type": "code",
      "metadata": {
        "id": "0ndA-bvPvBcb"
      },
      "source": [
        "#Reading the dataset\n",
        "\n",
        "data = pd.read_csv('u_fulldata_vic.csv',\n",
        "                  parse_dates = True,\n",
        "                  low_memory = False)"
      ],
      "execution_count": null,
      "outputs": []
    },
    {
      "cell_type": "code",
      "metadata": {
        "id": "XXMODFX_vBgg",
        "outputId": "21f4b29a-9f7e-4bff-8d0d-b26c66a06c55",
        "colab": {
          "base_uri": "https://localhost:8080/",
          "height": 411
        }
      },
      "source": [
        "#printing top rows\n",
        "\n",
        "data.head()"
      ],
      "execution_count": null,
      "outputs": [
        {
          "output_type": "execute_result",
          "data": {
            "text/html": [
              "<div>\n",
              "<style scoped>\n",
              "    .dataframe tbody tr th:only-of-type {\n",
              "        vertical-align: middle;\n",
              "    }\n",
              "\n",
              "    .dataframe tbody tr th {\n",
              "        vertical-align: top;\n",
              "    }\n",
              "\n",
              "    .dataframe thead th {\n",
              "        text-align: right;\n",
              "    }\n",
              "</style>\n",
              "<table border=\"1\" class=\"dataframe\">\n",
              "  <thead>\n",
              "    <tr style=\"text-align: right;\">\n",
              "      <th></th>\n",
              "      <th>Month</th>\n",
              "      <th>Day</th>\n",
              "      <th>TOTALDEMAND</th>\n",
              "      <th>YEAR</th>\n",
              "      <th>Date</th>\n",
              "      <th>relative_humidity</th>\n",
              "      <th>dew_temp</th>\n",
              "      <th>max_temp</th>\n",
              "      <th>min_temp</th>\n",
              "      <th>temp2m</th>\n",
              "      <th>WS50M_MIN</th>\n",
              "      <th>WS10M_MIN</th>\n",
              "      <th>WS50M_MAX</th>\n",
              "      <th>WS10M_MAX</th>\n",
              "      <th>WS50M</th>\n",
              "      <th>WS10M</th>\n",
              "      <th>avg_temp</th>\n",
              "      <th>ws_avg_50</th>\n",
              "      <th>ws_avg_10</th>\n",
              "      <th>Unnamed: 19</th>\n",
              "    </tr>\n",
              "  </thead>\n",
              "  <tbody>\n",
              "    <tr>\n",
              "      <th>0</th>\n",
              "      <td>1</td>\n",
              "      <td>1</td>\n",
              "      <td>226550.31</td>\n",
              "      <td>2016</td>\n",
              "      <td>01-01-2016</td>\n",
              "      <td>56.49</td>\n",
              "      <td>12.69</td>\n",
              "      <td>27.74</td>\n",
              "      <td>15.97</td>\n",
              "      <td>21.87</td>\n",
              "      <td>1.63</td>\n",
              "      <td>1.09</td>\n",
              "      <td>6.98</td>\n",
              "      <td>5.98</td>\n",
              "      <td>4.48</td>\n",
              "      <td>3.60</td>\n",
              "      <td>21.855</td>\n",
              "      <td>4.305</td>\n",
              "      <td>3.535</td>\n",
              "      <td>NaN</td>\n",
              "    </tr>\n",
              "    <tr>\n",
              "      <th>1</th>\n",
              "      <td>1</td>\n",
              "      <td>2</td>\n",
              "      <td>199245.28</td>\n",
              "      <td>2016</td>\n",
              "      <td>02-01-2016</td>\n",
              "      <td>66.32</td>\n",
              "      <td>12.94</td>\n",
              "      <td>26.07</td>\n",
              "      <td>14.76</td>\n",
              "      <td>19.40</td>\n",
              "      <td>4.69</td>\n",
              "      <td>4.19</td>\n",
              "      <td>9.66</td>\n",
              "      <td>8.12</td>\n",
              "      <td>7.04</td>\n",
              "      <td>5.80</td>\n",
              "      <td>20.415</td>\n",
              "      <td>7.175</td>\n",
              "      <td>6.155</td>\n",
              "      <td>NaN</td>\n",
              "    </tr>\n",
              "    <tr>\n",
              "      <th>2</th>\n",
              "      <td>1</td>\n",
              "      <td>3</td>\n",
              "      <td>195312.89</td>\n",
              "      <td>2016</td>\n",
              "      <td>03-01-2016</td>\n",
              "      <td>71.23</td>\n",
              "      <td>13.13</td>\n",
              "      <td>22.40</td>\n",
              "      <td>15.35</td>\n",
              "      <td>18.41</td>\n",
              "      <td>5.58</td>\n",
              "      <td>3.55</td>\n",
              "      <td>7.79</td>\n",
              "      <td>6.27</td>\n",
              "      <td>6.92</td>\n",
              "      <td>5.35</td>\n",
              "      <td>18.875</td>\n",
              "      <td>6.685</td>\n",
              "      <td>4.910</td>\n",
              "      <td>NaN</td>\n",
              "    </tr>\n",
              "    <tr>\n",
              "      <th>3</th>\n",
              "      <td>1</td>\n",
              "      <td>4</td>\n",
              "      <td>221865.01</td>\n",
              "      <td>2016</td>\n",
              "      <td>04-01-2016</td>\n",
              "      <td>75.53</td>\n",
              "      <td>13.78</td>\n",
              "      <td>21.67</td>\n",
              "      <td>15.31</td>\n",
              "      <td>18.16</td>\n",
              "      <td>3.91</td>\n",
              "      <td>3.01</td>\n",
              "      <td>7.76</td>\n",
              "      <td>5.58</td>\n",
              "      <td>5.39</td>\n",
              "      <td>4.07</td>\n",
              "      <td>18.490</td>\n",
              "      <td>5.835</td>\n",
              "      <td>4.295</td>\n",
              "      <td>NaN</td>\n",
              "    </tr>\n",
              "    <tr>\n",
              "      <th>4</th>\n",
              "      <td>1</td>\n",
              "      <td>5</td>\n",
              "      <td>235747.16</td>\n",
              "      <td>2016</td>\n",
              "      <td>05-01-2016</td>\n",
              "      <td>68.87</td>\n",
              "      <td>13.47</td>\n",
              "      <td>24.57</td>\n",
              "      <td>13.86</td>\n",
              "      <td>19.37</td>\n",
              "      <td>0.63</td>\n",
              "      <td>0.71</td>\n",
              "      <td>5.34</td>\n",
              "      <td>3.24</td>\n",
              "      <td>3.29</td>\n",
              "      <td>2.33</td>\n",
              "      <td>19.215</td>\n",
              "      <td>2.985</td>\n",
              "      <td>1.975</td>\n",
              "      <td>NaN</td>\n",
              "    </tr>\n",
              "  </tbody>\n",
              "</table>\n",
              "</div>"
            ],
            "text/plain": [
              "   Month  Day  TOTALDEMAND  YEAR  ... avg_temp  ws_avg_50  ws_avg_10  Unnamed: 19\n",
              "0      1    1    226550.31  2016  ...   21.855      4.305      3.535          NaN\n",
              "1      1    2    199245.28  2016  ...   20.415      7.175      6.155          NaN\n",
              "2      1    3    195312.89  2016  ...   18.875      6.685      4.910          NaN\n",
              "3      1    4    221865.01  2016  ...   18.490      5.835      4.295          NaN\n",
              "4      1    5    235747.16  2016  ...   19.215      2.985      1.975          NaN\n",
              "\n",
              "[5 rows x 20 columns]"
            ]
          },
          "metadata": {
            "tags": []
          },
          "execution_count": 287
        }
      ]
    },
    {
      "cell_type": "code",
      "metadata": {
        "id": "nEkSgOK_vBlX",
        "outputId": "6ca56b4a-b23e-4d8f-b9a1-6bc62ca6b0ca",
        "colab": {
          "base_uri": "https://localhost:8080/",
          "height": 476
        }
      },
      "source": [
        "data.info()"
      ],
      "execution_count": null,
      "outputs": [
        {
          "output_type": "stream",
          "text": [
            "<class 'pandas.core.frame.DataFrame'>\n",
            "RangeIndex: 1461 entries, 0 to 1460\n",
            "Data columns (total 20 columns):\n",
            " #   Column             Non-Null Count  Dtype  \n",
            "---  ------             --------------  -----  \n",
            " 0   Month              1461 non-null   int64  \n",
            " 1   Day                1461 non-null   int64  \n",
            " 2   TOTALDEMAND        1461 non-null   float64\n",
            " 3   YEAR               1461 non-null   int64  \n",
            " 4   Date               1461 non-null   object \n",
            " 5   relative_humidity  1461 non-null   float64\n",
            " 6   dew_temp           1461 non-null   float64\n",
            " 7   max_temp           1461 non-null   float64\n",
            " 8   min_temp           1461 non-null   float64\n",
            " 9   temp2m             1461 non-null   float64\n",
            " 10  WS50M_MIN          1461 non-null   float64\n",
            " 11  WS10M_MIN          1461 non-null   float64\n",
            " 12  WS50M_MAX          1461 non-null   float64\n",
            " 13  WS10M_MAX          1461 non-null   float64\n",
            " 14  WS50M              1461 non-null   float64\n",
            " 15  WS10M              1461 non-null   float64\n",
            " 16  avg_temp           1461 non-null   float64\n",
            " 17  ws_avg_50          1461 non-null   float64\n",
            " 18  ws_avg_10          1461 non-null   float64\n",
            " 19  Unnamed: 19        365 non-null    object \n",
            "dtypes: float64(15), int64(3), object(2)\n",
            "memory usage: 228.4+ KB\n"
          ],
          "name": "stdout"
        }
      ]
    },
    {
      "cell_type": "code",
      "metadata": {
        "id": "YAscuZtMvBpo"
      },
      "source": [
        "data = data[['TOTALDEMAND',\t'YEAR',\t'Date',\t'relative_humidity',\t'dew_temp', 'avg_temp',\t'ws_avg_50']]"
      ],
      "execution_count": null,
      "outputs": []
    },
    {
      "cell_type": "code",
      "metadata": {
        "id": "xwcuCYZc4pA9"
      },
      "source": [
        "data['Date'] = pd.to_datetime(data['Date'])"
      ],
      "execution_count": null,
      "outputs": []
    },
    {
      "cell_type": "code",
      "metadata": {
        "id": "PlqAAqPS4pEA",
        "outputId": "35ef8885-d749-47eb-c46c-329d2f81a3d5",
        "colab": {
          "base_uri": "https://localhost:8080/",
          "height": 235
        }
      },
      "source": [
        "data.set_index(['Date'], inplace=True)\n",
        "data.head()"
      ],
      "execution_count": null,
      "outputs": [
        {
          "output_type": "execute_result",
          "data": {
            "text/html": [
              "<div>\n",
              "<style scoped>\n",
              "    .dataframe tbody tr th:only-of-type {\n",
              "        vertical-align: middle;\n",
              "    }\n",
              "\n",
              "    .dataframe tbody tr th {\n",
              "        vertical-align: top;\n",
              "    }\n",
              "\n",
              "    .dataframe thead th {\n",
              "        text-align: right;\n",
              "    }\n",
              "</style>\n",
              "<table border=\"1\" class=\"dataframe\">\n",
              "  <thead>\n",
              "    <tr style=\"text-align: right;\">\n",
              "      <th></th>\n",
              "      <th>TOTALDEMAND</th>\n",
              "      <th>YEAR</th>\n",
              "      <th>relative_humidity</th>\n",
              "      <th>dew_temp</th>\n",
              "      <th>avg_temp</th>\n",
              "      <th>ws_avg_50</th>\n",
              "    </tr>\n",
              "    <tr>\n",
              "      <th>Date</th>\n",
              "      <th></th>\n",
              "      <th></th>\n",
              "      <th></th>\n",
              "      <th></th>\n",
              "      <th></th>\n",
              "      <th></th>\n",
              "    </tr>\n",
              "  </thead>\n",
              "  <tbody>\n",
              "    <tr>\n",
              "      <th>2016-01-01</th>\n",
              "      <td>226550.31</td>\n",
              "      <td>2016</td>\n",
              "      <td>56.49</td>\n",
              "      <td>12.69</td>\n",
              "      <td>21.855</td>\n",
              "      <td>4.305</td>\n",
              "    </tr>\n",
              "    <tr>\n",
              "      <th>2016-02-01</th>\n",
              "      <td>199245.28</td>\n",
              "      <td>2016</td>\n",
              "      <td>66.32</td>\n",
              "      <td>12.94</td>\n",
              "      <td>20.415</td>\n",
              "      <td>7.175</td>\n",
              "    </tr>\n",
              "    <tr>\n",
              "      <th>2016-03-01</th>\n",
              "      <td>195312.89</td>\n",
              "      <td>2016</td>\n",
              "      <td>71.23</td>\n",
              "      <td>13.13</td>\n",
              "      <td>18.875</td>\n",
              "      <td>6.685</td>\n",
              "    </tr>\n",
              "    <tr>\n",
              "      <th>2016-04-01</th>\n",
              "      <td>221865.01</td>\n",
              "      <td>2016</td>\n",
              "      <td>75.53</td>\n",
              "      <td>13.78</td>\n",
              "      <td>18.490</td>\n",
              "      <td>5.835</td>\n",
              "    </tr>\n",
              "    <tr>\n",
              "      <th>2016-05-01</th>\n",
              "      <td>235747.16</td>\n",
              "      <td>2016</td>\n",
              "      <td>68.87</td>\n",
              "      <td>13.47</td>\n",
              "      <td>19.215</td>\n",
              "      <td>2.985</td>\n",
              "    </tr>\n",
              "  </tbody>\n",
              "</table>\n",
              "</div>"
            ],
            "text/plain": [
              "            TOTALDEMAND  YEAR  relative_humidity  dew_temp  avg_temp  ws_avg_50\n",
              "Date                                                                           \n",
              "2016-01-01    226550.31  2016              56.49     12.69    21.855      4.305\n",
              "2016-02-01    199245.28  2016              66.32     12.94    20.415      7.175\n",
              "2016-03-01    195312.89  2016              71.23     13.13    18.875      6.685\n",
              "2016-04-01    221865.01  2016              75.53     13.78    18.490      5.835\n",
              "2016-05-01    235747.16  2016              68.87     13.47    19.215      2.985"
            ]
          },
          "metadata": {
            "tags": []
          },
          "execution_count": 291
        }
      ]
    },
    {
      "cell_type": "code",
      "metadata": {
        "id": "uXGFjVhX4pGI"
      },
      "source": [
        "data = data.drop(['YEAR'],axis=1)"
      ],
      "execution_count": null,
      "outputs": []
    },
    {
      "cell_type": "code",
      "metadata": {
        "id": "9p_VWqf94pJK",
        "outputId": "fa136326-ada2-458e-fef3-d1f51bc3d592",
        "colab": {
          "base_uri": "https://localhost:8080/",
          "height": 235
        }
      },
      "source": [
        "data.head()"
      ],
      "execution_count": null,
      "outputs": [
        {
          "output_type": "execute_result",
          "data": {
            "text/html": [
              "<div>\n",
              "<style scoped>\n",
              "    .dataframe tbody tr th:only-of-type {\n",
              "        vertical-align: middle;\n",
              "    }\n",
              "\n",
              "    .dataframe tbody tr th {\n",
              "        vertical-align: top;\n",
              "    }\n",
              "\n",
              "    .dataframe thead th {\n",
              "        text-align: right;\n",
              "    }\n",
              "</style>\n",
              "<table border=\"1\" class=\"dataframe\">\n",
              "  <thead>\n",
              "    <tr style=\"text-align: right;\">\n",
              "      <th></th>\n",
              "      <th>TOTALDEMAND</th>\n",
              "      <th>relative_humidity</th>\n",
              "      <th>dew_temp</th>\n",
              "      <th>avg_temp</th>\n",
              "      <th>ws_avg_50</th>\n",
              "    </tr>\n",
              "    <tr>\n",
              "      <th>Date</th>\n",
              "      <th></th>\n",
              "      <th></th>\n",
              "      <th></th>\n",
              "      <th></th>\n",
              "      <th></th>\n",
              "    </tr>\n",
              "  </thead>\n",
              "  <tbody>\n",
              "    <tr>\n",
              "      <th>2016-01-01</th>\n",
              "      <td>226550.31</td>\n",
              "      <td>56.49</td>\n",
              "      <td>12.69</td>\n",
              "      <td>21.855</td>\n",
              "      <td>4.305</td>\n",
              "    </tr>\n",
              "    <tr>\n",
              "      <th>2016-02-01</th>\n",
              "      <td>199245.28</td>\n",
              "      <td>66.32</td>\n",
              "      <td>12.94</td>\n",
              "      <td>20.415</td>\n",
              "      <td>7.175</td>\n",
              "    </tr>\n",
              "    <tr>\n",
              "      <th>2016-03-01</th>\n",
              "      <td>195312.89</td>\n",
              "      <td>71.23</td>\n",
              "      <td>13.13</td>\n",
              "      <td>18.875</td>\n",
              "      <td>6.685</td>\n",
              "    </tr>\n",
              "    <tr>\n",
              "      <th>2016-04-01</th>\n",
              "      <td>221865.01</td>\n",
              "      <td>75.53</td>\n",
              "      <td>13.78</td>\n",
              "      <td>18.490</td>\n",
              "      <td>5.835</td>\n",
              "    </tr>\n",
              "    <tr>\n",
              "      <th>2016-05-01</th>\n",
              "      <td>235747.16</td>\n",
              "      <td>68.87</td>\n",
              "      <td>13.47</td>\n",
              "      <td>19.215</td>\n",
              "      <td>2.985</td>\n",
              "    </tr>\n",
              "  </tbody>\n",
              "</table>\n",
              "</div>"
            ],
            "text/plain": [
              "            TOTALDEMAND  relative_humidity  dew_temp  avg_temp  ws_avg_50\n",
              "Date                                                                     \n",
              "2016-01-01    226550.31              56.49     12.69    21.855      4.305\n",
              "2016-02-01    199245.28              66.32     12.94    20.415      7.175\n",
              "2016-03-01    195312.89              71.23     13.13    18.875      6.685\n",
              "2016-04-01    221865.01              75.53     13.78    18.490      5.835\n",
              "2016-05-01    235747.16              68.87     13.47    19.215      2.985"
            ]
          },
          "metadata": {
            "tags": []
          },
          "execution_count": 293
        }
      ]
    },
    {
      "cell_type": "code",
      "metadata": {
        "id": "KQioM5x_4pLZ"
      },
      "source": [
        "data = data.astype('float')"
      ],
      "execution_count": null,
      "outputs": []
    },
    {
      "cell_type": "code",
      "metadata": {
        "id": "x-NP8HplvBef",
        "outputId": "e26e702e-b8b5-49d0-bb04-9a0304ebc74c",
        "colab": {
          "base_uri": "https://localhost:8080/",
          "height": 221
        }
      },
      "source": [
        "#information of the dataset\n",
        "\n",
        "data.info()"
      ],
      "execution_count": null,
      "outputs": [
        {
          "output_type": "stream",
          "text": [
            "<class 'pandas.core.frame.DataFrame'>\n",
            "DatetimeIndex: 1461 entries, 2016-01-01 to 2019-12-31\n",
            "Data columns (total 5 columns):\n",
            " #   Column             Non-Null Count  Dtype  \n",
            "---  ------             --------------  -----  \n",
            " 0   TOTALDEMAND        1461 non-null   float64\n",
            " 1   relative_humidity  1461 non-null   float64\n",
            " 2   dew_temp           1461 non-null   float64\n",
            " 3   avg_temp           1461 non-null   float64\n",
            " 4   ws_avg_50          1461 non-null   float64\n",
            "dtypes: float64(5)\n",
            "memory usage: 68.5 KB\n"
          ],
          "name": "stdout"
        }
      ]
    },
    {
      "cell_type": "code",
      "metadata": {
        "id": "S7Oagfey6Lrz",
        "outputId": "55c10caf-e405-44c7-c4ec-7c0a577360a1",
        "colab": {
          "base_uri": "https://localhost:8080/",
          "height": 119
        }
      },
      "source": [
        "#checking the null values\n",
        "\n",
        "np.isnan(data).sum()"
      ],
      "execution_count": null,
      "outputs": [
        {
          "output_type": "execute_result",
          "data": {
            "text/plain": [
              "TOTALDEMAND          0\n",
              "relative_humidity    0\n",
              "dew_temp             0\n",
              "avg_temp             0\n",
              "ws_avg_50            0\n",
              "dtype: int64"
            ]
          },
          "metadata": {
            "tags": []
          },
          "execution_count": 296
        }
      ]
    },
    {
      "cell_type": "code",
      "metadata": {
        "id": "mT-QbfN56Luh",
        "outputId": "0315d80c-3dab-4b7b-d774-d77c91351d16",
        "colab": {
          "base_uri": "https://localhost:8080/",
          "height": 34
        }
      },
      "source": [
        "data.shape"
      ],
      "execution_count": null,
      "outputs": [
        {
          "output_type": "execute_result",
          "data": {
            "text/plain": [
              "(1461, 5)"
            ]
          },
          "metadata": {
            "tags": []
          },
          "execution_count": 297
        }
      ]
    },
    {
      "cell_type": "code",
      "metadata": {
        "id": "npcm73-t8FgM"
      },
      "source": [
        "### Year wise histogram plot of feature Global_active_power\n",
        "\n",
        "# years = [2016, 2017, 2018, 2019]\n",
        "\n",
        "# fig, ax = plt.subplots(figsize=(18,18))\n",
        "\n",
        "# for i in range(len(years)):\n",
        "#     plt.subplot(len(years), 1, i+1)\n",
        "#     year = years[i]\n",
        "#     active_power_data = data[str(year)]\n",
        "#     active_power_data['Global_active_power'].hist(bins = 200)\n",
        "#     plt.title(str(year), y = 0, loc = 'left')\n",
        "# plt.show()\n",
        "# fig.tight_layout()"
      ],
      "execution_count": null,
      "outputs": []
    },
    {
      "cell_type": "code",
      "metadata": {
        "id": "nYU-CwWT6Lzr",
        "outputId": "54cf7f26-4d7e-4360-d87b-3b577f56478c",
        "colab": {
          "base_uri": "https://localhost:8080/",
          "height": 1000
        }
      },
      "source": [
        "### Histogram plot for All Features\n",
        "\n",
        "\n",
        "fig, ax = plt.subplots(figsize=(18,18))\n",
        "\n",
        "for i in range(len(data.columns)):\n",
        "    plt.subplot(len(data.columns), 1, i+1)\n",
        "    name = data.columns[i]\n",
        "    data[name].hist(bins=200)\n",
        "    plt.title(name, y=0, loc = 'right')\n",
        "    plt.yticks([])\n",
        "plt.show()\n",
        "fig.tight_layout()"
      ],
      "execution_count": null,
      "outputs": [
        {
          "output_type": "display_data",
          "data": {
            "image/png": "[encoded data removed]",
            "text/plain": [
              "<Figure size 1296x1296 with 5 Axes>"
            ]
          },
          "metadata": {
            "tags": [],
            "needs_background": "light"
          }
        }
      ]
    },
    {
      "cell_type": "code",
      "metadata": {
        "id": "3dZOr--v6L4g"
      },
      "source": [
        "# months = [i for i in range(1,13)]\n",
        "\n",
        "# fig, ax = plt.subplots(figsize=(18,18))\n",
        "\n",
        "# for i in range(len(months)):\n",
        "#     ax = plt.subplot(len(months), 1, i+1)\n",
        "#     month = '2016-' + str(months[i])\n",
        "#     active_power_data = dataset[month]\n",
        "#     active_power_data['Global_active_power'].hist(bins = 100)\n",
        "#     ax.set_xlim(0,5)\n",
        "#     plt.title(month, y = 0, loc = 'right')\n",
        "# plt.show()\n",
        "# fig.tight_layout()"
      ],
      "execution_count": null,
      "outputs": []
    },
    {
      "cell_type": "code",
      "metadata": {
        "id": "ObThetEc6L7w",
        "outputId": "98856597-8e0a-4154-dbda-d98c3658c1d2",
        "colab": {
          "base_uri": "https://localhost:8080/",
          "height": 136
        }
      },
      "source": [
        "data_train = data.loc[:'2018-12-31', :]['TOTALDEMAND']\n",
        "data_train.head()"
      ],
      "execution_count": null,
      "outputs": [
        {
          "output_type": "execute_result",
          "data": {
            "text/plain": [
              "Date\n",
              "2016-01-01    226550.31\n",
              "2016-02-01    199245.28\n",
              "2016-03-01    195312.89\n",
              "2016-04-01    221865.01\n",
              "2016-05-01    235747.16\n",
              "Name: TOTALDEMAND, dtype: float64"
            ]
          },
          "metadata": {
            "tags": []
          },
          "execution_count": 299
        }
      ]
    },
    {
      "cell_type": "code",
      "metadata": {
        "id": "3yIQYbI16MAU",
        "outputId": "26bf7769-d697-4124-83cf-746089ca42de",
        "colab": {
          "base_uri": "https://localhost:8080/",
          "height": 136
        }
      },
      "source": [
        "data_test = data.loc['2019-01-01':, :]['TOTALDEMAND']\n",
        "data_test.head()"
      ],
      "execution_count": null,
      "outputs": [
        {
          "output_type": "execute_result",
          "data": {
            "text/plain": [
              "Date\n",
              "2019-01-01    193379.92\n",
              "2019-02-01    212941.35\n",
              "2019-03-01    237579.21\n",
              "2019-04-01    266576.92\n",
              "2019-05-01    194525.58\n",
              "Name: TOTALDEMAND, dtype: float64"
            ]
          },
          "metadata": {
            "tags": []
          },
          "execution_count": 300
        }
      ]
    },
    {
      "cell_type": "code",
      "metadata": {
        "id": "satrvomL6L-l",
        "outputId": "cb5a4b9a-6ecb-42dc-f1ed-ab9b48286ce1",
        "colab": {
          "base_uri": "https://localhost:8080/",
          "height": 34
        }
      },
      "source": [
        "data_train.shape"
      ],
      "execution_count": null,
      "outputs": [
        {
          "output_type": "execute_result",
          "data": {
            "text/plain": [
              "(1096,)"
            ]
          },
          "metadata": {
            "tags": []
          },
          "execution_count": 242
        }
      ]
    },
    {
      "cell_type": "code",
      "metadata": {
        "id": "oLb8M03J6L2Z",
        "outputId": "7d32e2a1-ee79-4529-bd40-03b9d1aaaad5",
        "colab": {
          "base_uri": "https://localhost:8080/",
          "height": 34
        }
      },
      "source": [
        "data_test.shape"
      ],
      "execution_count": null,
      "outputs": [
        {
          "output_type": "execute_result",
          "data": {
            "text/plain": [
              "(365,)"
            ]
          },
          "metadata": {
            "tags": []
          },
          "execution_count": 243
        }
      ]
    },
    {
      "cell_type": "code",
      "metadata": {
        "id": "1OMHlmL39mz0"
      },
      "source": [
        "#converting the data into numpy array\n",
        "\n",
        "data_train = np.array(data_train)"
      ],
      "execution_count": null,
      "outputs": []
    },
    {
      "cell_type": "code",
      "metadata": {
        "id": "HQY54WbW9m2z"
      },
      "source": [
        "#we are splitting the data weekly wise(7days)\n",
        "\n",
        "X_train, y_train = [], []\n",
        "\n",
        "for i in range(30, len(data_train)-30):\n",
        "    X_train.append(data_train[i-30:i])\n",
        "    y_train.append(data_train[i:i+30])"
      ],
      "execution_count": null,
      "outputs": []
    },
    {
      "cell_type": "code",
      "metadata": {
        "id": "hqEzeGe1--M5"
      },
      "source": [
        "#converting list to numpy array\n",
        "\n",
        "X_train, y_train = np.array(X_train), np.array(y_train)\n"
      ],
      "execution_count": null,
      "outputs": []
    },
    {
      "cell_type": "code",
      "metadata": {
        "id": "lSzGKYeF--R4",
        "outputId": "9b81fc45-8f99-4e9e-ab7c-7a724d778ead",
        "colab": {
          "base_uri": "https://localhost:8080/",
          "height": 34
        }
      },
      "source": [
        "X_train.shape, y_train.shape"
      ],
      "execution_count": null,
      "outputs": [
        {
          "output_type": "execute_result",
          "data": {
            "text/plain": [
              "((1036, 30), (1036, 30))"
            ]
          },
          "metadata": {
            "tags": []
          },
          "execution_count": 281
        }
      ]
    },
    {
      "cell_type": "code",
      "metadata": {
        "id": "j1M1bVwO9m-T",
        "outputId": "ad7f8c81-a5b8-4ca5-d656-223c82f14ed4",
        "colab": {
          "base_uri": "https://localhost:8080/",
          "height": 439
        }
      },
      "source": [
        "#printing the ytrain value\n",
        "\n",
        "pd.DataFrame(y_train)"
      ],
      "execution_count": null,
      "outputs": [
        {
          "output_type": "execute_result",
          "data": {
            "text/html": [
              "<div>\n",
              "<style scoped>\n",
              "    .dataframe tbody tr th:only-of-type {\n",
              "        vertical-align: middle;\n",
              "    }\n",
              "\n",
              "    .dataframe tbody tr th {\n",
              "        vertical-align: top;\n",
              "    }\n",
              "\n",
              "    .dataframe thead th {\n",
              "        text-align: right;\n",
              "    }\n",
              "</style>\n",
              "<table border=\"1\" class=\"dataframe\">\n",
              "  <thead>\n",
              "    <tr style=\"text-align: right;\">\n",
              "      <th></th>\n",
              "      <th>0</th>\n",
              "      <th>1</th>\n",
              "      <th>2</th>\n",
              "      <th>3</th>\n",
              "      <th>4</th>\n",
              "      <th>5</th>\n",
              "      <th>6</th>\n",
              "      <th>7</th>\n",
              "      <th>8</th>\n",
              "      <th>9</th>\n",
              "      <th>10</th>\n",
              "      <th>11</th>\n",
              "      <th>12</th>\n",
              "      <th>13</th>\n",
              "      <th>14</th>\n",
              "      <th>15</th>\n",
              "      <th>16</th>\n",
              "      <th>17</th>\n",
              "      <th>18</th>\n",
              "      <th>19</th>\n",
              "      <th>20</th>\n",
              "      <th>21</th>\n",
              "      <th>22</th>\n",
              "      <th>23</th>\n",
              "      <th>24</th>\n",
              "      <th>25</th>\n",
              "      <th>26</th>\n",
              "      <th>27</th>\n",
              "      <th>28</th>\n",
              "      <th>29</th>\n",
              "    </tr>\n",
              "  </thead>\n",
              "  <tbody>\n",
              "    <tr>\n",
              "      <th>0</th>\n",
              "      <td>202559.30</td>\n",
              "      <td>239239.55</td>\n",
              "      <td>267978.31</td>\n",
              "      <td>245188.95</td>\n",
              "      <td>239839.21</td>\n",
              "      <td>252661.10</td>\n",
              "      <td>247474.02</td>\n",
              "      <td>248873.62</td>\n",
              "      <td>258654.45</td>\n",
              "      <td>262542.53</td>\n",
              "      <td>264530.01</td>\n",
              "      <td>262007.58</td>\n",
              "      <td>267691.04</td>\n",
              "      <td>241679.99</td>\n",
              "      <td>208729.47</td>\n",
              "      <td>241726.65</td>\n",
              "      <td>234124.07</td>\n",
              "      <td>238963.58</td>\n",
              "      <td>251928.37</td>\n",
              "      <td>245983.32</td>\n",
              "      <td>211823.42</td>\n",
              "      <td>215768.71</td>\n",
              "      <td>261054.65</td>\n",
              "      <td>313849.66</td>\n",
              "      <td>304838.83</td>\n",
              "      <td>276129.71</td>\n",
              "      <td>245151.87</td>\n",
              "      <td>221091.68</td>\n",
              "      <td>211563.97</td>\n",
              "      <td>250800.16</td>\n",
              "    </tr>\n",
              "    <tr>\n",
              "      <th>1</th>\n",
              "      <td>239239.55</td>\n",
              "      <td>267978.31</td>\n",
              "      <td>245188.95</td>\n",
              "      <td>239839.21</td>\n",
              "      <td>252661.10</td>\n",
              "      <td>247474.02</td>\n",
              "      <td>248873.62</td>\n",
              "      <td>258654.45</td>\n",
              "      <td>262542.53</td>\n",
              "      <td>264530.01</td>\n",
              "      <td>262007.58</td>\n",
              "      <td>267691.04</td>\n",
              "      <td>241679.99</td>\n",
              "      <td>208729.47</td>\n",
              "      <td>241726.65</td>\n",
              "      <td>234124.07</td>\n",
              "      <td>238963.58</td>\n",
              "      <td>251928.37</td>\n",
              "      <td>245983.32</td>\n",
              "      <td>211823.42</td>\n",
              "      <td>215768.71</td>\n",
              "      <td>261054.65</td>\n",
              "      <td>313849.66</td>\n",
              "      <td>304838.83</td>\n",
              "      <td>276129.71</td>\n",
              "      <td>245151.87</td>\n",
              "      <td>221091.68</td>\n",
              "      <td>211563.97</td>\n",
              "      <td>250800.16</td>\n",
              "      <td>279446.68</td>\n",
              "    </tr>\n",
              "    <tr>\n",
              "      <th>2</th>\n",
              "      <td>267978.31</td>\n",
              "      <td>245188.95</td>\n",
              "      <td>239839.21</td>\n",
              "      <td>252661.10</td>\n",
              "      <td>247474.02</td>\n",
              "      <td>248873.62</td>\n",
              "      <td>258654.45</td>\n",
              "      <td>262542.53</td>\n",
              "      <td>264530.01</td>\n",
              "      <td>262007.58</td>\n",
              "      <td>267691.04</td>\n",
              "      <td>241679.99</td>\n",
              "      <td>208729.47</td>\n",
              "      <td>241726.65</td>\n",
              "      <td>234124.07</td>\n",
              "      <td>238963.58</td>\n",
              "      <td>251928.37</td>\n",
              "      <td>245983.32</td>\n",
              "      <td>211823.42</td>\n",
              "      <td>215768.71</td>\n",
              "      <td>261054.65</td>\n",
              "      <td>313849.66</td>\n",
              "      <td>304838.83</td>\n",
              "      <td>276129.71</td>\n",
              "      <td>245151.87</td>\n",
              "      <td>221091.68</td>\n",
              "      <td>211563.97</td>\n",
              "      <td>250800.16</td>\n",
              "      <td>279446.68</td>\n",
              "      <td>290365.96</td>\n",
              "    </tr>\n",
              "    <tr>\n",
              "      <th>3</th>\n",
              "      <td>245188.95</td>\n",
              "      <td>239839.21</td>\n",
              "      <td>252661.10</td>\n",
              "      <td>247474.02</td>\n",
              "      <td>248873.62</td>\n",
              "      <td>258654.45</td>\n",
              "      <td>262542.53</td>\n",
              "      <td>264530.01</td>\n",
              "      <td>262007.58</td>\n",
              "      <td>267691.04</td>\n",
              "      <td>241679.99</td>\n",
              "      <td>208729.47</td>\n",
              "      <td>241726.65</td>\n",
              "      <td>234124.07</td>\n",
              "      <td>238963.58</td>\n",
              "      <td>251928.37</td>\n",
              "      <td>245983.32</td>\n",
              "      <td>211823.42</td>\n",
              "      <td>215768.71</td>\n",
              "      <td>261054.65</td>\n",
              "      <td>313849.66</td>\n",
              "      <td>304838.83</td>\n",
              "      <td>276129.71</td>\n",
              "      <td>245151.87</td>\n",
              "      <td>221091.68</td>\n",
              "      <td>211563.97</td>\n",
              "      <td>250800.16</td>\n",
              "      <td>279446.68</td>\n",
              "      <td>290365.96</td>\n",
              "      <td>272452.24</td>\n",
              "    </tr>\n",
              "    <tr>\n",
              "      <th>4</th>\n",
              "      <td>239839.21</td>\n",
              "      <td>252661.10</td>\n",
              "      <td>247474.02</td>\n",
              "      <td>248873.62</td>\n",
              "      <td>258654.45</td>\n",
              "      <td>262542.53</td>\n",
              "      <td>264530.01</td>\n",
              "      <td>262007.58</td>\n",
              "      <td>267691.04</td>\n",
              "      <td>241679.99</td>\n",
              "      <td>208729.47</td>\n",
              "      <td>241726.65</td>\n",
              "      <td>234124.07</td>\n",
              "      <td>238963.58</td>\n",
              "      <td>251928.37</td>\n",
              "      <td>245983.32</td>\n",
              "      <td>211823.42</td>\n",
              "      <td>215768.71</td>\n",
              "      <td>261054.65</td>\n",
              "      <td>313849.66</td>\n",
              "      <td>304838.83</td>\n",
              "      <td>276129.71</td>\n",
              "      <td>245151.87</td>\n",
              "      <td>221091.68</td>\n",
              "      <td>211563.97</td>\n",
              "      <td>250800.16</td>\n",
              "      <td>279446.68</td>\n",
              "      <td>290365.96</td>\n",
              "      <td>272452.24</td>\n",
              "      <td>298753.14</td>\n",
              "    </tr>\n",
              "    <tr>\n",
              "      <th>...</th>\n",
              "      <td>...</td>\n",
              "      <td>...</td>\n",
              "      <td>...</td>\n",
              "      <td>...</td>\n",
              "      <td>...</td>\n",
              "      <td>...</td>\n",
              "      <td>...</td>\n",
              "      <td>...</td>\n",
              "      <td>...</td>\n",
              "      <td>...</td>\n",
              "      <td>...</td>\n",
              "      <td>...</td>\n",
              "      <td>...</td>\n",
              "      <td>...</td>\n",
              "      <td>...</td>\n",
              "      <td>...</td>\n",
              "      <td>...</td>\n",
              "      <td>...</td>\n",
              "      <td>...</td>\n",
              "      <td>...</td>\n",
              "      <td>...</td>\n",
              "      <td>...</td>\n",
              "      <td>...</td>\n",
              "      <td>...</td>\n",
              "      <td>...</td>\n",
              "      <td>...</td>\n",
              "      <td>...</td>\n",
              "      <td>...</td>\n",
              "      <td>...</td>\n",
              "      <td>...</td>\n",
              "    </tr>\n",
              "    <tr>\n",
              "      <th>1031</th>\n",
              "      <td>219412.84</td>\n",
              "      <td>213369.65</td>\n",
              "      <td>225173.48</td>\n",
              "      <td>220063.64</td>\n",
              "      <td>196870.65</td>\n",
              "      <td>177806.13</td>\n",
              "      <td>215332.61</td>\n",
              "      <td>223436.15</td>\n",
              "      <td>228450.24</td>\n",
              "      <td>270904.52</td>\n",
              "      <td>313296.81</td>\n",
              "      <td>242474.94</td>\n",
              "      <td>204322.23</td>\n",
              "      <td>221607.53</td>\n",
              "      <td>228827.57</td>\n",
              "      <td>259430.93</td>\n",
              "      <td>229972.66</td>\n",
              "      <td>220050.93</td>\n",
              "      <td>205154.29</td>\n",
              "      <td>198221.55</td>\n",
              "      <td>225608.80</td>\n",
              "      <td>226970.21</td>\n",
              "      <td>239814.49</td>\n",
              "      <td>223761.05</td>\n",
              "      <td>204151.85</td>\n",
              "      <td>185451.48</td>\n",
              "      <td>189876.79</td>\n",
              "      <td>224717.63</td>\n",
              "      <td>196383.31</td>\n",
              "      <td>200034.39</td>\n",
              "    </tr>\n",
              "    <tr>\n",
              "      <th>1032</th>\n",
              "      <td>213369.65</td>\n",
              "      <td>225173.48</td>\n",
              "      <td>220063.64</td>\n",
              "      <td>196870.65</td>\n",
              "      <td>177806.13</td>\n",
              "      <td>215332.61</td>\n",
              "      <td>223436.15</td>\n",
              "      <td>228450.24</td>\n",
              "      <td>270904.52</td>\n",
              "      <td>313296.81</td>\n",
              "      <td>242474.94</td>\n",
              "      <td>204322.23</td>\n",
              "      <td>221607.53</td>\n",
              "      <td>228827.57</td>\n",
              "      <td>259430.93</td>\n",
              "      <td>229972.66</td>\n",
              "      <td>220050.93</td>\n",
              "      <td>205154.29</td>\n",
              "      <td>198221.55</td>\n",
              "      <td>225608.80</td>\n",
              "      <td>226970.21</td>\n",
              "      <td>239814.49</td>\n",
              "      <td>223761.05</td>\n",
              "      <td>204151.85</td>\n",
              "      <td>185451.48</td>\n",
              "      <td>189876.79</td>\n",
              "      <td>224717.63</td>\n",
              "      <td>196383.31</td>\n",
              "      <td>200034.39</td>\n",
              "      <td>259498.28</td>\n",
              "    </tr>\n",
              "    <tr>\n",
              "      <th>1033</th>\n",
              "      <td>225173.48</td>\n",
              "      <td>220063.64</td>\n",
              "      <td>196870.65</td>\n",
              "      <td>177806.13</td>\n",
              "      <td>215332.61</td>\n",
              "      <td>223436.15</td>\n",
              "      <td>228450.24</td>\n",
              "      <td>270904.52</td>\n",
              "      <td>313296.81</td>\n",
              "      <td>242474.94</td>\n",
              "      <td>204322.23</td>\n",
              "      <td>221607.53</td>\n",
              "      <td>228827.57</td>\n",
              "      <td>259430.93</td>\n",
              "      <td>229972.66</td>\n",
              "      <td>220050.93</td>\n",
              "      <td>205154.29</td>\n",
              "      <td>198221.55</td>\n",
              "      <td>225608.80</td>\n",
              "      <td>226970.21</td>\n",
              "      <td>239814.49</td>\n",
              "      <td>223761.05</td>\n",
              "      <td>204151.85</td>\n",
              "      <td>185451.48</td>\n",
              "      <td>189876.79</td>\n",
              "      <td>224717.63</td>\n",
              "      <td>196383.31</td>\n",
              "      <td>200034.39</td>\n",
              "      <td>259498.28</td>\n",
              "      <td>267662.75</td>\n",
              "    </tr>\n",
              "    <tr>\n",
              "      <th>1034</th>\n",
              "      <td>220063.64</td>\n",
              "      <td>196870.65</td>\n",
              "      <td>177806.13</td>\n",
              "      <td>215332.61</td>\n",
              "      <td>223436.15</td>\n",
              "      <td>228450.24</td>\n",
              "      <td>270904.52</td>\n",
              "      <td>313296.81</td>\n",
              "      <td>242474.94</td>\n",
              "      <td>204322.23</td>\n",
              "      <td>221607.53</td>\n",
              "      <td>228827.57</td>\n",
              "      <td>259430.93</td>\n",
              "      <td>229972.66</td>\n",
              "      <td>220050.93</td>\n",
              "      <td>205154.29</td>\n",
              "      <td>198221.55</td>\n",
              "      <td>225608.80</td>\n",
              "      <td>226970.21</td>\n",
              "      <td>239814.49</td>\n",
              "      <td>223761.05</td>\n",
              "      <td>204151.85</td>\n",
              "      <td>185451.48</td>\n",
              "      <td>189876.79</td>\n",
              "      <td>224717.63</td>\n",
              "      <td>196383.31</td>\n",
              "      <td>200034.39</td>\n",
              "      <td>259498.28</td>\n",
              "      <td>267662.75</td>\n",
              "      <td>216580.22</td>\n",
              "    </tr>\n",
              "    <tr>\n",
              "      <th>1035</th>\n",
              "      <td>196870.65</td>\n",
              "      <td>177806.13</td>\n",
              "      <td>215332.61</td>\n",
              "      <td>223436.15</td>\n",
              "      <td>228450.24</td>\n",
              "      <td>270904.52</td>\n",
              "      <td>313296.81</td>\n",
              "      <td>242474.94</td>\n",
              "      <td>204322.23</td>\n",
              "      <td>221607.53</td>\n",
              "      <td>228827.57</td>\n",
              "      <td>259430.93</td>\n",
              "      <td>229972.66</td>\n",
              "      <td>220050.93</td>\n",
              "      <td>205154.29</td>\n",
              "      <td>198221.55</td>\n",
              "      <td>225608.80</td>\n",
              "      <td>226970.21</td>\n",
              "      <td>239814.49</td>\n",
              "      <td>223761.05</td>\n",
              "      <td>204151.85</td>\n",
              "      <td>185451.48</td>\n",
              "      <td>189876.79</td>\n",
              "      <td>224717.63</td>\n",
              "      <td>196383.31</td>\n",
              "      <td>200034.39</td>\n",
              "      <td>259498.28</td>\n",
              "      <td>267662.75</td>\n",
              "      <td>216580.22</td>\n",
              "      <td>199227.73</td>\n",
              "    </tr>\n",
              "  </tbody>\n",
              "</table>\n",
              "<p>1036 rows × 30 columns</p>\n",
              "</div>"
            ],
            "text/plain": [
              "             0          1          2   ...         27         28         29\n",
              "0     202559.30  239239.55  267978.31  ...  221091.68  211563.97  250800.16\n",
              "1     239239.55  267978.31  245188.95  ...  211563.97  250800.16  279446.68\n",
              "2     267978.31  245188.95  239839.21  ...  250800.16  279446.68  290365.96\n",
              "3     245188.95  239839.21  252661.10  ...  279446.68  290365.96  272452.24\n",
              "4     239839.21  252661.10  247474.02  ...  290365.96  272452.24  298753.14\n",
              "...         ...        ...        ...  ...        ...        ...        ...\n",
              "1031  219412.84  213369.65  225173.48  ...  224717.63  196383.31  200034.39\n",
              "1032  213369.65  225173.48  220063.64  ...  196383.31  200034.39  259498.28\n",
              "1033  225173.48  220063.64  196870.65  ...  200034.39  259498.28  267662.75\n",
              "1034  220063.64  196870.65  177806.13  ...  259498.28  267662.75  216580.22\n",
              "1035  196870.65  177806.13  215332.61  ...  267662.75  216580.22  199227.73\n",
              "\n",
              "[1036 rows x 30 columns]"
            ]
          },
          "metadata": {
            "tags": []
          },
          "execution_count": 283
        }
      ]
    },
    {
      "cell_type": "code",
      "metadata": {
        "id": "Ivn4daoZ9nC0"
      },
      "source": [
        "#Normalising the dataset between 0 and 1\n",
        "\n",
        "x_scaler = MinMaxScaler()\n",
        "X_train = x_scaler.fit_transform(X_train)"
      ],
      "execution_count": null,
      "outputs": []
    },
    {
      "cell_type": "code",
      "metadata": {
        "id": "__54pdUm9nIA"
      },
      "source": [
        "#Normalising the dataset\n",
        "\n",
        "y_scaler = MinMaxScaler()\n",
        "y_train = y_scaler.fit_transform(y_train)"
      ],
      "execution_count": null,
      "outputs": []
    },
    {
      "cell_type": "code",
      "metadata": {
        "id": "Leh-wICt9nM2",
        "outputId": "adcf0f0a-2554-4840-ed5a-44767c81786c",
        "colab": {
          "base_uri": "https://localhost:8080/",
          "height": 204
        }
      },
      "source": [
        "pd.DataFrame(X_train).head()"
      ],
      "execution_count": null,
      "outputs": [
        {
          "output_type": "execute_result",
          "data": {
            "text/html": [
              "<div>\n",
              "<style scoped>\n",
              "    .dataframe tbody tr th:only-of-type {\n",
              "        vertical-align: middle;\n",
              "    }\n",
              "\n",
              "    .dataframe tbody tr th {\n",
              "        vertical-align: top;\n",
              "    }\n",
              "\n",
              "    .dataframe thead th {\n",
              "        text-align: right;\n",
              "    }\n",
              "</style>\n",
              "<table border=\"1\" class=\"dataframe\">\n",
              "  <thead>\n",
              "    <tr style=\"text-align: right;\">\n",
              "      <th></th>\n",
              "      <th>0</th>\n",
              "      <th>1</th>\n",
              "      <th>2</th>\n",
              "      <th>3</th>\n",
              "      <th>4</th>\n",
              "      <th>5</th>\n",
              "      <th>6</th>\n",
              "    </tr>\n",
              "  </thead>\n",
              "  <tbody>\n",
              "    <tr>\n",
              "      <th>0</th>\n",
              "      <td>0.352364</td>\n",
              "      <td>0.181657</td>\n",
              "      <td>0.157073</td>\n",
              "      <td>0.323073</td>\n",
              "      <td>0.409862</td>\n",
              "      <td>0.374735</td>\n",
              "      <td>0.341330</td>\n",
              "    </tr>\n",
              "    <tr>\n",
              "      <th>1</th>\n",
              "      <td>0.181657</td>\n",
              "      <td>0.157073</td>\n",
              "      <td>0.323073</td>\n",
              "      <td>0.409862</td>\n",
              "      <td>0.374735</td>\n",
              "      <td>0.341330</td>\n",
              "      <td>0.334914</td>\n",
              "    </tr>\n",
              "    <tr>\n",
              "      <th>2</th>\n",
              "      <td>0.157073</td>\n",
              "      <td>0.323073</td>\n",
              "      <td>0.409862</td>\n",
              "      <td>0.374735</td>\n",
              "      <td>0.341330</td>\n",
              "      <td>0.334914</td>\n",
              "      <td>0.254930</td>\n",
              "    </tr>\n",
              "    <tr>\n",
              "      <th>3</th>\n",
              "      <td>0.323073</td>\n",
              "      <td>0.409862</td>\n",
              "      <td>0.374735</td>\n",
              "      <td>0.341330</td>\n",
              "      <td>0.334914</td>\n",
              "      <td>0.254930</td>\n",
              "      <td>0.349539</td>\n",
              "    </tr>\n",
              "    <tr>\n",
              "      <th>4</th>\n",
              "      <td>0.409862</td>\n",
              "      <td>0.374735</td>\n",
              "      <td>0.341330</td>\n",
              "      <td>0.334914</td>\n",
              "      <td>0.254930</td>\n",
              "      <td>0.349539</td>\n",
              "      <td>0.700692</td>\n",
              "    </tr>\n",
              "  </tbody>\n",
              "</table>\n",
              "</div>"
            ],
            "text/plain": [
              "          0         1         2         3         4         5         6\n",
              "0  0.352364  0.181657  0.157073  0.323073  0.409862  0.374735  0.341330\n",
              "1  0.181657  0.157073  0.323073  0.409862  0.374735  0.341330  0.334914\n",
              "2  0.157073  0.323073  0.409862  0.374735  0.341330  0.334914  0.254930\n",
              "3  0.323073  0.409862  0.374735  0.341330  0.334914  0.254930  0.349539\n",
              "4  0.409862  0.374735  0.341330  0.334914  0.254930  0.349539  0.700692"
            ]
          },
          "metadata": {
            "tags": []
          },
          "execution_count": 251
        }
      ]
    },
    {
      "cell_type": "code",
      "metadata": {
        "id": "mr4RHcFB9nRn"
      },
      "source": [
        "#converting to 3 dimension\n",
        "\n",
        "X_train = X_train.reshape(1082, 7, 1)"
      ],
      "execution_count": null,
      "outputs": []
    },
    {
      "cell_type": "code",
      "metadata": {
        "id": "2YCW6LGl9nVQ",
        "outputId": "d1c29128-869f-4ccf-99e5-6bc167094d22",
        "colab": {
          "base_uri": "https://localhost:8080/",
          "height": 34
        }
      },
      "source": [
        "X_train.shape\n"
      ],
      "execution_count": null,
      "outputs": [
        {
          "output_type": "execute_result",
          "data": {
            "text/plain": [
              "(1082, 7, 1)"
            ]
          },
          "metadata": {
            "tags": []
          },
          "execution_count": 253
        }
      ]
    },
    {
      "cell_type": "code",
      "metadata": {
        "id": "v_TPHNxa9nPU"
      },
      "source": [
        "#building sequential model using Keras\n",
        "\n",
        "reg = Sequential()\n",
        "reg.add(LSTM(units = 200, activation = 'relu', input_shape=(7,1)))\n",
        "reg.add(Dense(7))"
      ],
      "execution_count": null,
      "outputs": []
    },
    {
      "cell_type": "code",
      "metadata": {
        "id": "ckFbtlx69nKv"
      },
      "source": [
        "#here we have considered loss as mean square error and optimizer as adam\n",
        "\n",
        "reg.compile(loss='mse', optimizer='adam')"
      ],
      "execution_count": null,
      "outputs": []
    },
    {
      "cell_type": "code",
      "metadata": {
        "id": "GlBD94kc9nFh",
        "outputId": "ed62e41f-8e4f-438d-99c3-c13c8c6f4c1d",
        "colab": {
          "base_uri": "https://localhost:8080/",
          "height": 1000
        }
      },
      "source": [
        "#training the model\n",
        "\n",
        "reg.fit(X_train, y_train, epochs = 100)"
      ],
      "execution_count": null,
      "outputs": [
        {
          "output_type": "stream",
          "text": [
            "Epoch 1/100\n",
            "34/34 [==============================] - 1s 19ms/step - loss: 0.0832\n",
            "Epoch 2/100\n",
            "34/34 [==============================] - 1s 19ms/step - loss: 0.0236\n",
            "Epoch 3/100\n",
            "34/34 [==============================] - 1s 19ms/step - loss: 0.0223\n",
            "Epoch 4/100\n",
            "34/34 [==============================] - 1s 19ms/step - loss: 0.0222\n",
            "Epoch 5/100\n",
            "34/34 [==============================] - 1s 18ms/step - loss: 0.0220\n",
            "Epoch 6/100\n",
            "34/34 [==============================] - 1s 18ms/step - loss: 0.0219\n",
            "Epoch 7/100\n",
            "34/34 [==============================] - 1s 19ms/step - loss: 0.0216\n",
            "Epoch 8/100\n",
            "34/34 [==============================] - 1s 17ms/step - loss: 0.0213\n",
            "Epoch 9/100\n",
            "34/34 [==============================] - 1s 18ms/step - loss: 0.0208\n",
            "Epoch 10/100\n",
            "34/34 [==============================] - 1s 18ms/step - loss: 0.0203\n",
            "Epoch 11/100\n",
            "34/34 [==============================] - 1s 18ms/step - loss: 0.0204\n",
            "Epoch 12/100\n",
            "34/34 [==============================] - 1s 18ms/step - loss: 0.0202\n",
            "Epoch 13/100\n",
            "34/34 [==============================] - 1s 19ms/step - loss: 0.0197\n",
            "Epoch 14/100\n",
            "34/34 [==============================] - 1s 18ms/step - loss: 0.0194\n",
            "Epoch 15/100\n",
            "34/34 [==============================] - 1s 19ms/step - loss: 0.0193\n",
            "Epoch 16/100\n",
            "34/34 [==============================] - 1s 17ms/step - loss: 0.0193\n",
            "Epoch 17/100\n",
            "34/34 [==============================] - 1s 19ms/step - loss: 0.0186\n",
            "Epoch 18/100\n",
            "34/34 [==============================] - 1s 19ms/step - loss: 0.0182\n",
            "Epoch 19/100\n",
            "34/34 [==============================] - 1s 19ms/step - loss: 0.0185\n",
            "Epoch 20/100\n",
            "34/34 [==============================] - 1s 19ms/step - loss: 0.0181\n",
            "Epoch 21/100\n",
            "34/34 [==============================] - 1s 19ms/step - loss: 0.0183\n",
            "Epoch 22/100\n",
            "34/34 [==============================] - 1s 19ms/step - loss: 0.0181\n",
            "Epoch 23/100\n",
            "34/34 [==============================] - 1s 19ms/step - loss: 0.0181\n",
            "Epoch 24/100\n",
            "34/34 [==============================] - 1s 18ms/step - loss: 0.0179\n",
            "Epoch 25/100\n",
            "34/34 [==============================] - 1s 17ms/step - loss: 0.0178\n",
            "Epoch 26/100\n",
            "34/34 [==============================] - 1s 19ms/step - loss: 0.0177\n",
            "Epoch 27/100\n",
            "34/34 [==============================] - 1s 18ms/step - loss: 0.0177\n",
            "Epoch 28/100\n",
            "34/34 [==============================] - 1s 18ms/step - loss: 0.0176\n",
            "Epoch 29/100\n",
            "34/34 [==============================] - 1s 18ms/step - loss: 0.0179\n",
            "Epoch 30/100\n",
            "34/34 [==============================] - 1s 18ms/step - loss: 0.0175\n",
            "Epoch 31/100\n",
            "34/34 [==============================] - 1s 17ms/step - loss: 0.0172\n",
            "Epoch 32/100\n",
            "34/34 [==============================] - 1s 17ms/step - loss: 0.0175\n",
            "Epoch 33/100\n",
            "34/34 [==============================] - 1s 18ms/step - loss: 0.0172\n",
            "Epoch 34/100\n",
            "34/34 [==============================] - 1s 17ms/step - loss: 0.0172\n",
            "Epoch 35/100\n",
            "34/34 [==============================] - 1s 18ms/step - loss: 0.0172\n",
            "Epoch 36/100\n",
            "34/34 [==============================] - 1s 18ms/step - loss: 0.0173\n",
            "Epoch 37/100\n",
            "34/34 [==============================] - 1s 21ms/step - loss: 0.0171\n",
            "Epoch 38/100\n",
            "34/34 [==============================] - 1s 19ms/step - loss: 0.0169\n",
            "Epoch 39/100\n",
            "34/34 [==============================] - 1s 18ms/step - loss: 0.0169\n",
            "Epoch 40/100\n",
            "34/34 [==============================] - 1s 19ms/step - loss: 0.0168\n",
            "Epoch 41/100\n",
            "34/34 [==============================] - 1s 18ms/step - loss: 0.0167\n",
            "Epoch 42/100\n",
            "34/34 [==============================] - 1s 18ms/step - loss: 0.0167\n",
            "Epoch 43/100\n",
            "34/34 [==============================] - 1s 18ms/step - loss: 0.0166\n",
            "Epoch 44/100\n",
            "34/34 [==============================] - 1s 18ms/step - loss: 0.0166\n",
            "Epoch 45/100\n",
            "34/34 [==============================] - 1s 20ms/step - loss: 0.0165\n",
            "Epoch 46/100\n",
            "34/34 [==============================] - 1s 19ms/step - loss: 0.0166\n",
            "Epoch 47/100\n",
            "34/34 [==============================] - 1s 18ms/step - loss: 0.0163\n",
            "Epoch 48/100\n",
            "34/34 [==============================] - 1s 18ms/step - loss: 0.0162\n",
            "Epoch 49/100\n",
            "34/34 [==============================] - 1s 18ms/step - loss: 0.0164\n",
            "Epoch 50/100\n",
            "34/34 [==============================] - 1s 18ms/step - loss: 0.0161\n",
            "Epoch 51/100\n",
            "34/34 [==============================] - 1s 18ms/step - loss: 0.0160\n",
            "Epoch 52/100\n",
            "34/34 [==============================] - 1s 19ms/step - loss: 0.0160\n",
            "Epoch 53/100\n",
            "34/34 [==============================] - 1s 18ms/step - loss: 0.0161\n",
            "Epoch 54/100\n",
            "34/34 [==============================] - 1s 18ms/step - loss: 0.0162\n",
            "Epoch 55/100\n",
            "34/34 [==============================] - 1s 18ms/step - loss: 0.0159\n",
            "Epoch 56/100\n",
            "34/34 [==============================] - 1s 18ms/step - loss: 0.0158\n",
            "Epoch 57/100\n",
            "34/34 [==============================] - 1s 18ms/step - loss: 0.0157\n",
            "Epoch 58/100\n",
            "34/34 [==============================] - 1s 18ms/step - loss: 0.0159\n",
            "Epoch 59/100\n",
            "34/34 [==============================] - 1s 18ms/step - loss: 0.0163\n",
            "Epoch 60/100\n",
            "34/34 [==============================] - 1s 19ms/step - loss: 0.0156\n",
            "Epoch 61/100\n",
            "34/34 [==============================] - 1s 19ms/step - loss: 0.0156\n",
            "Epoch 62/100\n",
            "34/34 [==============================] - 1s 19ms/step - loss: 0.0156\n",
            "Epoch 63/100\n",
            "34/34 [==============================] - 1s 22ms/step - loss: 0.0157\n",
            "Epoch 64/100\n",
            "34/34 [==============================] - 1s 21ms/step - loss: 0.0155\n",
            "Epoch 65/100\n",
            "34/34 [==============================] - 1s 19ms/step - loss: 0.0154\n",
            "Epoch 66/100\n",
            "34/34 [==============================] - 1s 20ms/step - loss: 0.0153\n",
            "Epoch 67/100\n",
            "34/34 [==============================] - 1s 20ms/step - loss: 0.0156\n",
            "Epoch 68/100\n",
            "34/34 [==============================] - 1s 22ms/step - loss: 0.0154\n",
            "Epoch 69/100\n",
            "34/34 [==============================] - 1s 20ms/step - loss: 0.0152\n",
            "Epoch 70/100\n",
            "34/34 [==============================] - 1s 20ms/step - loss: 0.0150\n",
            "Epoch 71/100\n",
            "34/34 [==============================] - 1s 21ms/step - loss: 0.0152\n",
            "Epoch 72/100\n",
            "34/34 [==============================] - 1s 21ms/step - loss: 0.0153\n",
            "Epoch 73/100\n",
            "34/34 [==============================] - 1s 22ms/step - loss: 0.0151\n",
            "Epoch 74/100\n",
            "34/34 [==============================] - 1s 21ms/step - loss: 0.0151\n",
            "Epoch 75/100\n",
            "34/34 [==============================] - 1s 21ms/step - loss: 0.0150\n",
            "Epoch 76/100\n",
            "34/34 [==============================] - 1s 22ms/step - loss: 0.0153\n",
            "Epoch 77/100\n",
            "34/34 [==============================] - 1s 21ms/step - loss: 0.0157\n",
            "Epoch 78/100\n",
            "34/34 [==============================] - 1s 18ms/step - loss: 0.0149\n",
            "Epoch 79/100\n",
            "34/34 [==============================] - 1s 18ms/step - loss: 0.0149\n",
            "Epoch 80/100\n",
            "34/34 [==============================] - 1s 18ms/step - loss: 0.0150\n",
            "Epoch 81/100\n",
            "34/34 [==============================] - 1s 18ms/step - loss: 0.0148\n",
            "Epoch 82/100\n",
            "34/34 [==============================] - 1s 18ms/step - loss: 0.0148\n",
            "Epoch 83/100\n",
            "34/34 [==============================] - 1s 18ms/step - loss: 0.0149\n",
            "Epoch 84/100\n",
            "34/34 [==============================] - 1s 19ms/step - loss: 0.0147\n",
            "Epoch 85/100\n",
            "34/34 [==============================] - 1s 18ms/step - loss: 0.0147\n",
            "Epoch 86/100\n",
            "34/34 [==============================] - 1s 17ms/step - loss: 0.0147\n",
            "Epoch 87/100\n",
            "34/34 [==============================] - 1s 18ms/step - loss: 0.0145\n",
            "Epoch 88/100\n",
            "34/34 [==============================] - 1s 18ms/step - loss: 0.0148\n",
            "Epoch 89/100\n",
            "34/34 [==============================] - 1s 18ms/step - loss: 0.0149\n",
            "Epoch 90/100\n",
            "34/34 [==============================] - 1s 20ms/step - loss: 0.0148\n",
            "Epoch 91/100\n",
            "34/34 [==============================] - 1s 18ms/step - loss: 0.0146\n",
            "Epoch 92/100\n",
            "34/34 [==============================] - 1s 19ms/step - loss: 0.0145\n",
            "Epoch 93/100\n",
            "34/34 [==============================] - 1s 19ms/step - loss: 0.0147\n",
            "Epoch 94/100\n",
            "34/34 [==============================] - 1s 18ms/step - loss: 0.0144\n",
            "Epoch 95/100\n",
            "34/34 [==============================] - 1s 18ms/step - loss: 0.0144\n",
            "Epoch 96/100\n",
            "34/34 [==============================] - 1s 18ms/step - loss: 0.0144\n",
            "Epoch 97/100\n",
            "34/34 [==============================] - 1s 18ms/step - loss: 0.0143\n",
            "Epoch 98/100\n",
            "34/34 [==============================] - 1s 20ms/step - loss: 0.0145\n",
            "Epoch 99/100\n",
            "34/34 [==============================] - 1s 18ms/step - loss: 0.0142\n",
            "Epoch 100/100\n",
            "34/34 [==============================] - 1s 18ms/step - loss: 0.0143\n"
          ],
          "name": "stdout"
        },
        {
          "output_type": "execute_result",
          "data": {
            "text/plain": [
              "<tensorflow.python.keras.callbacks.History at 0x7fa7de0d4240>"
            ]
          },
          "metadata": {
            "tags": []
          },
          "execution_count": 256
        }
      ]
    },
    {
      "cell_type": "code",
      "metadata": {
        "id": "zTzTSPWa9nAq"
      },
      "source": [
        "#testing dataset\n",
        "\n",
        "data_test = np.array(data_test)"
      ],
      "execution_count": null,
      "outputs": []
    },
    {
      "cell_type": "code",
      "metadata": {
        "id": "Dle41OPc9m8R"
      },
      "source": [
        "#here we are splitting the data weekly wise(7days)\n",
        "\n",
        "X_test, y_test = [], []\n",
        "\n",
        "for i in range(7, len(data_test)-7):\n",
        "    X_test.append(data_test[i-7:i])\n",
        "    y_test.append(data_test[i:i+7])"
      ],
      "execution_count": null,
      "outputs": []
    },
    {
      "cell_type": "code",
      "metadata": {
        "id": "bQgEmVbSAETs"
      },
      "source": [
        "X_test, y_test = np.array(X_test), np.array(y_test)\n"
      ],
      "execution_count": null,
      "outputs": []
    },
    {
      "cell_type": "code",
      "metadata": {
        "id": "fRNJziueAEYo"
      },
      "source": [
        "X_test = x_scaler.transform(X_test)\n",
        "y_test = y_scaler.transform(y_test)"
      ],
      "execution_count": null,
      "outputs": []
    },
    {
      "cell_type": "code",
      "metadata": {
        "id": "a-wsvuYKAEbV",
        "outputId": "a9c086d1-2988-439f-a04e-7cd6d831905b",
        "colab": {
          "base_uri": "https://localhost:8080/",
          "height": 34
        }
      },
      "source": [
        "X_test.shape"
      ],
      "execution_count": null,
      "outputs": [
        {
          "output_type": "execute_result",
          "data": {
            "text/plain": [
              "(351, 7)"
            ]
          },
          "metadata": {
            "tags": []
          },
          "execution_count": 261
        }
      ]
    },
    {
      "cell_type": "code",
      "metadata": {
        "id": "xgcnDNqfAEgk"
      },
      "source": [
        "#converting to 3 dimension\n",
        "\n",
        "X_test = X_test.reshape(351,7,1)"
      ],
      "execution_count": null,
      "outputs": []
    },
    {
      "cell_type": "code",
      "metadata": {
        "id": "_otXPwALAEl3",
        "outputId": "5d2b759e-4d04-47cc-d4d7-b9b9aad0ff53",
        "colab": {
          "base_uri": "https://localhost:8080/",
          "height": 34
        }
      },
      "source": [
        "X_test.shape"
      ],
      "execution_count": null,
      "outputs": [
        {
          "output_type": "execute_result",
          "data": {
            "text/plain": [
              "(351, 7, 1)"
            ]
          },
          "metadata": {
            "tags": []
          },
          "execution_count": 263
        }
      ]
    },
    {
      "cell_type": "code",
      "metadata": {
        "id": "sxHG_alFAEkY",
        "outputId": "d262d991-004f-43ef-b0b0-74620f592aad",
        "colab": {
          "base_uri": "https://localhost:8080/",
          "height": 54
        }
      },
      "source": [
        "y_pred = reg.predict(X_test)"
      ],
      "execution_count": null,
      "outputs": [
        {
          "output_type": "stream",
          "text": [
            "WARNING:tensorflow:5 out of the last 15 calls to <function Model.make_predict_function.<locals>.predict_function at 0x7fa7dc2cd6a8> triggered tf.function retracing. Tracing is expensive and the excessive number of tracings could be due to (1) creating @tf.function repeatedly in a loop, (2) passing tensors with different shapes, (3) passing Python objects instead of tensors. For (1), please define your @tf.function outside of the loop. For (2), @tf.function has experimental_relax_shapes=True option that relaxes argument shapes that can avoid unnecessary retracing. For (3), please refer to https://www.tensorflow.org/tutorials/customization/performance#python_or_tensor_args and https://www.tensorflow.org/api_docs/python/tf/function for  more details.\n"
          ],
          "name": "stdout"
        }
      ]
    },
    {
      "cell_type": "code",
      "metadata": {
        "id": "EKWgPwFIAT8K",
        "outputId": "edc71896-879b-4e09-ba9f-581cf788c842",
        "colab": {
          "base_uri": "https://localhost:8080/",
          "height": 238
        }
      },
      "source": [
        "y_pred"
      ],
      "execution_count": null,
      "outputs": [
        {
          "output_type": "execute_result",
          "data": {
            "text/plain": [
              "array([[0.3745624 , 0.3611636 , 0.37715012, ..., 0.24174231, 0.22721352,\n",
              "        0.3288913 ],\n",
              "       [0.37070298, 0.39411554, 0.34816134, ..., 0.21722972, 0.3456571 ,\n",
              "        0.39009857],\n",
              "       [0.35154685, 0.3637746 , 0.24854937, ..., 0.3574006 , 0.44291955,\n",
              "        0.39021516],\n",
              "       ...,\n",
              "       [0.2153214 , 0.41793233, 0.5459913 , ..., 0.5703384 , 0.48120838,\n",
              "        0.28899705],\n",
              "       [0.31281775, 0.51425105, 0.5319567 , ..., 0.4775476 , 0.26944155,\n",
              "        0.18287762],\n",
              "       [0.42969683, 0.48464307, 0.525732  , ..., 0.30766287, 0.20849267,\n",
              "        0.35214484]], dtype=float32)"
            ]
          },
          "metadata": {
            "tags": []
          },
          "execution_count": 265
        }
      ]
    },
    {
      "cell_type": "code",
      "metadata": {
        "id": "M_49yU3KAUBQ"
      },
      "source": [
        "y_true = y_scaler.inverse_transform(y_test)"
      ],
      "execution_count": null,
      "outputs": []
    },
    {
      "cell_type": "code",
      "metadata": {
        "id": "cAwLVJBPAUET",
        "outputId": "9591bcf2-4956-4d4c-c760-40f53d991710",
        "colab": {
          "base_uri": "https://localhost:8080/",
          "height": 238
        }
      },
      "source": [
        "y_true"
      ],
      "execution_count": null,
      "outputs": [
        {
          "output_type": "execute_result",
          "data": {
            "text/plain": [
              "array([[226892.2 , 210966.87, 216157.39, ..., 217257.92, 203706.48,\n",
              "        294141.07],\n",
              "       [210966.87, 216157.39, 239457.27, ..., 203706.48, 294141.07,\n",
              "        304992.49],\n",
              "       [216157.39, 239457.27, 217257.92, ..., 294141.07, 304992.49,\n",
              "        273943.51],\n",
              "       ...,\n",
              "       [180291.23, 203636.05, 204337.86, ..., 192241.05, 214512.13,\n",
              "        227043.37],\n",
              "       [203636.05, 204337.86, 196625.49, ..., 214512.13, 227043.37,\n",
              "        236587.05],\n",
              "       [204337.86, 196625.49, 192241.05, ..., 227043.37, 236587.05,\n",
              "        280820.25]])"
            ]
          },
          "metadata": {
            "tags": []
          },
          "execution_count": 267
        }
      ]
    },
    {
      "cell_type": "code",
      "metadata": {
        "id": "AxPfS09YAT--"
      },
      "source": [
        "def evaluate_model(y_true, y_predicted):\n",
        "    scores = []\n",
        "    \n",
        "    #calculate scores for each day\n",
        "    for i in range(y_true.shape[1]):\n",
        "        mse = mean_squared_error(y_true[:, i], y_predicted[:, i])\n",
        "        rmse = np.sqrt(mse)\n",
        "        scores.append(rmse)\n",
        "    \n",
        "    #calculate score for whole prediction\n",
        "    total_score = 0\n",
        "    for row in range(y_true.shape[0]):\n",
        "        for col in range(y_predicted.shape[1]):\n",
        "            total_score = total_score + (y_true[row, col] - y_predicted[row, col])**2\n",
        "    total_score = np.sqrt(total_score/(y_true.shape[0]*y_predicted.shape[1]))\n",
        "    \n",
        "    return total_score, scores"
      ],
      "execution_count": null,
      "outputs": []
    },
    {
      "cell_type": "code",
      "metadata": {
        "id": "dtcad4aIAT6V",
        "outputId": "77aa459c-c1b6-4902-d619-db9811eeb0a7",
        "colab": {
          "base_uri": "https://localhost:8080/",
          "height": 153
        }
      },
      "source": [
        "evaluate_model(y_true, y_pred)"
      ],
      "execution_count": null,
      "outputs": [
        {
          "output_type": "execute_result",
          "data": {
            "text/plain": [
              "(237941.82711540966,\n",
              " [238010.18171506547,\n",
              "  237933.4678228054,\n",
              "  237888.2608554835,\n",
              "  237884.02129429777,\n",
              "  237849.35039723825,\n",
              "  237901.89551058642,\n",
              "  238125.49698635945])"
            ]
          },
          "metadata": {
            "tags": []
          },
          "execution_count": 269
        }
      ]
    },
    {
      "cell_type": "code",
      "metadata": {
        "id": "6TLni04MCt1Y",
        "outputId": "cb336b33-0b23-428b-ce6e-7421dd356d36",
        "colab": {
          "base_uri": "https://localhost:8080/",
          "height": 238
        }
      },
      "source": [
        "y_true"
      ],
      "execution_count": null,
      "outputs": [
        {
          "output_type": "execute_result",
          "data": {
            "text/plain": [
              "array([[226892.2 , 210966.87, 216157.39, ..., 217257.92, 203706.48,\n",
              "        294141.07],\n",
              "       [210966.87, 216157.39, 239457.27, ..., 203706.48, 294141.07,\n",
              "        304992.49],\n",
              "       [216157.39, 239457.27, 217257.92, ..., 294141.07, 304992.49,\n",
              "        273943.51],\n",
              "       ...,\n",
              "       [180291.23, 203636.05, 204337.86, ..., 192241.05, 214512.13,\n",
              "        227043.37],\n",
              "       [203636.05, 204337.86, 196625.49, ..., 214512.13, 227043.37,\n",
              "        236587.05],\n",
              "       [204337.86, 196625.49, 192241.05, ..., 227043.37, 236587.05,\n",
              "        280820.25]])"
            ]
          },
          "metadata": {
            "tags": []
          },
          "execution_count": 277
        }
      ]
    },
    {
      "cell_type": "code",
      "metadata": {
        "id": "NB3AvvS6Ct7-",
        "outputId": "fcd4b921-e28a-4efb-f022-5ac9663f6112",
        "colab": {
          "base_uri": "https://localhost:8080/",
          "height": 238
        }
      },
      "source": [
        "y_pred"
      ],
      "execution_count": null,
      "outputs": [
        {
          "output_type": "execute_result",
          "data": {
            "text/plain": [
              "array([[0.3745624 , 0.3611636 , 0.37715012, ..., 0.24174231, 0.22721352,\n",
              "        0.3288913 ],\n",
              "       [0.37070298, 0.39411554, 0.34816134, ..., 0.21722972, 0.3456571 ,\n",
              "        0.39009857],\n",
              "       [0.35154685, 0.3637746 , 0.24854937, ..., 0.3574006 , 0.44291955,\n",
              "        0.39021516],\n",
              "       ...,\n",
              "       [0.2153214 , 0.41793233, 0.5459913 , ..., 0.5703384 , 0.48120838,\n",
              "        0.28899705],\n",
              "       [0.31281775, 0.51425105, 0.5319567 , ..., 0.4775476 , 0.26944155,\n",
              "        0.18287762],\n",
              "       [0.42969683, 0.48464307, 0.525732  , ..., 0.30766287, 0.20849267,\n",
              "        0.35214484]], dtype=float32)"
            ]
          },
          "metadata": {
            "tags": []
          },
          "execution_count": 278
        }
      ]
    },
    {
      "cell_type": "code",
      "metadata": {
        "id": "QbHg2kqOCt6C"
      },
      "source": [
        ""
      ],
      "execution_count": null,
      "outputs": []
    },
    {
      "cell_type": "code",
      "metadata": {
        "id": "bNPXMd8tCt4L"
      },
      "source": [
        ""
      ],
      "execution_count": null,
      "outputs": []
    },
    {
      "cell_type": "code",
      "metadata": {
        "id": "D6chqOSQCtzV"
      },
      "source": [
        ""
      ],
      "execution_count": null,
      "outputs": []
    },
    {
      "cell_type": "code",
      "metadata": {
        "id": "FCmLFaJaCtxS"
      },
      "source": [
        ""
      ],
      "execution_count": null,
      "outputs": []
    },
    {
      "cell_type": "code",
      "metadata": {
        "id": "Ei2vbKstCtu-"
      },
      "source": [
        ""
      ],
      "execution_count": null,
      "outputs": []
    },
    {
      "cell_type": "code",
      "metadata": {
        "id": "IvimcSRdCttK"
      },
      "source": [
        ""
      ],
      "execution_count": null,
      "outputs": []
    },
    {
      "cell_type": "code",
      "metadata": {
        "id": "mohPgkxOB6gD",
        "outputId": "87d3d782-d7fd-45f4-cb0c-469fa8f7b628",
        "colab": {
          "base_uri": "https://localhost:8080/",
          "height": 341
        }
      },
      "source": [
        "data = {'Original':y_true, 'Predicted':y_pred}\n",
        "data = pd.DataFrame(data, index=[0])"
      ],
      "execution_count": null,
      "outputs": [
        {
          "output_type": "error",
          "ename": "Exception",
          "evalue": "ignored",
          "traceback": [
            "\u001b[0;31m---------------------------------------------------------------------------\u001b[0m",
            "\u001b[0;31mException\u001b[0m                                 Traceback (most recent call last)",
            "\u001b[0;32m<ipython-input-276-86326c932ae5>\u001b[0m in \u001b[0;36m<module>\u001b[0;34m()\u001b[0m\n\u001b[1;32m      1\u001b[0m \u001b[0mdata\u001b[0m \u001b[0;34m=\u001b[0m \u001b[0;34m{\u001b[0m\u001b[0;34m'Original'\u001b[0m\u001b[0;34m:\u001b[0m\u001b[0my_true\u001b[0m\u001b[0;34m,\u001b[0m \u001b[0;34m'Predicted'\u001b[0m\u001b[0;34m:\u001b[0m\u001b[0my_pred\u001b[0m\u001b[0;34m}\u001b[0m\u001b[0;34m\u001b[0m\u001b[0;34m\u001b[0m\u001b[0m\n\u001b[0;32m----> 2\u001b[0;31m \u001b[0mdata\u001b[0m \u001b[0;34m=\u001b[0m \u001b[0mpd\u001b[0m\u001b[0;34m.\u001b[0m\u001b[0mDataFrame\u001b[0m\u001b[0;34m(\u001b[0m\u001b[0mdata\u001b[0m\u001b[0;34m,\u001b[0m \u001b[0mindex\u001b[0m\u001b[0;34m=\u001b[0m\u001b[0;34m[\u001b[0m\u001b[0;36m0\u001b[0m\u001b[0;34m]\u001b[0m\u001b[0;34m)\u001b[0m\u001b[0;34m\u001b[0m\u001b[0;34m\u001b[0m\u001b[0m\n\u001b[0m",
            "\u001b[0;32m/usr/local/lib/python3.6/dist-packages/pandas/core/frame.py\u001b[0m in \u001b[0;36m__init__\u001b[0;34m(self, data, index, columns, dtype, copy)\u001b[0m\n\u001b[1;32m    466\u001b[0m \u001b[0;34m\u001b[0m\u001b[0m\n\u001b[1;32m    467\u001b[0m         \u001b[0;32melif\u001b[0m \u001b[0misinstance\u001b[0m\u001b[0;34m(\u001b[0m\u001b[0mdata\u001b[0m\u001b[0;34m,\u001b[0m \u001b[0mdict\u001b[0m\u001b[0;34m)\u001b[0m\u001b[0;34m:\u001b[0m\u001b[0;34m\u001b[0m\u001b[0;34m\u001b[0m\u001b[0m\n\u001b[0;32m--> 468\u001b[0;31m             \u001b[0mmgr\u001b[0m \u001b[0;34m=\u001b[0m \u001b[0minit_dict\u001b[0m\u001b[0;34m(\u001b[0m\u001b[0mdata\u001b[0m\u001b[0;34m,\u001b[0m \u001b[0mindex\u001b[0m\u001b[0;34m,\u001b[0m \u001b[0mcolumns\u001b[0m\u001b[0;34m,\u001b[0m \u001b[0mdtype\u001b[0m\u001b[0;34m=\u001b[0m\u001b[0mdtype\u001b[0m\u001b[0;34m)\u001b[0m\u001b[0;34m\u001b[0m\u001b[0;34m\u001b[0m\u001b[0m\n\u001b[0m\u001b[1;32m    469\u001b[0m         \u001b[0;32melif\u001b[0m \u001b[0misinstance\u001b[0m\u001b[0;34m(\u001b[0m\u001b[0mdata\u001b[0m\u001b[0;34m,\u001b[0m \u001b[0mma\u001b[0m\u001b[0;34m.\u001b[0m\u001b[0mMaskedArray\u001b[0m\u001b[0;34m)\u001b[0m\u001b[0;34m:\u001b[0m\u001b[0;34m\u001b[0m\u001b[0;34m\u001b[0m\u001b[0m\n\u001b[1;32m    470\u001b[0m             \u001b[0;32mimport\u001b[0m \u001b[0mnumpy\u001b[0m\u001b[0;34m.\u001b[0m\u001b[0mma\u001b[0m\u001b[0;34m.\u001b[0m\u001b[0mmrecords\u001b[0m \u001b[0;32mas\u001b[0m \u001b[0mmrecords\u001b[0m\u001b[0;34m\u001b[0m\u001b[0;34m\u001b[0m\u001b[0m\n",
            "\u001b[0;32m/usr/local/lib/python3.6/dist-packages/pandas/core/internals/construction.py\u001b[0m in \u001b[0;36minit_dict\u001b[0;34m(data, index, columns, dtype)\u001b[0m\n\u001b[1;32m    281\u001b[0m             \u001b[0marr\u001b[0m \u001b[0;32mif\u001b[0m \u001b[0;32mnot\u001b[0m \u001b[0mis_datetime64tz_dtype\u001b[0m\u001b[0;34m(\u001b[0m\u001b[0marr\u001b[0m\u001b[0;34m)\u001b[0m \u001b[0;32melse\u001b[0m \u001b[0marr\u001b[0m\u001b[0;34m.\u001b[0m\u001b[0mcopy\u001b[0m\u001b[0;34m(\u001b[0m\u001b[0;34m)\u001b[0m \u001b[0;32mfor\u001b[0m \u001b[0marr\u001b[0m \u001b[0;32min\u001b[0m \u001b[0marrays\u001b[0m\u001b[0;34m\u001b[0m\u001b[0;34m\u001b[0m\u001b[0m\n\u001b[1;32m    282\u001b[0m         ]\n\u001b[0;32m--> 283\u001b[0;31m     \u001b[0;32mreturn\u001b[0m \u001b[0marrays_to_mgr\u001b[0m\u001b[0;34m(\u001b[0m\u001b[0marrays\u001b[0m\u001b[0;34m,\u001b[0m \u001b[0mdata_names\u001b[0m\u001b[0;34m,\u001b[0m \u001b[0mindex\u001b[0m\u001b[0;34m,\u001b[0m \u001b[0mcolumns\u001b[0m\u001b[0;34m,\u001b[0m \u001b[0mdtype\u001b[0m\u001b[0;34m=\u001b[0m\u001b[0mdtype\u001b[0m\u001b[0;34m)\u001b[0m\u001b[0;34m\u001b[0m\u001b[0;34m\u001b[0m\u001b[0m\n\u001b[0m\u001b[1;32m    284\u001b[0m \u001b[0;34m\u001b[0m\u001b[0m\n\u001b[1;32m    285\u001b[0m \u001b[0;34m\u001b[0m\u001b[0m\n",
            "\u001b[0;32m/usr/local/lib/python3.6/dist-packages/pandas/core/internals/construction.py\u001b[0m in \u001b[0;36marrays_to_mgr\u001b[0;34m(arrays, arr_names, index, columns, dtype, verify_integrity)\u001b[0m\n\u001b[1;32m     81\u001b[0m \u001b[0;34m\u001b[0m\u001b[0m\n\u001b[1;32m     82\u001b[0m         \u001b[0;31m# don't force copy because getting jammed in an ndarray anyway\u001b[0m\u001b[0;34m\u001b[0m\u001b[0;34m\u001b[0m\u001b[0;34m\u001b[0m\u001b[0m\n\u001b[0;32m---> 83\u001b[0;31m         \u001b[0marrays\u001b[0m \u001b[0;34m=\u001b[0m \u001b[0m_homogenize\u001b[0m\u001b[0;34m(\u001b[0m\u001b[0marrays\u001b[0m\u001b[0;34m,\u001b[0m \u001b[0mindex\u001b[0m\u001b[0;34m,\u001b[0m \u001b[0mdtype\u001b[0m\u001b[0;34m)\u001b[0m\u001b[0;34m\u001b[0m\u001b[0;34m\u001b[0m\u001b[0m\n\u001b[0m\u001b[1;32m     84\u001b[0m \u001b[0;34m\u001b[0m\u001b[0m\n\u001b[1;32m     85\u001b[0m         \u001b[0mcolumns\u001b[0m \u001b[0;34m=\u001b[0m \u001b[0mensure_index\u001b[0m\u001b[0;34m(\u001b[0m\u001b[0mcolumns\u001b[0m\u001b[0;34m)\u001b[0m\u001b[0;34m\u001b[0m\u001b[0;34m\u001b[0m\u001b[0m\n",
            "\u001b[0;32m/usr/local/lib/python3.6/dist-packages/pandas/core/internals/construction.py\u001b[0m in \u001b[0;36m_homogenize\u001b[0;34m(data, index, dtype)\u001b[0m\n\u001b[1;32m    350\u001b[0m                 \u001b[0mval\u001b[0m \u001b[0;34m=\u001b[0m \u001b[0mlib\u001b[0m\u001b[0;34m.\u001b[0m\u001b[0mfast_multiget\u001b[0m\u001b[0;34m(\u001b[0m\u001b[0mval\u001b[0m\u001b[0;34m,\u001b[0m \u001b[0moindex\u001b[0m\u001b[0;34m.\u001b[0m\u001b[0m_values\u001b[0m\u001b[0;34m,\u001b[0m \u001b[0mdefault\u001b[0m\u001b[0;34m=\u001b[0m\u001b[0mnp\u001b[0m\u001b[0;34m.\u001b[0m\u001b[0mnan\u001b[0m\u001b[0;34m)\u001b[0m\u001b[0;34m\u001b[0m\u001b[0;34m\u001b[0m\u001b[0m\n\u001b[1;32m    351\u001b[0m             val = sanitize_array(\n\u001b[0;32m--> 352\u001b[0;31m                 \u001b[0mval\u001b[0m\u001b[0;34m,\u001b[0m \u001b[0mindex\u001b[0m\u001b[0;34m,\u001b[0m \u001b[0mdtype\u001b[0m\u001b[0;34m=\u001b[0m\u001b[0mdtype\u001b[0m\u001b[0;34m,\u001b[0m \u001b[0mcopy\u001b[0m\u001b[0;34m=\u001b[0m\u001b[0;32mFalse\u001b[0m\u001b[0;34m,\u001b[0m \u001b[0mraise_cast_failure\u001b[0m\u001b[0;34m=\u001b[0m\u001b[0;32mFalse\u001b[0m\u001b[0;34m\u001b[0m\u001b[0;34m\u001b[0m\u001b[0m\n\u001b[0m\u001b[1;32m    353\u001b[0m             )\n\u001b[1;32m    354\u001b[0m \u001b[0;34m\u001b[0m\u001b[0m\n",
            "\u001b[0;32m/usr/local/lib/python3.6/dist-packages/pandas/core/construction.py\u001b[0m in \u001b[0;36msanitize_array\u001b[0;34m(data, index, dtype, copy, raise_cast_failure)\u001b[0m\n\u001b[1;32m    494\u001b[0m     \u001b[0;32melif\u001b[0m \u001b[0msubarr\u001b[0m\u001b[0;34m.\u001b[0m\u001b[0mndim\u001b[0m \u001b[0;34m>\u001b[0m \u001b[0;36m1\u001b[0m\u001b[0;34m:\u001b[0m\u001b[0;34m\u001b[0m\u001b[0;34m\u001b[0m\u001b[0m\n\u001b[1;32m    495\u001b[0m         \u001b[0;32mif\u001b[0m \u001b[0misinstance\u001b[0m\u001b[0;34m(\u001b[0m\u001b[0mdata\u001b[0m\u001b[0;34m,\u001b[0m \u001b[0mnp\u001b[0m\u001b[0;34m.\u001b[0m\u001b[0mndarray\u001b[0m\u001b[0;34m)\u001b[0m\u001b[0;34m:\u001b[0m\u001b[0;34m\u001b[0m\u001b[0;34m\u001b[0m\u001b[0m\n\u001b[0;32m--> 496\u001b[0;31m             \u001b[0;32mraise\u001b[0m \u001b[0mException\u001b[0m\u001b[0;34m(\u001b[0m\u001b[0;34m\"Data must be 1-dimensional\"\u001b[0m\u001b[0;34m)\u001b[0m\u001b[0;34m\u001b[0m\u001b[0;34m\u001b[0m\u001b[0m\n\u001b[0m\u001b[1;32m    497\u001b[0m         \u001b[0;32melse\u001b[0m\u001b[0;34m:\u001b[0m\u001b[0;34m\u001b[0m\u001b[0;34m\u001b[0m\u001b[0m\n\u001b[1;32m    498\u001b[0m             \u001b[0msubarr\u001b[0m \u001b[0;34m=\u001b[0m \u001b[0mcom\u001b[0m\u001b[0;34m.\u001b[0m\u001b[0masarray_tuplesafe\u001b[0m\u001b[0;34m(\u001b[0m\u001b[0mdata\u001b[0m\u001b[0;34m,\u001b[0m \u001b[0mdtype\u001b[0m\u001b[0;34m=\u001b[0m\u001b[0mdtype\u001b[0m\u001b[0;34m)\u001b[0m\u001b[0;34m\u001b[0m\u001b[0;34m\u001b[0m\u001b[0m\n",
            "\u001b[0;31mException\u001b[0m: Data must be 1-dimensional"
          ]
        }
      ]
    },
    {
      "cell_type": "code",
      "metadata": {
        "id": "UI4JWVh5CRp6"
      },
      "source": [
        "data"
      ],
      "execution_count": null,
      "outputs": []
    },
    {
      "cell_type": "code",
      "metadata": {
        "id": "1y4TyKMdAT3K",
        "outputId": "18a4f868-8592-4858-be30-479f15622e35",
        "colab": {
          "base_uri": "https://localhost:8080/",
          "height": 34
        }
      },
      "source": [
        "\n",
        "np.std(y_true[0])"
      ],
      "execution_count": null,
      "outputs": [
        {
          "output_type": "execute_result",
          "data": {
            "text/plain": [
              "28335.9300978152"
            ]
          },
          "metadata": {
            "tags": []
          },
          "execution_count": 270
        }
      ]
    },
    {
      "cell_type": "code",
      "metadata": {
        "id": "3ZA29QjjAEWt",
        "outputId": "d7af66c9-cfd5-4c42-8eaf-fe5b17fdf850",
        "colab": {
          "base_uri": "https://localhost:8080/",
          "height": 164
        }
      },
      "source": [
        "data[['y_true','y_pred']].plot()"
      ],
      "execution_count": null,
      "outputs": [
        {
          "output_type": "error",
          "ename": "TypeError",
          "evalue": "ignored",
          "traceback": [
            "\u001b[0;31m---------------------------------------------------------------------------\u001b[0m",
            "\u001b[0;31mTypeError\u001b[0m                                 Traceback (most recent call last)",
            "\u001b[0;32m<ipython-input-272-1db046b731ec>\u001b[0m in \u001b[0;36m<module>\u001b[0;34m()\u001b[0m\n\u001b[0;32m----> 1\u001b[0;31m \u001b[0mdata\u001b[0m\u001b[0;34m[\u001b[0m\u001b[0;34m[\u001b[0m\u001b[0;34m'y_true'\u001b[0m\u001b[0;34m,\u001b[0m\u001b[0;34m'y_pred'\u001b[0m\u001b[0;34m]\u001b[0m\u001b[0;34m]\u001b[0m\u001b[0;34m.\u001b[0m\u001b[0mplot\u001b[0m\u001b[0;34m(\u001b[0m\u001b[0;34m)\u001b[0m\u001b[0;34m\u001b[0m\u001b[0;34m\u001b[0m\u001b[0m\n\u001b[0m",
            "\u001b[0;31mTypeError\u001b[0m: unhashable type: 'list'"
          ]
        }
      ]
    }
  ]
}