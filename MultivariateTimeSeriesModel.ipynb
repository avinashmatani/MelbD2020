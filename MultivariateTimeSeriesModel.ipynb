{
 "cells": [
  {
   "cell_type": "code",
   "execution_count": 7,
   "metadata": {
    "colab": {
<<<<<<< Updated upstream
      "name": "MultivariateTimeSeriesModel.ipynb",
      "provenance": [],
      "collapsed_sections": []
=======
     "base_uri": "https://localhost:8080/",
     "height": 72,
     "resources": {
      "http://localhost:8080/nbextensions/google.colab/files.js": {
       "data": "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",
       "headers": [
        [
         "content-type",
         "application/javascript"
        ]
       ],
       "ok": true,
       "status": 200,
       "status_text": ""
      }
     }
>>>>>>> Stashed changes
    },
    "id": "mj8bbvTulvo1",
    "outputId": "c4f74dc8-dab2-425d-9e5e-4cd8c47fb677"
   },
   "outputs": [
    {
<<<<<<< Updated upstream
      "cell_type": "code",
      "metadata": {
        "id": "mj8bbvTulvo1",
        "outputId": "6946cd7e-7ea8-4091-93a6-fbf814ce7b62",
        "colab": {
          "resources": {
            "http://localhost:8080/nbextensions/google.colab/files.js": {
              "data": "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",
              "ok": true,
              "headers": [
                [
                  "content-type",
                  "application/javascript"
                ]
              ],
              "status": 200,
              "status_text": ""
            }
          },
          "base_uri": "https://localhost:8080/",
          "height": 72
        }
      },
      "source": [
        " ### \n",
        "\n",
        "from google.colab import files\n",
        "uploaded = files.upload()"
      ],
      "execution_count": null,
      "outputs": [
        {
          "output_type": "display_data",
          "data": {
            "text/html": [
              "\n",
              "     <input type=\"file\" id=\"files-98c6ca6f-05da-4551-b031-0748e0068182\" name=\"files[]\" multiple disabled\n",
              "        style=\"border:none\" />\n",
              "     <output id=\"result-98c6ca6f-05da-4551-b031-0748e0068182\">\n",
              "      Upload widget is only available when the cell has been executed in the\n",
              "      current browser session. Please rerun this cell to enable.\n",
              "      </output>\n",
              "      <script src=\"/nbextensions/google.colab/files.js\"></script> "
            ],
            "text/plain": [
              "<IPython.core.display.HTML object>"
            ]
          },
          "metadata": {
            "tags": []
          }
        },
        {
          "output_type": "stream",
          "text": [
            "Saving au_fulldata_vic.csv to au_fulldata_vic.csv\n"
          ],
          "name": "stdout"
        }
=======
     "data": {
      "text/html": [
       "\n",
       "     <input type=\"file\" id=\"files-b520f214-1f70-45b3-b020-da02e78bc328\" name=\"files[]\" multiple disabled\n",
       "        style=\"border:none\" />\n",
       "     <output id=\"result-b520f214-1f70-45b3-b020-da02e78bc328\">\n",
       "      Upload widget is only available when the cell has been executed in the\n",
       "      current browser session. Please rerun this cell to enable.\n",
       "      </output>\n",
       "      <script src=\"/nbextensions/google.colab/files.js\"></script> "
      ],
      "text/plain": [
       "<IPython.core.display.HTML object>"
>>>>>>> Stashed changes
      ]
     },
     "metadata": {
      "tags": []
     },
     "output_type": "display_data"
    },
    {
<<<<<<< Updated upstream
      "cell_type": "code",
      "metadata": {
        "id": "kQtRZpG_mGUi"
      },
      "source": [
        "### importing the packages\n",
        "\n",
        "import pandas as pd\n",
        "import numpy as np\n",
        "import matplotlib.pyplot as plt\n",
        "import pandas as pd\n",
        "from sklearn.preprocessing import MinMaxScaler\n",
        "from tensorflow.keras import Sequential\n",
        "from tensorflow.keras.layers import Dense, LSTM, Dropout\n",
        "from keras.preprocessing.sequence import TimeseriesGenerator\n",
        "from sklearn.model_selection import train_test_split\n",
        "import tensorflow as tf"
      ],
      "execution_count": null,
      "outputs": []
    },
    {
      "cell_type": "code",
      "metadata": {
        "id": "G8CrggmxmJ-L"
      },
      "source": [
        "### Reading the dataset\n",
        "\n",
        "ts19 = pd.read_csv(\"au_fulldata_vic.csv\")"
      ],
      "execution_count": null,
      "outputs": []
    },
    {
      "cell_type": "code",
      "metadata": {
        "id": "47EkAlK0ztOg",
        "outputId": "da4a20c1-8d6a-4451-942d-8e8d11bcf9e1",
        "colab": {
          "base_uri": "https://localhost:8080/",
          "height": 411
        }
      },
      "source": [
        "### Displaying the dataset \n",
        "\n",
        "ts19.head()"
      ],
      "execution_count": null,
      "outputs": [
        {
          "output_type": "execute_result",
          "data": {
            "text/html": [
              "<div>\n",
              "<style scoped>\n",
              "    .dataframe tbody tr th:only-of-type {\n",
              "        vertical-align: middle;\n",
              "    }\n",
              "\n",
              "    .dataframe tbody tr th {\n",
              "        vertical-align: top;\n",
              "    }\n",
              "\n",
              "    .dataframe thead th {\n",
              "        text-align: right;\n",
              "    }\n",
              "</style>\n",
              "<table border=\"1\" class=\"dataframe\">\n",
              "  <thead>\n",
              "    <tr style=\"text-align: right;\">\n",
              "      <th></th>\n",
              "      <th>Month</th>\n",
              "      <th>Day</th>\n",
              "      <th>TOTALDEMAND</th>\n",
              "      <th>YEAR</th>\n",
              "      <th>Date</th>\n",
              "      <th>relative_humidity</th>\n",
              "      <th>dew_temp</th>\n",
              "      <th>max_temp</th>\n",
              "      <th>min_temp</th>\n",
              "      <th>temp2m</th>\n",
              "      <th>WS50M_MIN</th>\n",
              "      <th>WS10M_MIN</th>\n",
              "      <th>WS50M_MAX</th>\n",
              "      <th>WS10M_MAX</th>\n",
              "      <th>WS50M</th>\n",
              "      <th>WS10M</th>\n",
              "      <th>avg_temp</th>\n",
              "      <th>ws_avg_50</th>\n",
              "      <th>ws_avg_10</th>\n",
              "      <th>Unnamed: 19</th>\n",
              "    </tr>\n",
              "  </thead>\n",
              "  <tbody>\n",
              "    <tr>\n",
              "      <th>0</th>\n",
              "      <td>1</td>\n",
              "      <td>1</td>\n",
              "      <td>226550.31</td>\n",
              "      <td>2016</td>\n",
              "      <td>01-01-2016</td>\n",
              "      <td>56.49</td>\n",
              "      <td>12.69</td>\n",
              "      <td>27.74</td>\n",
              "      <td>15.97</td>\n",
              "      <td>21.87</td>\n",
              "      <td>1.63</td>\n",
              "      <td>1.09</td>\n",
              "      <td>6.98</td>\n",
              "      <td>5.98</td>\n",
              "      <td>4.48</td>\n",
              "      <td>3.60</td>\n",
              "      <td>21.855</td>\n",
              "      <td>4.305</td>\n",
              "      <td>3.535</td>\n",
              "      <td>NaN</td>\n",
              "    </tr>\n",
              "    <tr>\n",
              "      <th>1</th>\n",
              "      <td>1</td>\n",
              "      <td>2</td>\n",
              "      <td>199245.28</td>\n",
              "      <td>2016</td>\n",
              "      <td>02-01-2016</td>\n",
              "      <td>66.32</td>\n",
              "      <td>12.94</td>\n",
              "      <td>26.07</td>\n",
              "      <td>14.76</td>\n",
              "      <td>19.40</td>\n",
              "      <td>4.69</td>\n",
              "      <td>4.19</td>\n",
              "      <td>9.66</td>\n",
              "      <td>8.12</td>\n",
              "      <td>7.04</td>\n",
              "      <td>5.80</td>\n",
              "      <td>20.415</td>\n",
              "      <td>7.175</td>\n",
              "      <td>6.155</td>\n",
              "      <td>NaN</td>\n",
              "    </tr>\n",
              "    <tr>\n",
              "      <th>2</th>\n",
              "      <td>1</td>\n",
              "      <td>3</td>\n",
              "      <td>195312.89</td>\n",
              "      <td>2016</td>\n",
              "      <td>03-01-2016</td>\n",
              "      <td>71.23</td>\n",
              "      <td>13.13</td>\n",
              "      <td>22.40</td>\n",
              "      <td>15.35</td>\n",
              "      <td>18.41</td>\n",
              "      <td>5.58</td>\n",
              "      <td>3.55</td>\n",
              "      <td>7.79</td>\n",
              "      <td>6.27</td>\n",
              "      <td>6.92</td>\n",
              "      <td>5.35</td>\n",
              "      <td>18.875</td>\n",
              "      <td>6.685</td>\n",
              "      <td>4.910</td>\n",
              "      <td>NaN</td>\n",
              "    </tr>\n",
              "    <tr>\n",
              "      <th>3</th>\n",
              "      <td>1</td>\n",
              "      <td>4</td>\n",
              "      <td>221865.01</td>\n",
              "      <td>2016</td>\n",
              "      <td>04-01-2016</td>\n",
              "      <td>75.53</td>\n",
              "      <td>13.78</td>\n",
              "      <td>21.67</td>\n",
              "      <td>15.31</td>\n",
              "      <td>18.16</td>\n",
              "      <td>3.91</td>\n",
              "      <td>3.01</td>\n",
              "      <td>7.76</td>\n",
              "      <td>5.58</td>\n",
              "      <td>5.39</td>\n",
              "      <td>4.07</td>\n",
              "      <td>18.490</td>\n",
              "      <td>5.835</td>\n",
              "      <td>4.295</td>\n",
              "      <td>NaN</td>\n",
              "    </tr>\n",
              "    <tr>\n",
              "      <th>4</th>\n",
              "      <td>1</td>\n",
              "      <td>5</td>\n",
              "      <td>235747.16</td>\n",
              "      <td>2016</td>\n",
              "      <td>05-01-2016</td>\n",
              "      <td>68.87</td>\n",
              "      <td>13.47</td>\n",
              "      <td>24.57</td>\n",
              "      <td>13.86</td>\n",
              "      <td>19.37</td>\n",
              "      <td>0.63</td>\n",
              "      <td>0.71</td>\n",
              "      <td>5.34</td>\n",
              "      <td>3.24</td>\n",
              "      <td>3.29</td>\n",
              "      <td>2.33</td>\n",
              "      <td>19.215</td>\n",
              "      <td>2.985</td>\n",
              "      <td>1.975</td>\n",
              "      <td>NaN</td>\n",
              "    </tr>\n",
              "  </tbody>\n",
              "</table>\n",
              "</div>"
            ],
            "text/plain": [
              "   Month  Day  TOTALDEMAND  YEAR  ... avg_temp  ws_avg_50  ws_avg_10  Unnamed: 19\n",
              "0      1    1    226550.31  2016  ...   21.855      4.305      3.535          NaN\n",
              "1      1    2    199245.28  2016  ...   20.415      7.175      6.155          NaN\n",
              "2      1    3    195312.89  2016  ...   18.875      6.685      4.910          NaN\n",
              "3      1    4    221865.01  2016  ...   18.490      5.835      4.295          NaN\n",
              "4      1    5    235747.16  2016  ...   19.215      2.985      1.975          NaN\n",
              "\n",
              "[5 rows x 20 columns]"
            ]
          },
          "metadata": {
            "tags": []
          },
          "execution_count": 46
        }
      ]
    },
    {
      "cell_type": "code",
      "metadata": {
        "id": "eImeIAD_ztY9"
      },
      "source": [
        "#test19.head()"
      ],
      "execution_count": null,
      "outputs": []
    },
    {
      "cell_type": "code",
      "metadata": {
        "id": "PPcc3rnwo0r6"
      },
      "source": [
        "#test19.head()"
      ],
      "execution_count": null,
      "outputs": []
    },
    {
      "cell_type": "code",
      "metadata": {
        "id": "u_myntaGmKEz"
      },
      "source": [
        "### Create the subset of the of the dataframe\n",
        "\n",
        "ts19 = ts19[['TOTALDEMAND',\t'Date',\t'relative_humidity','avg_temp',\t'ws_avg_50']]"
      ],
      "execution_count": null,
      "outputs": []
    },
    {
      "cell_type": "code",
      "metadata": {
        "id": "WffHFa8AosqR"
      },
      "source": [
        "##### New \n",
        "#test19 = test19[['total_demand',\t'Date',\t'relative_humidity','avg_temp',\t'ws_avg_50']]"
      ],
      "execution_count": null,
      "outputs": []
    },
    {
      "cell_type": "code",
      "metadata": {
        "id": "svYdqhJ6mKHv"
      },
      "source": [
        "### Converting the datetime datatype\n",
        "\n",
        "ts19['Date'] = pd.to_datetime(ts19['Date'])\n",
        "\n",
        "\n",
        "##### New\n",
        "# test19['Date'] = pd.to_datetime(test19['Date'])"
      ],
      "execution_count": null,
      "outputs": []
    },
    {
      "cell_type": "code",
      "metadata": {
        "id": "-NsG1DFxQXsx",
        "outputId": "e58875d7-58eb-4e0e-c3c7-6b9137972b13",
        "colab": {
          "base_uri": "https://localhost:8080/",
          "height": 221
        }
      },
      "source": [
        "### displaying the info\n",
        "\n",
        "ts19.info()"
      ],
      "execution_count": null,
      "outputs": [
        {
          "output_type": "stream",
          "text": [
            "<class 'pandas.core.frame.DataFrame'>\n",
            "RangeIndex: 1711 entries, 0 to 1710\n",
            "Data columns (total 5 columns):\n",
            " #   Column             Non-Null Count  Dtype         \n",
            "---  ------             --------------  -----         \n",
            " 0   TOTALDEMAND        1711 non-null   float64       \n",
            " 1   Date               1711 non-null   datetime64[ns]\n",
            " 2   relative_humidity  1711 non-null   float64       \n",
            " 3   avg_temp           1711 non-null   float64       \n",
            " 4   ws_avg_50          1711 non-null   float64       \n",
            "dtypes: datetime64[ns](1), float64(4)\n",
            "memory usage: 67.0 KB\n"
          ],
          "name": "stdout"
        }
      ]
    },
    {
      "cell_type": "code",
      "metadata": {
        "id": "_FoPJADxplbQ"
      },
      "source": [
        "#### New\n",
        "\n",
        "#test19.info()"
      ],
      "execution_count": null,
      "outputs": []
    },
    {
      "cell_type": "code",
      "metadata": {
        "id": "Sm4D7Qm8mKKI",
        "outputId": "8a0da257-924c-49ec-a307-84eb4ba3ee71",
        "colab": {
          "base_uri": "https://localhost:8080/",
          "height": 354
        }
      },
      "source": [
        "### Setting the index to date column and displaying the \n",
        "\n",
        "ts19.set_index('Date')[['TOTALDEMAND','avg_temp','relative_humidity','ws_avg_50']].plot(subplots=True)"
      ],
      "execution_count": null,
      "outputs": [
        {
          "output_type": "execute_result",
          "data": {
            "text/plain": [
              "array([<matplotlib.axes._subplots.AxesSubplot object at 0x7f5e04e9d320>,\n",
              "       <matplotlib.axes._subplots.AxesSubplot object at 0x7f5e04d4bcc0>,\n",
              "       <matplotlib.axes._subplots.AxesSubplot object at 0x7f5e04cfcef0>,\n",
              "       <matplotlib.axes._subplots.AxesSubplot object at 0x7f5e04cb7160>],\n",
              "      dtype=object)"
            ]
          },
          "metadata": {
            "tags": []
          },
          "execution_count": 50
        },
        {
          "output_type": "display_data",
          "data": {
            "image/png": "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\n",
            "text/plain": [
              "<Figure size 432x288 with 4 Axes>"
            ]
          },
          "metadata": {
            "tags": [],
            "needs_background": "light"
          }
        }
      ]
    },
    {
      "cell_type": "code",
      "metadata": {
        "id": "ElN3xGgCqDA3"
      },
      "source": [
        "#### New\n",
        "\n",
        "#test19.set_index('Date')[['total_demand','avg_temp','relative_humidity','ws_avg_50']].plot(subplots=True)"
      ],
      "execution_count": null,
      "outputs": []
    },
    {
      "cell_type": "code",
      "metadata": {
        "id": "5AkB_11bTUyg"
      },
      "source": [
        "# #### New\n",
        "\n",
        "# test19.set_index(['Date'], inplace=True)\n",
        "# test19.head()"
      ],
      "execution_count": null,
      "outputs": []
    },
    {
      "cell_type": "code",
      "metadata": {
        "id": "DhqH7aFCp3f6",
        "outputId": "32fa27aa-fceb-4d61-8df8-e934423a9d75",
        "colab": {
          "base_uri": "https://localhost:8080/",
          "height": 235
        }
      },
      "source": [
        "### Setting the index to date column\n",
        "\n",
        "ts19.set_index(['Date'], inplace=True)\n",
        "ts19.head()"
      ],
      "execution_count": null,
      "outputs": [
        {
          "output_type": "execute_result",
          "data": {
            "text/html": [
              "<div>\n",
              "<style scoped>\n",
              "    .dataframe tbody tr th:only-of-type {\n",
              "        vertical-align: middle;\n",
              "    }\n",
              "\n",
              "    .dataframe tbody tr th {\n",
              "        vertical-align: top;\n",
              "    }\n",
              "\n",
              "    .dataframe thead th {\n",
              "        text-align: right;\n",
              "    }\n",
              "</style>\n",
              "<table border=\"1\" class=\"dataframe\">\n",
              "  <thead>\n",
              "    <tr style=\"text-align: right;\">\n",
              "      <th></th>\n",
              "      <th>TOTALDEMAND</th>\n",
              "      <th>relative_humidity</th>\n",
              "      <th>avg_temp</th>\n",
              "      <th>ws_avg_50</th>\n",
              "    </tr>\n",
              "    <tr>\n",
              "      <th>Date</th>\n",
              "      <th></th>\n",
              "      <th></th>\n",
              "      <th></th>\n",
              "      <th></th>\n",
              "    </tr>\n",
              "  </thead>\n",
              "  <tbody>\n",
              "    <tr>\n",
              "      <th>2016-01-01</th>\n",
              "      <td>226550.31</td>\n",
              "      <td>56.49</td>\n",
              "      <td>21.855</td>\n",
              "      <td>4.305</td>\n",
              "    </tr>\n",
              "    <tr>\n",
              "      <th>2016-02-01</th>\n",
              "      <td>199245.28</td>\n",
              "      <td>66.32</td>\n",
              "      <td>20.415</td>\n",
              "      <td>7.175</td>\n",
              "    </tr>\n",
              "    <tr>\n",
              "      <th>2016-03-01</th>\n",
              "      <td>195312.89</td>\n",
              "      <td>71.23</td>\n",
              "      <td>18.875</td>\n",
              "      <td>6.685</td>\n",
              "    </tr>\n",
              "    <tr>\n",
              "      <th>2016-04-01</th>\n",
              "      <td>221865.01</td>\n",
              "      <td>75.53</td>\n",
              "      <td>18.490</td>\n",
              "      <td>5.835</td>\n",
              "    </tr>\n",
              "    <tr>\n",
              "      <th>2016-05-01</th>\n",
              "      <td>235747.16</td>\n",
              "      <td>68.87</td>\n",
              "      <td>19.215</td>\n",
              "      <td>2.985</td>\n",
              "    </tr>\n",
              "  </tbody>\n",
              "</table>\n",
              "</div>"
            ],
            "text/plain": [
              "            TOTALDEMAND  relative_humidity  avg_temp  ws_avg_50\n",
              "Date                                                           \n",
              "2016-01-01    226550.31              56.49    21.855      4.305\n",
              "2016-02-01    199245.28              66.32    20.415      7.175\n",
              "2016-03-01    195312.89              71.23    18.875      6.685\n",
              "2016-04-01    221865.01              75.53    18.490      5.835\n",
              "2016-05-01    235747.16              68.87    19.215      2.985"
            ]
          },
          "metadata": {
            "tags": []
          },
          "execution_count": 51
        }
      ]
=======
     "name": "stdout",
     "output_type": "stream",
     "text": [
      "Saving u_fulldata_vic.csv to u_fulldata_vic.csv\n"
     ]
    }
   ],
   "source": [
    "from google.colab import files\n",
    "uploaded = files.upload()"
   ]
  },
  {
   "cell_type": "code",
   "execution_count": 32,
   "metadata": {
    "id": "kQtRZpG_mGUi"
   },
   "outputs": [],
   "source": [
    "import pandas as pd\n",
    "import numpy as np\n",
    "import matplotlib.pyplot as plt\n",
    "import pandas as pd\n",
    "from sklearn.preprocessing import MinMaxScaler\n",
    "from tensorflow.keras import Sequential\n",
    "from tensorflow.keras.layers import Dense, LSTM, Dropout\n",
    "from keras.preprocessing.sequence import TimeseriesGenerator\n",
    "from sklearn.model_selection import train_test_split\n",
    "import tensorflow as tf"
   ]
  },
  {
   "cell_type": "code",
   "execution_count": 33,
   "metadata": {
    "id": "G8CrggmxmJ-L"
   },
   "outputs": [],
   "source": [
    "ts19 = pd.read_csv(\"u_fulldata_vic.csv\")"
   ]
  },
  {
   "cell_type": "code",
   "execution_count": 34,
   "metadata": {
    "colab": {
     "base_uri": "https://localhost:8080/",
     "height": 411
>>>>>>> Stashed changes
    },
    "id": "IFdz7TOCmKA_",
    "outputId": "42d22c49-5576-419f-bf9b-5df4b37df1ad"
   },
   "outputs": [
    {
<<<<<<< Updated upstream
      "cell_type": "code",
      "metadata": {
        "id": "sSpSD1hmQ1nU",
        "outputId": "d46e933c-4784-4143-95f6-a12662d62937",
        "colab": {
          "base_uri": "https://localhost:8080/",
          "height": 297
        }
      },
      "source": [
        "ts19.describe()"
      ],
      "execution_count": null,
      "outputs": [
        {
          "output_type": "execute_result",
          "data": {
            "text/html": [
              "<div>\n",
              "<style scoped>\n",
              "    .dataframe tbody tr th:only-of-type {\n",
              "        vertical-align: middle;\n",
              "    }\n",
              "\n",
              "    .dataframe tbody tr th {\n",
              "        vertical-align: top;\n",
              "    }\n",
              "\n",
              "    .dataframe thead th {\n",
              "        text-align: right;\n",
              "    }\n",
              "</style>\n",
              "<table border=\"1\" class=\"dataframe\">\n",
              "  <thead>\n",
              "    <tr style=\"text-align: right;\">\n",
              "      <th></th>\n",
              "      <th>TOTALDEMAND</th>\n",
              "      <th>relative_humidity</th>\n",
              "      <th>avg_temp</th>\n",
              "      <th>ws_avg_50</th>\n",
              "    </tr>\n",
              "  </thead>\n",
              "  <tbody>\n",
              "    <tr>\n",
              "      <th>count</th>\n",
              "      <td>1711.000000</td>\n",
              "      <td>1711.000000</td>\n",
              "      <td>1711.000000</td>\n",
              "      <td>1711.000000</td>\n",
              "    </tr>\n",
              "    <tr>\n",
              "      <th>mean</th>\n",
              "      <td>238292.377832</td>\n",
              "      <td>71.025985</td>\n",
              "      <td>14.437314</td>\n",
              "      <td>6.174305</td>\n",
              "    </tr>\n",
              "    <tr>\n",
              "      <th>std</th>\n",
              "      <td>27303.815962</td>\n",
              "      <td>13.524438</td>\n",
              "      <td>5.282906</td>\n",
              "      <td>2.503401</td>\n",
              "    </tr>\n",
              "    <tr>\n",
              "      <th>min</th>\n",
              "      <td>170188.750000</td>\n",
              "      <td>24.040000</td>\n",
              "      <td>4.940000</td>\n",
              "      <td>1.220000</td>\n",
              "    </tr>\n",
              "    <tr>\n",
              "      <th>25%</th>\n",
              "      <td>218645.815000</td>\n",
              "      <td>61.950000</td>\n",
              "      <td>9.885000</td>\n",
              "      <td>4.122500</td>\n",
              "    </tr>\n",
              "    <tr>\n",
              "      <th>50%</th>\n",
              "      <td>236614.310000</td>\n",
              "      <td>72.500000</td>\n",
              "      <td>13.410000</td>\n",
              "      <td>5.820000</td>\n",
              "    </tr>\n",
              "    <tr>\n",
              "      <th>75%</th>\n",
              "      <td>258331.630000</td>\n",
              "      <td>81.750000</td>\n",
              "      <td>18.187500</td>\n",
              "      <td>7.772500</td>\n",
              "    </tr>\n",
              "    <tr>\n",
              "      <th>max</th>\n",
              "      <td>341307.680000</td>\n",
              "      <td>98.240000</td>\n",
              "      <td>31.085000</td>\n",
              "      <td>14.540000</td>\n",
              "    </tr>\n",
              "  </tbody>\n",
              "</table>\n",
              "</div>"
            ],
            "text/plain": [
              "         TOTALDEMAND  relative_humidity     avg_temp    ws_avg_50\n",
              "count    1711.000000        1711.000000  1711.000000  1711.000000\n",
              "mean   238292.377832          71.025985    14.437314     6.174305\n",
              "std     27303.815962          13.524438     5.282906     2.503401\n",
              "min    170188.750000          24.040000     4.940000     1.220000\n",
              "25%    218645.815000          61.950000     9.885000     4.122500\n",
              "50%    236614.310000          72.500000    13.410000     5.820000\n",
              "75%    258331.630000          81.750000    18.187500     7.772500\n",
              "max    341307.680000          98.240000    31.085000    14.540000"
            ]
          },
          "metadata": {
            "tags": []
          },
          "execution_count": 9
        }
=======
     "data": {
      "text/html": [
       "<div>\n",
       "<style scoped>\n",
       "    .dataframe tbody tr th:only-of-type {\n",
       "        vertical-align: middle;\n",
       "    }\n",
       "\n",
       "    .dataframe tbody tr th {\n",
       "        vertical-align: top;\n",
       "    }\n",
       "\n",
       "    .dataframe thead th {\n",
       "        text-align: right;\n",
       "    }\n",
       "</style>\n",
       "<table border=\"1\" class=\"dataframe\">\n",
       "  <thead>\n",
       "    <tr style=\"text-align: right;\">\n",
       "      <th></th>\n",
       "      <th>Month</th>\n",
       "      <th>Day</th>\n",
       "      <th>TOTALDEMAND</th>\n",
       "      <th>YEAR</th>\n",
       "      <th>Date</th>\n",
       "      <th>relative_humidity</th>\n",
       "      <th>dew_temp</th>\n",
       "      <th>max_temp</th>\n",
       "      <th>min_temp</th>\n",
       "      <th>temp2m</th>\n",
       "      <th>WS50M_MIN</th>\n",
       "      <th>WS10M_MIN</th>\n",
       "      <th>WS50M_MAX</th>\n",
       "      <th>WS10M_MAX</th>\n",
       "      <th>WS50M</th>\n",
       "      <th>WS10M</th>\n",
       "      <th>avg_temp</th>\n",
       "      <th>ws_avg_50</th>\n",
       "      <th>ws_avg_10</th>\n",
       "      <th>Unnamed: 19</th>\n",
       "    </tr>\n",
       "  </thead>\n",
       "  <tbody>\n",
       "    <tr>\n",
       "      <th>0</th>\n",
       "      <td>1</td>\n",
       "      <td>1</td>\n",
       "      <td>226550.31</td>\n",
       "      <td>2016</td>\n",
       "      <td>01-01-2016</td>\n",
       "      <td>56.49</td>\n",
       "      <td>12.69</td>\n",
       "      <td>27.74</td>\n",
       "      <td>15.97</td>\n",
       "      <td>21.87</td>\n",
       "      <td>1.63</td>\n",
       "      <td>1.09</td>\n",
       "      <td>6.98</td>\n",
       "      <td>5.98</td>\n",
       "      <td>4.48</td>\n",
       "      <td>3.60</td>\n",
       "      <td>21.855</td>\n",
       "      <td>4.305</td>\n",
       "      <td>3.535</td>\n",
       "      <td>NaN</td>\n",
       "    </tr>\n",
       "    <tr>\n",
       "      <th>1</th>\n",
       "      <td>1</td>\n",
       "      <td>2</td>\n",
       "      <td>199245.28</td>\n",
       "      <td>2016</td>\n",
       "      <td>02-01-2016</td>\n",
       "      <td>66.32</td>\n",
       "      <td>12.94</td>\n",
       "      <td>26.07</td>\n",
       "      <td>14.76</td>\n",
       "      <td>19.40</td>\n",
       "      <td>4.69</td>\n",
       "      <td>4.19</td>\n",
       "      <td>9.66</td>\n",
       "      <td>8.12</td>\n",
       "      <td>7.04</td>\n",
       "      <td>5.80</td>\n",
       "      <td>20.415</td>\n",
       "      <td>7.175</td>\n",
       "      <td>6.155</td>\n",
       "      <td>NaN</td>\n",
       "    </tr>\n",
       "    <tr>\n",
       "      <th>2</th>\n",
       "      <td>1</td>\n",
       "      <td>3</td>\n",
       "      <td>195312.89</td>\n",
       "      <td>2016</td>\n",
       "      <td>03-01-2016</td>\n",
       "      <td>71.23</td>\n",
       "      <td>13.13</td>\n",
       "      <td>22.40</td>\n",
       "      <td>15.35</td>\n",
       "      <td>18.41</td>\n",
       "      <td>5.58</td>\n",
       "      <td>3.55</td>\n",
       "      <td>7.79</td>\n",
       "      <td>6.27</td>\n",
       "      <td>6.92</td>\n",
       "      <td>5.35</td>\n",
       "      <td>18.875</td>\n",
       "      <td>6.685</td>\n",
       "      <td>4.910</td>\n",
       "      <td>NaN</td>\n",
       "    </tr>\n",
       "    <tr>\n",
       "      <th>3</th>\n",
       "      <td>1</td>\n",
       "      <td>4</td>\n",
       "      <td>221865.01</td>\n",
       "      <td>2016</td>\n",
       "      <td>04-01-2016</td>\n",
       "      <td>75.53</td>\n",
       "      <td>13.78</td>\n",
       "      <td>21.67</td>\n",
       "      <td>15.31</td>\n",
       "      <td>18.16</td>\n",
       "      <td>3.91</td>\n",
       "      <td>3.01</td>\n",
       "      <td>7.76</td>\n",
       "      <td>5.58</td>\n",
       "      <td>5.39</td>\n",
       "      <td>4.07</td>\n",
       "      <td>18.490</td>\n",
       "      <td>5.835</td>\n",
       "      <td>4.295</td>\n",
       "      <td>NaN</td>\n",
       "    </tr>\n",
       "    <tr>\n",
       "      <th>4</th>\n",
       "      <td>1</td>\n",
       "      <td>5</td>\n",
       "      <td>235747.16</td>\n",
       "      <td>2016</td>\n",
       "      <td>05-01-2016</td>\n",
       "      <td>68.87</td>\n",
       "      <td>13.47</td>\n",
       "      <td>24.57</td>\n",
       "      <td>13.86</td>\n",
       "      <td>19.37</td>\n",
       "      <td>0.63</td>\n",
       "      <td>0.71</td>\n",
       "      <td>5.34</td>\n",
       "      <td>3.24</td>\n",
       "      <td>3.29</td>\n",
       "      <td>2.33</td>\n",
       "      <td>19.215</td>\n",
       "      <td>2.985</td>\n",
       "      <td>1.975</td>\n",
       "      <td>NaN</td>\n",
       "    </tr>\n",
       "  </tbody>\n",
       "</table>\n",
       "</div>"
      ],
      "text/plain": [
       "   Month  Day  TOTALDEMAND  YEAR  ... avg_temp  ws_avg_50  ws_avg_10  Unnamed: 19\n",
       "0      1    1    226550.31  2016  ...   21.855      4.305      3.535          NaN\n",
       "1      1    2    199245.28  2016  ...   20.415      7.175      6.155          NaN\n",
       "2      1    3    195312.89  2016  ...   18.875      6.685      4.910          NaN\n",
       "3      1    4    221865.01  2016  ...   18.490      5.835      4.295          NaN\n",
       "4      1    5    235747.16  2016  ...   19.215      2.985      1.975          NaN\n",
       "\n",
       "[5 rows x 20 columns]"
>>>>>>> Stashed changes
      ]
     },
     "execution_count": 34,
     "metadata": {
      "tags": []
     },
     "output_type": "execute_result"
    }
   ],
   "source": [
    "ts19.head()"
   ]
  },
  {
   "cell_type": "code",
   "execution_count": 35,
   "metadata": {
    "id": "u_myntaGmKEz"
   },
   "outputs": [],
   "source": [
    "ts19 = ts19[['TOTALDEMAND',\t'Date',\t'relative_humidity','avg_temp',\t'ws_avg_50']]"
   ]
  },
  {
   "cell_type": "code",
   "execution_count": 36,
   "metadata": {
    "id": "svYdqhJ6mKHv"
   },
   "outputs": [],
   "source": [
    "ts19['Date'] = pd.to_datetime(ts19['Date'])"
   ]
  },
  {
   "cell_type": "code",
   "execution_count": 37,
   "metadata": {
    "colab": {
     "base_uri": "https://localhost:8080/",
     "height": 221
    },
    "id": "-NsG1DFxQXsx",
    "outputId": "dfc89777-1022-4c7c-db89-3b2ee8a4a99d"
   },
   "outputs": [
    {
<<<<<<< Updated upstream
      "cell_type": "code",
      "metadata": {
        "id": "G5RgxoRwmKQe"
      },
      "source": [
        "#Normalising the dataset\n",
        "\n",
        "scaler = MinMaxScaler()\n",
        "data_training = scaler.fit_transform(ts19)"
      ],
      "execution_count": null,
      "outputs": []
    },
    {
      "cell_type": "code",
      "metadata": {
        "id": "VeNTgr6gqN_h"
      },
      "source": [
        "##### New\n",
        "\n",
        "# #Normalising the dataset\n",
        "\n",
        "# scaler = MinMaxScaler()\n",
        "# data_testing = scaler.fit_transform(test19)"
      ],
      "execution_count": null,
      "outputs": []
=======
     "name": "stdout",
     "output_type": "stream",
     "text": [
      "<class 'pandas.core.frame.DataFrame'>\n",
      "RangeIndex: 1461 entries, 0 to 1460\n",
      "Data columns (total 5 columns):\n",
      " #   Column             Non-Null Count  Dtype         \n",
      "---  ------             --------------  -----         \n",
      " 0   TOTALDEMAND        1461 non-null   float64       \n",
      " 1   Date               1461 non-null   datetime64[ns]\n",
      " 2   relative_humidity  1461 non-null   float64       \n",
      " 3   avg_temp           1461 non-null   float64       \n",
      " 4   ws_avg_50          1461 non-null   float64       \n",
      "dtypes: datetime64[ns](1), float64(4)\n",
      "memory usage: 57.2 KB\n"
     ]
    }
   ],
   "source": [
    "ts19.info()"
   ]
  },
  {
   "cell_type": "code",
   "execution_count": 38,
   "metadata": {
    "colab": {
     "base_uri": "https://localhost:8080/",
     "height": 362
>>>>>>> Stashed changes
    },
    "id": "Sm4D7Qm8mKKI",
    "outputId": "376756f8-1a9c-48b2-e41b-56601fc18cd4"
   },
   "outputs": [
    {
<<<<<<< Updated upstream
      "cell_type": "code",
      "metadata": {
        "id": "Ms1Nm-2ImKTH",
        "outputId": "5c2ee076-d06c-41c8-cd40-6bd3bc4e41bb",
        "colab": {
          "base_uri": "https://localhost:8080/",
          "height": 136
        }
      },
      "source": [
        "data_training"
      ],
      "execution_count": null,
      "outputs": [
        {
          "output_type": "execute_result",
          "data": {
            "text/plain": [
              "array([[0.32937069, 0.43733154, 0.64696883, 0.23160661],\n",
              "       [0.16980313, 0.56981132, 0.59189138, 0.44707207],\n",
              "       [0.14682268, 0.63598383, 0.5329891 , 0.41028529],\n",
              "       ...,\n",
              "       [0.3454529 , 0.70619946, 0.15720023, 0.19481982],\n",
              "       [0.31536061, 0.67008086, 0.2314018 , 0.35247748],\n",
              "       [0.33340362, 0.8245283 , 0.30981067, 0.5762012 ]])"
            ]
          },
          "metadata": {
            "tags": []
          },
          "execution_count": 53
        }
=======
     "data": {
      "text/plain": [
       "array([<matplotlib.axes._subplots.AxesSubplot object at 0x7f65b3527e48>,\n",
       "       <matplotlib.axes._subplots.AxesSubplot object at 0x7f65b3339ba8>,\n",
       "       <matplotlib.axes._subplots.AxesSubplot object at 0x7f65b3368da0>,\n",
       "       <matplotlib.axes._subplots.AxesSubplot object at 0x7f65b3318fd0>],\n",
       "      dtype=object)"
>>>>>>> Stashed changes
      ]
     },
     "execution_count": 38,
     "metadata": {
      "tags": []
     },
     "output_type": "execute_result"
    },
    {
<<<<<<< Updated upstream
      "cell_type": "code",
      "metadata": {
        "id": "8qvmdM-sq9ls"
      },
      "source": [
        "##### New\n",
        "\n",
        "# data_testing"
      ],
      "execution_count": null,
      "outputs": []
    },
    {
      "cell_type": "code",
      "metadata": {
        "id": "forRbswumKYN"
      },
      "source": [
        "features = data_training\n",
        "target = data_training[:,0]"
      ],
      "execution_count": null,
      "outputs": []
    },
    {
      "cell_type": "code",
      "metadata": {
        "id": "Xh3IhUSNrDvm"
      },
      "source": [
        "#### New\n",
        "\n",
        "# features_test = data_testing\n",
        "# target_test = data_testing[:,0]"
      ],
      "execution_count": null,
      "outputs": []
    },
    {
      "cell_type": "code",
      "metadata": {
        "id": "BIHhvfz_mKa8",
        "outputId": "1d7e283a-86c2-44d2-b732-55d4086c21a4",
        "colab": {
          "base_uri": "https://localhost:8080/",
          "height": 544
        }
      },
      "source": [
        "TimeseriesGenerator(features, target, length=30, sampling_rate=1, batch_size=1)[0]"
      ],
      "execution_count": null,
      "outputs": [
        {
          "output_type": "execute_result",
          "data": {
            "text/plain": [
              "(array([[[0.32937069, 0.43733154, 0.64696883, 0.23160661],\n",
              "         [0.16980313, 0.56981132, 0.59189138, 0.44707207],\n",
              "         [0.14682268, 0.63598383, 0.5329891 , 0.41028529],\n",
              "         [0.30199032, 0.69393531, 0.51826353, 0.34647147],\n",
              "         [0.38311606, 0.6041779 , 0.5459935 , 0.13250751],\n",
              "         [0.35028141, 0.64663073, 0.56855995, 0.46884384],\n",
              "         [0.31905669, 0.52991914, 0.51099637, 0.44744745],\n",
              "         [0.31305905, 0.50983827, 0.51176133, 0.34647147],\n",
              "         [0.23829415, 0.48382749, 0.52935552, 0.2042042 ],\n",
              "         [0.32672914, 0.29986523, 0.67814114, 0.1295045 ],\n",
              "         [0.65496798, 0.2925876 , 0.8141136 , 0.22372372],\n",
              "         [0.58335726, 0.45525606, 0.65595716, 0.23385886],\n",
              "         [0.87560973, 0.22749326, 0.89596481, 0.47222222],\n",
              "         [0.41260146, 0.47695418, 0.52151463, 0.61036036],\n",
              "         [0.32901579, 0.39487871, 0.42685026, 0.50487988],\n",
              "         [0.20981659, 0.36698113, 0.48288392, 0.20795796],\n",
              "         [0.33897705, 0.22412399, 0.6746988 , 0.26351351],\n",
              "         [0.73309493, 0.1245283 , 0.8118187 , 0.35960961],\n",
              "         [0.7423842 , 0.2606469 , 0.7741442 , 0.18130631],\n",
              "         [0.67061119, 0.56981132, 0.71849302, 0.1478979 ],\n",
              "         [0.63530365, 0.55768194, 0.67546376, 0.16966967],\n",
              "         [0.51473919, 0.77978437, 0.5492446 , 0.08783784],\n",
              "         [0.26885944, 0.64177898, 0.56071907, 0.33633634],\n",
              "         [0.21390883, 0.63948787, 0.53509275, 0.34084084],\n",
              "         [0.32205934, 0.61792453, 0.51615988, 0.43993994],\n",
              "         [0.29287747, 0.55309973, 0.6152228 , 0.28978979],\n",
              "         [0.56830253, 0.64541779, 0.66456301, 0.38213213],\n",
              "         [0.573583  , 0.57574124, 0.66112067, 0.3033033 ],\n",
              "         [0.45022295, 0.75687332, 0.36335819, 0.13588589],\n",
              "         [0.26279933, 0.58490566, 0.46739338, 0.25675676]]]),\n",
              " array([0.18916989]))"
            ]
          },
          "metadata": {
            "tags": []
          },
          "execution_count": 55
        }
      ]
    },
    {
      "cell_type": "code",
      "metadata": {
        "id": "k4c-uudvrM27"
      },
      "source": [
        "##### New\n",
        "\n",
        "#TimeseriesGenerator(features_test, target_test, length=30, sampling_rate=1, batch_size=1)[0]"
      ],
      "execution_count": null,
      "outputs": []
    },
    {
      "cell_type": "code",
      "metadata": {
        "id": "AiVtl8uMMRMS",
        "outputId": "92c57699-401a-4d49-b9e0-18917a42d98d",
        "colab": {
          "base_uri": "https://localhost:8080/",
          "height": 34
        }
      },
      "source": [
        "features.shape"
      ],
      "execution_count": null,
      "outputs": [
        {
          "output_type": "execute_result",
          "data": {
            "text/plain": [
              "(1711, 4)"
            ]
          },
          "metadata": {
            "tags": []
          },
          "execution_count": 56
        }
      ]
    },
    {
      "cell_type": "code",
      "metadata": {
        "id": "yguW64olMVVv",
        "outputId": "fbe74be9-2c9d-41ab-8adb-b302707d9aed",
        "colab": {
          "base_uri": "https://localhost:8080/",
          "height": 34
        }
      },
      "source": [
        "target.shape"
      ],
      "execution_count": null,
      "outputs": [
        {
          "output_type": "execute_result",
          "data": {
            "text/plain": [
              "(1711,)"
            ]
          },
          "metadata": {
            "tags": []
          },
          "execution_count": 57
        }
=======
     "data": {
      "image/png": "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\n",
      "text/plain": [
       "<Figure size 432x288 with 4 Axes>"
>>>>>>> Stashed changes
      ]
     },
     "metadata": {
      "needs_background": "light",
      "tags": []
     },
     "output_type": "display_data"
    }
   ],
   "source": [
    "ts19.set_index('Date')[['TOTALDEMAND','avg_temp','relative_humidity','ws_avg_50']].plot(subplots=True)"
   ]
  },
  {
   "cell_type": "code",
   "execution_count": 39,
   "metadata": {
    "colab": {
     "base_uri": "https://localhost:8080/",
     "height": 235
    },
    "id": "5AkB_11bTUyg",
    "outputId": "aa31e810-c0c2-495e-eb59-666a491a0562"
   },
   "outputs": [
    {
<<<<<<< Updated upstream
      "cell_type": "code",
      "metadata": {
        "id": "cBBSqZq4mKdr"
      },
      "source": [
        "########## x_train, x_test, y_train, y_test = train_test_split(features, target, test_size=0.0, shuffle=False)"
      ],
      "execution_count": null,
      "outputs": []
    },
    {
      "cell_type": "code",
      "metadata": {
        "id": "PIDVHasdJsVB"
      },
      "source": [
        "x_train = features[:1361]\n",
        "y_train = target[:1361]\n",
        "x_test = features[1361:]\n",
        "y_test = features[1361:]"
      ],
      "execution_count": null,
      "outputs": []
    },
    {
      "cell_type": "code",
      "metadata": {
        "id": "9OsmTN7SntS0"
      },
      "source": [
        "##### New\n",
        "\n",
        "# x_train = features\n",
        "# x_test = features_test\n",
        "# y_train = target\n",
        "# y_test = target_test"
      ],
      "execution_count": null,
      "outputs": []
    },
    {
      "cell_type": "code",
      "metadata": {
        "id": "v9K6MAuinteu"
      },
      "source": [
        ""
      ],
      "execution_count": null,
      "outputs": []
    },
    {
      "cell_type": "code",
      "metadata": {
        "id": "r8f2ojoTmKgL",
        "outputId": "8014287f-1534-4ab2-9d65-55ced59f72ac",
        "colab": {
          "base_uri": "https://localhost:8080/",
          "height": 34
        }
      },
      "source": [
        "x_train.shape"
      ],
      "execution_count": null,
      "outputs": [
        {
          "output_type": "execute_result",
          "data": {
            "text/plain": [
              "(1361, 4)"
            ]
          },
          "metadata": {
            "tags": []
          },
          "execution_count": 59
        }
=======
     "data": {
      "text/html": [
       "<div>\n",
       "<style scoped>\n",
       "    .dataframe tbody tr th:only-of-type {\n",
       "        vertical-align: middle;\n",
       "    }\n",
       "\n",
       "    .dataframe tbody tr th {\n",
       "        vertical-align: top;\n",
       "    }\n",
       "\n",
       "    .dataframe thead th {\n",
       "        text-align: right;\n",
       "    }\n",
       "</style>\n",
       "<table border=\"1\" class=\"dataframe\">\n",
       "  <thead>\n",
       "    <tr style=\"text-align: right;\">\n",
       "      <th></th>\n",
       "      <th>TOTALDEMAND</th>\n",
       "      <th>relative_humidity</th>\n",
       "      <th>avg_temp</th>\n",
       "      <th>ws_avg_50</th>\n",
       "    </tr>\n",
       "    <tr>\n",
       "      <th>Date</th>\n",
       "      <th></th>\n",
       "      <th></th>\n",
       "      <th></th>\n",
       "      <th></th>\n",
       "    </tr>\n",
       "  </thead>\n",
       "  <tbody>\n",
       "    <tr>\n",
       "      <th>2016-01-01</th>\n",
       "      <td>226550.31</td>\n",
       "      <td>56.49</td>\n",
       "      <td>21.855</td>\n",
       "      <td>4.305</td>\n",
       "    </tr>\n",
       "    <tr>\n",
       "      <th>2016-02-01</th>\n",
       "      <td>199245.28</td>\n",
       "      <td>66.32</td>\n",
       "      <td>20.415</td>\n",
       "      <td>7.175</td>\n",
       "    </tr>\n",
       "    <tr>\n",
       "      <th>2016-03-01</th>\n",
       "      <td>195312.89</td>\n",
       "      <td>71.23</td>\n",
       "      <td>18.875</td>\n",
       "      <td>6.685</td>\n",
       "    </tr>\n",
       "    <tr>\n",
       "      <th>2016-04-01</th>\n",
       "      <td>221865.01</td>\n",
       "      <td>75.53</td>\n",
       "      <td>18.490</td>\n",
       "      <td>5.835</td>\n",
       "    </tr>\n",
       "    <tr>\n",
       "      <th>2016-05-01</th>\n",
       "      <td>235747.16</td>\n",
       "      <td>68.87</td>\n",
       "      <td>19.215</td>\n",
       "      <td>2.985</td>\n",
       "    </tr>\n",
       "  </tbody>\n",
       "</table>\n",
       "</div>"
      ],
      "text/plain": [
       "            TOTALDEMAND  relative_humidity  avg_temp  ws_avg_50\n",
       "Date                                                           \n",
       "2016-01-01    226550.31              56.49    21.855      4.305\n",
       "2016-02-01    199245.28              66.32    20.415      7.175\n",
       "2016-03-01    195312.89              71.23    18.875      6.685\n",
       "2016-04-01    221865.01              75.53    18.490      5.835\n",
       "2016-05-01    235747.16              68.87    19.215      2.985"
>>>>>>> Stashed changes
      ]
     },
     "execution_count": 39,
     "metadata": {
      "tags": []
     },
     "output_type": "execute_result"
    }
   ],
   "source": [
    "ts19.set_index(['Date'], inplace=True)\n",
    "ts19.head()"
   ]
  },
  {
   "cell_type": "code",
   "execution_count": 40,
   "metadata": {
    "colab": {
     "base_uri": "https://localhost:8080/",
     "height": 297
    },
    "id": "sSpSD1hmQ1nU",
    "outputId": "94c2544c-3e7d-41d8-8fee-c4db39f1a158"
   },
   "outputs": [
    {
<<<<<<< Updated upstream
      "cell_type": "code",
      "metadata": {
        "id": "JSpwb5B0mKi5",
        "outputId": "38c20d11-49e2-40f8-eba8-a21221b8d236",
        "colab": {
          "base_uri": "https://localhost:8080/",
          "height": 34
        }
      },
      "source": [
        "x_test.shape"
      ],
      "execution_count": null,
      "outputs": [
        {
          "output_type": "execute_result",
          "data": {
            "text/plain": [
              "(350, 4)"
            ]
          },
          "metadata": {
            "tags": []
          },
          "execution_count": 60
        }
=======
     "data": {
      "text/html": [
       "<div>\n",
       "<style scoped>\n",
       "    .dataframe tbody tr th:only-of-type {\n",
       "        vertical-align: middle;\n",
       "    }\n",
       "\n",
       "    .dataframe tbody tr th {\n",
       "        vertical-align: top;\n",
       "    }\n",
       "\n",
       "    .dataframe thead th {\n",
       "        text-align: right;\n",
       "    }\n",
       "</style>\n",
       "<table border=\"1\" class=\"dataframe\">\n",
       "  <thead>\n",
       "    <tr style=\"text-align: right;\">\n",
       "      <th></th>\n",
       "      <th>TOTALDEMAND</th>\n",
       "      <th>relative_humidity</th>\n",
       "      <th>avg_temp</th>\n",
       "      <th>ws_avg_50</th>\n",
       "    </tr>\n",
       "  </thead>\n",
       "  <tbody>\n",
       "    <tr>\n",
       "      <th>count</th>\n",
       "      <td>1461.000000</td>\n",
       "      <td>1461.000000</td>\n",
       "      <td>1461.000000</td>\n",
       "      <td>1461.000000</td>\n",
       "    </tr>\n",
       "    <tr>\n",
       "      <th>mean</th>\n",
       "      <td>238687.654771</td>\n",
       "      <td>69.361520</td>\n",
       "      <td>14.788528</td>\n",
       "      <td>6.169986</td>\n",
       "    </tr>\n",
       "    <tr>\n",
       "      <th>std</th>\n",
       "      <td>27362.963357</td>\n",
       "      <td>13.459587</td>\n",
       "      <td>5.331508</td>\n",
       "      <td>2.533314</td>\n",
       "    </tr>\n",
       "    <tr>\n",
       "      <th>min</th>\n",
       "      <td>170188.750000</td>\n",
       "      <td>24.040000</td>\n",
       "      <td>5.010000</td>\n",
       "      <td>1.220000</td>\n",
       "    </tr>\n",
       "    <tr>\n",
       "      <th>25%</th>\n",
       "      <td>219340.000000</td>\n",
       "      <td>60.480000</td>\n",
       "      <td>10.140000</td>\n",
       "      <td>4.095000</td>\n",
       "    </tr>\n",
       "    <tr>\n",
       "      <th>50%</th>\n",
       "      <td>236661.250000</td>\n",
       "      <td>70.270000</td>\n",
       "      <td>13.985000</td>\n",
       "      <td>5.795000</td>\n",
       "    </tr>\n",
       "    <tr>\n",
       "      <th>75%</th>\n",
       "      <td>258705.660000</td>\n",
       "      <td>80.140000</td>\n",
       "      <td>18.445000</td>\n",
       "      <td>7.770000</td>\n",
       "    </tr>\n",
       "    <tr>\n",
       "      <th>max</th>\n",
       "      <td>337789.690000</td>\n",
       "      <td>98.240000</td>\n",
       "      <td>31.085000</td>\n",
       "      <td>14.540000</td>\n",
       "    </tr>\n",
       "  </tbody>\n",
       "</table>\n",
       "</div>"
      ],
      "text/plain": [
       "         TOTALDEMAND  relative_humidity     avg_temp    ws_avg_50\n",
       "count    1461.000000        1461.000000  1461.000000  1461.000000\n",
       "mean   238687.654771          69.361520    14.788528     6.169986\n",
       "std     27362.963357          13.459587     5.331508     2.533314\n",
       "min    170188.750000          24.040000     5.010000     1.220000\n",
       "25%    219340.000000          60.480000    10.140000     4.095000\n",
       "50%    236661.250000          70.270000    13.985000     5.795000\n",
       "75%    258705.660000          80.140000    18.445000     7.770000\n",
       "max    337789.690000          98.240000    31.085000    14.540000"
>>>>>>> Stashed changes
      ]
     },
     "execution_count": 40,
     "metadata": {
      "tags": []
     },
     "output_type": "execute_result"
    }
   ],
   "source": [
    "ts19.describe()"
   ]
  },
  {
   "cell_type": "code",
   "execution_count": 41,
   "metadata": {
    "id": "G5RgxoRwmKQe"
   },
   "outputs": [],
   "source": [
    "#Normalising the dataset\n",
    "\n",
    "scaler = MinMaxScaler()\n",
    "data_training = scaler.fit_transform(ts19)"
   ]
  },
  {
   "cell_type": "code",
   "execution_count": 42,
   "metadata": {
    "colab": {
     "base_uri": "https://localhost:8080/",
     "height": 136
    },
    "id": "Ms1Nm-2ImKTH",
    "outputId": "d80cdae9-b2e5-4f0e-d5f9-56c10adee3de"
   },
   "outputs": [
    {
<<<<<<< Updated upstream
      "cell_type": "code",
      "metadata": {
        "id": "bOtm4Du8U1ZQ",
        "outputId": "0d4555e5-c0b3-47f5-a95f-e43687160196",
        "colab": {
          "base_uri": "https://localhost:8080/",
          "height": 136
        }
      },
      "source": [
        "x_test"
      ],
      "execution_count": null,
      "outputs": [
        {
          "output_type": "execute_result",
          "data": {
            "text/plain": [
              "array([[0.42974217, 0.7361186 , 0.18512144, 0.3506006 ],\n",
              "       [0.47561021, 0.72991914, 0.18569516, 0.30405405],\n",
              "       [0.45826087, 0.72425876, 0.23388793, 0.16103604],\n",
              "       ...,\n",
              "       [0.3454529 , 0.70619946, 0.15720023, 0.19481982],\n",
              "       [0.31536061, 0.67008086, 0.2314018 , 0.35247748],\n",
              "       [0.33340362, 0.8245283 , 0.30981067, 0.5762012 ]])"
            ]
          },
          "metadata": {
            "tags": []
          },
          "execution_count": 61
        }
=======
     "data": {
      "text/plain": [
       "array([[0.33628427, 0.43733154, 0.64602109, 0.23160661],\n",
       "       [0.17336735, 0.56981132, 0.59079578, 0.44707207],\n",
       "       [0.14990453, 0.63598383, 0.53173538, 0.41028529],\n",
       "       ...,\n",
       "       [0.39616902, 0.25862534, 0.87574305, 0.16291291],\n",
       "       [0.66008878, 0.1361186 , 0.96893576, 0.63438438],\n",
       "       [0.12310211, 0.38045822, 0.48878236, 0.3536036 ]])"
>>>>>>> Stashed changes
      ]
     },
     "execution_count": 42,
     "metadata": {
      "tags": []
     },
     "output_type": "execute_result"
    }
   ],
   "source": [
    "data_training"
   ]
  },
  {
   "cell_type": "code",
   "execution_count": 43,
   "metadata": {
    "id": "forRbswumKYN"
   },
   "outputs": [],
   "source": [
    "features = data_training\n",
    "target = data_training[:,0]"
   ]
  },
  {
   "cell_type": "code",
   "execution_count": 46,
   "metadata": {
    "colab": {
     "base_uri": "https://localhost:8080/",
     "height": 544
    },
    "id": "BIHhvfz_mKa8",
    "outputId": "4b7d9ae2-4721-41ff-f65f-94cfd9520f2b"
   },
   "outputs": [
    {
<<<<<<< Updated upstream
      "cell_type": "code",
      "metadata": {
        "id": "upYaooPSmKlS",
        "outputId": "d3456a3a-b195-45d1-824c-114164bdc36b",
        "colab": {
          "base_uri": "https://localhost:8080/",
          "height": 34
        }
      },
      "source": [
        "y_train.shape"
      ],
      "execution_count": null,
      "outputs": [
        {
          "output_type": "execute_result",
          "data": {
            "text/plain": [
              "(1361,)"
            ]
          },
          "metadata": {
            "tags": []
          },
          "execution_count": 62
        }
=======
     "data": {
      "text/plain": [
       "(array([[[0.33628427, 0.43733154, 0.64602109, 0.23160661],\n",
       "         [0.17336735, 0.56981132, 0.59079578, 0.44707207],\n",
       "         [0.14990453, 0.63598383, 0.53173538, 0.41028529],\n",
       "         [0.30832918, 0.69393531, 0.51697028, 0.34647147],\n",
       "         [0.39115777, 0.6041779 , 0.54477469, 0.13250751],\n",
       "         [0.35763391, 0.64663073, 0.56740173, 0.46884384],\n",
       "         [0.32575378, 0.52991914, 0.5096836 , 0.44744745],\n",
       "         [0.31963025, 0.50983827, 0.51045062, 0.34647147],\n",
       "         [0.24329601, 0.48382749, 0.52809204, 0.2042042 ],\n",
       "         [0.33358727, 0.29986523, 0.67727709, 0.1295045 ],\n",
       "         [0.66871594, 0.2925876 , 0.81361457, 0.22372372],\n",
       "         [0.59560209, 0.45525606, 0.65503356, 0.23385886],\n",
       "         [0.89398902, 0.22749326, 0.89568552, 0.47222222],\n",
       "         [0.42126208, 0.47695418, 0.52023011, 0.61036036],\n",
       "         [0.33592192, 0.39487871, 0.4253116 , 0.50487988],\n",
       "         [0.2142207 , 0.36698113, 0.48149569, 0.20795796],\n",
       "         [0.34609227, 0.22412399, 0.6738255 , 0.26351351],\n",
       "         [0.74848279, 0.1245283 , 0.81131352, 0.35960961],\n",
       "         [0.75796705, 0.2606469 , 0.77353787, 0.18130631],\n",
       "         [0.68468751, 0.56981132, 0.7177373 , 0.1478979 ],\n",
       "         [0.64863884, 0.55768194, 0.67459252, 0.16966967],\n",
       "         [0.52554371, 0.77978437, 0.54803452, 0.08783784],\n",
       "         [0.27450288, 0.64177898, 0.55953979, 0.33633634],\n",
       "         [0.21839883, 0.63948787, 0.53384468, 0.34084084],\n",
       "         [0.32881946, 0.61792453, 0.51486098, 0.43993994],\n",
       "         [0.29902505, 0.55309973, 0.61418984, 0.28978979],\n",
       "         [0.58023135, 0.64541779, 0.66366251, 0.38213213],\n",
       "         [0.58562267, 0.57574124, 0.66021093, 0.3033033 ],\n",
       "         [0.45967326, 0.75687332, 0.36164909, 0.13588589],\n",
       "         [0.26831556, 0.58490566, 0.46596357, 0.25675676]]]),\n",
       " array([0.19314062]))"
>>>>>>> Stashed changes
      ]
     },
     "execution_count": 46,
     "metadata": {
      "tags": []
     },
     "output_type": "execute_result"
    }
   ],
   "source": [
    "TimeseriesGenerator(features, target, length=30, sampling_rate=1, batch_size=1)[0]"
   ]
  },
  {
   "cell_type": "code",
   "execution_count": 48,
   "metadata": {
    "id": "cBBSqZq4mKdr"
   },
   "outputs": [],
   "source": [
    "x_train, x_test, y_train, y_test = train_test_split(features, target, test_size=0.20, shuffle=False)"
   ]
  },
  {
   "cell_type": "code",
   "execution_count": 49,
   "metadata": {
    "colab": {
     "base_uri": "https://localhost:8080/",
     "height": 34
    },
    "id": "r8f2ojoTmKgL",
    "outputId": "e7bed924-5d42-4da9-a879-686b84725341"
   },
   "outputs": [
    {
<<<<<<< Updated upstream
      "cell_type": "code",
      "metadata": {
        "id": "q7mhLr-1qfTx",
        "outputId": "f08fbbfc-9fcc-433b-f5b5-1cb31130fbd7",
        "colab": {
          "base_uri": "https://localhost:8080/",
          "height": 34
        }
      },
      "source": [
        "y_test.shape"
      ],
      "execution_count": null,
      "outputs": [
        {
          "output_type": "execute_result",
          "data": {
            "text/plain": [
              "(350, 4)"
            ]
          },
          "metadata": {
            "tags": []
          },
          "execution_count": 63
        }
=======
     "data": {
      "text/plain": [
       "(1168, 4)"
>>>>>>> Stashed changes
      ]
     },
     "execution_count": 49,
     "metadata": {
      "tags": []
     },
     "output_type": "execute_result"
    }
   ],
   "source": [
    "x_train.shape"
   ]
  },
  {
   "cell_type": "code",
   "execution_count": 50,
   "metadata": {
    "colab": {
     "base_uri": "https://localhost:8080/",
     "height": 34
    },
    "id": "JSpwb5B0mKi5",
    "outputId": "2780510c-f428-44fc-8702-d7660c16e178"
   },
   "outputs": [
    {
<<<<<<< Updated upstream
      "cell_type": "code",
      "metadata": {
        "id": "O_q4Vg6XqkBn"
      },
      "source": [
        "win_length=30\n",
        "batch_size=32\n",
        "num_features = 4\n",
        "train_generator = TimeseriesGenerator(x_train,y_train,length=win_length,sampling_rate=1,batch_size=batch_size)\n",
        "test_generator = TimeseriesGenerator(x_test,y_test,length=win_length,sampling_rate=1,batch_size=batch_size)"
      ],
      "execution_count": null,
      "outputs": []
    },
    {
      "cell_type": "code",
      "metadata": {
        "id": "TVc28erorZ9r",
        "outputId": "c4a3c3f6-729c-4d35-95c3-a6a7f3425026",
        "colab": {
          "base_uri": "https://localhost:8080/",
          "height": 969
        }
      },
      "source": [
        "train_generator[0]"
      ],
      "execution_count": null,
      "outputs": [
        {
          "output_type": "execute_result",
          "data": {
            "text/plain": [
              "(array([[[0.32937069, 0.43733154, 0.64696883, 0.23160661],\n",
              "         [0.16980313, 0.56981132, 0.59189138, 0.44707207],\n",
              "         [0.14682268, 0.63598383, 0.5329891 , 0.41028529],\n",
              "         ...,\n",
              "         [0.573583  , 0.57574124, 0.66112067, 0.3033033 ],\n",
              "         [0.45022295, 0.75687332, 0.36335819, 0.13588589],\n",
              "         [0.26279933, 0.58490566, 0.46739338, 0.25675676]],\n",
              " \n",
              "        [[0.16980313, 0.56981132, 0.59189138, 0.44707207],\n",
              "         [0.14682268, 0.63598383, 0.5329891 , 0.41028529],\n",
              "         [0.30199032, 0.69393531, 0.51826353, 0.34647147],\n",
              "         ...,\n",
              "         [0.45022295, 0.75687332, 0.36335819, 0.13588589],\n",
              "         [0.26279933, 0.58490566, 0.46739338, 0.25675676],\n",
              "         [0.18916989, 0.69743935, 0.43736852, 0.28415916]],\n",
              " \n",
              "        [[0.14682268, 0.63598383, 0.5329891 , 0.41028529],\n",
              "         [0.30199032, 0.69393531, 0.51826353, 0.34647147],\n",
              "         [0.38311606, 0.6041779 , 0.5459935 , 0.13250751],\n",
              "         ...,\n",
              "         [0.26279933, 0.58490566, 0.46739338, 0.25675676],\n",
              "         [0.18916989, 0.69743935, 0.43736852, 0.28415916],\n",
              "         [0.4035252 , 0.61226415, 0.48689998, 0.19557057]],\n",
              " \n",
              "        ...,\n",
              " \n",
              "        [[0.26279933, 0.58490566, 0.46739338, 0.25675676],\n",
              "         [0.18916989, 0.69743935, 0.43736852, 0.28415916],\n",
              "         [0.4035252 , 0.61226415, 0.48689998, 0.19557057],\n",
              "         ...,\n",
              "         [0.43807614, 0.49716981, 0.52380952, 0.3246997 ],\n",
              "         [0.29747106, 0.53814016, 0.57200229, 0.24887387],\n",
              "         [0.24179219, 0.57735849, 0.55115701, 0.30217718]],\n",
              " \n",
              "        [[0.18916989, 0.69743935, 0.43736852, 0.28415916],\n",
              "         [0.4035252 , 0.61226415, 0.48689998, 0.19557057],\n",
              "         [0.57147132, 0.50363881, 0.63128705, 0.18168168],\n",
              "         ...,\n",
              "         [0.29747106, 0.53814016, 0.57200229, 0.24887387],\n",
              "         [0.24179219, 0.57735849, 0.55115701, 0.30217718],\n",
              "         [0.47108412, 0.56091644, 0.56855995, 0.26351351]],\n",
              " \n",
              "        [[0.4035252 , 0.61226415, 0.48689998, 0.19557057],\n",
              "         [0.57147132, 0.50363881, 0.63128705, 0.18168168],\n",
              "         [0.43829283, 0.68328841, 0.51635112, 0.5228979 ],\n",
              "         ...,\n",
              "         [0.24179219, 0.57735849, 0.55115701, 0.30217718],\n",
              "         [0.47108412, 0.56091644, 0.56855995, 0.26351351],\n",
              "         [0.63849119, 0.27857143, 0.69994263, 0.20495495]]]),\n",
              " array([0.18916989, 0.4035252 , 0.57147132, 0.43829283, 0.40702954,\n",
              "        0.48195924, 0.45164652, 0.45982563, 0.51698371, 0.53970522,\n",
              "        0.55131983, 0.53657903, 0.56979254, 0.41778686, 0.22522768,\n",
              "        0.41805953, 0.3736309 , 0.40191246, 0.47767725, 0.44293504,\n",
              "        0.24330838, 0.26636422, 0.53101022, 0.83953838, 0.7868801 ,\n",
              "        0.61910719, 0.43807614, 0.29747106, 0.24179219, 0.47108412,\n",
              "        0.63849119, 0.70230225]))"
            ]
          },
          "metadata": {
            "tags": []
          },
          "execution_count": 65
        }
=======
     "data": {
      "text/plain": [
       "(293, 4)"
>>>>>>> Stashed changes
      ]
     },
     "execution_count": 50,
     "metadata": {
      "tags": []
     },
     "output_type": "execute_result"
    }
   ],
   "source": [
    "x_test.shape"
   ]
  },
  {
   "cell_type": "code",
   "execution_count": 51,
   "metadata": {
    "colab": {
     "base_uri": "https://localhost:8080/",
     "height": 136
    },
    "id": "bOtm4Du8U1ZQ",
    "outputId": "96392827-d59e-422f-c188-4a1b6256b465"
   },
   "outputs": [
    {
<<<<<<< Updated upstream
      "cell_type": "code",
      "metadata": {
        "id": "Z0nwnWjOraAh"
      },
      "source": [
        "model = tf.keras.Sequential()\n",
        "model.add(tf.keras.layers.LSTM(128, input_shape= (win_length,num_features), return_sequences=True))\n",
        "model.add(tf.keras.layers.LeakyReLU(alpha=0.5))\n",
        "model.add(tf.keras.layers.LSTM(128, return_sequences=True))\n",
        "model.add(tf.keras.layers.LeakyReLU(alpha=0.5))\n",
        "model.add(tf.keras.layers.Dropout(0.3))\n",
        "model.add(tf.keras.layers.LSTM(64, return_sequences=False))\n",
        "model.add(tf.keras.layers.Dropout(0.3))\n",
        "model.add(tf.keras.layers.Dense(1))\n"
      ],
      "execution_count": null,
      "outputs": []
    },
    {
      "cell_type": "code",
      "metadata": {
        "id": "tkuCD88draDI",
        "outputId": "0f504d95-58de-4775-c2af-889a18d47851",
        "colab": {
          "base_uri": "https://localhost:8080/",
          "height": 425
        }
      },
      "source": [
        "model.summary()"
      ],
      "execution_count": null,
      "outputs": [
        {
          "output_type": "stream",
          "text": [
            "Model: \"sequential_1\"\n",
            "_________________________________________________________________\n",
            "Layer (type)                 Output Shape              Param #   \n",
            "=================================================================\n",
            "lstm_3 (LSTM)                (None, 30, 128)           68096     \n",
            "_________________________________________________________________\n",
            "leaky_re_lu_2 (LeakyReLU)    (None, 30, 128)           0         \n",
            "_________________________________________________________________\n",
            "lstm_4 (LSTM)                (None, 30, 128)           131584    \n",
            "_________________________________________________________________\n",
            "leaky_re_lu_3 (LeakyReLU)    (None, 30, 128)           0         \n",
            "_________________________________________________________________\n",
            "dropout_2 (Dropout)          (None, 30, 128)           0         \n",
            "_________________________________________________________________\n",
            "lstm_5 (LSTM)                (None, 64)                49408     \n",
            "_________________________________________________________________\n",
            "dropout_3 (Dropout)          (None, 64)                0         \n",
            "_________________________________________________________________\n",
            "dense_1 (Dense)              (None, 1)                 65        \n",
            "=================================================================\n",
            "Total params: 249,153\n",
            "Trainable params: 249,153\n",
            "Non-trainable params: 0\n",
            "_________________________________________________________________\n"
          ],
          "name": "stdout"
        }
=======
     "data": {
      "text/plain": [
       "array([[0.33044451, 0.4712938 , 0.43317354, 0.28190691],\n",
       "       [0.31127212, 0.61280323, 0.46404602, 0.34947447],\n",
       "       [0.23896173, 0.45161725, 0.59616491, 0.17567568],\n",
       "       ...,\n",
       "       [0.39616902, 0.25862534, 0.87574305, 0.16291291],\n",
       "       [0.66008878, 0.1361186 , 0.96893576, 0.63438438],\n",
       "       [0.12310211, 0.38045822, 0.48878236, 0.3536036 ]])"
>>>>>>> Stashed changes
      ]
     },
     "execution_count": 51,
     "metadata": {
      "tags": []
     },
     "output_type": "execute_result"
    }
   ],
   "source": [
    "x_test"
   ]
  },
  {
   "cell_type": "code",
   "execution_count": 125,
   "metadata": {
    "colab": {
     "base_uri": "https://localhost:8080/",
     "height": 34
    },
    "id": "upYaooPSmKlS",
    "outputId": "e9a7e80a-0aad-4d20-876e-25ef337bd344"
   },
   "outputs": [
    {
<<<<<<< Updated upstream
      "cell_type": "code",
      "metadata": {
        "id": "mUr89h0GtG3s",
        "outputId": "626e8d96-6ab0-414d-b913-29fd2915f97b",
        "colab": {
          "base_uri": "https://localhost:8080/",
          "height": 1000
        }
      },
      "source": [
        "# early_stopping = tf.keras.callbacks.EarlyStopping(monitor='val_loss',\n",
        "#                                                   patience=2,\n",
        "#                                                   mode='min')\n",
        "\n",
        "model.compile(loss=tf.losses.MeanSquaredError(),\n",
        "              optimizer = tf.optimizers.Adam(),\n",
        "              metrics=[tf.metrics.MeanAbsoluteError()])\n",
        "\n",
        "history = model.fit_generator(train_generator, epochs=50, validation_data=test_generator, shuffle=False)#])#, callbacks=[early_stopping])"
      ],
      "execution_count": null,
      "outputs": [
        {
          "output_type": "stream",
          "text": [
            "Epoch 1/50\n",
            "42/42 [==============================] - 5s 115ms/step - loss: 0.0401 - mean_absolute_error: 0.1553 - val_loss: 0.0587 - val_mean_absolute_error: 0.1987\n",
            "Epoch 2/50\n",
            "42/42 [==============================] - 4s 90ms/step - loss: 0.0253 - mean_absolute_error: 0.1239 - val_loss: 0.0551 - val_mean_absolute_error: 0.1947\n",
            "Epoch 3/50\n",
            "42/42 [==============================] - 4s 89ms/step - loss: 0.0261 - mean_absolute_error: 0.1263 - val_loss: 0.0576 - val_mean_absolute_error: 0.1961\n",
            "Epoch 4/50\n",
            "42/42 [==============================] - 4s 89ms/step - loss: 0.0259 - mean_absolute_error: 0.1258 - val_loss: 0.0569 - val_mean_absolute_error: 0.1958\n",
            "Epoch 5/50\n",
            "42/42 [==============================] - 4s 91ms/step - loss: 0.0260 - mean_absolute_error: 0.1262 - val_loss: 0.0585 - val_mean_absolute_error: 0.1971\n",
            "Epoch 6/50\n",
            "42/42 [==============================] - 4s 90ms/step - loss: 0.0241 - mean_absolute_error: 0.1225 - val_loss: 0.0591 - val_mean_absolute_error: 0.1980\n",
            "Epoch 7/50\n",
            "42/42 [==============================] - 4s 91ms/step - loss: 0.0239 - mean_absolute_error: 0.1206 - val_loss: 0.0595 - val_mean_absolute_error: 0.1978\n",
            "Epoch 8/50\n",
            "42/42 [==============================] - 4s 92ms/step - loss: 0.0235 - mean_absolute_error: 0.1204 - val_loss: 0.0595 - val_mean_absolute_error: 0.1978\n",
            "Epoch 9/50\n",
            "42/42 [==============================] - 4s 91ms/step - loss: 0.0229 - mean_absolute_error: 0.1182 - val_loss: 0.0590 - val_mean_absolute_error: 0.1974\n",
            "Epoch 10/50\n",
            "42/42 [==============================] - 4s 92ms/step - loss: 0.0239 - mean_absolute_error: 0.1219 - val_loss: 0.0594 - val_mean_absolute_error: 0.1976\n",
            "Epoch 11/50\n",
            "42/42 [==============================] - 4s 91ms/step - loss: 0.0235 - mean_absolute_error: 0.1197 - val_loss: 0.0593 - val_mean_absolute_error: 0.1974\n",
            "Epoch 12/50\n",
            "42/42 [==============================] - 4s 90ms/step - loss: 0.0241 - mean_absolute_error: 0.1225 - val_loss: 0.0599 - val_mean_absolute_error: 0.1981\n",
            "Epoch 13/50\n",
            "42/42 [==============================] - 4s 100ms/step - loss: 0.0223 - mean_absolute_error: 0.1178 - val_loss: 0.0604 - val_mean_absolute_error: 0.1993\n",
            "Epoch 14/50\n",
            "42/42 [==============================] - 4s 93ms/step - loss: 0.0218 - mean_absolute_error: 0.1165 - val_loss: 0.0611 - val_mean_absolute_error: 0.2002\n",
            "Epoch 15/50\n",
            "42/42 [==============================] - 4s 90ms/step - loss: 0.0219 - mean_absolute_error: 0.1172 - val_loss: 0.0608 - val_mean_absolute_error: 0.2000\n",
            "Epoch 16/50\n",
            "42/42 [==============================] - 4s 92ms/step - loss: 0.0217 - mean_absolute_error: 0.1169 - val_loss: 0.0620 - val_mean_absolute_error: 0.2016\n",
            "Epoch 17/50\n",
            "42/42 [==============================] - 4s 90ms/step - loss: 0.0215 - mean_absolute_error: 0.1150 - val_loss: 0.0600 - val_mean_absolute_error: 0.1986\n",
            "Epoch 18/50\n",
            "42/42 [==============================] - 4s 91ms/step - loss: 0.0219 - mean_absolute_error: 0.1155 - val_loss: 0.0592 - val_mean_absolute_error: 0.1976\n",
            "Epoch 19/50\n",
            "42/42 [==============================] - 4s 91ms/step - loss: 0.0214 - mean_absolute_error: 0.1158 - val_loss: 0.0609 - val_mean_absolute_error: 0.2003\n",
            "Epoch 20/50\n",
            "42/42 [==============================] - 4s 92ms/step - loss: 0.0212 - mean_absolute_error: 0.1154 - val_loss: 0.0610 - val_mean_absolute_error: 0.2003\n",
            "Epoch 21/50\n",
            "42/42 [==============================] - 4s 91ms/step - loss: 0.0211 - mean_absolute_error: 0.1147 - val_loss: 0.0613 - val_mean_absolute_error: 0.2006\n",
            "Epoch 22/50\n",
            "42/42 [==============================] - 4s 92ms/step - loss: 0.0216 - mean_absolute_error: 0.1149 - val_loss: 0.0610 - val_mean_absolute_error: 0.2002\n",
            "Epoch 23/50\n",
            "42/42 [==============================] - 4s 99ms/step - loss: 0.0209 - mean_absolute_error: 0.1134 - val_loss: 0.0616 - val_mean_absolute_error: 0.2014\n",
            "Epoch 24/50\n",
            "42/42 [==============================] - 4s 97ms/step - loss: 0.0206 - mean_absolute_error: 0.1131 - val_loss: 0.0614 - val_mean_absolute_error: 0.2011\n",
            "Epoch 25/50\n",
            "42/42 [==============================] - 4s 95ms/step - loss: 0.0200 - mean_absolute_error: 0.1109 - val_loss: 0.0625 - val_mean_absolute_error: 0.2029\n",
            "Epoch 26/50\n",
            "42/42 [==============================] - 4s 91ms/step - loss: 0.0209 - mean_absolute_error: 0.1137 - val_loss: 0.0619 - val_mean_absolute_error: 0.2017\n",
            "Epoch 27/50\n",
            "42/42 [==============================] - 4s 91ms/step - loss: 0.0207 - mean_absolute_error: 0.1135 - val_loss: 0.0616 - val_mean_absolute_error: 0.2014\n",
            "Epoch 28/50\n",
            "42/42 [==============================] - 4s 91ms/step - loss: 0.0208 - mean_absolute_error: 0.1134 - val_loss: 0.0619 - val_mean_absolute_error: 0.2017\n",
            "Epoch 29/50\n",
            "42/42 [==============================] - 4s 91ms/step - loss: 0.0203 - mean_absolute_error: 0.1115 - val_loss: 0.0615 - val_mean_absolute_error: 0.2014\n",
            "Epoch 30/50\n",
            "42/42 [==============================] - 4s 91ms/step - loss: 0.0204 - mean_absolute_error: 0.1121 - val_loss: 0.0618 - val_mean_absolute_error: 0.2019\n",
            "Epoch 31/50\n",
            "42/42 [==============================] - 4s 92ms/step - loss: 0.0201 - mean_absolute_error: 0.1122 - val_loss: 0.0615 - val_mean_absolute_error: 0.2014\n",
            "Epoch 32/50\n",
            "42/42 [==============================] - 4s 91ms/step - loss: 0.0200 - mean_absolute_error: 0.1108 - val_loss: 0.0619 - val_mean_absolute_error: 0.2018\n",
            "Epoch 33/50\n",
            "42/42 [==============================] - 4s 91ms/step - loss: 0.0201 - mean_absolute_error: 0.1114 - val_loss: 0.0620 - val_mean_absolute_error: 0.2021\n",
            "Epoch 34/50\n",
            "42/42 [==============================] - 4s 91ms/step - loss: 0.0204 - mean_absolute_error: 0.1122 - val_loss: 0.0615 - val_mean_absolute_error: 0.2010\n",
            "Epoch 35/50\n",
            "42/42 [==============================] - 4s 91ms/step - loss: 0.0202 - mean_absolute_error: 0.1113 - val_loss: 0.0604 - val_mean_absolute_error: 0.1998\n",
            "Epoch 36/50\n",
            "42/42 [==============================] - 4s 92ms/step - loss: 0.0203 - mean_absolute_error: 0.1121 - val_loss: 0.0615 - val_mean_absolute_error: 0.2011\n",
            "Epoch 37/50\n",
            "42/42 [==============================] - 4s 93ms/step - loss: 0.0194 - mean_absolute_error: 0.1100 - val_loss: 0.0617 - val_mean_absolute_error: 0.2019\n",
            "Epoch 38/50\n",
            "42/42 [==============================] - 4s 92ms/step - loss: 0.0197 - mean_absolute_error: 0.1108 - val_loss: 0.0611 - val_mean_absolute_error: 0.2009\n",
            "Epoch 39/50\n",
            "42/42 [==============================] - 4s 93ms/step - loss: 0.0195 - mean_absolute_error: 0.1105 - val_loss: 0.0620 - val_mean_absolute_error: 0.2025\n",
            "Epoch 40/50\n",
            "42/42 [==============================] - 4s 93ms/step - loss: 0.0191 - mean_absolute_error: 0.1092 - val_loss: 0.0620 - val_mean_absolute_error: 0.2028\n",
            "Epoch 41/50\n",
            "42/42 [==============================] - 4s 92ms/step - loss: 0.0184 - mean_absolute_error: 0.1079 - val_loss: 0.0611 - val_mean_absolute_error: 0.2022\n",
            "Epoch 42/50\n",
            "42/42 [==============================] - 4s 92ms/step - loss: 0.0183 - mean_absolute_error: 0.1086 - val_loss: 0.0624 - val_mean_absolute_error: 0.2036\n",
            "Epoch 43/50\n",
            "42/42 [==============================] - 4s 92ms/step - loss: 0.0171 - mean_absolute_error: 0.1033 - val_loss: 0.0621 - val_mean_absolute_error: 0.2029\n",
            "Epoch 44/50\n",
            "42/42 [==============================] - 4s 91ms/step - loss: 0.0172 - mean_absolute_error: 0.1045 - val_loss: 0.0616 - val_mean_absolute_error: 0.2013\n",
            "Epoch 45/50\n",
            "42/42 [==============================] - 4s 91ms/step - loss: 0.0148 - mean_absolute_error: 0.0959 - val_loss: 0.0635 - val_mean_absolute_error: 0.2032\n",
            "Epoch 46/50\n",
            "42/42 [==============================] - 4s 91ms/step - loss: 0.0135 - mean_absolute_error: 0.0919 - val_loss: 0.0647 - val_mean_absolute_error: 0.2044\n",
            "Epoch 47/50\n",
            "42/42 [==============================] - 4s 91ms/step - loss: 0.0119 - mean_absolute_error: 0.0856 - val_loss: 0.0659 - val_mean_absolute_error: 0.2074\n",
            "Epoch 48/50\n",
            "42/42 [==============================] - 4s 92ms/step - loss: 0.0119 - mean_absolute_error: 0.0835 - val_loss: 0.0669 - val_mean_absolute_error: 0.2069\n",
            "Epoch 49/50\n",
            "42/42 [==============================] - 4s 93ms/step - loss: 0.0102 - mean_absolute_error: 0.0772 - val_loss: 0.0654 - val_mean_absolute_error: 0.2045\n",
            "Epoch 50/50\n",
            "42/42 [==============================] - 4s 92ms/step - loss: 0.0105 - mean_absolute_error: 0.0785 - val_loss: 0.0669 - val_mean_absolute_error: 0.2075\n"
          ],
          "name": "stdout"
        }
=======
     "data": {
      "text/plain": [
       "(1417,)"
>>>>>>> Stashed changes
      ]
     },
     "execution_count": 125,
     "metadata": {
      "tags": []
     },
     "output_type": "execute_result"
    }
   ],
   "source": [
    "y_train.shape"
   ]
  },
  {
   "cell_type": "code",
   "execution_count": 126,
   "metadata": {
    "colab": {
     "base_uri": "https://localhost:8080/",
     "height": 34
    },
    "id": "q7mhLr-1qfTx",
    "outputId": "b902c3ed-c56c-4840-9f70-653e1a44b735"
   },
   "outputs": [
    {
<<<<<<< Updated upstream
      "cell_type": "code",
      "metadata": {
        "id": "TKEHURS6raFv",
        "outputId": "da64ee53-c1c5-4fb8-c785-ae794e39cb16",
        "colab": {
          "base_uri": "https://localhost:8080/",
          "height": 34
        }
      },
      "source": [
        "model.evaluate_generator(test_generator, verbose=0)"
      ],
      "execution_count": null,
      "outputs": [
        {
          "output_type": "execute_result",
          "data": {
            "text/plain": [
              "[0.06685470044612885, 0.20746493339538574]"
            ]
          },
          "metadata": {
            "tags": []
          },
          "execution_count": 69
        }
=======
     "data": {
      "text/plain": [
       "(44,)"
>>>>>>> Stashed changes
      ]
     },
     "execution_count": 126,
     "metadata": {
      "tags": []
     },
     "output_type": "execute_result"
    }
   ],
   "source": [
    "y_test.shape"
   ]
  },
  {
   "cell_type": "code",
   "execution_count": 52,
   "metadata": {
    "id": "O_q4Vg6XqkBn"
   },
   "outputs": [],
   "source": [
    "win_length=30\n",
    "batch_size=32\n",
    "num_features = 4\n",
    "train_generator = TimeseriesGenerator(x_train,y_train,length=win_length,sampling_rate=1,batch_size=batch_size)\n",
    "test_generator = TimeseriesGenerator(x_test,y_test,length=win_length,sampling_rate=1,batch_size=batch_size)"
   ]
  },
  {
   "cell_type": "code",
   "execution_count": 53,
   "metadata": {
    "colab": {
     "base_uri": "https://localhost:8080/",
     "height": 969
    },
    "id": "TVc28erorZ9r",
    "outputId": "9e0a6ae1-482e-4d65-ef29-33aa9a961e1a"
   },
   "outputs": [
    {
<<<<<<< Updated upstream
      "cell_type": "code",
      "metadata": {
        "id": "vKLBLA8WraIL"
      },
      "source": [
        "predictions = model.predict_generator(test_generator)"
      ],
      "execution_count": null,
      "outputs": []
=======
     "data": {
      "text/plain": [
       "(array([[[0.33628427, 0.43733154, 0.64602109, 0.23160661],\n",
       "         [0.17336735, 0.56981132, 0.59079578, 0.44707207],\n",
       "         [0.14990453, 0.63598383, 0.53173538, 0.41028529],\n",
       "         ...,\n",
       "         [0.58562267, 0.57574124, 0.66021093, 0.3033033 ],\n",
       "         [0.45967326, 0.75687332, 0.36164909, 0.13588589],\n",
       "         [0.26831556, 0.58490566, 0.46596357, 0.25675676]],\n",
       " \n",
       "        [[0.17336735, 0.56981132, 0.59079578, 0.44707207],\n",
       "         [0.14990453, 0.63598383, 0.53173538, 0.41028529],\n",
       "         [0.30832918, 0.69393531, 0.51697028, 0.34647147],\n",
       "         ...,\n",
       "         [0.45967326, 0.75687332, 0.36164909, 0.13588589],\n",
       "         [0.26831556, 0.58490566, 0.46596357, 0.25675676],\n",
       "         [0.19314062, 0.69743935, 0.4358581 , 0.28415916]],\n",
       " \n",
       "        [[0.14990453, 0.63598383, 0.53173538, 0.41028529],\n",
       "         [0.30832918, 0.69393531, 0.51697028, 0.34647147],\n",
       "         [0.39115777, 0.6041779 , 0.54477469, 0.13250751],\n",
       "         ...,\n",
       "         [0.26831556, 0.58490566, 0.46596357, 0.25675676],\n",
       "         [0.19314062, 0.69743935, 0.4358581 , 0.28415916],\n",
       "         [0.4119953 , 0.61226415, 0.48552253, 0.19557057]],\n",
       " \n",
       "        ...,\n",
       " \n",
       "        [[0.26831556, 0.58490566, 0.46596357, 0.25675676],\n",
       "         [0.19314062, 0.69743935, 0.4358581 , 0.28415916],\n",
       "         [0.4119953 , 0.61226415, 0.48552253, 0.19557057],\n",
       "         ...,\n",
       "         [0.44727148, 0.49716981, 0.52253116, 0.3246997 ],\n",
       "         [0.30371506, 0.53814016, 0.57085331, 0.24887387],\n",
       "         [0.24686747, 0.57735849, 0.54995206, 0.30217718]],\n",
       " \n",
       "        [[0.19314062, 0.69743935, 0.4358581 , 0.28415916],\n",
       "         [0.4119953 , 0.61226415, 0.48552253, 0.19557057],\n",
       "         [0.58346666, 0.50363881, 0.63029722, 0.18168168],\n",
       "         ...,\n",
       "         [0.30371506, 0.53814016, 0.57085331, 0.24887387],\n",
       "         [0.24686747, 0.57735849, 0.54995206, 0.30217718],\n",
       "         [0.4809723 , 0.56091644, 0.56740173, 0.26351351]],\n",
       " \n",
       "        [[0.4119953 , 0.61226415, 0.48552253, 0.19557057],\n",
       "         [0.58346666, 0.50363881, 0.63029722, 0.18168168],\n",
       "         [0.44749272, 0.68328841, 0.51505273, 0.5228979 ],\n",
       "         ...,\n",
       "         [0.24686747, 0.57735849, 0.54995206, 0.30217718],\n",
       "         [0.4809723 , 0.56091644, 0.56740173, 0.26351351],\n",
       "         [0.6518933 , 0.27857143, 0.6991371 , 0.20495495]]]),\n",
       " array([0.19314062, 0.4119953 , 0.58346666, 0.44749272, 0.41557321,\n",
       "        0.4920757 , 0.46112671, 0.4694775 , 0.52783535, 0.55103378,\n",
       "        0.56289219, 0.54784198, 0.58175264, 0.42655632, 0.22995527,\n",
       "        0.42683472, 0.38147352, 0.41034871, 0.48770383, 0.45223237,\n",
       "        0.24841549, 0.27195528, 0.54215627, 0.85716053, 0.80339693,\n",
       "        0.63210242, 0.44727148, 0.30371506, 0.24686747, 0.4809723 ,\n",
       "        0.6518933 , 0.71704377]))"
      ]
     },
     "execution_count": 53,
     "metadata": {
      "tags": []
     },
     "output_type": "execute_result"
    }
   ],
   "source": [
    "train_generator[0]"
   ]
  },
  {
   "cell_type": "code",
   "execution_count": 54,
   "metadata": {
    "id": "Z0nwnWjOraAh"
   },
   "outputs": [],
   "source": [
    "model = tf.keras.Sequential()\n",
    "model.add(tf.keras.layers.LSTM(128, input_shape= (win_length,num_features), return_sequences=True))\n",
    "model.add(tf.keras.layers.LeakyReLU(alpha=0.5))\n",
    "model.add(tf.keras.layers.LSTM(128, return_sequences=True))\n",
    "model.add(tf.keras.layers.LeakyReLU(alpha=0.5))\n",
    "model.add(tf.keras.layers.Dropout(0.3))\n",
    "model.add(tf.keras.layers.LSTM(64, return_sequences=False))\n",
    "model.add(tf.keras.layers.Dropout(0.3))\n",
    "model.add(tf.keras.layers.Dense(1))\n"
   ]
  },
  {
   "cell_type": "code",
   "execution_count": 55,
   "metadata": {
    "colab": {
     "base_uri": "https://localhost:8080/",
     "height": 425
>>>>>>> Stashed changes
    },
    "id": "tkuCD88draDI",
    "outputId": "abb9ee1b-ddb5-4602-a07f-90fb5391c9a2"
   },
   "outputs": [
    {
<<<<<<< Updated upstream
      "cell_type": "code",
      "metadata": {
        "id": "afzKvwVVraKz",
        "outputId": "6cdd41a4-a10b-40be-f014-6920516e9397",
        "colab": {
          "base_uri": "https://localhost:8080/",
          "height": 34
        }
      },
      "source": [
        "predictions.shape[0]"
      ],
      "execution_count": null,
      "outputs": [
        {
          "output_type": "execute_result",
          "data": {
            "text/plain": [
              "320"
            ]
          },
          "metadata": {
            "tags": []
          },
          "execution_count": 71
        }
      ]
=======
     "name": "stdout",
     "output_type": "stream",
     "text": [
      "Model: \"sequential\"\n",
      "_________________________________________________________________\n",
      "Layer (type)                 Output Shape              Param #   \n",
      "=================================================================\n",
      "lstm (LSTM)                  (None, 30, 128)           68096     \n",
      "_________________________________________________________________\n",
      "leaky_re_lu (LeakyReLU)      (None, 30, 128)           0         \n",
      "_________________________________________________________________\n",
      "lstm_1 (LSTM)                (None, 30, 128)           131584    \n",
      "_________________________________________________________________\n",
      "leaky_re_lu_1 (LeakyReLU)    (None, 30, 128)           0         \n",
      "_________________________________________________________________\n",
      "dropout (Dropout)            (None, 30, 128)           0         \n",
      "_________________________________________________________________\n",
      "lstm_2 (LSTM)                (None, 64)                49408     \n",
      "_________________________________________________________________\n",
      "dropout_1 (Dropout)          (None, 64)                0         \n",
      "_________________________________________________________________\n",
      "dense (Dense)                (None, 1)                 65        \n",
      "=================================================================\n",
      "Total params: 249,153\n",
      "Trainable params: 249,153\n",
      "Non-trainable params: 0\n",
      "_________________________________________________________________\n"
     ]
    }
   ],
   "source": [
    "model.summary()"
   ]
  },
  {
   "cell_type": "code",
   "execution_count": 58,
   "metadata": {
    "colab": {
     "base_uri": "https://localhost:8080/",
     "height": 1000
>>>>>>> Stashed changes
    },
    "id": "mUr89h0GtG3s",
    "outputId": "a0d861b3-8979-4d0b-bb9a-4b03634298a8"
   },
   "outputs": [
    {
<<<<<<< Updated upstream
      "cell_type": "code",
      "metadata": {
        "id": "uL7d8XVQraNF",
        "outputId": "3f0a8b14-3253-415d-9b03-c4ac24a5ccf9",
        "colab": {
          "base_uri": "https://localhost:8080/",
          "height": 1000
        }
      },
      "source": [
        "predictions"
      ],
      "execution_count": null,
      "outputs": [
        {
          "output_type": "execute_result",
          "data": {
            "text/plain": [
              "array([[0.3879903 ],\n",
              "       [0.3755821 ],\n",
              "       [0.2902516 ],\n",
              "       [0.19243336],\n",
              "       [0.16867241],\n",
              "       [0.29321665],\n",
              "       [0.3499683 ],\n",
              "       [0.3385907 ],\n",
              "       [0.35739738],\n",
              "       [0.28230023],\n",
              "       [0.29690462],\n",
              "       [0.18081167],\n",
              "       [0.21132144],\n",
              "       [0.2839893 ],\n",
              "       [0.26151013],\n",
              "       [0.2536518 ],\n",
              "       [0.262083  ],\n",
              "       [0.24881119],\n",
              "       [0.23435283],\n",
              "       [0.26140374],\n",
              "       [0.30604157],\n",
              "       [0.30400932],\n",
              "       [0.3336677 ],\n",
              "       [0.30954581],\n",
              "       [0.2672992 ],\n",
              "       [0.20885809],\n",
              "       [0.22950308],\n",
              "       [0.3018499 ],\n",
              "       [0.30629075],\n",
              "       [0.3348408 ],\n",
              "       [0.32137248],\n",
              "       [0.19789925],\n",
              "       [0.16102114],\n",
              "       [0.23004547],\n",
              "       [0.33337504],\n",
              "       [0.26719588],\n",
              "       [0.2880615 ],\n",
              "       [0.26249507],\n",
              "       [0.23151585],\n",
              "       [0.15622337],\n",
              "       [0.19904651],\n",
              "       [0.30050576],\n",
              "       [0.30584824],\n",
              "       [0.30054808],\n",
              "       [0.24635191],\n",
              "       [0.20228493],\n",
              "       [0.19095507],\n",
              "       [0.25942218],\n",
              "       [0.41029203],\n",
              "       [0.27893466],\n",
              "       [0.2552593 ],\n",
              "       [0.20767862],\n",
              "       [0.20022371],\n",
              "       [0.21100199],\n",
              "       [0.2441669 ],\n",
              "       [0.32139215],\n",
              "       [0.3884623 ],\n",
              "       [0.5834428 ],\n",
              "       [0.24659248],\n",
              "       [0.73271406],\n",
              "       [0.14024921],\n",
              "       [0.24891832],\n",
              "       [0.28589815],\n",
              "       [0.27707434],\n",
              "       [0.2640947 ],\n",
              "       [0.1907031 ],\n",
              "       [0.25453836],\n",
              "       [0.2535749 ],\n",
              "       [0.3679511 ],\n",
              "       [0.4807188 ],\n",
              "       [0.16628449],\n",
              "       [0.28449753],\n",
              "       [0.21731564],\n",
              "       [0.23833206],\n",
              "       [0.3079778 ],\n",
              "       [0.39215267],\n",
              "       [0.6201741 ],\n",
              "       [0.5397935 ],\n",
              "       [0.18974356],\n",
              "       [0.2098411 ],\n",
              "       [0.29850116],\n",
              "       [0.32689694],\n",
              "       [0.33107936],\n",
              "       [0.38230163],\n",
              "       [0.29728293],\n",
              "       [0.18848585],\n",
              "       [0.2280904 ],\n",
              "       [0.4156111 ],\n",
              "       [0.3999771 ],\n",
              "       [0.3468277 ],\n",
              "       [0.4929064 ],\n",
              "       [0.35182637],\n",
              "       [0.17210907],\n",
              "       [0.27798074],\n",
              "       [0.43697304],\n",
              "       [0.35175848],\n",
              "       [0.2854907 ],\n",
              "       [0.28278714],\n",
              "       [0.23504332],\n",
              "       [0.22055997],\n",
              "       [0.3167765 ],\n",
              "       [0.41106057],\n",
              "       [0.37189728],\n",
              "       [0.24946079],\n",
              "       [0.23043211],\n",
              "       [0.24318963],\n",
              "       [0.2502504 ],\n",
              "       [0.27817756],\n",
              "       [0.29665458],\n",
              "       [0.3015541 ],\n",
              "       [0.33133495],\n",
              "       [0.2789569 ],\n",
              "       [0.19935594],\n",
              "       [0.19453754],\n",
              "       [0.2671826 ],\n",
              "       [0.30359817],\n",
              "       [0.3515308 ],\n",
              "       [0.35455918],\n",
              "       [0.2751459 ],\n",
              "       [0.16707255],\n",
              "       [0.13985911],\n",
              "       [0.28802288],\n",
              "       [0.3703919 ],\n",
              "       [0.3652314 ],\n",
              "       [0.36463183],\n",
              "       [0.32506245],\n",
              "       [0.16597518],\n",
              "       [0.19059144],\n",
              "       [0.25852183],\n",
              "       [0.35570902],\n",
              "       [0.3656894 ],\n",
              "       [0.33837008],\n",
              "       [0.27449155],\n",
              "       [0.23008126],\n",
              "       [0.1592162 ],\n",
              "       [0.23076613],\n",
              "       [0.32490346],\n",
              "       [0.32884157],\n",
              "       [0.31067985],\n",
              "       [0.28303462],\n",
              "       [0.17133194],\n",
              "       [0.18602529],\n",
              "       [0.31236714],\n",
              "       [0.41581213],\n",
              "       [0.41823226],\n",
              "       [0.3510887 ],\n",
              "       [0.3023895 ],\n",
              "       [0.22328053],\n",
              "       [0.2646324 ],\n",
              "       [0.36032146],\n",
              "       [0.35460702],\n",
              "       [0.34090358],\n",
              "       [0.27440166],\n",
              "       [0.23548353],\n",
              "       [0.22621262],\n",
              "       [0.3044529 ],\n",
              "       [0.34141016],\n",
              "       [0.35651296],\n",
              "       [0.35868794],\n",
              "       [0.35123163],\n",
              "       [0.28739852],\n",
              "       [0.24061294],\n",
              "       [0.23914424],\n",
              "       [0.31446475],\n",
              "       [0.3793146 ],\n",
              "       [0.36652946],\n",
              "       [0.3859052 ],\n",
              "       [0.32795638],\n",
              "       [0.31355512],\n",
              "       [0.3420424 ],\n",
              "       [0.44693232],\n",
              "       [0.5124034 ],\n",
              "       [0.4687026 ],\n",
              "       [0.40637624],\n",
              "       [0.318084  ],\n",
              "       [0.29840732],\n",
              "       [0.34898847],\n",
              "       [0.41134804],\n",
              "       [0.46191806],\n",
              "       [0.43831533],\n",
              "       [0.45739663],\n",
              "       [0.42647946],\n",
              "       [0.40284598],\n",
              "       [0.34512702],\n",
              "       [0.43784624],\n",
              "       [0.47043455],\n",
              "       [0.44818914],\n",
              "       [0.4333706 ],\n",
              "       [0.450615  ],\n",
              "       [0.4085341 ],\n",
              "       [0.35237825],\n",
              "       [0.43242013],\n",
              "       [0.529807  ],\n",
              "       [0.5213148 ],\n",
              "       [0.48832893],\n",
              "       [0.4594379 ],\n",
              "       [0.37141353],\n",
              "       [0.31383008],\n",
              "       [0.42519683],\n",
              "       [0.5267796 ],\n",
              "       [0.53709716],\n",
              "       [0.51226485],\n",
              "       [0.4697712 ],\n",
              "       [0.42612404],\n",
              "       [0.41180158],\n",
              "       [0.50619024],\n",
              "       [0.5447735 ],\n",
              "       [0.60260934],\n",
              "       [0.5690195 ],\n",
              "       [0.56920254],\n",
              "       [0.4171508 ],\n",
              "       [0.34990275],\n",
              "       [0.45597595],\n",
              "       [0.52132195],\n",
              "       [0.51449174],\n",
              "       [0.55579925],\n",
              "       [0.48514408],\n",
              "       [0.3400861 ],\n",
              "       [0.35423756],\n",
              "       [0.53445226],\n",
              "       [0.57319283],\n",
              "       [0.56003743],\n",
              "       [0.551328  ],\n",
              "       [0.45400298],\n",
              "       [0.4659521 ],\n",
              "       [0.44686532],\n",
              "       [0.5546702 ],\n",
              "       [0.61557364],\n",
              "       [0.5599712 ],\n",
              "       [0.4862457 ],\n",
              "       [0.49542612],\n",
              "       [0.5586739 ],\n",
              "       [0.46721417],\n",
              "       [0.51641226],\n",
              "       [0.59354436],\n",
              "       [0.5993102 ],\n",
              "       [0.58541155],\n",
              "       [0.50826544],\n",
              "       [0.48076946],\n",
              "       [0.50850594],\n",
              "       [0.50666577],\n",
              "       [0.55983174],\n",
              "       [0.5613563 ],\n",
              "       [0.56468093],\n",
              "       [0.5886753 ],\n",
              "       [0.5219912 ],\n",
              "       [0.43264455],\n",
              "       [0.48935074],\n",
              "       [0.59365386],\n",
              "       [0.6087969 ],\n",
              "       [0.5969013 ],\n",
              "       [0.59692216],\n",
              "       [0.45037794],\n",
              "       [0.4726432 ],\n",
              "       [0.543288  ],\n",
              "       [0.57590985],\n",
              "       [0.5748638 ],\n",
              "       [0.5608845 ],\n",
              "       [0.5415571 ],\n",
              "       [0.4722939 ],\n",
              "       [0.33846125],\n",
              "       [0.45952636],\n",
              "       [0.5365173 ],\n",
              "       [0.58237827],\n",
              "       [0.5752729 ],\n",
              "       [0.5449656 ],\n",
              "       [0.48007053],\n",
              "       [0.40810984],\n",
              "       [0.51880354],\n",
              "       [0.5665938 ],\n",
              "       [0.55999374],\n",
              "       [0.5296784 ],\n",
              "       [0.45703346],\n",
              "       [0.40740556],\n",
              "       [0.37364304],\n",
              "       [0.46005845],\n",
              "       [0.51054716],\n",
              "       [0.4860195 ],\n",
              "       [0.5213153 ],\n",
              "       [0.4451846 ],\n",
              "       [0.40044242],\n",
              "       [0.45199883],\n",
              "       [0.50410044],\n",
              "       [0.5922112 ],\n",
              "       [0.59587216],\n",
              "       [0.5385534 ],\n",
              "       [0.4146453 ],\n",
              "       [0.41057158],\n",
              "       [0.3643654 ],\n",
              "       [0.42012   ],\n",
              "       [0.48799312],\n",
              "       [0.46733987],\n",
              "       [0.40379763],\n",
              "       [0.323211  ],\n",
              "       [0.3350653 ],\n",
              "       [0.34468347],\n",
              "       [0.3584119 ],\n",
              "       [0.35079336],\n",
              "       [0.3718028 ],\n",
              "       [0.3688072 ],\n",
              "       [0.31703764],\n",
              "       [0.23884466],\n",
              "       [0.28777522],\n",
              "       [0.30113143],\n",
              "       [0.35776648],\n",
              "       [0.38012645],\n",
              "       [0.3457306 ],\n",
              "       [0.34588063],\n",
              "       [0.28679922],\n",
              "       [0.18792525],\n",
              "       [0.22736874],\n",
              "       [0.3131423 ],\n",
              "       [0.32597628],\n",
              "       [0.3584875 ],\n",
              "       [0.3642844 ],\n",
              "       [0.34335142],\n",
              "       [0.25812158],\n",
              "       [0.34591347],\n",
              "       [0.4492268 ],\n",
              "       [0.4272241 ]], dtype=float32)"
            ]
          },
          "metadata": {
            "tags": []
          },
          "execution_count": 72
        }
      ]
=======
     "name": "stdout",
     "output_type": "stream",
     "text": [
      "WARNING:tensorflow:From <ipython-input-58-68d8066c8c4f>:9: Model.fit_generator (from tensorflow.python.keras.engine.training) is deprecated and will be removed in a future version.\n",
      "Instructions for updating:\n",
      "Please use Model.fit, which supports generators.\n",
      "Epoch 1/50\n",
      "36/36 [==============================] - 5s 133ms/step - loss: 0.0546 - mean_absolute_error: 0.1825 - val_loss: 0.0180 - val_mean_absolute_error: 0.1086\n",
      "Epoch 2/50\n",
      "36/36 [==============================] - 3s 95ms/step - loss: 0.0307 - mean_absolute_error: 0.1399 - val_loss: 0.0192 - val_mean_absolute_error: 0.1117\n",
      "Epoch 3/50\n",
      "36/36 [==============================] - 3s 95ms/step - loss: 0.0284 - mean_absolute_error: 0.1323 - val_loss: 0.0185 - val_mean_absolute_error: 0.1088\n",
      "Epoch 4/50\n",
      "36/36 [==============================] - 4s 102ms/step - loss: 0.0292 - mean_absolute_error: 0.1361 - val_loss: 0.0186 - val_mean_absolute_error: 0.1091\n",
      "Epoch 5/50\n",
      "36/36 [==============================] - 4s 100ms/step - loss: 0.0265 - mean_absolute_error: 0.1286 - val_loss: 0.0180 - val_mean_absolute_error: 0.1067\n",
      "Epoch 6/50\n",
      "36/36 [==============================] - 4s 104ms/step - loss: 0.0272 - mean_absolute_error: 0.1303 - val_loss: 0.0172 - val_mean_absolute_error: 0.1044\n",
      "Epoch 7/50\n",
      "36/36 [==============================] - 4s 105ms/step - loss: 0.0257 - mean_absolute_error: 0.1249 - val_loss: 0.0179 - val_mean_absolute_error: 0.1068\n",
      "Epoch 8/50\n",
      "36/36 [==============================] - 4s 102ms/step - loss: 0.0261 - mean_absolute_error: 0.1280 - val_loss: 0.0169 - val_mean_absolute_error: 0.1033\n",
      "Epoch 9/50\n",
      "36/36 [==============================] - 3s 96ms/step - loss: 0.0252 - mean_absolute_error: 0.1244 - val_loss: 0.0188 - val_mean_absolute_error: 0.1101\n",
      "Epoch 10/50\n",
      "36/36 [==============================] - 3s 96ms/step - loss: 0.0265 - mean_absolute_error: 0.1287 - val_loss: 0.0169 - val_mean_absolute_error: 0.1037\n",
      "Epoch 11/50\n",
      "36/36 [==============================] - 3s 96ms/step - loss: 0.0244 - mean_absolute_error: 0.1227 - val_loss: 0.0163 - val_mean_absolute_error: 0.1007\n",
      "Epoch 12/50\n",
      "36/36 [==============================] - 3s 96ms/step - loss: 0.0243 - mean_absolute_error: 0.1217 - val_loss: 0.0173 - val_mean_absolute_error: 0.1053\n",
      "Epoch 13/50\n",
      "36/36 [==============================] - 3s 96ms/step - loss: 0.0246 - mean_absolute_error: 0.1232 - val_loss: 0.0168 - val_mean_absolute_error: 0.1031\n",
      "Epoch 14/50\n",
      "36/36 [==============================] - 4s 97ms/step - loss: 0.0246 - mean_absolute_error: 0.1243 - val_loss: 0.0169 - val_mean_absolute_error: 0.1036\n",
      "Epoch 15/50\n",
      "36/36 [==============================] - 3s 96ms/step - loss: 0.0241 - mean_absolute_error: 0.1220 - val_loss: 0.0166 - val_mean_absolute_error: 0.1023\n",
      "Epoch 16/50\n",
      "36/36 [==============================] - 3s 96ms/step - loss: 0.0238 - mean_absolute_error: 0.1215 - val_loss: 0.0171 - val_mean_absolute_error: 0.1047\n",
      "Epoch 17/50\n",
      "36/36 [==============================] - 3s 96ms/step - loss: 0.0238 - mean_absolute_error: 0.1222 - val_loss: 0.0167 - val_mean_absolute_error: 0.1027\n",
      "Epoch 18/50\n",
      "36/36 [==============================] - 3s 94ms/step - loss: 0.0237 - mean_absolute_error: 0.1213 - val_loss: 0.0177 - val_mean_absolute_error: 0.1069\n",
      "Epoch 19/50\n",
      "36/36 [==============================] - 3s 95ms/step - loss: 0.0245 - mean_absolute_error: 0.1238 - val_loss: 0.0166 - val_mean_absolute_error: 0.1024\n",
      "Epoch 20/50\n",
      "36/36 [==============================] - 3s 97ms/step - loss: 0.0227 - mean_absolute_error: 0.1176 - val_loss: 0.0167 - val_mean_absolute_error: 0.1030\n",
      "Epoch 21/50\n",
      "36/36 [==============================] - 4s 98ms/step - loss: 0.0238 - mean_absolute_error: 0.1210 - val_loss: 0.0172 - val_mean_absolute_error: 0.1049\n",
      "Epoch 22/50\n",
      "36/36 [==============================] - 3s 96ms/step - loss: 0.0236 - mean_absolute_error: 0.1215 - val_loss: 0.0160 - val_mean_absolute_error: 0.0992\n",
      "Epoch 23/50\n",
      "36/36 [==============================] - 3s 96ms/step - loss: 0.0219 - mean_absolute_error: 0.1164 - val_loss: 0.0161 - val_mean_absolute_error: 0.0997\n",
      "Epoch 24/50\n",
      "36/36 [==============================] - 3s 95ms/step - loss: 0.0228 - mean_absolute_error: 0.1182 - val_loss: 0.0169 - val_mean_absolute_error: 0.1039\n",
      "Epoch 25/50\n",
      "36/36 [==============================] - 4s 98ms/step - loss: 0.0233 - mean_absolute_error: 0.1202 - val_loss: 0.0174 - val_mean_absolute_error: 0.1061\n",
      "Epoch 26/50\n",
      "36/36 [==============================] - 3s 95ms/step - loss: 0.0237 - mean_absolute_error: 0.1217 - val_loss: 0.0160 - val_mean_absolute_error: 0.0990\n",
      "Epoch 27/50\n",
      "36/36 [==============================] - 3s 96ms/step - loss: 0.0221 - mean_absolute_error: 0.1156 - val_loss: 0.0166 - val_mean_absolute_error: 0.1021\n",
      "Epoch 28/50\n",
      "36/36 [==============================] - 3s 96ms/step - loss: 0.0226 - mean_absolute_error: 0.1175 - val_loss: 0.0169 - val_mean_absolute_error: 0.1039\n",
      "Epoch 29/50\n",
      "36/36 [==============================] - 3s 96ms/step - loss: 0.0232 - mean_absolute_error: 0.1201 - val_loss: 0.0166 - val_mean_absolute_error: 0.1018\n",
      "Epoch 30/50\n",
      "36/36 [==============================] - 3s 96ms/step - loss: 0.0226 - mean_absolute_error: 0.1182 - val_loss: 0.0170 - val_mean_absolute_error: 0.1037\n",
      "Epoch 31/50\n",
      "36/36 [==============================] - 3s 97ms/step - loss: 0.0232 - mean_absolute_error: 0.1195 - val_loss: 0.0165 - val_mean_absolute_error: 0.1012\n",
      "Epoch 32/50\n",
      "36/36 [==============================] - 3s 96ms/step - loss: 0.0228 - mean_absolute_error: 0.1185 - val_loss: 0.0167 - val_mean_absolute_error: 0.1023\n",
      "Epoch 33/50\n",
      "36/36 [==============================] - 3s 96ms/step - loss: 0.0223 - mean_absolute_error: 0.1169 - val_loss: 0.0166 - val_mean_absolute_error: 0.1018\n",
      "Epoch 34/50\n",
      "36/36 [==============================] - 3s 96ms/step - loss: 0.0219 - mean_absolute_error: 0.1165 - val_loss: 0.0163 - val_mean_absolute_error: 0.1002\n",
      "Epoch 35/50\n",
      "36/36 [==============================] - 4s 99ms/step - loss: 0.0217 - mean_absolute_error: 0.1154 - val_loss: 0.0166 - val_mean_absolute_error: 0.1019\n",
      "Epoch 36/50\n",
      "36/36 [==============================] - 3s 95ms/step - loss: 0.0219 - mean_absolute_error: 0.1167 - val_loss: 0.0163 - val_mean_absolute_error: 0.0999\n",
      "Epoch 37/50\n",
      "36/36 [==============================] - 3s 96ms/step - loss: 0.0215 - mean_absolute_error: 0.1158 - val_loss: 0.0164 - val_mean_absolute_error: 0.1002\n",
      "Epoch 38/50\n",
      "36/36 [==============================] - 3s 96ms/step - loss: 0.0217 - mean_absolute_error: 0.1147 - val_loss: 0.0166 - val_mean_absolute_error: 0.1021\n",
      "Epoch 39/50\n",
      "36/36 [==============================] - 4s 97ms/step - loss: 0.0226 - mean_absolute_error: 0.1187 - val_loss: 0.0177 - val_mean_absolute_error: 0.1071\n",
      "Epoch 40/50\n",
      "36/36 [==============================] - 3s 96ms/step - loss: 0.0237 - mean_absolute_error: 0.1209 - val_loss: 0.0164 - val_mean_absolute_error: 0.1007\n",
      "Epoch 41/50\n",
      "36/36 [==============================] - 3s 96ms/step - loss: 0.0217 - mean_absolute_error: 0.1151 - val_loss: 0.0170 - val_mean_absolute_error: 0.1032\n",
      "Epoch 42/50\n",
      "36/36 [==============================] - 3s 96ms/step - loss: 0.0219 - mean_absolute_error: 0.1176 - val_loss: 0.0164 - val_mean_absolute_error: 0.1007\n",
      "Epoch 43/50\n",
      "36/36 [==============================] - 3s 96ms/step - loss: 0.0214 - mean_absolute_error: 0.1156 - val_loss: 0.0167 - val_mean_absolute_error: 0.1017\n",
      "Epoch 44/50\n",
      "36/36 [==============================] - 3s 96ms/step - loss: 0.0214 - mean_absolute_error: 0.1148 - val_loss: 0.0165 - val_mean_absolute_error: 0.1006\n",
      "Epoch 45/50\n",
      "36/36 [==============================] - 4s 97ms/step - loss: 0.0211 - mean_absolute_error: 0.1141 - val_loss: 0.0170 - val_mean_absolute_error: 0.1037\n",
      "Epoch 46/50\n",
      "36/36 [==============================] - 3s 97ms/step - loss: 0.0225 - mean_absolute_error: 0.1183 - val_loss: 0.0186 - val_mean_absolute_error: 0.1104\n",
      "Epoch 47/50\n",
      "36/36 [==============================] - 3s 97ms/step - loss: 0.0235 - mean_absolute_error: 0.1214 - val_loss: 0.0163 - val_mean_absolute_error: 0.1001\n",
      "Epoch 48/50\n",
      "36/36 [==============================] - 3s 96ms/step - loss: 0.0211 - mean_absolute_error: 0.1136 - val_loss: 0.0170 - val_mean_absolute_error: 0.1040\n",
      "Epoch 49/50\n",
      "36/36 [==============================] - 3s 96ms/step - loss: 0.0214 - mean_absolute_error: 0.1157 - val_loss: 0.0171 - val_mean_absolute_error: 0.1041\n",
      "Epoch 50/50\n",
      "36/36 [==============================] - 3s 96ms/step - loss: 0.0212 - mean_absolute_error: 0.1143 - val_loss: 0.0167 - val_mean_absolute_error: 0.1033\n"
     ]
    }
   ],
   "source": [
    "# early_stopping = tf.keras.callbacks.EarlyStopping(monitor='val_loss',\n",
    "#                                                   patience=2,\n",
    "#                                                   mode='min')\n",
    "\n",
    "model.compile(loss=tf.losses.MeanSquaredError(),\n",
    "              optimizer = tf.optimizers.Adam(),\n",
    "              metrics=[tf.metrics.MeanAbsoluteError()])\n",
    "\n",
    "history = model.fit_generator(train_generator, epochs=50, validation_data=test_generator, shuffle=False)#])#, callbacks=[early_stopping])"
   ]
  },
  {
   "cell_type": "code",
   "execution_count": 59,
   "metadata": {
    "colab": {
     "base_uri": "https://localhost:8080/",
     "height": 105
>>>>>>> Stashed changes
    },
    "id": "TKEHURS6raFv",
    "outputId": "d9da2015-6b20-4b90-fdc2-e2f24a57f012"
   },
   "outputs": [
    {
<<<<<<< Updated upstream
      "cell_type": "code",
      "metadata": {
        "id": "R2T_Wak8u45F",
        "outputId": "7b217e9a-f514-4c9a-a0b4-d5ac2dc4220a",
        "colab": {
          "base_uri": "https://localhost:8080/",
          "height": 136
        }
      },
      "source": [
        "y_test"
      ],
      "execution_count": null,
      "outputs": [
        {
          "output_type": "execute_result",
          "data": {
            "text/plain": [
              "array([[0.42974217, 0.7361186 , 0.18512144, 0.3506006 ],\n",
              "       [0.47561021, 0.72991914, 0.18569516, 0.30405405],\n",
              "       [0.45826087, 0.72425876, 0.23388793, 0.16103604],\n",
              "       ...,\n",
              "       [0.3454529 , 0.70619946, 0.15720023, 0.19481982],\n",
              "       [0.31536061, 0.67008086, 0.2314018 , 0.35247748],\n",
              "       [0.33340362, 0.8245283 , 0.30981067, 0.5762012 ]])"
            ]
          },
          "metadata": {
            "tags": []
          },
          "execution_count": 73
        }
      ]
    },
    {
      "cell_type": "code",
      "metadata": {
        "id": "5seUrgRNu7T9",
        "outputId": "4cd04231-7383-4a83-b02c-3e2a236c1091",
        "colab": {
          "base_uri": "https://localhost:8080/",
          "height": 1000
        }
      },
      "source": [
        "x_test[:,1:][win_length:]"
      ],
      "execution_count": null,
      "outputs": [
        {
          "output_type": "execute_result",
          "data": {
            "text/plain": [
              "array([[0.24797844, 0.54580226, 0.13325826],\n",
              "       [0.13638814, 0.65155862, 0.53303303],\n",
              "       [0.30795148, 0.44846051, 0.72785285],\n",
              "       [0.58598383, 0.22241346, 0.70683183],\n",
              "       [0.65188679, 0.26678141, 0.3734985 ],\n",
              "       [0.41522911, 0.38248231, 0.09421922],\n",
              "       [0.16913747, 0.53012048, 0.27252252],\n",
              "       [0.24892183, 0.60585198, 0.25075075],\n",
              "       [0.17196765, 0.70414993, 0.61786787],\n",
              "       [0.24326146, 0.72231784, 0.71734234],\n",
              "       [0.71091644, 0.51424747, 0.3765015 ],\n",
              "       [0.60849057, 0.4540065 , 0.31043544],\n",
              "       [0.71752022, 0.24268503, 0.27552553],\n",
              "       [0.45390836, 0.30828074, 0.31493994],\n",
              "       [0.4171159 , 0.40084146, 0.71734234],\n",
              "       [0.61037736, 0.32243259, 0.77402402],\n",
              "       [0.72318059, 0.15796519, 0.55142643],\n",
              "       [0.67156334, 0.20462804, 0.6524024 ],\n",
              "       [0.67978437, 0.3438516 , 0.30555556],\n",
              "       [0.25660377, 0.46509849, 0.58821321],\n",
              "       [0.42277628, 0.32071142, 0.73460961],\n",
              "       [0.61644205, 0.26142666, 0.53190691],\n",
              "       [0.58274933, 0.41920061, 0.39902402],\n",
              "       [0.57331536, 0.32874355, 0.48385886],\n",
              "       [0.49245283, 0.28609677, 0.34797297],\n",
              "       [0.53962264, 0.30828074, 0.18656156],\n",
              "       [0.34501348, 0.47045324, 0.16704204],\n",
              "       [0.61361186, 0.40619621, 0.21584084],\n",
              "       [0.22560647, 0.60126219, 0.39602102],\n",
              "       [0.17978437, 0.76840696, 0.85998498],\n",
              "       [0.44299191, 0.41843565, 0.26951952],\n",
              "       [0.46698113, 0.43067508, 0.21133634],\n",
              "       [0.34487871, 0.44693058, 0.10848348],\n",
              "       [0.26765499, 0.53222413, 0.31006006],\n",
              "       [0.59838275, 0.28131574, 0.5548048 ],\n",
              "       [0.29851752, 0.40409256, 0.2515015 ],\n",
              "       [0.44986523, 0.45362402, 0.18843844],\n",
              "       [0.5083558 , 0.48728246, 0.20457958],\n",
              "       [0.5222372 , 0.31975521, 0.24324324],\n",
              "       [0.71859838, 0.25645439, 0.46621622],\n",
              "       [0.58126685, 0.23159304, 0.65990991],\n",
              "       [0.55552561, 0.33945305, 0.76989489],\n",
              "       [0.49339623, 0.410786  , 0.39864865],\n",
              "       [0.51994609, 0.42971888, 0.46171171],\n",
              "       [0.47681941, 0.38783706, 0.50037538],\n",
              "       [0.49083558, 0.39261809, 0.33295796],\n",
              "       [0.37533693, 0.53203289, 0.11261261],\n",
              "       [0.23247978, 0.77318799, 0.47447447],\n",
              "       [0.55727763, 0.38248231, 0.41816817],\n",
              "       [0.55377358, 0.4042838 , 0.39602102],\n",
              "       [0.53396226, 0.40313635, 0.40878378],\n",
              "       [0.55256065, 0.38898451, 0.34534535],\n",
              "       [0.59716981, 0.45917001, 0.22747748],\n",
              "       [0.49460916, 0.47867661, 0.19106607],\n",
              "       [0.5171159 , 0.49837445, 0.20007508],\n",
              "       [0.30539084, 0.60087971, 0.12837838],\n",
              "       [0.09150943, 0.84088736, 0.25675676],\n",
              "       [0.32574124, 0.6022184 , 0.20345345],\n",
              "       [0.        , 0.88716772, 0.39864865],\n",
              "       [0.44838275, 0.48154523, 0.40653153],\n",
              "       [0.4148248 , 0.41212469, 0.37012012],\n",
              "       [0.48140162, 0.45821381, 0.253003  ],\n",
              "       [0.43153639, 0.51367374, 0.33108108],\n",
              "       [0.38638814, 0.63778925, 0.20045045],\n",
              "       [0.51671159, 0.51004016, 0.29204204],\n",
              "       [0.29622642, 0.63625932, 0.14564565],\n",
              "       [0.17156334, 0.79957927, 0.36036036],\n",
              "       [0.25862534, 0.87607573, 0.16291291],\n",
              "       [0.1361186 , 0.96901893, 0.63438438],\n",
              "       [0.38045822, 0.49015108, 0.3536036 ],\n",
              "       [0.48247978, 0.58290304, 0.18130631],\n",
              "       [0.62331536, 0.58997896, 0.17304805],\n",
              "       [0.57385445, 0.54580226, 0.23048048],\n",
              "       [0.51522911, 0.57735705, 0.20157658],\n",
              "       [0.42439353, 0.64084911, 0.15015015],\n",
              "       [0.11576819, 0.84930197, 0.25112613],\n",
              "       [0.25849057, 0.97800727, 0.41403904],\n",
              "       [0.82237197, 0.63530312, 0.29917417],\n",
              "       [0.49946092, 0.52610442, 0.4009009 ],\n",
              "       [0.50579515, 0.36163702, 0.56006006],\n",
              "       [0.47439353, 0.37445018, 0.37912913],\n",
              "       [0.58854447, 0.40715242, 0.32882883],\n",
              "       [0.66266846, 0.56569134, 0.15015015],\n",
              "       [0.74797844, 0.59801109, 0.16066066],\n",
              "       [0.5819407 , 0.67049149, 0.51539039],\n",
              "       [0.56469003, 0.63339071, 0.45983483],\n",
              "       [0.7287062 , 0.65060241, 0.23911411],\n",
              "       [0.7180593 , 0.66035571, 0.16891892],\n",
              "       [0.72425876, 0.64907248, 0.41328829],\n",
              "       [0.61846361, 0.70109007, 0.20795796],\n",
              "       [0.65080863, 0.77777778, 0.21996997],\n",
              "       [0.83787062, 0.49856569, 0.44632132],\n",
              "       [0.68867925, 0.57047237, 0.31043544],\n",
              "       [0.62075472, 0.61809141, 0.18430931],\n",
              "       [0.77493261, 0.5264869 , 0.27965465],\n",
              "       [0.76347709, 0.39797284, 0.65878378],\n",
              "       [0.67587601, 0.37865749, 0.43843844],\n",
              "       [0.65592992, 0.39147064, 0.45307808],\n",
              "       [0.63180593, 0.42532033, 0.28115616],\n",
              "       [0.5796496 , 0.62746223, 0.31456456],\n",
              "       [0.65619946, 0.65041117, 0.19256757],\n",
              "       [0.6416442 , 0.64754255, 0.32432432],\n",
              "       [0.6296496 , 0.34213043, 0.49211712],\n",
              "       [0.57533693, 0.34633773, 0.40878378],\n",
              "       [0.69501348, 0.43220501, 0.29391892],\n",
              "       [0.68719677, 0.49282846, 0.16741742],\n",
              "       [0.51994609, 0.61560528, 0.36636637],\n",
              "       [0.643531  , 0.35283993, 0.45983483],\n",
              "       [0.62196765, 0.38535093, 0.38325826],\n",
              "       [0.76293801, 0.51615988, 0.16929429],\n",
              "       [0.92250674, 0.48689998, 0.14001502],\n",
              "       [0.79474394, 0.41059476, 0.44707207],\n",
              "       [0.79083558, 0.41021228, 0.39714715],\n",
              "       [0.77924528, 0.40944731, 0.39001502],\n",
              "       [0.72196765, 0.35341365, 0.37612613],\n",
              "       [0.73315364, 0.42073054, 0.14039039],\n",
              "       [0.64204852, 0.55421687, 0.30367868],\n",
              "       [0.57884097, 0.59055269, 0.46659159],\n",
              "       [0.63921833, 0.49569707, 0.69932432],\n",
              "       [0.57749326, 0.30445592, 0.54917417],\n",
              "       [0.74784367, 0.34213043, 0.36749249],\n",
              "       [0.61967655, 0.44272327, 0.19932432],\n",
              "       [0.58207547, 0.51845477, 0.46133634],\n",
              "       [0.55148248, 0.63664181, 0.44369369],\n",
              "       [0.54339623, 0.70701855, 0.41028529],\n",
              "       [0.68557951, 0.45152037, 0.50112613],\n",
              "       [0.63854447, 0.38076114, 0.21358859],\n",
              "       [0.70539084, 0.34614649, 0.2774024 ],\n",
              "       [0.64743935, 0.31497418, 0.40990991],\n",
              "       [0.68207547, 0.31860776, 0.26801802],\n",
              "       [0.6925876 , 0.32568369, 0.42905405],\n",
              "       [0.71590296, 0.40141518, 0.25037538],\n",
              "       [0.62951482, 0.48938612, 0.16178679],\n",
              "       [0.53369272, 0.57410595, 0.47635135],\n",
              "       [0.7222372 , 0.52820807, 0.53190691],\n",
              "       [0.69137466, 0.40543125, 0.17267267],\n",
              "       [0.68463612, 0.41021228, 0.13100601],\n",
              "       [0.65700809, 0.44119334, 0.15352853],\n",
              "       [0.88962264, 0.43411742, 0.23723724],\n",
              "       [0.7796496 , 0.45878753, 0.39039039],\n",
              "       [0.81846361, 0.23006311, 0.56869369],\n",
              "       [0.89097035, 0.24039013, 0.65840841],\n",
              "       [0.75566038, 0.25071715, 0.25187688],\n",
              "       [0.75350404, 0.26027921, 0.2256006 ],\n",
              "       [0.87358491, 0.31593039, 0.34534535],\n",
              "       [0.82277628, 0.3545611 , 0.18543544],\n",
              "       [0.83342318, 0.38305603, 0.40915916],\n",
              "       [0.74070081, 0.26238286, 0.81306306],\n",
              "       [0.77520216, 0.25702811, 0.32845345],\n",
              "       [0.74730458, 0.3178428 , 0.18205706],\n",
              "       [0.66118598, 0.40084146, 0.40127628],\n",
              "       [0.62668464, 0.42991012, 0.63851351],\n",
              "       [0.7467655 , 0.32644865, 0.38438438],\n",
              "       [0.77708895, 0.26257411, 0.52515015],\n",
              "       [0.82884097, 0.25549818, 0.28978979],\n",
              "       [0.73045822, 0.26639893, 0.25900901],\n",
              "       [0.7097035 , 0.33065596, 0.54954955],\n",
              "       [0.67318059, 0.29240773, 0.2972973 ],\n",
              "       [0.76846361, 0.30847198, 0.19144144],\n",
              "       [0.80849057, 0.26123542, 0.40765766],\n",
              "       [0.743531  , 0.36641805, 0.37612613],\n",
              "       [0.73126685, 0.34844138, 0.45795796],\n",
              "       [0.80404313, 0.26831134, 0.38551051],\n",
              "       [0.69460916, 0.22336967, 0.1996997 ],\n",
              "       [0.74420485, 0.23484414, 0.48348348],\n",
              "       [0.8958221 , 0.34461656, 0.33183183],\n",
              "       [0.8351752 , 0.1686747 , 0.46021021],\n",
              "       [0.87345013, 0.12717537, 0.84947447],\n",
              "       [0.81401617, 0.18225282, 0.75      ],\n",
              "       [0.78544474, 0.205393  , 0.48648649],\n",
              "       [0.9138814 , 0.22432587, 0.18993994],\n",
              "       [0.81684636, 0.28361063, 0.23310811],\n",
              "       [0.77803235, 0.25932301, 0.5518018 ],\n",
              "       [0.69177898, 0.36603557, 0.71996997],\n",
              "       [0.79487871, 0.3080895 , 0.45307808],\n",
              "       [0.83477089, 0.14629948, 0.50225225],\n",
              "       [0.84245283, 0.11397973, 0.44406907],\n",
              "       [0.83032345, 0.21973609, 0.34947447],\n",
              "       [0.75916442, 0.20271562, 0.56944444],\n",
              "       [0.81778976, 0.16829222, 0.30105105],\n",
              "       [0.72628032, 0.14974182, 0.15165165],\n",
              "       [0.74716981, 0.19162364, 0.0762012 ],\n",
              "       [0.8032345 , 0.17116083, 0.26651652],\n",
              "       [0.76630728, 0.20328935, 0.09872372],\n",
              "       [0.86495957, 0.21591126, 0.30855856],\n",
              "       [0.87250674, 0.24880474, 0.5701952 ],\n",
              "       [0.76778976, 0.22279595, 0.5274024 ],\n",
              "       [0.83274933, 0.15433161, 0.30855856],\n",
              "       [0.82938005, 0.15261044, 0.27927928],\n",
              "       [0.96253369, 0.15777395, 0.37387387],\n",
              "       [0.87102426, 0.14993307, 0.45157658],\n",
              "       [0.8884097 , 0.17861924, 0.31118619],\n",
              "       [0.85808625, 0.1946835 , 0.25112613],\n",
              "       [0.86549865, 0.23924269, 0.44632132],\n",
              "       [0.87614555, 0.23656531, 0.28490991],\n",
              "       [0.85485175, 0.22298719, 0.38588589],\n",
              "       [0.75202156, 0.20807038, 0.76201201],\n",
              "       [0.75309973, 0.23484414, 0.61373874],\n",
              "       [0.83557951, 0.13138267, 0.63100601],\n",
              "       [0.92439353, 0.16446739, 0.51051051],\n",
              "       [0.75714286, 0.1589214 , 0.47972973],\n",
              "       [0.75      , 0.1696309 , 0.13100601],\n",
              "       [0.8032345 , 0.13272136, 0.14827327],\n",
              "       [0.87439353, 0.11971696, 0.2027027 ],\n",
              "       [0.86320755, 0.09638554, 0.2759009 ],\n",
              "       [0.78072776, 0.1394148 , 0.10698198],\n",
              "       [0.79622642, 0.10843373, 0.16516517],\n",
              "       [0.85444744, 0.16274622, 0.22597598],\n",
              "       [0.75336927, 0.17460317, 0.12237237],\n",
              "       [0.78706199, 0.16026009, 0.25      ],\n",
              "       [0.86913747, 0.18837254, 0.64189189],\n",
              "       [0.81280323, 0.20921782, 0.68693694],\n",
              "       [0.86266846, 0.30369095, 0.62274775],\n",
              "       [0.84339623, 0.24918723, 0.51576577],\n",
              "       [0.75997305, 0.15222796, 0.12875375],\n",
              "       [0.91630728, 0.13329509, 0.31006006],\n",
              "       [0.88369272, 0.2346529 , 0.61111111],\n",
              "       [0.87318059, 0.21782368, 0.37687688],\n",
              "       [0.9361186 , 0.13578122, 0.10322823],\n",
              "       [0.93126685, 0.1524192 , 0.39226727],\n",
              "       [0.94824798, 0.20348059, 0.29091592],\n",
              "       [0.91778976, 0.24593613, 0.15015015],\n",
              "       [0.89541779, 0.17307325, 0.4039039 ],\n",
              "       [0.8074124 , 0.11130235, 0.21358859],\n",
              "       [0.80849057, 0.13061771, 0.04316817],\n",
              "       [0.83450135, 0.11187608, 0.02214715],\n",
              "       [0.8351752 , 0.10021037, 0.16779279],\n",
              "       [0.88557951, 0.10766877, 0.51839339],\n",
              "       [0.76725067, 0.18359151, 0.66366366],\n",
              "       [0.7809973 , 0.15509658, 0.62725225],\n",
              "       [0.93679245, 0.07401033, 0.42867868],\n",
              "       [0.94663073, 0.12947026, 0.44894895],\n",
              "       [0.92628032, 0.18014917, 0.371997  ],\n",
              "       [0.94568733, 0.1696309 , 0.28753754],\n",
              "       [0.95121294, 0.16236374, 0.1798048 ],\n",
              "       [0.89959569, 0.15146299, 0.1295045 ],\n",
              "       [0.85714286, 0.14744693, 0.33483483],\n",
              "       [0.95687332, 0.17823676, 0.30593093],\n",
              "       [0.94218329, 0.18856378, 0.20533033],\n",
              "       [0.9583558 , 0.16790973, 0.30743243],\n",
              "       [0.93814016, 0.18837254, 0.44106607],\n",
              "       [0.91374663, 0.16408491, 0.3978979 ],\n",
              "       [0.90080863, 0.15796519, 0.24587087],\n",
              "       [0.92115903, 0.1254542 , 0.14226727],\n",
              "       [0.86010782, 0.10900746, 0.18355856],\n",
              "       [0.82264151, 0.05603366, 0.56569069],\n",
              "       [0.78355795, 0.1352075 , 0.68355856],\n",
              "       [0.88207547, 0.12507172, 0.49474474],\n",
              "       [0.93800539, 0.13673743, 0.26238739],\n",
              "       [0.89730458, 0.13233888, 0.25112613],\n",
              "       [0.82264151, 0.11168483, 0.0960961 ],\n",
              "       [0.84824798, 0.07534902, 0.24211712],\n",
              "       [0.83962264, 0.09007458, 0.125     ],\n",
              "       [0.94892183, 0.13578122, 0.13213213],\n",
              "       [0.9222372 , 0.16274622, 0.48873874],\n",
              "       [0.92318059, 0.18990247, 0.32695195],\n",
              "       [0.84070081, 0.19487474, 0.18093093],\n",
              "       [0.79824798, 0.16389367, 0.1996997 ],\n",
              "       [0.74272237, 0.15069803, 0.16666667],\n",
              "       [0.67277628, 0.1923886 , 0.50187688],\n",
              "       [0.75175202, 0.17230828, 0.35998498],\n",
              "       [0.80687332, 0.14419583, 0.31418919],\n",
              "       [0.84865229, 0.        , 0.56756757],\n",
              "       [0.79838275, 0.0929432 , 0.52252252],\n",
              "       [0.86105121, 0.10346146, 0.31156156],\n",
              "       [0.91657682, 0.06330082, 0.44707207],\n",
              "       [0.91469003, 0.19277108, 0.46021021],\n",
              "       [0.88948787, 0.178428  , 0.39451952],\n",
              "       [0.7712938 , 0.17766303, 0.18393393],\n",
              "       [0.79407008, 0.07152419, 0.5015015 ],\n",
              "       [0.84366577, 0.22222222, 0.5259009 ],\n",
              "       [0.88477089, 0.25320329, 0.42154655],\n",
              "       [0.91199461, 0.232358  , 0.27852853],\n",
              "       [0.88207547, 0.22891566, 0.22522523],\n",
              "       [0.92183288, 0.19085867, 0.43581081],\n",
              "       [0.79622642, 0.20022949, 0.33220721],\n",
              "       [0.80889488, 0.20328935, 0.50112613],\n",
              "       [0.90296496, 0.12029069, 0.47522523],\n",
              "       [0.81415094, 0.16427615, 0.55593093],\n",
              "       [0.78153639, 0.10231402, 0.64902402],\n",
              "       [0.89326146, 0.06483075, 0.67605105],\n",
              "       [0.85700809, 0.08529356, 0.5487988 ],\n",
              "       [0.83342318, 0.07764391, 0.31268769],\n",
              "       [0.8583558 , 0.06425703, 0.24474474],\n",
              "       [0.76684636, 0.12927902, 0.31456456],\n",
              "       [0.64811321, 0.21744119, 0.76276276],\n",
              "       [0.72857143, 0.16465863, 0.37424925],\n",
              "       [0.62439353, 0.1979346 , 0.60472973],\n",
              "       [0.7       , 0.23733027, 0.73423423],\n",
              "       [0.75606469, 0.10059285, 0.28153153],\n",
              "       [0.69986523, 0.13253012, 0.26163664],\n",
              "       [0.6884097 , 0.2778734 , 0.69181682],\n",
              "       [0.65754717, 0.26372155, 0.67717718],\n",
              "       [0.74622642, 0.14763817, 0.49399399],\n",
              "       [0.70283019, 0.22279595, 0.27402402],\n",
              "       [0.63719677, 0.20692293, 0.31569069],\n",
              "       [0.63598383, 0.30254351, 0.79204204],\n",
              "       [0.73221024, 0.31057564, 0.64151652],\n",
              "       [0.73261456, 0.17173456, 0.41216216],\n",
              "       [0.7638814 , 0.26123542, 0.3506006 ],\n",
              "       [0.6532345 , 0.29336393, 0.65915916],\n",
              "       [0.78881402, 0.28475808, 0.47034535],\n",
              "       [0.75053908, 0.26314783, 0.30518018],\n",
              "       [0.71617251, 0.23484414, 0.28115616],\n",
              "       [0.73328841, 0.21954485, 0.08896396],\n",
              "       [0.65579515, 0.29259897, 0.43430931],\n",
              "       [0.82978437, 0.22547332, 0.31456456],\n",
              "       [0.83409704, 0.32568369, 0.14001502],\n",
              "       [0.80161725, 0.46012622, 0.56118619],\n",
              "       [0.73665768, 0.44253203, 0.73648649],\n",
              "       [0.61455526, 0.33161216, 0.5472973 ],\n",
              "       [0.68301887, 0.25377701, 0.77102102],\n",
              "       [0.7690027 , 0.16389367, 0.49399399],\n",
              "       [0.67318059, 0.14668197, 0.46734234],\n",
              "       [0.82237197, 0.0701855 , 0.45345345],\n",
              "       [0.74636119, 0.15203672, 0.60472973],\n",
              "       [0.66226415, 0.15605278, 0.30930931],\n",
              "       [0.70619946, 0.15720023, 0.19481982],\n",
              "       [0.67008086, 0.2314018 , 0.35247748],\n",
              "       [0.8245283 , 0.30981067, 0.5762012 ]])"
            ]
          },
          "metadata": {
            "tags": []
          },
          "execution_count": 74
        }
=======
     "name": "stdout",
     "output_type": "stream",
     "text": [
      "WARNING:tensorflow:From <ipython-input-59-a68ec1088d46>:1: Model.evaluate_generator (from tensorflow.python.keras.engine.training) is deprecated and will be removed in a future version.\n",
      "Instructions for updating:\n",
      "Please use Model.evaluate, which supports generators.\n"
     ]
    },
    {
     "data": {
      "text/plain": [
       "[0.01668703183531761, 0.10330020636320114]"
>>>>>>> Stashed changes
      ]
     },
     "execution_count": 59,
     "metadata": {
      "tags": []
     },
     "output_type": "execute_result"
    }
   ],
   "source": [
    "model.evaluate_generator(test_generator, verbose=0)"
   ]
  },
  {
   "cell_type": "code",
   "execution_count": 60,
   "metadata": {
    "colab": {
     "base_uri": "https://localhost:8080/",
     "height": 88
    },
    "id": "vKLBLA8WraIL",
    "outputId": "8a205d71-c9c0-49dd-a5a5-4e8815be3e26"
   },
   "outputs": [
    {
<<<<<<< Updated upstream
      "cell_type": "code",
      "metadata": {
        "id": "xtO6SNDDu7XD"
      },
      "source": [
        "df_pred = pd.concat([pd.DataFrame(predictions), pd.DataFrame(x_test[:,1:][win_length:])],axis=1)"
      ],
      "execution_count": null,
      "outputs": []
=======
     "name": "stdout",
     "output_type": "stream",
     "text": [
      "WARNING:tensorflow:From <ipython-input-60-9068eb02ed61>:1: Model.predict_generator (from tensorflow.python.keras.engine.training) is deprecated and will be removed in a future version.\n",
      "Instructions for updating:\n",
      "Please use Model.predict, which supports generators.\n"
     ]
    }
   ],
   "source": [
    "predictions = model.predict_generator(test_generator)"
   ]
  },
  {
   "cell_type": "code",
   "execution_count": 61,
   "metadata": {
    "colab": {
     "base_uri": "https://localhost:8080/",
     "height": 34
>>>>>>> Stashed changes
    },
    "id": "afzKvwVVraKz",
    "outputId": "ffb2e8d0-c274-402c-a6e2-ca3954180de3"
   },
   "outputs": [
    {
<<<<<<< Updated upstream
      "cell_type": "code",
      "metadata": {
        "id": "7FNPk315vvp1",
        "outputId": "5083da62-c32f-4185-ad14-166ef0094f4d",
        "colab": {
          "base_uri": "https://localhost:8080/",
          "height": 419
        }
      },
      "source": [
        "df_pred"
      ],
      "execution_count": null,
      "outputs": [
        {
          "output_type": "execute_result",
          "data": {
            "text/html": [
              "<div>\n",
              "<style scoped>\n",
              "    .dataframe tbody tr th:only-of-type {\n",
              "        vertical-align: middle;\n",
              "    }\n",
              "\n",
              "    .dataframe tbody tr th {\n",
              "        vertical-align: top;\n",
              "    }\n",
              "\n",
              "    .dataframe thead th {\n",
              "        text-align: right;\n",
              "    }\n",
              "</style>\n",
              "<table border=\"1\" class=\"dataframe\">\n",
              "  <thead>\n",
              "    <tr style=\"text-align: right;\">\n",
              "      <th></th>\n",
              "      <th>0</th>\n",
              "      <th>0</th>\n",
              "      <th>1</th>\n",
              "      <th>2</th>\n",
              "    </tr>\n",
              "  </thead>\n",
              "  <tbody>\n",
              "    <tr>\n",
              "      <th>0</th>\n",
              "      <td>0.387990</td>\n",
              "      <td>0.247978</td>\n",
              "      <td>0.545802</td>\n",
              "      <td>0.133258</td>\n",
              "    </tr>\n",
              "    <tr>\n",
              "      <th>1</th>\n",
              "      <td>0.375582</td>\n",
              "      <td>0.136388</td>\n",
              "      <td>0.651559</td>\n",
              "      <td>0.533033</td>\n",
              "    </tr>\n",
              "    <tr>\n",
              "      <th>2</th>\n",
              "      <td>0.290252</td>\n",
              "      <td>0.307951</td>\n",
              "      <td>0.448461</td>\n",
              "      <td>0.727853</td>\n",
              "    </tr>\n",
              "    <tr>\n",
              "      <th>3</th>\n",
              "      <td>0.192433</td>\n",
              "      <td>0.585984</td>\n",
              "      <td>0.222413</td>\n",
              "      <td>0.706832</td>\n",
              "    </tr>\n",
              "    <tr>\n",
              "      <th>4</th>\n",
              "      <td>0.168672</td>\n",
              "      <td>0.651887</td>\n",
              "      <td>0.266781</td>\n",
              "      <td>0.373498</td>\n",
              "    </tr>\n",
              "    <tr>\n",
              "      <th>...</th>\n",
              "      <td>...</td>\n",
              "      <td>...</td>\n",
              "      <td>...</td>\n",
              "      <td>...</td>\n",
              "    </tr>\n",
              "    <tr>\n",
              "      <th>315</th>\n",
              "      <td>0.343351</td>\n",
              "      <td>0.746361</td>\n",
              "      <td>0.152037</td>\n",
              "      <td>0.604730</td>\n",
              "    </tr>\n",
              "    <tr>\n",
              "      <th>316</th>\n",
              "      <td>0.258122</td>\n",
              "      <td>0.662264</td>\n",
              "      <td>0.156053</td>\n",
              "      <td>0.309309</td>\n",
              "    </tr>\n",
              "    <tr>\n",
              "      <th>317</th>\n",
              "      <td>0.345913</td>\n",
              "      <td>0.706199</td>\n",
              "      <td>0.157200</td>\n",
              "      <td>0.194820</td>\n",
              "    </tr>\n",
              "    <tr>\n",
              "      <th>318</th>\n",
              "      <td>0.449227</td>\n",
              "      <td>0.670081</td>\n",
              "      <td>0.231402</td>\n",
              "      <td>0.352477</td>\n",
              "    </tr>\n",
              "    <tr>\n",
              "      <th>319</th>\n",
              "      <td>0.427224</td>\n",
              "      <td>0.824528</td>\n",
              "      <td>0.309811</td>\n",
              "      <td>0.576201</td>\n",
              "    </tr>\n",
              "  </tbody>\n",
              "</table>\n",
              "<p>320 rows × 4 columns</p>\n",
              "</div>"
            ],
            "text/plain": [
              "            0         0         1         2\n",
              "0    0.387990  0.247978  0.545802  0.133258\n",
              "1    0.375582  0.136388  0.651559  0.533033\n",
              "2    0.290252  0.307951  0.448461  0.727853\n",
              "3    0.192433  0.585984  0.222413  0.706832\n",
              "4    0.168672  0.651887  0.266781  0.373498\n",
              "..        ...       ...       ...       ...\n",
              "315  0.343351  0.746361  0.152037  0.604730\n",
              "316  0.258122  0.662264  0.156053  0.309309\n",
              "317  0.345913  0.706199  0.157200  0.194820\n",
              "318  0.449227  0.670081  0.231402  0.352477\n",
              "319  0.427224  0.824528  0.309811  0.576201\n",
              "\n",
              "[320 rows x 4 columns]"
            ]
          },
          "metadata": {
            "tags": []
          },
          "execution_count": 76
        }
=======
     "data": {
      "text/plain": [
       "263"
>>>>>>> Stashed changes
      ]
     },
     "execution_count": 61,
     "metadata": {
      "tags": []
     },
     "output_type": "execute_result"
    }
   ],
   "source": [
    "predictions.shape[0]"
   ]
  },
  {
   "cell_type": "code",
   "execution_count": 62,
   "metadata": {
    "colab": {
     "base_uri": "https://localhost:8080/",
     "height": 1000
    },
    "id": "uL7d8XVQraNF",
    "outputId": "76ed03dc-dbee-4e48-9c70-aca07d9b3b81"
   },
   "outputs": [
    {
<<<<<<< Updated upstream
      "cell_type": "code",
      "metadata": {
        "id": "JXFFpUE0u7Zv"
      },
      "source": [
        "rev_trans = scaler.inverse_transform(df_pred)"
      ],
      "execution_count": null,
      "outputs": []
    },
    {
      "cell_type": "code",
      "metadata": {
        "id": "b_5b8gmhu7cr",
        "outputId": "47c511a2-37c6-4fc1-c4c6-840c6b1f642a",
        "colab": {
          "base_uri": "https://localhost:8080/",
          "height": 136
        }
      },
      "source": [
        "rev_trans"
      ],
      "execution_count": null,
      "outputs": [
        {
          "output_type": "execute_result",
          "data": {
            "text/plain": [
              "array([[2.36581234e+05, 4.24400000e+01, 1.92100000e+01, 2.99500000e+00],\n",
              "       [2.34457957e+05, 3.41600000e+01, 2.19750000e+01, 8.32000000e+00],\n",
              "       [2.19856295e+05, 4.68900000e+01, 1.66650000e+01, 1.09150000e+01],\n",
              "       ...,\n",
              "       [2.29381093e+05, 7.64400000e+01, 9.05000000e+00, 3.81500000e+00],\n",
              "       [2.47059959e+05, 7.37600000e+01, 1.09900000e+01, 5.91500000e+00],\n",
              "       [2.43294881e+05, 8.52200000e+01, 1.30400000e+01, 8.89500000e+00]])"
            ]
          },
          "metadata": {
            "tags": []
          },
          "execution_count": 78
        }
=======
     "data": {
      "text/plain": [
       "array([[0.29802275],\n",
       "       [0.30689234],\n",
       "       [0.31056604],\n",
       "       [0.31881148],\n",
       "       [0.3299492 ],\n",
       "       [0.3371723 ],\n",
       "       [0.33671075],\n",
       "       [0.33070838],\n",
       "       [0.32598972],\n",
       "       [0.31369647],\n",
       "       [0.2997096 ],\n",
       "       [0.28891894],\n",
       "       [0.28062612],\n",
       "       [0.2666973 ],\n",
       "       [0.25085896],\n",
       "       [0.23823029],\n",
       "       [0.23065364],\n",
       "       [0.23768477],\n",
       "       [0.25008193],\n",
       "       [0.26071823],\n",
       "       [0.2737795 ],\n",
       "       [0.29079688],\n",
       "       [0.3035955 ],\n",
       "       [0.3136222 ],\n",
       "       [0.32930976],\n",
       "       [0.34461272],\n",
       "       [0.35219908],\n",
       "       [0.3580888 ],\n",
       "       [0.36351413],\n",
       "       [0.36607417],\n",
       "       [0.367647  ],\n",
       "       [0.37072572],\n",
       "       [0.37696165],\n",
       "       [0.38284996],\n",
       "       [0.39295402],\n",
       "       [0.40199503],\n",
       "       [0.40702078],\n",
       "       [0.40079936],\n",
       "       [0.3883451 ],\n",
       "       [0.3800023 ],\n",
       "       [0.37637603],\n",
       "       [0.36761144],\n",
       "       [0.35682866],\n",
       "       [0.34647733],\n",
       "       [0.3331286 ],\n",
       "       [0.32905316],\n",
       "       [0.3354    ],\n",
       "       [0.34784555],\n",
       "       [0.37330207],\n",
       "       [0.402885  ],\n",
       "       [0.42580137],\n",
       "       [0.44304773],\n",
       "       [0.45791146],\n",
       "       [0.47148904],\n",
       "       [0.48311785],\n",
       "       [0.4916441 ],\n",
       "       [0.49773547],\n",
       "       [0.4900258 ],\n",
       "       [0.47373477],\n",
       "       [0.4524201 ],\n",
       "       [0.4366049 ],\n",
       "       [0.4211341 ],\n",
       "       [0.40955397],\n",
       "       [0.4019244 ],\n",
       "       [0.39778873],\n",
       "       [0.39328054],\n",
       "       [0.394896  ],\n",
       "       [0.40219828],\n",
       "       [0.41715375],\n",
       "       [0.43796465],\n",
       "       [0.45760724],\n",
       "       [0.47432774],\n",
       "       [0.49104837],\n",
       "       [0.5131467 ],\n",
       "       [0.5264679 ],\n",
       "       [0.5297619 ],\n",
       "       [0.52036995],\n",
       "       [0.5057243 ],\n",
       "       [0.4865946 ],\n",
       "       [0.47255093],\n",
       "       [0.4656519 ],\n",
       "       [0.46625102],\n",
       "       [0.47139257],\n",
       "       [0.4778354 ],\n",
       "       [0.4828538 ],\n",
       "       [0.476116  ],\n",
       "       [0.46431673],\n",
       "       [0.45875058],\n",
       "       [0.45753217],\n",
       "       [0.45112184],\n",
       "       [0.44751108],\n",
       "       [0.44604394],\n",
       "       [0.44813243],\n",
       "       [0.45159528],\n",
       "       [0.4594171 ],\n",
       "       [0.47053877],\n",
       "       [0.48055837],\n",
       "       [0.48972973],\n",
       "       [0.49594665],\n",
       "       [0.48909995],\n",
       "       [0.478673  ],\n",
       "       [0.46960863],\n",
       "       [0.4615783 ],\n",
       "       [0.45852244],\n",
       "       [0.45607913],\n",
       "       [0.45692274],\n",
       "       [0.45404696],\n",
       "       [0.45011586],\n",
       "       [0.44802663],\n",
       "       [0.44730386],\n",
       "       [0.4503605 ],\n",
       "       [0.45158967],\n",
       "       [0.45182404],\n",
       "       [0.4450054 ],\n",
       "       [0.441502  ],\n",
       "       [0.43899122],\n",
       "       [0.43665567],\n",
       "       [0.44074926],\n",
       "       [0.44107953],\n",
       "       [0.44591886],\n",
       "       [0.45243037],\n",
       "       [0.45845932],\n",
       "       [0.4719803 ],\n",
       "       [0.48986116],\n",
       "       [0.5017912 ],\n",
       "       [0.5031626 ],\n",
       "       [0.5011959 ],\n",
       "       [0.4956743 ],\n",
       "       [0.48120877],\n",
       "       [0.474159  ],\n",
       "       [0.46772185],\n",
       "       [0.4568064 ],\n",
       "       [0.45088354],\n",
       "       [0.44853482],\n",
       "       [0.43766975],\n",
       "       [0.42871538],\n",
       "       [0.4287446 ],\n",
       "       [0.43062738],\n",
       "       [0.43089733],\n",
       "       [0.4335055 ],\n",
       "       [0.44164023],\n",
       "       [0.43639165],\n",
       "       [0.42352086],\n",
       "       [0.41881981],\n",
       "       [0.41506615],\n",
       "       [0.41104373],\n",
       "       [0.40397596],\n",
       "       [0.39308178],\n",
       "       [0.37801823],\n",
       "       [0.36545205],\n",
       "       [0.3644867 ],\n",
       "       [0.3762574 ],\n",
       "       [0.38575113],\n",
       "       [0.39134207],\n",
       "       [0.39863023],\n",
       "       [0.40021232],\n",
       "       [0.3948783 ],\n",
       "       [0.39286336],\n",
       "       [0.3945808 ],\n",
       "       [0.39487883],\n",
       "       [0.38450885],\n",
       "       [0.3712238 ],\n",
       "       [0.3538791 ],\n",
       "       [0.3387385 ],\n",
       "       [0.33145547],\n",
       "       [0.32987523],\n",
       "       [0.33197972],\n",
       "       [0.33649668],\n",
       "       [0.33135402],\n",
       "       [0.32847777],\n",
       "       [0.3262451 ],\n",
       "       [0.33345905],\n",
       "       [0.34487063],\n",
       "       [0.3501998 ],\n",
       "       [0.35192403],\n",
       "       [0.35216755],\n",
       "       [0.3451434 ],\n",
       "       [0.32970518],\n",
       "       [0.3188056 ],\n",
       "       [0.30843562],\n",
       "       [0.30070496],\n",
       "       [0.29978505],\n",
       "       [0.30284256],\n",
       "       [0.3055655 ],\n",
       "       [0.30452102],\n",
       "       [0.30955175],\n",
       "       [0.31526196],\n",
       "       [0.31864762],\n",
       "       [0.31773782],\n",
       "       [0.31595284],\n",
       "       [0.31551543],\n",
       "       [0.31516606],\n",
       "       [0.31935248],\n",
       "       [0.32817304],\n",
       "       [0.34365407],\n",
       "       [0.35587007],\n",
       "       [0.35017577],\n",
       "       [0.33395252],\n",
       "       [0.3196441 ],\n",
       "       [0.31490803],\n",
       "       [0.3207059 ],\n",
       "       [0.33061886],\n",
       "       [0.3380893 ],\n",
       "       [0.34196126],\n",
       "       [0.3287664 ],\n",
       "       [0.30965683],\n",
       "       [0.29392827],\n",
       "       [0.28008133],\n",
       "       [0.26355273],\n",
       "       [0.24827762],\n",
       "       [0.2358459 ],\n",
       "       [0.22735837],\n",
       "       [0.22618735],\n",
       "       [0.23722397],\n",
       "       [0.25111276],\n",
       "       [0.26544967],\n",
       "       [0.28228784],\n",
       "       [0.29846278],\n",
       "       [0.30980337],\n",
       "       [0.31800836],\n",
       "       [0.32951647],\n",
       "       [0.33721548],\n",
       "       [0.3488292 ],\n",
       "       [0.35947087],\n",
       "       [0.3599402 ],\n",
       "       [0.35035747],\n",
       "       [0.34069926],\n",
       "       [0.33870625],\n",
       "       [0.3199577 ],\n",
       "       [0.30616534],\n",
       "       [0.2974572 ],\n",
       "       [0.29178163],\n",
       "       [0.27671093],\n",
       "       [0.25424588],\n",
       "       [0.24103197],\n",
       "       [0.23379265],\n",
       "       [0.23220108],\n",
       "       [0.2388402 ],\n",
       "       [0.24649346],\n",
       "       [0.25146717],\n",
       "       [0.26093253],\n",
       "       [0.2861215 ],\n",
       "       [0.30001286],\n",
       "       [0.30468446],\n",
       "       [0.30646834],\n",
       "       [0.30566844],\n",
       "       [0.30397308],\n",
       "       [0.3011085 ],\n",
       "       [0.305356  ],\n",
       "       [0.32500285],\n",
       "       [0.37050825],\n",
       "       [0.3917904 ],\n",
       "       [0.42556557],\n",
       "       [0.40152857],\n",
       "       [0.37156546],\n",
       "       [0.34887898],\n",
       "       [0.3306663 ],\n",
       "       [0.31707326],\n",
       "       [0.30031806],\n",
       "       [0.29478443],\n",
       "       [0.29767692],\n",
       "       [0.3111586 ],\n",
       "       [0.33347565]], dtype=float32)"
>>>>>>> Stashed changes
      ]
     },
     "execution_count": 62,
     "metadata": {
      "tags": []
     },
     "output_type": "execute_result"
    }
   ],
   "source": [
    "predictions"
   ]
  },
  {
   "cell_type": "code",
   "execution_count": 63,
   "metadata": {
    "colab": {
     "base_uri": "https://localhost:8080/",
     "height": 1000
    },
    "id": "R2T_Wak8u45F",
    "outputId": "987b8c37-ac68-4821-d56e-948f71ba6133"
   },
   "outputs": [
    {
<<<<<<< Updated upstream
      "cell_type": "code",
      "metadata": {
        "id": "zc5-Wphru7f0"
      },
      "source": [
        "df_final=ts19[predictions.shape[0]*-1:]"
      ],
      "execution_count": null,
      "outputs": []
    },
    {
      "cell_type": "code",
      "metadata": {
        "id": "JOMJVOiqviBN"
      },
      "source": [
        "##### New \n",
        "\n",
        "#df_final_new=ts19[predictions.shape[0]*-1:]"
      ],
      "execution_count": null,
      "outputs": []
    },
    {
      "cell_type": "code",
      "metadata": {
        "id": "scbDDOGtv0_c",
        "outputId": "076b2c04-e291-4da1-ff5a-d68a8cfafc7a",
        "colab": {
          "base_uri": "https://localhost:8080/",
          "height": 102
        }
      },
      "source": [
        "df_final.count()"
      ],
      "execution_count": null,
      "outputs": [
        {
          "output_type": "execute_result",
          "data": {
            "text/plain": [
              "TOTALDEMAND          320\n",
              "relative_humidity    320\n",
              "avg_temp             320\n",
              "ws_avg_50            320\n",
              "dtype: int64"
            ]
          },
          "metadata": {
            "tags": []
          },
          "execution_count": 80
        }
=======
     "data": {
      "text/plain": [
       "array([0.33044451, 0.31127212, 0.23896173, 0.24551974, 0.43985445,\n",
       "       0.45580246, 0.46419698, 0.46642972, 0.51564466, 0.28703031,\n",
       "       0.22830964, 0.26837033, 0.28336124, 0.33667138, 0.34401698,\n",
       "       0.30636952, 0.19293782, 0.19123353, 0.35238985, 0.35599836,\n",
       "       0.35911953, 0.34211574, 0.31491894, 0.20447702, 0.10138428,\n",
       "       0.27982254, 0.32105625, 0.42678287, 0.37942788, 0.35506239,\n",
       "       0.24903416, 0.16211872, 0.34726034, 0.36155525, 0.384088  ,\n",
       "       0.3134313 , 0.12974903, 0.12601343, 0.11594553, 0.18081205,\n",
       "       0.34780843, 0.3361539 , 0.15534626, 0.2641061 , 0.24201004,\n",
       "       0.19048885, 0.39633608, 0.30335421, 0.28798228, 0.33238507,\n",
       "       0.30796737, 0.22102227, 0.23479976, 0.43485568, 0.37260006,\n",
       "       0.4022348 , 0.44043858, 0.46248529, 0.33522915, 0.30217617,\n",
       "       0.41174268, 0.45239526, 0.4912908 , 0.50471209, 0.4992796 ,\n",
       "       0.33288906, 0.22625738, 0.40141833, 0.43761562, 0.44058482,\n",
       "       0.40600888, 0.40370167, 0.23693871, 0.25129996, 0.53859984,\n",
       "       0.58120533, 0.61106   , 0.64155678, 0.5820345 , 0.39267829,\n",
       "       0.3937037 , 0.60075409, 0.60924181, 0.62947666, 0.59519237,\n",
       "       0.55977091, 0.38364051, 0.30518976, 0.27492274, 0.44947892,\n",
       "       0.51352188, 0.51838391, 0.51382552, 0.42963327, 0.37848254,\n",
       "       0.53554043, 0.63040034, 0.71172328, 0.75793394, 0.70894537,\n",
       "       0.56962586, 0.57793166, 0.73701764, 0.72449325, 0.64745681,\n",
       "       0.54807909, 0.45885477, 0.39176099, 0.37060102, 0.51256849,\n",
       "       0.6058722 , 0.62330587, 0.59770965, 0.5689696 , 0.35282052,\n",
       "       0.35054105, 0.50373089, 0.581257  , 0.5011707 , 0.57323241,\n",
       "       0.51658141, 0.46371977, 0.46116555, 0.5566177 , 0.5709681 ,\n",
       "       0.59958429, 0.58501778, 0.56094536, 0.31258214, 0.31263279,\n",
       "       0.45971156, 0.5240334 , 0.60486737, 0.57095449, 0.61334686,\n",
       "       0.43990583, 0.39759634, 0.5741114 , 0.64156764, 0.65848622,\n",
       "       0.59411385, 0.60309346, 0.4157414 , 0.42071172, 0.48397915,\n",
       "       0.56116648, 0.61122575, 0.57171941, 0.68568506, 0.51861559,\n",
       "       0.42880368, 0.61561737, 0.67278728, 0.59172771, 0.513426  ,\n",
       "       0.53325214, 0.36236342, 0.30694339, 0.54859925, 0.55303001,\n",
       "       0.42544755, 0.50839351, 0.49724053, 0.26502357, 0.34469884,\n",
       "       0.56813512, 0.54737772, 0.62728246, 0.5863806 , 0.55819144,\n",
       "       0.26875333, 0.22949275, 0.43678759, 0.40306266, 0.44818883,\n",
       "       0.41919574, 0.44305617, 0.35925592, 0.38072215, 0.54121105,\n",
       "       0.55573244, 0.42965952, 0.40129483, 0.4206974 , 0.21964769,\n",
       "       0.23931423, 0.40892205, 0.46580962, 0.41314005, 0.27455914,\n",
       "       0.26405544, 0.19396043, 0.20634908, 0.43876257, 0.4855934 ,\n",
       "       0.46787989, 0.38455393, 0.24998243, 0.28243201, 0.23519814,\n",
       "       0.43766395, 0.35317988, 0.3062805 , 0.28900166, 0.38684968,\n",
       "       0.19440983, 0.09447405, 0.33653672, 0.38675678, 0.44960899,\n",
       "       0.46059056, 0.35985633, 0.19044034, 0.11515836, 0.30066353,\n",
       "       0.32168966, 0.38710218, 0.37703446, 0.29550085, 0.2021244 ,\n",
       "       0.20990503, 0.35092518, 0.3462292 , 0.34829447, 0.36214928,\n",
       "       0.28682888, 0.1384707 , 0.21164774, 0.32864088, 0.3197241 ,\n",
       "       0.38521687, 0.43744981, 0.51434383, 0.24716389, 0.14048418,\n",
       "       0.26474153, 0.13988734, 0.2301539 , 0.35844984, 0.34439431,\n",
       "       0.2843709 , 0.19636728, 0.2585257 , 0.22922407, 0.32791182,\n",
       "       0.2951601 , 0.30859469, 0.14978132, 0.13899821, 0.28703747,\n",
       "       0.32147188, 0.41338372, 0.55151988, 0.28585747, 0.14500384,\n",
       "       0.13942493, 0.34373226, 0.26891001, 0.27831968, 0.32984899,\n",
       "       0.35447934, 0.16545474, 0.15434633, 0.30447353, 0.28639058,\n",
       "       0.26618383, 0.27204281, 0.23788184, 0.1234113 , 0.14896146,\n",
       "       0.51093341, 0.29181513, 0.28598885, 0.28048399, 0.26224477,\n",
       "       0.19265835, 0.16263721, 0.34970794, 0.4642539 , 0.73861775,\n",
       "       0.47680204, 0.78112957, 0.18541781, 0.06027699, 0.19956511,\n",
       "       0.2037525 , 0.15773623, 0.13157623, 0.26445782, 0.33922614,\n",
       "       0.39616902, 0.66008878, 0.12310211])"
>>>>>>> Stashed changes
      ]
     },
     "execution_count": 63,
     "metadata": {
      "tags": []
     },
     "output_type": "execute_result"
    }
   ],
   "source": [
    "y_test"
   ]
  },
  {
   "cell_type": "code",
   "execution_count": 64,
   "metadata": {
    "colab": {
     "base_uri": "https://localhost:8080/",
     "height": 1000
    },
    "id": "5seUrgRNu7T9",
    "outputId": "8d9bc641-0131-42c5-8641-e880e809bd38"
   },
   "outputs": [
    {
<<<<<<< Updated upstream
      "cell_type": "code",
      "metadata": {
        "id": "GwaaH6E1vlVW"
      },
      "source": [
        "##### New\n",
        "\n",
        "#df_final_new.count()"
      ],
      "execution_count": null,
      "outputs": []
    },
    {
      "cell_type": "code",
      "metadata": {
        "id": "SfZWeI2-v1CQ",
        "outputId": "f0fc5f0e-aafd-4329-f2d2-bbfc63bff29c",
        "colab": {
          "base_uri": "https://localhost:8080/",
          "height": 139
        }
      },
      "source": [
        "df_final['Energy_pred'] = rev_trans[:,0]"
      ],
      "execution_count": null,
      "outputs": [
        {
          "output_type": "stream",
          "text": [
            "/usr/local/lib/python3.6/dist-packages/ipykernel_launcher.py:1: SettingWithCopyWarning: \n",
            "A value is trying to be set on a copy of a slice from a DataFrame.\n",
            "Try using .loc[row_indexer,col_indexer] = value instead\n",
            "\n",
            "See the caveats in the documentation: https://pandas.pydata.org/pandas-docs/stable/user_guide/indexing.html#returning-a-view-versus-a-copy\n",
            "  \"\"\"Entry point for launching an IPython kernel.\n"
          ],
          "name": "stderr"
        }
=======
     "data": {
      "text/plain": [
       "array([[0.63894879, 0.40287632, 0.125     ],\n",
       "       [0.62762803, 0.44678811, 0.13325826],\n",
       "       [0.48625337, 0.53269415, 0.23198198],\n",
       "       [0.25781671, 0.67094919, 0.50750751],\n",
       "       [0.26549865, 0.68187919, 0.62612613],\n",
       "       [0.43477089, 0.37162033, 0.41478979],\n",
       "       [0.49487871, 0.41821668, 0.16403904],\n",
       "       [0.22115903, 0.58696069, 0.27927928],\n",
       "       [0.43504043, 0.57392138, 0.40728228],\n",
       "       [0.68113208, 0.37737296, 0.26914414],\n",
       "       [0.70660377, 0.38542665, 0.21396396],\n",
       "       [0.6777628 , 0.46423778, 0.11373874],\n",
       "       [0.56145553, 0.39175455, 0.37312312],\n",
       "       [0.5115903 , 0.23221477, 0.59084084],\n",
       "       [0.59272237, 0.23835091, 0.42192192],\n",
       "       [0.65404313, 0.32157239, 0.40653153],\n",
       "       [0.62857143, 0.31639501, 0.14151652],\n",
       "       [0.36859838, 0.32502397, 0.52927928],\n",
       "       [0.55444744, 0.50182167, 0.68318318],\n",
       "       [0.64231806, 0.47344199, 0.57507508],\n",
       "       [0.54851752, 0.35647172, 0.32394895],\n",
       "       [0.75458221, 0.30412272, 0.49211712],\n",
       "       [0.76603774, 0.31466922, 0.32807808],\n",
       "       [0.69865229, 0.29300096, 0.1509009 ],\n",
       "       [0.59056604, 0.28820709, 0.30518018],\n",
       "       [0.74245283, 0.24237776, 0.49174174],\n",
       "       [0.57884097, 0.26040268, 0.56231231],\n",
       "       [0.85350404, 0.18255034, 0.40578078],\n",
       "       [0.81940701, 0.24947267, 0.4512012 ],\n",
       "       [0.75849057, 0.29127517, 0.25563063],\n",
       "       [0.71145553, 0.2759348 , 0.45232733],\n",
       "       [0.69474394, 0.31102589, 0.31118619],\n",
       "       [0.83126685, 0.2864813 , 0.12537538],\n",
       "       [0.71927224, 0.27325024, 0.02852853],\n",
       "       [0.6648248 , 0.26251198, 0.13063063],\n",
       "       [0.55013477, 0.33902205, 0.05855856],\n",
       "       [0.56657682, 0.38408437, 0.36186186],\n",
       "       [0.75552561, 0.36356663, 0.58821321],\n",
       "       [0.77291105, 0.30527325, 0.33708709],\n",
       "       [0.6351752 , 0.34765101, 0.20382883],\n",
       "       [0.51037736, 0.36145733, 0.54692192],\n",
       "       [0.66873315, 0.37411314, 0.65840841],\n",
       "       [0.7245283 , 0.34918504, 0.52402402],\n",
       "       [0.72735849, 0.19884947, 0.69594595],\n",
       "       [0.78989218, 0.12981783, 0.72447447],\n",
       "       [0.8787062 , 0.16548418, 0.6768018 ],\n",
       "       [0.83760108, 0.08456376, 0.67567568],\n",
       "       [0.82102426, 0.13326942, 0.49962462],\n",
       "       [0.9083558 , 0.22550336, 0.46133634],\n",
       "       [0.85080863, 0.25139022, 0.31193694],\n",
       "       [0.86105121, 0.21188878, 0.23611111],\n",
       "       [0.87735849, 0.13000959, 0.56981982],\n",
       "       [0.7574124 , 0.15915628, 0.48686186],\n",
       "       [0.75040431, 0.18446788, 0.38663664],\n",
       "       [0.90822102, 0.21879195, 0.30292793],\n",
       "       [0.79541779, 0.22358581, 0.16929429],\n",
       "       [0.68584906, 0.2126558 , 0.42792793],\n",
       "       [0.75067385, 0.2253116 , 0.50863363],\n",
       "       [0.78207547, 0.27938639, 0.63250751],\n",
       "       [0.7458221 , 0.24621285, 0.43768769],\n",
       "       [0.83773585, 0.27497603, 0.58070571],\n",
       "       [0.84380054, 0.21514861, 0.45683183],\n",
       "       [0.86603774, 0.23240652, 0.378003  ],\n",
       "       [0.82668464, 0.18082454, 0.10735736],\n",
       "       [0.85592992, 0.21534036, 0.16779279],\n",
       "       [0.73153639, 0.21975072, 0.33145646],\n",
       "       [0.81239892, 0.11332694, 0.48498498],\n",
       "       [0.84380054, 0.10047939, 0.26051051],\n",
       "       [0.90309973, 0.06903164, 0.2240991 ],\n",
       "       [0.89380054, 0.10814957, 0.32732733],\n",
       "       [0.8796496 , 0.10699904, 0.2240991 ],\n",
       "       [0.85619946, 0.1029722 , 0.07582583],\n",
       "       [0.69245283, 0.10182167, 0.0960961 ],\n",
       "       [0.74380054, 0.13959732, 0.26013514],\n",
       "       [0.76347709, 0.18005753, 0.26614114],\n",
       "       [0.84070081, 0.19117929, 0.51163664],\n",
       "       [0.76442049, 0.23739214, 0.63963964],\n",
       "       [0.83018868, 0.23892617, 0.89189189],\n",
       "       [0.75283019, 0.15858102, 0.62124625],\n",
       "       [0.65107817, 0.13192713, 0.70195195],\n",
       "       [0.78409704, 0.16989453, 0.47897898],\n",
       "       [0.90067385, 0.16663471, 0.2225976 ],\n",
       "       [0.89851752, 0.15378715, 0.1493994 ],\n",
       "       [0.80822102, 0.20057526, 0.16554054],\n",
       "       [0.81091644, 0.22780441, 0.37612613],\n",
       "       [0.82331536, 0.2590604 , 0.45683183],\n",
       "       [0.88989218, 0.18120805, 0.34459459],\n",
       "       [0.8851752 , 0.14458293, 0.39264264],\n",
       "       [0.68719677, 0.18542665, 0.88813814],\n",
       "       [0.78059299, 0.16682646, 0.75412913],\n",
       "       [0.82398922, 0.14650048, 0.76013514],\n",
       "       [0.83032345, 0.05675935, 0.60923423],\n",
       "       [0.87668464, 0.09185043, 0.69369369],\n",
       "       [0.88301887, 0.18197507, 0.64076577],\n",
       "       [0.85      , 0.19232982, 0.4786036 ],\n",
       "       [0.87210243, 0.15704698, 0.51876877],\n",
       "       [0.75215633, 0.157814  , 0.43280781],\n",
       "       [0.81725067, 0.18082454, 0.41291291],\n",
       "       [0.72587601, 0.18657718, 0.69481982],\n",
       "       [0.60444744, 0.17583893, 0.64226727],\n",
       "       [0.60525606, 0.16797699, 0.73160661],\n",
       "       [0.74528302, 0.17142857, 0.75525526],\n",
       "       [0.83665768, 0.13077661, 0.40127628],\n",
       "       [0.77439353, 0.2021093 , 0.43618619],\n",
       "       [0.85229111, 0.19674017, 0.27927928],\n",
       "       [0.87668464, 0.18120805, 0.19557057],\n",
       "       [0.7597035 , 0.17315436, 0.09534535],\n",
       "       [0.82358491, 0.18561841, 0.24024024],\n",
       "       [0.76320755, 0.08628955, 0.3201952 ],\n",
       "       [0.80539084, 0.10853308, 0.14114114],\n",
       "       [0.81873315, 0.14822627, 0.20082583],\n",
       "       [0.81725067, 0.15321189, 0.27402402],\n",
       "       [0.88086253, 0.16049856, 0.36223724],\n",
       "       [0.81698113, 0.17181208, 0.11486486],\n",
       "       [0.71657682, 0.17583893, 0.41178679],\n",
       "       [0.65592992, 0.14765101, 0.61411411],\n",
       "       [0.75929919, 0.14074784, 0.26126126],\n",
       "       [0.79407008, 0.10623202, 0.62912913],\n",
       "       [0.81469003, 0.03221477, 0.82507508],\n",
       "       [0.87560647, 0.0674976 , 0.5731982 ],\n",
       "       [0.8828841 , 0.09568552, 0.62387387],\n",
       "       [0.81078167, 0.12598274, 0.39602102],\n",
       "       [0.90754717, 0.14458293, 0.18918919],\n",
       "       [0.80296496, 0.14650048, 0.30780781],\n",
       "       [0.57641509, 0.16797699, 0.66966967],\n",
       "       [0.67318059, 0.18005753, 0.62012012],\n",
       "       [0.7703504 , 0.17449664, 0.28641141],\n",
       "       [0.69595687, 0.18868648, 0.7256006 ],\n",
       "       [0.78544474, 0.09319271, 0.60998498],\n",
       "       [0.80822102, 0.17238734, 0.67304805],\n",
       "       [0.76334232, 0.24276127, 0.80292793],\n",
       "       [0.69339623, 0.13116012, 0.53490991],\n",
       "       [0.67412399, 0.13729626, 0.34046547],\n",
       "       [0.62654987, 0.19961649, 0.68430931],\n",
       "       [0.75283019, 0.11447747, 0.31193694],\n",
       "       [0.7648248 , 0.14017258, 0.18130631],\n",
       "       [0.78477089, 0.157814  , 0.25938438],\n",
       "       [0.88072776, 0.10680729, 0.48911411],\n",
       "       [0.73962264, 0.09395973, 0.33971471],\n",
       "       [0.65687332, 0.13441994, 0.0792042 ],\n",
       "       [0.58584906, 0.17008629, 0.45082583],\n",
       "       [0.72695418, 0.25119847, 0.52552553],\n",
       "       [0.74703504, 0.24180249, 0.18956456],\n",
       "       [0.59231806, 0.30239693, 0.25187688],\n",
       "       [0.71738544, 0.24717162, 0.2012012 ],\n",
       "       [0.77857143, 0.31275168, 0.21621622],\n",
       "       [0.82371968, 0.19769895, 0.47072072],\n",
       "       [0.75161725, 0.14899329, 0.71884384],\n",
       "       [0.81307278, 0.18120805, 0.53753754],\n",
       "       [0.6893531 , 0.13595398, 0.57995495],\n",
       "       [0.743531  , 0.18485139, 0.16516517],\n",
       "       [0.62183288, 0.24582934, 0.38175676],\n",
       "       [0.59932615, 0.28418025, 0.54016517],\n",
       "       [0.68638814, 0.22473634, 0.28641141],\n",
       "       [0.60431267, 0.28820709, 0.26801802],\n",
       "       [0.68881402, 0.35704698, 0.43168168],\n",
       "       [0.68921833, 0.1303931 , 0.38063063],\n",
       "       [0.59326146, 0.12924257, 0.30555556],\n",
       "       [0.5884097 , 0.22377756, 0.18055556],\n",
       "       [0.58679245, 0.3240652 , 0.6234985 ],\n",
       "       [0.51752022, 0.50949185, 0.74099099],\n",
       "       [0.63638814, 0.28187919, 0.60998498],\n",
       "       [0.63274933, 0.16567593, 0.3262012 ],\n",
       "       [0.7361186 , 0.18293384, 0.3506006 ],\n",
       "       [0.72991914, 0.18350911, 0.30405405],\n",
       "       [0.72425876, 0.23183126, 0.16103604],\n",
       "       [0.6296496 , 0.30182167, 0.1768018 ],\n",
       "       [0.57520216, 0.27670182, 0.60022523],\n",
       "       [0.61603774, 0.20076702, 0.26388889],\n",
       "       [0.68450135, 0.2042186 , 0.23123123],\n",
       "       [0.63382749, 0.17526366, 0.32807808],\n",
       "       [0.48490566, 0.29721956, 0.16854354],\n",
       "       [0.40592992, 0.38868648, 0.42417417],\n",
       "       [0.45067385, 0.51409396, 0.44106607],\n",
       "       [0.6861186 , 0.29127517, 0.25337838],\n",
       "       [0.64312668, 0.36663471, 0.36524024],\n",
       "       [0.57587601, 0.45963567, 0.56381381],\n",
       "       [0.62264151, 0.28360499, 0.21921922],\n",
       "       [0.77048518, 0.16701822, 0.47484985],\n",
       "       [0.73113208, 0.21208054, 0.3521021 ],\n",
       "       [0.72641509, 0.24180249, 0.29241742],\n",
       "       [0.67708895, 0.2801534 , 0.3262012 ],\n",
       "       [0.60795148, 0.29185043, 0.18881381],\n",
       "       [0.4703504 , 0.36107383, 0.38926426],\n",
       "       [0.53126685, 0.46653883, 0.30105105],\n",
       "       [0.63369272, 0.35033557, 0.21996997],\n",
       "       [0.79555256, 0.3177373 , 0.13363363],\n",
       "       [0.75134771, 0.18638543, 0.43018018],\n",
       "       [0.58018868, 0.27037392, 0.59534535],\n",
       "       [0.63032345, 0.1873442 , 0.47484985],\n",
       "       [0.67358491, 0.24161074, 0.39039039],\n",
       "       [0.67574124, 0.33978907, 0.21321321],\n",
       "       [0.49191375, 0.4232023 , 0.12912913],\n",
       "       [0.24797844, 0.54458293, 0.13325826],\n",
       "       [0.13638814, 0.6506232 , 0.53303303],\n",
       "       [0.30795148, 0.44697987, 0.72785285],\n",
       "       [0.58598383, 0.22032598, 0.70683183],\n",
       "       [0.65188679, 0.26481304, 0.3734985 ],\n",
       "       [0.41522911, 0.38082454, 0.09421922],\n",
       "       [0.16913747, 0.52885906, 0.27252252],\n",
       "       [0.24892183, 0.60479386, 0.25075075],\n",
       "       [0.17196765, 0.7033557 , 0.61786787],\n",
       "       [0.24326146, 0.72157239, 0.71734234],\n",
       "       [0.71091644, 0.51294343, 0.3765015 ],\n",
       "       [0.60849057, 0.45254075, 0.31043544],\n",
       "       [0.71752022, 0.24065197, 0.27552553],\n",
       "       [0.45390836, 0.30642378, 0.31493994],\n",
       "       [0.4171159 , 0.39923298, 0.71734234],\n",
       "       [0.61037736, 0.32061361, 0.77402402],\n",
       "       [0.72318059, 0.1557047 , 0.55142643],\n",
       "       [0.67156334, 0.20249281, 0.6524024 ],\n",
       "       [0.67978437, 0.34209012, 0.30555556],\n",
       "       [0.25660377, 0.46366251, 0.58821321],\n",
       "       [0.42277628, 0.31888782, 0.73460961],\n",
       "       [0.61644205, 0.25944391, 0.53190691],\n",
       "       [0.58274933, 0.41764142, 0.39902402],\n",
       "       [0.57331536, 0.32694151, 0.48385886],\n",
       "       [0.49245283, 0.28418025, 0.34797297],\n",
       "       [0.53962264, 0.30642378, 0.18656156],\n",
       "       [0.34501348, 0.46903164, 0.16704204],\n",
       "       [0.61361186, 0.40460211, 0.21584084],\n",
       "       [0.22560647, 0.60019175, 0.39602102],\n",
       "       [0.17978437, 0.76778523, 0.85998498],\n",
       "       [0.44299191, 0.4168744 , 0.26951952],\n",
       "       [0.46698113, 0.42914669, 0.21133634],\n",
       "       [0.34487871, 0.44544583, 0.10848348],\n",
       "       [0.26765499, 0.53096836, 0.31006006],\n",
       "       [0.59838275, 0.27938639, 0.5548048 ],\n",
       "       [0.29851752, 0.40249281, 0.2515015 ],\n",
       "       [0.44986523, 0.45215724, 0.18843844],\n",
       "       [0.5083558 , 0.48590604, 0.20457958],\n",
       "       [0.5222372 , 0.31792905, 0.24324324],\n",
       "       [0.71859838, 0.25445829, 0.46621622],\n",
       "       [0.58126685, 0.2295302 , 0.65990991],\n",
       "       [0.55552561, 0.33767977, 0.76989489],\n",
       "       [0.49339623, 0.40920422, 0.39864865],\n",
       "       [0.51994609, 0.42818792, 0.46171171],\n",
       "       [0.47681941, 0.38619367, 0.50037538],\n",
       "       [0.49083558, 0.39098754, 0.33295796],\n",
       "       [0.37533693, 0.53077661, 0.11261261],\n",
       "       [0.23247978, 0.7725791 , 0.47447447],\n",
       "       [0.55727763, 0.38082454, 0.41816817],\n",
       "       [0.55377358, 0.40268456, 0.39602102],\n",
       "       [0.53396226, 0.40153404, 0.40878378],\n",
       "       [0.55256065, 0.3873442 , 0.34534535],\n",
       "       [0.59716981, 0.45771812, 0.22747748],\n",
       "       [0.49460916, 0.47727709, 0.19106607],\n",
       "       [0.5171159 , 0.4970278 , 0.20007508],\n",
       "       [0.30539084, 0.59980825, 0.12837838],\n",
       "       [0.09150943, 0.84046021, 0.25675676],\n",
       "       [0.32574124, 0.60115053, 0.20345345],\n",
       "       [0.        , 0.88686481, 0.39864865],\n",
       "       [0.44838275, 0.4801534 , 0.40653153],\n",
       "       [0.4148248 , 0.4105465 , 0.37012012],\n",
       "       [0.48140162, 0.45675935, 0.253003  ],\n",
       "       [0.43153639, 0.51236817, 0.33108108],\n",
       "       [0.38638814, 0.63681687, 0.20045045],\n",
       "       [0.51671159, 0.50872483, 0.29204204],\n",
       "       [0.29622642, 0.63528284, 0.14564565],\n",
       "       [0.17156334, 0.79904123, 0.36036036],\n",
       "       [0.25862534, 0.87574305, 0.16291291],\n",
       "       [0.1361186 , 0.96893576, 0.63438438],\n",
       "       [0.38045822, 0.48878236, 0.3536036 ]])"
>>>>>>> Stashed changes
      ]
     },
     "execution_count": 64,
     "metadata": {
      "tags": []
     },
     "output_type": "execute_result"
    }
   ],
   "source": [
    "x_test[:,1:][win_length:]"
   ]
  },
  {
   "cell_type": "code",
   "execution_count": 65,
   "metadata": {
    "id": "xtO6SNDDu7XD"
   },
   "outputs": [],
   "source": [
    "df_pred = pd.concat([pd.DataFrame(predictions), pd.DataFrame(x_test[:,1:][win_length:])],axis=1)"
   ]
  },
  {
   "cell_type": "code",
   "execution_count": 66,
   "metadata": {
    "colab": {
     "base_uri": "https://localhost:8080/",
     "height": 419
    },
    "id": "7FNPk315vvp1",
    "outputId": "f5d40fa7-bee6-47fe-a4b4-026434ed2907"
   },
   "outputs": [
    {
<<<<<<< Updated upstream
      "cell_type": "code",
      "metadata": {
        "id": "m5TByCeOvsXs",
        "outputId": "0625c0d7-b36f-42d4-ab70-a6445c5f4f50",
        "colab": {
          "base_uri": "https://localhost:8080/",
          "height": 139
        }
      },
      "source": [
        "#### New\n",
        "\n",
        "#df_final_new['Energy_pred'] = rev_trans[:,0]"
      ],
      "execution_count": null,
      "outputs": [
        {
          "output_type": "stream",
          "text": [
            "/usr/local/lib/python3.6/dist-packages/ipykernel_launcher.py:3: SettingWithCopyWarning: \n",
            "A value is trying to be set on a copy of a slice from a DataFrame.\n",
            "Try using .loc[row_indexer,col_indexer] = value instead\n",
            "\n",
            "See the caveats in the documentation: https://pandas.pydata.org/pandas-docs/stable/user_guide/indexing.html#returning-a-view-versus-a-copy\n",
            "  This is separate from the ipykernel package so we can avoid doing imports until\n"
          ],
          "name": "stderr"
        }
      ]
    },
    {
      "cell_type": "code",
      "metadata": {
        "id": "a2Rwa2z4v1FK",
        "outputId": "1d10ccf0-2934-4b25-f2b1-bac6bd679077",
        "colab": {
          "base_uri": "https://localhost:8080/",
          "height": 68
        }
      },
      "source": [
        "df_final.columns"
      ],
      "execution_count": null,
      "outputs": [
        {
          "output_type": "execute_result",
          "data": {
            "text/plain": [
              "Index(['TOTALDEMAND', 'relative_humidity', 'avg_temp', 'ws_avg_50',\n",
              "       'Energy_pred'],\n",
              "      dtype='object')"
            ]
          },
          "metadata": {
            "tags": []
          },
          "execution_count": 82
        }
      ]
    },
    {
      "cell_type": "code",
      "metadata": {
        "id": "4Sch4yhNvxTo"
      },
      "source": [
        "#df_final_new.columns"
      ],
      "execution_count": null,
      "outputs": []
    },
    {
      "cell_type": "code",
      "metadata": {
        "id": "u76FX3CDv1KN",
        "outputId": "de9897f4-8373-48b3-9fc3-4df322f8f5b8",
        "colab": {
          "base_uri": "https://localhost:8080/",
          "height": 450
        }
      },
      "source": [
        "df_final"
      ],
      "execution_count": null,
      "outputs": [
        {
          "output_type": "execute_result",
          "data": {
            "text/html": [
              "<div>\n",
              "<style scoped>\n",
              "    .dataframe tbody tr th:only-of-type {\n",
              "        vertical-align: middle;\n",
              "    }\n",
              "\n",
              "    .dataframe tbody tr th {\n",
              "        vertical-align: top;\n",
              "    }\n",
              "\n",
              "    .dataframe thead th {\n",
              "        text-align: right;\n",
              "    }\n",
              "</style>\n",
              "<table border=\"1\" class=\"dataframe\">\n",
              "  <thead>\n",
              "    <tr style=\"text-align: right;\">\n",
              "      <th></th>\n",
              "      <th>TOTALDEMAND</th>\n",
              "      <th>relative_humidity</th>\n",
              "      <th>avg_temp</th>\n",
              "      <th>ws_avg_50</th>\n",
              "      <th>Energy_pred</th>\n",
              "    </tr>\n",
              "    <tr>\n",
              "      <th>Date</th>\n",
              "      <th></th>\n",
              "      <th></th>\n",
              "      <th></th>\n",
              "      <th></th>\n",
              "      <th></th>\n",
              "    </tr>\n",
              "  </thead>\n",
              "  <tbody>\n",
              "    <tr>\n",
              "      <th>2019-10-23</th>\n",
              "      <td>228563.23</td>\n",
              "      <td>42.44</td>\n",
              "      <td>19.210</td>\n",
              "      <td>2.995</td>\n",
              "      <td>236581.234283</td>\n",
              "    </tr>\n",
              "    <tr>\n",
              "      <th>2019-10-24</th>\n",
              "      <td>230885.31</td>\n",
              "      <td>34.16</td>\n",
              "      <td>21.975</td>\n",
              "      <td>8.320</td>\n",
              "      <td>234457.956901</td>\n",
              "    </tr>\n",
              "    <tr>\n",
              "      <th>2019-10-25</th>\n",
              "      <td>218261.54</td>\n",
              "      <td>46.89</td>\n",
              "      <td>16.665</td>\n",
              "      <td>10.915</td>\n",
              "      <td>219856.295390</td>\n",
              "    </tr>\n",
              "    <tr>\n",
              "      <th>2019-10-26</th>\n",
              "      <td>193396.57</td>\n",
              "      <td>67.52</td>\n",
              "      <td>10.755</td>\n",
              "      <td>10.635</td>\n",
              "      <td>203117.740187</td>\n",
              "    </tr>\n",
              "    <tr>\n",
              "      <th>2019-10-27</th>\n",
              "      <td>205661.11</td>\n",
              "      <td>72.41</td>\n",
              "      <td>11.915</td>\n",
              "      <td>6.195</td>\n",
              "      <td>199051.792770</td>\n",
              "    </tr>\n",
              "    <tr>\n",
              "      <th>...</th>\n",
              "      <td>...</td>\n",
              "      <td>...</td>\n",
              "      <td>...</td>\n",
              "      <td>...</td>\n",
              "      <td>...</td>\n",
              "    </tr>\n",
              "    <tr>\n",
              "      <th>2020-09-26</th>\n",
              "      <td>213389.93</td>\n",
              "      <td>79.42</td>\n",
              "      <td>8.915</td>\n",
              "      <td>9.275</td>\n",
              "      <td>228942.678244</td>\n",
              "    </tr>\n",
              "    <tr>\n",
              "      <th>2020-09-27</th>\n",
              "      <td>203406.98</td>\n",
              "      <td>73.18</td>\n",
              "      <td>9.020</td>\n",
              "      <td>5.340</td>\n",
              "      <td>214358.238560</td>\n",
              "    </tr>\n",
              "    <tr>\n",
              "      <th>2020-09-28</th>\n",
              "      <td>229302.28</td>\n",
              "      <td>76.44</td>\n",
              "      <td>9.050</td>\n",
              "      <td>3.815</td>\n",
              "      <td>229381.092823</td>\n",
              "    </tr>\n",
              "    <tr>\n",
              "      <th>2020-09-29</th>\n",
              "      <td>224152.92</td>\n",
              "      <td>73.76</td>\n",
              "      <td>10.990</td>\n",
              "      <td>5.915</td>\n",
              "      <td>247059.958766</td>\n",
              "    </tr>\n",
              "    <tr>\n",
              "      <th>2020-09-30</th>\n",
              "      <td>227240.42</td>\n",
              "      <td>85.22</td>\n",
              "      <td>13.040</td>\n",
              "      <td>8.895</td>\n",
              "      <td>243294.880800</td>\n",
              "    </tr>\n",
              "  </tbody>\n",
              "</table>\n",
              "<p>320 rows × 5 columns</p>\n",
              "</div>"
            ],
            "text/plain": [
              "            TOTALDEMAND  relative_humidity  avg_temp  ws_avg_50    Energy_pred\n",
              "Date                                                                          \n",
              "2019-10-23    228563.23              42.44    19.210      2.995  236581.234283\n",
              "2019-10-24    230885.31              34.16    21.975      8.320  234457.956901\n",
              "2019-10-25    218261.54              46.89    16.665     10.915  219856.295390\n",
              "2019-10-26    193396.57              67.52    10.755     10.635  203117.740187\n",
              "2019-10-27    205661.11              72.41    11.915      6.195  199051.792770\n",
              "...                 ...                ...       ...        ...            ...\n",
              "2020-09-26    213389.93              79.42     8.915      9.275  228942.678244\n",
              "2020-09-27    203406.98              73.18     9.020      5.340  214358.238560\n",
              "2020-09-28    229302.28              76.44     9.050      3.815  229381.092823\n",
              "2020-09-29    224152.92              73.76    10.990      5.915  247059.958766\n",
              "2020-09-30    227240.42              85.22    13.040      8.895  243294.880800\n",
              "\n",
              "[320 rows x 5 columns]"
            ]
          },
          "metadata": {
            "tags": []
          },
          "execution_count": 83
        }
      ]
    },
    {
      "cell_type": "code",
      "metadata": {
        "id": "LRkHTHT3DZd4"
      },
      "source": [
        "df_test = df_final.reset_index()"
      ],
      "execution_count": null,
      "outputs": []
    },
    {
      "cell_type": "code",
      "metadata": {
        "id": "DZROyhLWESH0"
      },
      "source": [
        "df_test = df_test[df_test.Date.between('2020-04-01', '2020-04-05')]"
      ],
      "execution_count": null,
      "outputs": []
    },
    {
      "cell_type": "code",
      "metadata": {
        "id": "cQASWndyFHtZ"
      },
      "source": [
        "df_final.to_csv('vic_pred.csv')"
      ],
      "execution_count": null,
      "outputs": []
    },
    {
      "cell_type": "code",
      "metadata": {
        "id": "85gJzkv_GhsJ"
      },
      "source": [
        "x = pd.read_csv(\"Test.csv\")"
      ],
      "execution_count": null,
      "outputs": []
    },
    {
      "cell_type": "code",
      "metadata": {
        "id": "JX7QhEwQGlwD",
        "outputId": "8ee8ccab-47e4-4708-fc5f-e00ae3ff28f3",
        "colab": {
          "base_uri": "https://localhost:8080/",
          "height": 164
        }
      },
      "source": [
        "x.head()"
      ],
      "execution_count": null,
      "outputs": [
        {
          "output_type": "error",
          "ename": "NameError",
          "evalue": "ignored",
          "traceback": [
            "\u001b[0;31m---------------------------------------------------------------------------\u001b[0m",
            "\u001b[0;31mNameError\u001b[0m                                 Traceback (most recent call last)",
            "\u001b[0;32m<ipython-input-84-830ed5e65d76>\u001b[0m in \u001b[0;36m<module>\u001b[0;34m()\u001b[0m\n\u001b[0;32m----> 1\u001b[0;31m \u001b[0mx\u001b[0m\u001b[0;34m.\u001b[0m\u001b[0mhead\u001b[0m\u001b[0;34m(\u001b[0m\u001b[0;34m)\u001b[0m\u001b[0;34m\u001b[0m\u001b[0;34m\u001b[0m\u001b[0m\n\u001b[0m",
            "\u001b[0;31mNameError\u001b[0m: name 'x' is not defined"
          ]
        }
      ]
    },
    {
      "cell_type": "code",
      "metadata": {
        "id": "QNlQGnBpv2Gb"
      },
      "source": [
        "#df_final_new"
      ],
      "execution_count": null,
      "outputs": []
    },
    {
      "cell_type": "code",
      "metadata": {
        "id": "a0Liv7RAv1Mw",
        "outputId": "8660ec28-3635-4039-b906-457c24896c81",
        "colab": {
          "base_uri": "https://localhost:8080/",
          "height": 294
        }
      },
      "source": [
        "df_final[['TOTALDEMAND','Energy_pred']].plot()"
      ],
      "execution_count": null,
      "outputs": [
        {
          "output_type": "execute_result",
          "data": {
            "text/plain": [
              "<matplotlib.axes._subplots.AxesSubplot at 0x7f5e04f64ba8>"
            ]
          },
          "metadata": {
            "tags": []
          },
          "execution_count": 85
        },
        {
          "output_type": "display_data",
          "data": {
            "image/png": "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\n",
            "text/plain": [
              "<Figure size 432x288 with 1 Axes>"
            ]
          },
          "metadata": {
            "tags": [],
            "needs_background": "light"
          }
        }
      ]
    },
    {
      "cell_type": "code",
      "metadata": {
        "id": "p-zQFy-2i650"
      },
      "source": [
        "df_final.to_csv(\"victoria_final.csv\")"
      ],
      "execution_count": null,
      "outputs": []
    },
    {
      "cell_type": "code",
      "metadata": {
        "id": "ocdmevEugj5T"
      },
      "source": [
        "df_final = df_final.reset_index()"
      ],
      "execution_count": null,
      "outputs": []
    },
    {
      "cell_type": "code",
      "metadata": {
        "id": "poljdTNqfhNB"
      },
      "source": [
        "import plotly.graph_objs as go\n",
        "\n",
        "trace0 = go.Scatter(\n",
        "    x = df_final.Date,\n",
        "    y = df_final.TOTALDEMAND,\n",
        "    mode = 'lines',\n",
        "    name = \"Total Electricity Demand\"\n",
        ")\n",
        "\n",
        "trace1 = go.Scatter(\n",
        "    x = df_final.Date,\n",
        "    y = df_final.Energy_pred,\n",
        "    mode = 'lines',\n",
        "    name = \"Total Energy Demand predicted\"\n",
        ")"
      ],
      "execution_count": null,
      "outputs": []
    },
    {
      "cell_type": "code",
      "metadata": {
        "id": "JfSYlT5bgpNb"
      },
      "source": [
        "data = [trace0, trace1]"
      ],
      "execution_count": null,
      "outputs": []
    },
    {
      "cell_type": "code",
      "metadata": {
        "id": "i-U0KNYqgpQj"
      },
      "source": [
        "#layout = go.layout(title= 'Actual Total Electricity Demand and Predicted Total Electricity Demand')"
      ],
      "execution_count": null,
      "outputs": []
    },
    {
      "cell_type": "code",
      "metadata": {
        "id": "Aed2aajLgpK1"
      },
      "source": [
        "# import plotly.offline as pyo\n",
        "\n",
        "# figure = go.figure(data=df_final)\n",
        "# pyo.plot(figure)"
      ],
      "execution_count": null,
      "outputs": []
    },
    {
      "cell_type": "code",
      "metadata": {
        "id": "jkLkR6RrgpIK"
      },
      "source": [
        "df_final.to_csv(\"VIC_ACTUAL_PRED_ELECTRICITY.csv\")"
      ],
      "execution_count": null,
      "outputs": []
    },
    {
      "cell_type": "code",
      "metadata": {
        "id": "y3JvcFVZgpFv",
        "outputId": "489a66e7-7dfb-4910-ed4e-b3946304d0b3",
        "colab": {
          "base_uri": "https://localhost:8080/",
          "height": 35
        }
      },
      "source": [
        "import plotly\n",
        "plotly.__version__"
      ],
      "execution_count": null,
      "outputs": [
        {
          "output_type": "execute_result",
          "data": {
            "application/vnd.google.colaboratory.intrinsic+json": {
              "type": "string"
            },
            "text/plain": [
              "'4.4.1'"
            ]
          },
          "metadata": {
            "tags": []
          },
          "execution_count": 70
        }
=======
     "data": {
      "text/html": [
       "<div>\n",
       "<style scoped>\n",
       "    .dataframe tbody tr th:only-of-type {\n",
       "        vertical-align: middle;\n",
       "    }\n",
       "\n",
       "    .dataframe tbody tr th {\n",
       "        vertical-align: top;\n",
       "    }\n",
       "\n",
       "    .dataframe thead th {\n",
       "        text-align: right;\n",
       "    }\n",
       "</style>\n",
       "<table border=\"1\" class=\"dataframe\">\n",
       "  <thead>\n",
       "    <tr style=\"text-align: right;\">\n",
       "      <th></th>\n",
       "      <th>0</th>\n",
       "      <th>0</th>\n",
       "      <th>1</th>\n",
       "      <th>2</th>\n",
       "    </tr>\n",
       "  </thead>\n",
       "  <tbody>\n",
       "    <tr>\n",
       "      <th>0</th>\n",
       "      <td>0.298023</td>\n",
       "      <td>0.638949</td>\n",
       "      <td>0.402876</td>\n",
       "      <td>0.125000</td>\n",
       "    </tr>\n",
       "    <tr>\n",
       "      <th>1</th>\n",
       "      <td>0.306892</td>\n",
       "      <td>0.627628</td>\n",
       "      <td>0.446788</td>\n",
       "      <td>0.133258</td>\n",
       "    </tr>\n",
       "    <tr>\n",
       "      <th>2</th>\n",
       "      <td>0.310566</td>\n",
       "      <td>0.486253</td>\n",
       "      <td>0.532694</td>\n",
       "      <td>0.231982</td>\n",
       "    </tr>\n",
       "    <tr>\n",
       "      <th>3</th>\n",
       "      <td>0.318811</td>\n",
       "      <td>0.257817</td>\n",
       "      <td>0.670949</td>\n",
       "      <td>0.507508</td>\n",
       "    </tr>\n",
       "    <tr>\n",
       "      <th>4</th>\n",
       "      <td>0.329949</td>\n",
       "      <td>0.265499</td>\n",
       "      <td>0.681879</td>\n",
       "      <td>0.626126</td>\n",
       "    </tr>\n",
       "    <tr>\n",
       "      <th>...</th>\n",
       "      <td>...</td>\n",
       "      <td>...</td>\n",
       "      <td>...</td>\n",
       "      <td>...</td>\n",
       "    </tr>\n",
       "    <tr>\n",
       "      <th>258</th>\n",
       "      <td>0.300318</td>\n",
       "      <td>0.296226</td>\n",
       "      <td>0.635283</td>\n",
       "      <td>0.145646</td>\n",
       "    </tr>\n",
       "    <tr>\n",
       "      <th>259</th>\n",
       "      <td>0.294784</td>\n",
       "      <td>0.171563</td>\n",
       "      <td>0.799041</td>\n",
       "      <td>0.360360</td>\n",
       "    </tr>\n",
       "    <tr>\n",
       "      <th>260</th>\n",
       "      <td>0.297677</td>\n",
       "      <td>0.258625</td>\n",
       "      <td>0.875743</td>\n",
       "      <td>0.162913</td>\n",
       "    </tr>\n",
       "    <tr>\n",
       "      <th>261</th>\n",
       "      <td>0.311159</td>\n",
       "      <td>0.136119</td>\n",
       "      <td>0.968936</td>\n",
       "      <td>0.634384</td>\n",
       "    </tr>\n",
       "    <tr>\n",
       "      <th>262</th>\n",
       "      <td>0.333476</td>\n",
       "      <td>0.380458</td>\n",
       "      <td>0.488782</td>\n",
       "      <td>0.353604</td>\n",
       "    </tr>\n",
       "  </tbody>\n",
       "</table>\n",
       "<p>263 rows × 4 columns</p>\n",
       "</div>"
      ],
      "text/plain": [
       "            0         0         1         2\n",
       "0    0.298023  0.638949  0.402876  0.125000\n",
       "1    0.306892  0.627628  0.446788  0.133258\n",
       "2    0.310566  0.486253  0.532694  0.231982\n",
       "3    0.318811  0.257817  0.670949  0.507508\n",
       "4    0.329949  0.265499  0.681879  0.626126\n",
       "..        ...       ...       ...       ...\n",
       "258  0.300318  0.296226  0.635283  0.145646\n",
       "259  0.294784  0.171563  0.799041  0.360360\n",
       "260  0.297677  0.258625  0.875743  0.162913\n",
       "261  0.311159  0.136119  0.968936  0.634384\n",
       "262  0.333476  0.380458  0.488782  0.353604\n",
       "\n",
       "[263 rows x 4 columns]"
>>>>>>> Stashed changes
      ]
     },
     "execution_count": 66,
     "metadata": {
      "tags": []
     },
     "output_type": "execute_result"
    }
   ],
   "source": [
    "df_pred"
   ]
  },
  {
   "cell_type": "code",
   "execution_count": 67,
   "metadata": {
    "id": "JXFFpUE0u7Zv"
   },
   "outputs": [],
   "source": [
    "rev_trans = scaler.inverse_transform(df_pred)"
   ]
  },
  {
   "cell_type": "code",
   "execution_count": 68,
   "metadata": {
    "colab": {
     "base_uri": "https://localhost:8080/",
     "height": 136
    },
    "id": "b_5b8gmhu7cr",
    "outputId": "6b021d50-e47f-4f50-d674-b3b9a6345300"
   },
   "outputs": [
    {
<<<<<<< Updated upstream
      "cell_type": "code",
      "metadata": {
        "id": "UVvk72omv1R2"
      },
      "source": [
        "t = pd.read_csv(\"2020_pred.csv\")"
      ],
      "execution_count": null,
      "outputs": []
    },
    {
      "cell_type": "code",
      "metadata": {
        "id": "2vbbyfEDHyta",
        "outputId": "3d85e35b-17de-4d9a-cb7f-7a3ea62ed54f",
        "colab": {
          "base_uri": "https://localhost:8080/",
          "height": 450
        }
      },
      "source": [
        "t.set_index(['Date'], inplace=True)\n",
        "t"
      ],
      "execution_count": null,
      "outputs": [
        {
          "output_type": "execute_result",
          "data": {
            "text/html": [
              "<div>\n",
              "<style scoped>\n",
              "    .dataframe tbody tr th:only-of-type {\n",
              "        vertical-align: middle;\n",
              "    }\n",
              "\n",
              "    .dataframe tbody tr th {\n",
              "        vertical-align: top;\n",
              "    }\n",
              "\n",
              "    .dataframe thead th {\n",
              "        text-align: right;\n",
              "    }\n",
              "</style>\n",
              "<table border=\"1\" class=\"dataframe\">\n",
              "  <thead>\n",
              "    <tr style=\"text-align: right;\">\n",
              "      <th></th>\n",
              "      <th>TOTALDEMAND</th>\n",
              "      <th>relative_humidity</th>\n",
              "      <th>avg_temp</th>\n",
              "      <th>ws_avg_50</th>\n",
              "      <th>Energy_pred</th>\n",
              "    </tr>\n",
              "    <tr>\n",
              "      <th>Date</th>\n",
              "      <th></th>\n",
              "      <th></th>\n",
              "      <th></th>\n",
              "      <th></th>\n",
              "      <th></th>\n",
              "    </tr>\n",
              "  </thead>\n",
              "  <tbody>\n",
              "    <tr>\n",
              "      <th>25/1/20</th>\n",
              "      <td>204891.76</td>\n",
              "      <td>59.84</td>\n",
              "      <td>20.180</td>\n",
              "      <td>3.635</td>\n",
              "      <td>206976.7605</td>\n",
              "    </tr>\n",
              "    <tr>\n",
              "      <th>26/1/20</th>\n",
              "      <td>202466.41</td>\n",
              "      <td>70.29</td>\n",
              "      <td>20.365</td>\n",
              "      <td>3.525</td>\n",
              "      <td>209054.3263</td>\n",
              "    </tr>\n",
              "    <tr>\n",
              "      <th>27/1/20</th>\n",
              "      <td>206268.92</td>\n",
              "      <td>66.62</td>\n",
              "      <td>19.210</td>\n",
              "      <td>4.290</td>\n",
              "      <td>211990.2348</td>\n",
              "    </tr>\n",
              "    <tr>\n",
              "      <th>28/1/20</th>\n",
              "      <td>232381.11</td>\n",
              "      <td>62.27</td>\n",
              "      <td>20.035</td>\n",
              "      <td>3.905</td>\n",
              "      <td>214022.0789</td>\n",
              "    </tr>\n",
              "    <tr>\n",
              "      <th>29/1/20</th>\n",
              "      <td>259625.83</td>\n",
              "      <td>55.53</td>\n",
              "      <td>21.695</td>\n",
              "      <td>3.220</td>\n",
              "      <td>221246.2605</td>\n",
              "    </tr>\n",
              "    <tr>\n",
              "      <th>...</th>\n",
              "      <td>...</td>\n",
              "      <td>...</td>\n",
              "      <td>...</td>\n",
              "      <td>...</td>\n",
              "      <td>...</td>\n",
              "    </tr>\n",
              "    <tr>\n",
              "      <th>26/9/20</th>\n",
              "      <td>213389.93</td>\n",
              "      <td>79.42</td>\n",
              "      <td>8.915</td>\n",
              "      <td>9.275</td>\n",
              "      <td>235133.0913</td>\n",
              "    </tr>\n",
              "    <tr>\n",
              "      <th>27/9/20</th>\n",
              "      <td>203406.98</td>\n",
              "      <td>73.18</td>\n",
              "      <td>9.020</td>\n",
              "      <td>5.340</td>\n",
              "      <td>234739.2280</td>\n",
              "    </tr>\n",
              "    <tr>\n",
              "      <th>28/9/20</th>\n",
              "      <td>229302.28</td>\n",
              "      <td>76.44</td>\n",
              "      <td>9.050</td>\n",
              "      <td>3.815</td>\n",
              "      <td>234715.4021</td>\n",
              "    </tr>\n",
              "    <tr>\n",
              "      <th>29/9/20</th>\n",
              "      <td>224152.92</td>\n",
              "      <td>73.76</td>\n",
              "      <td>10.990</td>\n",
              "      <td>5.915</td>\n",
              "      <td>237374.3614</td>\n",
              "    </tr>\n",
              "    <tr>\n",
              "      <th>30/9/20</th>\n",
              "      <td>227240.42</td>\n",
              "      <td>85.22</td>\n",
              "      <td>13.040</td>\n",
              "      <td>8.895</td>\n",
              "      <td>237615.7372</td>\n",
              "    </tr>\n",
              "  </tbody>\n",
              "</table>\n",
              "<p>250 rows × 5 columns</p>\n",
              "</div>"
            ],
            "text/plain": [
              "         TOTALDEMAND  relative_humidity  avg_temp  ws_avg_50  Energy_pred\n",
              "Date                                                                     \n",
              "25/1/20    204891.76              59.84    20.180      3.635  206976.7605\n",
              "26/1/20    202466.41              70.29    20.365      3.525  209054.3263\n",
              "27/1/20    206268.92              66.62    19.210      4.290  211990.2348\n",
              "28/1/20    232381.11              62.27    20.035      3.905  214022.0789\n",
              "29/1/20    259625.83              55.53    21.695      3.220  221246.2605\n",
              "...              ...                ...       ...        ...          ...\n",
              "26/9/20    213389.93              79.42     8.915      9.275  235133.0913\n",
              "27/9/20    203406.98              73.18     9.020      5.340  234739.2280\n",
              "28/9/20    229302.28              76.44     9.050      3.815  234715.4021\n",
              "29/9/20    224152.92              73.76    10.990      5.915  237374.3614\n",
              "30/9/20    227240.42              85.22    13.040      8.895  237615.7372\n",
              "\n",
              "[250 rows x 5 columns]"
            ]
          },
          "metadata": {
            "tags": []
          },
          "execution_count": 59
        }
=======
     "data": {
      "text/plain": [
       "array([[2.20137643e+05, 7.14500000e+01, 1.55150000e+01, 2.88500000e+00],\n",
       "       [2.21624194e+05, 7.06100000e+01, 1.66600000e+01, 2.99500000e+00],\n",
       "       [2.22239910e+05, 6.01200000e+01, 1.89000000e+01, 4.31000000e+00],\n",
       "       ...,\n",
       "       [2.20079682e+05, 4.32300000e+01, 2.78450000e+01, 3.39000000e+00],\n",
       "       [2.22339223e+05, 3.41400000e+01, 3.02750000e+01, 9.67000000e+00],\n",
       "       [2.26079582e+05, 5.22700000e+01, 1.77550000e+01, 5.93000000e+00]])"
>>>>>>> Stashed changes
      ]
     },
     "execution_count": 68,
     "metadata": {
      "tags": []
     },
     "output_type": "execute_result"
    }
   ],
   "source": [
    "rev_trans"
   ]
  },
  {
   "cell_type": "code",
   "execution_count": 70,
   "metadata": {
    "id": "zc5-Wphru7f0"
   },
   "outputs": [],
   "source": [
    "df_final=ts19[predictions.shape[0]*-1:]"
   ]
  },
  {
   "cell_type": "code",
   "execution_count": 71,
   "metadata": {
    "colab": {
     "base_uri": "https://localhost:8080/",
     "height": 102
    },
    "id": "scbDDOGtv0_c",
    "outputId": "a70bdbc6-2b98-41ec-9d2c-2752e2cb9433"
   },
   "outputs": [
    {
<<<<<<< Updated upstream
      "cell_type": "code",
      "metadata": {
        "id": "2o9qo7XfHsMS",
        "outputId": "83fc959b-8c69-43d3-dfc1-a4ca3218e76e",
        "colab": {
          "base_uri": "https://localhost:8080/",
          "height": 296
        }
      },
      "source": [
        "t[['TOTALDEMAND','Energy_pred']].plot()"
      ],
      "execution_count": null,
      "outputs": [
        {
          "output_type": "execute_result",
          "data": {
            "text/plain": [
              "<matplotlib.axes._subplots.AxesSubplot at 0x7f92150ecc18>"
            ]
          },
          "metadata": {
            "tags": []
          },
          "execution_count": 60
        },
        {
          "output_type": "display_data",
          "data": {
            "image/png": "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\n",
            "text/plain": [
              "<Figure size 432x288 with 1 Axes>"
            ]
          },
          "metadata": {
            "tags": [],
            "needs_background": "light"
          }
        }
=======
     "data": {
      "text/plain": [
       "TOTALDEMAND          263\n",
       "relative_humidity    263\n",
       "avg_temp             263\n",
       "ws_avg_50            263\n",
       "dtype: int64"
>>>>>>> Stashed changes
      ]
     },
     "execution_count": 71,
     "metadata": {
      "tags": []
     },
     "output_type": "execute_result"
    }
   ],
   "source": [
    "df_final.count()"
   ]
  },
  {
   "cell_type": "code",
   "execution_count": 73,
   "metadata": {
    "colab": {
     "base_uri": "https://localhost:8080/",
     "height": 139
    },
    "id": "SfZWeI2-v1CQ",
    "outputId": "cb694553-98b8-4442-f1f2-a432ff4bdd64"
   },
   "outputs": [
    {
<<<<<<< Updated upstream
      "cell_type": "markdown",
      "metadata": {
        "id": "TDGD3W82l5yH"
      },
      "source": [
        "**##### ANOTHER MODEL #####**"
=======
     "name": "stderr",
     "output_type": "stream",
     "text": [
      "/usr/local/lib/python3.6/dist-packages/ipykernel_launcher.py:1: SettingWithCopyWarning: \n",
      "A value is trying to be set on a copy of a slice from a DataFrame.\n",
      "Try using .loc[row_indexer,col_indexer] = value instead\n",
      "\n",
      "See the caveats in the documentation: https://pandas.pydata.org/pandas-docs/stable/user_guide/indexing.html#returning-a-view-versus-a-copy\n",
      "  \"\"\"Entry point for launching an IPython kernel.\n"
     ]
    }
   ],
   "source": [
    "df_final['Energy_pred'] = rev_trans[:,0]"
   ]
  },
  {
   "cell_type": "code",
   "execution_count": 74,
   "metadata": {
    "colab": {
     "base_uri": "https://localhost:8080/",
     "height": 68
    },
    "id": "a2Rwa2z4v1FK",
    "outputId": "1ffc71d9-c3c1-4f0f-f3cd-164451172f3a"
   },
   "outputs": [
    {
     "data": {
      "text/plain": [
       "Index(['TOTALDEMAND', 'relative_humidity', 'avg_temp', 'ws_avg_50',\n",
       "       'Energy_pred'],\n",
       "      dtype='object')"
>>>>>>> Stashed changes
      ]
     },
     "execution_count": 74,
     "metadata": {
      "tags": []
     },
     "output_type": "execute_result"
    }
   ],
   "source": [
    "df_final.columns"
   ]
  },
  {
   "cell_type": "code",
   "execution_count": 75,
   "metadata": {
    "colab": {
     "base_uri": "https://localhost:8080/",
     "height": 450
    },
    "id": "u76FX3CDv1KN",
    "outputId": "cae6727b-612e-4470-b4bd-04f893a510ea"
   },
   "outputs": [
    {
<<<<<<< Updated upstream
      "cell_type": "code",
      "metadata": {
        "id": "MuSXLBvwqYwC"
      },
      "source": [
        "import numpy as np\n",
        "import pandas as pd\n",
        "import matplotlib.pyplot as plt\n",
        "import datetime as dt\n",
        "from datetime import datetime\n",
        "\n",
        "from keras.callbacks import EarlyStopping, ReduceLROnPlateau, ModelCheckpoint, TensorBoard\n",
        "\n",
        "%matplotlib inline"
      ],
      "execution_count": null,
      "outputs": []
    },
    {
      "cell_type": "code",
      "metadata": {
        "id": "0ndA-bvPvBcb"
      },
      "source": [
        "#Reading the dataset\n",
        "\n",
        "data = pd.read_csv('u_fulldata_vic.csv',\n",
        "                  parse_dates = True,\n",
        "                  low_memory = False)"
      ],
      "execution_count": null,
      "outputs": []
    },
    {
      "cell_type": "code",
      "metadata": {
        "id": "XXMODFX_vBgg",
        "outputId": "21f4b29a-9f7e-4bff-8d0d-b26c66a06c55",
        "colab": {
          "base_uri": "https://localhost:8080/",
          "height": 411
        }
      },
      "source": [
        "#printing top rows\n",
        "\n",
        "data.head()"
      ],
      "execution_count": null,
      "outputs": [
        {
          "output_type": "execute_result",
          "data": {
            "text/html": [
              "<div>\n",
              "<style scoped>\n",
              "    .dataframe tbody tr th:only-of-type {\n",
              "        vertical-align: middle;\n",
              "    }\n",
              "\n",
              "    .dataframe tbody tr th {\n",
              "        vertical-align: top;\n",
              "    }\n",
              "\n",
              "    .dataframe thead th {\n",
              "        text-align: right;\n",
              "    }\n",
              "</style>\n",
              "<table border=\"1\" class=\"dataframe\">\n",
              "  <thead>\n",
              "    <tr style=\"text-align: right;\">\n",
              "      <th></th>\n",
              "      <th>Month</th>\n",
              "      <th>Day</th>\n",
              "      <th>TOTALDEMAND</th>\n",
              "      <th>YEAR</th>\n",
              "      <th>Date</th>\n",
              "      <th>relative_humidity</th>\n",
              "      <th>dew_temp</th>\n",
              "      <th>max_temp</th>\n",
              "      <th>min_temp</th>\n",
              "      <th>temp2m</th>\n",
              "      <th>WS50M_MIN</th>\n",
              "      <th>WS10M_MIN</th>\n",
              "      <th>WS50M_MAX</th>\n",
              "      <th>WS10M_MAX</th>\n",
              "      <th>WS50M</th>\n",
              "      <th>WS10M</th>\n",
              "      <th>avg_temp</th>\n",
              "      <th>ws_avg_50</th>\n",
              "      <th>ws_avg_10</th>\n",
              "      <th>Unnamed: 19</th>\n",
              "    </tr>\n",
              "  </thead>\n",
              "  <tbody>\n",
              "    <tr>\n",
              "      <th>0</th>\n",
              "      <td>1</td>\n",
              "      <td>1</td>\n",
              "      <td>226550.31</td>\n",
              "      <td>2016</td>\n",
              "      <td>01-01-2016</td>\n",
              "      <td>56.49</td>\n",
              "      <td>12.69</td>\n",
              "      <td>27.74</td>\n",
              "      <td>15.97</td>\n",
              "      <td>21.87</td>\n",
              "      <td>1.63</td>\n",
              "      <td>1.09</td>\n",
              "      <td>6.98</td>\n",
              "      <td>5.98</td>\n",
              "      <td>4.48</td>\n",
              "      <td>3.60</td>\n",
              "      <td>21.855</td>\n",
              "      <td>4.305</td>\n",
              "      <td>3.535</td>\n",
              "      <td>NaN</td>\n",
              "    </tr>\n",
              "    <tr>\n",
              "      <th>1</th>\n",
              "      <td>1</td>\n",
              "      <td>2</td>\n",
              "      <td>199245.28</td>\n",
              "      <td>2016</td>\n",
              "      <td>02-01-2016</td>\n",
              "      <td>66.32</td>\n",
              "      <td>12.94</td>\n",
              "      <td>26.07</td>\n",
              "      <td>14.76</td>\n",
              "      <td>19.40</td>\n",
              "      <td>4.69</td>\n",
              "      <td>4.19</td>\n",
              "      <td>9.66</td>\n",
              "      <td>8.12</td>\n",
              "      <td>7.04</td>\n",
              "      <td>5.80</td>\n",
              "      <td>20.415</td>\n",
              "      <td>7.175</td>\n",
              "      <td>6.155</td>\n",
              "      <td>NaN</td>\n",
              "    </tr>\n",
              "    <tr>\n",
              "      <th>2</th>\n",
              "      <td>1</td>\n",
              "      <td>3</td>\n",
              "      <td>195312.89</td>\n",
              "      <td>2016</td>\n",
              "      <td>03-01-2016</td>\n",
              "      <td>71.23</td>\n",
              "      <td>13.13</td>\n",
              "      <td>22.40</td>\n",
              "      <td>15.35</td>\n",
              "      <td>18.41</td>\n",
              "      <td>5.58</td>\n",
              "      <td>3.55</td>\n",
              "      <td>7.79</td>\n",
              "      <td>6.27</td>\n",
              "      <td>6.92</td>\n",
              "      <td>5.35</td>\n",
              "      <td>18.875</td>\n",
              "      <td>6.685</td>\n",
              "      <td>4.910</td>\n",
              "      <td>NaN</td>\n",
              "    </tr>\n",
              "    <tr>\n",
              "      <th>3</th>\n",
              "      <td>1</td>\n",
              "      <td>4</td>\n",
              "      <td>221865.01</td>\n",
              "      <td>2016</td>\n",
              "      <td>04-01-2016</td>\n",
              "      <td>75.53</td>\n",
              "      <td>13.78</td>\n",
              "      <td>21.67</td>\n",
              "      <td>15.31</td>\n",
              "      <td>18.16</td>\n",
              "      <td>3.91</td>\n",
              "      <td>3.01</td>\n",
              "      <td>7.76</td>\n",
              "      <td>5.58</td>\n",
              "      <td>5.39</td>\n",
              "      <td>4.07</td>\n",
              "      <td>18.490</td>\n",
              "      <td>5.835</td>\n",
              "      <td>4.295</td>\n",
              "      <td>NaN</td>\n",
              "    </tr>\n",
              "    <tr>\n",
              "      <th>4</th>\n",
              "      <td>1</td>\n",
              "      <td>5</td>\n",
              "      <td>235747.16</td>\n",
              "      <td>2016</td>\n",
              "      <td>05-01-2016</td>\n",
              "      <td>68.87</td>\n",
              "      <td>13.47</td>\n",
              "      <td>24.57</td>\n",
              "      <td>13.86</td>\n",
              "      <td>19.37</td>\n",
              "      <td>0.63</td>\n",
              "      <td>0.71</td>\n",
              "      <td>5.34</td>\n",
              "      <td>3.24</td>\n",
              "      <td>3.29</td>\n",
              "      <td>2.33</td>\n",
              "      <td>19.215</td>\n",
              "      <td>2.985</td>\n",
              "      <td>1.975</td>\n",
              "      <td>NaN</td>\n",
              "    </tr>\n",
              "  </tbody>\n",
              "</table>\n",
              "</div>"
            ],
            "text/plain": [
              "   Month  Day  TOTALDEMAND  YEAR  ... avg_temp  ws_avg_50  ws_avg_10  Unnamed: 19\n",
              "0      1    1    226550.31  2016  ...   21.855      4.305      3.535          NaN\n",
              "1      1    2    199245.28  2016  ...   20.415      7.175      6.155          NaN\n",
              "2      1    3    195312.89  2016  ...   18.875      6.685      4.910          NaN\n",
              "3      1    4    221865.01  2016  ...   18.490      5.835      4.295          NaN\n",
              "4      1    5    235747.16  2016  ...   19.215      2.985      1.975          NaN\n",
              "\n",
              "[5 rows x 20 columns]"
            ]
          },
          "metadata": {
            "tags": []
          },
          "execution_count": 287
        }
=======
     "data": {
      "text/html": [
       "<div>\n",
       "<style scoped>\n",
       "    .dataframe tbody tr th:only-of-type {\n",
       "        vertical-align: middle;\n",
       "    }\n",
       "\n",
       "    .dataframe tbody tr th {\n",
       "        vertical-align: top;\n",
       "    }\n",
       "\n",
       "    .dataframe thead th {\n",
       "        text-align: right;\n",
       "    }\n",
       "</style>\n",
       "<table border=\"1\" class=\"dataframe\">\n",
       "  <thead>\n",
       "    <tr style=\"text-align: right;\">\n",
       "      <th></th>\n",
       "      <th>TOTALDEMAND</th>\n",
       "      <th>relative_humidity</th>\n",
       "      <th>avg_temp</th>\n",
       "      <th>ws_avg_50</th>\n",
       "      <th>Energy_pred</th>\n",
       "    </tr>\n",
       "    <tr>\n",
       "      <th>Date</th>\n",
       "      <th></th>\n",
       "      <th></th>\n",
       "      <th></th>\n",
       "      <th></th>\n",
       "      <th></th>\n",
       "    </tr>\n",
       "  </thead>\n",
       "  <tbody>\n",
       "    <tr>\n",
       "      <th>2019-04-13</th>\n",
       "      <td>211927.11</td>\n",
       "      <td>71.45</td>\n",
       "      <td>15.515</td>\n",
       "      <td>2.885</td>\n",
       "      <td>220137.642545</td>\n",
       "    </tr>\n",
       "    <tr>\n",
       "      <th>2019-04-14</th>\n",
       "      <td>197360.00</td>\n",
       "      <td>70.61</td>\n",
       "      <td>16.660</td>\n",
       "      <td>2.995</td>\n",
       "      <td>221624.193894</td>\n",
       "    </tr>\n",
       "    <tr>\n",
       "      <th>2019-04-15</th>\n",
       "      <td>228389.91</td>\n",
       "      <td>60.12</td>\n",
       "      <td>18.900</td>\n",
       "      <td>4.310</td>\n",
       "      <td>222239.909883</td>\n",
       "    </tr>\n",
       "    <tr>\n",
       "      <th>2019-04-16</th>\n",
       "      <td>230785.75</td>\n",
       "      <td>43.17</td>\n",
       "      <td>22.505</td>\n",
       "      <td>7.980</td>\n",
       "      <td>223621.853099</td>\n",
       "    </tr>\n",
       "    <tr>\n",
       "      <th>2019-04-17</th>\n",
       "      <td>234562.26</td>\n",
       "      <td>43.74</td>\n",
       "      <td>22.790</td>\n",
       "      <td>9.560</td>\n",
       "      <td>225488.546098</td>\n",
       "    </tr>\n",
       "    <tr>\n",
       "      <th>...</th>\n",
       "      <td>...</td>\n",
       "      <td>...</td>\n",
       "      <td>...</td>\n",
       "      <td>...</td>\n",
       "      <td>...</td>\n",
       "    </tr>\n",
       "    <tr>\n",
       "      <th>2019-12-27</th>\n",
       "      <td>214512.13</td>\n",
       "      <td>46.02</td>\n",
       "      <td>21.575</td>\n",
       "      <td>3.160</td>\n",
       "      <td>220522.339541</td>\n",
       "    </tr>\n",
       "    <tr>\n",
       "      <th>2019-12-28</th>\n",
       "      <td>227043.37</td>\n",
       "      <td>36.77</td>\n",
       "      <td>25.845</td>\n",
       "      <td>6.020</td>\n",
       "      <td>219594.897010</td>\n",
       "    </tr>\n",
       "    <tr>\n",
       "      <th>2019-12-29</th>\n",
       "      <td>236587.05</td>\n",
       "      <td>43.23</td>\n",
       "      <td>27.845</td>\n",
       "      <td>3.390</td>\n",
       "      <td>220079.681758</td>\n",
       "    </tr>\n",
       "    <tr>\n",
       "      <th>2019-12-30</th>\n",
       "      <td>280820.25</td>\n",
       "      <td>34.14</td>\n",
       "      <td>30.275</td>\n",
       "      <td>9.670</td>\n",
       "      <td>222339.223425</td>\n",
       "    </tr>\n",
       "    <tr>\n",
       "      <th>2019-12-31</th>\n",
       "      <td>190820.78</td>\n",
       "      <td>52.27</td>\n",
       "      <td>17.755</td>\n",
       "      <td>5.930</td>\n",
       "      <td>226079.582299</td>\n",
       "    </tr>\n",
       "  </tbody>\n",
       "</table>\n",
       "<p>263 rows × 5 columns</p>\n",
       "</div>"
      ],
      "text/plain": [
       "            TOTALDEMAND  relative_humidity  avg_temp  ws_avg_50    Energy_pred\n",
       "Date                                                                          \n",
       "2019-04-13    211927.11              71.45    15.515      2.885  220137.642545\n",
       "2019-04-14    197360.00              70.61    16.660      2.995  221624.193894\n",
       "2019-04-15    228389.91              60.12    18.900      4.310  222239.909883\n",
       "2019-04-16    230785.75              43.17    22.505      7.980  223621.853099\n",
       "2019-04-17    234562.26              43.74    22.790      9.560  225488.546098\n",
       "...                 ...                ...       ...        ...            ...\n",
       "2019-12-27    214512.13              46.02    21.575      3.160  220522.339541\n",
       "2019-12-28    227043.37              36.77    25.845      6.020  219594.897010\n",
       "2019-12-29    236587.05              43.23    27.845      3.390  220079.681758\n",
       "2019-12-30    280820.25              34.14    30.275      9.670  222339.223425\n",
       "2019-12-31    190820.78              52.27    17.755      5.930  226079.582299\n",
       "\n",
       "[263 rows x 5 columns]"
>>>>>>> Stashed changes
      ]
     },
     "execution_count": 75,
     "metadata": {
      "tags": []
     },
     "output_type": "execute_result"
    }
   ],
   "source": [
    "df_final"
   ]
  },
  {
   "cell_type": "code",
   "execution_count": 76,
   "metadata": {
    "colab": {
     "base_uri": "https://localhost:8080/",
     "height": 294
    },
    "id": "a0Liv7RAv1Mw",
    "outputId": "732646b8-7ee5-4c25-961d-3649ce2d1eef"
   },
   "outputs": [
    {
<<<<<<< Updated upstream
      "cell_type": "code",
      "metadata": {
        "id": "nEkSgOK_vBlX",
        "outputId": "6ca56b4a-b23e-4d8f-b9a1-6bc62ca6b0ca",
        "colab": {
          "base_uri": "https://localhost:8080/",
          "height": 476
        }
      },
      "source": [
        "data.info()"
      ],
      "execution_count": null,
      "outputs": [
        {
          "output_type": "stream",
          "text": [
            "<class 'pandas.core.frame.DataFrame'>\n",
            "RangeIndex: 1461 entries, 0 to 1460\n",
            "Data columns (total 20 columns):\n",
            " #   Column             Non-Null Count  Dtype  \n",
            "---  ------             --------------  -----  \n",
            " 0   Month              1461 non-null   int64  \n",
            " 1   Day                1461 non-null   int64  \n",
            " 2   TOTALDEMAND        1461 non-null   float64\n",
            " 3   YEAR               1461 non-null   int64  \n",
            " 4   Date               1461 non-null   object \n",
            " 5   relative_humidity  1461 non-null   float64\n",
            " 6   dew_temp           1461 non-null   float64\n",
            " 7   max_temp           1461 non-null   float64\n",
            " 8   min_temp           1461 non-null   float64\n",
            " 9   temp2m             1461 non-null   float64\n",
            " 10  WS50M_MIN          1461 non-null   float64\n",
            " 11  WS10M_MIN          1461 non-null   float64\n",
            " 12  WS50M_MAX          1461 non-null   float64\n",
            " 13  WS10M_MAX          1461 non-null   float64\n",
            " 14  WS50M              1461 non-null   float64\n",
            " 15  WS10M              1461 non-null   float64\n",
            " 16  avg_temp           1461 non-null   float64\n",
            " 17  ws_avg_50          1461 non-null   float64\n",
            " 18  ws_avg_10          1461 non-null   float64\n",
            " 19  Unnamed: 19        365 non-null    object \n",
            "dtypes: float64(15), int64(3), object(2)\n",
            "memory usage: 228.4+ KB\n"
          ],
          "name": "stdout"
        }
=======
     "data": {
      "text/plain": [
       "<matplotlib.axes._subplots.AxesSubplot at 0x7f65a9dd8e10>"
>>>>>>> Stashed changes
      ]
     },
     "execution_count": 76,
     "metadata": {
      "tags": []
     },
     "output_type": "execute_result"
    },
    {
<<<<<<< Updated upstream
      "cell_type": "code",
      "metadata": {
        "id": "YAscuZtMvBpo"
      },
      "source": [
        "data = data[['TOTALDEMAND',\t'YEAR',\t'Date',\t'relative_humidity',\t'dew_temp', 'avg_temp',\t'ws_avg_50']]"
      ],
      "execution_count": null,
      "outputs": []
    },
    {
      "cell_type": "code",
      "metadata": {
        "id": "xwcuCYZc4pA9"
      },
      "source": [
        "data['Date'] = pd.to_datetime(data['Date'])"
      ],
      "execution_count": null,
      "outputs": []
    },
    {
      "cell_type": "code",
      "metadata": {
        "id": "PlqAAqPS4pEA",
        "outputId": "35ef8885-d749-47eb-c46c-329d2f81a3d5",
        "colab": {
          "base_uri": "https://localhost:8080/",
          "height": 235
        }
      },
      "source": [
        "data.set_index(['Date'], inplace=True)\n",
        "data.head()"
      ],
      "execution_count": null,
      "outputs": [
        {
          "output_type": "execute_result",
          "data": {
            "text/html": [
              "<div>\n",
              "<style scoped>\n",
              "    .dataframe tbody tr th:only-of-type {\n",
              "        vertical-align: middle;\n",
              "    }\n",
              "\n",
              "    .dataframe tbody tr th {\n",
              "        vertical-align: top;\n",
              "    }\n",
              "\n",
              "    .dataframe thead th {\n",
              "        text-align: right;\n",
              "    }\n",
              "</style>\n",
              "<table border=\"1\" class=\"dataframe\">\n",
              "  <thead>\n",
              "    <tr style=\"text-align: right;\">\n",
              "      <th></th>\n",
              "      <th>TOTALDEMAND</th>\n",
              "      <th>YEAR</th>\n",
              "      <th>relative_humidity</th>\n",
              "      <th>dew_temp</th>\n",
              "      <th>avg_temp</th>\n",
              "      <th>ws_avg_50</th>\n",
              "    </tr>\n",
              "    <tr>\n",
              "      <th>Date</th>\n",
              "      <th></th>\n",
              "      <th></th>\n",
              "      <th></th>\n",
              "      <th></th>\n",
              "      <th></th>\n",
              "      <th></th>\n",
              "    </tr>\n",
              "  </thead>\n",
              "  <tbody>\n",
              "    <tr>\n",
              "      <th>2016-01-01</th>\n",
              "      <td>226550.31</td>\n",
              "      <td>2016</td>\n",
              "      <td>56.49</td>\n",
              "      <td>12.69</td>\n",
              "      <td>21.855</td>\n",
              "      <td>4.305</td>\n",
              "    </tr>\n",
              "    <tr>\n",
              "      <th>2016-02-01</th>\n",
              "      <td>199245.28</td>\n",
              "      <td>2016</td>\n",
              "      <td>66.32</td>\n",
              "      <td>12.94</td>\n",
              "      <td>20.415</td>\n",
              "      <td>7.175</td>\n",
              "    </tr>\n",
              "    <tr>\n",
              "      <th>2016-03-01</th>\n",
              "      <td>195312.89</td>\n",
              "      <td>2016</td>\n",
              "      <td>71.23</td>\n",
              "      <td>13.13</td>\n",
              "      <td>18.875</td>\n",
              "      <td>6.685</td>\n",
              "    </tr>\n",
              "    <tr>\n",
              "      <th>2016-04-01</th>\n",
              "      <td>221865.01</td>\n",
              "      <td>2016</td>\n",
              "      <td>75.53</td>\n",
              "      <td>13.78</td>\n",
              "      <td>18.490</td>\n",
              "      <td>5.835</td>\n",
              "    </tr>\n",
              "    <tr>\n",
              "      <th>2016-05-01</th>\n",
              "      <td>235747.16</td>\n",
              "      <td>2016</td>\n",
              "      <td>68.87</td>\n",
              "      <td>13.47</td>\n",
              "      <td>19.215</td>\n",
              "      <td>2.985</td>\n",
              "    </tr>\n",
              "  </tbody>\n",
              "</table>\n",
              "</div>"
            ],
            "text/plain": [
              "            TOTALDEMAND  YEAR  relative_humidity  dew_temp  avg_temp  ws_avg_50\n",
              "Date                                                                           \n",
              "2016-01-01    226550.31  2016              56.49     12.69    21.855      4.305\n",
              "2016-02-01    199245.28  2016              66.32     12.94    20.415      7.175\n",
              "2016-03-01    195312.89  2016              71.23     13.13    18.875      6.685\n",
              "2016-04-01    221865.01  2016              75.53     13.78    18.490      5.835\n",
              "2016-05-01    235747.16  2016              68.87     13.47    19.215      2.985"
            ]
          },
          "metadata": {
            "tags": []
          },
          "execution_count": 291
        }
=======
     "data": {
      "image/png": "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\n",
      "text/plain": [
       "<Figure size 432x288 with 1 Axes>"
>>>>>>> Stashed changes
      ]
     },
     "metadata": {
      "needs_background": "light",
      "tags": []
     },
     "output_type": "display_data"
    }
   ],
   "source": [
    "df_final[['TOTALDEMAND','Energy_pred']].plot()"
   ]
  },
  {
   "cell_type": "code",
   "execution_count": null,
   "metadata": {
    "id": "UVvk72omv1R2"
   },
   "outputs": [],
   "source": []
  },
  {
   "cell_type": "markdown",
   "metadata": {
    "id": "TDGD3W82l5yH"
   },
   "source": [
    "**##### ANOTHER MODEL #####**"
   ]
  },
  {
   "cell_type": "code",
   "execution_count": 285,
   "metadata": {
    "id": "MuSXLBvwqYwC"
   },
   "outputs": [],
   "source": [
    "import numpy as np\n",
    "import pandas as pd\n",
    "import matplotlib.pyplot as plt\n",
    "import datetime as dt\n",
    "from datetime import datetime\n",
    "\n",
    "from keras.callbacks import EarlyStopping, ReduceLROnPlateau, ModelCheckpoint, TensorBoard\n",
    "\n",
    "%matplotlib inline"
   ]
  },
  {
   "cell_type": "code",
   "execution_count": 286,
   "metadata": {
    "id": "0ndA-bvPvBcb"
   },
   "outputs": [],
   "source": [
    "#Reading the dataset\n",
    "\n",
    "data = pd.read_csv('u_fulldata_vic.csv',\n",
    "                  parse_dates = True,\n",
    "                  low_memory = False)"
   ]
  },
  {
   "cell_type": "code",
   "execution_count": 287,
   "metadata": {
    "colab": {
     "base_uri": "https://localhost:8080/",
     "height": 411
    },
    "id": "XXMODFX_vBgg",
    "outputId": "21f4b29a-9f7e-4bff-8d0d-b26c66a06c55"
   },
   "outputs": [
    {
<<<<<<< Updated upstream
      "cell_type": "code",
      "metadata": {
        "id": "uXGFjVhX4pGI"
      },
      "source": [
        "data = data.drop(['YEAR'],axis=1)"
      ],
      "execution_count": null,
      "outputs": []
    },
    {
      "cell_type": "code",
      "metadata": {
        "id": "9p_VWqf94pJK",
        "outputId": "fa136326-ada2-458e-fef3-d1f51bc3d592",
        "colab": {
          "base_uri": "https://localhost:8080/",
          "height": 235
        }
      },
      "source": [
        "data.head()"
      ],
      "execution_count": null,
      "outputs": [
        {
          "output_type": "execute_result",
          "data": {
            "text/html": [
              "<div>\n",
              "<style scoped>\n",
              "    .dataframe tbody tr th:only-of-type {\n",
              "        vertical-align: middle;\n",
              "    }\n",
              "\n",
              "    .dataframe tbody tr th {\n",
              "        vertical-align: top;\n",
              "    }\n",
              "\n",
              "    .dataframe thead th {\n",
              "        text-align: right;\n",
              "    }\n",
              "</style>\n",
              "<table border=\"1\" class=\"dataframe\">\n",
              "  <thead>\n",
              "    <tr style=\"text-align: right;\">\n",
              "      <th></th>\n",
              "      <th>TOTALDEMAND</th>\n",
              "      <th>relative_humidity</th>\n",
              "      <th>dew_temp</th>\n",
              "      <th>avg_temp</th>\n",
              "      <th>ws_avg_50</th>\n",
              "    </tr>\n",
              "    <tr>\n",
              "      <th>Date</th>\n",
              "      <th></th>\n",
              "      <th></th>\n",
              "      <th></th>\n",
              "      <th></th>\n",
              "      <th></th>\n",
              "    </tr>\n",
              "  </thead>\n",
              "  <tbody>\n",
              "    <tr>\n",
              "      <th>2016-01-01</th>\n",
              "      <td>226550.31</td>\n",
              "      <td>56.49</td>\n",
              "      <td>12.69</td>\n",
              "      <td>21.855</td>\n",
              "      <td>4.305</td>\n",
              "    </tr>\n",
              "    <tr>\n",
              "      <th>2016-02-01</th>\n",
              "      <td>199245.28</td>\n",
              "      <td>66.32</td>\n",
              "      <td>12.94</td>\n",
              "      <td>20.415</td>\n",
              "      <td>7.175</td>\n",
              "    </tr>\n",
              "    <tr>\n",
              "      <th>2016-03-01</th>\n",
              "      <td>195312.89</td>\n",
              "      <td>71.23</td>\n",
              "      <td>13.13</td>\n",
              "      <td>18.875</td>\n",
              "      <td>6.685</td>\n",
              "    </tr>\n",
              "    <tr>\n",
              "      <th>2016-04-01</th>\n",
              "      <td>221865.01</td>\n",
              "      <td>75.53</td>\n",
              "      <td>13.78</td>\n",
              "      <td>18.490</td>\n",
              "      <td>5.835</td>\n",
              "    </tr>\n",
              "    <tr>\n",
              "      <th>2016-05-01</th>\n",
              "      <td>235747.16</td>\n",
              "      <td>68.87</td>\n",
              "      <td>13.47</td>\n",
              "      <td>19.215</td>\n",
              "      <td>2.985</td>\n",
              "    </tr>\n",
              "  </tbody>\n",
              "</table>\n",
              "</div>"
            ],
            "text/plain": [
              "            TOTALDEMAND  relative_humidity  dew_temp  avg_temp  ws_avg_50\n",
              "Date                                                                     \n",
              "2016-01-01    226550.31              56.49     12.69    21.855      4.305\n",
              "2016-02-01    199245.28              66.32     12.94    20.415      7.175\n",
              "2016-03-01    195312.89              71.23     13.13    18.875      6.685\n",
              "2016-04-01    221865.01              75.53     13.78    18.490      5.835\n",
              "2016-05-01    235747.16              68.87     13.47    19.215      2.985"
            ]
          },
          "metadata": {
            "tags": []
          },
          "execution_count": 293
        }
=======
     "data": {
      "text/html": [
       "<div>\n",
       "<style scoped>\n",
       "    .dataframe tbody tr th:only-of-type {\n",
       "        vertical-align: middle;\n",
       "    }\n",
       "\n",
       "    .dataframe tbody tr th {\n",
       "        vertical-align: top;\n",
       "    }\n",
       "\n",
       "    .dataframe thead th {\n",
       "        text-align: right;\n",
       "    }\n",
       "</style>\n",
       "<table border=\"1\" class=\"dataframe\">\n",
       "  <thead>\n",
       "    <tr style=\"text-align: right;\">\n",
       "      <th></th>\n",
       "      <th>Month</th>\n",
       "      <th>Day</th>\n",
       "      <th>TOTALDEMAND</th>\n",
       "      <th>YEAR</th>\n",
       "      <th>Date</th>\n",
       "      <th>relative_humidity</th>\n",
       "      <th>dew_temp</th>\n",
       "      <th>max_temp</th>\n",
       "      <th>min_temp</th>\n",
       "      <th>temp2m</th>\n",
       "      <th>WS50M_MIN</th>\n",
       "      <th>WS10M_MIN</th>\n",
       "      <th>WS50M_MAX</th>\n",
       "      <th>WS10M_MAX</th>\n",
       "      <th>WS50M</th>\n",
       "      <th>WS10M</th>\n",
       "      <th>avg_temp</th>\n",
       "      <th>ws_avg_50</th>\n",
       "      <th>ws_avg_10</th>\n",
       "      <th>Unnamed: 19</th>\n",
       "    </tr>\n",
       "  </thead>\n",
       "  <tbody>\n",
       "    <tr>\n",
       "      <th>0</th>\n",
       "      <td>1</td>\n",
       "      <td>1</td>\n",
       "      <td>226550.31</td>\n",
       "      <td>2016</td>\n",
       "      <td>01-01-2016</td>\n",
       "      <td>56.49</td>\n",
       "      <td>12.69</td>\n",
       "      <td>27.74</td>\n",
       "      <td>15.97</td>\n",
       "      <td>21.87</td>\n",
       "      <td>1.63</td>\n",
       "      <td>1.09</td>\n",
       "      <td>6.98</td>\n",
       "      <td>5.98</td>\n",
       "      <td>4.48</td>\n",
       "      <td>3.60</td>\n",
       "      <td>21.855</td>\n",
       "      <td>4.305</td>\n",
       "      <td>3.535</td>\n",
       "      <td>NaN</td>\n",
       "    </tr>\n",
       "    <tr>\n",
       "      <th>1</th>\n",
       "      <td>1</td>\n",
       "      <td>2</td>\n",
       "      <td>199245.28</td>\n",
       "      <td>2016</td>\n",
       "      <td>02-01-2016</td>\n",
       "      <td>66.32</td>\n",
       "      <td>12.94</td>\n",
       "      <td>26.07</td>\n",
       "      <td>14.76</td>\n",
       "      <td>19.40</td>\n",
       "      <td>4.69</td>\n",
       "      <td>4.19</td>\n",
       "      <td>9.66</td>\n",
       "      <td>8.12</td>\n",
       "      <td>7.04</td>\n",
       "      <td>5.80</td>\n",
       "      <td>20.415</td>\n",
       "      <td>7.175</td>\n",
       "      <td>6.155</td>\n",
       "      <td>NaN</td>\n",
       "    </tr>\n",
       "    <tr>\n",
       "      <th>2</th>\n",
       "      <td>1</td>\n",
       "      <td>3</td>\n",
       "      <td>195312.89</td>\n",
       "      <td>2016</td>\n",
       "      <td>03-01-2016</td>\n",
       "      <td>71.23</td>\n",
       "      <td>13.13</td>\n",
       "      <td>22.40</td>\n",
       "      <td>15.35</td>\n",
       "      <td>18.41</td>\n",
       "      <td>5.58</td>\n",
       "      <td>3.55</td>\n",
       "      <td>7.79</td>\n",
       "      <td>6.27</td>\n",
       "      <td>6.92</td>\n",
       "      <td>5.35</td>\n",
       "      <td>18.875</td>\n",
       "      <td>6.685</td>\n",
       "      <td>4.910</td>\n",
       "      <td>NaN</td>\n",
       "    </tr>\n",
       "    <tr>\n",
       "      <th>3</th>\n",
       "      <td>1</td>\n",
       "      <td>4</td>\n",
       "      <td>221865.01</td>\n",
       "      <td>2016</td>\n",
       "      <td>04-01-2016</td>\n",
       "      <td>75.53</td>\n",
       "      <td>13.78</td>\n",
       "      <td>21.67</td>\n",
       "      <td>15.31</td>\n",
       "      <td>18.16</td>\n",
       "      <td>3.91</td>\n",
       "      <td>3.01</td>\n",
       "      <td>7.76</td>\n",
       "      <td>5.58</td>\n",
       "      <td>5.39</td>\n",
       "      <td>4.07</td>\n",
       "      <td>18.490</td>\n",
       "      <td>5.835</td>\n",
       "      <td>4.295</td>\n",
       "      <td>NaN</td>\n",
       "    </tr>\n",
       "    <tr>\n",
       "      <th>4</th>\n",
       "      <td>1</td>\n",
       "      <td>5</td>\n",
       "      <td>235747.16</td>\n",
       "      <td>2016</td>\n",
       "      <td>05-01-2016</td>\n",
       "      <td>68.87</td>\n",
       "      <td>13.47</td>\n",
       "      <td>24.57</td>\n",
       "      <td>13.86</td>\n",
       "      <td>19.37</td>\n",
       "      <td>0.63</td>\n",
       "      <td>0.71</td>\n",
       "      <td>5.34</td>\n",
       "      <td>3.24</td>\n",
       "      <td>3.29</td>\n",
       "      <td>2.33</td>\n",
       "      <td>19.215</td>\n",
       "      <td>2.985</td>\n",
       "      <td>1.975</td>\n",
       "      <td>NaN</td>\n",
       "    </tr>\n",
       "  </tbody>\n",
       "</table>\n",
       "</div>"
      ],
      "text/plain": [
       "   Month  Day  TOTALDEMAND  YEAR  ... avg_temp  ws_avg_50  ws_avg_10  Unnamed: 19\n",
       "0      1    1    226550.31  2016  ...   21.855      4.305      3.535          NaN\n",
       "1      1    2    199245.28  2016  ...   20.415      7.175      6.155          NaN\n",
       "2      1    3    195312.89  2016  ...   18.875      6.685      4.910          NaN\n",
       "3      1    4    221865.01  2016  ...   18.490      5.835      4.295          NaN\n",
       "4      1    5    235747.16  2016  ...   19.215      2.985      1.975          NaN\n",
       "\n",
       "[5 rows x 20 columns]"
>>>>>>> Stashed changes
      ]
     },
     "execution_count": 287,
     "metadata": {
      "tags": []
     },
     "output_type": "execute_result"
    }
   ],
   "source": [
    "#printing top rows\n",
    "\n",
    "data.head()"
   ]
  },
  {
   "cell_type": "code",
   "execution_count": 288,
   "metadata": {
    "colab": {
     "base_uri": "https://localhost:8080/",
     "height": 476
    },
    "id": "nEkSgOK_vBlX",
    "outputId": "6ca56b4a-b23e-4d8f-b9a1-6bc62ca6b0ca"
   },
   "outputs": [
    {
<<<<<<< Updated upstream
      "cell_type": "code",
      "metadata": {
        "id": "KQioM5x_4pLZ"
      },
      "source": [
        "data = data.astype('float')"
      ],
      "execution_count": null,
      "outputs": []
    },
    {
      "cell_type": "code",
      "metadata": {
        "id": "x-NP8HplvBef",
        "outputId": "e26e702e-b8b5-49d0-bb04-9a0304ebc74c",
        "colab": {
          "base_uri": "https://localhost:8080/",
          "height": 221
        }
      },
      "source": [
        "#information of the dataset\n",
        "\n",
        "data.info()"
      ],
      "execution_count": null,
      "outputs": [
        {
          "output_type": "stream",
          "text": [
            "<class 'pandas.core.frame.DataFrame'>\n",
            "DatetimeIndex: 1461 entries, 2016-01-01 to 2019-12-31\n",
            "Data columns (total 5 columns):\n",
            " #   Column             Non-Null Count  Dtype  \n",
            "---  ------             --------------  -----  \n",
            " 0   TOTALDEMAND        1461 non-null   float64\n",
            " 1   relative_humidity  1461 non-null   float64\n",
            " 2   dew_temp           1461 non-null   float64\n",
            " 3   avg_temp           1461 non-null   float64\n",
            " 4   ws_avg_50          1461 non-null   float64\n",
            "dtypes: float64(5)\n",
            "memory usage: 68.5 KB\n"
          ],
          "name": "stdout"
        }
      ]
=======
     "name": "stdout",
     "output_type": "stream",
     "text": [
      "<class 'pandas.core.frame.DataFrame'>\n",
      "RangeIndex: 1461 entries, 0 to 1460\n",
      "Data columns (total 20 columns):\n",
      " #   Column             Non-Null Count  Dtype  \n",
      "---  ------             --------------  -----  \n",
      " 0   Month              1461 non-null   int64  \n",
      " 1   Day                1461 non-null   int64  \n",
      " 2   TOTALDEMAND        1461 non-null   float64\n",
      " 3   YEAR               1461 non-null   int64  \n",
      " 4   Date               1461 non-null   object \n",
      " 5   relative_humidity  1461 non-null   float64\n",
      " 6   dew_temp           1461 non-null   float64\n",
      " 7   max_temp           1461 non-null   float64\n",
      " 8   min_temp           1461 non-null   float64\n",
      " 9   temp2m             1461 non-null   float64\n",
      " 10  WS50M_MIN          1461 non-null   float64\n",
      " 11  WS10M_MIN          1461 non-null   float64\n",
      " 12  WS50M_MAX          1461 non-null   float64\n",
      " 13  WS10M_MAX          1461 non-null   float64\n",
      " 14  WS50M              1461 non-null   float64\n",
      " 15  WS10M              1461 non-null   float64\n",
      " 16  avg_temp           1461 non-null   float64\n",
      " 17  ws_avg_50          1461 non-null   float64\n",
      " 18  ws_avg_10          1461 non-null   float64\n",
      " 19  Unnamed: 19        365 non-null    object \n",
      "dtypes: float64(15), int64(3), object(2)\n",
      "memory usage: 228.4+ KB\n"
     ]
    }
   ],
   "source": [
    "data.info()"
   ]
  },
  {
   "cell_type": "code",
   "execution_count": 289,
   "metadata": {
    "id": "YAscuZtMvBpo"
   },
   "outputs": [],
   "source": [
    "data = data[['TOTALDEMAND',\t'YEAR',\t'Date',\t'relative_humidity',\t'dew_temp', 'avg_temp',\t'ws_avg_50']]"
   ]
  },
  {
   "cell_type": "code",
   "execution_count": 290,
   "metadata": {
    "id": "xwcuCYZc4pA9"
   },
   "outputs": [],
   "source": [
    "data['Date'] = pd.to_datetime(data['Date'])"
   ]
  },
  {
   "cell_type": "code",
   "execution_count": 291,
   "metadata": {
    "colab": {
     "base_uri": "https://localhost:8080/",
     "height": 235
>>>>>>> Stashed changes
    },
    "id": "PlqAAqPS4pEA",
    "outputId": "35ef8885-d749-47eb-c46c-329d2f81a3d5"
   },
   "outputs": [
    {
     "data": {
      "text/html": [
       "<div>\n",
       "<style scoped>\n",
       "    .dataframe tbody tr th:only-of-type {\n",
       "        vertical-align: middle;\n",
       "    }\n",
       "\n",
       "    .dataframe tbody tr th {\n",
       "        vertical-align: top;\n",
       "    }\n",
       "\n",
       "    .dataframe thead th {\n",
       "        text-align: right;\n",
       "    }\n",
       "</style>\n",
       "<table border=\"1\" class=\"dataframe\">\n",
       "  <thead>\n",
       "    <tr style=\"text-align: right;\">\n",
       "      <th></th>\n",
       "      <th>TOTALDEMAND</th>\n",
       "      <th>YEAR</th>\n",
       "      <th>relative_humidity</th>\n",
       "      <th>dew_temp</th>\n",
       "      <th>avg_temp</th>\n",
       "      <th>ws_avg_50</th>\n",
       "    </tr>\n",
       "    <tr>\n",
       "      <th>Date</th>\n",
       "      <th></th>\n",
       "      <th></th>\n",
       "      <th></th>\n",
       "      <th></th>\n",
       "      <th></th>\n",
       "      <th></th>\n",
       "    </tr>\n",
       "  </thead>\n",
       "  <tbody>\n",
       "    <tr>\n",
       "      <th>2016-01-01</th>\n",
       "      <td>226550.31</td>\n",
       "      <td>2016</td>\n",
       "      <td>56.49</td>\n",
       "      <td>12.69</td>\n",
       "      <td>21.855</td>\n",
       "      <td>4.305</td>\n",
       "    </tr>\n",
       "    <tr>\n",
       "      <th>2016-02-01</th>\n",
       "      <td>199245.28</td>\n",
       "      <td>2016</td>\n",
       "      <td>66.32</td>\n",
       "      <td>12.94</td>\n",
       "      <td>20.415</td>\n",
       "      <td>7.175</td>\n",
       "    </tr>\n",
       "    <tr>\n",
       "      <th>2016-03-01</th>\n",
       "      <td>195312.89</td>\n",
       "      <td>2016</td>\n",
       "      <td>71.23</td>\n",
       "      <td>13.13</td>\n",
       "      <td>18.875</td>\n",
       "      <td>6.685</td>\n",
       "    </tr>\n",
       "    <tr>\n",
       "      <th>2016-04-01</th>\n",
       "      <td>221865.01</td>\n",
       "      <td>2016</td>\n",
       "      <td>75.53</td>\n",
       "      <td>13.78</td>\n",
       "      <td>18.490</td>\n",
       "      <td>5.835</td>\n",
       "    </tr>\n",
       "    <tr>\n",
       "      <th>2016-05-01</th>\n",
       "      <td>235747.16</td>\n",
       "      <td>2016</td>\n",
       "      <td>68.87</td>\n",
       "      <td>13.47</td>\n",
       "      <td>19.215</td>\n",
       "      <td>2.985</td>\n",
       "    </tr>\n",
       "  </tbody>\n",
       "</table>\n",
       "</div>"
      ],
<<<<<<< Updated upstream
      "execution_count": null,
      "outputs": [
        {
          "output_type": "execute_result",
          "data": {
            "text/plain": [
              "TOTALDEMAND          0\n",
              "relative_humidity    0\n",
              "dew_temp             0\n",
              "avg_temp             0\n",
              "ws_avg_50            0\n",
              "dtype: int64"
            ]
          },
          "metadata": {
            "tags": []
          },
          "execution_count": 296
        }
=======
      "text/plain": [
       "            TOTALDEMAND  YEAR  relative_humidity  dew_temp  avg_temp  ws_avg_50\n",
       "Date                                                                           \n",
       "2016-01-01    226550.31  2016              56.49     12.69    21.855      4.305\n",
       "2016-02-01    199245.28  2016              66.32     12.94    20.415      7.175\n",
       "2016-03-01    195312.89  2016              71.23     13.13    18.875      6.685\n",
       "2016-04-01    221865.01  2016              75.53     13.78    18.490      5.835\n",
       "2016-05-01    235747.16  2016              68.87     13.47    19.215      2.985"
>>>>>>> Stashed changes
      ]
     },
     "execution_count": 291,
     "metadata": {
      "tags": []
     },
     "output_type": "execute_result"
    }
   ],
   "source": [
    "data.set_index(['Date'], inplace=True)\n",
    "data.head()"
   ]
  },
  {
   "cell_type": "code",
   "execution_count": 292,
   "metadata": {
    "id": "uXGFjVhX4pGI"
   },
   "outputs": [],
   "source": [
    "data = data.drop(['YEAR'],axis=1)"
   ]
  },
  {
   "cell_type": "code",
   "execution_count": 293,
   "metadata": {
    "colab": {
     "base_uri": "https://localhost:8080/",
     "height": 235
    },
    "id": "9p_VWqf94pJK",
    "outputId": "fa136326-ada2-458e-fef3-d1f51bc3d592"
   },
   "outputs": [
    {
     "data": {
      "text/html": [
       "<div>\n",
       "<style scoped>\n",
       "    .dataframe tbody tr th:only-of-type {\n",
       "        vertical-align: middle;\n",
       "    }\n",
       "\n",
       "    .dataframe tbody tr th {\n",
       "        vertical-align: top;\n",
       "    }\n",
       "\n",
       "    .dataframe thead th {\n",
       "        text-align: right;\n",
       "    }\n",
       "</style>\n",
       "<table border=\"1\" class=\"dataframe\">\n",
       "  <thead>\n",
       "    <tr style=\"text-align: right;\">\n",
       "      <th></th>\n",
       "      <th>TOTALDEMAND</th>\n",
       "      <th>relative_humidity</th>\n",
       "      <th>dew_temp</th>\n",
       "      <th>avg_temp</th>\n",
       "      <th>ws_avg_50</th>\n",
       "    </tr>\n",
       "    <tr>\n",
       "      <th>Date</th>\n",
       "      <th></th>\n",
       "      <th></th>\n",
       "      <th></th>\n",
       "      <th></th>\n",
       "      <th></th>\n",
       "    </tr>\n",
       "  </thead>\n",
       "  <tbody>\n",
       "    <tr>\n",
       "      <th>2016-01-01</th>\n",
       "      <td>226550.31</td>\n",
       "      <td>56.49</td>\n",
       "      <td>12.69</td>\n",
       "      <td>21.855</td>\n",
       "      <td>4.305</td>\n",
       "    </tr>\n",
       "    <tr>\n",
       "      <th>2016-02-01</th>\n",
       "      <td>199245.28</td>\n",
       "      <td>66.32</td>\n",
       "      <td>12.94</td>\n",
       "      <td>20.415</td>\n",
       "      <td>7.175</td>\n",
       "    </tr>\n",
       "    <tr>\n",
       "      <th>2016-03-01</th>\n",
       "      <td>195312.89</td>\n",
       "      <td>71.23</td>\n",
       "      <td>13.13</td>\n",
       "      <td>18.875</td>\n",
       "      <td>6.685</td>\n",
       "    </tr>\n",
       "    <tr>\n",
       "      <th>2016-04-01</th>\n",
       "      <td>221865.01</td>\n",
       "      <td>75.53</td>\n",
       "      <td>13.78</td>\n",
       "      <td>18.490</td>\n",
       "      <td>5.835</td>\n",
       "    </tr>\n",
       "    <tr>\n",
       "      <th>2016-05-01</th>\n",
       "      <td>235747.16</td>\n",
       "      <td>68.87</td>\n",
       "      <td>13.47</td>\n",
       "      <td>19.215</td>\n",
       "      <td>2.985</td>\n",
       "    </tr>\n",
       "  </tbody>\n",
       "</table>\n",
       "</div>"
      ],
<<<<<<< Updated upstream
      "execution_count": null,
      "outputs": [
        {
          "output_type": "execute_result",
          "data": {
            "text/plain": [
              "(1461, 5)"
            ]
          },
          "metadata": {
            "tags": []
          },
          "execution_count": 297
        }
=======
      "text/plain": [
       "            TOTALDEMAND  relative_humidity  dew_temp  avg_temp  ws_avg_50\n",
       "Date                                                                     \n",
       "2016-01-01    226550.31              56.49     12.69    21.855      4.305\n",
       "2016-02-01    199245.28              66.32     12.94    20.415      7.175\n",
       "2016-03-01    195312.89              71.23     13.13    18.875      6.685\n",
       "2016-04-01    221865.01              75.53     13.78    18.490      5.835\n",
       "2016-05-01    235747.16              68.87     13.47    19.215      2.985"
>>>>>>> Stashed changes
      ]
     },
     "execution_count": 293,
     "metadata": {
      "tags": []
     },
     "output_type": "execute_result"
    }
   ],
   "source": [
    "data.head()"
   ]
  },
  {
   "cell_type": "code",
   "execution_count": 294,
   "metadata": {
    "id": "KQioM5x_4pLZ"
   },
   "outputs": [],
   "source": [
    "data = data.astype('float')"
   ]
  },
  {
   "cell_type": "code",
   "execution_count": 295,
   "metadata": {
    "colab": {
     "base_uri": "https://localhost:8080/",
     "height": 221
    },
    "id": "x-NP8HplvBef",
    "outputId": "e26e702e-b8b5-49d0-bb04-9a0304ebc74c"
   },
   "outputs": [
    {
<<<<<<< Updated upstream
      "cell_type": "code",
      "metadata": {
        "id": "npcm73-t8FgM"
      },
      "source": [
        "### Year wise histogram plot of feature Global_active_power\n",
        "\n",
        "# years = [2016, 2017, 2018, 2019]\n",
        "\n",
        "# fig, ax = plt.subplots(figsize=(18,18))\n",
        "\n",
        "# for i in range(len(years)):\n",
        "#     plt.subplot(len(years), 1, i+1)\n",
        "#     year = years[i]\n",
        "#     active_power_data = data[str(year)]\n",
        "#     active_power_data['Global_active_power'].hist(bins = 200)\n",
        "#     plt.title(str(year), y = 0, loc = 'left')\n",
        "# plt.show()\n",
        "# fig.tight_layout()"
      ],
      "execution_count": null,
      "outputs": []
=======
     "name": "stdout",
     "output_type": "stream",
     "text": [
      "<class 'pandas.core.frame.DataFrame'>\n",
      "DatetimeIndex: 1461 entries, 2016-01-01 to 2019-12-31\n",
      "Data columns (total 5 columns):\n",
      " #   Column             Non-Null Count  Dtype  \n",
      "---  ------             --------------  -----  \n",
      " 0   TOTALDEMAND        1461 non-null   float64\n",
      " 1   relative_humidity  1461 non-null   float64\n",
      " 2   dew_temp           1461 non-null   float64\n",
      " 3   avg_temp           1461 non-null   float64\n",
      " 4   ws_avg_50          1461 non-null   float64\n",
      "dtypes: float64(5)\n",
      "memory usage: 68.5 KB\n"
     ]
    }
   ],
   "source": [
    "#information of the dataset\n",
    "\n",
    "data.info()"
   ]
  },
  {
   "cell_type": "code",
   "execution_count": 296,
   "metadata": {
    "colab": {
     "base_uri": "https://localhost:8080/",
     "height": 119
>>>>>>> Stashed changes
    },
    "id": "S7Oagfey6Lrz",
    "outputId": "55c10caf-e405-44c7-c4ec-7c0a577360a1"
   },
   "outputs": [
    {
<<<<<<< Updated upstream
      "cell_type": "code",
      "metadata": {
        "id": "nYU-CwWT6Lzr",
        "outputId": "54cf7f26-4d7e-4360-d87b-3b577f56478c",
        "colab": {
          "base_uri": "https://localhost:8080/",
          "height": 1000
        }
      },
      "source": [
        "### Histogram plot for All Features\n",
        "\n",
        "\n",
        "fig, ax = plt.subplots(figsize=(18,18))\n",
        "\n",
        "for i in range(len(data.columns)):\n",
        "    plt.subplot(len(data.columns), 1, i+1)\n",
        "    name = data.columns[i]\n",
        "    data[name].hist(bins=200)\n",
        "    plt.title(name, y=0, loc = 'right')\n",
        "    plt.yticks([])\n",
        "plt.show()\n",
        "fig.tight_layout()"
      ],
      "execution_count": null,
      "outputs": [
        {
          "output_type": "display_data",
          "data": {
            "image/png": "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\n",
            "text/plain": [
              "<Figure size 1296x1296 with 5 Axes>"
            ]
          },
          "metadata": {
            "tags": [],
            "needs_background": "light"
          }
        }
=======
     "data": {
      "text/plain": [
       "TOTALDEMAND          0\n",
       "relative_humidity    0\n",
       "dew_temp             0\n",
       "avg_temp             0\n",
       "ws_avg_50            0\n",
       "dtype: int64"
>>>>>>> Stashed changes
      ]
     },
     "execution_count": 296,
     "metadata": {
      "tags": []
     },
     "output_type": "execute_result"
    }
   ],
   "source": [
    "#checking the null values\n",
    "\n",
    "np.isnan(data).sum()"
   ]
  },
  {
   "cell_type": "code",
   "execution_count": 297,
   "metadata": {
    "colab": {
     "base_uri": "https://localhost:8080/",
     "height": 34
    },
    "id": "mT-QbfN56Luh",
    "outputId": "0315d80c-3dab-4b7b-d774-d77c91351d16"
   },
   "outputs": [
    {
<<<<<<< Updated upstream
      "cell_type": "code",
      "metadata": {
        "id": "3dZOr--v6L4g"
      },
      "source": [
        "# months = [i for i in range(1,13)]\n",
        "\n",
        "# fig, ax = plt.subplots(figsize=(18,18))\n",
        "\n",
        "# for i in range(len(months)):\n",
        "#     ax = plt.subplot(len(months), 1, i+1)\n",
        "#     month = '2016-' + str(months[i])\n",
        "#     active_power_data = dataset[month]\n",
        "#     active_power_data['Global_active_power'].hist(bins = 100)\n",
        "#     ax.set_xlim(0,5)\n",
        "#     plt.title(month, y = 0, loc = 'right')\n",
        "# plt.show()\n",
        "# fig.tight_layout()"
      ],
      "execution_count": null,
      "outputs": []
    },
    {
      "cell_type": "code",
      "metadata": {
        "id": "ObThetEc6L7w",
        "outputId": "98856597-8e0a-4154-dbda-d98c3658c1d2",
        "colab": {
          "base_uri": "https://localhost:8080/",
          "height": 136
        }
      },
      "source": [
        "data_train = data.loc[:'2018-12-31', :]['TOTALDEMAND']\n",
        "data_train.head()"
      ],
      "execution_count": null,
      "outputs": [
        {
          "output_type": "execute_result",
          "data": {
            "text/plain": [
              "Date\n",
              "2016-01-01    226550.31\n",
              "2016-02-01    199245.28\n",
              "2016-03-01    195312.89\n",
              "2016-04-01    221865.01\n",
              "2016-05-01    235747.16\n",
              "Name: TOTALDEMAND, dtype: float64"
            ]
          },
          "metadata": {
            "tags": []
          },
          "execution_count": 299
        }
=======
     "data": {
      "text/plain": [
       "(1461, 5)"
>>>>>>> Stashed changes
      ]
     },
     "execution_count": 297,
     "metadata": {
      "tags": []
     },
     "output_type": "execute_result"
    }
   ],
   "source": [
    "data.shape"
   ]
  },
  {
   "cell_type": "code",
   "execution_count": 221,
   "metadata": {
    "id": "npcm73-t8FgM"
   },
   "outputs": [],
   "source": [
    "### Year wise histogram plot of feature Global_active_power\n",
    "\n",
    "# years = [2016, 2017, 2018, 2019]\n",
    "\n",
    "# fig, ax = plt.subplots(figsize=(18,18))\n",
    "\n",
    "# for i in range(len(years)):\n",
    "#     plt.subplot(len(years), 1, i+1)\n",
    "#     year = years[i]\n",
    "#     active_power_data = data[str(year)]\n",
    "#     active_power_data['Global_active_power'].hist(bins = 200)\n",
    "#     plt.title(str(year), y = 0, loc = 'left')\n",
    "# plt.show()\n",
    "# fig.tight_layout()"
   ]
  },
  {
   "cell_type": "code",
   "execution_count": 298,
   "metadata": {
    "colab": {
     "base_uri": "https://localhost:8080/",
     "height": 1000
    },
    "id": "nYU-CwWT6Lzr",
    "outputId": "54cf7f26-4d7e-4360-d87b-3b577f56478c"
   },
   "outputs": [
    {
<<<<<<< Updated upstream
      "cell_type": "code",
      "metadata": {
        "id": "3yIQYbI16MAU",
        "outputId": "26bf7769-d697-4124-83cf-746089ca42de",
        "colab": {
          "base_uri": "https://localhost:8080/",
          "height": 136
        }
      },
      "source": [
        "data_test = data.loc['2019-01-01':, :]['TOTALDEMAND']\n",
        "data_test.head()"
      ],
      "execution_count": null,
      "outputs": [
        {
          "output_type": "execute_result",
          "data": {
            "text/plain": [
              "Date\n",
              "2019-01-01    193379.92\n",
              "2019-02-01    212941.35\n",
              "2019-03-01    237579.21\n",
              "2019-04-01    266576.92\n",
              "2019-05-01    194525.58\n",
              "Name: TOTALDEMAND, dtype: float64"
            ]
          },
          "metadata": {
            "tags": []
          },
          "execution_count": 300
        }
=======
     "data": {
      "image/png": "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\n",
      "text/plain": [
       "<Figure size 1296x1296 with 5 Axes>"
>>>>>>> Stashed changes
      ]
     },
     "metadata": {
      "needs_background": "light",
      "tags": []
     },
     "output_type": "display_data"
    }
   ],
   "source": [
    "### Histogram plot for All Features\n",
    "\n",
    "\n",
    "fig, ax = plt.subplots(figsize=(18,18))\n",
    "\n",
    "for i in range(len(data.columns)):\n",
    "    plt.subplot(len(data.columns), 1, i+1)\n",
    "    name = data.columns[i]\n",
    "    data[name].hist(bins=200)\n",
    "    plt.title(name, y=0, loc = 'right')\n",
    "    plt.yticks([])\n",
    "plt.show()\n",
    "fig.tight_layout()"
   ]
  },
  {
   "cell_type": "code",
   "execution_count": 224,
   "metadata": {
    "id": "3dZOr--v6L4g"
   },
   "outputs": [],
   "source": [
    "# months = [i for i in range(1,13)]\n",
    "\n",
    "# fig, ax = plt.subplots(figsize=(18,18))\n",
    "\n",
    "# for i in range(len(months)):\n",
    "#     ax = plt.subplot(len(months), 1, i+1)\n",
    "#     month = '2016-' + str(months[i])\n",
    "#     active_power_data = dataset[month]\n",
    "#     active_power_data['Global_active_power'].hist(bins = 100)\n",
    "#     ax.set_xlim(0,5)\n",
    "#     plt.title(month, y = 0, loc = 'right')\n",
    "# plt.show()\n",
    "# fig.tight_layout()"
   ]
  },
  {
   "cell_type": "code",
   "execution_count": 299,
   "metadata": {
    "colab": {
     "base_uri": "https://localhost:8080/",
     "height": 136
    },
    "id": "ObThetEc6L7w",
    "outputId": "98856597-8e0a-4154-dbda-d98c3658c1d2"
   },
   "outputs": [
    {
<<<<<<< Updated upstream
      "cell_type": "code",
      "metadata": {
        "id": "satrvomL6L-l",
        "outputId": "cb5a4b9a-6ecb-42dc-f1ed-ab9b48286ce1",
        "colab": {
          "base_uri": "https://localhost:8080/",
          "height": 34
        }
      },
      "source": [
        "data_train.shape"
      ],
      "execution_count": null,
      "outputs": [
        {
          "output_type": "execute_result",
          "data": {
            "text/plain": [
              "(1096,)"
            ]
          },
          "metadata": {
            "tags": []
          },
          "execution_count": 242
        }
=======
     "data": {
      "text/plain": [
       "Date\n",
       "2016-01-01    226550.31\n",
       "2016-02-01    199245.28\n",
       "2016-03-01    195312.89\n",
       "2016-04-01    221865.01\n",
       "2016-05-01    235747.16\n",
       "Name: TOTALDEMAND, dtype: float64"
>>>>>>> Stashed changes
      ]
     },
     "execution_count": 299,
     "metadata": {
      "tags": []
     },
     "output_type": "execute_result"
    }
   ],
   "source": [
    "data_train = data.loc[:'2018-12-31', :]['TOTALDEMAND']\n",
    "data_train.head()"
   ]
  },
  {
   "cell_type": "code",
   "execution_count": 300,
   "metadata": {
    "colab": {
     "base_uri": "https://localhost:8080/",
     "height": 136
    },
    "id": "3yIQYbI16MAU",
    "outputId": "26bf7769-d697-4124-83cf-746089ca42de"
   },
   "outputs": [
    {
<<<<<<< Updated upstream
      "cell_type": "code",
      "metadata": {
        "id": "oLb8M03J6L2Z",
        "outputId": "7d32e2a1-ee79-4529-bd40-03b9d1aaaad5",
        "colab": {
          "base_uri": "https://localhost:8080/",
          "height": 34
        }
      },
      "source": [
        "data_test.shape"
      ],
      "execution_count": null,
      "outputs": [
        {
          "output_type": "execute_result",
          "data": {
            "text/plain": [
              "(365,)"
            ]
          },
          "metadata": {
            "tags": []
          },
          "execution_count": 243
        }
=======
     "data": {
      "text/plain": [
       "Date\n",
       "2019-01-01    193379.92\n",
       "2019-02-01    212941.35\n",
       "2019-03-01    237579.21\n",
       "2019-04-01    266576.92\n",
       "2019-05-01    194525.58\n",
       "Name: TOTALDEMAND, dtype: float64"
>>>>>>> Stashed changes
      ]
     },
     "execution_count": 300,
     "metadata": {
      "tags": []
     },
     "output_type": "execute_result"
    }
   ],
   "source": [
    "data_test = data.loc['2019-01-01':, :]['TOTALDEMAND']\n",
    "data_test.head()"
   ]
  },
  {
   "cell_type": "code",
   "execution_count": 242,
   "metadata": {
    "colab": {
     "base_uri": "https://localhost:8080/",
     "height": 34
    },
    "id": "satrvomL6L-l",
    "outputId": "cb5a4b9a-6ecb-42dc-f1ed-ab9b48286ce1"
   },
   "outputs": [
    {
<<<<<<< Updated upstream
      "cell_type": "code",
      "metadata": {
        "id": "1OMHlmL39mz0"
      },
      "source": [
        "#converting the data into numpy array\n",
        "\n",
        "data_train = np.array(data_train)"
      ],
      "execution_count": null,
      "outputs": []
    },
    {
      "cell_type": "code",
      "metadata": {
        "id": "HQY54WbW9m2z"
      },
      "source": [
        "#we are splitting the data weekly wise(7days)\n",
        "\n",
        "X_train, y_train = [], []\n",
        "\n",
        "for i in range(30, len(data_train)-30):\n",
        "    X_train.append(data_train[i-30:i])\n",
        "    y_train.append(data_train[i:i+30])"
      ],
      "execution_count": null,
      "outputs": []
    },
    {
      "cell_type": "code",
      "metadata": {
        "id": "hqEzeGe1--M5"
      },
      "source": [
        "#converting list to numpy array\n",
        "\n",
        "X_train, y_train = np.array(X_train), np.array(y_train)\n"
      ],
      "execution_count": null,
      "outputs": []
    },
    {
      "cell_type": "code",
      "metadata": {
        "id": "lSzGKYeF--R4",
        "outputId": "9b81fc45-8f99-4e9e-ab7c-7a724d778ead",
        "colab": {
          "base_uri": "https://localhost:8080/",
          "height": 34
        }
      },
      "source": [
        "X_train.shape, y_train.shape"
      ],
      "execution_count": null,
      "outputs": [
        {
          "output_type": "execute_result",
          "data": {
            "text/plain": [
              "((1036, 30), (1036, 30))"
            ]
          },
          "metadata": {
            "tags": []
          },
          "execution_count": 281
        }
=======
     "data": {
      "text/plain": [
       "(1096,)"
>>>>>>> Stashed changes
      ]
     },
     "execution_count": 242,
     "metadata": {
      "tags": []
     },
     "output_type": "execute_result"
    }
   ],
   "source": [
    "data_train.shape"
   ]
  },
  {
   "cell_type": "code",
   "execution_count": 243,
   "metadata": {
    "colab": {
     "base_uri": "https://localhost:8080/",
     "height": 34
    },
    "id": "oLb8M03J6L2Z",
    "outputId": "7d32e2a1-ee79-4529-bd40-03b9d1aaaad5"
   },
   "outputs": [
    {
<<<<<<< Updated upstream
      "cell_type": "code",
      "metadata": {
        "id": "j1M1bVwO9m-T",
        "outputId": "ad7f8c81-a5b8-4ca5-d656-223c82f14ed4",
        "colab": {
          "base_uri": "https://localhost:8080/",
          "height": 439
        }
      },
      "source": [
        "#printing the ytrain value\n",
        "\n",
        "pd.DataFrame(y_train)"
      ],
      "execution_count": null,
      "outputs": [
        {
          "output_type": "execute_result",
          "data": {
            "text/html": [
              "<div>\n",
              "<style scoped>\n",
              "    .dataframe tbody tr th:only-of-type {\n",
              "        vertical-align: middle;\n",
              "    }\n",
              "\n",
              "    .dataframe tbody tr th {\n",
              "        vertical-align: top;\n",
              "    }\n",
              "\n",
              "    .dataframe thead th {\n",
              "        text-align: right;\n",
              "    }\n",
              "</style>\n",
              "<table border=\"1\" class=\"dataframe\">\n",
              "  <thead>\n",
              "    <tr style=\"text-align: right;\">\n",
              "      <th></th>\n",
              "      <th>0</th>\n",
              "      <th>1</th>\n",
              "      <th>2</th>\n",
              "      <th>3</th>\n",
              "      <th>4</th>\n",
              "      <th>5</th>\n",
              "      <th>6</th>\n",
              "      <th>7</th>\n",
              "      <th>8</th>\n",
              "      <th>9</th>\n",
              "      <th>10</th>\n",
              "      <th>11</th>\n",
              "      <th>12</th>\n",
              "      <th>13</th>\n",
              "      <th>14</th>\n",
              "      <th>15</th>\n",
              "      <th>16</th>\n",
              "      <th>17</th>\n",
              "      <th>18</th>\n",
              "      <th>19</th>\n",
              "      <th>20</th>\n",
              "      <th>21</th>\n",
              "      <th>22</th>\n",
              "      <th>23</th>\n",
              "      <th>24</th>\n",
              "      <th>25</th>\n",
              "      <th>26</th>\n",
              "      <th>27</th>\n",
              "      <th>28</th>\n",
              "      <th>29</th>\n",
              "    </tr>\n",
              "  </thead>\n",
              "  <tbody>\n",
              "    <tr>\n",
              "      <th>0</th>\n",
              "      <td>202559.30</td>\n",
              "      <td>239239.55</td>\n",
              "      <td>267978.31</td>\n",
              "      <td>245188.95</td>\n",
              "      <td>239839.21</td>\n",
              "      <td>252661.10</td>\n",
              "      <td>247474.02</td>\n",
              "      <td>248873.62</td>\n",
              "      <td>258654.45</td>\n",
              "      <td>262542.53</td>\n",
              "      <td>264530.01</td>\n",
              "      <td>262007.58</td>\n",
              "      <td>267691.04</td>\n",
              "      <td>241679.99</td>\n",
              "      <td>208729.47</td>\n",
              "      <td>241726.65</td>\n",
              "      <td>234124.07</td>\n",
              "      <td>238963.58</td>\n",
              "      <td>251928.37</td>\n",
              "      <td>245983.32</td>\n",
              "      <td>211823.42</td>\n",
              "      <td>215768.71</td>\n",
              "      <td>261054.65</td>\n",
              "      <td>313849.66</td>\n",
              "      <td>304838.83</td>\n",
              "      <td>276129.71</td>\n",
              "      <td>245151.87</td>\n",
              "      <td>221091.68</td>\n",
              "      <td>211563.97</td>\n",
              "      <td>250800.16</td>\n",
              "    </tr>\n",
              "    <tr>\n",
              "      <th>1</th>\n",
              "      <td>239239.55</td>\n",
              "      <td>267978.31</td>\n",
              "      <td>245188.95</td>\n",
              "      <td>239839.21</td>\n",
              "      <td>252661.10</td>\n",
              "      <td>247474.02</td>\n",
              "      <td>248873.62</td>\n",
              "      <td>258654.45</td>\n",
              "      <td>262542.53</td>\n",
              "      <td>264530.01</td>\n",
              "      <td>262007.58</td>\n",
              "      <td>267691.04</td>\n",
              "      <td>241679.99</td>\n",
              "      <td>208729.47</td>\n",
              "      <td>241726.65</td>\n",
              "      <td>234124.07</td>\n",
              "      <td>238963.58</td>\n",
              "      <td>251928.37</td>\n",
              "      <td>245983.32</td>\n",
              "      <td>211823.42</td>\n",
              "      <td>215768.71</td>\n",
              "      <td>261054.65</td>\n",
              "      <td>313849.66</td>\n",
              "      <td>304838.83</td>\n",
              "      <td>276129.71</td>\n",
              "      <td>245151.87</td>\n",
              "      <td>221091.68</td>\n",
              "      <td>211563.97</td>\n",
              "      <td>250800.16</td>\n",
              "      <td>279446.68</td>\n",
              "    </tr>\n",
              "    <tr>\n",
              "      <th>2</th>\n",
              "      <td>267978.31</td>\n",
              "      <td>245188.95</td>\n",
              "      <td>239839.21</td>\n",
              "      <td>252661.10</td>\n",
              "      <td>247474.02</td>\n",
              "      <td>248873.62</td>\n",
              "      <td>258654.45</td>\n",
              "      <td>262542.53</td>\n",
              "      <td>264530.01</td>\n",
              "      <td>262007.58</td>\n",
              "      <td>267691.04</td>\n",
              "      <td>241679.99</td>\n",
              "      <td>208729.47</td>\n",
              "      <td>241726.65</td>\n",
              "      <td>234124.07</td>\n",
              "      <td>238963.58</td>\n",
              "      <td>251928.37</td>\n",
              "      <td>245983.32</td>\n",
              "      <td>211823.42</td>\n",
              "      <td>215768.71</td>\n",
              "      <td>261054.65</td>\n",
              "      <td>313849.66</td>\n",
              "      <td>304838.83</td>\n",
              "      <td>276129.71</td>\n",
              "      <td>245151.87</td>\n",
              "      <td>221091.68</td>\n",
              "      <td>211563.97</td>\n",
              "      <td>250800.16</td>\n",
              "      <td>279446.68</td>\n",
              "      <td>290365.96</td>\n",
              "    </tr>\n",
              "    <tr>\n",
              "      <th>3</th>\n",
              "      <td>245188.95</td>\n",
              "      <td>239839.21</td>\n",
              "      <td>252661.10</td>\n",
              "      <td>247474.02</td>\n",
              "      <td>248873.62</td>\n",
              "      <td>258654.45</td>\n",
              "      <td>262542.53</td>\n",
              "      <td>264530.01</td>\n",
              "      <td>262007.58</td>\n",
              "      <td>267691.04</td>\n",
              "      <td>241679.99</td>\n",
              "      <td>208729.47</td>\n",
              "      <td>241726.65</td>\n",
              "      <td>234124.07</td>\n",
              "      <td>238963.58</td>\n",
              "      <td>251928.37</td>\n",
              "      <td>245983.32</td>\n",
              "      <td>211823.42</td>\n",
              "      <td>215768.71</td>\n",
              "      <td>261054.65</td>\n",
              "      <td>313849.66</td>\n",
              "      <td>304838.83</td>\n",
              "      <td>276129.71</td>\n",
              "      <td>245151.87</td>\n",
              "      <td>221091.68</td>\n",
              "      <td>211563.97</td>\n",
              "      <td>250800.16</td>\n",
              "      <td>279446.68</td>\n",
              "      <td>290365.96</td>\n",
              "      <td>272452.24</td>\n",
              "    </tr>\n",
              "    <tr>\n",
              "      <th>4</th>\n",
              "      <td>239839.21</td>\n",
              "      <td>252661.10</td>\n",
              "      <td>247474.02</td>\n",
              "      <td>248873.62</td>\n",
              "      <td>258654.45</td>\n",
              "      <td>262542.53</td>\n",
              "      <td>264530.01</td>\n",
              "      <td>262007.58</td>\n",
              "      <td>267691.04</td>\n",
              "      <td>241679.99</td>\n",
              "      <td>208729.47</td>\n",
              "      <td>241726.65</td>\n",
              "      <td>234124.07</td>\n",
              "      <td>238963.58</td>\n",
              "      <td>251928.37</td>\n",
              "      <td>245983.32</td>\n",
              "      <td>211823.42</td>\n",
              "      <td>215768.71</td>\n",
              "      <td>261054.65</td>\n",
              "      <td>313849.66</td>\n",
              "      <td>304838.83</td>\n",
              "      <td>276129.71</td>\n",
              "      <td>245151.87</td>\n",
              "      <td>221091.68</td>\n",
              "      <td>211563.97</td>\n",
              "      <td>250800.16</td>\n",
              "      <td>279446.68</td>\n",
              "      <td>290365.96</td>\n",
              "      <td>272452.24</td>\n",
              "      <td>298753.14</td>\n",
              "    </tr>\n",
              "    <tr>\n",
              "      <th>...</th>\n",
              "      <td>...</td>\n",
              "      <td>...</td>\n",
              "      <td>...</td>\n",
              "      <td>...</td>\n",
              "      <td>...</td>\n",
              "      <td>...</td>\n",
              "      <td>...</td>\n",
              "      <td>...</td>\n",
              "      <td>...</td>\n",
              "      <td>...</td>\n",
              "      <td>...</td>\n",
              "      <td>...</td>\n",
              "      <td>...</td>\n",
              "      <td>...</td>\n",
              "      <td>...</td>\n",
              "      <td>...</td>\n",
              "      <td>...</td>\n",
              "      <td>...</td>\n",
              "      <td>...</td>\n",
              "      <td>...</td>\n",
              "      <td>...</td>\n",
              "      <td>...</td>\n",
              "      <td>...</td>\n",
              "      <td>...</td>\n",
              "      <td>...</td>\n",
              "      <td>...</td>\n",
              "      <td>...</td>\n",
              "      <td>...</td>\n",
              "      <td>...</td>\n",
              "      <td>...</td>\n",
              "    </tr>\n",
              "    <tr>\n",
              "      <th>1031</th>\n",
              "      <td>219412.84</td>\n",
              "      <td>213369.65</td>\n",
              "      <td>225173.48</td>\n",
              "      <td>220063.64</td>\n",
              "      <td>196870.65</td>\n",
              "      <td>177806.13</td>\n",
              "      <td>215332.61</td>\n",
              "      <td>223436.15</td>\n",
              "      <td>228450.24</td>\n",
              "      <td>270904.52</td>\n",
              "      <td>313296.81</td>\n",
              "      <td>242474.94</td>\n",
              "      <td>204322.23</td>\n",
              "      <td>221607.53</td>\n",
              "      <td>228827.57</td>\n",
              "      <td>259430.93</td>\n",
              "      <td>229972.66</td>\n",
              "      <td>220050.93</td>\n",
              "      <td>205154.29</td>\n",
              "      <td>198221.55</td>\n",
              "      <td>225608.80</td>\n",
              "      <td>226970.21</td>\n",
              "      <td>239814.49</td>\n",
              "      <td>223761.05</td>\n",
              "      <td>204151.85</td>\n",
              "      <td>185451.48</td>\n",
              "      <td>189876.79</td>\n",
              "      <td>224717.63</td>\n",
              "      <td>196383.31</td>\n",
              "      <td>200034.39</td>\n",
              "    </tr>\n",
              "    <tr>\n",
              "      <th>1032</th>\n",
              "      <td>213369.65</td>\n",
              "      <td>225173.48</td>\n",
              "      <td>220063.64</td>\n",
              "      <td>196870.65</td>\n",
              "      <td>177806.13</td>\n",
              "      <td>215332.61</td>\n",
              "      <td>223436.15</td>\n",
              "      <td>228450.24</td>\n",
              "      <td>270904.52</td>\n",
              "      <td>313296.81</td>\n",
              "      <td>242474.94</td>\n",
              "      <td>204322.23</td>\n",
              "      <td>221607.53</td>\n",
              "      <td>228827.57</td>\n",
              "      <td>259430.93</td>\n",
              "      <td>229972.66</td>\n",
              "      <td>220050.93</td>\n",
              "      <td>205154.29</td>\n",
              "      <td>198221.55</td>\n",
              "      <td>225608.80</td>\n",
              "      <td>226970.21</td>\n",
              "      <td>239814.49</td>\n",
              "      <td>223761.05</td>\n",
              "      <td>204151.85</td>\n",
              "      <td>185451.48</td>\n",
              "      <td>189876.79</td>\n",
              "      <td>224717.63</td>\n",
              "      <td>196383.31</td>\n",
              "      <td>200034.39</td>\n",
              "      <td>259498.28</td>\n",
              "    </tr>\n",
              "    <tr>\n",
              "      <th>1033</th>\n",
              "      <td>225173.48</td>\n",
              "      <td>220063.64</td>\n",
              "      <td>196870.65</td>\n",
              "      <td>177806.13</td>\n",
              "      <td>215332.61</td>\n",
              "      <td>223436.15</td>\n",
              "      <td>228450.24</td>\n",
              "      <td>270904.52</td>\n",
              "      <td>313296.81</td>\n",
              "      <td>242474.94</td>\n",
              "      <td>204322.23</td>\n",
              "      <td>221607.53</td>\n",
              "      <td>228827.57</td>\n",
              "      <td>259430.93</td>\n",
              "      <td>229972.66</td>\n",
              "      <td>220050.93</td>\n",
              "      <td>205154.29</td>\n",
              "      <td>198221.55</td>\n",
              "      <td>225608.80</td>\n",
              "      <td>226970.21</td>\n",
              "      <td>239814.49</td>\n",
              "      <td>223761.05</td>\n",
              "      <td>204151.85</td>\n",
              "      <td>185451.48</td>\n",
              "      <td>189876.79</td>\n",
              "      <td>224717.63</td>\n",
              "      <td>196383.31</td>\n",
              "      <td>200034.39</td>\n",
              "      <td>259498.28</td>\n",
              "      <td>267662.75</td>\n",
              "    </tr>\n",
              "    <tr>\n",
              "      <th>1034</th>\n",
              "      <td>220063.64</td>\n",
              "      <td>196870.65</td>\n",
              "      <td>177806.13</td>\n",
              "      <td>215332.61</td>\n",
              "      <td>223436.15</td>\n",
              "      <td>228450.24</td>\n",
              "      <td>270904.52</td>\n",
              "      <td>313296.81</td>\n",
              "      <td>242474.94</td>\n",
              "      <td>204322.23</td>\n",
              "      <td>221607.53</td>\n",
              "      <td>228827.57</td>\n",
              "      <td>259430.93</td>\n",
              "      <td>229972.66</td>\n",
              "      <td>220050.93</td>\n",
              "      <td>205154.29</td>\n",
              "      <td>198221.55</td>\n",
              "      <td>225608.80</td>\n",
              "      <td>226970.21</td>\n",
              "      <td>239814.49</td>\n",
              "      <td>223761.05</td>\n",
              "      <td>204151.85</td>\n",
              "      <td>185451.48</td>\n",
              "      <td>189876.79</td>\n",
              "      <td>224717.63</td>\n",
              "      <td>196383.31</td>\n",
              "      <td>200034.39</td>\n",
              "      <td>259498.28</td>\n",
              "      <td>267662.75</td>\n",
              "      <td>216580.22</td>\n",
              "    </tr>\n",
              "    <tr>\n",
              "      <th>1035</th>\n",
              "      <td>196870.65</td>\n",
              "      <td>177806.13</td>\n",
              "      <td>215332.61</td>\n",
              "      <td>223436.15</td>\n",
              "      <td>228450.24</td>\n",
              "      <td>270904.52</td>\n",
              "      <td>313296.81</td>\n",
              "      <td>242474.94</td>\n",
              "      <td>204322.23</td>\n",
              "      <td>221607.53</td>\n",
              "      <td>228827.57</td>\n",
              "      <td>259430.93</td>\n",
              "      <td>229972.66</td>\n",
              "      <td>220050.93</td>\n",
              "      <td>205154.29</td>\n",
              "      <td>198221.55</td>\n",
              "      <td>225608.80</td>\n",
              "      <td>226970.21</td>\n",
              "      <td>239814.49</td>\n",
              "      <td>223761.05</td>\n",
              "      <td>204151.85</td>\n",
              "      <td>185451.48</td>\n",
              "      <td>189876.79</td>\n",
              "      <td>224717.63</td>\n",
              "      <td>196383.31</td>\n",
              "      <td>200034.39</td>\n",
              "      <td>259498.28</td>\n",
              "      <td>267662.75</td>\n",
              "      <td>216580.22</td>\n",
              "      <td>199227.73</td>\n",
              "    </tr>\n",
              "  </tbody>\n",
              "</table>\n",
              "<p>1036 rows × 30 columns</p>\n",
              "</div>"
            ],
            "text/plain": [
              "             0          1          2   ...         27         28         29\n",
              "0     202559.30  239239.55  267978.31  ...  221091.68  211563.97  250800.16\n",
              "1     239239.55  267978.31  245188.95  ...  211563.97  250800.16  279446.68\n",
              "2     267978.31  245188.95  239839.21  ...  250800.16  279446.68  290365.96\n",
              "3     245188.95  239839.21  252661.10  ...  279446.68  290365.96  272452.24\n",
              "4     239839.21  252661.10  247474.02  ...  290365.96  272452.24  298753.14\n",
              "...         ...        ...        ...  ...        ...        ...        ...\n",
              "1031  219412.84  213369.65  225173.48  ...  224717.63  196383.31  200034.39\n",
              "1032  213369.65  225173.48  220063.64  ...  196383.31  200034.39  259498.28\n",
              "1033  225173.48  220063.64  196870.65  ...  200034.39  259498.28  267662.75\n",
              "1034  220063.64  196870.65  177806.13  ...  259498.28  267662.75  216580.22\n",
              "1035  196870.65  177806.13  215332.61  ...  267662.75  216580.22  199227.73\n",
              "\n",
              "[1036 rows x 30 columns]"
            ]
          },
          "metadata": {
            "tags": []
          },
          "execution_count": 283
        }
=======
     "data": {
      "text/plain": [
       "(365,)"
>>>>>>> Stashed changes
      ]
     },
     "execution_count": 243,
     "metadata": {
      "tags": []
     },
     "output_type": "execute_result"
    }
   ],
   "source": [
    "data_test.shape"
   ]
  },
  {
   "cell_type": "code",
   "execution_count": 244,
   "metadata": {
    "id": "1OMHlmL39mz0"
   },
   "outputs": [],
   "source": [
    "#converting the data into numpy array\n",
    "\n",
    "data_train = np.array(data_train)"
   ]
  },
  {
   "cell_type": "code",
   "execution_count": 279,
   "metadata": {
    "id": "HQY54WbW9m2z"
   },
   "outputs": [],
   "source": [
    "#we are splitting the data weekly wise(7days)\n",
    "\n",
    "X_train, y_train = [], []\n",
    "\n",
    "for i in range(30, len(data_train)-30):\n",
    "    X_train.append(data_train[i-30:i])\n",
    "    y_train.append(data_train[i:i+30])"
   ]
  },
  {
   "cell_type": "code",
   "execution_count": 280,
   "metadata": {
    "id": "hqEzeGe1--M5"
   },
   "outputs": [],
   "source": [
    "#converting list to numpy array\n",
    "\n",
    "X_train, y_train = np.array(X_train), np.array(y_train)\n"
   ]
  },
  {
   "cell_type": "code",
   "execution_count": 281,
   "metadata": {
    "colab": {
     "base_uri": "https://localhost:8080/",
     "height": 34
    },
    "id": "lSzGKYeF--R4",
    "outputId": "9b81fc45-8f99-4e9e-ab7c-7a724d778ead"
   },
   "outputs": [
    {
<<<<<<< Updated upstream
      "cell_type": "code",
      "metadata": {
        "id": "Ivn4daoZ9nC0"
      },
      "source": [
        "#Normalising the dataset between 0 and 1\n",
        "\n",
        "x_scaler = MinMaxScaler()\n",
        "X_train = x_scaler.fit_transform(X_train)"
      ],
      "execution_count": null,
      "outputs": []
    },
    {
      "cell_type": "code",
      "metadata": {
        "id": "__54pdUm9nIA"
      },
      "source": [
        "#Normalising the dataset\n",
        "\n",
        "y_scaler = MinMaxScaler()\n",
        "y_train = y_scaler.fit_transform(y_train)"
      ],
      "execution_count": null,
      "outputs": []
    },
    {
      "cell_type": "code",
      "metadata": {
        "id": "Leh-wICt9nM2",
        "outputId": "adcf0f0a-2554-4840-ed5a-44767c81786c",
        "colab": {
          "base_uri": "https://localhost:8080/",
          "height": 204
        }
      },
      "source": [
        "pd.DataFrame(X_train).head()"
      ],
      "execution_count": null,
      "outputs": [
        {
          "output_type": "execute_result",
          "data": {
            "text/html": [
              "<div>\n",
              "<style scoped>\n",
              "    .dataframe tbody tr th:only-of-type {\n",
              "        vertical-align: middle;\n",
              "    }\n",
              "\n",
              "    .dataframe tbody tr th {\n",
              "        vertical-align: top;\n",
              "    }\n",
              "\n",
              "    .dataframe thead th {\n",
              "        text-align: right;\n",
              "    }\n",
              "</style>\n",
              "<table border=\"1\" class=\"dataframe\">\n",
              "  <thead>\n",
              "    <tr style=\"text-align: right;\">\n",
              "      <th></th>\n",
              "      <th>0</th>\n",
              "      <th>1</th>\n",
              "      <th>2</th>\n",
              "      <th>3</th>\n",
              "      <th>4</th>\n",
              "      <th>5</th>\n",
              "      <th>6</th>\n",
              "    </tr>\n",
              "  </thead>\n",
              "  <tbody>\n",
              "    <tr>\n",
              "      <th>0</th>\n",
              "      <td>0.352364</td>\n",
              "      <td>0.181657</td>\n",
              "      <td>0.157073</td>\n",
              "      <td>0.323073</td>\n",
              "      <td>0.409862</td>\n",
              "      <td>0.374735</td>\n",
              "      <td>0.341330</td>\n",
              "    </tr>\n",
              "    <tr>\n",
              "      <th>1</th>\n",
              "      <td>0.181657</td>\n",
              "      <td>0.157073</td>\n",
              "      <td>0.323073</td>\n",
              "      <td>0.409862</td>\n",
              "      <td>0.374735</td>\n",
              "      <td>0.341330</td>\n",
              "      <td>0.334914</td>\n",
              "    </tr>\n",
              "    <tr>\n",
              "      <th>2</th>\n",
              "      <td>0.157073</td>\n",
              "      <td>0.323073</td>\n",
              "      <td>0.409862</td>\n",
              "      <td>0.374735</td>\n",
              "      <td>0.341330</td>\n",
              "      <td>0.334914</td>\n",
              "      <td>0.254930</td>\n",
              "    </tr>\n",
              "    <tr>\n",
              "      <th>3</th>\n",
              "      <td>0.323073</td>\n",
              "      <td>0.409862</td>\n",
              "      <td>0.374735</td>\n",
              "      <td>0.341330</td>\n",
              "      <td>0.334914</td>\n",
              "      <td>0.254930</td>\n",
              "      <td>0.349539</td>\n",
              "    </tr>\n",
              "    <tr>\n",
              "      <th>4</th>\n",
              "      <td>0.409862</td>\n",
              "      <td>0.374735</td>\n",
              "      <td>0.341330</td>\n",
              "      <td>0.334914</td>\n",
              "      <td>0.254930</td>\n",
              "      <td>0.349539</td>\n",
              "      <td>0.700692</td>\n",
              "    </tr>\n",
              "  </tbody>\n",
              "</table>\n",
              "</div>"
            ],
            "text/plain": [
              "          0         1         2         3         4         5         6\n",
              "0  0.352364  0.181657  0.157073  0.323073  0.409862  0.374735  0.341330\n",
              "1  0.181657  0.157073  0.323073  0.409862  0.374735  0.341330  0.334914\n",
              "2  0.157073  0.323073  0.409862  0.374735  0.341330  0.334914  0.254930\n",
              "3  0.323073  0.409862  0.374735  0.341330  0.334914  0.254930  0.349539\n",
              "4  0.409862  0.374735  0.341330  0.334914  0.254930  0.349539  0.700692"
            ]
          },
          "metadata": {
            "tags": []
          },
          "execution_count": 251
        }
=======
     "data": {
      "text/plain": [
       "((1036, 30), (1036, 30))"
>>>>>>> Stashed changes
      ]
     },
     "execution_count": 281,
     "metadata": {
      "tags": []
     },
     "output_type": "execute_result"
    }
   ],
   "source": [
    "X_train.shape, y_train.shape"
   ]
  },
  {
   "cell_type": "code",
   "execution_count": 283,
   "metadata": {
    "colab": {
     "base_uri": "https://localhost:8080/",
     "height": 439
    },
    "id": "j1M1bVwO9m-T",
    "outputId": "ad7f8c81-a5b8-4ca5-d656-223c82f14ed4"
   },
   "outputs": [
    {
<<<<<<< Updated upstream
      "cell_type": "code",
      "metadata": {
        "id": "mr4RHcFB9nRn"
      },
      "source": [
        "#converting to 3 dimension\n",
        "\n",
        "X_train = X_train.reshape(1082, 7, 1)"
      ],
      "execution_count": null,
      "outputs": []
    },
    {
      "cell_type": "code",
      "metadata": {
        "id": "2YCW6LGl9nVQ",
        "outputId": "d1c29128-869f-4ccf-99e5-6bc167094d22",
        "colab": {
          "base_uri": "https://localhost:8080/",
          "height": 34
        }
      },
      "source": [
        "X_train.shape\n"
      ],
      "execution_count": null,
      "outputs": [
        {
          "output_type": "execute_result",
          "data": {
            "text/plain": [
              "(1082, 7, 1)"
            ]
          },
          "metadata": {
            "tags": []
          },
          "execution_count": 253
        }
=======
     "data": {
      "text/html": [
       "<div>\n",
       "<style scoped>\n",
       "    .dataframe tbody tr th:only-of-type {\n",
       "        vertical-align: middle;\n",
       "    }\n",
       "\n",
       "    .dataframe tbody tr th {\n",
       "        vertical-align: top;\n",
       "    }\n",
       "\n",
       "    .dataframe thead th {\n",
       "        text-align: right;\n",
       "    }\n",
       "</style>\n",
       "<table border=\"1\" class=\"dataframe\">\n",
       "  <thead>\n",
       "    <tr style=\"text-align: right;\">\n",
       "      <th></th>\n",
       "      <th>0</th>\n",
       "      <th>1</th>\n",
       "      <th>2</th>\n",
       "      <th>3</th>\n",
       "      <th>4</th>\n",
       "      <th>5</th>\n",
       "      <th>6</th>\n",
       "      <th>7</th>\n",
       "      <th>8</th>\n",
       "      <th>9</th>\n",
       "      <th>10</th>\n",
       "      <th>11</th>\n",
       "      <th>12</th>\n",
       "      <th>13</th>\n",
       "      <th>14</th>\n",
       "      <th>15</th>\n",
       "      <th>16</th>\n",
       "      <th>17</th>\n",
       "      <th>18</th>\n",
       "      <th>19</th>\n",
       "      <th>20</th>\n",
       "      <th>21</th>\n",
       "      <th>22</th>\n",
       "      <th>23</th>\n",
       "      <th>24</th>\n",
       "      <th>25</th>\n",
       "      <th>26</th>\n",
       "      <th>27</th>\n",
       "      <th>28</th>\n",
       "      <th>29</th>\n",
       "    </tr>\n",
       "  </thead>\n",
       "  <tbody>\n",
       "    <tr>\n",
       "      <th>0</th>\n",
       "      <td>202559.30</td>\n",
       "      <td>239239.55</td>\n",
       "      <td>267978.31</td>\n",
       "      <td>245188.95</td>\n",
       "      <td>239839.21</td>\n",
       "      <td>252661.10</td>\n",
       "      <td>247474.02</td>\n",
       "      <td>248873.62</td>\n",
       "      <td>258654.45</td>\n",
       "      <td>262542.53</td>\n",
       "      <td>264530.01</td>\n",
       "      <td>262007.58</td>\n",
       "      <td>267691.04</td>\n",
       "      <td>241679.99</td>\n",
       "      <td>208729.47</td>\n",
       "      <td>241726.65</td>\n",
       "      <td>234124.07</td>\n",
       "      <td>238963.58</td>\n",
       "      <td>251928.37</td>\n",
       "      <td>245983.32</td>\n",
       "      <td>211823.42</td>\n",
       "      <td>215768.71</td>\n",
       "      <td>261054.65</td>\n",
       "      <td>313849.66</td>\n",
       "      <td>304838.83</td>\n",
       "      <td>276129.71</td>\n",
       "      <td>245151.87</td>\n",
       "      <td>221091.68</td>\n",
       "      <td>211563.97</td>\n",
       "      <td>250800.16</td>\n",
       "    </tr>\n",
       "    <tr>\n",
       "      <th>1</th>\n",
       "      <td>239239.55</td>\n",
       "      <td>267978.31</td>\n",
       "      <td>245188.95</td>\n",
       "      <td>239839.21</td>\n",
       "      <td>252661.10</td>\n",
       "      <td>247474.02</td>\n",
       "      <td>248873.62</td>\n",
       "      <td>258654.45</td>\n",
       "      <td>262542.53</td>\n",
       "      <td>264530.01</td>\n",
       "      <td>262007.58</td>\n",
       "      <td>267691.04</td>\n",
       "      <td>241679.99</td>\n",
       "      <td>208729.47</td>\n",
       "      <td>241726.65</td>\n",
       "      <td>234124.07</td>\n",
       "      <td>238963.58</td>\n",
       "      <td>251928.37</td>\n",
       "      <td>245983.32</td>\n",
       "      <td>211823.42</td>\n",
       "      <td>215768.71</td>\n",
       "      <td>261054.65</td>\n",
       "      <td>313849.66</td>\n",
       "      <td>304838.83</td>\n",
       "      <td>276129.71</td>\n",
       "      <td>245151.87</td>\n",
       "      <td>221091.68</td>\n",
       "      <td>211563.97</td>\n",
       "      <td>250800.16</td>\n",
       "      <td>279446.68</td>\n",
       "    </tr>\n",
       "    <tr>\n",
       "      <th>2</th>\n",
       "      <td>267978.31</td>\n",
       "      <td>245188.95</td>\n",
       "      <td>239839.21</td>\n",
       "      <td>252661.10</td>\n",
       "      <td>247474.02</td>\n",
       "      <td>248873.62</td>\n",
       "      <td>258654.45</td>\n",
       "      <td>262542.53</td>\n",
       "      <td>264530.01</td>\n",
       "      <td>262007.58</td>\n",
       "      <td>267691.04</td>\n",
       "      <td>241679.99</td>\n",
       "      <td>208729.47</td>\n",
       "      <td>241726.65</td>\n",
       "      <td>234124.07</td>\n",
       "      <td>238963.58</td>\n",
       "      <td>251928.37</td>\n",
       "      <td>245983.32</td>\n",
       "      <td>211823.42</td>\n",
       "      <td>215768.71</td>\n",
       "      <td>261054.65</td>\n",
       "      <td>313849.66</td>\n",
       "      <td>304838.83</td>\n",
       "      <td>276129.71</td>\n",
       "      <td>245151.87</td>\n",
       "      <td>221091.68</td>\n",
       "      <td>211563.97</td>\n",
       "      <td>250800.16</td>\n",
       "      <td>279446.68</td>\n",
       "      <td>290365.96</td>\n",
       "    </tr>\n",
       "    <tr>\n",
       "      <th>3</th>\n",
       "      <td>245188.95</td>\n",
       "      <td>239839.21</td>\n",
       "      <td>252661.10</td>\n",
       "      <td>247474.02</td>\n",
       "      <td>248873.62</td>\n",
       "      <td>258654.45</td>\n",
       "      <td>262542.53</td>\n",
       "      <td>264530.01</td>\n",
       "      <td>262007.58</td>\n",
       "      <td>267691.04</td>\n",
       "      <td>241679.99</td>\n",
       "      <td>208729.47</td>\n",
       "      <td>241726.65</td>\n",
       "      <td>234124.07</td>\n",
       "      <td>238963.58</td>\n",
       "      <td>251928.37</td>\n",
       "      <td>245983.32</td>\n",
       "      <td>211823.42</td>\n",
       "      <td>215768.71</td>\n",
       "      <td>261054.65</td>\n",
       "      <td>313849.66</td>\n",
       "      <td>304838.83</td>\n",
       "      <td>276129.71</td>\n",
       "      <td>245151.87</td>\n",
       "      <td>221091.68</td>\n",
       "      <td>211563.97</td>\n",
       "      <td>250800.16</td>\n",
       "      <td>279446.68</td>\n",
       "      <td>290365.96</td>\n",
       "      <td>272452.24</td>\n",
       "    </tr>\n",
       "    <tr>\n",
       "      <th>4</th>\n",
       "      <td>239839.21</td>\n",
       "      <td>252661.10</td>\n",
       "      <td>247474.02</td>\n",
       "      <td>248873.62</td>\n",
       "      <td>258654.45</td>\n",
       "      <td>262542.53</td>\n",
       "      <td>264530.01</td>\n",
       "      <td>262007.58</td>\n",
       "      <td>267691.04</td>\n",
       "      <td>241679.99</td>\n",
       "      <td>208729.47</td>\n",
       "      <td>241726.65</td>\n",
       "      <td>234124.07</td>\n",
       "      <td>238963.58</td>\n",
       "      <td>251928.37</td>\n",
       "      <td>245983.32</td>\n",
       "      <td>211823.42</td>\n",
       "      <td>215768.71</td>\n",
       "      <td>261054.65</td>\n",
       "      <td>313849.66</td>\n",
       "      <td>304838.83</td>\n",
       "      <td>276129.71</td>\n",
       "      <td>245151.87</td>\n",
       "      <td>221091.68</td>\n",
       "      <td>211563.97</td>\n",
       "      <td>250800.16</td>\n",
       "      <td>279446.68</td>\n",
       "      <td>290365.96</td>\n",
       "      <td>272452.24</td>\n",
       "      <td>298753.14</td>\n",
       "    </tr>\n",
       "    <tr>\n",
       "      <th>...</th>\n",
       "      <td>...</td>\n",
       "      <td>...</td>\n",
       "      <td>...</td>\n",
       "      <td>...</td>\n",
       "      <td>...</td>\n",
       "      <td>...</td>\n",
       "      <td>...</td>\n",
       "      <td>...</td>\n",
       "      <td>...</td>\n",
       "      <td>...</td>\n",
       "      <td>...</td>\n",
       "      <td>...</td>\n",
       "      <td>...</td>\n",
       "      <td>...</td>\n",
       "      <td>...</td>\n",
       "      <td>...</td>\n",
       "      <td>...</td>\n",
       "      <td>...</td>\n",
       "      <td>...</td>\n",
       "      <td>...</td>\n",
       "      <td>...</td>\n",
       "      <td>...</td>\n",
       "      <td>...</td>\n",
       "      <td>...</td>\n",
       "      <td>...</td>\n",
       "      <td>...</td>\n",
       "      <td>...</td>\n",
       "      <td>...</td>\n",
       "      <td>...</td>\n",
       "      <td>...</td>\n",
       "    </tr>\n",
       "    <tr>\n",
       "      <th>1031</th>\n",
       "      <td>219412.84</td>\n",
       "      <td>213369.65</td>\n",
       "      <td>225173.48</td>\n",
       "      <td>220063.64</td>\n",
       "      <td>196870.65</td>\n",
       "      <td>177806.13</td>\n",
       "      <td>215332.61</td>\n",
       "      <td>223436.15</td>\n",
       "      <td>228450.24</td>\n",
       "      <td>270904.52</td>\n",
       "      <td>313296.81</td>\n",
       "      <td>242474.94</td>\n",
       "      <td>204322.23</td>\n",
       "      <td>221607.53</td>\n",
       "      <td>228827.57</td>\n",
       "      <td>259430.93</td>\n",
       "      <td>229972.66</td>\n",
       "      <td>220050.93</td>\n",
       "      <td>205154.29</td>\n",
       "      <td>198221.55</td>\n",
       "      <td>225608.80</td>\n",
       "      <td>226970.21</td>\n",
       "      <td>239814.49</td>\n",
       "      <td>223761.05</td>\n",
       "      <td>204151.85</td>\n",
       "      <td>185451.48</td>\n",
       "      <td>189876.79</td>\n",
       "      <td>224717.63</td>\n",
       "      <td>196383.31</td>\n",
       "      <td>200034.39</td>\n",
       "    </tr>\n",
       "    <tr>\n",
       "      <th>1032</th>\n",
       "      <td>213369.65</td>\n",
       "      <td>225173.48</td>\n",
       "      <td>220063.64</td>\n",
       "      <td>196870.65</td>\n",
       "      <td>177806.13</td>\n",
       "      <td>215332.61</td>\n",
       "      <td>223436.15</td>\n",
       "      <td>228450.24</td>\n",
       "      <td>270904.52</td>\n",
       "      <td>313296.81</td>\n",
       "      <td>242474.94</td>\n",
       "      <td>204322.23</td>\n",
       "      <td>221607.53</td>\n",
       "      <td>228827.57</td>\n",
       "      <td>259430.93</td>\n",
       "      <td>229972.66</td>\n",
       "      <td>220050.93</td>\n",
       "      <td>205154.29</td>\n",
       "      <td>198221.55</td>\n",
       "      <td>225608.80</td>\n",
       "      <td>226970.21</td>\n",
       "      <td>239814.49</td>\n",
       "      <td>223761.05</td>\n",
       "      <td>204151.85</td>\n",
       "      <td>185451.48</td>\n",
       "      <td>189876.79</td>\n",
       "      <td>224717.63</td>\n",
       "      <td>196383.31</td>\n",
       "      <td>200034.39</td>\n",
       "      <td>259498.28</td>\n",
       "    </tr>\n",
       "    <tr>\n",
       "      <th>1033</th>\n",
       "      <td>225173.48</td>\n",
       "      <td>220063.64</td>\n",
       "      <td>196870.65</td>\n",
       "      <td>177806.13</td>\n",
       "      <td>215332.61</td>\n",
       "      <td>223436.15</td>\n",
       "      <td>228450.24</td>\n",
       "      <td>270904.52</td>\n",
       "      <td>313296.81</td>\n",
       "      <td>242474.94</td>\n",
       "      <td>204322.23</td>\n",
       "      <td>221607.53</td>\n",
       "      <td>228827.57</td>\n",
       "      <td>259430.93</td>\n",
       "      <td>229972.66</td>\n",
       "      <td>220050.93</td>\n",
       "      <td>205154.29</td>\n",
       "      <td>198221.55</td>\n",
       "      <td>225608.80</td>\n",
       "      <td>226970.21</td>\n",
       "      <td>239814.49</td>\n",
       "      <td>223761.05</td>\n",
       "      <td>204151.85</td>\n",
       "      <td>185451.48</td>\n",
       "      <td>189876.79</td>\n",
       "      <td>224717.63</td>\n",
       "      <td>196383.31</td>\n",
       "      <td>200034.39</td>\n",
       "      <td>259498.28</td>\n",
       "      <td>267662.75</td>\n",
       "    </tr>\n",
       "    <tr>\n",
       "      <th>1034</th>\n",
       "      <td>220063.64</td>\n",
       "      <td>196870.65</td>\n",
       "      <td>177806.13</td>\n",
       "      <td>215332.61</td>\n",
       "      <td>223436.15</td>\n",
       "      <td>228450.24</td>\n",
       "      <td>270904.52</td>\n",
       "      <td>313296.81</td>\n",
       "      <td>242474.94</td>\n",
       "      <td>204322.23</td>\n",
       "      <td>221607.53</td>\n",
       "      <td>228827.57</td>\n",
       "      <td>259430.93</td>\n",
       "      <td>229972.66</td>\n",
       "      <td>220050.93</td>\n",
       "      <td>205154.29</td>\n",
       "      <td>198221.55</td>\n",
       "      <td>225608.80</td>\n",
       "      <td>226970.21</td>\n",
       "      <td>239814.49</td>\n",
       "      <td>223761.05</td>\n",
       "      <td>204151.85</td>\n",
       "      <td>185451.48</td>\n",
       "      <td>189876.79</td>\n",
       "      <td>224717.63</td>\n",
       "      <td>196383.31</td>\n",
       "      <td>200034.39</td>\n",
       "      <td>259498.28</td>\n",
       "      <td>267662.75</td>\n",
       "      <td>216580.22</td>\n",
       "    </tr>\n",
       "    <tr>\n",
       "      <th>1035</th>\n",
       "      <td>196870.65</td>\n",
       "      <td>177806.13</td>\n",
       "      <td>215332.61</td>\n",
       "      <td>223436.15</td>\n",
       "      <td>228450.24</td>\n",
       "      <td>270904.52</td>\n",
       "      <td>313296.81</td>\n",
       "      <td>242474.94</td>\n",
       "      <td>204322.23</td>\n",
       "      <td>221607.53</td>\n",
       "      <td>228827.57</td>\n",
       "      <td>259430.93</td>\n",
       "      <td>229972.66</td>\n",
       "      <td>220050.93</td>\n",
       "      <td>205154.29</td>\n",
       "      <td>198221.55</td>\n",
       "      <td>225608.80</td>\n",
       "      <td>226970.21</td>\n",
       "      <td>239814.49</td>\n",
       "      <td>223761.05</td>\n",
       "      <td>204151.85</td>\n",
       "      <td>185451.48</td>\n",
       "      <td>189876.79</td>\n",
       "      <td>224717.63</td>\n",
       "      <td>196383.31</td>\n",
       "      <td>200034.39</td>\n",
       "      <td>259498.28</td>\n",
       "      <td>267662.75</td>\n",
       "      <td>216580.22</td>\n",
       "      <td>199227.73</td>\n",
       "    </tr>\n",
       "  </tbody>\n",
       "</table>\n",
       "<p>1036 rows × 30 columns</p>\n",
       "</div>"
      ],
      "text/plain": [
       "             0          1          2   ...         27         28         29\n",
       "0     202559.30  239239.55  267978.31  ...  221091.68  211563.97  250800.16\n",
       "1     239239.55  267978.31  245188.95  ...  211563.97  250800.16  279446.68\n",
       "2     267978.31  245188.95  239839.21  ...  250800.16  279446.68  290365.96\n",
       "3     245188.95  239839.21  252661.10  ...  279446.68  290365.96  272452.24\n",
       "4     239839.21  252661.10  247474.02  ...  290365.96  272452.24  298753.14\n",
       "...         ...        ...        ...  ...        ...        ...        ...\n",
       "1031  219412.84  213369.65  225173.48  ...  224717.63  196383.31  200034.39\n",
       "1032  213369.65  225173.48  220063.64  ...  196383.31  200034.39  259498.28\n",
       "1033  225173.48  220063.64  196870.65  ...  200034.39  259498.28  267662.75\n",
       "1034  220063.64  196870.65  177806.13  ...  259498.28  267662.75  216580.22\n",
       "1035  196870.65  177806.13  215332.61  ...  267662.75  216580.22  199227.73\n",
       "\n",
       "[1036 rows x 30 columns]"
>>>>>>> Stashed changes
      ]
     },
     "execution_count": 283,
     "metadata": {
      "tags": []
     },
     "output_type": "execute_result"
    }
   ],
   "source": [
    "#printing the ytrain value\n",
    "\n",
    "pd.DataFrame(y_train)"
   ]
  },
  {
   "cell_type": "code",
   "execution_count": 249,
   "metadata": {
    "id": "Ivn4daoZ9nC0"
   },
   "outputs": [],
   "source": [
    "#Normalising the dataset between 0 and 1\n",
    "\n",
    "x_scaler = MinMaxScaler()\n",
    "X_train = x_scaler.fit_transform(X_train)"
   ]
  },
  {
   "cell_type": "code",
   "execution_count": 250,
   "metadata": {
    "id": "__54pdUm9nIA"
   },
   "outputs": [],
   "source": [
    "#Normalising the dataset\n",
    "\n",
    "y_scaler = MinMaxScaler()\n",
    "y_train = y_scaler.fit_transform(y_train)"
   ]
  },
  {
   "cell_type": "code",
   "execution_count": 251,
   "metadata": {
    "colab": {
     "base_uri": "https://localhost:8080/",
     "height": 204
    },
    "id": "Leh-wICt9nM2",
    "outputId": "adcf0f0a-2554-4840-ed5a-44767c81786c"
   },
   "outputs": [
    {
<<<<<<< Updated upstream
      "cell_type": "code",
      "metadata": {
        "id": "v_TPHNxa9nPU"
      },
      "source": [
        "#building sequential model using Keras\n",
        "\n",
        "reg = Sequential()\n",
        "reg.add(LSTM(units = 200, activation = 'relu', input_shape=(7,1)))\n",
        "reg.add(Dense(7))"
      ],
      "execution_count": null,
      "outputs": []
    },
    {
      "cell_type": "code",
      "metadata": {
        "id": "ckFbtlx69nKv"
      },
      "source": [
        "#here we have considered loss as mean square error and optimizer as adam\n",
        "\n",
        "reg.compile(loss='mse', optimizer='adam')"
      ],
      "execution_count": null,
      "outputs": []
    },
    {
      "cell_type": "code",
      "metadata": {
        "id": "GlBD94kc9nFh",
        "outputId": "ed62e41f-8e4f-438d-99c3-c13c8c6f4c1d",
        "colab": {
          "base_uri": "https://localhost:8080/",
          "height": 1000
        }
      },
      "source": [
        "#training the model\n",
        "\n",
        "reg.fit(X_train, y_train, epochs = 100)"
      ],
      "execution_count": null,
      "outputs": [
        {
          "output_type": "stream",
          "text": [
            "Epoch 1/100\n",
            "34/34 [==============================] - 1s 19ms/step - loss: 0.0832\n",
            "Epoch 2/100\n",
            "34/34 [==============================] - 1s 19ms/step - loss: 0.0236\n",
            "Epoch 3/100\n",
            "34/34 [==============================] - 1s 19ms/step - loss: 0.0223\n",
            "Epoch 4/100\n",
            "34/34 [==============================] - 1s 19ms/step - loss: 0.0222\n",
            "Epoch 5/100\n",
            "34/34 [==============================] - 1s 18ms/step - loss: 0.0220\n",
            "Epoch 6/100\n",
            "34/34 [==============================] - 1s 18ms/step - loss: 0.0219\n",
            "Epoch 7/100\n",
            "34/34 [==============================] - 1s 19ms/step - loss: 0.0216\n",
            "Epoch 8/100\n",
            "34/34 [==============================] - 1s 17ms/step - loss: 0.0213\n",
            "Epoch 9/100\n",
            "34/34 [==============================] - 1s 18ms/step - loss: 0.0208\n",
            "Epoch 10/100\n",
            "34/34 [==============================] - 1s 18ms/step - loss: 0.0203\n",
            "Epoch 11/100\n",
            "34/34 [==============================] - 1s 18ms/step - loss: 0.0204\n",
            "Epoch 12/100\n",
            "34/34 [==============================] - 1s 18ms/step - loss: 0.0202\n",
            "Epoch 13/100\n",
            "34/34 [==============================] - 1s 19ms/step - loss: 0.0197\n",
            "Epoch 14/100\n",
            "34/34 [==============================] - 1s 18ms/step - loss: 0.0194\n",
            "Epoch 15/100\n",
            "34/34 [==============================] - 1s 19ms/step - loss: 0.0193\n",
            "Epoch 16/100\n",
            "34/34 [==============================] - 1s 17ms/step - loss: 0.0193\n",
            "Epoch 17/100\n",
            "34/34 [==============================] - 1s 19ms/step - loss: 0.0186\n",
            "Epoch 18/100\n",
            "34/34 [==============================] - 1s 19ms/step - loss: 0.0182\n",
            "Epoch 19/100\n",
            "34/34 [==============================] - 1s 19ms/step - loss: 0.0185\n",
            "Epoch 20/100\n",
            "34/34 [==============================] - 1s 19ms/step - loss: 0.0181\n",
            "Epoch 21/100\n",
            "34/34 [==============================] - 1s 19ms/step - loss: 0.0183\n",
            "Epoch 22/100\n",
            "34/34 [==============================] - 1s 19ms/step - loss: 0.0181\n",
            "Epoch 23/100\n",
            "34/34 [==============================] - 1s 19ms/step - loss: 0.0181\n",
            "Epoch 24/100\n",
            "34/34 [==============================] - 1s 18ms/step - loss: 0.0179\n",
            "Epoch 25/100\n",
            "34/34 [==============================] - 1s 17ms/step - loss: 0.0178\n",
            "Epoch 26/100\n",
            "34/34 [==============================] - 1s 19ms/step - loss: 0.0177\n",
            "Epoch 27/100\n",
            "34/34 [==============================] - 1s 18ms/step - loss: 0.0177\n",
            "Epoch 28/100\n",
            "34/34 [==============================] - 1s 18ms/step - loss: 0.0176\n",
            "Epoch 29/100\n",
            "34/34 [==============================] - 1s 18ms/step - loss: 0.0179\n",
            "Epoch 30/100\n",
            "34/34 [==============================] - 1s 18ms/step - loss: 0.0175\n",
            "Epoch 31/100\n",
            "34/34 [==============================] - 1s 17ms/step - loss: 0.0172\n",
            "Epoch 32/100\n",
            "34/34 [==============================] - 1s 17ms/step - loss: 0.0175\n",
            "Epoch 33/100\n",
            "34/34 [==============================] - 1s 18ms/step - loss: 0.0172\n",
            "Epoch 34/100\n",
            "34/34 [==============================] - 1s 17ms/step - loss: 0.0172\n",
            "Epoch 35/100\n",
            "34/34 [==============================] - 1s 18ms/step - loss: 0.0172\n",
            "Epoch 36/100\n",
            "34/34 [==============================] - 1s 18ms/step - loss: 0.0173\n",
            "Epoch 37/100\n",
            "34/34 [==============================] - 1s 21ms/step - loss: 0.0171\n",
            "Epoch 38/100\n",
            "34/34 [==============================] - 1s 19ms/step - loss: 0.0169\n",
            "Epoch 39/100\n",
            "34/34 [==============================] - 1s 18ms/step - loss: 0.0169\n",
            "Epoch 40/100\n",
            "34/34 [==============================] - 1s 19ms/step - loss: 0.0168\n",
            "Epoch 41/100\n",
            "34/34 [==============================] - 1s 18ms/step - loss: 0.0167\n",
            "Epoch 42/100\n",
            "34/34 [==============================] - 1s 18ms/step - loss: 0.0167\n",
            "Epoch 43/100\n",
            "34/34 [==============================] - 1s 18ms/step - loss: 0.0166\n",
            "Epoch 44/100\n",
            "34/34 [==============================] - 1s 18ms/step - loss: 0.0166\n",
            "Epoch 45/100\n",
            "34/34 [==============================] - 1s 20ms/step - loss: 0.0165\n",
            "Epoch 46/100\n",
            "34/34 [==============================] - 1s 19ms/step - loss: 0.0166\n",
            "Epoch 47/100\n",
            "34/34 [==============================] - 1s 18ms/step - loss: 0.0163\n",
            "Epoch 48/100\n",
            "34/34 [==============================] - 1s 18ms/step - loss: 0.0162\n",
            "Epoch 49/100\n",
            "34/34 [==============================] - 1s 18ms/step - loss: 0.0164\n",
            "Epoch 50/100\n",
            "34/34 [==============================] - 1s 18ms/step - loss: 0.0161\n",
            "Epoch 51/100\n",
            "34/34 [==============================] - 1s 18ms/step - loss: 0.0160\n",
            "Epoch 52/100\n",
            "34/34 [==============================] - 1s 19ms/step - loss: 0.0160\n",
            "Epoch 53/100\n",
            "34/34 [==============================] - 1s 18ms/step - loss: 0.0161\n",
            "Epoch 54/100\n",
            "34/34 [==============================] - 1s 18ms/step - loss: 0.0162\n",
            "Epoch 55/100\n",
            "34/34 [==============================] - 1s 18ms/step - loss: 0.0159\n",
            "Epoch 56/100\n",
            "34/34 [==============================] - 1s 18ms/step - loss: 0.0158\n",
            "Epoch 57/100\n",
            "34/34 [==============================] - 1s 18ms/step - loss: 0.0157\n",
            "Epoch 58/100\n",
            "34/34 [==============================] - 1s 18ms/step - loss: 0.0159\n",
            "Epoch 59/100\n",
            "34/34 [==============================] - 1s 18ms/step - loss: 0.0163\n",
            "Epoch 60/100\n",
            "34/34 [==============================] - 1s 19ms/step - loss: 0.0156\n",
            "Epoch 61/100\n",
            "34/34 [==============================] - 1s 19ms/step - loss: 0.0156\n",
            "Epoch 62/100\n",
            "34/34 [==============================] - 1s 19ms/step - loss: 0.0156\n",
            "Epoch 63/100\n",
            "34/34 [==============================] - 1s 22ms/step - loss: 0.0157\n",
            "Epoch 64/100\n",
            "34/34 [==============================] - 1s 21ms/step - loss: 0.0155\n",
            "Epoch 65/100\n",
            "34/34 [==============================] - 1s 19ms/step - loss: 0.0154\n",
            "Epoch 66/100\n",
            "34/34 [==============================] - 1s 20ms/step - loss: 0.0153\n",
            "Epoch 67/100\n",
            "34/34 [==============================] - 1s 20ms/step - loss: 0.0156\n",
            "Epoch 68/100\n",
            "34/34 [==============================] - 1s 22ms/step - loss: 0.0154\n",
            "Epoch 69/100\n",
            "34/34 [==============================] - 1s 20ms/step - loss: 0.0152\n",
            "Epoch 70/100\n",
            "34/34 [==============================] - 1s 20ms/step - loss: 0.0150\n",
            "Epoch 71/100\n",
            "34/34 [==============================] - 1s 21ms/step - loss: 0.0152\n",
            "Epoch 72/100\n",
            "34/34 [==============================] - 1s 21ms/step - loss: 0.0153\n",
            "Epoch 73/100\n",
            "34/34 [==============================] - 1s 22ms/step - loss: 0.0151\n",
            "Epoch 74/100\n",
            "34/34 [==============================] - 1s 21ms/step - loss: 0.0151\n",
            "Epoch 75/100\n",
            "34/34 [==============================] - 1s 21ms/step - loss: 0.0150\n",
            "Epoch 76/100\n",
            "34/34 [==============================] - 1s 22ms/step - loss: 0.0153\n",
            "Epoch 77/100\n",
            "34/34 [==============================] - 1s 21ms/step - loss: 0.0157\n",
            "Epoch 78/100\n",
            "34/34 [==============================] - 1s 18ms/step - loss: 0.0149\n",
            "Epoch 79/100\n",
            "34/34 [==============================] - 1s 18ms/step - loss: 0.0149\n",
            "Epoch 80/100\n",
            "34/34 [==============================] - 1s 18ms/step - loss: 0.0150\n",
            "Epoch 81/100\n",
            "34/34 [==============================] - 1s 18ms/step - loss: 0.0148\n",
            "Epoch 82/100\n",
            "34/34 [==============================] - 1s 18ms/step - loss: 0.0148\n",
            "Epoch 83/100\n",
            "34/34 [==============================] - 1s 18ms/step - loss: 0.0149\n",
            "Epoch 84/100\n",
            "34/34 [==============================] - 1s 19ms/step - loss: 0.0147\n",
            "Epoch 85/100\n",
            "34/34 [==============================] - 1s 18ms/step - loss: 0.0147\n",
            "Epoch 86/100\n",
            "34/34 [==============================] - 1s 17ms/step - loss: 0.0147\n",
            "Epoch 87/100\n",
            "34/34 [==============================] - 1s 18ms/step - loss: 0.0145\n",
            "Epoch 88/100\n",
            "34/34 [==============================] - 1s 18ms/step - loss: 0.0148\n",
            "Epoch 89/100\n",
            "34/34 [==============================] - 1s 18ms/step - loss: 0.0149\n",
            "Epoch 90/100\n",
            "34/34 [==============================] - 1s 20ms/step - loss: 0.0148\n",
            "Epoch 91/100\n",
            "34/34 [==============================] - 1s 18ms/step - loss: 0.0146\n",
            "Epoch 92/100\n",
            "34/34 [==============================] - 1s 19ms/step - loss: 0.0145\n",
            "Epoch 93/100\n",
            "34/34 [==============================] - 1s 19ms/step - loss: 0.0147\n",
            "Epoch 94/100\n",
            "34/34 [==============================] - 1s 18ms/step - loss: 0.0144\n",
            "Epoch 95/100\n",
            "34/34 [==============================] - 1s 18ms/step - loss: 0.0144\n",
            "Epoch 96/100\n",
            "34/34 [==============================] - 1s 18ms/step - loss: 0.0144\n",
            "Epoch 97/100\n",
            "34/34 [==============================] - 1s 18ms/step - loss: 0.0143\n",
            "Epoch 98/100\n",
            "34/34 [==============================] - 1s 20ms/step - loss: 0.0145\n",
            "Epoch 99/100\n",
            "34/34 [==============================] - 1s 18ms/step - loss: 0.0142\n",
            "Epoch 100/100\n",
            "34/34 [==============================] - 1s 18ms/step - loss: 0.0143\n"
          ],
          "name": "stdout"
        },
        {
          "output_type": "execute_result",
          "data": {
            "text/plain": [
              "<tensorflow.python.keras.callbacks.History at 0x7fa7de0d4240>"
            ]
          },
          "metadata": {
            "tags": []
          },
          "execution_count": 256
        }
=======
     "data": {
      "text/html": [
       "<div>\n",
       "<style scoped>\n",
       "    .dataframe tbody tr th:only-of-type {\n",
       "        vertical-align: middle;\n",
       "    }\n",
       "\n",
       "    .dataframe tbody tr th {\n",
       "        vertical-align: top;\n",
       "    }\n",
       "\n",
       "    .dataframe thead th {\n",
       "        text-align: right;\n",
       "    }\n",
       "</style>\n",
       "<table border=\"1\" class=\"dataframe\">\n",
       "  <thead>\n",
       "    <tr style=\"text-align: right;\">\n",
       "      <th></th>\n",
       "      <th>0</th>\n",
       "      <th>1</th>\n",
       "      <th>2</th>\n",
       "      <th>3</th>\n",
       "      <th>4</th>\n",
       "      <th>5</th>\n",
       "      <th>6</th>\n",
       "    </tr>\n",
       "  </thead>\n",
       "  <tbody>\n",
       "    <tr>\n",
       "      <th>0</th>\n",
       "      <td>0.352364</td>\n",
       "      <td>0.181657</td>\n",
       "      <td>0.157073</td>\n",
       "      <td>0.323073</td>\n",
       "      <td>0.409862</td>\n",
       "      <td>0.374735</td>\n",
       "      <td>0.341330</td>\n",
       "    </tr>\n",
       "    <tr>\n",
       "      <th>1</th>\n",
       "      <td>0.181657</td>\n",
       "      <td>0.157073</td>\n",
       "      <td>0.323073</td>\n",
       "      <td>0.409862</td>\n",
       "      <td>0.374735</td>\n",
       "      <td>0.341330</td>\n",
       "      <td>0.334914</td>\n",
       "    </tr>\n",
       "    <tr>\n",
       "      <th>2</th>\n",
       "      <td>0.157073</td>\n",
       "      <td>0.323073</td>\n",
       "      <td>0.409862</td>\n",
       "      <td>0.374735</td>\n",
       "      <td>0.341330</td>\n",
       "      <td>0.334914</td>\n",
       "      <td>0.254930</td>\n",
       "    </tr>\n",
       "    <tr>\n",
       "      <th>3</th>\n",
       "      <td>0.323073</td>\n",
       "      <td>0.409862</td>\n",
       "      <td>0.374735</td>\n",
       "      <td>0.341330</td>\n",
       "      <td>0.334914</td>\n",
       "      <td>0.254930</td>\n",
       "      <td>0.349539</td>\n",
       "    </tr>\n",
       "    <tr>\n",
       "      <th>4</th>\n",
       "      <td>0.409862</td>\n",
       "      <td>0.374735</td>\n",
       "      <td>0.341330</td>\n",
       "      <td>0.334914</td>\n",
       "      <td>0.254930</td>\n",
       "      <td>0.349539</td>\n",
       "      <td>0.700692</td>\n",
       "    </tr>\n",
       "  </tbody>\n",
       "</table>\n",
       "</div>"
      ],
      "text/plain": [
       "          0         1         2         3         4         5         6\n",
       "0  0.352364  0.181657  0.157073  0.323073  0.409862  0.374735  0.341330\n",
       "1  0.181657  0.157073  0.323073  0.409862  0.374735  0.341330  0.334914\n",
       "2  0.157073  0.323073  0.409862  0.374735  0.341330  0.334914  0.254930\n",
       "3  0.323073  0.409862  0.374735  0.341330  0.334914  0.254930  0.349539\n",
       "4  0.409862  0.374735  0.341330  0.334914  0.254930  0.349539  0.700692"
>>>>>>> Stashed changes
      ]
     },
     "execution_count": 251,
     "metadata": {
      "tags": []
     },
     "output_type": "execute_result"
    }
   ],
   "source": [
    "pd.DataFrame(X_train).head()"
   ]
  },
  {
   "cell_type": "code",
   "execution_count": 252,
   "metadata": {
    "id": "mr4RHcFB9nRn"
   },
   "outputs": [],
   "source": [
    "#converting to 3 dimension\n",
    "\n",
    "X_train = X_train.reshape(1082, 7, 1)"
   ]
  },
  {
   "cell_type": "code",
   "execution_count": 253,
   "metadata": {
    "colab": {
     "base_uri": "https://localhost:8080/",
     "height": 34
    },
    "id": "2YCW6LGl9nVQ",
    "outputId": "d1c29128-869f-4ccf-99e5-6bc167094d22"
   },
   "outputs": [
    {
<<<<<<< Updated upstream
      "cell_type": "code",
      "metadata": {
        "id": "zTzTSPWa9nAq"
      },
      "source": [
        "#testing dataset\n",
        "\n",
        "data_test = np.array(data_test)"
      ],
      "execution_count": null,
      "outputs": []
    },
    {
      "cell_type": "code",
      "metadata": {
        "id": "Dle41OPc9m8R"
      },
      "source": [
        "#here we are splitting the data weekly wise(7days)\n",
        "\n",
        "X_test, y_test = [], []\n",
        "\n",
        "for i in range(7, len(data_test)-7):\n",
        "    X_test.append(data_test[i-7:i])\n",
        "    y_test.append(data_test[i:i+7])"
      ],
      "execution_count": null,
      "outputs": []
    },
    {
      "cell_type": "code",
      "metadata": {
        "id": "bQgEmVbSAETs"
      },
      "source": [
        "X_test, y_test = np.array(X_test), np.array(y_test)\n"
      ],
      "execution_count": null,
      "outputs": []
    },
    {
      "cell_type": "code",
      "metadata": {
        "id": "fRNJziueAEYo"
      },
      "source": [
        "X_test = x_scaler.transform(X_test)\n",
        "y_test = y_scaler.transform(y_test)"
      ],
      "execution_count": null,
      "outputs": []
    },
    {
      "cell_type": "code",
      "metadata": {
        "id": "a-wsvuYKAEbV",
        "outputId": "a9c086d1-2988-439f-a04e-7cd6d831905b",
        "colab": {
          "base_uri": "https://localhost:8080/",
          "height": 34
        }
      },
      "source": [
        "X_test.shape"
      ],
      "execution_count": null,
      "outputs": [
        {
          "output_type": "execute_result",
          "data": {
            "text/plain": [
              "(351, 7)"
            ]
          },
          "metadata": {
            "tags": []
          },
          "execution_count": 261
        }
=======
     "data": {
      "text/plain": [
       "(1082, 7, 1)"
>>>>>>> Stashed changes
      ]
     },
     "execution_count": 253,
     "metadata": {
      "tags": []
     },
     "output_type": "execute_result"
    }
   ],
   "source": [
    "X_train.shape\n"
   ]
  },
  {
   "cell_type": "code",
   "execution_count": 254,
   "metadata": {
    "id": "v_TPHNxa9nPU"
   },
   "outputs": [],
   "source": [
    "#building sequential model using Keras\n",
    "\n",
    "reg = Sequential()\n",
    "reg.add(LSTM(units = 200, activation = 'relu', input_shape=(7,1)))\n",
    "reg.add(Dense(7))"
   ]
  },
  {
   "cell_type": "code",
   "execution_count": 255,
   "metadata": {
    "id": "ckFbtlx69nKv"
   },
   "outputs": [],
   "source": [
    "#here we have considered loss as mean square error and optimizer as adam\n",
    "\n",
    "reg.compile(loss='mse', optimizer='adam')"
   ]
  },
  {
   "cell_type": "code",
   "execution_count": 256,
   "metadata": {
    "colab": {
     "base_uri": "https://localhost:8080/",
     "height": 1000
    },
    "id": "GlBD94kc9nFh",
    "outputId": "ed62e41f-8e4f-438d-99c3-c13c8c6f4c1d"
   },
   "outputs": [
    {
<<<<<<< Updated upstream
      "cell_type": "code",
      "metadata": {
        "id": "xgcnDNqfAEgk"
      },
      "source": [
        "#converting to 3 dimension\n",
        "\n",
        "X_test = X_test.reshape(351,7,1)"
      ],
      "execution_count": null,
      "outputs": []
    },
    {
      "cell_type": "code",
      "metadata": {
        "id": "_otXPwALAEl3",
        "outputId": "5d2b759e-4d04-47cc-d4d7-b9b9aad0ff53",
        "colab": {
          "base_uri": "https://localhost:8080/",
          "height": 34
        }
      },
      "source": [
        "X_test.shape"
      ],
      "execution_count": null,
      "outputs": [
        {
          "output_type": "execute_result",
          "data": {
            "text/plain": [
              "(351, 7, 1)"
            ]
          },
          "metadata": {
            "tags": []
          },
          "execution_count": 263
        }
=======
     "name": "stdout",
     "output_type": "stream",
     "text": [
      "Epoch 1/100\n",
      "34/34 [==============================] - 1s 19ms/step - loss: 0.0832\n",
      "Epoch 2/100\n",
      "34/34 [==============================] - 1s 19ms/step - loss: 0.0236\n",
      "Epoch 3/100\n",
      "34/34 [==============================] - 1s 19ms/step - loss: 0.0223\n",
      "Epoch 4/100\n",
      "34/34 [==============================] - 1s 19ms/step - loss: 0.0222\n",
      "Epoch 5/100\n",
      "34/34 [==============================] - 1s 18ms/step - loss: 0.0220\n",
      "Epoch 6/100\n",
      "34/34 [==============================] - 1s 18ms/step - loss: 0.0219\n",
      "Epoch 7/100\n",
      "34/34 [==============================] - 1s 19ms/step - loss: 0.0216\n",
      "Epoch 8/100\n",
      "34/34 [==============================] - 1s 17ms/step - loss: 0.0213\n",
      "Epoch 9/100\n",
      "34/34 [==============================] - 1s 18ms/step - loss: 0.0208\n",
      "Epoch 10/100\n",
      "34/34 [==============================] - 1s 18ms/step - loss: 0.0203\n",
      "Epoch 11/100\n",
      "34/34 [==============================] - 1s 18ms/step - loss: 0.0204\n",
      "Epoch 12/100\n",
      "34/34 [==============================] - 1s 18ms/step - loss: 0.0202\n",
      "Epoch 13/100\n",
      "34/34 [==============================] - 1s 19ms/step - loss: 0.0197\n",
      "Epoch 14/100\n",
      "34/34 [==============================] - 1s 18ms/step - loss: 0.0194\n",
      "Epoch 15/100\n",
      "34/34 [==============================] - 1s 19ms/step - loss: 0.0193\n",
      "Epoch 16/100\n",
      "34/34 [==============================] - 1s 17ms/step - loss: 0.0193\n",
      "Epoch 17/100\n",
      "34/34 [==============================] - 1s 19ms/step - loss: 0.0186\n",
      "Epoch 18/100\n",
      "34/34 [==============================] - 1s 19ms/step - loss: 0.0182\n",
      "Epoch 19/100\n",
      "34/34 [==============================] - 1s 19ms/step - loss: 0.0185\n",
      "Epoch 20/100\n",
      "34/34 [==============================] - 1s 19ms/step - loss: 0.0181\n",
      "Epoch 21/100\n",
      "34/34 [==============================] - 1s 19ms/step - loss: 0.0183\n",
      "Epoch 22/100\n",
      "34/34 [==============================] - 1s 19ms/step - loss: 0.0181\n",
      "Epoch 23/100\n",
      "34/34 [==============================] - 1s 19ms/step - loss: 0.0181\n",
      "Epoch 24/100\n",
      "34/34 [==============================] - 1s 18ms/step - loss: 0.0179\n",
      "Epoch 25/100\n",
      "34/34 [==============================] - 1s 17ms/step - loss: 0.0178\n",
      "Epoch 26/100\n",
      "34/34 [==============================] - 1s 19ms/step - loss: 0.0177\n",
      "Epoch 27/100\n",
      "34/34 [==============================] - 1s 18ms/step - loss: 0.0177\n",
      "Epoch 28/100\n",
      "34/34 [==============================] - 1s 18ms/step - loss: 0.0176\n",
      "Epoch 29/100\n",
      "34/34 [==============================] - 1s 18ms/step - loss: 0.0179\n",
      "Epoch 30/100\n",
      "34/34 [==============================] - 1s 18ms/step - loss: 0.0175\n",
      "Epoch 31/100\n",
      "34/34 [==============================] - 1s 17ms/step - loss: 0.0172\n",
      "Epoch 32/100\n",
      "34/34 [==============================] - 1s 17ms/step - loss: 0.0175\n",
      "Epoch 33/100\n",
      "34/34 [==============================] - 1s 18ms/step - loss: 0.0172\n",
      "Epoch 34/100\n",
      "34/34 [==============================] - 1s 17ms/step - loss: 0.0172\n",
      "Epoch 35/100\n",
      "34/34 [==============================] - 1s 18ms/step - loss: 0.0172\n",
      "Epoch 36/100\n",
      "34/34 [==============================] - 1s 18ms/step - loss: 0.0173\n",
      "Epoch 37/100\n",
      "34/34 [==============================] - 1s 21ms/step - loss: 0.0171\n",
      "Epoch 38/100\n",
      "34/34 [==============================] - 1s 19ms/step - loss: 0.0169\n",
      "Epoch 39/100\n",
      "34/34 [==============================] - 1s 18ms/step - loss: 0.0169\n",
      "Epoch 40/100\n",
      "34/34 [==============================] - 1s 19ms/step - loss: 0.0168\n",
      "Epoch 41/100\n",
      "34/34 [==============================] - 1s 18ms/step - loss: 0.0167\n",
      "Epoch 42/100\n",
      "34/34 [==============================] - 1s 18ms/step - loss: 0.0167\n",
      "Epoch 43/100\n",
      "34/34 [==============================] - 1s 18ms/step - loss: 0.0166\n",
      "Epoch 44/100\n",
      "34/34 [==============================] - 1s 18ms/step - loss: 0.0166\n",
      "Epoch 45/100\n",
      "34/34 [==============================] - 1s 20ms/step - loss: 0.0165\n",
      "Epoch 46/100\n",
      "34/34 [==============================] - 1s 19ms/step - loss: 0.0166\n",
      "Epoch 47/100\n",
      "34/34 [==============================] - 1s 18ms/step - loss: 0.0163\n",
      "Epoch 48/100\n",
      "34/34 [==============================] - 1s 18ms/step - loss: 0.0162\n",
      "Epoch 49/100\n",
      "34/34 [==============================] - 1s 18ms/step - loss: 0.0164\n",
      "Epoch 50/100\n",
      "34/34 [==============================] - 1s 18ms/step - loss: 0.0161\n",
      "Epoch 51/100\n",
      "34/34 [==============================] - 1s 18ms/step - loss: 0.0160\n",
      "Epoch 52/100\n",
      "34/34 [==============================] - 1s 19ms/step - loss: 0.0160\n",
      "Epoch 53/100\n",
      "34/34 [==============================] - 1s 18ms/step - loss: 0.0161\n",
      "Epoch 54/100\n",
      "34/34 [==============================] - 1s 18ms/step - loss: 0.0162\n",
      "Epoch 55/100\n",
      "34/34 [==============================] - 1s 18ms/step - loss: 0.0159\n",
      "Epoch 56/100\n",
      "34/34 [==============================] - 1s 18ms/step - loss: 0.0158\n",
      "Epoch 57/100\n",
      "34/34 [==============================] - 1s 18ms/step - loss: 0.0157\n",
      "Epoch 58/100\n",
      "34/34 [==============================] - 1s 18ms/step - loss: 0.0159\n",
      "Epoch 59/100\n",
      "34/34 [==============================] - 1s 18ms/step - loss: 0.0163\n",
      "Epoch 60/100\n",
      "34/34 [==============================] - 1s 19ms/step - loss: 0.0156\n",
      "Epoch 61/100\n",
      "34/34 [==============================] - 1s 19ms/step - loss: 0.0156\n",
      "Epoch 62/100\n",
      "34/34 [==============================] - 1s 19ms/step - loss: 0.0156\n",
      "Epoch 63/100\n",
      "34/34 [==============================] - 1s 22ms/step - loss: 0.0157\n",
      "Epoch 64/100\n",
      "34/34 [==============================] - 1s 21ms/step - loss: 0.0155\n",
      "Epoch 65/100\n",
      "34/34 [==============================] - 1s 19ms/step - loss: 0.0154\n",
      "Epoch 66/100\n",
      "34/34 [==============================] - 1s 20ms/step - loss: 0.0153\n",
      "Epoch 67/100\n",
      "34/34 [==============================] - 1s 20ms/step - loss: 0.0156\n",
      "Epoch 68/100\n",
      "34/34 [==============================] - 1s 22ms/step - loss: 0.0154\n",
      "Epoch 69/100\n",
      "34/34 [==============================] - 1s 20ms/step - loss: 0.0152\n",
      "Epoch 70/100\n",
      "34/34 [==============================] - 1s 20ms/step - loss: 0.0150\n",
      "Epoch 71/100\n",
      "34/34 [==============================] - 1s 21ms/step - loss: 0.0152\n",
      "Epoch 72/100\n",
      "34/34 [==============================] - 1s 21ms/step - loss: 0.0153\n",
      "Epoch 73/100\n",
      "34/34 [==============================] - 1s 22ms/step - loss: 0.0151\n",
      "Epoch 74/100\n",
      "34/34 [==============================] - 1s 21ms/step - loss: 0.0151\n",
      "Epoch 75/100\n",
      "34/34 [==============================] - 1s 21ms/step - loss: 0.0150\n",
      "Epoch 76/100\n",
      "34/34 [==============================] - 1s 22ms/step - loss: 0.0153\n",
      "Epoch 77/100\n",
      "34/34 [==============================] - 1s 21ms/step - loss: 0.0157\n",
      "Epoch 78/100\n",
      "34/34 [==============================] - 1s 18ms/step - loss: 0.0149\n",
      "Epoch 79/100\n",
      "34/34 [==============================] - 1s 18ms/step - loss: 0.0149\n",
      "Epoch 80/100\n",
      "34/34 [==============================] - 1s 18ms/step - loss: 0.0150\n",
      "Epoch 81/100\n",
      "34/34 [==============================] - 1s 18ms/step - loss: 0.0148\n",
      "Epoch 82/100\n",
      "34/34 [==============================] - 1s 18ms/step - loss: 0.0148\n",
      "Epoch 83/100\n",
      "34/34 [==============================] - 1s 18ms/step - loss: 0.0149\n",
      "Epoch 84/100\n",
      "34/34 [==============================] - 1s 19ms/step - loss: 0.0147\n",
      "Epoch 85/100\n",
      "34/34 [==============================] - 1s 18ms/step - loss: 0.0147\n",
      "Epoch 86/100\n",
      "34/34 [==============================] - 1s 17ms/step - loss: 0.0147\n",
      "Epoch 87/100\n",
      "34/34 [==============================] - 1s 18ms/step - loss: 0.0145\n",
      "Epoch 88/100\n",
      "34/34 [==============================] - 1s 18ms/step - loss: 0.0148\n",
      "Epoch 89/100\n",
      "34/34 [==============================] - 1s 18ms/step - loss: 0.0149\n",
      "Epoch 90/100\n",
      "34/34 [==============================] - 1s 20ms/step - loss: 0.0148\n",
      "Epoch 91/100\n",
      "34/34 [==============================] - 1s 18ms/step - loss: 0.0146\n",
      "Epoch 92/100\n",
      "34/34 [==============================] - 1s 19ms/step - loss: 0.0145\n",
      "Epoch 93/100\n",
      "34/34 [==============================] - 1s 19ms/step - loss: 0.0147\n",
      "Epoch 94/100\n",
      "34/34 [==============================] - 1s 18ms/step - loss: 0.0144\n",
      "Epoch 95/100\n",
      "34/34 [==============================] - 1s 18ms/step - loss: 0.0144\n",
      "Epoch 96/100\n",
      "34/34 [==============================] - 1s 18ms/step - loss: 0.0144\n",
      "Epoch 97/100\n",
      "34/34 [==============================] - 1s 18ms/step - loss: 0.0143\n",
      "Epoch 98/100\n",
      "34/34 [==============================] - 1s 20ms/step - loss: 0.0145\n",
      "Epoch 99/100\n",
      "34/34 [==============================] - 1s 18ms/step - loss: 0.0142\n",
      "Epoch 100/100\n",
      "34/34 [==============================] - 1s 18ms/step - loss: 0.0143\n"
     ]
    },
    {
     "data": {
      "text/plain": [
       "<tensorflow.python.keras.callbacks.History at 0x7fa7de0d4240>"
>>>>>>> Stashed changes
      ]
     },
     "execution_count": 256,
     "metadata": {
      "tags": []
     },
     "output_type": "execute_result"
    }
   ],
   "source": [
    "#training the model\n",
    "\n",
    "reg.fit(X_train, y_train, epochs = 100)"
   ]
  },
  {
   "cell_type": "code",
   "execution_count": 257,
   "metadata": {
    "id": "zTzTSPWa9nAq"
   },
   "outputs": [],
   "source": [
    "#testing dataset\n",
    "\n",
    "data_test = np.array(data_test)"
   ]
  },
  {
   "cell_type": "code",
   "execution_count": 258,
   "metadata": {
    "id": "Dle41OPc9m8R"
   },
   "outputs": [],
   "source": [
    "#here we are splitting the data weekly wise(7days)\n",
    "\n",
    "X_test, y_test = [], []\n",
    "\n",
    "for i in range(7, len(data_test)-7):\n",
    "    X_test.append(data_test[i-7:i])\n",
    "    y_test.append(data_test[i:i+7])"
   ]
  },
  {
   "cell_type": "code",
   "execution_count": 259,
   "metadata": {
    "id": "bQgEmVbSAETs"
   },
   "outputs": [],
   "source": [
    "X_test, y_test = np.array(X_test), np.array(y_test)\n"
   ]
  },
  {
   "cell_type": "code",
   "execution_count": 260,
   "metadata": {
    "id": "fRNJziueAEYo"
   },
   "outputs": [],
   "source": [
    "X_test = x_scaler.transform(X_test)\n",
    "y_test = y_scaler.transform(y_test)"
   ]
  },
  {
   "cell_type": "code",
   "execution_count": 261,
   "metadata": {
    "colab": {
     "base_uri": "https://localhost:8080/",
     "height": 34
    },
    "id": "a-wsvuYKAEbV",
    "outputId": "a9c086d1-2988-439f-a04e-7cd6d831905b"
   },
   "outputs": [
    {
<<<<<<< Updated upstream
      "cell_type": "code",
      "metadata": {
        "id": "sxHG_alFAEkY",
        "outputId": "d262d991-004f-43ef-b0b0-74620f592aad",
        "colab": {
          "base_uri": "https://localhost:8080/",
          "height": 54
        }
      },
      "source": [
        "y_pred = reg.predict(X_test)"
      ],
      "execution_count": null,
      "outputs": [
        {
          "output_type": "stream",
          "text": [
            "WARNING:tensorflow:5 out of the last 15 calls to <function Model.make_predict_function.<locals>.predict_function at 0x7fa7dc2cd6a8> triggered tf.function retracing. Tracing is expensive and the excessive number of tracings could be due to (1) creating @tf.function repeatedly in a loop, (2) passing tensors with different shapes, (3) passing Python objects instead of tensors. For (1), please define your @tf.function outside of the loop. For (2), @tf.function has experimental_relax_shapes=True option that relaxes argument shapes that can avoid unnecessary retracing. For (3), please refer to https://www.tensorflow.org/tutorials/customization/performance#python_or_tensor_args and https://www.tensorflow.org/api_docs/python/tf/function for  more details.\n"
          ],
          "name": "stdout"
        }
=======
     "data": {
      "text/plain": [
       "(351, 7)"
>>>>>>> Stashed changes
      ]
     },
     "execution_count": 261,
     "metadata": {
      "tags": []
     },
     "output_type": "execute_result"
    }
   ],
   "source": [
    "X_test.shape"
   ]
  },
  {
   "cell_type": "code",
   "execution_count": 262,
   "metadata": {
    "id": "xgcnDNqfAEgk"
   },
   "outputs": [],
   "source": [
    "#converting to 3 dimension\n",
    "\n",
    "X_test = X_test.reshape(351,7,1)"
   ]
  },
  {
   "cell_type": "code",
   "execution_count": 263,
   "metadata": {
    "colab": {
     "base_uri": "https://localhost:8080/",
     "height": 34
    },
    "id": "_otXPwALAEl3",
    "outputId": "5d2b759e-4d04-47cc-d4d7-b9b9aad0ff53"
   },
   "outputs": [
    {
<<<<<<< Updated upstream
      "cell_type": "code",
      "metadata": {
        "id": "EKWgPwFIAT8K",
        "outputId": "edc71896-879b-4e09-ba9f-581cf788c842",
        "colab": {
          "base_uri": "https://localhost:8080/",
          "height": 238
        }
      },
      "source": [
        "y_pred"
      ],
      "execution_count": null,
      "outputs": [
        {
          "output_type": "execute_result",
          "data": {
            "text/plain": [
              "array([[0.3745624 , 0.3611636 , 0.37715012, ..., 0.24174231, 0.22721352,\n",
              "        0.3288913 ],\n",
              "       [0.37070298, 0.39411554, 0.34816134, ..., 0.21722972, 0.3456571 ,\n",
              "        0.39009857],\n",
              "       [0.35154685, 0.3637746 , 0.24854937, ..., 0.3574006 , 0.44291955,\n",
              "        0.39021516],\n",
              "       ...,\n",
              "       [0.2153214 , 0.41793233, 0.5459913 , ..., 0.5703384 , 0.48120838,\n",
              "        0.28899705],\n",
              "       [0.31281775, 0.51425105, 0.5319567 , ..., 0.4775476 , 0.26944155,\n",
              "        0.18287762],\n",
              "       [0.42969683, 0.48464307, 0.525732  , ..., 0.30766287, 0.20849267,\n",
              "        0.35214484]], dtype=float32)"
            ]
          },
          "metadata": {
            "tags": []
          },
          "execution_count": 265
        }
=======
     "data": {
      "text/plain": [
       "(351, 7, 1)"
>>>>>>> Stashed changes
      ]
     },
     "execution_count": 263,
     "metadata": {
      "tags": []
     },
     "output_type": "execute_result"
    }
   ],
   "source": [
    "X_test.shape"
   ]
  },
  {
   "cell_type": "code",
   "execution_count": 264,
   "metadata": {
    "colab": {
     "base_uri": "https://localhost:8080/",
     "height": 54
    },
    "id": "sxHG_alFAEkY",
    "outputId": "d262d991-004f-43ef-b0b0-74620f592aad"
   },
   "outputs": [
    {
<<<<<<< Updated upstream
      "cell_type": "code",
      "metadata": {
        "id": "M_49yU3KAUBQ"
      },
      "source": [
        "y_true = y_scaler.inverse_transform(y_test)"
      ],
      "execution_count": null,
      "outputs": []
=======
     "name": "stdout",
     "output_type": "stream",
     "text": [
      "WARNING:tensorflow:5 out of the last 15 calls to <function Model.make_predict_function.<locals>.predict_function at 0x7fa7dc2cd6a8> triggered tf.function retracing. Tracing is expensive and the excessive number of tracings could be due to (1) creating @tf.function repeatedly in a loop, (2) passing tensors with different shapes, (3) passing Python objects instead of tensors. For (1), please define your @tf.function outside of the loop. For (2), @tf.function has experimental_relax_shapes=True option that relaxes argument shapes that can avoid unnecessary retracing. For (3), please refer to https://www.tensorflow.org/tutorials/customization/performance#python_or_tensor_args and https://www.tensorflow.org/api_docs/python/tf/function for  more details.\n"
     ]
    }
   ],
   "source": [
    "y_pred = reg.predict(X_test)"
   ]
  },
  {
   "cell_type": "code",
   "execution_count": 265,
   "metadata": {
    "colab": {
     "base_uri": "https://localhost:8080/",
     "height": 238
>>>>>>> Stashed changes
    },
    "id": "EKWgPwFIAT8K",
    "outputId": "edc71896-879b-4e09-ba9f-581cf788c842"
   },
   "outputs": [
    {
<<<<<<< Updated upstream
      "cell_type": "code",
      "metadata": {
        "id": "cAwLVJBPAUET",
        "outputId": "9591bcf2-4956-4d4c-c760-40f53d991710",
        "colab": {
          "base_uri": "https://localhost:8080/",
          "height": 238
        }
      },
      "source": [
        "y_true"
      ],
      "execution_count": null,
      "outputs": [
        {
          "output_type": "execute_result",
          "data": {
            "text/plain": [
              "array([[226892.2 , 210966.87, 216157.39, ..., 217257.92, 203706.48,\n",
              "        294141.07],\n",
              "       [210966.87, 216157.39, 239457.27, ..., 203706.48, 294141.07,\n",
              "        304992.49],\n",
              "       [216157.39, 239457.27, 217257.92, ..., 294141.07, 304992.49,\n",
              "        273943.51],\n",
              "       ...,\n",
              "       [180291.23, 203636.05, 204337.86, ..., 192241.05, 214512.13,\n",
              "        227043.37],\n",
              "       [203636.05, 204337.86, 196625.49, ..., 214512.13, 227043.37,\n",
              "        236587.05],\n",
              "       [204337.86, 196625.49, 192241.05, ..., 227043.37, 236587.05,\n",
              "        280820.25]])"
            ]
          },
          "metadata": {
            "tags": []
          },
          "execution_count": 267
        }
=======
     "data": {
      "text/plain": [
       "array([[0.3745624 , 0.3611636 , 0.37715012, ..., 0.24174231, 0.22721352,\n",
       "        0.3288913 ],\n",
       "       [0.37070298, 0.39411554, 0.34816134, ..., 0.21722972, 0.3456571 ,\n",
       "        0.39009857],\n",
       "       [0.35154685, 0.3637746 , 0.24854937, ..., 0.3574006 , 0.44291955,\n",
       "        0.39021516],\n",
       "       ...,\n",
       "       [0.2153214 , 0.41793233, 0.5459913 , ..., 0.5703384 , 0.48120838,\n",
       "        0.28899705],\n",
       "       [0.31281775, 0.51425105, 0.5319567 , ..., 0.4775476 , 0.26944155,\n",
       "        0.18287762],\n",
       "       [0.42969683, 0.48464307, 0.525732  , ..., 0.30766287, 0.20849267,\n",
       "        0.35214484]], dtype=float32)"
>>>>>>> Stashed changes
      ]
     },
     "execution_count": 265,
     "metadata": {
      "tags": []
     },
     "output_type": "execute_result"
    }
   ],
   "source": [
    "y_pred"
   ]
  },
  {
   "cell_type": "code",
   "execution_count": 266,
   "metadata": {
    "id": "M_49yU3KAUBQ"
   },
   "outputs": [],
   "source": [
    "y_true = y_scaler.inverse_transform(y_test)"
   ]
  },
  {
   "cell_type": "code",
   "execution_count": 267,
   "metadata": {
    "colab": {
     "base_uri": "https://localhost:8080/",
     "height": 238
    },
    "id": "cAwLVJBPAUET",
    "outputId": "9591bcf2-4956-4d4c-c760-40f53d991710"
   },
   "outputs": [
    {
<<<<<<< Updated upstream
      "cell_type": "code",
      "metadata": {
        "id": "AxPfS09YAT--"
      },
      "source": [
        "def evaluate_model(y_true, y_predicted):\n",
        "    scores = []\n",
        "    \n",
        "    #calculate scores for each day\n",
        "    for i in range(y_true.shape[1]):\n",
        "        mse = mean_squared_error(y_true[:, i], y_predicted[:, i])\n",
        "        rmse = np.sqrt(mse)\n",
        "        scores.append(rmse)\n",
        "    \n",
        "    #calculate score for whole prediction\n",
        "    total_score = 0\n",
        "    for row in range(y_true.shape[0]):\n",
        "        for col in range(y_predicted.shape[1]):\n",
        "            total_score = total_score + (y_true[row, col] - y_predicted[row, col])**2\n",
        "    total_score = np.sqrt(total_score/(y_true.shape[0]*y_predicted.shape[1]))\n",
        "    \n",
        "    return total_score, scores"
      ],
      "execution_count": null,
      "outputs": []
    },
    {
      "cell_type": "code",
      "metadata": {
        "id": "dtcad4aIAT6V",
        "outputId": "77aa459c-c1b6-4902-d619-db9811eeb0a7",
        "colab": {
          "base_uri": "https://localhost:8080/",
          "height": 153
        }
      },
      "source": [
        "evaluate_model(y_true, y_pred)"
      ],
      "execution_count": null,
      "outputs": [
        {
          "output_type": "execute_result",
          "data": {
            "text/plain": [
              "(237941.82711540966,\n",
              " [238010.18171506547,\n",
              "  237933.4678228054,\n",
              "  237888.2608554835,\n",
              "  237884.02129429777,\n",
              "  237849.35039723825,\n",
              "  237901.89551058642,\n",
              "  238125.49698635945])"
            ]
          },
          "metadata": {
            "tags": []
          },
          "execution_count": 269
        }
=======
     "data": {
      "text/plain": [
       "array([[226892.2 , 210966.87, 216157.39, ..., 217257.92, 203706.48,\n",
       "        294141.07],\n",
       "       [210966.87, 216157.39, 239457.27, ..., 203706.48, 294141.07,\n",
       "        304992.49],\n",
       "       [216157.39, 239457.27, 217257.92, ..., 294141.07, 304992.49,\n",
       "        273943.51],\n",
       "       ...,\n",
       "       [180291.23, 203636.05, 204337.86, ..., 192241.05, 214512.13,\n",
       "        227043.37],\n",
       "       [203636.05, 204337.86, 196625.49, ..., 214512.13, 227043.37,\n",
       "        236587.05],\n",
       "       [204337.86, 196625.49, 192241.05, ..., 227043.37, 236587.05,\n",
       "        280820.25]])"
>>>>>>> Stashed changes
      ]
     },
     "execution_count": 267,
     "metadata": {
      "tags": []
     },
     "output_type": "execute_result"
    }
   ],
   "source": [
    "y_true"
   ]
  },
  {
   "cell_type": "code",
   "execution_count": 268,
   "metadata": {
    "id": "AxPfS09YAT--"
   },
   "outputs": [],
   "source": [
    "def evaluate_model(y_true, y_predicted):\n",
    "    scores = []\n",
    "    \n",
    "    #calculate scores for each day\n",
    "    for i in range(y_true.shape[1]):\n",
    "        mse = mean_squared_error(y_true[:, i], y_predicted[:, i])\n",
    "        rmse = np.sqrt(mse)\n",
    "        scores.append(rmse)\n",
    "    \n",
    "    #calculate score for whole prediction\n",
    "    total_score = 0\n",
    "    for row in range(y_true.shape[0]):\n",
    "        for col in range(y_predicted.shape[1]):\n",
    "            total_score = total_score + (y_true[row, col] - y_predicted[row, col])**2\n",
    "    total_score = np.sqrt(total_score/(y_true.shape[0]*y_predicted.shape[1]))\n",
    "    \n",
    "    return total_score, scores"
   ]
  },
  {
   "cell_type": "code",
   "execution_count": 269,
   "metadata": {
    "colab": {
     "base_uri": "https://localhost:8080/",
     "height": 153
    },
    "id": "dtcad4aIAT6V",
    "outputId": "77aa459c-c1b6-4902-d619-db9811eeb0a7"
   },
   "outputs": [
    {
<<<<<<< Updated upstream
      "cell_type": "code",
      "metadata": {
        "id": "6TLni04MCt1Y",
        "outputId": "cb336b33-0b23-428b-ce6e-7421dd356d36",
        "colab": {
          "base_uri": "https://localhost:8080/",
          "height": 238
        }
      },
      "source": [
        "y_true"
      ],
      "execution_count": null,
      "outputs": [
        {
          "output_type": "execute_result",
          "data": {
            "text/plain": [
              "array([[226892.2 , 210966.87, 216157.39, ..., 217257.92, 203706.48,\n",
              "        294141.07],\n",
              "       [210966.87, 216157.39, 239457.27, ..., 203706.48, 294141.07,\n",
              "        304992.49],\n",
              "       [216157.39, 239457.27, 217257.92, ..., 294141.07, 304992.49,\n",
              "        273943.51],\n",
              "       ...,\n",
              "       [180291.23, 203636.05, 204337.86, ..., 192241.05, 214512.13,\n",
              "        227043.37],\n",
              "       [203636.05, 204337.86, 196625.49, ..., 214512.13, 227043.37,\n",
              "        236587.05],\n",
              "       [204337.86, 196625.49, 192241.05, ..., 227043.37, 236587.05,\n",
              "        280820.25]])"
            ]
          },
          "metadata": {
            "tags": []
          },
          "execution_count": 277
        }
=======
     "data": {
      "text/plain": [
       "(237941.82711540966,\n",
       " [238010.18171506547,\n",
       "  237933.4678228054,\n",
       "  237888.2608554835,\n",
       "  237884.02129429777,\n",
       "  237849.35039723825,\n",
       "  237901.89551058642,\n",
       "  238125.49698635945])"
>>>>>>> Stashed changes
      ]
     },
     "execution_count": 269,
     "metadata": {
      "tags": []
     },
     "output_type": "execute_result"
    }
   ],
   "source": [
    "evaluate_model(y_true, y_pred)"
   ]
  },
  {
   "cell_type": "code",
   "execution_count": 277,
   "metadata": {
    "colab": {
     "base_uri": "https://localhost:8080/",
     "height": 238
    },
    "id": "6TLni04MCt1Y",
    "outputId": "cb336b33-0b23-428b-ce6e-7421dd356d36"
   },
   "outputs": [
    {
<<<<<<< Updated upstream
      "cell_type": "code",
      "metadata": {
        "id": "NB3AvvS6Ct7-",
        "outputId": "fcd4b921-e28a-4efb-f022-5ac9663f6112",
        "colab": {
          "base_uri": "https://localhost:8080/",
          "height": 238
        }
      },
      "source": [
        "y_pred"
      ],
      "execution_count": null,
      "outputs": [
        {
          "output_type": "execute_result",
          "data": {
            "text/plain": [
              "array([[0.3745624 , 0.3611636 , 0.37715012, ..., 0.24174231, 0.22721352,\n",
              "        0.3288913 ],\n",
              "       [0.37070298, 0.39411554, 0.34816134, ..., 0.21722972, 0.3456571 ,\n",
              "        0.39009857],\n",
              "       [0.35154685, 0.3637746 , 0.24854937, ..., 0.3574006 , 0.44291955,\n",
              "        0.39021516],\n",
              "       ...,\n",
              "       [0.2153214 , 0.41793233, 0.5459913 , ..., 0.5703384 , 0.48120838,\n",
              "        0.28899705],\n",
              "       [0.31281775, 0.51425105, 0.5319567 , ..., 0.4775476 , 0.26944155,\n",
              "        0.18287762],\n",
              "       [0.42969683, 0.48464307, 0.525732  , ..., 0.30766287, 0.20849267,\n",
              "        0.35214484]], dtype=float32)"
            ]
          },
          "metadata": {
            "tags": []
          },
          "execution_count": 278
        }
=======
     "data": {
      "text/plain": [
       "array([[226892.2 , 210966.87, 216157.39, ..., 217257.92, 203706.48,\n",
       "        294141.07],\n",
       "       [210966.87, 216157.39, 239457.27, ..., 203706.48, 294141.07,\n",
       "        304992.49],\n",
       "       [216157.39, 239457.27, 217257.92, ..., 294141.07, 304992.49,\n",
       "        273943.51],\n",
       "       ...,\n",
       "       [180291.23, 203636.05, 204337.86, ..., 192241.05, 214512.13,\n",
       "        227043.37],\n",
       "       [203636.05, 204337.86, 196625.49, ..., 214512.13, 227043.37,\n",
       "        236587.05],\n",
       "       [204337.86, 196625.49, 192241.05, ..., 227043.37, 236587.05,\n",
       "        280820.25]])"
>>>>>>> Stashed changes
      ]
     },
     "execution_count": 277,
     "metadata": {
      "tags": []
     },
     "output_type": "execute_result"
    }
   ],
   "source": [
    "y_true"
   ]
  },
  {
   "cell_type": "code",
   "execution_count": 278,
   "metadata": {
    "colab": {
     "base_uri": "https://localhost:8080/",
     "height": 238
    },
    "id": "NB3AvvS6Ct7-",
    "outputId": "fcd4b921-e28a-4efb-f022-5ac9663f6112"
   },
   "outputs": [
    {
<<<<<<< Updated upstream
      "cell_type": "code",
      "metadata": {
        "id": "QbHg2kqOCt6C"
      },
      "source": [
        ""
      ],
      "execution_count": null,
      "outputs": []
    },
    {
      "cell_type": "code",
      "metadata": {
        "id": "bNPXMd8tCt4L"
      },
      "source": [
        ""
      ],
      "execution_count": null,
      "outputs": []
    },
    {
      "cell_type": "code",
      "metadata": {
        "id": "D6chqOSQCtzV"
      },
      "source": [
        "import chart_studio.tools as tls\n",
        "tls.get_embed('https://ayaz95.github.io/plotly/')"
      ],
      "execution_count": null,
      "outputs": []
    },
    {
      "cell_type": "code",
      "metadata": {
        "id": "FCmLFaJaCtxS"
      },
      "source": [
        ""
      ],
      "execution_count": null,
      "outputs": []
    },
    {
      "cell_type": "code",
      "metadata": {
        "id": "Ei2vbKstCtu-"
      },
      "source": [
        ""
      ],
      "execution_count": null,
      "outputs": []
    },
    {
      "cell_type": "code",
      "metadata": {
        "id": "IvimcSRdCttK"
      },
      "source": [
        ""
      ],
      "execution_count": null,
      "outputs": []
    },
    {
      "cell_type": "code",
      "metadata": {
        "id": "mohPgkxOB6gD",
        "outputId": "87d3d782-d7fd-45f4-cb0c-469fa8f7b628",
        "colab": {
          "base_uri": "https://localhost:8080/",
          "height": 341
        }
      },
      "source": [
        "data = {'Original':y_true, 'Predicted':y_pred}\n",
        "data = pd.DataFrame(data, index=[0])"
      ],
      "execution_count": null,
      "outputs": [
        {
          "output_type": "error",
          "ename": "Exception",
          "evalue": "ignored",
          "traceback": [
            "\u001b[0;31m---------------------------------------------------------------------------\u001b[0m",
            "\u001b[0;31mException\u001b[0m                                 Traceback (most recent call last)",
            "\u001b[0;32m<ipython-input-276-86326c932ae5>\u001b[0m in \u001b[0;36m<module>\u001b[0;34m()\u001b[0m\n\u001b[1;32m      1\u001b[0m \u001b[0mdata\u001b[0m \u001b[0;34m=\u001b[0m \u001b[0;34m{\u001b[0m\u001b[0;34m'Original'\u001b[0m\u001b[0;34m:\u001b[0m\u001b[0my_true\u001b[0m\u001b[0;34m,\u001b[0m \u001b[0;34m'Predicted'\u001b[0m\u001b[0;34m:\u001b[0m\u001b[0my_pred\u001b[0m\u001b[0;34m}\u001b[0m\u001b[0;34m\u001b[0m\u001b[0;34m\u001b[0m\u001b[0m\n\u001b[0;32m----> 2\u001b[0;31m \u001b[0mdata\u001b[0m \u001b[0;34m=\u001b[0m \u001b[0mpd\u001b[0m\u001b[0;34m.\u001b[0m\u001b[0mDataFrame\u001b[0m\u001b[0;34m(\u001b[0m\u001b[0mdata\u001b[0m\u001b[0;34m,\u001b[0m \u001b[0mindex\u001b[0m\u001b[0;34m=\u001b[0m\u001b[0;34m[\u001b[0m\u001b[0;36m0\u001b[0m\u001b[0;34m]\u001b[0m\u001b[0;34m)\u001b[0m\u001b[0;34m\u001b[0m\u001b[0;34m\u001b[0m\u001b[0m\n\u001b[0m",
            "\u001b[0;32m/usr/local/lib/python3.6/dist-packages/pandas/core/frame.py\u001b[0m in \u001b[0;36m__init__\u001b[0;34m(self, data, index, columns, dtype, copy)\u001b[0m\n\u001b[1;32m    466\u001b[0m \u001b[0;34m\u001b[0m\u001b[0m\n\u001b[1;32m    467\u001b[0m         \u001b[0;32melif\u001b[0m \u001b[0misinstance\u001b[0m\u001b[0;34m(\u001b[0m\u001b[0mdata\u001b[0m\u001b[0;34m,\u001b[0m \u001b[0mdict\u001b[0m\u001b[0;34m)\u001b[0m\u001b[0;34m:\u001b[0m\u001b[0;34m\u001b[0m\u001b[0;34m\u001b[0m\u001b[0m\n\u001b[0;32m--> 468\u001b[0;31m             \u001b[0mmgr\u001b[0m \u001b[0;34m=\u001b[0m \u001b[0minit_dict\u001b[0m\u001b[0;34m(\u001b[0m\u001b[0mdata\u001b[0m\u001b[0;34m,\u001b[0m \u001b[0mindex\u001b[0m\u001b[0;34m,\u001b[0m \u001b[0mcolumns\u001b[0m\u001b[0;34m,\u001b[0m \u001b[0mdtype\u001b[0m\u001b[0;34m=\u001b[0m\u001b[0mdtype\u001b[0m\u001b[0;34m)\u001b[0m\u001b[0;34m\u001b[0m\u001b[0;34m\u001b[0m\u001b[0m\n\u001b[0m\u001b[1;32m    469\u001b[0m         \u001b[0;32melif\u001b[0m \u001b[0misinstance\u001b[0m\u001b[0;34m(\u001b[0m\u001b[0mdata\u001b[0m\u001b[0;34m,\u001b[0m \u001b[0mma\u001b[0m\u001b[0;34m.\u001b[0m\u001b[0mMaskedArray\u001b[0m\u001b[0;34m)\u001b[0m\u001b[0;34m:\u001b[0m\u001b[0;34m\u001b[0m\u001b[0;34m\u001b[0m\u001b[0m\n\u001b[1;32m    470\u001b[0m             \u001b[0;32mimport\u001b[0m \u001b[0mnumpy\u001b[0m\u001b[0;34m.\u001b[0m\u001b[0mma\u001b[0m\u001b[0;34m.\u001b[0m\u001b[0mmrecords\u001b[0m \u001b[0;32mas\u001b[0m \u001b[0mmrecords\u001b[0m\u001b[0;34m\u001b[0m\u001b[0;34m\u001b[0m\u001b[0m\n",
            "\u001b[0;32m/usr/local/lib/python3.6/dist-packages/pandas/core/internals/construction.py\u001b[0m in \u001b[0;36minit_dict\u001b[0;34m(data, index, columns, dtype)\u001b[0m\n\u001b[1;32m    281\u001b[0m             \u001b[0marr\u001b[0m \u001b[0;32mif\u001b[0m \u001b[0;32mnot\u001b[0m \u001b[0mis_datetime64tz_dtype\u001b[0m\u001b[0;34m(\u001b[0m\u001b[0marr\u001b[0m\u001b[0;34m)\u001b[0m \u001b[0;32melse\u001b[0m \u001b[0marr\u001b[0m\u001b[0;34m.\u001b[0m\u001b[0mcopy\u001b[0m\u001b[0;34m(\u001b[0m\u001b[0;34m)\u001b[0m \u001b[0;32mfor\u001b[0m \u001b[0marr\u001b[0m \u001b[0;32min\u001b[0m \u001b[0marrays\u001b[0m\u001b[0;34m\u001b[0m\u001b[0;34m\u001b[0m\u001b[0m\n\u001b[1;32m    282\u001b[0m         ]\n\u001b[0;32m--> 283\u001b[0;31m     \u001b[0;32mreturn\u001b[0m \u001b[0marrays_to_mgr\u001b[0m\u001b[0;34m(\u001b[0m\u001b[0marrays\u001b[0m\u001b[0;34m,\u001b[0m \u001b[0mdata_names\u001b[0m\u001b[0;34m,\u001b[0m \u001b[0mindex\u001b[0m\u001b[0;34m,\u001b[0m \u001b[0mcolumns\u001b[0m\u001b[0;34m,\u001b[0m \u001b[0mdtype\u001b[0m\u001b[0;34m=\u001b[0m\u001b[0mdtype\u001b[0m\u001b[0;34m)\u001b[0m\u001b[0;34m\u001b[0m\u001b[0;34m\u001b[0m\u001b[0m\n\u001b[0m\u001b[1;32m    284\u001b[0m \u001b[0;34m\u001b[0m\u001b[0m\n\u001b[1;32m    285\u001b[0m \u001b[0;34m\u001b[0m\u001b[0m\n",
            "\u001b[0;32m/usr/local/lib/python3.6/dist-packages/pandas/core/internals/construction.py\u001b[0m in \u001b[0;36marrays_to_mgr\u001b[0;34m(arrays, arr_names, index, columns, dtype, verify_integrity)\u001b[0m\n\u001b[1;32m     81\u001b[0m \u001b[0;34m\u001b[0m\u001b[0m\n\u001b[1;32m     82\u001b[0m         \u001b[0;31m# don't force copy because getting jammed in an ndarray anyway\u001b[0m\u001b[0;34m\u001b[0m\u001b[0;34m\u001b[0m\u001b[0;34m\u001b[0m\u001b[0m\n\u001b[0;32m---> 83\u001b[0;31m         \u001b[0marrays\u001b[0m \u001b[0;34m=\u001b[0m \u001b[0m_homogenize\u001b[0m\u001b[0;34m(\u001b[0m\u001b[0marrays\u001b[0m\u001b[0;34m,\u001b[0m \u001b[0mindex\u001b[0m\u001b[0;34m,\u001b[0m \u001b[0mdtype\u001b[0m\u001b[0;34m)\u001b[0m\u001b[0;34m\u001b[0m\u001b[0;34m\u001b[0m\u001b[0m\n\u001b[0m\u001b[1;32m     84\u001b[0m \u001b[0;34m\u001b[0m\u001b[0m\n\u001b[1;32m     85\u001b[0m         \u001b[0mcolumns\u001b[0m \u001b[0;34m=\u001b[0m \u001b[0mensure_index\u001b[0m\u001b[0;34m(\u001b[0m\u001b[0mcolumns\u001b[0m\u001b[0;34m)\u001b[0m\u001b[0;34m\u001b[0m\u001b[0;34m\u001b[0m\u001b[0m\n",
            "\u001b[0;32m/usr/local/lib/python3.6/dist-packages/pandas/core/internals/construction.py\u001b[0m in \u001b[0;36m_homogenize\u001b[0;34m(data, index, dtype)\u001b[0m\n\u001b[1;32m    350\u001b[0m                 \u001b[0mval\u001b[0m \u001b[0;34m=\u001b[0m \u001b[0mlib\u001b[0m\u001b[0;34m.\u001b[0m\u001b[0mfast_multiget\u001b[0m\u001b[0;34m(\u001b[0m\u001b[0mval\u001b[0m\u001b[0;34m,\u001b[0m \u001b[0moindex\u001b[0m\u001b[0;34m.\u001b[0m\u001b[0m_values\u001b[0m\u001b[0;34m,\u001b[0m \u001b[0mdefault\u001b[0m\u001b[0;34m=\u001b[0m\u001b[0mnp\u001b[0m\u001b[0;34m.\u001b[0m\u001b[0mnan\u001b[0m\u001b[0;34m)\u001b[0m\u001b[0;34m\u001b[0m\u001b[0;34m\u001b[0m\u001b[0m\n\u001b[1;32m    351\u001b[0m             val = sanitize_array(\n\u001b[0;32m--> 352\u001b[0;31m                 \u001b[0mval\u001b[0m\u001b[0;34m,\u001b[0m \u001b[0mindex\u001b[0m\u001b[0;34m,\u001b[0m \u001b[0mdtype\u001b[0m\u001b[0;34m=\u001b[0m\u001b[0mdtype\u001b[0m\u001b[0;34m,\u001b[0m \u001b[0mcopy\u001b[0m\u001b[0;34m=\u001b[0m\u001b[0;32mFalse\u001b[0m\u001b[0;34m,\u001b[0m \u001b[0mraise_cast_failure\u001b[0m\u001b[0;34m=\u001b[0m\u001b[0;32mFalse\u001b[0m\u001b[0;34m\u001b[0m\u001b[0;34m\u001b[0m\u001b[0m\n\u001b[0m\u001b[1;32m    353\u001b[0m             )\n\u001b[1;32m    354\u001b[0m \u001b[0;34m\u001b[0m\u001b[0m\n",
            "\u001b[0;32m/usr/local/lib/python3.6/dist-packages/pandas/core/construction.py\u001b[0m in \u001b[0;36msanitize_array\u001b[0;34m(data, index, dtype, copy, raise_cast_failure)\u001b[0m\n\u001b[1;32m    494\u001b[0m     \u001b[0;32melif\u001b[0m \u001b[0msubarr\u001b[0m\u001b[0;34m.\u001b[0m\u001b[0mndim\u001b[0m \u001b[0;34m>\u001b[0m \u001b[0;36m1\u001b[0m\u001b[0;34m:\u001b[0m\u001b[0;34m\u001b[0m\u001b[0;34m\u001b[0m\u001b[0m\n\u001b[1;32m    495\u001b[0m         \u001b[0;32mif\u001b[0m \u001b[0misinstance\u001b[0m\u001b[0;34m(\u001b[0m\u001b[0mdata\u001b[0m\u001b[0;34m,\u001b[0m \u001b[0mnp\u001b[0m\u001b[0;34m.\u001b[0m\u001b[0mndarray\u001b[0m\u001b[0;34m)\u001b[0m\u001b[0;34m:\u001b[0m\u001b[0;34m\u001b[0m\u001b[0;34m\u001b[0m\u001b[0m\n\u001b[0;32m--> 496\u001b[0;31m             \u001b[0;32mraise\u001b[0m \u001b[0mException\u001b[0m\u001b[0;34m(\u001b[0m\u001b[0;34m\"Data must be 1-dimensional\"\u001b[0m\u001b[0;34m)\u001b[0m\u001b[0;34m\u001b[0m\u001b[0;34m\u001b[0m\u001b[0m\n\u001b[0m\u001b[1;32m    497\u001b[0m         \u001b[0;32melse\u001b[0m\u001b[0;34m:\u001b[0m\u001b[0;34m\u001b[0m\u001b[0;34m\u001b[0m\u001b[0m\n\u001b[1;32m    498\u001b[0m             \u001b[0msubarr\u001b[0m \u001b[0;34m=\u001b[0m \u001b[0mcom\u001b[0m\u001b[0;34m.\u001b[0m\u001b[0masarray_tuplesafe\u001b[0m\u001b[0;34m(\u001b[0m\u001b[0mdata\u001b[0m\u001b[0;34m,\u001b[0m \u001b[0mdtype\u001b[0m\u001b[0;34m=\u001b[0m\u001b[0mdtype\u001b[0m\u001b[0;34m)\u001b[0m\u001b[0;34m\u001b[0m\u001b[0;34m\u001b[0m\u001b[0m\n",
            "\u001b[0;31mException\u001b[0m: Data must be 1-dimensional"
          ]
        }
=======
     "data": {
      "text/plain": [
       "array([[0.3745624 , 0.3611636 , 0.37715012, ..., 0.24174231, 0.22721352,\n",
       "        0.3288913 ],\n",
       "       [0.37070298, 0.39411554, 0.34816134, ..., 0.21722972, 0.3456571 ,\n",
       "        0.39009857],\n",
       "       [0.35154685, 0.3637746 , 0.24854937, ..., 0.3574006 , 0.44291955,\n",
       "        0.39021516],\n",
       "       ...,\n",
       "       [0.2153214 , 0.41793233, 0.5459913 , ..., 0.5703384 , 0.48120838,\n",
       "        0.28899705],\n",
       "       [0.31281775, 0.51425105, 0.5319567 , ..., 0.4775476 , 0.26944155,\n",
       "        0.18287762],\n",
       "       [0.42969683, 0.48464307, 0.525732  , ..., 0.30766287, 0.20849267,\n",
       "        0.35214484]], dtype=float32)"
>>>>>>> Stashed changes
      ]
     },
     "execution_count": 278,
     "metadata": {
      "tags": []
     },
     "output_type": "execute_result"
    }
   ],
   "source": [
    "y_pred"
   ]
  },
  {
   "cell_type": "code",
   "execution_count": null,
   "metadata": {
    "id": "QbHg2kqOCt6C"
   },
   "outputs": [],
   "source": []
  },
  {
   "cell_type": "code",
   "execution_count": null,
   "metadata": {
    "id": "bNPXMd8tCt4L"
   },
   "outputs": [],
   "source": []
  },
  {
   "cell_type": "code",
   "execution_count": null,
   "metadata": {
    "id": "D6chqOSQCtzV"
   },
   "outputs": [],
   "source": []
  },
  {
   "cell_type": "code",
   "execution_count": null,
   "metadata": {
    "id": "FCmLFaJaCtxS"
   },
   "outputs": [],
   "source": []
  },
  {
   "cell_type": "code",
   "execution_count": null,
   "metadata": {
    "id": "Ei2vbKstCtu-"
   },
   "outputs": [],
   "source": []
  },
  {
   "cell_type": "code",
   "execution_count": null,
   "metadata": {
    "id": "IvimcSRdCttK"
   },
   "outputs": [],
   "source": []
  },
  {
   "cell_type": "code",
   "execution_count": 276,
   "metadata": {
    "colab": {
     "base_uri": "https://localhost:8080/",
     "height": 341
    },
    "id": "mohPgkxOB6gD",
    "outputId": "87d3d782-d7fd-45f4-cb0c-469fa8f7b628"
   },
   "outputs": [
    {
     "ename": "Exception",
     "evalue": "ignored",
     "output_type": "error",
     "traceback": [
      "\u001b[0;31m---------------------------------------------------------------------------\u001b[0m",
      "\u001b[0;31mException\u001b[0m                                 Traceback (most recent call last)",
      "\u001b[0;32m<ipython-input-276-86326c932ae5>\u001b[0m in \u001b[0;36m<module>\u001b[0;34m()\u001b[0m\n\u001b[1;32m      1\u001b[0m \u001b[0mdata\u001b[0m \u001b[0;34m=\u001b[0m \u001b[0;34m{\u001b[0m\u001b[0;34m'Original'\u001b[0m\u001b[0;34m:\u001b[0m\u001b[0my_true\u001b[0m\u001b[0;34m,\u001b[0m \u001b[0;34m'Predicted'\u001b[0m\u001b[0;34m:\u001b[0m\u001b[0my_pred\u001b[0m\u001b[0;34m}\u001b[0m\u001b[0;34m\u001b[0m\u001b[0;34m\u001b[0m\u001b[0m\n\u001b[0;32m----> 2\u001b[0;31m \u001b[0mdata\u001b[0m \u001b[0;34m=\u001b[0m \u001b[0mpd\u001b[0m\u001b[0;34m.\u001b[0m\u001b[0mDataFrame\u001b[0m\u001b[0;34m(\u001b[0m\u001b[0mdata\u001b[0m\u001b[0;34m,\u001b[0m \u001b[0mindex\u001b[0m\u001b[0;34m=\u001b[0m\u001b[0;34m[\u001b[0m\u001b[0;36m0\u001b[0m\u001b[0;34m]\u001b[0m\u001b[0;34m)\u001b[0m\u001b[0;34m\u001b[0m\u001b[0;34m\u001b[0m\u001b[0m\n\u001b[0m",
      "\u001b[0;32m/usr/local/lib/python3.6/dist-packages/pandas/core/frame.py\u001b[0m in \u001b[0;36m__init__\u001b[0;34m(self, data, index, columns, dtype, copy)\u001b[0m\n\u001b[1;32m    466\u001b[0m \u001b[0;34m\u001b[0m\u001b[0m\n\u001b[1;32m    467\u001b[0m         \u001b[0;32melif\u001b[0m \u001b[0misinstance\u001b[0m\u001b[0;34m(\u001b[0m\u001b[0mdata\u001b[0m\u001b[0;34m,\u001b[0m \u001b[0mdict\u001b[0m\u001b[0;34m)\u001b[0m\u001b[0;34m:\u001b[0m\u001b[0;34m\u001b[0m\u001b[0;34m\u001b[0m\u001b[0m\n\u001b[0;32m--> 468\u001b[0;31m             \u001b[0mmgr\u001b[0m \u001b[0;34m=\u001b[0m \u001b[0minit_dict\u001b[0m\u001b[0;34m(\u001b[0m\u001b[0mdata\u001b[0m\u001b[0;34m,\u001b[0m \u001b[0mindex\u001b[0m\u001b[0;34m,\u001b[0m \u001b[0mcolumns\u001b[0m\u001b[0;34m,\u001b[0m \u001b[0mdtype\u001b[0m\u001b[0;34m=\u001b[0m\u001b[0mdtype\u001b[0m\u001b[0;34m)\u001b[0m\u001b[0;34m\u001b[0m\u001b[0;34m\u001b[0m\u001b[0m\n\u001b[0m\u001b[1;32m    469\u001b[0m         \u001b[0;32melif\u001b[0m \u001b[0misinstance\u001b[0m\u001b[0;34m(\u001b[0m\u001b[0mdata\u001b[0m\u001b[0;34m,\u001b[0m \u001b[0mma\u001b[0m\u001b[0;34m.\u001b[0m\u001b[0mMaskedArray\u001b[0m\u001b[0;34m)\u001b[0m\u001b[0;34m:\u001b[0m\u001b[0;34m\u001b[0m\u001b[0;34m\u001b[0m\u001b[0m\n\u001b[1;32m    470\u001b[0m             \u001b[0;32mimport\u001b[0m \u001b[0mnumpy\u001b[0m\u001b[0;34m.\u001b[0m\u001b[0mma\u001b[0m\u001b[0;34m.\u001b[0m\u001b[0mmrecords\u001b[0m \u001b[0;32mas\u001b[0m \u001b[0mmrecords\u001b[0m\u001b[0;34m\u001b[0m\u001b[0;34m\u001b[0m\u001b[0m\n",
      "\u001b[0;32m/usr/local/lib/python3.6/dist-packages/pandas/core/internals/construction.py\u001b[0m in \u001b[0;36minit_dict\u001b[0;34m(data, index, columns, dtype)\u001b[0m\n\u001b[1;32m    281\u001b[0m             \u001b[0marr\u001b[0m \u001b[0;32mif\u001b[0m \u001b[0;32mnot\u001b[0m \u001b[0mis_datetime64tz_dtype\u001b[0m\u001b[0;34m(\u001b[0m\u001b[0marr\u001b[0m\u001b[0;34m)\u001b[0m \u001b[0;32melse\u001b[0m \u001b[0marr\u001b[0m\u001b[0;34m.\u001b[0m\u001b[0mcopy\u001b[0m\u001b[0;34m(\u001b[0m\u001b[0;34m)\u001b[0m \u001b[0;32mfor\u001b[0m \u001b[0marr\u001b[0m \u001b[0;32min\u001b[0m \u001b[0marrays\u001b[0m\u001b[0;34m\u001b[0m\u001b[0;34m\u001b[0m\u001b[0m\n\u001b[1;32m    282\u001b[0m         ]\n\u001b[0;32m--> 283\u001b[0;31m     \u001b[0;32mreturn\u001b[0m \u001b[0marrays_to_mgr\u001b[0m\u001b[0;34m(\u001b[0m\u001b[0marrays\u001b[0m\u001b[0;34m,\u001b[0m \u001b[0mdata_names\u001b[0m\u001b[0;34m,\u001b[0m \u001b[0mindex\u001b[0m\u001b[0;34m,\u001b[0m \u001b[0mcolumns\u001b[0m\u001b[0;34m,\u001b[0m \u001b[0mdtype\u001b[0m\u001b[0;34m=\u001b[0m\u001b[0mdtype\u001b[0m\u001b[0;34m)\u001b[0m\u001b[0;34m\u001b[0m\u001b[0;34m\u001b[0m\u001b[0m\n\u001b[0m\u001b[1;32m    284\u001b[0m \u001b[0;34m\u001b[0m\u001b[0m\n\u001b[1;32m    285\u001b[0m \u001b[0;34m\u001b[0m\u001b[0m\n",
      "\u001b[0;32m/usr/local/lib/python3.6/dist-packages/pandas/core/internals/construction.py\u001b[0m in \u001b[0;36marrays_to_mgr\u001b[0;34m(arrays, arr_names, index, columns, dtype, verify_integrity)\u001b[0m\n\u001b[1;32m     81\u001b[0m \u001b[0;34m\u001b[0m\u001b[0m\n\u001b[1;32m     82\u001b[0m         \u001b[0;31m# don't force copy because getting jammed in an ndarray anyway\u001b[0m\u001b[0;34m\u001b[0m\u001b[0;34m\u001b[0m\u001b[0;34m\u001b[0m\u001b[0m\n\u001b[0;32m---> 83\u001b[0;31m         \u001b[0marrays\u001b[0m \u001b[0;34m=\u001b[0m \u001b[0m_homogenize\u001b[0m\u001b[0;34m(\u001b[0m\u001b[0marrays\u001b[0m\u001b[0;34m,\u001b[0m \u001b[0mindex\u001b[0m\u001b[0;34m,\u001b[0m \u001b[0mdtype\u001b[0m\u001b[0;34m)\u001b[0m\u001b[0;34m\u001b[0m\u001b[0;34m\u001b[0m\u001b[0m\n\u001b[0m\u001b[1;32m     84\u001b[0m \u001b[0;34m\u001b[0m\u001b[0m\n\u001b[1;32m     85\u001b[0m         \u001b[0mcolumns\u001b[0m \u001b[0;34m=\u001b[0m \u001b[0mensure_index\u001b[0m\u001b[0;34m(\u001b[0m\u001b[0mcolumns\u001b[0m\u001b[0;34m)\u001b[0m\u001b[0;34m\u001b[0m\u001b[0;34m\u001b[0m\u001b[0m\n",
      "\u001b[0;32m/usr/local/lib/python3.6/dist-packages/pandas/core/internals/construction.py\u001b[0m in \u001b[0;36m_homogenize\u001b[0;34m(data, index, dtype)\u001b[0m\n\u001b[1;32m    350\u001b[0m                 \u001b[0mval\u001b[0m \u001b[0;34m=\u001b[0m \u001b[0mlib\u001b[0m\u001b[0;34m.\u001b[0m\u001b[0mfast_multiget\u001b[0m\u001b[0;34m(\u001b[0m\u001b[0mval\u001b[0m\u001b[0;34m,\u001b[0m \u001b[0moindex\u001b[0m\u001b[0;34m.\u001b[0m\u001b[0m_values\u001b[0m\u001b[0;34m,\u001b[0m \u001b[0mdefault\u001b[0m\u001b[0;34m=\u001b[0m\u001b[0mnp\u001b[0m\u001b[0;34m.\u001b[0m\u001b[0mnan\u001b[0m\u001b[0;34m)\u001b[0m\u001b[0;34m\u001b[0m\u001b[0;34m\u001b[0m\u001b[0m\n\u001b[1;32m    351\u001b[0m             val = sanitize_array(\n\u001b[0;32m--> 352\u001b[0;31m                 \u001b[0mval\u001b[0m\u001b[0;34m,\u001b[0m \u001b[0mindex\u001b[0m\u001b[0;34m,\u001b[0m \u001b[0mdtype\u001b[0m\u001b[0;34m=\u001b[0m\u001b[0mdtype\u001b[0m\u001b[0;34m,\u001b[0m \u001b[0mcopy\u001b[0m\u001b[0;34m=\u001b[0m\u001b[0;32mFalse\u001b[0m\u001b[0;34m,\u001b[0m \u001b[0mraise_cast_failure\u001b[0m\u001b[0;34m=\u001b[0m\u001b[0;32mFalse\u001b[0m\u001b[0;34m\u001b[0m\u001b[0;34m\u001b[0m\u001b[0m\n\u001b[0m\u001b[1;32m    353\u001b[0m             )\n\u001b[1;32m    354\u001b[0m \u001b[0;34m\u001b[0m\u001b[0m\n",
      "\u001b[0;32m/usr/local/lib/python3.6/dist-packages/pandas/core/construction.py\u001b[0m in \u001b[0;36msanitize_array\u001b[0;34m(data, index, dtype, copy, raise_cast_failure)\u001b[0m\n\u001b[1;32m    494\u001b[0m     \u001b[0;32melif\u001b[0m \u001b[0msubarr\u001b[0m\u001b[0;34m.\u001b[0m\u001b[0mndim\u001b[0m \u001b[0;34m>\u001b[0m \u001b[0;36m1\u001b[0m\u001b[0;34m:\u001b[0m\u001b[0;34m\u001b[0m\u001b[0;34m\u001b[0m\u001b[0m\n\u001b[1;32m    495\u001b[0m         \u001b[0;32mif\u001b[0m \u001b[0misinstance\u001b[0m\u001b[0;34m(\u001b[0m\u001b[0mdata\u001b[0m\u001b[0;34m,\u001b[0m \u001b[0mnp\u001b[0m\u001b[0;34m.\u001b[0m\u001b[0mndarray\u001b[0m\u001b[0;34m)\u001b[0m\u001b[0;34m:\u001b[0m\u001b[0;34m\u001b[0m\u001b[0;34m\u001b[0m\u001b[0m\n\u001b[0;32m--> 496\u001b[0;31m             \u001b[0;32mraise\u001b[0m \u001b[0mException\u001b[0m\u001b[0;34m(\u001b[0m\u001b[0;34m\"Data must be 1-dimensional\"\u001b[0m\u001b[0;34m)\u001b[0m\u001b[0;34m\u001b[0m\u001b[0;34m\u001b[0m\u001b[0m\n\u001b[0m\u001b[1;32m    497\u001b[0m         \u001b[0;32melse\u001b[0m\u001b[0;34m:\u001b[0m\u001b[0;34m\u001b[0m\u001b[0;34m\u001b[0m\u001b[0m\n\u001b[1;32m    498\u001b[0m             \u001b[0msubarr\u001b[0m \u001b[0;34m=\u001b[0m \u001b[0mcom\u001b[0m\u001b[0;34m.\u001b[0m\u001b[0masarray_tuplesafe\u001b[0m\u001b[0;34m(\u001b[0m\u001b[0mdata\u001b[0m\u001b[0;34m,\u001b[0m \u001b[0mdtype\u001b[0m\u001b[0;34m=\u001b[0m\u001b[0mdtype\u001b[0m\u001b[0;34m)\u001b[0m\u001b[0;34m\u001b[0m\u001b[0;34m\u001b[0m\u001b[0m\n",
      "\u001b[0;31mException\u001b[0m: Data must be 1-dimensional"
     ]
    }
   ],
   "source": [
    "data = {'Original':y_true, 'Predicted':y_pred}\n",
    "data = pd.DataFrame(data, index=[0])"
   ]
  },
  {
   "cell_type": "code",
   "execution_count": null,
   "metadata": {
    "id": "UI4JWVh5CRp6"
   },
   "outputs": [],
   "source": [
    "data"
   ]
  },
  {
   "cell_type": "code",
   "execution_count": 270,
   "metadata": {
    "colab": {
     "base_uri": "https://localhost:8080/",
     "height": 34
    },
    "id": "1y4TyKMdAT3K",
    "outputId": "18a4f868-8592-4858-be30-479f15622e35"
   },
   "outputs": [
    {
<<<<<<< Updated upstream
      "cell_type": "code",
      "metadata": {
        "id": "1y4TyKMdAT3K",
        "outputId": "18a4f868-8592-4858-be30-479f15622e35",
        "colab": {
          "base_uri": "https://localhost:8080/",
          "height": 34
        }
      },
      "source": [
        "\n",
        "np.std(y_true[0])"
      ],
      "execution_count": null,
      "outputs": [
        {
          "output_type": "execute_result",
          "data": {
            "text/plain": [
              "28335.9300978152"
            ]
          },
          "metadata": {
            "tags": []
          },
          "execution_count": 270
        }
=======
     "data": {
      "text/plain": [
       "28335.9300978152"
>>>>>>> Stashed changes
      ]
     },
     "execution_count": 270,
     "metadata": {
      "tags": []
     },
     "output_type": "execute_result"
    }
   ],
   "source": [
    "\n",
    "np.std(y_true[0])"
   ]
  },
  {
   "cell_type": "code",
   "execution_count": 272,
   "metadata": {
    "colab": {
     "base_uri": "https://localhost:8080/",
     "height": 164
    },
    "id": "3ZA29QjjAEWt",
    "outputId": "d7af66c9-cfd5-4c42-8eaf-fe5b17fdf850"
   },
   "outputs": [
    {
<<<<<<< Updated upstream
      "cell_type": "code",
      "metadata": {
        "id": "t8snL6PJn5Yf"
      },
      "source": [
        ""
      ],
      "execution_count": null,
      "outputs": []
    },
    {
      "cell_type": "code",
      "metadata": {
        "id": "ziESRx76n5gV"
      },
      "source": [
        "import pandas as pd\n",
        "ts = pd.read_csv(\"multiTimeline.csv\")"
      ],
      "execution_count": null,
      "outputs": []
    },
    {
      "cell_type": "code",
      "metadata": {
        "id": "hgVis8cIn5n6",
        "outputId": "c21c25d2-5cd6-489e-b3fa-0b428e0bad4f",
        "colab": {
          "base_uri": "https://localhost:8080/",
          "height": 204
        }
      },
      "source": [
        "ts.head()"
      ],
      "execution_count": null,
      "outputs": [
        {
          "output_type": "execute_result",
          "data": {
            "text/html": [
              "<div>\n",
              "<style scoped>\n",
              "    .dataframe tbody tr th:only-of-type {\n",
              "        vertical-align: middle;\n",
              "    }\n",
              "\n",
              "    .dataframe tbody tr th {\n",
              "        vertical-align: top;\n",
              "    }\n",
              "\n",
              "    .dataframe thead th {\n",
              "        text-align: right;\n",
              "    }\n",
              "</style>\n",
              "<table border=\"1\" class=\"dataframe\">\n",
              "  <thead>\n",
              "    <tr style=\"text-align: right;\">\n",
              "      <th></th>\n",
              "      <th>Day</th>\n",
              "      <th>Social distancing: (Victoria)</th>\n",
              "      <th>FootFall</th>\n",
              "    </tr>\n",
              "  </thead>\n",
              "  <tbody>\n",
              "    <tr>\n",
              "      <th>0</th>\n",
              "      <td>25/1/20</td>\n",
              "      <td>0</td>\n",
              "      <td>38575.0</td>\n",
              "    </tr>\n",
              "    <tr>\n",
              "      <th>1</th>\n",
              "      <td>26/1/20</td>\n",
              "      <td>0</td>\n",
              "      <td>28014.5</td>\n",
              "    </tr>\n",
              "    <tr>\n",
              "      <th>2</th>\n",
              "      <td>27/1/20</td>\n",
              "      <td>0</td>\n",
              "      <td>18385.0</td>\n",
              "    </tr>\n",
              "    <tr>\n",
              "      <th>3</th>\n",
              "      <td>28/1/20</td>\n",
              "      <td>0</td>\n",
              "      <td>31375.5</td>\n",
              "    </tr>\n",
              "    <tr>\n",
              "      <th>4</th>\n",
              "      <td>29/1/20</td>\n",
              "      <td>0</td>\n",
              "      <td>33477.0</td>\n",
              "    </tr>\n",
              "  </tbody>\n",
              "</table>\n",
              "</div>"
            ],
            "text/plain": [
              "       Day  Social distancing: (Victoria)  FootFall\n",
              "0  25/1/20                              0   38575.0\n",
              "1  26/1/20                              0   28014.5\n",
              "2  27/1/20                              0   18385.0\n",
              "3  28/1/20                              0   31375.5\n",
              "4  29/1/20                              0   33477.0"
            ]
          },
          "metadata": {
            "tags": []
          },
          "execution_count": 68
        }
      ]
    },
    {
      "cell_type": "code",
      "metadata": {
        "id": "Gdps9t_In5lg",
        "outputId": "58b1ec4c-ed56-4675-e793-08c3efe9e6dd",
        "colab": {
          "base_uri": "https://localhost:8080/",
          "height": 265
        }
      },
      "source": [
        "from matplotlib import pyplot\n",
        "pyplot.scatter(ts['Social distancing: (Victoria)'], ts['FootFall'])\n",
        "pyplot.show()"
      ],
      "execution_count": null,
      "outputs": [
        {
          "output_type": "display_data",
          "data": {
            "image/png": "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\n",
            "text/plain": [
              "<Figure size 432x288 with 1 Axes>"
            ]
          },
          "metadata": {
            "tags": [],
            "needs_background": "light"
          }
        }
      ]
    },
    {
      "cell_type": "code",
      "metadata": {
        "id": "WzFTLsGin5jw",
        "outputId": "8013d124-26e8-4154-9019-4b2f2424f330",
        "colab": {
          "base_uri": "https://localhost:8080/",
          "height": 34
        }
      },
      "source": [
        "from scipy.stats import pearsonr\n",
        "corr, _ = pearsonr(ts['Social distancing: (Victoria)'], ts['FootFall'])\n",
        "print('Pearsons correlation: %.3f' % corr)"
      ],
      "execution_count": null,
      "outputs": [
        {
          "output_type": "stream",
          "text": [
            "Pearsons correlation: -0.169\n"
          ],
          "name": "stdout"
        }
      ]
    },
    {
      "cell_type": "code",
      "metadata": {
        "id": "RieeA03sn5eE"
      },
      "source": [
        ""
      ],
      "execution_count": null,
      "outputs": []
    },
    {
      "cell_type": "code",
      "metadata": {
        "id": "jjSiZhZen5b6"
      },
      "source": [
        ""
      ],
      "execution_count": null,
      "outputs": []
    },
    {
      "cell_type": "code",
      "metadata": {
        "id": "MiVOEKfAn5WQ"
      },
      "source": [
        ""
      ],
      "execution_count": null,
      "outputs": []
    },
    {
      "cell_type": "code",
      "metadata": {
        "id": "-syDhl7Un5Ty"
      },
      "source": [
        ""
      ],
      "execution_count": null,
      "outputs": []
=======
     "ename": "TypeError",
     "evalue": "ignored",
     "output_type": "error",
     "traceback": [
      "\u001b[0;31m---------------------------------------------------------------------------\u001b[0m",
      "\u001b[0;31mTypeError\u001b[0m                                 Traceback (most recent call last)",
      "\u001b[0;32m<ipython-input-272-1db046b731ec>\u001b[0m in \u001b[0;36m<module>\u001b[0;34m()\u001b[0m\n\u001b[0;32m----> 1\u001b[0;31m \u001b[0mdata\u001b[0m\u001b[0;34m[\u001b[0m\u001b[0;34m[\u001b[0m\u001b[0;34m'y_true'\u001b[0m\u001b[0;34m,\u001b[0m\u001b[0;34m'y_pred'\u001b[0m\u001b[0;34m]\u001b[0m\u001b[0;34m]\u001b[0m\u001b[0;34m.\u001b[0m\u001b[0mplot\u001b[0m\u001b[0;34m(\u001b[0m\u001b[0;34m)\u001b[0m\u001b[0;34m\u001b[0m\u001b[0;34m\u001b[0m\u001b[0m\n\u001b[0m",
      "\u001b[0;31mTypeError\u001b[0m: unhashable type: 'list'"
     ]
>>>>>>> Stashed changes
    }
   ],
   "source": [
    "data[['y_true','y_pred']].plot()"
   ]
  }
 ],
 "metadata": {
  "colab": {
   "name": "MultivariateTimeSeriesModel.ipynb",
   "provenance": []
  },
  "kernelspec": {
   "display_name": "Python 3",
   "language": "python",
   "name": "python3"
  },
  "language_info": {
   "codemirror_mode": {
    "name": "ipython",
    "version": 3
   },
   "file_extension": ".py",
   "mimetype": "text/x-python",
   "name": "python",
   "nbconvert_exporter": "python",
   "pygments_lexer": "ipython3",
   "version": "3.7.4"
  }
 },
 "nbformat": 4,
 "nbformat_minor": 1
}
