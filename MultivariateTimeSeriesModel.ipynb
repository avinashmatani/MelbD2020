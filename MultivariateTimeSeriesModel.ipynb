{
  "nbformat": 4,
  "nbformat_minor": 0,
  "metadata": {
    "colab": {
      "name": "MultivariateTimeSeriesModel.ipynb",
      "provenance": []
    },
    "kernelspec": {
      "name": "python3",
      "display_name": "Python 3"
    }
  },
  "cells": [
    {
      "cell_type": "code",
      "metadata": {
        "id": "mj8bbvTulvo1",
        "outputId": "c4f74dc8-dab2-425d-9e5e-4cd8c47fb677",
        "colab": {
          "resources": {
            "http://localhost:8080/nbextensions/google.colab/files.js": {
              "data": "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",
              "ok": true,
              "headers": [
                [
                  "content-type",
                  "application/javascript"
                ]
              ],
              "status": 200,
              "status_text": ""
            }
          },
          "base_uri": "https://localhost:8080/",
          "height": 72
        }
      },
      "source": [
        "from google.colab import files\n",
        "uploaded = files.upload()"
      ],
      "execution_count": 7,
      "outputs": [
        {
          "output_type": "display_data",
          "data": {
            "text/html": [
              "\n",
              "     <input type=\"file\" id=\"files-b520f214-1f70-45b3-b020-da02e78bc328\" name=\"files[]\" multiple disabled\n",
              "        style=\"border:none\" />\n",
              "     <output id=\"result-b520f214-1f70-45b3-b020-da02e78bc328\">\n",
              "      Upload widget is only available when the cell has been executed in the\n",
              "      current browser session. Please rerun this cell to enable.\n",
              "      </output>\n",
              "      <script src=\"/nbextensions/google.colab/files.js\"></script> "
            ],
            "text/plain": [
              "<IPython.core.display.HTML object>"
            ]
          },
          "metadata": {
            "tags": []
          }
        },
        {
          "output_type": "stream",
          "text": [
            "Saving u_fulldata_vic.csv to u_fulldata_vic.csv\n"
          ],
          "name": "stdout"
        }
      ]
    },
    {
      "cell_type": "code",
      "metadata": {
        "id": "kQtRZpG_mGUi"
      },
      "source": [
        "import pandas as pd\n",
        "import numpy as np\n",
        "import matplotlib.pyplot as plt\n",
        "import pandas as pd\n",
        "from sklearn.preprocessing import MinMaxScaler\n",
        "from tensorflow.keras import Sequential\n",
        "from tensorflow.keras.layers import Dense, LSTM, Dropout\n",
        "from keras.preprocessing.sequence import TimeseriesGenerator\n",
        "from sklearn.model_selection import train_test_split\n",
        "import tensorflow as tf"
      ],
      "execution_count": 32,
      "outputs": []
    },
    {
      "cell_type": "code",
      "metadata": {
        "id": "G8CrggmxmJ-L"
      },
      "source": [
        "ts19 = pd.read_csv(\"u_fulldata_vic.csv\")"
      ],
      "execution_count": 33,
      "outputs": []
    },
    {
      "cell_type": "code",
      "metadata": {
        "id": "IFdz7TOCmKA_",
        "outputId": "42d22c49-5576-419f-bf9b-5df4b37df1ad",
        "colab": {
          "base_uri": "https://localhost:8080/",
          "height": 411
        }
      },
      "source": [
        "ts19.head()"
      ],
      "execution_count": 34,
      "outputs": [
        {
          "output_type": "execute_result",
          "data": {
            "text/html": [
              "<div>\n",
              "<style scoped>\n",
              "    .dataframe tbody tr th:only-of-type {\n",
              "        vertical-align: middle;\n",
              "    }\n",
              "\n",
              "    .dataframe tbody tr th {\n",
              "        vertical-align: top;\n",
              "    }\n",
              "\n",
              "    .dataframe thead th {\n",
              "        text-align: right;\n",
              "    }\n",
              "</style>\n",
              "<table border=\"1\" class=\"dataframe\">\n",
              "  <thead>\n",
              "    <tr style=\"text-align: right;\">\n",
              "      <th></th>\n",
              "      <th>Month</th>\n",
              "      <th>Day</th>\n",
              "      <th>TOTALDEMAND</th>\n",
              "      <th>YEAR</th>\n",
              "      <th>Date</th>\n",
              "      <th>relative_humidity</th>\n",
              "      <th>dew_temp</th>\n",
              "      <th>max_temp</th>\n",
              "      <th>min_temp</th>\n",
              "      <th>temp2m</th>\n",
              "      <th>WS50M_MIN</th>\n",
              "      <th>WS10M_MIN</th>\n",
              "      <th>WS50M_MAX</th>\n",
              "      <th>WS10M_MAX</th>\n",
              "      <th>WS50M</th>\n",
              "      <th>WS10M</th>\n",
              "      <th>avg_temp</th>\n",
              "      <th>ws_avg_50</th>\n",
              "      <th>ws_avg_10</th>\n",
              "      <th>Unnamed: 19</th>\n",
              "    </tr>\n",
              "  </thead>\n",
              "  <tbody>\n",
              "    <tr>\n",
              "      <th>0</th>\n",
              "      <td>1</td>\n",
              "      <td>1</td>\n",
              "      <td>226550.31</td>\n",
              "      <td>2016</td>\n",
              "      <td>01-01-2016</td>\n",
              "      <td>56.49</td>\n",
              "      <td>12.69</td>\n",
              "      <td>27.74</td>\n",
              "      <td>15.97</td>\n",
              "      <td>21.87</td>\n",
              "      <td>1.63</td>\n",
              "      <td>1.09</td>\n",
              "      <td>6.98</td>\n",
              "      <td>5.98</td>\n",
              "      <td>4.48</td>\n",
              "      <td>3.60</td>\n",
              "      <td>21.855</td>\n",
              "      <td>4.305</td>\n",
              "      <td>3.535</td>\n",
              "      <td>NaN</td>\n",
              "    </tr>\n",
              "    <tr>\n",
              "      <th>1</th>\n",
              "      <td>1</td>\n",
              "      <td>2</td>\n",
              "      <td>199245.28</td>\n",
              "      <td>2016</td>\n",
              "      <td>02-01-2016</td>\n",
              "      <td>66.32</td>\n",
              "      <td>12.94</td>\n",
              "      <td>26.07</td>\n",
              "      <td>14.76</td>\n",
              "      <td>19.40</td>\n",
              "      <td>4.69</td>\n",
              "      <td>4.19</td>\n",
              "      <td>9.66</td>\n",
              "      <td>8.12</td>\n",
              "      <td>7.04</td>\n",
              "      <td>5.80</td>\n",
              "      <td>20.415</td>\n",
              "      <td>7.175</td>\n",
              "      <td>6.155</td>\n",
              "      <td>NaN</td>\n",
              "    </tr>\n",
              "    <tr>\n",
              "      <th>2</th>\n",
              "      <td>1</td>\n",
              "      <td>3</td>\n",
              "      <td>195312.89</td>\n",
              "      <td>2016</td>\n",
              "      <td>03-01-2016</td>\n",
              "      <td>71.23</td>\n",
              "      <td>13.13</td>\n",
              "      <td>22.40</td>\n",
              "      <td>15.35</td>\n",
              "      <td>18.41</td>\n",
              "      <td>5.58</td>\n",
              "      <td>3.55</td>\n",
              "      <td>7.79</td>\n",
              "      <td>6.27</td>\n",
              "      <td>6.92</td>\n",
              "      <td>5.35</td>\n",
              "      <td>18.875</td>\n",
              "      <td>6.685</td>\n",
              "      <td>4.910</td>\n",
              "      <td>NaN</td>\n",
              "    </tr>\n",
              "    <tr>\n",
              "      <th>3</th>\n",
              "      <td>1</td>\n",
              "      <td>4</td>\n",
              "      <td>221865.01</td>\n",
              "      <td>2016</td>\n",
              "      <td>04-01-2016</td>\n",
              "      <td>75.53</td>\n",
              "      <td>13.78</td>\n",
              "      <td>21.67</td>\n",
              "      <td>15.31</td>\n",
              "      <td>18.16</td>\n",
              "      <td>3.91</td>\n",
              "      <td>3.01</td>\n",
              "      <td>7.76</td>\n",
              "      <td>5.58</td>\n",
              "      <td>5.39</td>\n",
              "      <td>4.07</td>\n",
              "      <td>18.490</td>\n",
              "      <td>5.835</td>\n",
              "      <td>4.295</td>\n",
              "      <td>NaN</td>\n",
              "    </tr>\n",
              "    <tr>\n",
              "      <th>4</th>\n",
              "      <td>1</td>\n",
              "      <td>5</td>\n",
              "      <td>235747.16</td>\n",
              "      <td>2016</td>\n",
              "      <td>05-01-2016</td>\n",
              "      <td>68.87</td>\n",
              "      <td>13.47</td>\n",
              "      <td>24.57</td>\n",
              "      <td>13.86</td>\n",
              "      <td>19.37</td>\n",
              "      <td>0.63</td>\n",
              "      <td>0.71</td>\n",
              "      <td>5.34</td>\n",
              "      <td>3.24</td>\n",
              "      <td>3.29</td>\n",
              "      <td>2.33</td>\n",
              "      <td>19.215</td>\n",
              "      <td>2.985</td>\n",
              "      <td>1.975</td>\n",
              "      <td>NaN</td>\n",
              "    </tr>\n",
              "  </tbody>\n",
              "</table>\n",
              "</div>"
            ],
            "text/plain": [
              "   Month  Day  TOTALDEMAND  YEAR  ... avg_temp  ws_avg_50  ws_avg_10  Unnamed: 19\n",
              "0      1    1    226550.31  2016  ...   21.855      4.305      3.535          NaN\n",
              "1      1    2    199245.28  2016  ...   20.415      7.175      6.155          NaN\n",
              "2      1    3    195312.89  2016  ...   18.875      6.685      4.910          NaN\n",
              "3      1    4    221865.01  2016  ...   18.490      5.835      4.295          NaN\n",
              "4      1    5    235747.16  2016  ...   19.215      2.985      1.975          NaN\n",
              "\n",
              "[5 rows x 20 columns]"
            ]
          },
          "metadata": {
            "tags": []
          },
          "execution_count": 34
        }
      ]
    },
    {
      "cell_type": "code",
      "metadata": {
        "id": "u_myntaGmKEz"
      },
      "source": [
        "ts19 = ts19[['TOTALDEMAND',\t'Date',\t'relative_humidity','avg_temp',\t'ws_avg_50']]"
      ],
      "execution_count": 35,
      "outputs": []
    },
    {
      "cell_type": "code",
      "metadata": {
        "id": "svYdqhJ6mKHv"
      },
      "source": [
        "ts19['Date'] = pd.to_datetime(ts19['Date'])"
      ],
      "execution_count": 36,
      "outputs": []
    },
    {
      "cell_type": "code",
      "metadata": {
        "id": "-NsG1DFxQXsx",
        "outputId": "dfc89777-1022-4c7c-db89-3b2ee8a4a99d",
        "colab": {
          "base_uri": "https://localhost:8080/",
          "height": 221
        }
      },
      "source": [
        "ts19.info()"
      ],
      "execution_count": 37,
      "outputs": [
        {
          "output_type": "stream",
          "text": [
            "<class 'pandas.core.frame.DataFrame'>\n",
            "RangeIndex: 1461 entries, 0 to 1460\n",
            "Data columns (total 5 columns):\n",
            " #   Column             Non-Null Count  Dtype         \n",
            "---  ------             --------------  -----         \n",
            " 0   TOTALDEMAND        1461 non-null   float64       \n",
            " 1   Date               1461 non-null   datetime64[ns]\n",
            " 2   relative_humidity  1461 non-null   float64       \n",
            " 3   avg_temp           1461 non-null   float64       \n",
            " 4   ws_avg_50          1461 non-null   float64       \n",
            "dtypes: datetime64[ns](1), float64(4)\n",
            "memory usage: 57.2 KB\n"
          ],
          "name": "stdout"
        }
      ]
    },
    {
      "cell_type": "code",
      "metadata": {
        "id": "Sm4D7Qm8mKKI",
        "outputId": "376756f8-1a9c-48b2-e41b-56601fc18cd4",
        "colab": {
          "base_uri": "https://localhost:8080/",
          "height": 362
        }
      },
      "source": [
        "ts19.set_index('Date')[['TOTALDEMAND','avg_temp','relative_humidity','ws_avg_50']].plot(subplots=True)"
      ],
      "execution_count": 38,
      "outputs": [
        {
          "output_type": "execute_result",
          "data": {
            "text/plain": [
              "array([<matplotlib.axes._subplots.AxesSubplot object at 0x7f65b3527e48>,\n",
              "       <matplotlib.axes._subplots.AxesSubplot object at 0x7f65b3339ba8>,\n",
              "       <matplotlib.axes._subplots.AxesSubplot object at 0x7f65b3368da0>,\n",
              "       <matplotlib.axes._subplots.AxesSubplot object at 0x7f65b3318fd0>],\n",
              "      dtype=object)"
            ]
          },
          "metadata": {
            "tags": []
          },
          "execution_count": 38
        },
        {
          "output_type": "display_data",
          "data": {
            "image/png": "[encoded data removed]",
            "text/plain": [
              "<Figure size 432x288 with 4 Axes>"
            ]
          },
          "metadata": {
            "tags": [],
            "needs_background": "light"
          }
        }
      ]
    },
    {
      "cell_type": "code",
      "metadata": {
        "id": "5AkB_11bTUyg",
        "outputId": "aa31e810-c0c2-495e-eb59-666a491a0562",
        "colab": {
          "base_uri": "https://localhost:8080/",
          "height": 235
        }
      },
      "source": [
        "ts19.set_index(['Date'], inplace=True)\n",
        "ts19.head()"
      ],
      "execution_count": 39,
      "outputs": [
        {
          "output_type": "execute_result",
          "data": {
            "text/html": [
              "<div>\n",
              "<style scoped>\n",
              "    .dataframe tbody tr th:only-of-type {\n",
              "        vertical-align: middle;\n",
              "    }\n",
              "\n",
              "    .dataframe tbody tr th {\n",
              "        vertical-align: top;\n",
              "    }\n",
              "\n",
              "    .dataframe thead th {\n",
              "        text-align: right;\n",
              "    }\n",
              "</style>\n",
              "<table border=\"1\" class=\"dataframe\">\n",
              "  <thead>\n",
              "    <tr style=\"text-align: right;\">\n",
              "      <th></th>\n",
              "      <th>TOTALDEMAND</th>\n",
              "      <th>relative_humidity</th>\n",
              "      <th>avg_temp</th>\n",
              "      <th>ws_avg_50</th>\n",
              "    </tr>\n",
              "    <tr>\n",
              "      <th>Date</th>\n",
              "      <th></th>\n",
              "      <th></th>\n",
              "      <th></th>\n",
              "      <th></th>\n",
              "    </tr>\n",
              "  </thead>\n",
              "  <tbody>\n",
              "    <tr>\n",
              "      <th>2016-01-01</th>\n",
              "      <td>226550.31</td>\n",
              "      <td>56.49</td>\n",
              "      <td>21.855</td>\n",
              "      <td>4.305</td>\n",
              "    </tr>\n",
              "    <tr>\n",
              "      <th>2016-02-01</th>\n",
              "      <td>199245.28</td>\n",
              "      <td>66.32</td>\n",
              "      <td>20.415</td>\n",
              "      <td>7.175</td>\n",
              "    </tr>\n",
              "    <tr>\n",
              "      <th>2016-03-01</th>\n",
              "      <td>195312.89</td>\n",
              "      <td>71.23</td>\n",
              "      <td>18.875</td>\n",
              "      <td>6.685</td>\n",
              "    </tr>\n",
              "    <tr>\n",
              "      <th>2016-04-01</th>\n",
              "      <td>221865.01</td>\n",
              "      <td>75.53</td>\n",
              "      <td>18.490</td>\n",
              "      <td>5.835</td>\n",
              "    </tr>\n",
              "    <tr>\n",
              "      <th>2016-05-01</th>\n",
              "      <td>235747.16</td>\n",
              "      <td>68.87</td>\n",
              "      <td>19.215</td>\n",
              "      <td>2.985</td>\n",
              "    </tr>\n",
              "  </tbody>\n",
              "</table>\n",
              "</div>"
            ],
            "text/plain": [
              "            TOTALDEMAND  relative_humidity  avg_temp  ws_avg_50\n",
              "Date                                                           \n",
              "2016-01-01    226550.31              56.49    21.855      4.305\n",
              "2016-02-01    199245.28              66.32    20.415      7.175\n",
              "2016-03-01    195312.89              71.23    18.875      6.685\n",
              "2016-04-01    221865.01              75.53    18.490      5.835\n",
              "2016-05-01    235747.16              68.87    19.215      2.985"
            ]
          },
          "metadata": {
            "tags": []
          },
          "execution_count": 39
        }
      ]
    },
    {
      "cell_type": "code",
      "metadata": {
        "id": "sSpSD1hmQ1nU",
        "outputId": "94c2544c-3e7d-41d8-8fee-c4db39f1a158",
        "colab": {
          "base_uri": "https://localhost:8080/",
          "height": 297
        }
      },
      "source": [
        "ts19.describe()"
      ],
      "execution_count": 40,
      "outputs": [
        {
          "output_type": "execute_result",
          "data": {
            "text/html": [
              "<div>\n",
              "<style scoped>\n",
              "    .dataframe tbody tr th:only-of-type {\n",
              "        vertical-align: middle;\n",
              "    }\n",
              "\n",
              "    .dataframe tbody tr th {\n",
              "        vertical-align: top;\n",
              "    }\n",
              "\n",
              "    .dataframe thead th {\n",
              "        text-align: right;\n",
              "    }\n",
              "</style>\n",
              "<table border=\"1\" class=\"dataframe\">\n",
              "  <thead>\n",
              "    <tr style=\"text-align: right;\">\n",
              "      <th></th>\n",
              "      <th>TOTALDEMAND</th>\n",
              "      <th>relative_humidity</th>\n",
              "      <th>avg_temp</th>\n",
              "      <th>ws_avg_50</th>\n",
              "    </tr>\n",
              "  </thead>\n",
              "  <tbody>\n",
              "    <tr>\n",
              "      <th>count</th>\n",
              "      <td>1461.000000</td>\n",
              "      <td>1461.000000</td>\n",
              "      <td>1461.000000</td>\n",
              "      <td>1461.000000</td>\n",
              "    </tr>\n",
              "    <tr>\n",
              "      <th>mean</th>\n",
              "      <td>238687.654771</td>\n",
              "      <td>69.361520</td>\n",
              "      <td>14.788528</td>\n",
              "      <td>6.169986</td>\n",
              "    </tr>\n",
              "    <tr>\n",
              "      <th>std</th>\n",
              "      <td>27362.963357</td>\n",
              "      <td>13.459587</td>\n",
              "      <td>5.331508</td>\n",
              "      <td>2.533314</td>\n",
              "    </tr>\n",
              "    <tr>\n",
              "      <th>min</th>\n",
              "      <td>170188.750000</td>\n",
              "      <td>24.040000</td>\n",
              "      <td>5.010000</td>\n",
              "      <td>1.220000</td>\n",
              "    </tr>\n",
              "    <tr>\n",
              "      <th>25%</th>\n",
              "      <td>219340.000000</td>\n",
              "      <td>60.480000</td>\n",
              "      <td>10.140000</td>\n",
              "      <td>4.095000</td>\n",
              "    </tr>\n",
              "    <tr>\n",
              "      <th>50%</th>\n",
              "      <td>236661.250000</td>\n",
              "      <td>70.270000</td>\n",
              "      <td>13.985000</td>\n",
              "      <td>5.795000</td>\n",
              "    </tr>\n",
              "    <tr>\n",
              "      <th>75%</th>\n",
              "      <td>258705.660000</td>\n",
              "      <td>80.140000</td>\n",
              "      <td>18.445000</td>\n",
              "      <td>7.770000</td>\n",
              "    </tr>\n",
              "    <tr>\n",
              "      <th>max</th>\n",
              "      <td>337789.690000</td>\n",
              "      <td>98.240000</td>\n",
              "      <td>31.085000</td>\n",
              "      <td>14.540000</td>\n",
              "    </tr>\n",
              "  </tbody>\n",
              "</table>\n",
              "</div>"
            ],
            "text/plain": [
              "         TOTALDEMAND  relative_humidity     avg_temp    ws_avg_50\n",
              "count    1461.000000        1461.000000  1461.000000  1461.000000\n",
              "mean   238687.654771          69.361520    14.788528     6.169986\n",
              "std     27362.963357          13.459587     5.331508     2.533314\n",
              "min    170188.750000          24.040000     5.010000     1.220000\n",
              "25%    219340.000000          60.480000    10.140000     4.095000\n",
              "50%    236661.250000          70.270000    13.985000     5.795000\n",
              "75%    258705.660000          80.140000    18.445000     7.770000\n",
              "max    337789.690000          98.240000    31.085000    14.540000"
            ]
          },
          "metadata": {
            "tags": []
          },
          "execution_count": 40
        }
      ]
    },
    {
      "cell_type": "code",
      "metadata": {
        "id": "G5RgxoRwmKQe"
      },
      "source": [
        "#Normalising the dataset\n",
        "\n",
        "scaler = MinMaxScaler()\n",
        "data_training = scaler.fit_transform(ts19)"
      ],
      "execution_count": 41,
      "outputs": []
    },
    {
      "cell_type": "code",
      "metadata": {
        "id": "Ms1Nm-2ImKTH",
        "outputId": "d80cdae9-b2e5-4f0e-d5f9-56c10adee3de",
        "colab": {
          "base_uri": "https://localhost:8080/",
          "height": 136
        }
      },
      "source": [
        "data_training"
      ],
      "execution_count": 42,
      "outputs": [
        {
          "output_type": "execute_result",
          "data": {
            "text/plain": [
              "array([[0.33628427, 0.43733154, 0.64602109, 0.23160661],\n",
              "       [0.17336735, 0.56981132, 0.59079578, 0.44707207],\n",
              "       [0.14990453, 0.63598383, 0.53173538, 0.41028529],\n",
              "       ...,\n",
              "       [0.39616902, 0.25862534, 0.87574305, 0.16291291],\n",
              "       [0.66008878, 0.1361186 , 0.96893576, 0.63438438],\n",
              "       [0.12310211, 0.38045822, 0.48878236, 0.3536036 ]])"
            ]
          },
          "metadata": {
            "tags": []
          },
          "execution_count": 42
        }
      ]
    },
    {
      "cell_type": "code",
      "metadata": {
        "id": "forRbswumKYN"
      },
      "source": [
        "features = data_training\n",
        "target = data_training[:,0]"
      ],
      "execution_count": 43,
      "outputs": []
    },
    {
      "cell_type": "code",
      "metadata": {
        "id": "BIHhvfz_mKa8",
        "outputId": "4b7d9ae2-4721-41ff-f65f-94cfd9520f2b",
        "colab": {
          "base_uri": "https://localhost:8080/",
          "height": 544
        }
      },
      "source": [
        "TimeseriesGenerator(features, target, length=30, sampling_rate=1, batch_size=1)[0]"
      ],
      "execution_count": 46,
      "outputs": [
        {
          "output_type": "execute_result",
          "data": {
            "text/plain": [
              "(array([[[0.33628427, 0.43733154, 0.64602109, 0.23160661],\n",
              "         [0.17336735, 0.56981132, 0.59079578, 0.44707207],\n",
              "         [0.14990453, 0.63598383, 0.53173538, 0.41028529],\n",
              "         [0.30832918, 0.69393531, 0.51697028, 0.34647147],\n",
              "         [0.39115777, 0.6041779 , 0.54477469, 0.13250751],\n",
              "         [0.35763391, 0.64663073, 0.56740173, 0.46884384],\n",
              "         [0.32575378, 0.52991914, 0.5096836 , 0.44744745],\n",
              "         [0.31963025, 0.50983827, 0.51045062, 0.34647147],\n",
              "         [0.24329601, 0.48382749, 0.52809204, 0.2042042 ],\n",
              "         [0.33358727, 0.29986523, 0.67727709, 0.1295045 ],\n",
              "         [0.66871594, 0.2925876 , 0.81361457, 0.22372372],\n",
              "         [0.59560209, 0.45525606, 0.65503356, 0.23385886],\n",
              "         [0.89398902, 0.22749326, 0.89568552, 0.47222222],\n",
              "         [0.42126208, 0.47695418, 0.52023011, 0.61036036],\n",
              "         [0.33592192, 0.39487871, 0.4253116 , 0.50487988],\n",
              "         [0.2142207 , 0.36698113, 0.48149569, 0.20795796],\n",
              "         [0.34609227, 0.22412399, 0.6738255 , 0.26351351],\n",
              "         [0.74848279, 0.1245283 , 0.81131352, 0.35960961],\n",
              "         [0.75796705, 0.2606469 , 0.77353787, 0.18130631],\n",
              "         [0.68468751, 0.56981132, 0.7177373 , 0.1478979 ],\n",
              "         [0.64863884, 0.55768194, 0.67459252, 0.16966967],\n",
              "         [0.52554371, 0.77978437, 0.54803452, 0.08783784],\n",
              "         [0.27450288, 0.64177898, 0.55953979, 0.33633634],\n",
              "         [0.21839883, 0.63948787, 0.53384468, 0.34084084],\n",
              "         [0.32881946, 0.61792453, 0.51486098, 0.43993994],\n",
              "         [0.29902505, 0.55309973, 0.61418984, 0.28978979],\n",
              "         [0.58023135, 0.64541779, 0.66366251, 0.38213213],\n",
              "         [0.58562267, 0.57574124, 0.66021093, 0.3033033 ],\n",
              "         [0.45967326, 0.75687332, 0.36164909, 0.13588589],\n",
              "         [0.26831556, 0.58490566, 0.46596357, 0.25675676]]]),\n",
              " array([0.19314062]))"
            ]
          },
          "metadata": {
            "tags": []
          },
          "execution_count": 46
        }
      ]
    },
    {
      "cell_type": "code",
      "metadata": {
        "id": "cBBSqZq4mKdr"
      },
      "source": [
        "x_train, x_test, y_train, y_test = train_test_split(features, target, test_size=0.20, shuffle=False)"
      ],
      "execution_count": 48,
      "outputs": []
    },
    {
      "cell_type": "code",
      "metadata": {
        "id": "r8f2ojoTmKgL",
        "outputId": "e7bed924-5d42-4da9-a879-686b84725341",
        "colab": {
          "base_uri": "https://localhost:8080/",
          "height": 34
        }
      },
      "source": [
        "x_train.shape"
      ],
      "execution_count": 49,
      "outputs": [
        {
          "output_type": "execute_result",
          "data": {
            "text/plain": [
              "(1168, 4)"
            ]
          },
          "metadata": {
            "tags": []
          },
          "execution_count": 49
        }
      ]
    },
    {
      "cell_type": "code",
      "metadata": {
        "id": "JSpwb5B0mKi5",
        "outputId": "2780510c-f428-44fc-8702-d7660c16e178",
        "colab": {
          "base_uri": "https://localhost:8080/",
          "height": 34
        }
      },
      "source": [
        "x_test.shape"
      ],
      "execution_count": 50,
      "outputs": [
        {
          "output_type": "execute_result",
          "data": {
            "text/plain": [
              "(293, 4)"
            ]
          },
          "metadata": {
            "tags": []
          },
          "execution_count": 50
        }
      ]
    },
    {
      "cell_type": "code",
      "metadata": {
        "id": "bOtm4Du8U1ZQ",
        "outputId": "96392827-d59e-422f-c188-4a1b6256b465",
        "colab": {
          "base_uri": "https://localhost:8080/",
          "height": 136
        }
      },
      "source": [
        "x_test"
      ],
      "execution_count": 51,
      "outputs": [
        {
          "output_type": "execute_result",
          "data": {
            "text/plain": [
              "array([[0.33044451, 0.4712938 , 0.43317354, 0.28190691],\n",
              "       [0.31127212, 0.61280323, 0.46404602, 0.34947447],\n",
              "       [0.23896173, 0.45161725, 0.59616491, 0.17567568],\n",
              "       ...,\n",
              "       [0.39616902, 0.25862534, 0.87574305, 0.16291291],\n",
              "       [0.66008878, 0.1361186 , 0.96893576, 0.63438438],\n",
              "       [0.12310211, 0.38045822, 0.48878236, 0.3536036 ]])"
            ]
          },
          "metadata": {
            "tags": []
          },
          "execution_count": 51
        }
      ]
    },
    {
      "cell_type": "code",
      "metadata": {
        "id": "upYaooPSmKlS",
        "outputId": "e9a7e80a-0aad-4d20-876e-25ef337bd344",
        "colab": {
          "base_uri": "https://localhost:8080/",
          "height": 34
        }
      },
      "source": [
        "y_train.shape"
      ],
      "execution_count": 125,
      "outputs": [
        {
          "output_type": "execute_result",
          "data": {
            "text/plain": [
              "(1417,)"
            ]
          },
          "metadata": {
            "tags": []
          },
          "execution_count": 125
        }
      ]
    },
    {
      "cell_type": "code",
      "metadata": {
        "id": "q7mhLr-1qfTx",
        "outputId": "b902c3ed-c56c-4840-9f70-653e1a44b735",
        "colab": {
          "base_uri": "https://localhost:8080/",
          "height": 34
        }
      },
      "source": [
        "y_test.shape"
      ],
      "execution_count": 126,
      "outputs": [
        {
          "output_type": "execute_result",
          "data": {
            "text/plain": [
              "(44,)"
            ]
          },
          "metadata": {
            "tags": []
          },
          "execution_count": 126
        }
      ]
    },
    {
      "cell_type": "code",
      "metadata": {
        "id": "O_q4Vg6XqkBn"
      },
      "source": [
        "win_length=30\n",
        "batch_size=32\n",
        "num_features = 4\n",
        "train_generator = TimeseriesGenerator(x_train,y_train,length=win_length,sampling_rate=1,batch_size=batch_size)\n",
        "test_generator = TimeseriesGenerator(x_test,y_test,length=win_length,sampling_rate=1,batch_size=batch_size)"
      ],
      "execution_count": 52,
      "outputs": []
    },
    {
      "cell_type": "code",
      "metadata": {
        "id": "TVc28erorZ9r",
        "outputId": "9e0a6ae1-482e-4d65-ef29-33aa9a961e1a",
        "colab": {
          "base_uri": "https://localhost:8080/",
          "height": 969
        }
      },
      "source": [
        "train_generator[0]"
      ],
      "execution_count": 53,
      "outputs": [
        {
          "output_type": "execute_result",
          "data": {
            "text/plain": [
              "(array([[[0.33628427, 0.43733154, 0.64602109, 0.23160661],\n",
              "         [0.17336735, 0.56981132, 0.59079578, 0.44707207],\n",
              "         [0.14990453, 0.63598383, 0.53173538, 0.41028529],\n",
              "         ...,\n",
              "         [0.58562267, 0.57574124, 0.66021093, 0.3033033 ],\n",
              "         [0.45967326, 0.75687332, 0.36164909, 0.13588589],\n",
              "         [0.26831556, 0.58490566, 0.46596357, 0.25675676]],\n",
              " \n",
              "        [[0.17336735, 0.56981132, 0.59079578, 0.44707207],\n",
              "         [0.14990453, 0.63598383, 0.53173538, 0.41028529],\n",
              "         [0.30832918, 0.69393531, 0.51697028, 0.34647147],\n",
              "         ...,\n",
              "         [0.45967326, 0.75687332, 0.36164909, 0.13588589],\n",
              "         [0.26831556, 0.58490566, 0.46596357, 0.25675676],\n",
              "         [0.19314062, 0.69743935, 0.4358581 , 0.28415916]],\n",
              " \n",
              "        [[0.14990453, 0.63598383, 0.53173538, 0.41028529],\n",
              "         [0.30832918, 0.69393531, 0.51697028, 0.34647147],\n",
              "         [0.39115777, 0.6041779 , 0.54477469, 0.13250751],\n",
              "         ...,\n",
              "         [0.26831556, 0.58490566, 0.46596357, 0.25675676],\n",
              "         [0.19314062, 0.69743935, 0.4358581 , 0.28415916],\n",
              "         [0.4119953 , 0.61226415, 0.48552253, 0.19557057]],\n",
              " \n",
              "        ...,\n",
              " \n",
              "        [[0.26831556, 0.58490566, 0.46596357, 0.25675676],\n",
              "         [0.19314062, 0.69743935, 0.4358581 , 0.28415916],\n",
              "         [0.4119953 , 0.61226415, 0.48552253, 0.19557057],\n",
              "         ...,\n",
              "         [0.44727148, 0.49716981, 0.52253116, 0.3246997 ],\n",
              "         [0.30371506, 0.53814016, 0.57085331, 0.24887387],\n",
              "         [0.24686747, 0.57735849, 0.54995206, 0.30217718]],\n",
              " \n",
              "        [[0.19314062, 0.69743935, 0.4358581 , 0.28415916],\n",
              "         [0.4119953 , 0.61226415, 0.48552253, 0.19557057],\n",
              "         [0.58346666, 0.50363881, 0.63029722, 0.18168168],\n",
              "         ...,\n",
              "         [0.30371506, 0.53814016, 0.57085331, 0.24887387],\n",
              "         [0.24686747, 0.57735849, 0.54995206, 0.30217718],\n",
              "         [0.4809723 , 0.56091644, 0.56740173, 0.26351351]],\n",
              " \n",
              "        [[0.4119953 , 0.61226415, 0.48552253, 0.19557057],\n",
              "         [0.58346666, 0.50363881, 0.63029722, 0.18168168],\n",
              "         [0.44749272, 0.68328841, 0.51505273, 0.5228979 ],\n",
              "         ...,\n",
              "         [0.24686747, 0.57735849, 0.54995206, 0.30217718],\n",
              "         [0.4809723 , 0.56091644, 0.56740173, 0.26351351],\n",
              "         [0.6518933 , 0.27857143, 0.6991371 , 0.20495495]]]),\n",
              " array([0.19314062, 0.4119953 , 0.58346666, 0.44749272, 0.41557321,\n",
              "        0.4920757 , 0.46112671, 0.4694775 , 0.52783535, 0.55103378,\n",
              "        0.56289219, 0.54784198, 0.58175264, 0.42655632, 0.22995527,\n",
              "        0.42683472, 0.38147352, 0.41034871, 0.48770383, 0.45223237,\n",
              "        0.24841549, 0.27195528, 0.54215627, 0.85716053, 0.80339693,\n",
              "        0.63210242, 0.44727148, 0.30371506, 0.24686747, 0.4809723 ,\n",
              "        0.6518933 , 0.71704377]))"
            ]
          },
          "metadata": {
            "tags": []
          },
          "execution_count": 53
        }
      ]
    },
    {
      "cell_type": "code",
      "metadata": {
        "id": "Z0nwnWjOraAh"
      },
      "source": [
        "model = tf.keras.Sequential()\n",
        "model.add(tf.keras.layers.LSTM(128, input_shape= (win_length,num_features), return_sequences=True))\n",
        "model.add(tf.keras.layers.LeakyReLU(alpha=0.5))\n",
        "model.add(tf.keras.layers.LSTM(128, return_sequences=True))\n",
        "model.add(tf.keras.layers.LeakyReLU(alpha=0.5))\n",
        "model.add(tf.keras.layers.Dropout(0.3))\n",
        "model.add(tf.keras.layers.LSTM(64, return_sequences=False))\n",
        "model.add(tf.keras.layers.Dropout(0.3))\n",
        "model.add(tf.keras.layers.Dense(1))\n"
      ],
      "execution_count": 54,
      "outputs": []
    },
    {
      "cell_type": "code",
      "metadata": {
        "id": "tkuCD88draDI",
        "outputId": "abb9ee1b-ddb5-4602-a07f-90fb5391c9a2",
        "colab": {
          "base_uri": "https://localhost:8080/",
          "height": 425
        }
      },
      "source": [
        "model.summary()"
      ],
      "execution_count": 55,
      "outputs": [
        {
          "output_type": "stream",
          "text": [
            "Model: \"sequential\"\n",
            "_________________________________________________________________\n",
            "Layer (type)                 Output Shape              Param #   \n",
            "=================================================================\n",
            "lstm (LSTM)                  (None, 30, 128)           68096     \n",
            "_________________________________________________________________\n",
            "leaky_re_lu (LeakyReLU)      (None, 30, 128)           0         \n",
            "_________________________________________________________________\n",
            "lstm_1 (LSTM)                (None, 30, 128)           131584    \n",
            "_________________________________________________________________\n",
            "leaky_re_lu_1 (LeakyReLU)    (None, 30, 128)           0         \n",
            "_________________________________________________________________\n",
            "dropout (Dropout)            (None, 30, 128)           0         \n",
            "_________________________________________________________________\n",
            "lstm_2 (LSTM)                (None, 64)                49408     \n",
            "_________________________________________________________________\n",
            "dropout_1 (Dropout)          (None, 64)                0         \n",
            "_________________________________________________________________\n",
            "dense (Dense)                (None, 1)                 65        \n",
            "=================================================================\n",
            "Total params: 249,153\n",
            "Trainable params: 249,153\n",
            "Non-trainable params: 0\n",
            "_________________________________________________________________\n"
          ],
          "name": "stdout"
        }
      ]
    },
    {
      "cell_type": "code",
      "metadata": {
        "id": "mUr89h0GtG3s",
        "outputId": "a0d861b3-8979-4d0b-bb9a-4b03634298a8",
        "colab": {
          "base_uri": "https://localhost:8080/",
          "height": 1000
        }
      },
      "source": [
        "# early_stopping = tf.keras.callbacks.EarlyStopping(monitor='val_loss',\n",
        "#                                                   patience=2,\n",
        "#                                                   mode='min')\n",
        "\n",
        "model.compile(loss=tf.losses.MeanSquaredError(),\n",
        "              optimizer = tf.optimizers.Adam(),\n",
        "              metrics=[tf.metrics.MeanAbsoluteError()])\n",
        "\n",
        "history = model.fit_generator(train_generator, epochs=50, validation_data=test_generator, shuffle=False)#])#, callbacks=[early_stopping])"
      ],
      "execution_count": 58,
      "outputs": [
        {
          "output_type": "stream",
          "text": [
            "WARNING:tensorflow:From <ipython-input-58-68d8066c8c4f>:9: Model.fit_generator (from tensorflow.python.keras.engine.training) is deprecated and will be removed in a future version.\n",
            "Instructions for updating:\n",
            "Please use Model.fit, which supports generators.\n",
            "Epoch 1/50\n",
            "36/36 [==============================] - 5s 133ms/step - loss: 0.0546 - mean_absolute_error: 0.1825 - val_loss: 0.0180 - val_mean_absolute_error: 0.1086\n",
            "Epoch 2/50\n",
            "36/36 [==============================] - 3s 95ms/step - loss: 0.0307 - mean_absolute_error: 0.1399 - val_loss: 0.0192 - val_mean_absolute_error: 0.1117\n",
            "Epoch 3/50\n",
            "36/36 [==============================] - 3s 95ms/step - loss: 0.0284 - mean_absolute_error: 0.1323 - val_loss: 0.0185 - val_mean_absolute_error: 0.1088\n",
            "Epoch 4/50\n",
            "36/36 [==============================] - 4s 102ms/step - loss: 0.0292 - mean_absolute_error: 0.1361 - val_loss: 0.0186 - val_mean_absolute_error: 0.1091\n",
            "Epoch 5/50\n",
            "36/36 [==============================] - 4s 100ms/step - loss: 0.0265 - mean_absolute_error: 0.1286 - val_loss: 0.0180 - val_mean_absolute_error: 0.1067\n",
            "Epoch 6/50\n",
            "36/36 [==============================] - 4s 104ms/step - loss: 0.0272 - mean_absolute_error: 0.1303 - val_loss: 0.0172 - val_mean_absolute_error: 0.1044\n",
            "Epoch 7/50\n",
            "36/36 [==============================] - 4s 105ms/step - loss: 0.0257 - mean_absolute_error: 0.1249 - val_loss: 0.0179 - val_mean_absolute_error: 0.1068\n",
            "Epoch 8/50\n",
            "36/36 [==============================] - 4s 102ms/step - loss: 0.0261 - mean_absolute_error: 0.1280 - val_loss: 0.0169 - val_mean_absolute_error: 0.1033\n",
            "Epoch 9/50\n",
            "36/36 [==============================] - 3s 96ms/step - loss: 0.0252 - mean_absolute_error: 0.1244 - val_loss: 0.0188 - val_mean_absolute_error: 0.1101\n",
            "Epoch 10/50\n",
            "36/36 [==============================] - 3s 96ms/step - loss: 0.0265 - mean_absolute_error: 0.1287 - val_loss: 0.0169 - val_mean_absolute_error: 0.1037\n",
            "Epoch 11/50\n",
            "36/36 [==============================] - 3s 96ms/step - loss: 0.0244 - mean_absolute_error: 0.1227 - val_loss: 0.0163 - val_mean_absolute_error: 0.1007\n",
            "Epoch 12/50\n",
            "36/36 [==============================] - 3s 96ms/step - loss: 0.0243 - mean_absolute_error: 0.1217 - val_loss: 0.0173 - val_mean_absolute_error: 0.1053\n",
            "Epoch 13/50\n",
            "36/36 [==============================] - 3s 96ms/step - loss: 0.0246 - mean_absolute_error: 0.1232 - val_loss: 0.0168 - val_mean_absolute_error: 0.1031\n",
            "Epoch 14/50\n",
            "36/36 [==============================] - 4s 97ms/step - loss: 0.0246 - mean_absolute_error: 0.1243 - val_loss: 0.0169 - val_mean_absolute_error: 0.1036\n",
            "Epoch 15/50\n",
            "36/36 [==============================] - 3s 96ms/step - loss: 0.0241 - mean_absolute_error: 0.1220 - val_loss: 0.0166 - val_mean_absolute_error: 0.1023\n",
            "Epoch 16/50\n",
            "36/36 [==============================] - 3s 96ms/step - loss: 0.0238 - mean_absolute_error: 0.1215 - val_loss: 0.0171 - val_mean_absolute_error: 0.1047\n",
            "Epoch 17/50\n",
            "36/36 [==============================] - 3s 96ms/step - loss: 0.0238 - mean_absolute_error: 0.1222 - val_loss: 0.0167 - val_mean_absolute_error: 0.1027\n",
            "Epoch 18/50\n",
            "36/36 [==============================] - 3s 94ms/step - loss: 0.0237 - mean_absolute_error: 0.1213 - val_loss: 0.0177 - val_mean_absolute_error: 0.1069\n",
            "Epoch 19/50\n",
            "36/36 [==============================] - 3s 95ms/step - loss: 0.0245 - mean_absolute_error: 0.1238 - val_loss: 0.0166 - val_mean_absolute_error: 0.1024\n",
            "Epoch 20/50\n",
            "36/36 [==============================] - 3s 97ms/step - loss: 0.0227 - mean_absolute_error: 0.1176 - val_loss: 0.0167 - val_mean_absolute_error: 0.1030\n",
            "Epoch 21/50\n",
            "36/36 [==============================] - 4s 98ms/step - loss: 0.0238 - mean_absolute_error: 0.1210 - val_loss: 0.0172 - val_mean_absolute_error: 0.1049\n",
            "Epoch 22/50\n",
            "36/36 [==============================] - 3s 96ms/step - loss: 0.0236 - mean_absolute_error: 0.1215 - val_loss: 0.0160 - val_mean_absolute_error: 0.0992\n",
            "Epoch 23/50\n",
            "36/36 [==============================] - 3s 96ms/step - loss: 0.0219 - mean_absolute_error: 0.1164 - val_loss: 0.0161 - val_mean_absolute_error: 0.0997\n",
            "Epoch 24/50\n",
            "36/36 [==============================] - 3s 95ms/step - loss: 0.0228 - mean_absolute_error: 0.1182 - val_loss: 0.0169 - val_mean_absolute_error: 0.1039\n",
            "Epoch 25/50\n",
            "36/36 [==============================] - 4s 98ms/step - loss: 0.0233 - mean_absolute_error: 0.1202 - val_loss: 0.0174 - val_mean_absolute_error: 0.1061\n",
            "Epoch 26/50\n",
            "36/36 [==============================] - 3s 95ms/step - loss: 0.0237 - mean_absolute_error: 0.1217 - val_loss: 0.0160 - val_mean_absolute_error: 0.0990\n",
            "Epoch 27/50\n",
            "36/36 [==============================] - 3s 96ms/step - loss: 0.0221 - mean_absolute_error: 0.1156 - val_loss: 0.0166 - val_mean_absolute_error: 0.1021\n",
            "Epoch 28/50\n",
            "36/36 [==============================] - 3s 96ms/step - loss: 0.0226 - mean_absolute_error: 0.1175 - val_loss: 0.0169 - val_mean_absolute_error: 0.1039\n",
            "Epoch 29/50\n",
            "36/36 [==============================] - 3s 96ms/step - loss: 0.0232 - mean_absolute_error: 0.1201 - val_loss: 0.0166 - val_mean_absolute_error: 0.1018\n",
            "Epoch 30/50\n",
            "36/36 [==============================] - 3s 96ms/step - loss: 0.0226 - mean_absolute_error: 0.1182 - val_loss: 0.0170 - val_mean_absolute_error: 0.1037\n",
            "Epoch 31/50\n",
            "36/36 [==============================] - 3s 97ms/step - loss: 0.0232 - mean_absolute_error: 0.1195 - val_loss: 0.0165 - val_mean_absolute_error: 0.1012\n",
            "Epoch 32/50\n",
            "36/36 [==============================] - 3s 96ms/step - loss: 0.0228 - mean_absolute_error: 0.1185 - val_loss: 0.0167 - val_mean_absolute_error: 0.1023\n",
            "Epoch 33/50\n",
            "36/36 [==============================] - 3s 96ms/step - loss: 0.0223 - mean_absolute_error: 0.1169 - val_loss: 0.0166 - val_mean_absolute_error: 0.1018\n",
            "Epoch 34/50\n",
            "36/36 [==============================] - 3s 96ms/step - loss: 0.0219 - mean_absolute_error: 0.1165 - val_loss: 0.0163 - val_mean_absolute_error: 0.1002\n",
            "Epoch 35/50\n",
            "36/36 [==============================] - 4s 99ms/step - loss: 0.0217 - mean_absolute_error: 0.1154 - val_loss: 0.0166 - val_mean_absolute_error: 0.1019\n",
            "Epoch 36/50\n",
            "36/36 [==============================] - 3s 95ms/step - loss: 0.0219 - mean_absolute_error: 0.1167 - val_loss: 0.0163 - val_mean_absolute_error: 0.0999\n",
            "Epoch 37/50\n",
            "36/36 [==============================] - 3s 96ms/step - loss: 0.0215 - mean_absolute_error: 0.1158 - val_loss: 0.0164 - val_mean_absolute_error: 0.1002\n",
            "Epoch 38/50\n",
            "36/36 [==============================] - 3s 96ms/step - loss: 0.0217 - mean_absolute_error: 0.1147 - val_loss: 0.0166 - val_mean_absolute_error: 0.1021\n",
            "Epoch 39/50\n",
            "36/36 [==============================] - 4s 97ms/step - loss: 0.0226 - mean_absolute_error: 0.1187 - val_loss: 0.0177 - val_mean_absolute_error: 0.1071\n",
            "Epoch 40/50\n",
            "36/36 [==============================] - 3s 96ms/step - loss: 0.0237 - mean_absolute_error: 0.1209 - val_loss: 0.0164 - val_mean_absolute_error: 0.1007\n",
            "Epoch 41/50\n",
            "36/36 [==============================] - 3s 96ms/step - loss: 0.0217 - mean_absolute_error: 0.1151 - val_loss: 0.0170 - val_mean_absolute_error: 0.1032\n",
            "Epoch 42/50\n",
            "36/36 [==============================] - 3s 96ms/step - loss: 0.0219 - mean_absolute_error: 0.1176 - val_loss: 0.0164 - val_mean_absolute_error: 0.1007\n",
            "Epoch 43/50\n",
            "36/36 [==============================] - 3s 96ms/step - loss: 0.0214 - mean_absolute_error: 0.1156 - val_loss: 0.0167 - val_mean_absolute_error: 0.1017\n",
            "Epoch 44/50\n",
            "36/36 [==============================] - 3s 96ms/step - loss: 0.0214 - mean_absolute_error: 0.1148 - val_loss: 0.0165 - val_mean_absolute_error: 0.1006\n",
            "Epoch 45/50\n",
            "36/36 [==============================] - 4s 97ms/step - loss: 0.0211 - mean_absolute_error: 0.1141 - val_loss: 0.0170 - val_mean_absolute_error: 0.1037\n",
            "Epoch 46/50\n",
            "36/36 [==============================] - 3s 97ms/step - loss: 0.0225 - mean_absolute_error: 0.1183 - val_loss: 0.0186 - val_mean_absolute_error: 0.1104\n",
            "Epoch 47/50\n",
            "36/36 [==============================] - 3s 97ms/step - loss: 0.0235 - mean_absolute_error: 0.1214 - val_loss: 0.0163 - val_mean_absolute_error: 0.1001\n",
            "Epoch 48/50\n",
            "36/36 [==============================] - 3s 96ms/step - loss: 0.0211 - mean_absolute_error: 0.1136 - val_loss: 0.0170 - val_mean_absolute_error: 0.1040\n",
            "Epoch 49/50\n",
            "36/36 [==============================] - 3s 96ms/step - loss: 0.0214 - mean_absolute_error: 0.1157 - val_loss: 0.0171 - val_mean_absolute_error: 0.1041\n",
            "Epoch 50/50\n",
            "36/36 [==============================] - 3s 96ms/step - loss: 0.0212 - mean_absolute_error: 0.1143 - val_loss: 0.0167 - val_mean_absolute_error: 0.1033\n"
          ],
          "name": "stdout"
        }
      ]
    },
    {
      "cell_type": "code",
      "metadata": {
        "id": "TKEHURS6raFv",
        "outputId": "d9da2015-6b20-4b90-fdc2-e2f24a57f012",
        "colab": {
          "base_uri": "https://localhost:8080/",
          "height": 105
        }
      },
      "source": [
        "model.evaluate_generator(test_generator, verbose=0)"
      ],
      "execution_count": 59,
      "outputs": [
        {
          "output_type": "stream",
          "text": [
            "WARNING:tensorflow:From <ipython-input-59-a68ec1088d46>:1: Model.evaluate_generator (from tensorflow.python.keras.engine.training) is deprecated and will be removed in a future version.\n",
            "Instructions for updating:\n",
            "Please use Model.evaluate, which supports generators.\n"
          ],
          "name": "stdout"
        },
        {
          "output_type": "execute_result",
          "data": {
            "text/plain": [
              "[0.01668703183531761, 0.10330020636320114]"
            ]
          },
          "metadata": {
            "tags": []
          },
          "execution_count": 59
        }
      ]
    },
    {
      "cell_type": "code",
      "metadata": {
        "id": "vKLBLA8WraIL",
        "outputId": "8a205d71-c9c0-49dd-a5a5-4e8815be3e26",
        "colab": {
          "base_uri": "https://localhost:8080/",
          "height": 88
        }
      },
      "source": [
        "predictions = model.predict_generator(test_generator)"
      ],
      "execution_count": 60,
      "outputs": [
        {
          "output_type": "stream",
          "text": [
            "WARNING:tensorflow:From <ipython-input-60-9068eb02ed61>:1: Model.predict_generator (from tensorflow.python.keras.engine.training) is deprecated and will be removed in a future version.\n",
            "Instructions for updating:\n",
            "Please use Model.predict, which supports generators.\n"
          ],
          "name": "stdout"
        }
      ]
    },
    {
      "cell_type": "code",
      "metadata": {
        "id": "afzKvwVVraKz",
        "outputId": "ffb2e8d0-c274-402c-a6e2-ca3954180de3",
        "colab": {
          "base_uri": "https://localhost:8080/",
          "height": 34
        }
      },
      "source": [
        "predictions.shape[0]"
      ],
      "execution_count": 61,
      "outputs": [
        {
          "output_type": "execute_result",
          "data": {
            "text/plain": [
              "263"
            ]
          },
          "metadata": {
            "tags": []
          },
          "execution_count": 61
        }
      ]
    },
    {
      "cell_type": "code",
      "metadata": {
        "id": "uL7d8XVQraNF",
        "outputId": "76ed03dc-dbee-4e48-9c70-aca07d9b3b81",
        "colab": {
          "base_uri": "https://localhost:8080/",
          "height": 1000
        }
      },
      "source": [
        "predictions"
      ],
      "execution_count": 62,
      "outputs": [
        {
          "output_type": "execute_result",
          "data": {
            "text/plain": [
              "array([[0.29802275],\n",
              "       [0.30689234],\n",
              "       [0.31056604],\n",
              "       [0.31881148],\n",
              "       [0.3299492 ],\n",
              "       [0.3371723 ],\n",
              "       [0.33671075],\n",
              "       [0.33070838],\n",
              "       [0.32598972],\n",
              "       [0.31369647],\n",
              "       [0.2997096 ],\n",
              "       [0.28891894],\n",
              "       [0.28062612],\n",
              "       [0.2666973 ],\n",
              "       [0.25085896],\n",
              "       [0.23823029],\n",
              "       [0.23065364],\n",
              "       [0.23768477],\n",
              "       [0.25008193],\n",
              "       [0.26071823],\n",
              "       [0.2737795 ],\n",
              "       [0.29079688],\n",
              "       [0.3035955 ],\n",
              "       [0.3136222 ],\n",
              "       [0.32930976],\n",
              "       [0.34461272],\n",
              "       [0.35219908],\n",
              "       [0.3580888 ],\n",
              "       [0.36351413],\n",
              "       [0.36607417],\n",
              "       [0.367647  ],\n",
              "       [0.37072572],\n",
              "       [0.37696165],\n",
              "       [0.38284996],\n",
              "       [0.39295402],\n",
              "       [0.40199503],\n",
              "       [0.40702078],\n",
              "       [0.40079936],\n",
              "       [0.3883451 ],\n",
              "       [0.3800023 ],\n",
              "       [0.37637603],\n",
              "       [0.36761144],\n",
              "       [0.35682866],\n",
              "       [0.34647733],\n",
              "       [0.3331286 ],\n",
              "       [0.32905316],\n",
              "       [0.3354    ],\n",
              "       [0.34784555],\n",
              "       [0.37330207],\n",
              "       [0.402885  ],\n",
              "       [0.42580137],\n",
              "       [0.44304773],\n",
              "       [0.45791146],\n",
              "       [0.47148904],\n",
              "       [0.48311785],\n",
              "       [0.4916441 ],\n",
              "       [0.49773547],\n",
              "       [0.4900258 ],\n",
              "       [0.47373477],\n",
              "       [0.4524201 ],\n",
              "       [0.4366049 ],\n",
              "       [0.4211341 ],\n",
              "       [0.40955397],\n",
              "       [0.4019244 ],\n",
              "       [0.39778873],\n",
              "       [0.39328054],\n",
              "       [0.394896  ],\n",
              "       [0.40219828],\n",
              "       [0.41715375],\n",
              "       [0.43796465],\n",
              "       [0.45760724],\n",
              "       [0.47432774],\n",
              "       [0.49104837],\n",
              "       [0.5131467 ],\n",
              "       [0.5264679 ],\n",
              "       [0.5297619 ],\n",
              "       [0.52036995],\n",
              "       [0.5057243 ],\n",
              "       [0.4865946 ],\n",
              "       [0.47255093],\n",
              "       [0.4656519 ],\n",
              "       [0.46625102],\n",
              "       [0.47139257],\n",
              "       [0.4778354 ],\n",
              "       [0.4828538 ],\n",
              "       [0.476116  ],\n",
              "       [0.46431673],\n",
              "       [0.45875058],\n",
              "       [0.45753217],\n",
              "       [0.45112184],\n",
              "       [0.44751108],\n",
              "       [0.44604394],\n",
              "       [0.44813243],\n",
              "       [0.45159528],\n",
              "       [0.4594171 ],\n",
              "       [0.47053877],\n",
              "       [0.48055837],\n",
              "       [0.48972973],\n",
              "       [0.49594665],\n",
              "       [0.48909995],\n",
              "       [0.478673  ],\n",
              "       [0.46960863],\n",
              "       [0.4615783 ],\n",
              "       [0.45852244],\n",
              "       [0.45607913],\n",
              "       [0.45692274],\n",
              "       [0.45404696],\n",
              "       [0.45011586],\n",
              "       [0.44802663],\n",
              "       [0.44730386],\n",
              "       [0.4503605 ],\n",
              "       [0.45158967],\n",
              "       [0.45182404],\n",
              "       [0.4450054 ],\n",
              "       [0.441502  ],\n",
              "       [0.43899122],\n",
              "       [0.43665567],\n",
              "       [0.44074926],\n",
              "       [0.44107953],\n",
              "       [0.44591886],\n",
              "       [0.45243037],\n",
              "       [0.45845932],\n",
              "       [0.4719803 ],\n",
              "       [0.48986116],\n",
              "       [0.5017912 ],\n",
              "       [0.5031626 ],\n",
              "       [0.5011959 ],\n",
              "       [0.4956743 ],\n",
              "       [0.48120877],\n",
              "       [0.474159  ],\n",
              "       [0.46772185],\n",
              "       [0.4568064 ],\n",
              "       [0.45088354],\n",
              "       [0.44853482],\n",
              "       [0.43766975],\n",
              "       [0.42871538],\n",
              "       [0.4287446 ],\n",
              "       [0.43062738],\n",
              "       [0.43089733],\n",
              "       [0.4335055 ],\n",
              "       [0.44164023],\n",
              "       [0.43639165],\n",
              "       [0.42352086],\n",
              "       [0.41881981],\n",
              "       [0.41506615],\n",
              "       [0.41104373],\n",
              "       [0.40397596],\n",
              "       [0.39308178],\n",
              "       [0.37801823],\n",
              "       [0.36545205],\n",
              "       [0.3644867 ],\n",
              "       [0.3762574 ],\n",
              "       [0.38575113],\n",
              "       [0.39134207],\n",
              "       [0.39863023],\n",
              "       [0.40021232],\n",
              "       [0.3948783 ],\n",
              "       [0.39286336],\n",
              "       [0.3945808 ],\n",
              "       [0.39487883],\n",
              "       [0.38450885],\n",
              "       [0.3712238 ],\n",
              "       [0.3538791 ],\n",
              "       [0.3387385 ],\n",
              "       [0.33145547],\n",
              "       [0.32987523],\n",
              "       [0.33197972],\n",
              "       [0.33649668],\n",
              "       [0.33135402],\n",
              "       [0.32847777],\n",
              "       [0.3262451 ],\n",
              "       [0.33345905],\n",
              "       [0.34487063],\n",
              "       [0.3501998 ],\n",
              "       [0.35192403],\n",
              "       [0.35216755],\n",
              "       [0.3451434 ],\n",
              "       [0.32970518],\n",
              "       [0.3188056 ],\n",
              "       [0.30843562],\n",
              "       [0.30070496],\n",
              "       [0.29978505],\n",
              "       [0.30284256],\n",
              "       [0.3055655 ],\n",
              "       [0.30452102],\n",
              "       [0.30955175],\n",
              "       [0.31526196],\n",
              "       [0.31864762],\n",
              "       [0.31773782],\n",
              "       [0.31595284],\n",
              "       [0.31551543],\n",
              "       [0.31516606],\n",
              "       [0.31935248],\n",
              "       [0.32817304],\n",
              "       [0.34365407],\n",
              "       [0.35587007],\n",
              "       [0.35017577],\n",
              "       [0.33395252],\n",
              "       [0.3196441 ],\n",
              "       [0.31490803],\n",
              "       [0.3207059 ],\n",
              "       [0.33061886],\n",
              "       [0.3380893 ],\n",
              "       [0.34196126],\n",
              "       [0.3287664 ],\n",
              "       [0.30965683],\n",
              "       [0.29392827],\n",
              "       [0.28008133],\n",
              "       [0.26355273],\n",
              "       [0.24827762],\n",
              "       [0.2358459 ],\n",
              "       [0.22735837],\n",
              "       [0.22618735],\n",
              "       [0.23722397],\n",
              "       [0.25111276],\n",
              "       [0.26544967],\n",
              "       [0.28228784],\n",
              "       [0.29846278],\n",
              "       [0.30980337],\n",
              "       [0.31800836],\n",
              "       [0.32951647],\n",
              "       [0.33721548],\n",
              "       [0.3488292 ],\n",
              "       [0.35947087],\n",
              "       [0.3599402 ],\n",
              "       [0.35035747],\n",
              "       [0.34069926],\n",
              "       [0.33870625],\n",
              "       [0.3199577 ],\n",
              "       [0.30616534],\n",
              "       [0.2974572 ],\n",
              "       [0.29178163],\n",
              "       [0.27671093],\n",
              "       [0.25424588],\n",
              "       [0.24103197],\n",
              "       [0.23379265],\n",
              "       [0.23220108],\n",
              "       [0.2388402 ],\n",
              "       [0.24649346],\n",
              "       [0.25146717],\n",
              "       [0.26093253],\n",
              "       [0.2861215 ],\n",
              "       [0.30001286],\n",
              "       [0.30468446],\n",
              "       [0.30646834],\n",
              "       [0.30566844],\n",
              "       [0.30397308],\n",
              "       [0.3011085 ],\n",
              "       [0.305356  ],\n",
              "       [0.32500285],\n",
              "       [0.37050825],\n",
              "       [0.3917904 ],\n",
              "       [0.42556557],\n",
              "       [0.40152857],\n",
              "       [0.37156546],\n",
              "       [0.34887898],\n",
              "       [0.3306663 ],\n",
              "       [0.31707326],\n",
              "       [0.30031806],\n",
              "       [0.29478443],\n",
              "       [0.29767692],\n",
              "       [0.3111586 ],\n",
              "       [0.33347565]], dtype=float32)"
            ]
          },
          "metadata": {
            "tags": []
          },
          "execution_count": 62
        }
      ]
    },
    {
      "cell_type": "code",
      "metadata": {
        "id": "R2T_Wak8u45F",
        "outputId": "987b8c37-ac68-4821-d56e-948f71ba6133",
        "colab": {
          "base_uri": "https://localhost:8080/",
          "height": 1000
        }
      },
      "source": [
        "y_test"
      ],
      "execution_count": 63,
      "outputs": [
        {
          "output_type": "execute_result",
          "data": {
            "text/plain": [
              "array([0.33044451, 0.31127212, 0.23896173, 0.24551974, 0.43985445,\n",
              "       0.45580246, 0.46419698, 0.46642972, 0.51564466, 0.28703031,\n",
              "       0.22830964, 0.26837033, 0.28336124, 0.33667138, 0.34401698,\n",
              "       0.30636952, 0.19293782, 0.19123353, 0.35238985, 0.35599836,\n",
              "       0.35911953, 0.34211574, 0.31491894, 0.20447702, 0.10138428,\n",
              "       0.27982254, 0.32105625, 0.42678287, 0.37942788, 0.35506239,\n",
              "       0.24903416, 0.16211872, 0.34726034, 0.36155525, 0.384088  ,\n",
              "       0.3134313 , 0.12974903, 0.12601343, 0.11594553, 0.18081205,\n",
              "       0.34780843, 0.3361539 , 0.15534626, 0.2641061 , 0.24201004,\n",
              "       0.19048885, 0.39633608, 0.30335421, 0.28798228, 0.33238507,\n",
              "       0.30796737, 0.22102227, 0.23479976, 0.43485568, 0.37260006,\n",
              "       0.4022348 , 0.44043858, 0.46248529, 0.33522915, 0.30217617,\n",
              "       0.41174268, 0.45239526, 0.4912908 , 0.50471209, 0.4992796 ,\n",
              "       0.33288906, 0.22625738, 0.40141833, 0.43761562, 0.44058482,\n",
              "       0.40600888, 0.40370167, 0.23693871, 0.25129996, 0.53859984,\n",
              "       0.58120533, 0.61106   , 0.64155678, 0.5820345 , 0.39267829,\n",
              "       0.3937037 , 0.60075409, 0.60924181, 0.62947666, 0.59519237,\n",
              "       0.55977091, 0.38364051, 0.30518976, 0.27492274, 0.44947892,\n",
              "       0.51352188, 0.51838391, 0.51382552, 0.42963327, 0.37848254,\n",
              "       0.53554043, 0.63040034, 0.71172328, 0.75793394, 0.70894537,\n",
              "       0.56962586, 0.57793166, 0.73701764, 0.72449325, 0.64745681,\n",
              "       0.54807909, 0.45885477, 0.39176099, 0.37060102, 0.51256849,\n",
              "       0.6058722 , 0.62330587, 0.59770965, 0.5689696 , 0.35282052,\n",
              "       0.35054105, 0.50373089, 0.581257  , 0.5011707 , 0.57323241,\n",
              "       0.51658141, 0.46371977, 0.46116555, 0.5566177 , 0.5709681 ,\n",
              "       0.59958429, 0.58501778, 0.56094536, 0.31258214, 0.31263279,\n",
              "       0.45971156, 0.5240334 , 0.60486737, 0.57095449, 0.61334686,\n",
              "       0.43990583, 0.39759634, 0.5741114 , 0.64156764, 0.65848622,\n",
              "       0.59411385, 0.60309346, 0.4157414 , 0.42071172, 0.48397915,\n",
              "       0.56116648, 0.61122575, 0.57171941, 0.68568506, 0.51861559,\n",
              "       0.42880368, 0.61561737, 0.67278728, 0.59172771, 0.513426  ,\n",
              "       0.53325214, 0.36236342, 0.30694339, 0.54859925, 0.55303001,\n",
              "       0.42544755, 0.50839351, 0.49724053, 0.26502357, 0.34469884,\n",
              "       0.56813512, 0.54737772, 0.62728246, 0.5863806 , 0.55819144,\n",
              "       0.26875333, 0.22949275, 0.43678759, 0.40306266, 0.44818883,\n",
              "       0.41919574, 0.44305617, 0.35925592, 0.38072215, 0.54121105,\n",
              "       0.55573244, 0.42965952, 0.40129483, 0.4206974 , 0.21964769,\n",
              "       0.23931423, 0.40892205, 0.46580962, 0.41314005, 0.27455914,\n",
              "       0.26405544, 0.19396043, 0.20634908, 0.43876257, 0.4855934 ,\n",
              "       0.46787989, 0.38455393, 0.24998243, 0.28243201, 0.23519814,\n",
              "       0.43766395, 0.35317988, 0.3062805 , 0.28900166, 0.38684968,\n",
              "       0.19440983, 0.09447405, 0.33653672, 0.38675678, 0.44960899,\n",
              "       0.46059056, 0.35985633, 0.19044034, 0.11515836, 0.30066353,\n",
              "       0.32168966, 0.38710218, 0.37703446, 0.29550085, 0.2021244 ,\n",
              "       0.20990503, 0.35092518, 0.3462292 , 0.34829447, 0.36214928,\n",
              "       0.28682888, 0.1384707 , 0.21164774, 0.32864088, 0.3197241 ,\n",
              "       0.38521687, 0.43744981, 0.51434383, 0.24716389, 0.14048418,\n",
              "       0.26474153, 0.13988734, 0.2301539 , 0.35844984, 0.34439431,\n",
              "       0.2843709 , 0.19636728, 0.2585257 , 0.22922407, 0.32791182,\n",
              "       0.2951601 , 0.30859469, 0.14978132, 0.13899821, 0.28703747,\n",
              "       0.32147188, 0.41338372, 0.55151988, 0.28585747, 0.14500384,\n",
              "       0.13942493, 0.34373226, 0.26891001, 0.27831968, 0.32984899,\n",
              "       0.35447934, 0.16545474, 0.15434633, 0.30447353, 0.28639058,\n",
              "       0.26618383, 0.27204281, 0.23788184, 0.1234113 , 0.14896146,\n",
              "       0.51093341, 0.29181513, 0.28598885, 0.28048399, 0.26224477,\n",
              "       0.19265835, 0.16263721, 0.34970794, 0.4642539 , 0.73861775,\n",
              "       0.47680204, 0.78112957, 0.18541781, 0.06027699, 0.19956511,\n",
              "       0.2037525 , 0.15773623, 0.13157623, 0.26445782, 0.33922614,\n",
              "       0.39616902, 0.66008878, 0.12310211])"
            ]
          },
          "metadata": {
            "tags": []
          },
          "execution_count": 63
        }
      ]
    },
    {
      "cell_type": "code",
      "metadata": {
        "id": "5seUrgRNu7T9",
        "outputId": "8d9bc641-0131-42c5-8641-e880e809bd38",
        "colab": {
          "base_uri": "https://localhost:8080/",
          "height": 1000
        }
      },
      "source": [
        "x_test[:,1:][win_length:]"
      ],
      "execution_count": 64,
      "outputs": [
        {
          "output_type": "execute_result",
          "data": {
            "text/plain": [
              "array([[0.63894879, 0.40287632, 0.125     ],\n",
              "       [0.62762803, 0.44678811, 0.13325826],\n",
              "       [0.48625337, 0.53269415, 0.23198198],\n",
              "       [0.25781671, 0.67094919, 0.50750751],\n",
              "       [0.26549865, 0.68187919, 0.62612613],\n",
              "       [0.43477089, 0.37162033, 0.41478979],\n",
              "       [0.49487871, 0.41821668, 0.16403904],\n",
              "       [0.22115903, 0.58696069, 0.27927928],\n",
              "       [0.43504043, 0.57392138, 0.40728228],\n",
              "       [0.68113208, 0.37737296, 0.26914414],\n",
              "       [0.70660377, 0.38542665, 0.21396396],\n",
              "       [0.6777628 , 0.46423778, 0.11373874],\n",
              "       [0.56145553, 0.39175455, 0.37312312],\n",
              "       [0.5115903 , 0.23221477, 0.59084084],\n",
              "       [0.59272237, 0.23835091, 0.42192192],\n",
              "       [0.65404313, 0.32157239, 0.40653153],\n",
              "       [0.62857143, 0.31639501, 0.14151652],\n",
              "       [0.36859838, 0.32502397, 0.52927928],\n",
              "       [0.55444744, 0.50182167, 0.68318318],\n",
              "       [0.64231806, 0.47344199, 0.57507508],\n",
              "       [0.54851752, 0.35647172, 0.32394895],\n",
              "       [0.75458221, 0.30412272, 0.49211712],\n",
              "       [0.76603774, 0.31466922, 0.32807808],\n",
              "       [0.69865229, 0.29300096, 0.1509009 ],\n",
              "       [0.59056604, 0.28820709, 0.30518018],\n",
              "       [0.74245283, 0.24237776, 0.49174174],\n",
              "       [0.57884097, 0.26040268, 0.56231231],\n",
              "       [0.85350404, 0.18255034, 0.40578078],\n",
              "       [0.81940701, 0.24947267, 0.4512012 ],\n",
              "       [0.75849057, 0.29127517, 0.25563063],\n",
              "       [0.71145553, 0.2759348 , 0.45232733],\n",
              "       [0.69474394, 0.31102589, 0.31118619],\n",
              "       [0.83126685, 0.2864813 , 0.12537538],\n",
              "       [0.71927224, 0.27325024, 0.02852853],\n",
              "       [0.6648248 , 0.26251198, 0.13063063],\n",
              "       [0.55013477, 0.33902205, 0.05855856],\n",
              "       [0.56657682, 0.38408437, 0.36186186],\n",
              "       [0.75552561, 0.36356663, 0.58821321],\n",
              "       [0.77291105, 0.30527325, 0.33708709],\n",
              "       [0.6351752 , 0.34765101, 0.20382883],\n",
              "       [0.51037736, 0.36145733, 0.54692192],\n",
              "       [0.66873315, 0.37411314, 0.65840841],\n",
              "       [0.7245283 , 0.34918504, 0.52402402],\n",
              "       [0.72735849, 0.19884947, 0.69594595],\n",
              "       [0.78989218, 0.12981783, 0.72447447],\n",
              "       [0.8787062 , 0.16548418, 0.6768018 ],\n",
              "       [0.83760108, 0.08456376, 0.67567568],\n",
              "       [0.82102426, 0.13326942, 0.49962462],\n",
              "       [0.9083558 , 0.22550336, 0.46133634],\n",
              "       [0.85080863, 0.25139022, 0.31193694],\n",
              "       [0.86105121, 0.21188878, 0.23611111],\n",
              "       [0.87735849, 0.13000959, 0.56981982],\n",
              "       [0.7574124 , 0.15915628, 0.48686186],\n",
              "       [0.75040431, 0.18446788, 0.38663664],\n",
              "       [0.90822102, 0.21879195, 0.30292793],\n",
              "       [0.79541779, 0.22358581, 0.16929429],\n",
              "       [0.68584906, 0.2126558 , 0.42792793],\n",
              "       [0.75067385, 0.2253116 , 0.50863363],\n",
              "       [0.78207547, 0.27938639, 0.63250751],\n",
              "       [0.7458221 , 0.24621285, 0.43768769],\n",
              "       [0.83773585, 0.27497603, 0.58070571],\n",
              "       [0.84380054, 0.21514861, 0.45683183],\n",
              "       [0.86603774, 0.23240652, 0.378003  ],\n",
              "       [0.82668464, 0.18082454, 0.10735736],\n",
              "       [0.85592992, 0.21534036, 0.16779279],\n",
              "       [0.73153639, 0.21975072, 0.33145646],\n",
              "       [0.81239892, 0.11332694, 0.48498498],\n",
              "       [0.84380054, 0.10047939, 0.26051051],\n",
              "       [0.90309973, 0.06903164, 0.2240991 ],\n",
              "       [0.89380054, 0.10814957, 0.32732733],\n",
              "       [0.8796496 , 0.10699904, 0.2240991 ],\n",
              "       [0.85619946, 0.1029722 , 0.07582583],\n",
              "       [0.69245283, 0.10182167, 0.0960961 ],\n",
              "       [0.74380054, 0.13959732, 0.26013514],\n",
              "       [0.76347709, 0.18005753, 0.26614114],\n",
              "       [0.84070081, 0.19117929, 0.51163664],\n",
              "       [0.76442049, 0.23739214, 0.63963964],\n",
              "       [0.83018868, 0.23892617, 0.89189189],\n",
              "       [0.75283019, 0.15858102, 0.62124625],\n",
              "       [0.65107817, 0.13192713, 0.70195195],\n",
              "       [0.78409704, 0.16989453, 0.47897898],\n",
              "       [0.90067385, 0.16663471, 0.2225976 ],\n",
              "       [0.89851752, 0.15378715, 0.1493994 ],\n",
              "       [0.80822102, 0.20057526, 0.16554054],\n",
              "       [0.81091644, 0.22780441, 0.37612613],\n",
              "       [0.82331536, 0.2590604 , 0.45683183],\n",
              "       [0.88989218, 0.18120805, 0.34459459],\n",
              "       [0.8851752 , 0.14458293, 0.39264264],\n",
              "       [0.68719677, 0.18542665, 0.88813814],\n",
              "       [0.78059299, 0.16682646, 0.75412913],\n",
              "       [0.82398922, 0.14650048, 0.76013514],\n",
              "       [0.83032345, 0.05675935, 0.60923423],\n",
              "       [0.87668464, 0.09185043, 0.69369369],\n",
              "       [0.88301887, 0.18197507, 0.64076577],\n",
              "       [0.85      , 0.19232982, 0.4786036 ],\n",
              "       [0.87210243, 0.15704698, 0.51876877],\n",
              "       [0.75215633, 0.157814  , 0.43280781],\n",
              "       [0.81725067, 0.18082454, 0.41291291],\n",
              "       [0.72587601, 0.18657718, 0.69481982],\n",
              "       [0.60444744, 0.17583893, 0.64226727],\n",
              "       [0.60525606, 0.16797699, 0.73160661],\n",
              "       [0.74528302, 0.17142857, 0.75525526],\n",
              "       [0.83665768, 0.13077661, 0.40127628],\n",
              "       [0.77439353, 0.2021093 , 0.43618619],\n",
              "       [0.85229111, 0.19674017, 0.27927928],\n",
              "       [0.87668464, 0.18120805, 0.19557057],\n",
              "       [0.7597035 , 0.17315436, 0.09534535],\n",
              "       [0.82358491, 0.18561841, 0.24024024],\n",
              "       [0.76320755, 0.08628955, 0.3201952 ],\n",
              "       [0.80539084, 0.10853308, 0.14114114],\n",
              "       [0.81873315, 0.14822627, 0.20082583],\n",
              "       [0.81725067, 0.15321189, 0.27402402],\n",
              "       [0.88086253, 0.16049856, 0.36223724],\n",
              "       [0.81698113, 0.17181208, 0.11486486],\n",
              "       [0.71657682, 0.17583893, 0.41178679],\n",
              "       [0.65592992, 0.14765101, 0.61411411],\n",
              "       [0.75929919, 0.14074784, 0.26126126],\n",
              "       [0.79407008, 0.10623202, 0.62912913],\n",
              "       [0.81469003, 0.03221477, 0.82507508],\n",
              "       [0.87560647, 0.0674976 , 0.5731982 ],\n",
              "       [0.8828841 , 0.09568552, 0.62387387],\n",
              "       [0.81078167, 0.12598274, 0.39602102],\n",
              "       [0.90754717, 0.14458293, 0.18918919],\n",
              "       [0.80296496, 0.14650048, 0.30780781],\n",
              "       [0.57641509, 0.16797699, 0.66966967],\n",
              "       [0.67318059, 0.18005753, 0.62012012],\n",
              "       [0.7703504 , 0.17449664, 0.28641141],\n",
              "       [0.69595687, 0.18868648, 0.7256006 ],\n",
              "       [0.78544474, 0.09319271, 0.60998498],\n",
              "       [0.80822102, 0.17238734, 0.67304805],\n",
              "       [0.76334232, 0.24276127, 0.80292793],\n",
              "       [0.69339623, 0.13116012, 0.53490991],\n",
              "       [0.67412399, 0.13729626, 0.34046547],\n",
              "       [0.62654987, 0.19961649, 0.68430931],\n",
              "       [0.75283019, 0.11447747, 0.31193694],\n",
              "       [0.7648248 , 0.14017258, 0.18130631],\n",
              "       [0.78477089, 0.157814  , 0.25938438],\n",
              "       [0.88072776, 0.10680729, 0.48911411],\n",
              "       [0.73962264, 0.09395973, 0.33971471],\n",
              "       [0.65687332, 0.13441994, 0.0792042 ],\n",
              "       [0.58584906, 0.17008629, 0.45082583],\n",
              "       [0.72695418, 0.25119847, 0.52552553],\n",
              "       [0.74703504, 0.24180249, 0.18956456],\n",
              "       [0.59231806, 0.30239693, 0.25187688],\n",
              "       [0.71738544, 0.24717162, 0.2012012 ],\n",
              "       [0.77857143, 0.31275168, 0.21621622],\n",
              "       [0.82371968, 0.19769895, 0.47072072],\n",
              "       [0.75161725, 0.14899329, 0.71884384],\n",
              "       [0.81307278, 0.18120805, 0.53753754],\n",
              "       [0.6893531 , 0.13595398, 0.57995495],\n",
              "       [0.743531  , 0.18485139, 0.16516517],\n",
              "       [0.62183288, 0.24582934, 0.38175676],\n",
              "       [0.59932615, 0.28418025, 0.54016517],\n",
              "       [0.68638814, 0.22473634, 0.28641141],\n",
              "       [0.60431267, 0.28820709, 0.26801802],\n",
              "       [0.68881402, 0.35704698, 0.43168168],\n",
              "       [0.68921833, 0.1303931 , 0.38063063],\n",
              "       [0.59326146, 0.12924257, 0.30555556],\n",
              "       [0.5884097 , 0.22377756, 0.18055556],\n",
              "       [0.58679245, 0.3240652 , 0.6234985 ],\n",
              "       [0.51752022, 0.50949185, 0.74099099],\n",
              "       [0.63638814, 0.28187919, 0.60998498],\n",
              "       [0.63274933, 0.16567593, 0.3262012 ],\n",
              "       [0.7361186 , 0.18293384, 0.3506006 ],\n",
              "       [0.72991914, 0.18350911, 0.30405405],\n",
              "       [0.72425876, 0.23183126, 0.16103604],\n",
              "       [0.6296496 , 0.30182167, 0.1768018 ],\n",
              "       [0.57520216, 0.27670182, 0.60022523],\n",
              "       [0.61603774, 0.20076702, 0.26388889],\n",
              "       [0.68450135, 0.2042186 , 0.23123123],\n",
              "       [0.63382749, 0.17526366, 0.32807808],\n",
              "       [0.48490566, 0.29721956, 0.16854354],\n",
              "       [0.40592992, 0.38868648, 0.42417417],\n",
              "       [0.45067385, 0.51409396, 0.44106607],\n",
              "       [0.6861186 , 0.29127517, 0.25337838],\n",
              "       [0.64312668, 0.36663471, 0.36524024],\n",
              "       [0.57587601, 0.45963567, 0.56381381],\n",
              "       [0.62264151, 0.28360499, 0.21921922],\n",
              "       [0.77048518, 0.16701822, 0.47484985],\n",
              "       [0.73113208, 0.21208054, 0.3521021 ],\n",
              "       [0.72641509, 0.24180249, 0.29241742],\n",
              "       [0.67708895, 0.2801534 , 0.3262012 ],\n",
              "       [0.60795148, 0.29185043, 0.18881381],\n",
              "       [0.4703504 , 0.36107383, 0.38926426],\n",
              "       [0.53126685, 0.46653883, 0.30105105],\n",
              "       [0.63369272, 0.35033557, 0.21996997],\n",
              "       [0.79555256, 0.3177373 , 0.13363363],\n",
              "       [0.75134771, 0.18638543, 0.43018018],\n",
              "       [0.58018868, 0.27037392, 0.59534535],\n",
              "       [0.63032345, 0.1873442 , 0.47484985],\n",
              "       [0.67358491, 0.24161074, 0.39039039],\n",
              "       [0.67574124, 0.33978907, 0.21321321],\n",
              "       [0.49191375, 0.4232023 , 0.12912913],\n",
              "       [0.24797844, 0.54458293, 0.13325826],\n",
              "       [0.13638814, 0.6506232 , 0.53303303],\n",
              "       [0.30795148, 0.44697987, 0.72785285],\n",
              "       [0.58598383, 0.22032598, 0.70683183],\n",
              "       [0.65188679, 0.26481304, 0.3734985 ],\n",
              "       [0.41522911, 0.38082454, 0.09421922],\n",
              "       [0.16913747, 0.52885906, 0.27252252],\n",
              "       [0.24892183, 0.60479386, 0.25075075],\n",
              "       [0.17196765, 0.7033557 , 0.61786787],\n",
              "       [0.24326146, 0.72157239, 0.71734234],\n",
              "       [0.71091644, 0.51294343, 0.3765015 ],\n",
              "       [0.60849057, 0.45254075, 0.31043544],\n",
              "       [0.71752022, 0.24065197, 0.27552553],\n",
              "       [0.45390836, 0.30642378, 0.31493994],\n",
              "       [0.4171159 , 0.39923298, 0.71734234],\n",
              "       [0.61037736, 0.32061361, 0.77402402],\n",
              "       [0.72318059, 0.1557047 , 0.55142643],\n",
              "       [0.67156334, 0.20249281, 0.6524024 ],\n",
              "       [0.67978437, 0.34209012, 0.30555556],\n",
              "       [0.25660377, 0.46366251, 0.58821321],\n",
              "       [0.42277628, 0.31888782, 0.73460961],\n",
              "       [0.61644205, 0.25944391, 0.53190691],\n",
              "       [0.58274933, 0.41764142, 0.39902402],\n",
              "       [0.57331536, 0.32694151, 0.48385886],\n",
              "       [0.49245283, 0.28418025, 0.34797297],\n",
              "       [0.53962264, 0.30642378, 0.18656156],\n",
              "       [0.34501348, 0.46903164, 0.16704204],\n",
              "       [0.61361186, 0.40460211, 0.21584084],\n",
              "       [0.22560647, 0.60019175, 0.39602102],\n",
              "       [0.17978437, 0.76778523, 0.85998498],\n",
              "       [0.44299191, 0.4168744 , 0.26951952],\n",
              "       [0.46698113, 0.42914669, 0.21133634],\n",
              "       [0.34487871, 0.44544583, 0.10848348],\n",
              "       [0.26765499, 0.53096836, 0.31006006],\n",
              "       [0.59838275, 0.27938639, 0.5548048 ],\n",
              "       [0.29851752, 0.40249281, 0.2515015 ],\n",
              "       [0.44986523, 0.45215724, 0.18843844],\n",
              "       [0.5083558 , 0.48590604, 0.20457958],\n",
              "       [0.5222372 , 0.31792905, 0.24324324],\n",
              "       [0.71859838, 0.25445829, 0.46621622],\n",
              "       [0.58126685, 0.2295302 , 0.65990991],\n",
              "       [0.55552561, 0.33767977, 0.76989489],\n",
              "       [0.49339623, 0.40920422, 0.39864865],\n",
              "       [0.51994609, 0.42818792, 0.46171171],\n",
              "       [0.47681941, 0.38619367, 0.50037538],\n",
              "       [0.49083558, 0.39098754, 0.33295796],\n",
              "       [0.37533693, 0.53077661, 0.11261261],\n",
              "       [0.23247978, 0.7725791 , 0.47447447],\n",
              "       [0.55727763, 0.38082454, 0.41816817],\n",
              "       [0.55377358, 0.40268456, 0.39602102],\n",
              "       [0.53396226, 0.40153404, 0.40878378],\n",
              "       [0.55256065, 0.3873442 , 0.34534535],\n",
              "       [0.59716981, 0.45771812, 0.22747748],\n",
              "       [0.49460916, 0.47727709, 0.19106607],\n",
              "       [0.5171159 , 0.4970278 , 0.20007508],\n",
              "       [0.30539084, 0.59980825, 0.12837838],\n",
              "       [0.09150943, 0.84046021, 0.25675676],\n",
              "       [0.32574124, 0.60115053, 0.20345345],\n",
              "       [0.        , 0.88686481, 0.39864865],\n",
              "       [0.44838275, 0.4801534 , 0.40653153],\n",
              "       [0.4148248 , 0.4105465 , 0.37012012],\n",
              "       [0.48140162, 0.45675935, 0.253003  ],\n",
              "       [0.43153639, 0.51236817, 0.33108108],\n",
              "       [0.38638814, 0.63681687, 0.20045045],\n",
              "       [0.51671159, 0.50872483, 0.29204204],\n",
              "       [0.29622642, 0.63528284, 0.14564565],\n",
              "       [0.17156334, 0.79904123, 0.36036036],\n",
              "       [0.25862534, 0.87574305, 0.16291291],\n",
              "       [0.1361186 , 0.96893576, 0.63438438],\n",
              "       [0.38045822, 0.48878236, 0.3536036 ]])"
            ]
          },
          "metadata": {
            "tags": []
          },
          "execution_count": 64
        }
      ]
    },
    {
      "cell_type": "code",
      "metadata": {
        "id": "xtO6SNDDu7XD"
      },
      "source": [
        "df_pred = pd.concat([pd.DataFrame(predictions), pd.DataFrame(x_test[:,1:][win_length:])],axis=1)"
      ],
      "execution_count": 65,
      "outputs": []
    },
    {
      "cell_type": "code",
      "metadata": {
        "id": "7FNPk315vvp1",
        "outputId": "f5d40fa7-bee6-47fe-a4b4-026434ed2907",
        "colab": {
          "base_uri": "https://localhost:8080/",
          "height": 419
        }
      },
      "source": [
        "df_pred"
      ],
      "execution_count": 66,
      "outputs": [
        {
          "output_type": "execute_result",
          "data": {
            "text/html": [
              "<div>\n",
              "<style scoped>\n",
              "    .dataframe tbody tr th:only-of-type {\n",
              "        vertical-align: middle;\n",
              "    }\n",
              "\n",
              "    .dataframe tbody tr th {\n",
              "        vertical-align: top;\n",
              "    }\n",
              "\n",
              "    .dataframe thead th {\n",
              "        text-align: right;\n",
              "    }\n",
              "</style>\n",
              "<table border=\"1\" class=\"dataframe\">\n",
              "  <thead>\n",
              "    <tr style=\"text-align: right;\">\n",
              "      <th></th>\n",
              "      <th>0</th>\n",
              "      <th>0</th>\n",
              "      <th>1</th>\n",
              "      <th>2</th>\n",
              "    </tr>\n",
              "  </thead>\n",
              "  <tbody>\n",
              "    <tr>\n",
              "      <th>0</th>\n",
              "      <td>0.298023</td>\n",
              "      <td>0.638949</td>\n",
              "      <td>0.402876</td>\n",
              "      <td>0.125000</td>\n",
              "    </tr>\n",
              "    <tr>\n",
              "      <th>1</th>\n",
              "      <td>0.306892</td>\n",
              "      <td>0.627628</td>\n",
              "      <td>0.446788</td>\n",
              "      <td>0.133258</td>\n",
              "    </tr>\n",
              "    <tr>\n",
              "      <th>2</th>\n",
              "      <td>0.310566</td>\n",
              "      <td>0.486253</td>\n",
              "      <td>0.532694</td>\n",
              "      <td>0.231982</td>\n",
              "    </tr>\n",
              "    <tr>\n",
              "      <th>3</th>\n",
              "      <td>0.318811</td>\n",
              "      <td>0.257817</td>\n",
              "      <td>0.670949</td>\n",
              "      <td>0.507508</td>\n",
              "    </tr>\n",
              "    <tr>\n",
              "      <th>4</th>\n",
              "      <td>0.329949</td>\n",
              "      <td>0.265499</td>\n",
              "      <td>0.681879</td>\n",
              "      <td>0.626126</td>\n",
              "    </tr>\n",
              "    <tr>\n",
              "      <th>...</th>\n",
              "      <td>...</td>\n",
              "      <td>...</td>\n",
              "      <td>...</td>\n",
              "      <td>...</td>\n",
              "    </tr>\n",
              "    <tr>\n",
              "      <th>258</th>\n",
              "      <td>0.300318</td>\n",
              "      <td>0.296226</td>\n",
              "      <td>0.635283</td>\n",
              "      <td>0.145646</td>\n",
              "    </tr>\n",
              "    <tr>\n",
              "      <th>259</th>\n",
              "      <td>0.294784</td>\n",
              "      <td>0.171563</td>\n",
              "      <td>0.799041</td>\n",
              "      <td>0.360360</td>\n",
              "    </tr>\n",
              "    <tr>\n",
              "      <th>260</th>\n",
              "      <td>0.297677</td>\n",
              "      <td>0.258625</td>\n",
              "      <td>0.875743</td>\n",
              "      <td>0.162913</td>\n",
              "    </tr>\n",
              "    <tr>\n",
              "      <th>261</th>\n",
              "      <td>0.311159</td>\n",
              "      <td>0.136119</td>\n",
              "      <td>0.968936</td>\n",
              "      <td>0.634384</td>\n",
              "    </tr>\n",
              "    <tr>\n",
              "      <th>262</th>\n",
              "      <td>0.333476</td>\n",
              "      <td>0.380458</td>\n",
              "      <td>0.488782</td>\n",
              "      <td>0.353604</td>\n",
              "    </tr>\n",
              "  </tbody>\n",
              "</table>\n",
              "<p>263 rows × 4 columns</p>\n",
              "</div>"
            ],
            "text/plain": [
              "            0         0         1         2\n",
              "0    0.298023  0.638949  0.402876  0.125000\n",
              "1    0.306892  0.627628  0.446788  0.133258\n",
              "2    0.310566  0.486253  0.532694  0.231982\n",
              "3    0.318811  0.257817  0.670949  0.507508\n",
              "4    0.329949  0.265499  0.681879  0.626126\n",
              "..        ...       ...       ...       ...\n",
              "258  0.300318  0.296226  0.635283  0.145646\n",
              "259  0.294784  0.171563  0.799041  0.360360\n",
              "260  0.297677  0.258625  0.875743  0.162913\n",
              "261  0.311159  0.136119  0.968936  0.634384\n",
              "262  0.333476  0.380458  0.488782  0.353604\n",
              "\n",
              "[263 rows x 4 columns]"
            ]
          },
          "metadata": {
            "tags": []
          },
          "execution_count": 66
        }
      ]
    },
    {
      "cell_type": "code",
      "metadata": {
        "id": "JXFFpUE0u7Zv"
      },
      "source": [
        "rev_trans = scaler.inverse_transform(df_pred)"
      ],
      "execution_count": 67,
      "outputs": []
    },
    {
      "cell_type": "code",
      "metadata": {
        "id": "b_5b8gmhu7cr",
        "outputId": "6b021d50-e47f-4f50-d674-b3b9a6345300",
        "colab": {
          "base_uri": "https://localhost:8080/",
          "height": 136
        }
      },
      "source": [
        "rev_trans"
      ],
      "execution_count": 68,
      "outputs": [
        {
          "output_type": "execute_result",
          "data": {
            "text/plain": [
              "array([[2.20137643e+05, 7.14500000e+01, 1.55150000e+01, 2.88500000e+00],\n",
              "       [2.21624194e+05, 7.06100000e+01, 1.66600000e+01, 2.99500000e+00],\n",
              "       [2.22239910e+05, 6.01200000e+01, 1.89000000e+01, 4.31000000e+00],\n",
              "       ...,\n",
              "       [2.20079682e+05, 4.32300000e+01, 2.78450000e+01, 3.39000000e+00],\n",
              "       [2.22339223e+05, 3.41400000e+01, 3.02750000e+01, 9.67000000e+00],\n",
              "       [2.26079582e+05, 5.22700000e+01, 1.77550000e+01, 5.93000000e+00]])"
            ]
          },
          "metadata": {
            "tags": []
          },
          "execution_count": 68
        }
      ]
    },
    {
      "cell_type": "code",
      "metadata": {
        "id": "zc5-Wphru7f0"
      },
      "source": [
        "df_final=ts19[predictions.shape[0]*-1:]"
      ],
      "execution_count": 70,
      "outputs": []
    },
    {
      "cell_type": "code",
      "metadata": {
        "id": "scbDDOGtv0_c",
        "outputId": "a70bdbc6-2b98-41ec-9d2c-2752e2cb9433",
        "colab": {
          "base_uri": "https://localhost:8080/",
          "height": 102
        }
      },
      "source": [
        "df_final.count()"
      ],
      "execution_count": 71,
      "outputs": [
        {
          "output_type": "execute_result",
          "data": {
            "text/plain": [
              "TOTALDEMAND          263\n",
              "relative_humidity    263\n",
              "avg_temp             263\n",
              "ws_avg_50            263\n",
              "dtype: int64"
            ]
          },
          "metadata": {
            "tags": []
          },
          "execution_count": 71
        }
      ]
    },
    {
      "cell_type": "code",
      "metadata": {
        "id": "SfZWeI2-v1CQ",
        "outputId": "cb694553-98b8-4442-f1f2-a432ff4bdd64",
        "colab": {
          "base_uri": "https://localhost:8080/",
          "height": 139
        }
      },
      "source": [
        "df_final['Energy_pred'] = rev_trans[:,0]"
      ],
      "execution_count": 73,
      "outputs": [
        {
          "output_type": "stream",
          "text": [
            "/usr/local/lib/python3.6/dist-packages/ipykernel_launcher.py:1: SettingWithCopyWarning: \n",
            "A value is trying to be set on a copy of a slice from a DataFrame.\n",
            "Try using .loc[row_indexer,col_indexer] = value instead\n",
            "\n",
            "See the caveats in the documentation: https://pandas.pydata.org/pandas-docs/stable/user_guide/indexing.html#returning-a-view-versus-a-copy\n",
            "  \"\"\"Entry point for launching an IPython kernel.\n"
          ],
          "name": "stderr"
        }
      ]
    },
    {
      "cell_type": "code",
      "metadata": {
        "id": "a2Rwa2z4v1FK",
        "outputId": "1ffc71d9-c3c1-4f0f-f3cd-164451172f3a",
        "colab": {
          "base_uri": "https://localhost:8080/",
          "height": 68
        }
      },
      "source": [
        "df_final.columns"
      ],
      "execution_count": 74,
      "outputs": [
        {
          "output_type": "execute_result",
          "data": {
            "text/plain": [
              "Index(['TOTALDEMAND', 'relative_humidity', 'avg_temp', 'ws_avg_50',\n",
              "       'Energy_pred'],\n",
              "      dtype='object')"
            ]
          },
          "metadata": {
            "tags": []
          },
          "execution_count": 74
        }
      ]
    },
    {
      "cell_type": "code",
      "metadata": {
        "id": "u76FX3CDv1KN",
        "outputId": "cae6727b-612e-4470-b4bd-04f893a510ea",
        "colab": {
          "base_uri": "https://localhost:8080/",
          "height": 450
        }
      },
      "source": [
        "df_final"
      ],
      "execution_count": 75,
      "outputs": [
        {
          "output_type": "execute_result",
          "data": {
            "text/html": [
              "<div>\n",
              "<style scoped>\n",
              "    .dataframe tbody tr th:only-of-type {\n",
              "        vertical-align: middle;\n",
              "    }\n",
              "\n",
              "    .dataframe tbody tr th {\n",
              "        vertical-align: top;\n",
              "    }\n",
              "\n",
              "    .dataframe thead th {\n",
              "        text-align: right;\n",
              "    }\n",
              "</style>\n",
              "<table border=\"1\" class=\"dataframe\">\n",
              "  <thead>\n",
              "    <tr style=\"text-align: right;\">\n",
              "      <th></th>\n",
              "      <th>TOTALDEMAND</th>\n",
              "      <th>relative_humidity</th>\n",
              "      <th>avg_temp</th>\n",
              "      <th>ws_avg_50</th>\n",
              "      <th>Energy_pred</th>\n",
              "    </tr>\n",
              "    <tr>\n",
              "      <th>Date</th>\n",
              "      <th></th>\n",
              "      <th></th>\n",
              "      <th></th>\n",
              "      <th></th>\n",
              "      <th></th>\n",
              "    </tr>\n",
              "  </thead>\n",
              "  <tbody>\n",
              "    <tr>\n",
              "      <th>2019-04-13</th>\n",
              "      <td>211927.11</td>\n",
              "      <td>71.45</td>\n",
              "      <td>15.515</td>\n",
              "      <td>2.885</td>\n",
              "      <td>220137.642545</td>\n",
              "    </tr>\n",
              "    <tr>\n",
              "      <th>2019-04-14</th>\n",
              "      <td>197360.00</td>\n",
              "      <td>70.61</td>\n",
              "      <td>16.660</td>\n",
              "      <td>2.995</td>\n",
              "      <td>221624.193894</td>\n",
              "    </tr>\n",
              "    <tr>\n",
              "      <th>2019-04-15</th>\n",
              "      <td>228389.91</td>\n",
              "      <td>60.12</td>\n",
              "      <td>18.900</td>\n",
              "      <td>4.310</td>\n",
              "      <td>222239.909883</td>\n",
              "    </tr>\n",
              "    <tr>\n",
              "      <th>2019-04-16</th>\n",
              "      <td>230785.75</td>\n",
              "      <td>43.17</td>\n",
              "      <td>22.505</td>\n",
              "      <td>7.980</td>\n",
              "      <td>223621.853099</td>\n",
              "    </tr>\n",
              "    <tr>\n",
              "      <th>2019-04-17</th>\n",
              "      <td>234562.26</td>\n",
              "      <td>43.74</td>\n",
              "      <td>22.790</td>\n",
              "      <td>9.560</td>\n",
              "      <td>225488.546098</td>\n",
              "    </tr>\n",
              "    <tr>\n",
              "      <th>...</th>\n",
              "      <td>...</td>\n",
              "      <td>...</td>\n",
              "      <td>...</td>\n",
              "      <td>...</td>\n",
              "      <td>...</td>\n",
              "    </tr>\n",
              "    <tr>\n",
              "      <th>2019-12-27</th>\n",
              "      <td>214512.13</td>\n",
              "      <td>46.02</td>\n",
              "      <td>21.575</td>\n",
              "      <td>3.160</td>\n",
              "      <td>220522.339541</td>\n",
              "    </tr>\n",
              "    <tr>\n",
              "      <th>2019-12-28</th>\n",
              "      <td>227043.37</td>\n",
              "      <td>36.77</td>\n",
              "      <td>25.845</td>\n",
              "      <td>6.020</td>\n",
              "      <td>219594.897010</td>\n",
              "    </tr>\n",
              "    <tr>\n",
              "      <th>2019-12-29</th>\n",
              "      <td>236587.05</td>\n",
              "      <td>43.23</td>\n",
              "      <td>27.845</td>\n",
              "      <td>3.390</td>\n",
              "      <td>220079.681758</td>\n",
              "    </tr>\n",
              "    <tr>\n",
              "      <th>2019-12-30</th>\n",
              "      <td>280820.25</td>\n",
              "      <td>34.14</td>\n",
              "      <td>30.275</td>\n",
              "      <td>9.670</td>\n",
              "      <td>222339.223425</td>\n",
              "    </tr>\n",
              "    <tr>\n",
              "      <th>2019-12-31</th>\n",
              "      <td>190820.78</td>\n",
              "      <td>52.27</td>\n",
              "      <td>17.755</td>\n",
              "      <td>5.930</td>\n",
              "      <td>226079.582299</td>\n",
              "    </tr>\n",
              "  </tbody>\n",
              "</table>\n",
              "<p>263 rows × 5 columns</p>\n",
              "</div>"
            ],
            "text/plain": [
              "            TOTALDEMAND  relative_humidity  avg_temp  ws_avg_50    Energy_pred\n",
              "Date                                                                          \n",
              "2019-04-13    211927.11              71.45    15.515      2.885  220137.642545\n",
              "2019-04-14    197360.00              70.61    16.660      2.995  221624.193894\n",
              "2019-04-15    228389.91              60.12    18.900      4.310  222239.909883\n",
              "2019-04-16    230785.75              43.17    22.505      7.980  223621.853099\n",
              "2019-04-17    234562.26              43.74    22.790      9.560  225488.546098\n",
              "...                 ...                ...       ...        ...            ...\n",
              "2019-12-27    214512.13              46.02    21.575      3.160  220522.339541\n",
              "2019-12-28    227043.37              36.77    25.845      6.020  219594.897010\n",
              "2019-12-29    236587.05              43.23    27.845      3.390  220079.681758\n",
              "2019-12-30    280820.25              34.14    30.275      9.670  222339.223425\n",
              "2019-12-31    190820.78              52.27    17.755      5.930  226079.582299\n",
              "\n",
              "[263 rows x 5 columns]"
            ]
          },
          "metadata": {
            "tags": []
          },
          "execution_count": 75
        }
      ]
    },
    {
      "cell_type": "code",
      "metadata": {
        "id": "a0Liv7RAv1Mw",
        "outputId": "732646b8-7ee5-4c25-961d-3649ce2d1eef",
        "colab": {
          "base_uri": "https://localhost:8080/",
          "height": 294
        }
      },
      "source": [
        "df_final[['TOTALDEMAND','Energy_pred']].plot()"
      ],
      "execution_count": 76,
      "outputs": [
        {
          "output_type": "execute_result",
          "data": {
            "text/plain": [
              "<matplotlib.axes._subplots.AxesSubplot at 0x7f65a9dd8e10>"
            ]
          },
          "metadata": {
            "tags": []
          },
          "execution_count": 76
        },
        {
          "output_type": "display_data",
          "data": {
            "image/png": "[encoded data removed]",
            "text/plain": [
              "<Figure size 432x288 with 1 Axes>"
            ]
          },
          "metadata": {
            "tags": [],
            "needs_background": "light"
          }
        }
      ]
    },
    {
      "cell_type": "code",
      "metadata": {
        "id": "UVvk72omv1R2"
      },
      "source": [
        ""
      ],
      "execution_count": null,
      "outputs": []
    },
    {
      "cell_type": "markdown",
      "metadata": {
        "id": "TDGD3W82l5yH"
      },
      "source": [
        "**##### ANOTHER MODEL #####**"
      ]
    },
    {
      "cell_type": "code",
      "metadata": {
        "id": "MuSXLBvwqYwC"
      },
      "source": [
        "import numpy as np\n",
        "import pandas as pd\n",
        "import matplotlib.pyplot as plt\n",
        "import datetime as dt\n",
        "from datetime import datetime\n",
        "\n",
        "from keras.callbacks import EarlyStopping, ReduceLROnPlateau, ModelCheckpoint, TensorBoard\n",
        "\n",
        "%matplotlib inline"
      ],
      "execution_count": 285,
      "outputs": []
    },
    {
      "cell_type": "code",
      "metadata": {
        "id": "0ndA-bvPvBcb"
      },
      "source": [
        "#Reading the dataset\n",
        "\n",
        "data = pd.read_csv('u_fulldata_vic.csv',\n",
        "                  parse_dates = True,\n",
        "                  low_memory = False)"
      ],
      "execution_count": 286,
      "outputs": []
    },
    {
      "cell_type": "code",
      "metadata": {
        "id": "XXMODFX_vBgg",
        "outputId": "21f4b29a-9f7e-4bff-8d0d-b26c66a06c55",
        "colab": {
          "base_uri": "https://localhost:8080/",
          "height": 411
        }
      },
      "source": [
        "#printing top rows\n",
        "\n",
        "data.head()"
      ],
      "execution_count": 287,
      "outputs": [
        {
          "output_type": "execute_result",
          "data": {
            "text/html": [
              "<div>\n",
              "<style scoped>\n",
              "    .dataframe tbody tr th:only-of-type {\n",
              "        vertical-align: middle;\n",
              "    }\n",
              "\n",
              "    .dataframe tbody tr th {\n",
              "        vertical-align: top;\n",
              "    }\n",
              "\n",
              "    .dataframe thead th {\n",
              "        text-align: right;\n",
              "    }\n",
              "</style>\n",
              "<table border=\"1\" class=\"dataframe\">\n",
              "  <thead>\n",
              "    <tr style=\"text-align: right;\">\n",
              "      <th></th>\n",
              "      <th>Month</th>\n",
              "      <th>Day</th>\n",
              "      <th>TOTALDEMAND</th>\n",
              "      <th>YEAR</th>\n",
              "      <th>Date</th>\n",
              "      <th>relative_humidity</th>\n",
              "      <th>dew_temp</th>\n",
              "      <th>max_temp</th>\n",
              "      <th>min_temp</th>\n",
              "      <th>temp2m</th>\n",
              "      <th>WS50M_MIN</th>\n",
              "      <th>WS10M_MIN</th>\n",
              "      <th>WS50M_MAX</th>\n",
              "      <th>WS10M_MAX</th>\n",
              "      <th>WS50M</th>\n",
              "      <th>WS10M</th>\n",
              "      <th>avg_temp</th>\n",
              "      <th>ws_avg_50</th>\n",
              "      <th>ws_avg_10</th>\n",
              "      <th>Unnamed: 19</th>\n",
              "    </tr>\n",
              "  </thead>\n",
              "  <tbody>\n",
              "    <tr>\n",
              "      <th>0</th>\n",
              "      <td>1</td>\n",
              "      <td>1</td>\n",
              "      <td>226550.31</td>\n",
              "      <td>2016</td>\n",
              "      <td>01-01-2016</td>\n",
              "      <td>56.49</td>\n",
              "      <td>12.69</td>\n",
              "      <td>27.74</td>\n",
              "      <td>15.97</td>\n",
              "      <td>21.87</td>\n",
              "      <td>1.63</td>\n",
              "      <td>1.09</td>\n",
              "      <td>6.98</td>\n",
              "      <td>5.98</td>\n",
              "      <td>4.48</td>\n",
              "      <td>3.60</td>\n",
              "      <td>21.855</td>\n",
              "      <td>4.305</td>\n",
              "      <td>3.535</td>\n",
              "      <td>NaN</td>\n",
              "    </tr>\n",
              "    <tr>\n",
              "      <th>1</th>\n",
              "      <td>1</td>\n",
              "      <td>2</td>\n",
              "      <td>199245.28</td>\n",
              "      <td>2016</td>\n",
              "      <td>02-01-2016</td>\n",
              "      <td>66.32</td>\n",
              "      <td>12.94</td>\n",
              "      <td>26.07</td>\n",
              "      <td>14.76</td>\n",
              "      <td>19.40</td>\n",
              "      <td>4.69</td>\n",
              "      <td>4.19</td>\n",
              "      <td>9.66</td>\n",
              "      <td>8.12</td>\n",
              "      <td>7.04</td>\n",
              "      <td>5.80</td>\n",
              "      <td>20.415</td>\n",
              "      <td>7.175</td>\n",
              "      <td>6.155</td>\n",
              "      <td>NaN</td>\n",
              "    </tr>\n",
              "    <tr>\n",
              "      <th>2</th>\n",
              "      <td>1</td>\n",
              "      <td>3</td>\n",
              "      <td>195312.89</td>\n",
              "      <td>2016</td>\n",
              "      <td>03-01-2016</td>\n",
              "      <td>71.23</td>\n",
              "      <td>13.13</td>\n",
              "      <td>22.40</td>\n",
              "      <td>15.35</td>\n",
              "      <td>18.41</td>\n",
              "      <td>5.58</td>\n",
              "      <td>3.55</td>\n",
              "      <td>7.79</td>\n",
              "      <td>6.27</td>\n",
              "      <td>6.92</td>\n",
              "      <td>5.35</td>\n",
              "      <td>18.875</td>\n",
              "      <td>6.685</td>\n",
              "      <td>4.910</td>\n",
              "      <td>NaN</td>\n",
              "    </tr>\n",
              "    <tr>\n",
              "      <th>3</th>\n",
              "      <td>1</td>\n",
              "      <td>4</td>\n",
              "      <td>221865.01</td>\n",
              "      <td>2016</td>\n",
              "      <td>04-01-2016</td>\n",
              "      <td>75.53</td>\n",
              "      <td>13.78</td>\n",
              "      <td>21.67</td>\n",
              "      <td>15.31</td>\n",
              "      <td>18.16</td>\n",
              "      <td>3.91</td>\n",
              "      <td>3.01</td>\n",
              "      <td>7.76</td>\n",
              "      <td>5.58</td>\n",
              "      <td>5.39</td>\n",
              "      <td>4.07</td>\n",
              "      <td>18.490</td>\n",
              "      <td>5.835</td>\n",
              "      <td>4.295</td>\n",
              "      <td>NaN</td>\n",
              "    </tr>\n",
              "    <tr>\n",
              "      <th>4</th>\n",
              "      <td>1</td>\n",
              "      <td>5</td>\n",
              "      <td>235747.16</td>\n",
              "      <td>2016</td>\n",
              "      <td>05-01-2016</td>\n",
              "      <td>68.87</td>\n",
              "      <td>13.47</td>\n",
              "      <td>24.57</td>\n",
              "      <td>13.86</td>\n",
              "      <td>19.37</td>\n",
              "      <td>0.63</td>\n",
              "      <td>0.71</td>\n",
              "      <td>5.34</td>\n",
              "      <td>3.24</td>\n",
              "      <td>3.29</td>\n",
              "      <td>2.33</td>\n",
              "      <td>19.215</td>\n",
              "      <td>2.985</td>\n",
              "      <td>1.975</td>\n",
              "      <td>NaN</td>\n",
              "    </tr>\n",
              "  </tbody>\n",
              "</table>\n",
              "</div>"
            ],
            "text/plain": [
              "   Month  Day  TOTALDEMAND  YEAR  ... avg_temp  ws_avg_50  ws_avg_10  Unnamed: 19\n",
              "0      1    1    226550.31  2016  ...   21.855      4.305      3.535          NaN\n",
              "1      1    2    199245.28  2016  ...   20.415      7.175      6.155          NaN\n",
              "2      1    3    195312.89  2016  ...   18.875      6.685      4.910          NaN\n",
              "3      1    4    221865.01  2016  ...   18.490      5.835      4.295          NaN\n",
              "4      1    5    235747.16  2016  ...   19.215      2.985      1.975          NaN\n",
              "\n",
              "[5 rows x 20 columns]"
            ]
          },
          "metadata": {
            "tags": []
          },
          "execution_count": 287
        }
      ]
    },
    {
      "cell_type": "code",
      "metadata": {
        "id": "nEkSgOK_vBlX",
        "outputId": "6ca56b4a-b23e-4d8f-b9a1-6bc62ca6b0ca",
        "colab": {
          "base_uri": "https://localhost:8080/",
          "height": 476
        }
      },
      "source": [
        "data.info()"
      ],
      "execution_count": 288,
      "outputs": [
        {
          "output_type": "stream",
          "text": [
            "<class 'pandas.core.frame.DataFrame'>\n",
            "RangeIndex: 1461 entries, 0 to 1460\n",
            "Data columns (total 20 columns):\n",
            " #   Column             Non-Null Count  Dtype  \n",
            "---  ------             --------------  -----  \n",
            " 0   Month              1461 non-null   int64  \n",
            " 1   Day                1461 non-null   int64  \n",
            " 2   TOTALDEMAND        1461 non-null   float64\n",
            " 3   YEAR               1461 non-null   int64  \n",
            " 4   Date               1461 non-null   object \n",
            " 5   relative_humidity  1461 non-null   float64\n",
            " 6   dew_temp           1461 non-null   float64\n",
            " 7   max_temp           1461 non-null   float64\n",
            " 8   min_temp           1461 non-null   float64\n",
            " 9   temp2m             1461 non-null   float64\n",
            " 10  WS50M_MIN          1461 non-null   float64\n",
            " 11  WS10M_MIN          1461 non-null   float64\n",
            " 12  WS50M_MAX          1461 non-null   float64\n",
            " 13  WS10M_MAX          1461 non-null   float64\n",
            " 14  WS50M              1461 non-null   float64\n",
            " 15  WS10M              1461 non-null   float64\n",
            " 16  avg_temp           1461 non-null   float64\n",
            " 17  ws_avg_50          1461 non-null   float64\n",
            " 18  ws_avg_10          1461 non-null   float64\n",
            " 19  Unnamed: 19        365 non-null    object \n",
            "dtypes: float64(15), int64(3), object(2)\n",
            "memory usage: 228.4+ KB\n"
          ],
          "name": "stdout"
        }
      ]
    },
    {
      "cell_type": "code",
      "metadata": {
        "id": "YAscuZtMvBpo"
      },
      "source": [
        "data = data[['TOTALDEMAND',\t'YEAR',\t'Date',\t'relative_humidity',\t'dew_temp', 'avg_temp',\t'ws_avg_50']]"
      ],
      "execution_count": 289,
      "outputs": []
    },
    {
      "cell_type": "code",
      "metadata": {
        "id": "xwcuCYZc4pA9"
      },
      "source": [
        "data['Date'] = pd.to_datetime(data['Date'])"
      ],
      "execution_count": 290,
      "outputs": []
    },
    {
      "cell_type": "code",
      "metadata": {
        "id": "PlqAAqPS4pEA",
        "outputId": "35ef8885-d749-47eb-c46c-329d2f81a3d5",
        "colab": {
          "base_uri": "https://localhost:8080/",
          "height": 235
        }
      },
      "source": [
        "data.set_index(['Date'], inplace=True)\n",
        "data.head()"
      ],
      "execution_count": 291,
      "outputs": [
        {
          "output_type": "execute_result",
          "data": {
            "text/html": [
              "<div>\n",
              "<style scoped>\n",
              "    .dataframe tbody tr th:only-of-type {\n",
              "        vertical-align: middle;\n",
              "    }\n",
              "\n",
              "    .dataframe tbody tr th {\n",
              "        vertical-align: top;\n",
              "    }\n",
              "\n",
              "    .dataframe thead th {\n",
              "        text-align: right;\n",
              "    }\n",
              "</style>\n",
              "<table border=\"1\" class=\"dataframe\">\n",
              "  <thead>\n",
              "    <tr style=\"text-align: right;\">\n",
              "      <th></th>\n",
              "      <th>TOTALDEMAND</th>\n",
              "      <th>YEAR</th>\n",
              "      <th>relative_humidity</th>\n",
              "      <th>dew_temp</th>\n",
              "      <th>avg_temp</th>\n",
              "      <th>ws_avg_50</th>\n",
              "    </tr>\n",
              "    <tr>\n",
              "      <th>Date</th>\n",
              "      <th></th>\n",
              "      <th></th>\n",
              "      <th></th>\n",
              "      <th></th>\n",
              "      <th></th>\n",
              "      <th></th>\n",
              "    </tr>\n",
              "  </thead>\n",
              "  <tbody>\n",
              "    <tr>\n",
              "      <th>2016-01-01</th>\n",
              "      <td>226550.31</td>\n",
              "      <td>2016</td>\n",
              "      <td>56.49</td>\n",
              "      <td>12.69</td>\n",
              "      <td>21.855</td>\n",
              "      <td>4.305</td>\n",
              "    </tr>\n",
              "    <tr>\n",
              "      <th>2016-02-01</th>\n",
              "      <td>199245.28</td>\n",
              "      <td>2016</td>\n",
              "      <td>66.32</td>\n",
              "      <td>12.94</td>\n",
              "      <td>20.415</td>\n",
              "      <td>7.175</td>\n",
              "    </tr>\n",
              "    <tr>\n",
              "      <th>2016-03-01</th>\n",
              "      <td>195312.89</td>\n",
              "      <td>2016</td>\n",
              "      <td>71.23</td>\n",
              "      <td>13.13</td>\n",
              "      <td>18.875</td>\n",
              "      <td>6.685</td>\n",
              "    </tr>\n",
              "    <tr>\n",
              "      <th>2016-04-01</th>\n",
              "      <td>221865.01</td>\n",
              "      <td>2016</td>\n",
              "      <td>75.53</td>\n",
              "      <td>13.78</td>\n",
              "      <td>18.490</td>\n",
              "      <td>5.835</td>\n",
              "    </tr>\n",
              "    <tr>\n",
              "      <th>2016-05-01</th>\n",
              "      <td>235747.16</td>\n",
              "      <td>2016</td>\n",
              "      <td>68.87</td>\n",
              "      <td>13.47</td>\n",
              "      <td>19.215</td>\n",
              "      <td>2.985</td>\n",
              "    </tr>\n",
              "  </tbody>\n",
              "</table>\n",
              "</div>"
            ],
            "text/plain": [
              "            TOTALDEMAND  YEAR  relative_humidity  dew_temp  avg_temp  ws_avg_50\n",
              "Date                                                                           \n",
              "2016-01-01    226550.31  2016              56.49     12.69    21.855      4.305\n",
              "2016-02-01    199245.28  2016              66.32     12.94    20.415      7.175\n",
              "2016-03-01    195312.89  2016              71.23     13.13    18.875      6.685\n",
              "2016-04-01    221865.01  2016              75.53     13.78    18.490      5.835\n",
              "2016-05-01    235747.16  2016              68.87     13.47    19.215      2.985"
            ]
          },
          "metadata": {
            "tags": []
          },
          "execution_count": 291
        }
      ]
    },
    {
      "cell_type": "code",
      "metadata": {
        "id": "uXGFjVhX4pGI"
      },
      "source": [
        "data = data.drop(['YEAR'],axis=1)"
      ],
      "execution_count": 292,
      "outputs": []
    },
    {
      "cell_type": "code",
      "metadata": {
        "id": "9p_VWqf94pJK",
        "outputId": "fa136326-ada2-458e-fef3-d1f51bc3d592",
        "colab": {
          "base_uri": "https://localhost:8080/",
          "height": 235
        }
      },
      "source": [
        "data.head()"
      ],
      "execution_count": 293,
      "outputs": [
        {
          "output_type": "execute_result",
          "data": {
            "text/html": [
              "<div>\n",
              "<style scoped>\n",
              "    .dataframe tbody tr th:only-of-type {\n",
              "        vertical-align: middle;\n",
              "    }\n",
              "\n",
              "    .dataframe tbody tr th {\n",
              "        vertical-align: top;\n",
              "    }\n",
              "\n",
              "    .dataframe thead th {\n",
              "        text-align: right;\n",
              "    }\n",
              "</style>\n",
              "<table border=\"1\" class=\"dataframe\">\n",
              "  <thead>\n",
              "    <tr style=\"text-align: right;\">\n",
              "      <th></th>\n",
              "      <th>TOTALDEMAND</th>\n",
              "      <th>relative_humidity</th>\n",
              "      <th>dew_temp</th>\n",
              "      <th>avg_temp</th>\n",
              "      <th>ws_avg_50</th>\n",
              "    </tr>\n",
              "    <tr>\n",
              "      <th>Date</th>\n",
              "      <th></th>\n",
              "      <th></th>\n",
              "      <th></th>\n",
              "      <th></th>\n",
              "      <th></th>\n",
              "    </tr>\n",
              "  </thead>\n",
              "  <tbody>\n",
              "    <tr>\n",
              "      <th>2016-01-01</th>\n",
              "      <td>226550.31</td>\n",
              "      <td>56.49</td>\n",
              "      <td>12.69</td>\n",
              "      <td>21.855</td>\n",
              "      <td>4.305</td>\n",
              "    </tr>\n",
              "    <tr>\n",
              "      <th>2016-02-01</th>\n",
              "      <td>199245.28</td>\n",
              "      <td>66.32</td>\n",
              "      <td>12.94</td>\n",
              "      <td>20.415</td>\n",
              "      <td>7.175</td>\n",
              "    </tr>\n",
              "    <tr>\n",
              "      <th>2016-03-01</th>\n",
              "      <td>195312.89</td>\n",
              "      <td>71.23</td>\n",
              "      <td>13.13</td>\n",
              "      <td>18.875</td>\n",
              "      <td>6.685</td>\n",
              "    </tr>\n",
              "    <tr>\n",
              "      <th>2016-04-01</th>\n",
              "      <td>221865.01</td>\n",
              "      <td>75.53</td>\n",
              "      <td>13.78</td>\n",
              "      <td>18.490</td>\n",
              "      <td>5.835</td>\n",
              "    </tr>\n",
              "    <tr>\n",
              "      <th>2016-05-01</th>\n",
              "      <td>235747.16</td>\n",
              "      <td>68.87</td>\n",
              "      <td>13.47</td>\n",
              "      <td>19.215</td>\n",
              "      <td>2.985</td>\n",
              "    </tr>\n",
              "  </tbody>\n",
              "</table>\n",
              "</div>"
            ],
            "text/plain": [
              "            TOTALDEMAND  relative_humidity  dew_temp  avg_temp  ws_avg_50\n",
              "Date                                                                     \n",
              "2016-01-01    226550.31              56.49     12.69    21.855      4.305\n",
              "2016-02-01    199245.28              66.32     12.94    20.415      7.175\n",
              "2016-03-01    195312.89              71.23     13.13    18.875      6.685\n",
              "2016-04-01    221865.01              75.53     13.78    18.490      5.835\n",
              "2016-05-01    235747.16              68.87     13.47    19.215      2.985"
            ]
          },
          "metadata": {
            "tags": []
          },
          "execution_count": 293
        }
      ]
    },
    {
      "cell_type": "code",
      "metadata": {
        "id": "KQioM5x_4pLZ"
      },
      "source": [
        "data = data.astype('float')"
      ],
      "execution_count": 294,
      "outputs": []
    },
    {
      "cell_type": "code",
      "metadata": {
        "id": "x-NP8HplvBef",
        "outputId": "e26e702e-b8b5-49d0-bb04-9a0304ebc74c",
        "colab": {
          "base_uri": "https://localhost:8080/",
          "height": 221
        }
      },
      "source": [
        "#information of the dataset\n",
        "\n",
        "data.info()"
      ],
      "execution_count": 295,
      "outputs": [
        {
          "output_type": "stream",
          "text": [
            "<class 'pandas.core.frame.DataFrame'>\n",
            "DatetimeIndex: 1461 entries, 2016-01-01 to 2019-12-31\n",
            "Data columns (total 5 columns):\n",
            " #   Column             Non-Null Count  Dtype  \n",
            "---  ------             --------------  -----  \n",
            " 0   TOTALDEMAND        1461 non-null   float64\n",
            " 1   relative_humidity  1461 non-null   float64\n",
            " 2   dew_temp           1461 non-null   float64\n",
            " 3   avg_temp           1461 non-null   float64\n",
            " 4   ws_avg_50          1461 non-null   float64\n",
            "dtypes: float64(5)\n",
            "memory usage: 68.5 KB\n"
          ],
          "name": "stdout"
        }
      ]
    },
    {
      "cell_type": "code",
      "metadata": {
        "id": "S7Oagfey6Lrz",
        "outputId": "55c10caf-e405-44c7-c4ec-7c0a577360a1",
        "colab": {
          "base_uri": "https://localhost:8080/",
          "height": 119
        }
      },
      "source": [
        "#checking the null values\n",
        "\n",
        "np.isnan(data).sum()"
      ],
      "execution_count": 296,
      "outputs": [
        {
          "output_type": "execute_result",
          "data": {
            "text/plain": [
              "TOTALDEMAND          0\n",
              "relative_humidity    0\n",
              "dew_temp             0\n",
              "avg_temp             0\n",
              "ws_avg_50            0\n",
              "dtype: int64"
            ]
          },
          "metadata": {
            "tags": []
          },
          "execution_count": 296
        }
      ]
    },
    {
      "cell_type": "code",
      "metadata": {
        "id": "mT-QbfN56Luh",
        "outputId": "0315d80c-3dab-4b7b-d774-d77c91351d16",
        "colab": {
          "base_uri": "https://localhost:8080/",
          "height": 34
        }
      },
      "source": [
        "data.shape"
      ],
      "execution_count": 297,
      "outputs": [
        {
          "output_type": "execute_result",
          "data": {
            "text/plain": [
              "(1461, 5)"
            ]
          },
          "metadata": {
            "tags": []
          },
          "execution_count": 297
        }
      ]
    },
    {
      "cell_type": "code",
      "metadata": {
        "id": "npcm73-t8FgM"
      },
      "source": [
        "### Year wise histogram plot of feature Global_active_power\n",
        "\n",
        "# years = [2016, 2017, 2018, 2019]\n",
        "\n",
        "# fig, ax = plt.subplots(figsize=(18,18))\n",
        "\n",
        "# for i in range(len(years)):\n",
        "#     plt.subplot(len(years), 1, i+1)\n",
        "#     year = years[i]\n",
        "#     active_power_data = data[str(year)]\n",
        "#     active_power_data['Global_active_power'].hist(bins = 200)\n",
        "#     plt.title(str(year), y = 0, loc = 'left')\n",
        "# plt.show()\n",
        "# fig.tight_layout()"
      ],
      "execution_count": 221,
      "outputs": []
    },
    {
      "cell_type": "code",
      "metadata": {
        "id": "nYU-CwWT6Lzr",
        "outputId": "54cf7f26-4d7e-4360-d87b-3b577f56478c",
        "colab": {
          "base_uri": "https://localhost:8080/",
          "height": 1000
        }
      },
      "source": [
        "### Histogram plot for All Features\n",
        "\n",
        "\n",
        "fig, ax = plt.subplots(figsize=(18,18))\n",
        "\n",
        "for i in range(len(data.columns)):\n",
        "    plt.subplot(len(data.columns), 1, i+1)\n",
        "    name = data.columns[i]\n",
        "    data[name].hist(bins=200)\n",
        "    plt.title(name, y=0, loc = 'right')\n",
        "    plt.yticks([])\n",
        "plt.show()\n",
        "fig.tight_layout()"
      ],
      "execution_count": 298,
      "outputs": [
        {
          "output_type": "display_data",
          "data": {
            "image/png": "[encoded data removed]",
            "text/plain": [
              "<Figure size 1296x1296 with 5 Axes>"
            ]
          },
          "metadata": {
            "tags": [],
            "needs_background": "light"
          }
        }
      ]
    },
    {
      "cell_type": "code",
      "metadata": {
        "id": "3dZOr--v6L4g"
      },
      "source": [
        "# months = [i for i in range(1,13)]\n",
        "\n",
        "# fig, ax = plt.subplots(figsize=(18,18))\n",
        "\n",
        "# for i in range(len(months)):\n",
        "#     ax = plt.subplot(len(months), 1, i+1)\n",
        "#     month = '2016-' + str(months[i])\n",
        "#     active_power_data = dataset[month]\n",
        "#     active_power_data['Global_active_power'].hist(bins = 100)\n",
        "#     ax.set_xlim(0,5)\n",
        "#     plt.title(month, y = 0, loc = 'right')\n",
        "# plt.show()\n",
        "# fig.tight_layout()"
      ],
      "execution_count": 224,
      "outputs": []
    },
    {
      "cell_type": "code",
      "metadata": {
        "id": "ObThetEc6L7w",
        "outputId": "98856597-8e0a-4154-dbda-d98c3658c1d2",
        "colab": {
          "base_uri": "https://localhost:8080/",
          "height": 136
        }
      },
      "source": [
        "data_train = data.loc[:'2018-12-31', :]['TOTALDEMAND']\n",
        "data_train.head()"
      ],
      "execution_count": 299,
      "outputs": [
        {
          "output_type": "execute_result",
          "data": {
            "text/plain": [
              "Date\n",
              "2016-01-01    226550.31\n",
              "2016-02-01    199245.28\n",
              "2016-03-01    195312.89\n",
              "2016-04-01    221865.01\n",
              "2016-05-01    235747.16\n",
              "Name: TOTALDEMAND, dtype: float64"
            ]
          },
          "metadata": {
            "tags": []
          },
          "execution_count": 299
        }
      ]
    },
    {
      "cell_type": "code",
      "metadata": {
        "id": "3yIQYbI16MAU",
        "outputId": "26bf7769-d697-4124-83cf-746089ca42de",
        "colab": {
          "base_uri": "https://localhost:8080/",
          "height": 136
        }
      },
      "source": [
        "data_test = data.loc['2019-01-01':, :]['TOTALDEMAND']\n",
        "data_test.head()"
      ],
      "execution_count": 300,
      "outputs": [
        {
          "output_type": "execute_result",
          "data": {
            "text/plain": [
              "Date\n",
              "2019-01-01    193379.92\n",
              "2019-02-01    212941.35\n",
              "2019-03-01    237579.21\n",
              "2019-04-01    266576.92\n",
              "2019-05-01    194525.58\n",
              "Name: TOTALDEMAND, dtype: float64"
            ]
          },
          "metadata": {
            "tags": []
          },
          "execution_count": 300
        }
      ]
    },
    {
      "cell_type": "code",
      "metadata": {
        "id": "satrvomL6L-l",
        "outputId": "cb5a4b9a-6ecb-42dc-f1ed-ab9b48286ce1",
        "colab": {
          "base_uri": "https://localhost:8080/",
          "height": 34
        }
      },
      "source": [
        "data_train.shape"
      ],
      "execution_count": 242,
      "outputs": [
        {
          "output_type": "execute_result",
          "data": {
            "text/plain": [
              "(1096,)"
            ]
          },
          "metadata": {
            "tags": []
          },
          "execution_count": 242
        }
      ]
    },
    {
      "cell_type": "code",
      "metadata": {
        "id": "oLb8M03J6L2Z",
        "outputId": "7d32e2a1-ee79-4529-bd40-03b9d1aaaad5",
        "colab": {
          "base_uri": "https://localhost:8080/",
          "height": 34
        }
      },
      "source": [
        "data_test.shape"
      ],
      "execution_count": 243,
      "outputs": [
        {
          "output_type": "execute_result",
          "data": {
            "text/plain": [
              "(365,)"
            ]
          },
          "metadata": {
            "tags": []
          },
          "execution_count": 243
        }
      ]
    },
    {
      "cell_type": "code",
      "metadata": {
        "id": "1OMHlmL39mz0"
      },
      "source": [
        "#converting the data into numpy array\n",
        "\n",
        "data_train = np.array(data_train)"
      ],
      "execution_count": 244,
      "outputs": []
    },
    {
      "cell_type": "code",
      "metadata": {
        "id": "HQY54WbW9m2z"
      },
      "source": [
        "#we are splitting the data weekly wise(7days)\n",
        "\n",
        "X_train, y_train = [], []\n",
        "\n",
        "for i in range(30, len(data_train)-30):\n",
        "    X_train.append(data_train[i-30:i])\n",
        "    y_train.append(data_train[i:i+30])"
      ],
      "execution_count": 279,
      "outputs": []
    },
    {
      "cell_type": "code",
      "metadata": {
        "id": "hqEzeGe1--M5"
      },
      "source": [
        "#converting list to numpy array\n",
        "\n",
        "X_train, y_train = np.array(X_train), np.array(y_train)\n"
      ],
      "execution_count": 280,
      "outputs": []
    },
    {
      "cell_type": "code",
      "metadata": {
        "id": "lSzGKYeF--R4",
        "outputId": "9b81fc45-8f99-4e9e-ab7c-7a724d778ead",
        "colab": {
          "base_uri": "https://localhost:8080/",
          "height": 34
        }
      },
      "source": [
        "X_train.shape, y_train.shape"
      ],
      "execution_count": 281,
      "outputs": [
        {
          "output_type": "execute_result",
          "data": {
            "text/plain": [
              "((1036, 30), (1036, 30))"
            ]
          },
          "metadata": {
            "tags": []
          },
          "execution_count": 281
        }
      ]
    },
    {
      "cell_type": "code",
      "metadata": {
        "id": "j1M1bVwO9m-T",
        "outputId": "ad7f8c81-a5b8-4ca5-d656-223c82f14ed4",
        "colab": {
          "base_uri": "https://localhost:8080/",
          "height": 439
        }
      },
      "source": [
        "#printing the ytrain value\n",
        "\n",
        "pd.DataFrame(y_train)"
      ],
      "execution_count": 283,
      "outputs": [
        {
          "output_type": "execute_result",
          "data": {
            "text/html": [
              "<div>\n",
              "<style scoped>\n",
              "    .dataframe tbody tr th:only-of-type {\n",
              "        vertical-align: middle;\n",
              "    }\n",
              "\n",
              "    .dataframe tbody tr th {\n",
              "        vertical-align: top;\n",
              "    }\n",
              "\n",
              "    .dataframe thead th {\n",
              "        text-align: right;\n",
              "    }\n",
              "</style>\n",
              "<table border=\"1\" class=\"dataframe\">\n",
              "  <thead>\n",
              "    <tr style=\"text-align: right;\">\n",
              "      <th></th>\n",
              "      <th>0</th>\n",
              "      <th>1</th>\n",
              "      <th>2</th>\n",
              "      <th>3</th>\n",
              "      <th>4</th>\n",
              "      <th>5</th>\n",
              "      <th>6</th>\n",
              "      <th>7</th>\n",
              "      <th>8</th>\n",
              "      <th>9</th>\n",
              "      <th>10</th>\n",
              "      <th>11</th>\n",
              "      <th>12</th>\n",
              "      <th>13</th>\n",
              "      <th>14</th>\n",
              "      <th>15</th>\n",
              "      <th>16</th>\n",
              "      <th>17</th>\n",
              "      <th>18</th>\n",
              "      <th>19</th>\n",
              "      <th>20</th>\n",
              "      <th>21</th>\n",
              "      <th>22</th>\n",
              "      <th>23</th>\n",
              "      <th>24</th>\n",
              "      <th>25</th>\n",
              "      <th>26</th>\n",
              "      <th>27</th>\n",
              "      <th>28</th>\n",
              "      <th>29</th>\n",
              "    </tr>\n",
              "  </thead>\n",
              "  <tbody>\n",
              "    <tr>\n",
              "      <th>0</th>\n",
              "      <td>202559.30</td>\n",
              "      <td>239239.55</td>\n",
              "      <td>267978.31</td>\n",
              "      <td>245188.95</td>\n",
              "      <td>239839.21</td>\n",
              "      <td>252661.10</td>\n",
              "      <td>247474.02</td>\n",
              "      <td>248873.62</td>\n",
              "      <td>258654.45</td>\n",
              "      <td>262542.53</td>\n",
              "      <td>264530.01</td>\n",
              "      <td>262007.58</td>\n",
              "      <td>267691.04</td>\n",
              "      <td>241679.99</td>\n",
              "      <td>208729.47</td>\n",
              "      <td>241726.65</td>\n",
              "      <td>234124.07</td>\n",
              "      <td>238963.58</td>\n",
              "      <td>251928.37</td>\n",
              "      <td>245983.32</td>\n",
              "      <td>211823.42</td>\n",
              "      <td>215768.71</td>\n",
              "      <td>261054.65</td>\n",
              "      <td>313849.66</td>\n",
              "      <td>304838.83</td>\n",
              "      <td>276129.71</td>\n",
              "      <td>245151.87</td>\n",
              "      <td>221091.68</td>\n",
              "      <td>211563.97</td>\n",
              "      <td>250800.16</td>\n",
              "    </tr>\n",
              "    <tr>\n",
              "      <th>1</th>\n",
              "      <td>239239.55</td>\n",
              "      <td>267978.31</td>\n",
              "      <td>245188.95</td>\n",
              "      <td>239839.21</td>\n",
              "      <td>252661.10</td>\n",
              "      <td>247474.02</td>\n",
              "      <td>248873.62</td>\n",
              "      <td>258654.45</td>\n",
              "      <td>262542.53</td>\n",
              "      <td>264530.01</td>\n",
              "      <td>262007.58</td>\n",
              "      <td>267691.04</td>\n",
              "      <td>241679.99</td>\n",
              "      <td>208729.47</td>\n",
              "      <td>241726.65</td>\n",
              "      <td>234124.07</td>\n",
              "      <td>238963.58</td>\n",
              "      <td>251928.37</td>\n",
              "      <td>245983.32</td>\n",
              "      <td>211823.42</td>\n",
              "      <td>215768.71</td>\n",
              "      <td>261054.65</td>\n",
              "      <td>313849.66</td>\n",
              "      <td>304838.83</td>\n",
              "      <td>276129.71</td>\n",
              "      <td>245151.87</td>\n",
              "      <td>221091.68</td>\n",
              "      <td>211563.97</td>\n",
              "      <td>250800.16</td>\n",
              "      <td>279446.68</td>\n",
              "    </tr>\n",
              "    <tr>\n",
              "      <th>2</th>\n",
              "      <td>267978.31</td>\n",
              "      <td>245188.95</td>\n",
              "      <td>239839.21</td>\n",
              "      <td>252661.10</td>\n",
              "      <td>247474.02</td>\n",
              "      <td>248873.62</td>\n",
              "      <td>258654.45</td>\n",
              "      <td>262542.53</td>\n",
              "      <td>264530.01</td>\n",
              "      <td>262007.58</td>\n",
              "      <td>267691.04</td>\n",
              "      <td>241679.99</td>\n",
              "      <td>208729.47</td>\n",
              "      <td>241726.65</td>\n",
              "      <td>234124.07</td>\n",
              "      <td>238963.58</td>\n",
              "      <td>251928.37</td>\n",
              "      <td>245983.32</td>\n",
              "      <td>211823.42</td>\n",
              "      <td>215768.71</td>\n",
              "      <td>261054.65</td>\n",
              "      <td>313849.66</td>\n",
              "      <td>304838.83</td>\n",
              "      <td>276129.71</td>\n",
              "      <td>245151.87</td>\n",
              "      <td>221091.68</td>\n",
              "      <td>211563.97</td>\n",
              "      <td>250800.16</td>\n",
              "      <td>279446.68</td>\n",
              "      <td>290365.96</td>\n",
              "    </tr>\n",
              "    <tr>\n",
              "      <th>3</th>\n",
              "      <td>245188.95</td>\n",
              "      <td>239839.21</td>\n",
              "      <td>252661.10</td>\n",
              "      <td>247474.02</td>\n",
              "      <td>248873.62</td>\n",
              "      <td>258654.45</td>\n",
              "      <td>262542.53</td>\n",
              "      <td>264530.01</td>\n",
              "      <td>262007.58</td>\n",
              "      <td>267691.04</td>\n",
              "      <td>241679.99</td>\n",
              "      <td>208729.47</td>\n",
              "      <td>241726.65</td>\n",
              "      <td>234124.07</td>\n",
              "      <td>238963.58</td>\n",
              "      <td>251928.37</td>\n",
              "      <td>245983.32</td>\n",
              "      <td>211823.42</td>\n",
              "      <td>215768.71</td>\n",
              "      <td>261054.65</td>\n",
              "      <td>313849.66</td>\n",
              "      <td>304838.83</td>\n",
              "      <td>276129.71</td>\n",
              "      <td>245151.87</td>\n",
              "      <td>221091.68</td>\n",
              "      <td>211563.97</td>\n",
              "      <td>250800.16</td>\n",
              "      <td>279446.68</td>\n",
              "      <td>290365.96</td>\n",
              "      <td>272452.24</td>\n",
              "    </tr>\n",
              "    <tr>\n",
              "      <th>4</th>\n",
              "      <td>239839.21</td>\n",
              "      <td>252661.10</td>\n",
              "      <td>247474.02</td>\n",
              "      <td>248873.62</td>\n",
              "      <td>258654.45</td>\n",
              "      <td>262542.53</td>\n",
              "      <td>264530.01</td>\n",
              "      <td>262007.58</td>\n",
              "      <td>267691.04</td>\n",
              "      <td>241679.99</td>\n",
              "      <td>208729.47</td>\n",
              "      <td>241726.65</td>\n",
              "      <td>234124.07</td>\n",
              "      <td>238963.58</td>\n",
              "      <td>251928.37</td>\n",
              "      <td>245983.32</td>\n",
              "      <td>211823.42</td>\n",
              "      <td>215768.71</td>\n",
              "      <td>261054.65</td>\n",
              "      <td>313849.66</td>\n",
              "      <td>304838.83</td>\n",
              "      <td>276129.71</td>\n",
              "      <td>245151.87</td>\n",
              "      <td>221091.68</td>\n",
              "      <td>211563.97</td>\n",
              "      <td>250800.16</td>\n",
              "      <td>279446.68</td>\n",
              "      <td>290365.96</td>\n",
              "      <td>272452.24</td>\n",
              "      <td>298753.14</td>\n",
              "    </tr>\n",
              "    <tr>\n",
              "      <th>...</th>\n",
              "      <td>...</td>\n",
              "      <td>...</td>\n",
              "      <td>...</td>\n",
              "      <td>...</td>\n",
              "      <td>...</td>\n",
              "      <td>...</td>\n",
              "      <td>...</td>\n",
              "      <td>...</td>\n",
              "      <td>...</td>\n",
              "      <td>...</td>\n",
              "      <td>...</td>\n",
              "      <td>...</td>\n",
              "      <td>...</td>\n",
              "      <td>...</td>\n",
              "      <td>...</td>\n",
              "      <td>...</td>\n",
              "      <td>...</td>\n",
              "      <td>...</td>\n",
              "      <td>...</td>\n",
              "      <td>...</td>\n",
              "      <td>...</td>\n",
              "      <td>...</td>\n",
              "      <td>...</td>\n",
              "      <td>...</td>\n",
              "      <td>...</td>\n",
              "      <td>...</td>\n",
              "      <td>...</td>\n",
              "      <td>...</td>\n",
              "      <td>...</td>\n",
              "      <td>...</td>\n",
              "    </tr>\n",
              "    <tr>\n",
              "      <th>1031</th>\n",
              "      <td>219412.84</td>\n",
              "      <td>213369.65</td>\n",
              "      <td>225173.48</td>\n",
              "      <td>220063.64</td>\n",
              "      <td>196870.65</td>\n",
              "      <td>177806.13</td>\n",
              "      <td>215332.61</td>\n",
              "      <td>223436.15</td>\n",
              "      <td>228450.24</td>\n",
              "      <td>270904.52</td>\n",
              "      <td>313296.81</td>\n",
              "      <td>242474.94</td>\n",
              "      <td>204322.23</td>\n",
              "      <td>221607.53</td>\n",
              "      <td>228827.57</td>\n",
              "      <td>259430.93</td>\n",
              "      <td>229972.66</td>\n",
              "      <td>220050.93</td>\n",
              "      <td>205154.29</td>\n",
              "      <td>198221.55</td>\n",
              "      <td>225608.80</td>\n",
              "      <td>226970.21</td>\n",
              "      <td>239814.49</td>\n",
              "      <td>223761.05</td>\n",
              "      <td>204151.85</td>\n",
              "      <td>185451.48</td>\n",
              "      <td>189876.79</td>\n",
              "      <td>224717.63</td>\n",
              "      <td>196383.31</td>\n",
              "      <td>200034.39</td>\n",
              "    </tr>\n",
              "    <tr>\n",
              "      <th>1032</th>\n",
              "      <td>213369.65</td>\n",
              "      <td>225173.48</td>\n",
              "      <td>220063.64</td>\n",
              "      <td>196870.65</td>\n",
              "      <td>177806.13</td>\n",
              "      <td>215332.61</td>\n",
              "      <td>223436.15</td>\n",
              "      <td>228450.24</td>\n",
              "      <td>270904.52</td>\n",
              "      <td>313296.81</td>\n",
              "      <td>242474.94</td>\n",
              "      <td>204322.23</td>\n",
              "      <td>221607.53</td>\n",
              "      <td>228827.57</td>\n",
              "      <td>259430.93</td>\n",
              "      <td>229972.66</td>\n",
              "      <td>220050.93</td>\n",
              "      <td>205154.29</td>\n",
              "      <td>198221.55</td>\n",
              "      <td>225608.80</td>\n",
              "      <td>226970.21</td>\n",
              "      <td>239814.49</td>\n",
              "      <td>223761.05</td>\n",
              "      <td>204151.85</td>\n",
              "      <td>185451.48</td>\n",
              "      <td>189876.79</td>\n",
              "      <td>224717.63</td>\n",
              "      <td>196383.31</td>\n",
              "      <td>200034.39</td>\n",
              "      <td>259498.28</td>\n",
              "    </tr>\n",
              "    <tr>\n",
              "      <th>1033</th>\n",
              "      <td>225173.48</td>\n",
              "      <td>220063.64</td>\n",
              "      <td>196870.65</td>\n",
              "      <td>177806.13</td>\n",
              "      <td>215332.61</td>\n",
              "      <td>223436.15</td>\n",
              "      <td>228450.24</td>\n",
              "      <td>270904.52</td>\n",
              "      <td>313296.81</td>\n",
              "      <td>242474.94</td>\n",
              "      <td>204322.23</td>\n",
              "      <td>221607.53</td>\n",
              "      <td>228827.57</td>\n",
              "      <td>259430.93</td>\n",
              "      <td>229972.66</td>\n",
              "      <td>220050.93</td>\n",
              "      <td>205154.29</td>\n",
              "      <td>198221.55</td>\n",
              "      <td>225608.80</td>\n",
              "      <td>226970.21</td>\n",
              "      <td>239814.49</td>\n",
              "      <td>223761.05</td>\n",
              "      <td>204151.85</td>\n",
              "      <td>185451.48</td>\n",
              "      <td>189876.79</td>\n",
              "      <td>224717.63</td>\n",
              "      <td>196383.31</td>\n",
              "      <td>200034.39</td>\n",
              "      <td>259498.28</td>\n",
              "      <td>267662.75</td>\n",
              "    </tr>\n",
              "    <tr>\n",
              "      <th>1034</th>\n",
              "      <td>220063.64</td>\n",
              "      <td>196870.65</td>\n",
              "      <td>177806.13</td>\n",
              "      <td>215332.61</td>\n",
              "      <td>223436.15</td>\n",
              "      <td>228450.24</td>\n",
              "      <td>270904.52</td>\n",
              "      <td>313296.81</td>\n",
              "      <td>242474.94</td>\n",
              "      <td>204322.23</td>\n",
              "      <td>221607.53</td>\n",
              "      <td>228827.57</td>\n",
              "      <td>259430.93</td>\n",
              "      <td>229972.66</td>\n",
              "      <td>220050.93</td>\n",
              "      <td>205154.29</td>\n",
              "      <td>198221.55</td>\n",
              "      <td>225608.80</td>\n",
              "      <td>226970.21</td>\n",
              "      <td>239814.49</td>\n",
              "      <td>223761.05</td>\n",
              "      <td>204151.85</td>\n",
              "      <td>185451.48</td>\n",
              "      <td>189876.79</td>\n",
              "      <td>224717.63</td>\n",
              "      <td>196383.31</td>\n",
              "      <td>200034.39</td>\n",
              "      <td>259498.28</td>\n",
              "      <td>267662.75</td>\n",
              "      <td>216580.22</td>\n",
              "    </tr>\n",
              "    <tr>\n",
              "      <th>1035</th>\n",
              "      <td>196870.65</td>\n",
              "      <td>177806.13</td>\n",
              "      <td>215332.61</td>\n",
              "      <td>223436.15</td>\n",
              "      <td>228450.24</td>\n",
              "      <td>270904.52</td>\n",
              "      <td>313296.81</td>\n",
              "      <td>242474.94</td>\n",
              "      <td>204322.23</td>\n",
              "      <td>221607.53</td>\n",
              "      <td>228827.57</td>\n",
              "      <td>259430.93</td>\n",
              "      <td>229972.66</td>\n",
              "      <td>220050.93</td>\n",
              "      <td>205154.29</td>\n",
              "      <td>198221.55</td>\n",
              "      <td>225608.80</td>\n",
              "      <td>226970.21</td>\n",
              "      <td>239814.49</td>\n",
              "      <td>223761.05</td>\n",
              "      <td>204151.85</td>\n",
              "      <td>185451.48</td>\n",
              "      <td>189876.79</td>\n",
              "      <td>224717.63</td>\n",
              "      <td>196383.31</td>\n",
              "      <td>200034.39</td>\n",
              "      <td>259498.28</td>\n",
              "      <td>267662.75</td>\n",
              "      <td>216580.22</td>\n",
              "      <td>199227.73</td>\n",
              "    </tr>\n",
              "  </tbody>\n",
              "</table>\n",
              "<p>1036 rows × 30 columns</p>\n",
              "</div>"
            ],
            "text/plain": [
              "             0          1          2   ...         27         28         29\n",
              "0     202559.30  239239.55  267978.31  ...  221091.68  211563.97  250800.16\n",
              "1     239239.55  267978.31  245188.95  ...  211563.97  250800.16  279446.68\n",
              "2     267978.31  245188.95  239839.21  ...  250800.16  279446.68  290365.96\n",
              "3     245188.95  239839.21  252661.10  ...  279446.68  290365.96  272452.24\n",
              "4     239839.21  252661.10  247474.02  ...  290365.96  272452.24  298753.14\n",
              "...         ...        ...        ...  ...        ...        ...        ...\n",
              "1031  219412.84  213369.65  225173.48  ...  224717.63  196383.31  200034.39\n",
              "1032  213369.65  225173.48  220063.64  ...  196383.31  200034.39  259498.28\n",
              "1033  225173.48  220063.64  196870.65  ...  200034.39  259498.28  267662.75\n",
              "1034  220063.64  196870.65  177806.13  ...  259498.28  267662.75  216580.22\n",
              "1035  196870.65  177806.13  215332.61  ...  267662.75  216580.22  199227.73\n",
              "\n",
              "[1036 rows x 30 columns]"
            ]
          },
          "metadata": {
            "tags": []
          },
          "execution_count": 283
        }
      ]
    },
    {
      "cell_type": "code",
      "metadata": {
        "id": "Ivn4daoZ9nC0"
      },
      "source": [
        "#Normalising the dataset between 0 and 1\n",
        "\n",
        "x_scaler = MinMaxScaler()\n",
        "X_train = x_scaler.fit_transform(X_train)"
      ],
      "execution_count": 249,
      "outputs": []
    },
    {
      "cell_type": "code",
      "metadata": {
        "id": "__54pdUm9nIA"
      },
      "source": [
        "#Normalising the dataset\n",
        "\n",
        "y_scaler = MinMaxScaler()\n",
        "y_train = y_scaler.fit_transform(y_train)"
      ],
      "execution_count": 250,
      "outputs": []
    },
    {
      "cell_type": "code",
      "metadata": {
        "id": "Leh-wICt9nM2",
        "outputId": "adcf0f0a-2554-4840-ed5a-44767c81786c",
        "colab": {
          "base_uri": "https://localhost:8080/",
          "height": 204
        }
      },
      "source": [
        "pd.DataFrame(X_train).head()"
      ],
      "execution_count": 251,
      "outputs": [
        {
          "output_type": "execute_result",
          "data": {
            "text/html": [
              "<div>\n",
              "<style scoped>\n",
              "    .dataframe tbody tr th:only-of-type {\n",
              "        vertical-align: middle;\n",
              "    }\n",
              "\n",
              "    .dataframe tbody tr th {\n",
              "        vertical-align: top;\n",
              "    }\n",
              "\n",
              "    .dataframe thead th {\n",
              "        text-align: right;\n",
              "    }\n",
              "</style>\n",
              "<table border=\"1\" class=\"dataframe\">\n",
              "  <thead>\n",
              "    <tr style=\"text-align: right;\">\n",
              "      <th></th>\n",
              "      <th>0</th>\n",
              "      <th>1</th>\n",
              "      <th>2</th>\n",
              "      <th>3</th>\n",
              "      <th>4</th>\n",
              "      <th>5</th>\n",
              "      <th>6</th>\n",
              "    </tr>\n",
              "  </thead>\n",
              "  <tbody>\n",
              "    <tr>\n",
              "      <th>0</th>\n",
              "      <td>0.352364</td>\n",
              "      <td>0.181657</td>\n",
              "      <td>0.157073</td>\n",
              "      <td>0.323073</td>\n",
              "      <td>0.409862</td>\n",
              "      <td>0.374735</td>\n",
              "      <td>0.341330</td>\n",
              "    </tr>\n",
              "    <tr>\n",
              "      <th>1</th>\n",
              "      <td>0.181657</td>\n",
              "      <td>0.157073</td>\n",
              "      <td>0.323073</td>\n",
              "      <td>0.409862</td>\n",
              "      <td>0.374735</td>\n",
              "      <td>0.341330</td>\n",
              "      <td>0.334914</td>\n",
              "    </tr>\n",
              "    <tr>\n",
              "      <th>2</th>\n",
              "      <td>0.157073</td>\n",
              "      <td>0.323073</td>\n",
              "      <td>0.409862</td>\n",
              "      <td>0.374735</td>\n",
              "      <td>0.341330</td>\n",
              "      <td>0.334914</td>\n",
              "      <td>0.254930</td>\n",
              "    </tr>\n",
              "    <tr>\n",
              "      <th>3</th>\n",
              "      <td>0.323073</td>\n",
              "      <td>0.409862</td>\n",
              "      <td>0.374735</td>\n",
              "      <td>0.341330</td>\n",
              "      <td>0.334914</td>\n",
              "      <td>0.254930</td>\n",
              "      <td>0.349539</td>\n",
              "    </tr>\n",
              "    <tr>\n",
              "      <th>4</th>\n",
              "      <td>0.409862</td>\n",
              "      <td>0.374735</td>\n",
              "      <td>0.341330</td>\n",
              "      <td>0.334914</td>\n",
              "      <td>0.254930</td>\n",
              "      <td>0.349539</td>\n",
              "      <td>0.700692</td>\n",
              "    </tr>\n",
              "  </tbody>\n",
              "</table>\n",
              "</div>"
            ],
            "text/plain": [
              "          0         1         2         3         4         5         6\n",
              "0  0.352364  0.181657  0.157073  0.323073  0.409862  0.374735  0.341330\n",
              "1  0.181657  0.157073  0.323073  0.409862  0.374735  0.341330  0.334914\n",
              "2  0.157073  0.323073  0.409862  0.374735  0.341330  0.334914  0.254930\n",
              "3  0.323073  0.409862  0.374735  0.341330  0.334914  0.254930  0.349539\n",
              "4  0.409862  0.374735  0.341330  0.334914  0.254930  0.349539  0.700692"
            ]
          },
          "metadata": {
            "tags": []
          },
          "execution_count": 251
        }
      ]
    },
    {
      "cell_type": "code",
      "metadata": {
        "id": "mr4RHcFB9nRn"
      },
      "source": [
        "#converting to 3 dimension\n",
        "\n",
        "X_train = X_train.reshape(1082, 7, 1)"
      ],
      "execution_count": 252,
      "outputs": []
    },
    {
      "cell_type": "code",
      "metadata": {
        "id": "2YCW6LGl9nVQ",
        "outputId": "d1c29128-869f-4ccf-99e5-6bc167094d22",
        "colab": {
          "base_uri": "https://localhost:8080/",
          "height": 34
        }
      },
      "source": [
        "X_train.shape\n"
      ],
      "execution_count": 253,
      "outputs": [
        {
          "output_type": "execute_result",
          "data": {
            "text/plain": [
              "(1082, 7, 1)"
            ]
          },
          "metadata": {
            "tags": []
          },
          "execution_count": 253
        }
      ]
    },
    {
      "cell_type": "code",
      "metadata": {
        "id": "v_TPHNxa9nPU"
      },
      "source": [
        "#building sequential model using Keras\n",
        "\n",
        "reg = Sequential()\n",
        "reg.add(LSTM(units = 200, activation = 'relu', input_shape=(7,1)))\n",
        "reg.add(Dense(7))"
      ],
      "execution_count": 254,
      "outputs": []
    },
    {
      "cell_type": "code",
      "metadata": {
        "id": "ckFbtlx69nKv"
      },
      "source": [
        "#here we have considered loss as mean square error and optimizer as adam\n",
        "\n",
        "reg.compile(loss='mse', optimizer='adam')"
      ],
      "execution_count": 255,
      "outputs": []
    },
    {
      "cell_type": "code",
      "metadata": {
        "id": "GlBD94kc9nFh",
        "outputId": "ed62e41f-8e4f-438d-99c3-c13c8c6f4c1d",
        "colab": {
          "base_uri": "https://localhost:8080/",
          "height": 1000
        }
      },
      "source": [
        "#training the model\n",
        "\n",
        "reg.fit(X_train, y_train, epochs = 100)"
      ],
      "execution_count": 256,
      "outputs": [
        {
          "output_type": "stream",
          "text": [
            "Epoch 1/100\n",
            "34/34 [==============================] - 1s 19ms/step - loss: 0.0832\n",
            "Epoch 2/100\n",
            "34/34 [==============================] - 1s 19ms/step - loss: 0.0236\n",
            "Epoch 3/100\n",
            "34/34 [==============================] - 1s 19ms/step - loss: 0.0223\n",
            "Epoch 4/100\n",
            "34/34 [==============================] - 1s 19ms/step - loss: 0.0222\n",
            "Epoch 5/100\n",
            "34/34 [==============================] - 1s 18ms/step - loss: 0.0220\n",
            "Epoch 6/100\n",
            "34/34 [==============================] - 1s 18ms/step - loss: 0.0219\n",
            "Epoch 7/100\n",
            "34/34 [==============================] - 1s 19ms/step - loss: 0.0216\n",
            "Epoch 8/100\n",
            "34/34 [==============================] - 1s 17ms/step - loss: 0.0213\n",
            "Epoch 9/100\n",
            "34/34 [==============================] - 1s 18ms/step - loss: 0.0208\n",
            "Epoch 10/100\n",
            "34/34 [==============================] - 1s 18ms/step - loss: 0.0203\n",
            "Epoch 11/100\n",
            "34/34 [==============================] - 1s 18ms/step - loss: 0.0204\n",
            "Epoch 12/100\n",
            "34/34 [==============================] - 1s 18ms/step - loss: 0.0202\n",
            "Epoch 13/100\n",
            "34/34 [==============================] - 1s 19ms/step - loss: 0.0197\n",
            "Epoch 14/100\n",
            "34/34 [==============================] - 1s 18ms/step - loss: 0.0194\n",
            "Epoch 15/100\n",
            "34/34 [==============================] - 1s 19ms/step - loss: 0.0193\n",
            "Epoch 16/100\n",
            "34/34 [==============================] - 1s 17ms/step - loss: 0.0193\n",
            "Epoch 17/100\n",
            "34/34 [==============================] - 1s 19ms/step - loss: 0.0186\n",
            "Epoch 18/100\n",
            "34/34 [==============================] - 1s 19ms/step - loss: 0.0182\n",
            "Epoch 19/100\n",
            "34/34 [==============================] - 1s 19ms/step - loss: 0.0185\n",
            "Epoch 20/100\n",
            "34/34 [==============================] - 1s 19ms/step - loss: 0.0181\n",
            "Epoch 21/100\n",
            "34/34 [==============================] - 1s 19ms/step - loss: 0.0183\n",
            "Epoch 22/100\n",
            "34/34 [==============================] - 1s 19ms/step - loss: 0.0181\n",
            "Epoch 23/100\n",
            "34/34 [==============================] - 1s 19ms/step - loss: 0.0181\n",
            "Epoch 24/100\n",
            "34/34 [==============================] - 1s 18ms/step - loss: 0.0179\n",
            "Epoch 25/100\n",
            "34/34 [==============================] - 1s 17ms/step - loss: 0.0178\n",
            "Epoch 26/100\n",
            "34/34 [==============================] - 1s 19ms/step - loss: 0.0177\n",
            "Epoch 27/100\n",
            "34/34 [==============================] - 1s 18ms/step - loss: 0.0177\n",
            "Epoch 28/100\n",
            "34/34 [==============================] - 1s 18ms/step - loss: 0.0176\n",
            "Epoch 29/100\n",
            "34/34 [==============================] - 1s 18ms/step - loss: 0.0179\n",
            "Epoch 30/100\n",
            "34/34 [==============================] - 1s 18ms/step - loss: 0.0175\n",
            "Epoch 31/100\n",
            "34/34 [==============================] - 1s 17ms/step - loss: 0.0172\n",
            "Epoch 32/100\n",
            "34/34 [==============================] - 1s 17ms/step - loss: 0.0175\n",
            "Epoch 33/100\n",
            "34/34 [==============================] - 1s 18ms/step - loss: 0.0172\n",
            "Epoch 34/100\n",
            "34/34 [==============================] - 1s 17ms/step - loss: 0.0172\n",
            "Epoch 35/100\n",
            "34/34 [==============================] - 1s 18ms/step - loss: 0.0172\n",
            "Epoch 36/100\n",
            "34/34 [==============================] - 1s 18ms/step - loss: 0.0173\n",
            "Epoch 37/100\n",
            "34/34 [==============================] - 1s 21ms/step - loss: 0.0171\n",
            "Epoch 38/100\n",
            "34/34 [==============================] - 1s 19ms/step - loss: 0.0169\n",
            "Epoch 39/100\n",
            "34/34 [==============================] - 1s 18ms/step - loss: 0.0169\n",
            "Epoch 40/100\n",
            "34/34 [==============================] - 1s 19ms/step - loss: 0.0168\n",
            "Epoch 41/100\n",
            "34/34 [==============================] - 1s 18ms/step - loss: 0.0167\n",
            "Epoch 42/100\n",
            "34/34 [==============================] - 1s 18ms/step - loss: 0.0167\n",
            "Epoch 43/100\n",
            "34/34 [==============================] - 1s 18ms/step - loss: 0.0166\n",
            "Epoch 44/100\n",
            "34/34 [==============================] - 1s 18ms/step - loss: 0.0166\n",
            "Epoch 45/100\n",
            "34/34 [==============================] - 1s 20ms/step - loss: 0.0165\n",
            "Epoch 46/100\n",
            "34/34 [==============================] - 1s 19ms/step - loss: 0.0166\n",
            "Epoch 47/100\n",
            "34/34 [==============================] - 1s 18ms/step - loss: 0.0163\n",
            "Epoch 48/100\n",
            "34/34 [==============================] - 1s 18ms/step - loss: 0.0162\n",
            "Epoch 49/100\n",
            "34/34 [==============================] - 1s 18ms/step - loss: 0.0164\n",
            "Epoch 50/100\n",
            "34/34 [==============================] - 1s 18ms/step - loss: 0.0161\n",
            "Epoch 51/100\n",
            "34/34 [==============================] - 1s 18ms/step - loss: 0.0160\n",
            "Epoch 52/100\n",
            "34/34 [==============================] - 1s 19ms/step - loss: 0.0160\n",
            "Epoch 53/100\n",
            "34/34 [==============================] - 1s 18ms/step - loss: 0.0161\n",
            "Epoch 54/100\n",
            "34/34 [==============================] - 1s 18ms/step - loss: 0.0162\n",
            "Epoch 55/100\n",
            "34/34 [==============================] - 1s 18ms/step - loss: 0.0159\n",
            "Epoch 56/100\n",
            "34/34 [==============================] - 1s 18ms/step - loss: 0.0158\n",
            "Epoch 57/100\n",
            "34/34 [==============================] - 1s 18ms/step - loss: 0.0157\n",
            "Epoch 58/100\n",
            "34/34 [==============================] - 1s 18ms/step - loss: 0.0159\n",
            "Epoch 59/100\n",
            "34/34 [==============================] - 1s 18ms/step - loss: 0.0163\n",
            "Epoch 60/100\n",
            "34/34 [==============================] - 1s 19ms/step - loss: 0.0156\n",
            "Epoch 61/100\n",
            "34/34 [==============================] - 1s 19ms/step - loss: 0.0156\n",
            "Epoch 62/100\n",
            "34/34 [==============================] - 1s 19ms/step - loss: 0.0156\n",
            "Epoch 63/100\n",
            "34/34 [==============================] - 1s 22ms/step - loss: 0.0157\n",
            "Epoch 64/100\n",
            "34/34 [==============================] - 1s 21ms/step - loss: 0.0155\n",
            "Epoch 65/100\n",
            "34/34 [==============================] - 1s 19ms/step - loss: 0.0154\n",
            "Epoch 66/100\n",
            "34/34 [==============================] - 1s 20ms/step - loss: 0.0153\n",
            "Epoch 67/100\n",
            "34/34 [==============================] - 1s 20ms/step - loss: 0.0156\n",
            "Epoch 68/100\n",
            "34/34 [==============================] - 1s 22ms/step - loss: 0.0154\n",
            "Epoch 69/100\n",
            "34/34 [==============================] - 1s 20ms/step - loss: 0.0152\n",
            "Epoch 70/100\n",
            "34/34 [==============================] - 1s 20ms/step - loss: 0.0150\n",
            "Epoch 71/100\n",
            "34/34 [==============================] - 1s 21ms/step - loss: 0.0152\n",
            "Epoch 72/100\n",
            "34/34 [==============================] - 1s 21ms/step - loss: 0.0153\n",
            "Epoch 73/100\n",
            "34/34 [==============================] - 1s 22ms/step - loss: 0.0151\n",
            "Epoch 74/100\n",
            "34/34 [==============================] - 1s 21ms/step - loss: 0.0151\n",
            "Epoch 75/100\n",
            "34/34 [==============================] - 1s 21ms/step - loss: 0.0150\n",
            "Epoch 76/100\n",
            "34/34 [==============================] - 1s 22ms/step - loss: 0.0153\n",
            "Epoch 77/100\n",
            "34/34 [==============================] - 1s 21ms/step - loss: 0.0157\n",
            "Epoch 78/100\n",
            "34/34 [==============================] - 1s 18ms/step - loss: 0.0149\n",
            "Epoch 79/100\n",
            "34/34 [==============================] - 1s 18ms/step - loss: 0.0149\n",
            "Epoch 80/100\n",
            "34/34 [==============================] - 1s 18ms/step - loss: 0.0150\n",
            "Epoch 81/100\n",
            "34/34 [==============================] - 1s 18ms/step - loss: 0.0148\n",
            "Epoch 82/100\n",
            "34/34 [==============================] - 1s 18ms/step - loss: 0.0148\n",
            "Epoch 83/100\n",
            "34/34 [==============================] - 1s 18ms/step - loss: 0.0149\n",
            "Epoch 84/100\n",
            "34/34 [==============================] - 1s 19ms/step - loss: 0.0147\n",
            "Epoch 85/100\n",
            "34/34 [==============================] - 1s 18ms/step - loss: 0.0147\n",
            "Epoch 86/100\n",
            "34/34 [==============================] - 1s 17ms/step - loss: 0.0147\n",
            "Epoch 87/100\n",
            "34/34 [==============================] - 1s 18ms/step - loss: 0.0145\n",
            "Epoch 88/100\n",
            "34/34 [==============================] - 1s 18ms/step - loss: 0.0148\n",
            "Epoch 89/100\n",
            "34/34 [==============================] - 1s 18ms/step - loss: 0.0149\n",
            "Epoch 90/100\n",
            "34/34 [==============================] - 1s 20ms/step - loss: 0.0148\n",
            "Epoch 91/100\n",
            "34/34 [==============================] - 1s 18ms/step - loss: 0.0146\n",
            "Epoch 92/100\n",
            "34/34 [==============================] - 1s 19ms/step - loss: 0.0145\n",
            "Epoch 93/100\n",
            "34/34 [==============================] - 1s 19ms/step - loss: 0.0147\n",
            "Epoch 94/100\n",
            "34/34 [==============================] - 1s 18ms/step - loss: 0.0144\n",
            "Epoch 95/100\n",
            "34/34 [==============================] - 1s 18ms/step - loss: 0.0144\n",
            "Epoch 96/100\n",
            "34/34 [==============================] - 1s 18ms/step - loss: 0.0144\n",
            "Epoch 97/100\n",
            "34/34 [==============================] - 1s 18ms/step - loss: 0.0143\n",
            "Epoch 98/100\n",
            "34/34 [==============================] - 1s 20ms/step - loss: 0.0145\n",
            "Epoch 99/100\n",
            "34/34 [==============================] - 1s 18ms/step - loss: 0.0142\n",
            "Epoch 100/100\n",
            "34/34 [==============================] - 1s 18ms/step - loss: 0.0143\n"
          ],
          "name": "stdout"
        },
        {
          "output_type": "execute_result",
          "data": {
            "text/plain": [
              "<tensorflow.python.keras.callbacks.History at 0x7fa7de0d4240>"
            ]
          },
          "metadata": {
            "tags": []
          },
          "execution_count": 256
        }
      ]
    },
    {
      "cell_type": "code",
      "metadata": {
        "id": "zTzTSPWa9nAq"
      },
      "source": [
        "#testing dataset\n",
        "\n",
        "data_test = np.array(data_test)"
      ],
      "execution_count": 257,
      "outputs": []
    },
    {
      "cell_type": "code",
      "metadata": {
        "id": "Dle41OPc9m8R"
      },
      "source": [
        "#here we are splitting the data weekly wise(7days)\n",
        "\n",
        "X_test, y_test = [], []\n",
        "\n",
        "for i in range(7, len(data_test)-7):\n",
        "    X_test.append(data_test[i-7:i])\n",
        "    y_test.append(data_test[i:i+7])"
      ],
      "execution_count": 258,
      "outputs": []
    },
    {
      "cell_type": "code",
      "metadata": {
        "id": "bQgEmVbSAETs"
      },
      "source": [
        "X_test, y_test = np.array(X_test), np.array(y_test)\n"
      ],
      "execution_count": 259,
      "outputs": []
    },
    {
      "cell_type": "code",
      "metadata": {
        "id": "fRNJziueAEYo"
      },
      "source": [
        "X_test = x_scaler.transform(X_test)\n",
        "y_test = y_scaler.transform(y_test)"
      ],
      "execution_count": 260,
      "outputs": []
    },
    {
      "cell_type": "code",
      "metadata": {
        "id": "a-wsvuYKAEbV",
        "outputId": "a9c086d1-2988-439f-a04e-7cd6d831905b",
        "colab": {
          "base_uri": "https://localhost:8080/",
          "height": 34
        }
      },
      "source": [
        "X_test.shape"
      ],
      "execution_count": 261,
      "outputs": [
        {
          "output_type": "execute_result",
          "data": {
            "text/plain": [
              "(351, 7)"
            ]
          },
          "metadata": {
            "tags": []
          },
          "execution_count": 261
        }
      ]
    },
    {
      "cell_type": "code",
      "metadata": {
        "id": "xgcnDNqfAEgk"
      },
      "source": [
        "#converting to 3 dimension\n",
        "\n",
        "X_test = X_test.reshape(351,7,1)"
      ],
      "execution_count": 262,
      "outputs": []
    },
    {
      "cell_type": "code",
      "metadata": {
        "id": "_otXPwALAEl3",
        "outputId": "5d2b759e-4d04-47cc-d4d7-b9b9aad0ff53",
        "colab": {
          "base_uri": "https://localhost:8080/",
          "height": 34
        }
      },
      "source": [
        "X_test.shape"
      ],
      "execution_count": 263,
      "outputs": [
        {
          "output_type": "execute_result",
          "data": {
            "text/plain": [
              "(351, 7, 1)"
            ]
          },
          "metadata": {
            "tags": []
          },
          "execution_count": 263
        }
      ]
    },
    {
      "cell_type": "code",
      "metadata": {
        "id": "sxHG_alFAEkY",
        "outputId": "d262d991-004f-43ef-b0b0-74620f592aad",
        "colab": {
          "base_uri": "https://localhost:8080/",
          "height": 54
        }
      },
      "source": [
        "y_pred = reg.predict(X_test)"
      ],
      "execution_count": 264,
      "outputs": [
        {
          "output_type": "stream",
          "text": [
            "WARNING:tensorflow:5 out of the last 15 calls to <function Model.make_predict_function.<locals>.predict_function at 0x7fa7dc2cd6a8> triggered tf.function retracing. Tracing is expensive and the excessive number of tracings could be due to (1) creating @tf.function repeatedly in a loop, (2) passing tensors with different shapes, (3) passing Python objects instead of tensors. For (1), please define your @tf.function outside of the loop. For (2), @tf.function has experimental_relax_shapes=True option that relaxes argument shapes that can avoid unnecessary retracing. For (3), please refer to https://www.tensorflow.org/tutorials/customization/performance#python_or_tensor_args and https://www.tensorflow.org/api_docs/python/tf/function for  more details.\n"
          ],
          "name": "stdout"
        }
      ]
    },
    {
      "cell_type": "code",
      "metadata": {
        "id": "EKWgPwFIAT8K",
        "outputId": "edc71896-879b-4e09-ba9f-581cf788c842",
        "colab": {
          "base_uri": "https://localhost:8080/",
          "height": 238
        }
      },
      "source": [
        "y_pred"
      ],
      "execution_count": 265,
      "outputs": [
        {
          "output_type": "execute_result",
          "data": {
            "text/plain": [
              "array([[0.3745624 , 0.3611636 , 0.37715012, ..., 0.24174231, 0.22721352,\n",
              "        0.3288913 ],\n",
              "       [0.37070298, 0.39411554, 0.34816134, ..., 0.21722972, 0.3456571 ,\n",
              "        0.39009857],\n",
              "       [0.35154685, 0.3637746 , 0.24854937, ..., 0.3574006 , 0.44291955,\n",
              "        0.39021516],\n",
              "       ...,\n",
              "       [0.2153214 , 0.41793233, 0.5459913 , ..., 0.5703384 , 0.48120838,\n",
              "        0.28899705],\n",
              "       [0.31281775, 0.51425105, 0.5319567 , ..., 0.4775476 , 0.26944155,\n",
              "        0.18287762],\n",
              "       [0.42969683, 0.48464307, 0.525732  , ..., 0.30766287, 0.20849267,\n",
              "        0.35214484]], dtype=float32)"
            ]
          },
          "metadata": {
            "tags": []
          },
          "execution_count": 265
        }
      ]
    },
    {
      "cell_type": "code",
      "metadata": {
        "id": "M_49yU3KAUBQ"
      },
      "source": [
        "y_true = y_scaler.inverse_transform(y_test)"
      ],
      "execution_count": 266,
      "outputs": []
    },
    {
      "cell_type": "code",
      "metadata": {
        "id": "cAwLVJBPAUET",
        "outputId": "9591bcf2-4956-4d4c-c760-40f53d991710",
        "colab": {
          "base_uri": "https://localhost:8080/",
          "height": 238
        }
      },
      "source": [
        "y_true"
      ],
      "execution_count": 267,
      "outputs": [
        {
          "output_type": "execute_result",
          "data": {
            "text/plain": [
              "array([[226892.2 , 210966.87, 216157.39, ..., 217257.92, 203706.48,\n",
              "        294141.07],\n",
              "       [210966.87, 216157.39, 239457.27, ..., 203706.48, 294141.07,\n",
              "        304992.49],\n",
              "       [216157.39, 239457.27, 217257.92, ..., 294141.07, 304992.49,\n",
              "        273943.51],\n",
              "       ...,\n",
              "       [180291.23, 203636.05, 204337.86, ..., 192241.05, 214512.13,\n",
              "        227043.37],\n",
              "       [203636.05, 204337.86, 196625.49, ..., 214512.13, 227043.37,\n",
              "        236587.05],\n",
              "       [204337.86, 196625.49, 192241.05, ..., 227043.37, 236587.05,\n",
              "        280820.25]])"
            ]
          },
          "metadata": {
            "tags": []
          },
          "execution_count": 267
        }
      ]
    },
    {
      "cell_type": "code",
      "metadata": {
        "id": "AxPfS09YAT--"
      },
      "source": [
        "def evaluate_model(y_true, y_predicted):\n",
        "    scores = []\n",
        "    \n",
        "    #calculate scores for each day\n",
        "    for i in range(y_true.shape[1]):\n",
        "        mse = mean_squared_error(y_true[:, i], y_predicted[:, i])\n",
        "        rmse = np.sqrt(mse)\n",
        "        scores.append(rmse)\n",
        "    \n",
        "    #calculate score for whole prediction\n",
        "    total_score = 0\n",
        "    for row in range(y_true.shape[0]):\n",
        "        for col in range(y_predicted.shape[1]):\n",
        "            total_score = total_score + (y_true[row, col] - y_predicted[row, col])**2\n",
        "    total_score = np.sqrt(total_score/(y_true.shape[0]*y_predicted.shape[1]))\n",
        "    \n",
        "    return total_score, scores"
      ],
      "execution_count": 268,
      "outputs": []
    },
    {
      "cell_type": "code",
      "metadata": {
        "id": "dtcad4aIAT6V",
        "outputId": "77aa459c-c1b6-4902-d619-db9811eeb0a7",
        "colab": {
          "base_uri": "https://localhost:8080/",
          "height": 153
        }
      },
      "source": [
        "evaluate_model(y_true, y_pred)"
      ],
      "execution_count": 269,
      "outputs": [
        {
          "output_type": "execute_result",
          "data": {
            "text/plain": [
              "(237941.82711540966,\n",
              " [238010.18171506547,\n",
              "  237933.4678228054,\n",
              "  237888.2608554835,\n",
              "  237884.02129429777,\n",
              "  237849.35039723825,\n",
              "  237901.89551058642,\n",
              "  238125.49698635945])"
            ]
          },
          "metadata": {
            "tags": []
          },
          "execution_count": 269
        }
      ]
    },
    {
      "cell_type": "code",
      "metadata": {
        "id": "6TLni04MCt1Y",
        "outputId": "cb336b33-0b23-428b-ce6e-7421dd356d36",
        "colab": {
          "base_uri": "https://localhost:8080/",
          "height": 238
        }
      },
      "source": [
        "y_true"
      ],
      "execution_count": 277,
      "outputs": [
        {
          "output_type": "execute_result",
          "data": {
            "text/plain": [
              "array([[226892.2 , 210966.87, 216157.39, ..., 217257.92, 203706.48,\n",
              "        294141.07],\n",
              "       [210966.87, 216157.39, 239457.27, ..., 203706.48, 294141.07,\n",
              "        304992.49],\n",
              "       [216157.39, 239457.27, 217257.92, ..., 294141.07, 304992.49,\n",
              "        273943.51],\n",
              "       ...,\n",
              "       [180291.23, 203636.05, 204337.86, ..., 192241.05, 214512.13,\n",
              "        227043.37],\n",
              "       [203636.05, 204337.86, 196625.49, ..., 214512.13, 227043.37,\n",
              "        236587.05],\n",
              "       [204337.86, 196625.49, 192241.05, ..., 227043.37, 236587.05,\n",
              "        280820.25]])"
            ]
          },
          "metadata": {
            "tags": []
          },
          "execution_count": 277
        }
      ]
    },
    {
      "cell_type": "code",
      "metadata": {
        "id": "NB3AvvS6Ct7-",
        "outputId": "fcd4b921-e28a-4efb-f022-5ac9663f6112",
        "colab": {
          "base_uri": "https://localhost:8080/",
          "height": 238
        }
      },
      "source": [
        "y_pred"
      ],
      "execution_count": 278,
      "outputs": [
        {
          "output_type": "execute_result",
          "data": {
            "text/plain": [
              "array([[0.3745624 , 0.3611636 , 0.37715012, ..., 0.24174231, 0.22721352,\n",
              "        0.3288913 ],\n",
              "       [0.37070298, 0.39411554, 0.34816134, ..., 0.21722972, 0.3456571 ,\n",
              "        0.39009857],\n",
              "       [0.35154685, 0.3637746 , 0.24854937, ..., 0.3574006 , 0.44291955,\n",
              "        0.39021516],\n",
              "       ...,\n",
              "       [0.2153214 , 0.41793233, 0.5459913 , ..., 0.5703384 , 0.48120838,\n",
              "        0.28899705],\n",
              "       [0.31281775, 0.51425105, 0.5319567 , ..., 0.4775476 , 0.26944155,\n",
              "        0.18287762],\n",
              "       [0.42969683, 0.48464307, 0.525732  , ..., 0.30766287, 0.20849267,\n",
              "        0.35214484]], dtype=float32)"
            ]
          },
          "metadata": {
            "tags": []
          },
          "execution_count": 278
        }
      ]
    },
    {
      "cell_type": "code",
      "metadata": {
        "id": "QbHg2kqOCt6C"
      },
      "source": [
        ""
      ],
      "execution_count": null,
      "outputs": []
    },
    {
      "cell_type": "code",
      "metadata": {
        "id": "bNPXMd8tCt4L"
      },
      "source": [
        ""
      ],
      "execution_count": null,
      "outputs": []
    },
    {
      "cell_type": "code",
      "metadata": {
        "id": "D6chqOSQCtzV"
      },
      "source": [
        ""
      ],
      "execution_count": null,
      "outputs": []
    },
    {
      "cell_type": "code",
      "metadata": {
        "id": "FCmLFaJaCtxS"
      },
      "source": [
        ""
      ],
      "execution_count": null,
      "outputs": []
    },
    {
      "cell_type": "code",
      "metadata": {
        "id": "Ei2vbKstCtu-"
      },
      "source": [
        ""
      ],
      "execution_count": null,
      "outputs": []
    },
    {
      "cell_type": "code",
      "metadata": {
        "id": "IvimcSRdCttK"
      },
      "source": [
        ""
      ],
      "execution_count": null,
      "outputs": []
    },
    {
      "cell_type": "code",
      "metadata": {
        "id": "mohPgkxOB6gD",
        "outputId": "87d3d782-d7fd-45f4-cb0c-469fa8f7b628",
        "colab": {
          "base_uri": "https://localhost:8080/",
          "height": 341
        }
      },
      "source": [
        "data = {'Original':y_true, 'Predicted':y_pred}\n",
        "data = pd.DataFrame(data, index=[0])"
      ],
      "execution_count": 276,
      "outputs": [
        {
          "output_type": "error",
          "ename": "Exception",
          "evalue": "ignored",
          "traceback": [
            "\u001b[0;31m---------------------------------------------------------------------------\u001b[0m",
            "\u001b[0;31mException\u001b[0m                                 Traceback (most recent call last)",
            "\u001b[0;32m<ipython-input-276-86326c932ae5>\u001b[0m in \u001b[0;36m<module>\u001b[0;34m()\u001b[0m\n\u001b[1;32m      1\u001b[0m \u001b[0mdata\u001b[0m \u001b[0;34m=\u001b[0m \u001b[0;34m{\u001b[0m\u001b[0;34m'Original'\u001b[0m\u001b[0;34m:\u001b[0m\u001b[0my_true\u001b[0m\u001b[0;34m,\u001b[0m \u001b[0;34m'Predicted'\u001b[0m\u001b[0;34m:\u001b[0m\u001b[0my_pred\u001b[0m\u001b[0;34m}\u001b[0m\u001b[0;34m\u001b[0m\u001b[0;34m\u001b[0m\u001b[0m\n\u001b[0;32m----> 2\u001b[0;31m \u001b[0mdata\u001b[0m \u001b[0;34m=\u001b[0m \u001b[0mpd\u001b[0m\u001b[0;34m.\u001b[0m\u001b[0mDataFrame\u001b[0m\u001b[0;34m(\u001b[0m\u001b[0mdata\u001b[0m\u001b[0;34m,\u001b[0m \u001b[0mindex\u001b[0m\u001b[0;34m=\u001b[0m\u001b[0;34m[\u001b[0m\u001b[0;36m0\u001b[0m\u001b[0;34m]\u001b[0m\u001b[0;34m)\u001b[0m\u001b[0;34m\u001b[0m\u001b[0;34m\u001b[0m\u001b[0m\n\u001b[0m",
            "\u001b[0;32m/usr/local/lib/python3.6/dist-packages/pandas/core/frame.py\u001b[0m in \u001b[0;36m__init__\u001b[0;34m(self, data, index, columns, dtype, copy)\u001b[0m\n\u001b[1;32m    466\u001b[0m \u001b[0;34m\u001b[0m\u001b[0m\n\u001b[1;32m    467\u001b[0m         \u001b[0;32melif\u001b[0m \u001b[0misinstance\u001b[0m\u001b[0;34m(\u001b[0m\u001b[0mdata\u001b[0m\u001b[0;34m,\u001b[0m \u001b[0mdict\u001b[0m\u001b[0;34m)\u001b[0m\u001b[0;34m:\u001b[0m\u001b[0;34m\u001b[0m\u001b[0;34m\u001b[0m\u001b[0m\n\u001b[0;32m--> 468\u001b[0;31m             \u001b[0mmgr\u001b[0m \u001b[0;34m=\u001b[0m \u001b[0minit_dict\u001b[0m\u001b[0;34m(\u001b[0m\u001b[0mdata\u001b[0m\u001b[0;34m,\u001b[0m \u001b[0mindex\u001b[0m\u001b[0;34m,\u001b[0m \u001b[0mcolumns\u001b[0m\u001b[0;34m,\u001b[0m \u001b[0mdtype\u001b[0m\u001b[0;34m=\u001b[0m\u001b[0mdtype\u001b[0m\u001b[0;34m)\u001b[0m\u001b[0;34m\u001b[0m\u001b[0;34m\u001b[0m\u001b[0m\n\u001b[0m\u001b[1;32m    469\u001b[0m         \u001b[0;32melif\u001b[0m \u001b[0misinstance\u001b[0m\u001b[0;34m(\u001b[0m\u001b[0mdata\u001b[0m\u001b[0;34m,\u001b[0m \u001b[0mma\u001b[0m\u001b[0;34m.\u001b[0m\u001b[0mMaskedArray\u001b[0m\u001b[0;34m)\u001b[0m\u001b[0;34m:\u001b[0m\u001b[0;34m\u001b[0m\u001b[0;34m\u001b[0m\u001b[0m\n\u001b[1;32m    470\u001b[0m             \u001b[0;32mimport\u001b[0m \u001b[0mnumpy\u001b[0m\u001b[0;34m.\u001b[0m\u001b[0mma\u001b[0m\u001b[0;34m.\u001b[0m\u001b[0mmrecords\u001b[0m \u001b[0;32mas\u001b[0m \u001b[0mmrecords\u001b[0m\u001b[0;34m\u001b[0m\u001b[0;34m\u001b[0m\u001b[0m\n",
            "\u001b[0;32m/usr/local/lib/python3.6/dist-packages/pandas/core/internals/construction.py\u001b[0m in \u001b[0;36minit_dict\u001b[0;34m(data, index, columns, dtype)\u001b[0m\n\u001b[1;32m    281\u001b[0m             \u001b[0marr\u001b[0m \u001b[0;32mif\u001b[0m \u001b[0;32mnot\u001b[0m \u001b[0mis_datetime64tz_dtype\u001b[0m\u001b[0;34m(\u001b[0m\u001b[0marr\u001b[0m\u001b[0;34m)\u001b[0m \u001b[0;32melse\u001b[0m \u001b[0marr\u001b[0m\u001b[0;34m.\u001b[0m\u001b[0mcopy\u001b[0m\u001b[0;34m(\u001b[0m\u001b[0;34m)\u001b[0m \u001b[0;32mfor\u001b[0m \u001b[0marr\u001b[0m \u001b[0;32min\u001b[0m \u001b[0marrays\u001b[0m\u001b[0;34m\u001b[0m\u001b[0;34m\u001b[0m\u001b[0m\n\u001b[1;32m    282\u001b[0m         ]\n\u001b[0;32m--> 283\u001b[0;31m     \u001b[0;32mreturn\u001b[0m \u001b[0marrays_to_mgr\u001b[0m\u001b[0;34m(\u001b[0m\u001b[0marrays\u001b[0m\u001b[0;34m,\u001b[0m \u001b[0mdata_names\u001b[0m\u001b[0;34m,\u001b[0m \u001b[0mindex\u001b[0m\u001b[0;34m,\u001b[0m \u001b[0mcolumns\u001b[0m\u001b[0;34m,\u001b[0m \u001b[0mdtype\u001b[0m\u001b[0;34m=\u001b[0m\u001b[0mdtype\u001b[0m\u001b[0;34m)\u001b[0m\u001b[0;34m\u001b[0m\u001b[0;34m\u001b[0m\u001b[0m\n\u001b[0m\u001b[1;32m    284\u001b[0m \u001b[0;34m\u001b[0m\u001b[0m\n\u001b[1;32m    285\u001b[0m \u001b[0;34m\u001b[0m\u001b[0m\n",
            "\u001b[0;32m/usr/local/lib/python3.6/dist-packages/pandas/core/internals/construction.py\u001b[0m in \u001b[0;36marrays_to_mgr\u001b[0;34m(arrays, arr_names, index, columns, dtype, verify_integrity)\u001b[0m\n\u001b[1;32m     81\u001b[0m \u001b[0;34m\u001b[0m\u001b[0m\n\u001b[1;32m     82\u001b[0m         \u001b[0;31m# don't force copy because getting jammed in an ndarray anyway\u001b[0m\u001b[0;34m\u001b[0m\u001b[0;34m\u001b[0m\u001b[0;34m\u001b[0m\u001b[0m\n\u001b[0;32m---> 83\u001b[0;31m         \u001b[0marrays\u001b[0m \u001b[0;34m=\u001b[0m \u001b[0m_homogenize\u001b[0m\u001b[0;34m(\u001b[0m\u001b[0marrays\u001b[0m\u001b[0;34m,\u001b[0m \u001b[0mindex\u001b[0m\u001b[0;34m,\u001b[0m \u001b[0mdtype\u001b[0m\u001b[0;34m)\u001b[0m\u001b[0;34m\u001b[0m\u001b[0;34m\u001b[0m\u001b[0m\n\u001b[0m\u001b[1;32m     84\u001b[0m \u001b[0;34m\u001b[0m\u001b[0m\n\u001b[1;32m     85\u001b[0m         \u001b[0mcolumns\u001b[0m \u001b[0;34m=\u001b[0m \u001b[0mensure_index\u001b[0m\u001b[0;34m(\u001b[0m\u001b[0mcolumns\u001b[0m\u001b[0;34m)\u001b[0m\u001b[0;34m\u001b[0m\u001b[0;34m\u001b[0m\u001b[0m\n",
            "\u001b[0;32m/usr/local/lib/python3.6/dist-packages/pandas/core/internals/construction.py\u001b[0m in \u001b[0;36m_homogenize\u001b[0;34m(data, index, dtype)\u001b[0m\n\u001b[1;32m    350\u001b[0m                 \u001b[0mval\u001b[0m \u001b[0;34m=\u001b[0m \u001b[0mlib\u001b[0m\u001b[0;34m.\u001b[0m\u001b[0mfast_multiget\u001b[0m\u001b[0;34m(\u001b[0m\u001b[0mval\u001b[0m\u001b[0;34m,\u001b[0m \u001b[0moindex\u001b[0m\u001b[0;34m.\u001b[0m\u001b[0m_values\u001b[0m\u001b[0;34m,\u001b[0m \u001b[0mdefault\u001b[0m\u001b[0;34m=\u001b[0m\u001b[0mnp\u001b[0m\u001b[0;34m.\u001b[0m\u001b[0mnan\u001b[0m\u001b[0;34m)\u001b[0m\u001b[0;34m\u001b[0m\u001b[0;34m\u001b[0m\u001b[0m\n\u001b[1;32m    351\u001b[0m             val = sanitize_array(\n\u001b[0;32m--> 352\u001b[0;31m                 \u001b[0mval\u001b[0m\u001b[0;34m,\u001b[0m \u001b[0mindex\u001b[0m\u001b[0;34m,\u001b[0m \u001b[0mdtype\u001b[0m\u001b[0;34m=\u001b[0m\u001b[0mdtype\u001b[0m\u001b[0;34m,\u001b[0m \u001b[0mcopy\u001b[0m\u001b[0;34m=\u001b[0m\u001b[0;32mFalse\u001b[0m\u001b[0;34m,\u001b[0m \u001b[0mraise_cast_failure\u001b[0m\u001b[0;34m=\u001b[0m\u001b[0;32mFalse\u001b[0m\u001b[0;34m\u001b[0m\u001b[0;34m\u001b[0m\u001b[0m\n\u001b[0m\u001b[1;32m    353\u001b[0m             )\n\u001b[1;32m    354\u001b[0m \u001b[0;34m\u001b[0m\u001b[0m\n",
            "\u001b[0;32m/usr/local/lib/python3.6/dist-packages/pandas/core/construction.py\u001b[0m in \u001b[0;36msanitize_array\u001b[0;34m(data, index, dtype, copy, raise_cast_failure)\u001b[0m\n\u001b[1;32m    494\u001b[0m     \u001b[0;32melif\u001b[0m \u001b[0msubarr\u001b[0m\u001b[0;34m.\u001b[0m\u001b[0mndim\u001b[0m \u001b[0;34m>\u001b[0m \u001b[0;36m1\u001b[0m\u001b[0;34m:\u001b[0m\u001b[0;34m\u001b[0m\u001b[0;34m\u001b[0m\u001b[0m\n\u001b[1;32m    495\u001b[0m         \u001b[0;32mif\u001b[0m \u001b[0misinstance\u001b[0m\u001b[0;34m(\u001b[0m\u001b[0mdata\u001b[0m\u001b[0;34m,\u001b[0m \u001b[0mnp\u001b[0m\u001b[0;34m.\u001b[0m\u001b[0mndarray\u001b[0m\u001b[0;34m)\u001b[0m\u001b[0;34m:\u001b[0m\u001b[0;34m\u001b[0m\u001b[0;34m\u001b[0m\u001b[0m\n\u001b[0;32m--> 496\u001b[0;31m             \u001b[0;32mraise\u001b[0m \u001b[0mException\u001b[0m\u001b[0;34m(\u001b[0m\u001b[0;34m\"Data must be 1-dimensional\"\u001b[0m\u001b[0;34m)\u001b[0m\u001b[0;34m\u001b[0m\u001b[0;34m\u001b[0m\u001b[0m\n\u001b[0m\u001b[1;32m    497\u001b[0m         \u001b[0;32melse\u001b[0m\u001b[0;34m:\u001b[0m\u001b[0;34m\u001b[0m\u001b[0;34m\u001b[0m\u001b[0m\n\u001b[1;32m    498\u001b[0m             \u001b[0msubarr\u001b[0m \u001b[0;34m=\u001b[0m \u001b[0mcom\u001b[0m\u001b[0;34m.\u001b[0m\u001b[0masarray_tuplesafe\u001b[0m\u001b[0;34m(\u001b[0m\u001b[0mdata\u001b[0m\u001b[0;34m,\u001b[0m \u001b[0mdtype\u001b[0m\u001b[0;34m=\u001b[0m\u001b[0mdtype\u001b[0m\u001b[0;34m)\u001b[0m\u001b[0;34m\u001b[0m\u001b[0;34m\u001b[0m\u001b[0m\n",
            "\u001b[0;31mException\u001b[0m: Data must be 1-dimensional"
          ]
        }
      ]
    },
    {
      "cell_type": "code",
      "metadata": {
        "id": "UI4JWVh5CRp6"
      },
      "source": [
        "data"
      ],
      "execution_count": null,
      "outputs": []
    },
    {
      "cell_type": "code",
      "metadata": {
        "id": "1y4TyKMdAT3K",
        "outputId": "18a4f868-8592-4858-be30-479f15622e35",
        "colab": {
          "base_uri": "https://localhost:8080/",
          "height": 34
        }
      },
      "source": [
        "\n",
        "np.std(y_true[0])"
      ],
      "execution_count": 270,
      "outputs": [
        {
          "output_type": "execute_result",
          "data": {
            "text/plain": [
              "28335.9300978152"
            ]
          },
          "metadata": {
            "tags": []
          },
          "execution_count": 270
        }
      ]
    },
    {
      "cell_type": "code",
      "metadata": {
        "id": "3ZA29QjjAEWt",
        "outputId": "d7af66c9-cfd5-4c42-8eaf-fe5b17fdf850",
        "colab": {
          "base_uri": "https://localhost:8080/",
          "height": 164
        }
      },
      "source": [
        "data[['y_true','y_pred']].plot()"
      ],
      "execution_count": 272,
      "outputs": [
        {
          "output_type": "error",
          "ename": "TypeError",
          "evalue": "ignored",
          "traceback": [
            "\u001b[0;31m---------------------------------------------------------------------------\u001b[0m",
            "\u001b[0;31mTypeError\u001b[0m                                 Traceback (most recent call last)",
            "\u001b[0;32m<ipython-input-272-1db046b731ec>\u001b[0m in \u001b[0;36m<module>\u001b[0;34m()\u001b[0m\n\u001b[0;32m----> 1\u001b[0;31m \u001b[0mdata\u001b[0m\u001b[0;34m[\u001b[0m\u001b[0;34m[\u001b[0m\u001b[0;34m'y_true'\u001b[0m\u001b[0;34m,\u001b[0m\u001b[0;34m'y_pred'\u001b[0m\u001b[0;34m]\u001b[0m\u001b[0;34m]\u001b[0m\u001b[0;34m.\u001b[0m\u001b[0mplot\u001b[0m\u001b[0;34m(\u001b[0m\u001b[0;34m)\u001b[0m\u001b[0;34m\u001b[0m\u001b[0;34m\u001b[0m\u001b[0m\n\u001b[0m",
            "\u001b[0;31mTypeError\u001b[0m: unhashable type: 'list'"
          ]
        }
      ]
    }
  ]
}