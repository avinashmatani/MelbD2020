{
 "cells": [
  {
   "cell_type": "code",
   "execution_count": 1,
   "metadata": {},
   "outputs": [
    {
     "name": "stderr",
     "output_type": "stream",
     "text": [
      "C:\\Users\\Avinash Matani\\Anaconda3\\lib\\site-packages\\statsmodels\\tools\\_testing.py:19: FutureWarning: pandas.util.testing is deprecated. Use the functions in the public API at pandas.testing instead.\n",
      "  import pandas.util.testing as tm\n"
     ]
    }
   ],
   "source": [
    "import pandas as pd\n",
    "import numpy as np\n",
    "import matplotlib.pyplot as plt\n",
    "%matplotlib inline\n",
    "\n",
    "# Import Statsmodels\n",
    "from statsmodels.tsa.api import VAR\n",
    "from statsmodels.tsa.stattools import adfuller\n",
    "from statsmodels.tools.eval_measures import rmse, aic"
   ]
  },
  {
   "cell_type": "code",
   "execution_count": 2,
   "metadata": {},
   "outputs": [
    {
     "name": "stdout",
     "output_type": "stream",
     "text": [
      "(262, 20)\n"
     ]
    },
    {
     "data": {
      "text/html": [
       "<div>\n",
       "<style scoped>\n",
       "    .dataframe tbody tr th:only-of-type {\n",
       "        vertical-align: middle;\n",
       "    }\n",
       "\n",
       "    .dataframe tbody tr th {\n",
       "        vertical-align: top;\n",
       "    }\n",
       "\n",
       "    .dataframe thead th {\n",
       "        text-align: right;\n",
       "    }\n",
       "</style>\n",
       "<table border=\"1\" class=\"dataframe\">\n",
       "  <thead>\n",
       "    <tr style=\"text-align: right;\">\n",
       "      <th></th>\n",
       "      <th>Date</th>\n",
       "      <th>Total Cases</th>\n",
       "      <th>Confirmed Cases</th>\n",
       "      <th>total_demand</th>\n",
       "      <th>footfall</th>\n",
       "      <th>relative_humidity</th>\n",
       "      <th>dew_temp</th>\n",
       "      <th>max_temp</th>\n",
       "      <th>min_temp</th>\n",
       "      <th>temp2m</th>\n",
       "      <th>WS50M_MIN</th>\n",
       "      <th>WS10M_MIN</th>\n",
       "      <th>WS50M_MAX</th>\n",
       "      <th>WS10M_MAX</th>\n",
       "      <th>WS50M</th>\n",
       "      <th>WS10M</th>\n",
       "      <th>avg_temp</th>\n",
       "      <th>ws_avg_50</th>\n",
       "      <th>Demand Reduction</th>\n",
       "      <th>social_distancing_vic</th>\n",
       "    </tr>\n",
       "  </thead>\n",
       "  <tbody>\n",
       "    <tr>\n",
       "      <th>0</th>\n",
       "      <td>2020-01-25</td>\n",
       "      <td>1</td>\n",
       "      <td>1</td>\n",
       "      <td>204891.76</td>\n",
       "      <td>38575.0</td>\n",
       "      <td>59.84</td>\n",
       "      <td>11.89</td>\n",
       "      <td>27.18</td>\n",
       "      <td>13.18</td>\n",
       "      <td>19.83</td>\n",
       "      <td>1.97</td>\n",
       "      <td>1.72</td>\n",
       "      <td>5.30</td>\n",
       "      <td>3.48</td>\n",
       "      <td>3.43</td>\n",
       "      <td>2.46</td>\n",
       "      <td>20.180</td>\n",
       "      <td>3.635</td>\n",
       "      <td>2085.0005</td>\n",
       "      <td>0.0</td>\n",
       "    </tr>\n",
       "    <tr>\n",
       "      <th>1</th>\n",
       "      <td>2020-01-26</td>\n",
       "      <td>1</td>\n",
       "      <td>0</td>\n",
       "      <td>202466.41</td>\n",
       "      <td>28014.5</td>\n",
       "      <td>70.29</td>\n",
       "      <td>13.93</td>\n",
       "      <td>26.75</td>\n",
       "      <td>13.98</td>\n",
       "      <td>19.39</td>\n",
       "      <td>0.87</td>\n",
       "      <td>0.73</td>\n",
       "      <td>6.18</td>\n",
       "      <td>5.64</td>\n",
       "      <td>4.40</td>\n",
       "      <td>3.52</td>\n",
       "      <td>20.365</td>\n",
       "      <td>3.525</td>\n",
       "      <td>6587.9163</td>\n",
       "      <td>0.0</td>\n",
       "    </tr>\n",
       "    <tr>\n",
       "      <th>2</th>\n",
       "      <td>2020-01-27</td>\n",
       "      <td>1</td>\n",
       "      <td>0</td>\n",
       "      <td>206268.92</td>\n",
       "      <td>18385.0</td>\n",
       "      <td>66.62</td>\n",
       "      <td>12.01</td>\n",
       "      <td>25.03</td>\n",
       "      <td>13.39</td>\n",
       "      <td>18.24</td>\n",
       "      <td>1.72</td>\n",
       "      <td>1.75</td>\n",
       "      <td>6.86</td>\n",
       "      <td>5.80</td>\n",
       "      <td>3.81</td>\n",
       "      <td>3.20</td>\n",
       "      <td>19.210</td>\n",
       "      <td>4.290</td>\n",
       "      <td>5721.3148</td>\n",
       "      <td>0.0</td>\n",
       "    </tr>\n",
       "    <tr>\n",
       "      <th>3</th>\n",
       "      <td>2020-01-28</td>\n",
       "      <td>1</td>\n",
       "      <td>0</td>\n",
       "      <td>232381.11</td>\n",
       "      <td>31375.5</td>\n",
       "      <td>62.27</td>\n",
       "      <td>11.87</td>\n",
       "      <td>26.55</td>\n",
       "      <td>13.52</td>\n",
       "      <td>19.17</td>\n",
       "      <td>2.39</td>\n",
       "      <td>1.45</td>\n",
       "      <td>5.42</td>\n",
       "      <td>4.14</td>\n",
       "      <td>3.55</td>\n",
       "      <td>2.72</td>\n",
       "      <td>20.035</td>\n",
       "      <td>3.905</td>\n",
       "      <td>-18359.0311</td>\n",
       "      <td>0.0</td>\n",
       "    </tr>\n",
       "    <tr>\n",
       "      <th>4</th>\n",
       "      <td>2020-01-29</td>\n",
       "      <td>3</td>\n",
       "      <td>2</td>\n",
       "      <td>259625.83</td>\n",
       "      <td>33477.0</td>\n",
       "      <td>55.53</td>\n",
       "      <td>11.94</td>\n",
       "      <td>30.07</td>\n",
       "      <td>13.32</td>\n",
       "      <td>21.11</td>\n",
       "      <td>0.56</td>\n",
       "      <td>0.34</td>\n",
       "      <td>5.88</td>\n",
       "      <td>3.34</td>\n",
       "      <td>2.48</td>\n",
       "      <td>1.80</td>\n",
       "      <td>21.695</td>\n",
       "      <td>3.220</td>\n",
       "      <td>-38379.5695</td>\n",
       "      <td>0.0</td>\n",
       "    </tr>\n",
       "  </tbody>\n",
       "</table>\n",
       "</div>"
      ],
      "text/plain": [
       "        Date  Total Cases  Confirmed Cases  total_demand  footfall  \\\n",
       "0 2020-01-25            1                1     204891.76   38575.0   \n",
       "1 2020-01-26            1                0     202466.41   28014.5   \n",
       "2 2020-01-27            1                0     206268.92   18385.0   \n",
       "3 2020-01-28            1                0     232381.11   31375.5   \n",
       "4 2020-01-29            3                2     259625.83   33477.0   \n",
       "\n",
       "   relative_humidity  dew_temp  max_temp  min_temp  temp2m  WS50M_MIN  \\\n",
       "0              59.84     11.89     27.18     13.18   19.83       1.97   \n",
       "1              70.29     13.93     26.75     13.98   19.39       0.87   \n",
       "2              66.62     12.01     25.03     13.39   18.24       1.72   \n",
       "3              62.27     11.87     26.55     13.52   19.17       2.39   \n",
       "4              55.53     11.94     30.07     13.32   21.11       0.56   \n",
       "\n",
       "   WS10M_MIN  WS50M_MAX  WS10M_MAX  WS50M  WS10M  avg_temp  ws_avg_50  \\\n",
       "0       1.72       5.30       3.48   3.43   2.46    20.180      3.635   \n",
       "1       0.73       6.18       5.64   4.40   3.52    20.365      3.525   \n",
       "2       1.75       6.86       5.80   3.81   3.20    19.210      4.290   \n",
       "3       1.45       5.42       4.14   3.55   2.72    20.035      3.905   \n",
       "4       0.34       5.88       3.34   2.48   1.80    21.695      3.220   \n",
       "\n",
       "   Demand Reduction  social_distancing_vic  \n",
       "0         2085.0005                    0.0  \n",
       "1         6587.9163                    0.0  \n",
       "2         5721.3148                    0.0  \n",
       "3       -18359.0311                    0.0  \n",
       "4       -38379.5695                    0.0  "
      ]
     },
     "execution_count": 2,
     "metadata": {},
     "output_type": "execute_result"
    }
   ],
   "source": [
    "df = pd.read_excel('u_vic_covid19.xlsx',)\n",
    "print(df.shape)\n",
    "df.head()"
   ]
  },
  {
   "cell_type": "code",
   "execution_count": 3,
   "metadata": {},
   "outputs": [
    {
     "data": {
      "text/plain": [
       "Index(['Date', 'Total Cases', 'Confirmed Cases', 'total_demand', 'footfall',\n",
       "       'relative_humidity', 'dew_temp', 'max_temp', 'min_temp', 'temp2m',\n",
       "       'WS50M_MIN', 'WS10M_MIN', 'WS50M_MAX', 'WS10M_MAX', 'WS50M', 'WS10M',\n",
       "       'avg_temp', 'ws_avg_50', 'Demand Reduction', 'social_distancing_vic'],\n",
       "      dtype='object')"
      ]
     },
     "execution_count": 3,
     "metadata": {},
     "output_type": "execute_result"
    }
   ],
   "source": [
    "df.columns"
   ]
  },
  {
   "cell_type": "code",
   "execution_count": 4,
   "metadata": {},
   "outputs": [
    {
     "name": "stderr",
     "output_type": "stream",
     "text": [
      "C:\\Users\\Avinash Matani\\Anaconda3\\lib\\site-packages\\ipykernel_launcher.py:6: RuntimeWarning: invalid value encountered in log\n",
      "  \n"
     ]
    }
   ],
   "source": [
    "# apply log(x+1) element-wise to a subset of columns\n",
    "to_log = ['Total Cases', 'Confirmed Cases', 'total_demand', 'footfall',\n",
    "       'relative_humidity', 'dew_temp', 'max_temp', 'min_temp', 'temp2m',\n",
    "       'WS50M_MIN', 'WS10M_MIN', 'WS50M_MAX', 'WS10M_MAX', 'WS50M', 'WS10M',\n",
    "       'avg_temp', 'ws_avg_50', 'Demand Reduction', 'social_distancing_vic']\n",
    "df_log = df[to_log].applymap(lambda x: np.log(x+1))\n",
    "\n",
    "# rename columns\n",
    "df_log.columns = 'log_' + df_log.columns\n",
    "\n",
    "# # shift the index\n",
    "# df_log.index = df_log.index + 1"
   ]
  },
  {
   "cell_type": "code",
   "execution_count": 5,
   "metadata": {
    "scrolled": true
   },
   "outputs": [
    {
     "data": {
      "text/html": [
       "<div>\n",
       "<style scoped>\n",
       "    .dataframe tbody tr th:only-of-type {\n",
       "        vertical-align: middle;\n",
       "    }\n",
       "\n",
       "    .dataframe tbody tr th {\n",
       "        vertical-align: top;\n",
       "    }\n",
       "\n",
       "    .dataframe thead th {\n",
       "        text-align: right;\n",
       "    }\n",
       "</style>\n",
       "<table border=\"1\" class=\"dataframe\">\n",
       "  <thead>\n",
       "    <tr style=\"text-align: right;\">\n",
       "      <th></th>\n",
       "      <th>log_Total Cases</th>\n",
       "      <th>log_Confirmed Cases</th>\n",
       "      <th>log_total_demand</th>\n",
       "      <th>log_footfall</th>\n",
       "      <th>log_relative_humidity</th>\n",
       "      <th>log_dew_temp</th>\n",
       "      <th>log_max_temp</th>\n",
       "      <th>log_min_temp</th>\n",
       "      <th>log_temp2m</th>\n",
       "      <th>log_WS50M_MIN</th>\n",
       "      <th>log_WS10M_MIN</th>\n",
       "      <th>log_WS50M_MAX</th>\n",
       "      <th>log_WS10M_MAX</th>\n",
       "      <th>log_WS50M</th>\n",
       "      <th>log_WS10M</th>\n",
       "      <th>log_avg_temp</th>\n",
       "      <th>log_ws_avg_50</th>\n",
       "      <th>log_Demand Reduction</th>\n",
       "      <th>log_social_distancing_vic</th>\n",
       "    </tr>\n",
       "  </thead>\n",
       "  <tbody>\n",
       "    <tr>\n",
       "      <th>0</th>\n",
       "      <td>0.693147</td>\n",
       "      <td>0.693147</td>\n",
       "      <td>12.230242</td>\n",
       "      <td>10.560386</td>\n",
       "      <td>4.108247</td>\n",
       "      <td>2.556452</td>\n",
       "      <td>3.338613</td>\n",
       "      <td>2.651833</td>\n",
       "      <td>3.036394</td>\n",
       "      <td>1.088562</td>\n",
       "      <td>1.000632</td>\n",
       "      <td>1.840550</td>\n",
       "      <td>1.499623</td>\n",
       "      <td>1.488400</td>\n",
       "      <td>1.241269</td>\n",
       "      <td>3.053057</td>\n",
       "      <td>1.533636</td>\n",
       "      <td>7.643004</td>\n",
       "      <td>0.0</td>\n",
       "    </tr>\n",
       "    <tr>\n",
       "      <th>1</th>\n",
       "      <td>0.693147</td>\n",
       "      <td>0.000000</td>\n",
       "      <td>12.218334</td>\n",
       "      <td>10.240513</td>\n",
       "      <td>4.266756</td>\n",
       "      <td>2.703373</td>\n",
       "      <td>3.323236</td>\n",
       "      <td>2.706716</td>\n",
       "      <td>3.015045</td>\n",
       "      <td>0.625938</td>\n",
       "      <td>0.548121</td>\n",
       "      <td>1.971299</td>\n",
       "      <td>1.893112</td>\n",
       "      <td>1.686399</td>\n",
       "      <td>1.508512</td>\n",
       "      <td>3.061754</td>\n",
       "      <td>1.509618</td>\n",
       "      <td>8.793144</td>\n",
       "      <td>0.0</td>\n",
       "    </tr>\n",
       "    <tr>\n",
       "      <th>2</th>\n",
       "      <td>0.693147</td>\n",
       "      <td>0.000000</td>\n",
       "      <td>12.236941</td>\n",
       "      <td>9.819345</td>\n",
       "      <td>4.213904</td>\n",
       "      <td>2.565718</td>\n",
       "      <td>3.259250</td>\n",
       "      <td>2.666534</td>\n",
       "      <td>2.956991</td>\n",
       "      <td>1.000632</td>\n",
       "      <td>1.011601</td>\n",
       "      <td>2.061787</td>\n",
       "      <td>1.916923</td>\n",
       "      <td>1.570697</td>\n",
       "      <td>1.435085</td>\n",
       "      <td>3.006178</td>\n",
       "      <td>1.665818</td>\n",
       "      <td>8.652129</td>\n",
       "      <td>0.0</td>\n",
       "    </tr>\n",
       "    <tr>\n",
       "      <th>3</th>\n",
       "      <td>0.693147</td>\n",
       "      <td>0.000000</td>\n",
       "      <td>12.356138</td>\n",
       "      <td>10.353814</td>\n",
       "      <td>4.147411</td>\n",
       "      <td>2.554899</td>\n",
       "      <td>3.316003</td>\n",
       "      <td>2.675527</td>\n",
       "      <td>3.004196</td>\n",
       "      <td>1.220830</td>\n",
       "      <td>0.896088</td>\n",
       "      <td>1.859418</td>\n",
       "      <td>1.637053</td>\n",
       "      <td>1.515127</td>\n",
       "      <td>1.313724</td>\n",
       "      <td>3.046188</td>\n",
       "      <td>1.590255</td>\n",
       "      <td>NaN</td>\n",
       "      <td>0.0</td>\n",
       "    </tr>\n",
       "    <tr>\n",
       "      <th>4</th>\n",
       "      <td>1.386294</td>\n",
       "      <td>1.098612</td>\n",
       "      <td>12.467001</td>\n",
       "      <td>10.418644</td>\n",
       "      <td>4.034771</td>\n",
       "      <td>2.560323</td>\n",
       "      <td>3.436243</td>\n",
       "      <td>2.661657</td>\n",
       "      <td>3.096030</td>\n",
       "      <td>0.444686</td>\n",
       "      <td>0.292670</td>\n",
       "      <td>1.928619</td>\n",
       "      <td>1.467874</td>\n",
       "      <td>1.247032</td>\n",
       "      <td>1.029619</td>\n",
       "      <td>3.122145</td>\n",
       "      <td>1.439835</td>\n",
       "      <td>NaN</td>\n",
       "      <td>0.0</td>\n",
       "    </tr>\n",
       "    <tr>\n",
       "      <th>...</th>\n",
       "      <td>...</td>\n",
       "      <td>...</td>\n",
       "      <td>...</td>\n",
       "      <td>...</td>\n",
       "      <td>...</td>\n",
       "      <td>...</td>\n",
       "      <td>...</td>\n",
       "      <td>...</td>\n",
       "      <td>...</td>\n",
       "      <td>...</td>\n",
       "      <td>...</td>\n",
       "      <td>...</td>\n",
       "      <td>...</td>\n",
       "      <td>...</td>\n",
       "      <td>...</td>\n",
       "      <td>...</td>\n",
       "      <td>...</td>\n",
       "      <td>...</td>\n",
       "      <td>...</td>\n",
       "    </tr>\n",
       "    <tr>\n",
       "      <th>257</th>\n",
       "      <td>9.915811</td>\n",
       "      <td>2.397895</td>\n",
       "      <td>NaN</td>\n",
       "      <td>NaN</td>\n",
       "      <td>NaN</td>\n",
       "      <td>NaN</td>\n",
       "      <td>NaN</td>\n",
       "      <td>NaN</td>\n",
       "      <td>NaN</td>\n",
       "      <td>NaN</td>\n",
       "      <td>NaN</td>\n",
       "      <td>NaN</td>\n",
       "      <td>NaN</td>\n",
       "      <td>NaN</td>\n",
       "      <td>NaN</td>\n",
       "      <td>0.000000</td>\n",
       "      <td>0.000000</td>\n",
       "      <td>NaN</td>\n",
       "      <td>NaN</td>\n",
       "    </tr>\n",
       "    <tr>\n",
       "      <th>258</th>\n",
       "      <td>9.916305</td>\n",
       "      <td>2.397895</td>\n",
       "      <td>NaN</td>\n",
       "      <td>NaN</td>\n",
       "      <td>NaN</td>\n",
       "      <td>NaN</td>\n",
       "      <td>NaN</td>\n",
       "      <td>NaN</td>\n",
       "      <td>NaN</td>\n",
       "      <td>NaN</td>\n",
       "      <td>NaN</td>\n",
       "      <td>NaN</td>\n",
       "      <td>NaN</td>\n",
       "      <td>NaN</td>\n",
       "      <td>NaN</td>\n",
       "      <td>0.000000</td>\n",
       "      <td>0.000000</td>\n",
       "      <td>NaN</td>\n",
       "      <td>NaN</td>\n",
       "    </tr>\n",
       "    <tr>\n",
       "      <th>259</th>\n",
       "      <td>9.916897</td>\n",
       "      <td>2.564949</td>\n",
       "      <td>NaN</td>\n",
       "      <td>NaN</td>\n",
       "      <td>NaN</td>\n",
       "      <td>NaN</td>\n",
       "      <td>NaN</td>\n",
       "      <td>NaN</td>\n",
       "      <td>NaN</td>\n",
       "      <td>NaN</td>\n",
       "      <td>NaN</td>\n",
       "      <td>NaN</td>\n",
       "      <td>NaN</td>\n",
       "      <td>NaN</td>\n",
       "      <td>NaN</td>\n",
       "      <td>0.000000</td>\n",
       "      <td>0.000000</td>\n",
       "      <td>NaN</td>\n",
       "      <td>NaN</td>\n",
       "    </tr>\n",
       "    <tr>\n",
       "      <th>260</th>\n",
       "      <td>9.917489</td>\n",
       "      <td>2.564949</td>\n",
       "      <td>NaN</td>\n",
       "      <td>NaN</td>\n",
       "      <td>NaN</td>\n",
       "      <td>NaN</td>\n",
       "      <td>NaN</td>\n",
       "      <td>NaN</td>\n",
       "      <td>NaN</td>\n",
       "      <td>NaN</td>\n",
       "      <td>NaN</td>\n",
       "      <td>NaN</td>\n",
       "      <td>NaN</td>\n",
       "      <td>NaN</td>\n",
       "      <td>NaN</td>\n",
       "      <td>0.000000</td>\n",
       "      <td>0.000000</td>\n",
       "      <td>NaN</td>\n",
       "      <td>NaN</td>\n",
       "    </tr>\n",
       "    <tr>\n",
       "      <th>261</th>\n",
       "      <td>9.918179</td>\n",
       "      <td>2.708050</td>\n",
       "      <td>NaN</td>\n",
       "      <td>NaN</td>\n",
       "      <td>NaN</td>\n",
       "      <td>NaN</td>\n",
       "      <td>NaN</td>\n",
       "      <td>NaN</td>\n",
       "      <td>NaN</td>\n",
       "      <td>NaN</td>\n",
       "      <td>NaN</td>\n",
       "      <td>NaN</td>\n",
       "      <td>NaN</td>\n",
       "      <td>NaN</td>\n",
       "      <td>NaN</td>\n",
       "      <td>0.000000</td>\n",
       "      <td>0.000000</td>\n",
       "      <td>NaN</td>\n",
       "      <td>NaN</td>\n",
       "    </tr>\n",
       "  </tbody>\n",
       "</table>\n",
       "<p>262 rows × 19 columns</p>\n",
       "</div>"
      ],
      "text/plain": [
       "     log_Total Cases  log_Confirmed Cases  log_total_demand  log_footfall  \\\n",
       "0           0.693147             0.693147         12.230242     10.560386   \n",
       "1           0.693147             0.000000         12.218334     10.240513   \n",
       "2           0.693147             0.000000         12.236941      9.819345   \n",
       "3           0.693147             0.000000         12.356138     10.353814   \n",
       "4           1.386294             1.098612         12.467001     10.418644   \n",
       "..               ...                  ...               ...           ...   \n",
       "257         9.915811             2.397895               NaN           NaN   \n",
       "258         9.916305             2.397895               NaN           NaN   \n",
       "259         9.916897             2.564949               NaN           NaN   \n",
       "260         9.917489             2.564949               NaN           NaN   \n",
       "261         9.918179             2.708050               NaN           NaN   \n",
       "\n",
       "     log_relative_humidity  log_dew_temp  log_max_temp  log_min_temp  \\\n",
       "0                 4.108247      2.556452      3.338613      2.651833   \n",
       "1                 4.266756      2.703373      3.323236      2.706716   \n",
       "2                 4.213904      2.565718      3.259250      2.666534   \n",
       "3                 4.147411      2.554899      3.316003      2.675527   \n",
       "4                 4.034771      2.560323      3.436243      2.661657   \n",
       "..                     ...           ...           ...           ...   \n",
       "257                    NaN           NaN           NaN           NaN   \n",
       "258                    NaN           NaN           NaN           NaN   \n",
       "259                    NaN           NaN           NaN           NaN   \n",
       "260                    NaN           NaN           NaN           NaN   \n",
       "261                    NaN           NaN           NaN           NaN   \n",
       "\n",
       "     log_temp2m  log_WS50M_MIN  log_WS10M_MIN  log_WS50M_MAX  log_WS10M_MAX  \\\n",
       "0      3.036394       1.088562       1.000632       1.840550       1.499623   \n",
       "1      3.015045       0.625938       0.548121       1.971299       1.893112   \n",
       "2      2.956991       1.000632       1.011601       2.061787       1.916923   \n",
       "3      3.004196       1.220830       0.896088       1.859418       1.637053   \n",
       "4      3.096030       0.444686       0.292670       1.928619       1.467874   \n",
       "..          ...            ...            ...            ...            ...   \n",
       "257         NaN            NaN            NaN            NaN            NaN   \n",
       "258         NaN            NaN            NaN            NaN            NaN   \n",
       "259         NaN            NaN            NaN            NaN            NaN   \n",
       "260         NaN            NaN            NaN            NaN            NaN   \n",
       "261         NaN            NaN            NaN            NaN            NaN   \n",
       "\n",
       "     log_WS50M  log_WS10M  log_avg_temp  log_ws_avg_50  log_Demand Reduction  \\\n",
       "0     1.488400   1.241269      3.053057       1.533636              7.643004   \n",
       "1     1.686399   1.508512      3.061754       1.509618              8.793144   \n",
       "2     1.570697   1.435085      3.006178       1.665818              8.652129   \n",
       "3     1.515127   1.313724      3.046188       1.590255                   NaN   \n",
       "4     1.247032   1.029619      3.122145       1.439835                   NaN   \n",
       "..         ...        ...           ...            ...                   ...   \n",
       "257        NaN        NaN      0.000000       0.000000                   NaN   \n",
       "258        NaN        NaN      0.000000       0.000000                   NaN   \n",
       "259        NaN        NaN      0.000000       0.000000                   NaN   \n",
       "260        NaN        NaN      0.000000       0.000000                   NaN   \n",
       "261        NaN        NaN      0.000000       0.000000                   NaN   \n",
       "\n",
       "     log_social_distancing_vic  \n",
       "0                          0.0  \n",
       "1                          0.0  \n",
       "2                          0.0  \n",
       "3                          0.0  \n",
       "4                          0.0  \n",
       "..                         ...  \n",
       "257                        NaN  \n",
       "258                        NaN  \n",
       "259                        NaN  \n",
       "260                        NaN  \n",
       "261                        NaN  \n",
       "\n",
       "[262 rows x 19 columns]"
      ]
     },
     "execution_count": 5,
     "metadata": {},
     "output_type": "execute_result"
    }
   ],
   "source": [
    "df_log"
   ]
  },
  {
   "cell_type": "code",
   "execution_count": 6,
   "metadata": {},
   "outputs": [],
   "source": [
    "df = df_log"
   ]
  },
  {
   "cell_type": "code",
   "execution_count": 7,
   "metadata": {},
   "outputs": [
    {
     "data": {
      "text/plain": [
       "(262, 19)"
      ]
     },
     "execution_count": 7,
     "metadata": {},
     "output_type": "execute_result"
    }
   ],
   "source": [
    "df.shape"
   ]
  },
  {
   "cell_type": "code",
   "execution_count": null,
   "metadata": {},
   "outputs": [],
   "source": [
    "# df = df[['Date','Confirmed Cases', 'footfall', 'total_demand']]"
   ]
  },
  {
   "cell_type": "code",
   "execution_count": 8,
   "metadata": {},
   "outputs": [
    {
     "name": "stdout",
     "output_type": "stream",
     "text": [
      "0 log_Total Cases\n",
      "0 log_Confirmed Cases\n",
      "12 log_total_demand\n",
      "12 log_footfall\n",
      "12 log_relative_humidity\n",
      "12 log_dew_temp\n",
      "12 log_max_temp\n",
      "12 log_min_temp\n",
      "12 log_temp2m\n",
      "12 log_WS50M_MIN\n",
      "12 log_WS10M_MIN\n",
      "12 log_WS50M_MAX\n",
      "12 log_WS10M_MAX\n",
      "12 log_WS50M\n",
      "12 log_WS10M\n",
      "0 log_avg_temp\n",
      "0 log_ws_avg_50\n",
      "122 log_Demand Reduction\n",
      "12 log_social_distancing_vic\n"
     ]
    }
   ],
   "source": [
    "for i in df:\n",
    "    print(df[i].isna().sum(),i)"
   ]
  },
  {
   "cell_type": "code",
   "execution_count": 9,
   "metadata": {},
   "outputs": [
    {
     "name": "stdout",
     "output_type": "stream",
     "text": [
      "0 log_Total Cases\n",
      "0 log_Confirmed Cases\n",
      "0 log_total_demand\n",
      "0 log_footfall\n",
      "0 log_relative_humidity\n",
      "0 log_dew_temp\n",
      "0 log_max_temp\n",
      "0 log_min_temp\n",
      "0 log_temp2m\n",
      "0 log_WS50M_MIN\n",
      "0 log_WS10M_MIN\n",
      "0 log_WS50M_MAX\n",
      "0 log_WS10M_MAX\n",
      "0 log_WS50M\n",
      "0 log_WS10M\n",
      "0 log_avg_temp\n",
      "0 log_ws_avg_50\n",
      "0 log_Demand Reduction\n",
      "0 log_social_distancing_vic\n"
     ]
    }
   ],
   "source": [
    "df = df.dropna()\n",
    "for i in df:\n",
    "    print(df[i].isna().sum(),i)"
   ]
  },
  {
   "cell_type": "code",
   "execution_count": 10,
   "metadata": {},
   "outputs": [
    {
     "data": {
      "text/plain": [
       "(140, 19)"
      ]
     },
     "execution_count": 10,
     "metadata": {},
     "output_type": "execute_result"
    }
   ],
   "source": [
    "df.shape"
   ]
  },
  {
   "cell_type": "code",
   "execution_count": null,
   "metadata": {},
   "outputs": [],
   "source": [
    "# df['heatdegdays'] = df['heatdegdays'].dropna()\n",
    "# df['cooldegdays'] = df['cooldegdays'].dropna()"
   ]
  },
  {
   "cell_type": "code",
   "execution_count": 11,
   "metadata": {},
   "outputs": [],
   "source": [
    "df = df[['log_footfall', 'log_Demand Reduction', 'log_Confirmed Cases', 'log_relative_humidity', 'log_dew_temp',\n",
    "         'log_avg_temp', 'log_ws_avg_50']]"
   ]
  },
  {
   "cell_type": "code",
   "execution_count": 12,
   "metadata": {
    "scrolled": false
   },
   "outputs": [
    {
     "ename": "IndexError",
     "evalue": "index 7 is out of bounds for axis 0 with size 7",
     "output_type": "error",
     "traceback": [
      "\u001b[1;31m---------------------------------------------------------------------------\u001b[0m",
      "\u001b[1;31mIndexError\u001b[0m                                Traceback (most recent call last)",
      "\u001b[1;32m<ipython-input-12-80fcc182dc43>\u001b[0m in \u001b[0;36m<module>\u001b[1;34m\u001b[0m\n\u001b[0;32m      1\u001b[0m \u001b[0mfig\u001b[0m\u001b[1;33m,\u001b[0m \u001b[0maxes\u001b[0m \u001b[1;33m=\u001b[0m \u001b[0mplt\u001b[0m\u001b[1;33m.\u001b[0m\u001b[0msubplots\u001b[0m\u001b[1;33m(\u001b[0m\u001b[0mnrows\u001b[0m\u001b[1;33m=\u001b[0m\u001b[1;36m4\u001b[0m\u001b[1;33m,\u001b[0m \u001b[0mncols\u001b[0m\u001b[1;33m=\u001b[0m\u001b[1;36m2\u001b[0m\u001b[1;33m,\u001b[0m \u001b[0mdpi\u001b[0m\u001b[1;33m=\u001b[0m\u001b[1;36m120\u001b[0m\u001b[1;33m,\u001b[0m \u001b[0mfigsize\u001b[0m\u001b[1;33m=\u001b[0m\u001b[1;33m(\u001b[0m\u001b[1;36m10\u001b[0m\u001b[1;33m,\u001b[0m\u001b[1;36m6\u001b[0m\u001b[1;33m)\u001b[0m\u001b[1;33m)\u001b[0m\u001b[1;33m\u001b[0m\u001b[1;33m\u001b[0m\u001b[0m\n\u001b[0;32m      2\u001b[0m \u001b[1;32mfor\u001b[0m \u001b[0mi\u001b[0m\u001b[1;33m,\u001b[0m \u001b[0max\u001b[0m \u001b[1;32min\u001b[0m \u001b[0menumerate\u001b[0m\u001b[1;33m(\u001b[0m\u001b[0maxes\u001b[0m\u001b[1;33m.\u001b[0m\u001b[0mflatten\u001b[0m\u001b[1;33m(\u001b[0m\u001b[1;33m)\u001b[0m\u001b[1;33m)\u001b[0m\u001b[1;33m:\u001b[0m\u001b[1;33m\u001b[0m\u001b[1;33m\u001b[0m\u001b[0m\n\u001b[1;32m----> 3\u001b[1;33m     \u001b[0mdata\u001b[0m \u001b[1;33m=\u001b[0m \u001b[0mdf\u001b[0m\u001b[1;33m[\u001b[0m\u001b[0mdf\u001b[0m\u001b[1;33m.\u001b[0m\u001b[0mcolumns\u001b[0m\u001b[1;33m[\u001b[0m\u001b[0mi\u001b[0m\u001b[1;33m]\u001b[0m\u001b[1;33m]\u001b[0m\u001b[1;33m\u001b[0m\u001b[1;33m\u001b[0m\u001b[0m\n\u001b[0m\u001b[0;32m      4\u001b[0m     \u001b[0max\u001b[0m\u001b[1;33m.\u001b[0m\u001b[0mplot\u001b[0m\u001b[1;33m(\u001b[0m\u001b[0mdata\u001b[0m\u001b[1;33m,\u001b[0m \u001b[0mcolor\u001b[0m\u001b[1;33m=\u001b[0m\u001b[1;34m'red'\u001b[0m\u001b[1;33m,\u001b[0m \u001b[0mlinewidth\u001b[0m\u001b[1;33m=\u001b[0m\u001b[1;36m1\u001b[0m\u001b[1;33m)\u001b[0m\u001b[1;33m\u001b[0m\u001b[1;33m\u001b[0m\u001b[0m\n\u001b[0;32m      5\u001b[0m     \u001b[1;31m# Decorations\u001b[0m\u001b[1;33m\u001b[0m\u001b[1;33m\u001b[0m\u001b[1;33m\u001b[0m\u001b[0m\n",
      "\u001b[1;32m~\\Anaconda3\\lib\\site-packages\\pandas\\core\\indexes\\base.py\u001b[0m in \u001b[0;36m__getitem__\u001b[1;34m(self, key)\u001b[0m\n\u001b[0;32m   3927\u001b[0m         \u001b[1;32mif\u001b[0m \u001b[0mis_scalar\u001b[0m\u001b[1;33m(\u001b[0m\u001b[0mkey\u001b[0m\u001b[1;33m)\u001b[0m\u001b[1;33m:\u001b[0m\u001b[1;33m\u001b[0m\u001b[1;33m\u001b[0m\u001b[0m\n\u001b[0;32m   3928\u001b[0m             \u001b[0mkey\u001b[0m \u001b[1;33m=\u001b[0m \u001b[0mcom\u001b[0m\u001b[1;33m.\u001b[0m\u001b[0mcast_scalar_indexer\u001b[0m\u001b[1;33m(\u001b[0m\u001b[0mkey\u001b[0m\u001b[1;33m)\u001b[0m\u001b[1;33m\u001b[0m\u001b[1;33m\u001b[0m\u001b[0m\n\u001b[1;32m-> 3929\u001b[1;33m             \u001b[1;32mreturn\u001b[0m \u001b[0mgetitem\u001b[0m\u001b[1;33m(\u001b[0m\u001b[0mkey\u001b[0m\u001b[1;33m)\u001b[0m\u001b[1;33m\u001b[0m\u001b[1;33m\u001b[0m\u001b[0m\n\u001b[0m\u001b[0;32m   3930\u001b[0m \u001b[1;33m\u001b[0m\u001b[0m\n\u001b[0;32m   3931\u001b[0m         \u001b[1;32mif\u001b[0m \u001b[0misinstance\u001b[0m\u001b[1;33m(\u001b[0m\u001b[0mkey\u001b[0m\u001b[1;33m,\u001b[0m \u001b[0mslice\u001b[0m\u001b[1;33m)\u001b[0m\u001b[1;33m:\u001b[0m\u001b[1;33m\u001b[0m\u001b[1;33m\u001b[0m\u001b[0m\n",
      "\u001b[1;31mIndexError\u001b[0m: index 7 is out of bounds for axis 0 with size 7"
     ]
    },
    {
     "data": {
      "image/png": "[encoded data removed]",
      "text/plain": [
       "<Figure size 1200x720 with 8 Axes>"
      ]
     },
     "metadata": {
      "needs_background": "light"
     },
     "output_type": "display_data"
    }
   ],
   "source": [
    "fig, axes = plt.subplots(nrows=4, ncols=2, dpi=120, figsize=(10,6))\n",
    "for i, ax in enumerate(axes.flatten()):\n",
    "    data = df[df.columns[i]]\n",
    "    ax.plot(data, color='red', linewidth=1)\n",
    "    # Decorations\n",
    "    ax.set_title(df.columns[i])\n",
    "    ax.xaxis.set_ticks_position('none')\n",
    "    ax.yaxis.set_ticks_position('none')\n",
    "    ax.spines[\"top\"].set_alpha(0)\n",
    "    ax.tick_params(labelsize=6)\n",
    "\n",
    "plt.tight_layout();"
   ]
  },
  {
   "cell_type": "code",
   "execution_count": 13,
   "metadata": {},
   "outputs": [
    {
     "data": {
      "text/plain": [
       "Index(['log_footfall', 'log_Demand Reduction', 'log_Confirmed Cases',\n",
       "       'log_relative_humidity', 'log_dew_temp', 'log_avg_temp',\n",
       "       'log_ws_avg_50'],\n",
       "      dtype='object')"
      ]
     },
     "execution_count": 13,
     "metadata": {},
     "output_type": "execute_result"
    }
   ],
   "source": [
    "df.columns"
   ]
  },
  {
   "cell_type": "code",
   "execution_count": 15,
   "metadata": {},
   "outputs": [],
   "source": [
    "dft = df[['log_footfall', 'log_Demand Reduction', 'log_Confirmed Cases',\n",
    "       'log_relative_humidity', 'log_dew_temp', 'log_avg_temp',\n",
    "       'log_ws_avg_50']]"
   ]
  },
  {
   "cell_type": "code",
   "execution_count": 16,
   "metadata": {},
   "outputs": [
    {
     "data": {
      "text/html": [
       "<div>\n",
       "<style scoped>\n",
       "    .dataframe tbody tr th:only-of-type {\n",
       "        vertical-align: middle;\n",
       "    }\n",
       "\n",
       "    .dataframe tbody tr th {\n",
       "        vertical-align: top;\n",
       "    }\n",
       "\n",
       "    .dataframe thead th {\n",
       "        text-align: right;\n",
       "    }\n",
       "</style>\n",
       "<table border=\"1\" class=\"dataframe\">\n",
       "  <thead>\n",
       "    <tr style=\"text-align: right;\">\n",
       "      <th></th>\n",
       "      <th>log_footfall</th>\n",
       "      <th>log_Demand Reduction</th>\n",
       "      <th>log_Confirmed Cases</th>\n",
       "      <th>log_relative_humidity</th>\n",
       "      <th>log_dew_temp</th>\n",
       "      <th>log_avg_temp</th>\n",
       "      <th>log_ws_avg_50</th>\n",
       "    </tr>\n",
       "  </thead>\n",
       "  <tbody>\n",
       "    <tr>\n",
       "      <th>0</th>\n",
       "      <td>10.560386</td>\n",
       "      <td>7.643004</td>\n",
       "      <td>0.693147</td>\n",
       "      <td>4.108247</td>\n",
       "      <td>2.556452</td>\n",
       "      <td>3.053057</td>\n",
       "      <td>1.533636</td>\n",
       "    </tr>\n",
       "    <tr>\n",
       "      <th>1</th>\n",
       "      <td>10.240513</td>\n",
       "      <td>8.793144</td>\n",
       "      <td>0.000000</td>\n",
       "      <td>4.266756</td>\n",
       "      <td>2.703373</td>\n",
       "      <td>3.061754</td>\n",
       "      <td>1.509618</td>\n",
       "    </tr>\n",
       "    <tr>\n",
       "      <th>2</th>\n",
       "      <td>9.819345</td>\n",
       "      <td>8.652129</td>\n",
       "      <td>0.000000</td>\n",
       "      <td>4.213904</td>\n",
       "      <td>2.565718</td>\n",
       "      <td>3.006178</td>\n",
       "      <td>1.665818</td>\n",
       "    </tr>\n",
       "    <tr>\n",
       "      <th>8</th>\n",
       "      <td>9.823984</td>\n",
       "      <td>10.214593</td>\n",
       "      <td>0.000000</td>\n",
       "      <td>4.128746</td>\n",
       "      <td>2.418589</td>\n",
       "      <td>2.980365</td>\n",
       "      <td>2.022871</td>\n",
       "    </tr>\n",
       "    <tr>\n",
       "      <th>9</th>\n",
       "      <td>10.286349</td>\n",
       "      <td>8.425799</td>\n",
       "      <td>0.000000</td>\n",
       "      <td>4.136286</td>\n",
       "      <td>2.057963</td>\n",
       "      <td>2.734043</td>\n",
       "      <td>2.270062</td>\n",
       "    </tr>\n",
       "    <tr>\n",
       "      <th>...</th>\n",
       "      <td>...</td>\n",
       "      <td>...</td>\n",
       "      <td>...</td>\n",
       "      <td>...</td>\n",
       "      <td>...</td>\n",
       "      <td>...</td>\n",
       "      <td>...</td>\n",
       "    </tr>\n",
       "    <tr>\n",
       "      <th>245</th>\n",
       "      <td>8.143081</td>\n",
       "      <td>9.987101</td>\n",
       "      <td>2.484907</td>\n",
       "      <td>4.387263</td>\n",
       "      <td>1.842136</td>\n",
       "      <td>2.294049</td>\n",
       "      <td>2.329714</td>\n",
       "    </tr>\n",
       "    <tr>\n",
       "      <th>246</th>\n",
       "      <td>8.118803</td>\n",
       "      <td>10.352435</td>\n",
       "      <td>2.833213</td>\n",
       "      <td>4.306495</td>\n",
       "      <td>1.633154</td>\n",
       "      <td>2.304583</td>\n",
       "      <td>1.846879</td>\n",
       "    </tr>\n",
       "    <tr>\n",
       "      <th>247</th>\n",
       "      <td>8.581669</td>\n",
       "      <td>8.596766</td>\n",
       "      <td>1.609438</td>\n",
       "      <td>4.349503</td>\n",
       "      <td>1.688249</td>\n",
       "      <td>2.307573</td>\n",
       "      <td>1.571736</td>\n",
       "    </tr>\n",
       "    <tr>\n",
       "      <th>248</th>\n",
       "      <td>8.739937</td>\n",
       "      <td>9.489671</td>\n",
       "      <td>2.302585</td>\n",
       "      <td>4.314283</td>\n",
       "      <td>2.020222</td>\n",
       "      <td>2.484073</td>\n",
       "      <td>1.933693</td>\n",
       "    </tr>\n",
       "    <tr>\n",
       "      <th>249</th>\n",
       "      <td>8.575179</td>\n",
       "      <td>9.247281</td>\n",
       "      <td>2.484907</td>\n",
       "      <td>4.456902</td>\n",
       "      <td>2.405142</td>\n",
       "      <td>2.641910</td>\n",
       "      <td>2.292030</td>\n",
       "    </tr>\n",
       "  </tbody>\n",
       "</table>\n",
       "<p>140 rows × 7 columns</p>\n",
       "</div>"
      ],
      "text/plain": [
       "     log_footfall  log_Demand Reduction  log_Confirmed Cases  \\\n",
       "0       10.560386              7.643004             0.693147   \n",
       "1       10.240513              8.793144             0.000000   \n",
       "2        9.819345              8.652129             0.000000   \n",
       "8        9.823984             10.214593             0.000000   \n",
       "9       10.286349              8.425799             0.000000   \n",
       "..            ...                   ...                  ...   \n",
       "245      8.143081              9.987101             2.484907   \n",
       "246      8.118803             10.352435             2.833213   \n",
       "247      8.581669              8.596766             1.609438   \n",
       "248      8.739937              9.489671             2.302585   \n",
       "249      8.575179              9.247281             2.484907   \n",
       "\n",
       "     log_relative_humidity  log_dew_temp  log_avg_temp  log_ws_avg_50  \n",
       "0                 4.108247      2.556452      3.053057       1.533636  \n",
       "1                 4.266756      2.703373      3.061754       1.509618  \n",
       "2                 4.213904      2.565718      3.006178       1.665818  \n",
       "8                 4.128746      2.418589      2.980365       2.022871  \n",
       "9                 4.136286      2.057963      2.734043       2.270062  \n",
       "..                     ...           ...           ...            ...  \n",
       "245               4.387263      1.842136      2.294049       2.329714  \n",
       "246               4.306495      1.633154      2.304583       1.846879  \n",
       "247               4.349503      1.688249      2.307573       1.571736  \n",
       "248               4.314283      2.020222      2.484073       1.933693  \n",
       "249               4.456902      2.405142      2.641910       2.292030  \n",
       "\n",
       "[140 rows x 7 columns]"
      ]
     },
     "execution_count": 16,
     "metadata": {},
     "output_type": "execute_result"
    }
   ],
   "source": [
    "dft"
   ]
  },
  {
   "cell_type": "code",
   "execution_count": 17,
   "metadata": {},
   "outputs": [],
   "source": [
    "\n",
    "from statsmodels.tsa.stattools import grangercausalitytests\n",
    "maxlag=12\n",
    "test = 'ssr_chi2test'\n",
    "def grangers_causation_matrix(data, variables, test='ssr_chi2test', verbose=False):    \n",
    "    \"\"\"Check Granger Causality of all possible combinations of the Time series.\n",
    "    The rows are the response variable, columns are predictors. The values in the table \n",
    "    are the P-Values. P-Values lesser than the significance level (0.05), implies \n",
    "    the Null Hypothesis that the coefficients of the corresponding past values is \n",
    "    zero, that is, the X does not cause Y can be rejected.\n",
    "\n",
    "    data      : pandas dataframe containing the time series variables\n",
    "    variables : list containing names of the time series variables.\n",
    "    \"\"\"\n",
    "    df = pd.DataFrame(np.zeros((len(variables), len(variables))), columns=variables, index=variables)\n",
    "    for c in df.columns:\n",
    "        for r in df.index:\n",
    "            test_result = grangercausalitytests(data[[r, c]], maxlag=maxlag, verbose=False)\n",
    "            p_values = [round(test_result[i+1][0][test][1],4) for i in range(maxlag)]\n",
    "            if verbose: print(f'Y = {r}, X = {c}, P Values = {p_values}')\n",
    "            min_p_value = np.min(p_values)\n",
    "            df.loc[r, c] = min_p_value\n",
    "    df.columns = [var + '_x' for var in variables]\n",
    "    df.index = [var + '_y' for var in variables]\n",
    "    return df\n",
    "\n",
    "grang_test = grangers_causation_matrix(dft, variables = dft.columns)"
   ]
  },
  {
   "cell_type": "code",
   "execution_count": 18,
   "metadata": {},
   "outputs": [
    {
     "data": {
      "text/html": [
       "<div>\n",
       "<style scoped>\n",
       "    .dataframe tbody tr th:only-of-type {\n",
       "        vertical-align: middle;\n",
       "    }\n",
       "\n",
       "    .dataframe tbody tr th {\n",
       "        vertical-align: top;\n",
       "    }\n",
       "\n",
       "    .dataframe thead th {\n",
       "        text-align: right;\n",
       "    }\n",
       "</style>\n",
       "<table border=\"1\" class=\"dataframe\">\n",
       "  <thead>\n",
       "    <tr style=\"text-align: right;\">\n",
       "      <th></th>\n",
       "      <th>log_footfall_x</th>\n",
       "      <th>log_Demand Reduction_x</th>\n",
       "      <th>log_Confirmed Cases_x</th>\n",
       "      <th>log_relative_humidity_x</th>\n",
       "      <th>log_dew_temp_x</th>\n",
       "      <th>log_avg_temp_x</th>\n",
       "      <th>log_ws_avg_50_x</th>\n",
       "    </tr>\n",
       "  </thead>\n",
       "  <tbody>\n",
       "    <tr>\n",
       "      <th>log_footfall_y</th>\n",
       "      <td>1.000</td>\n",
       "      <td>0.0103</td>\n",
       "      <td>0.0000</td>\n",
       "      <td>0.1265</td>\n",
       "      <td>0.4928</td>\n",
       "      <td>0.2718</td>\n",
       "      <td>0.6019</td>\n",
       "    </tr>\n",
       "    <tr>\n",
       "      <th>log_Demand Reduction_y</th>\n",
       "      <td>0.004</td>\n",
       "      <td>1.0000</td>\n",
       "      <td>0.1284</td>\n",
       "      <td>0.0565</td>\n",
       "      <td>0.4878</td>\n",
       "      <td>0.0088</td>\n",
       "      <td>0.2517</td>\n",
       "    </tr>\n",
       "  </tbody>\n",
       "</table>\n",
       "</div>"
      ],
      "text/plain": [
       "                        log_footfall_x  log_Demand Reduction_x  \\\n",
       "log_footfall_y                   1.000                  0.0103   \n",
       "log_Demand Reduction_y           0.004                  1.0000   \n",
       "\n",
       "                        log_Confirmed Cases_x  log_relative_humidity_x  \\\n",
       "log_footfall_y                         0.0000                   0.1265   \n",
       "log_Demand Reduction_y                 0.1284                   0.0565   \n",
       "\n",
       "                        log_dew_temp_x  log_avg_temp_x  log_ws_avg_50_x  \n",
       "log_footfall_y                  0.4928          0.2718           0.6019  \n",
       "log_Demand Reduction_y          0.4878          0.0088           0.2517  "
      ]
     },
     "execution_count": 18,
     "metadata": {},
     "output_type": "execute_result"
    }
   ],
   "source": [
    "grang_test[0:2]"
   ]
  },
  {
   "cell_type": "code",
   "execution_count": null,
   "metadata": {},
   "outputs": [],
   "source": [
    "#Out Grang Test suggest that the demand change is dependent mainly on footfall, confirmed cases and not weather factors"
   ]
  },
  {
   "cell_type": "code",
   "execution_count": null,
   "metadata": {},
   "outputs": [],
   "source": [
    "from statsmodels.tsa.vector_ar.vecm import coint_johansen\n",
    "\n",
    "def cointegration_test(df, alpha=0.05): \n",
    "    \"\"\"Perform Johanson's Cointegration Test and Report Summary\"\"\"\n",
    "    out = coint_johansen(df,-1,5)\n",
    "    d = {'0.90':0, '0.95':1, '0.99':2}\n",
    "    traces = out.lr1\n",
    "    cvts = out.cvt[:, d[str(1-alpha)]]\n",
    "    def adjust(val, length= 6): return str(val).ljust(length)\n",
    "\n",
    "    # Summary\n",
    "    print('Name   ::  Test Stat > C(95%)    =>   Signif  \\n', '--'*20)\n",
    "    for col, trace, cvt in zip(df.columns, traces, cvts):\n",
    "        print(adjust(col), ':: ', adjust(round(trace,2), 9), \">\", adjust(cvt, 8), ' =>  ' , trace > cvt)\n",
    "\n",
    "cointegration_test(dft)"
   ]
  },
  {
   "cell_type": "code",
   "execution_count": null,
   "metadata": {},
   "outputs": [],
   "source": [
    "# The Cointergation test is the basic premise of VAR model. In our case that only footfall, Demand Reductions and Confirmed cases \n",
    "# has a statistically significant relationships. Thus we proceed with the VAR model."
   ]
  },
  {
   "cell_type": "code",
   "execution_count": null,
   "metadata": {},
   "outputs": [],
   "source": [
    "nobs = 2\n",
    "df_train, df_test = dft[0:-nobs], dft[-nobs:]\n",
    "\n",
    "# Check size\n",
    "print(df_train.shape)  # (119, 8)\n",
    "print(df_test.shape)  # (4, 8)"
   ]
  },
  {
   "cell_type": "code",
   "execution_count": null,
   "metadata": {},
   "outputs": [],
   "source": [
    "def adfuller_test(series, signif=0.05, name='', verbose=False):\n",
    "    \"\"\"Perform ADFuller to test for Stationarity of given series and print report\"\"\"\n",
    "    r = adfuller(series, autolag='AIC')\n",
    "    output = {'test_statistic':round(r[0], 4), 'pvalue':round(r[1], 4), 'n_lags':round(r[2], 4), 'n_obs':r[3]}\n",
    "    p_value = output['pvalue'] \n",
    "    def adjust(val, length= 6): return str(val).ljust(length)\n",
    "\n",
    "    # Print Summary\n",
    "    print(f'    Augmented Dickey-Fuller Test on \"{name}\"', \"\\n   \", '-'*47)\n",
    "    print(f' Null Hypothesis: Data has unit root. Non-Stationary.')\n",
    "    print(f' Significance Level    = {signif}')\n",
    "    print(f' Test Statistic        = {output[\"test_statistic\"]}')\n",
    "    print(f' No. Lags Chosen       = {output[\"n_lags\"]}')\n",
    "\n",
    "    for key,val in r[4].items():\n",
    "        print(f' Critical value {adjust(key)} = {round(val, 3)}')\n",
    "\n",
    "    if p_value <= signif:\n",
    "        print(f\" => P-Value = {p_value}. Rejecting Null Hypothesis.\")\n",
    "        print(f\" => Series is Stationary.\")\n",
    "    else:\n",
    "        print(f\" => P-Value = {p_value}. Weak evidence to reject the Null Hypothesis.\")\n",
    "        print(f\" => Series is Non-Stationary.\")"
   ]
  },
  {
   "cell_type": "code",
   "execution_count": null,
   "metadata": {},
   "outputs": [],
   "source": [
    "# ADF Test on each column\n",
    "for name, column in df_train.iteritems():\n",
    "    adfuller_test(column, name=column.name)\n",
    "    print('\\n')"
   ]
  },
  {
   "cell_type": "code",
   "execution_count": null,
   "metadata": {},
   "outputs": [],
   "source": [
    "# 1st difference\n",
    "df_differenced = df_train.diff().dropna()"
   ]
  },
  {
   "cell_type": "code",
   "execution_count": null,
   "metadata": {},
   "outputs": [],
   "source": [
    "# ADF Test on each column of 1st Differences Dataframe\n",
    "for name, column in df_differenced.iteritems():\n",
    "    adfuller_test(column, name=column.name)\n",
    "    print('\\n')"
   ]
  },
  {
   "cell_type": "code",
   "execution_count": null,
   "metadata": {},
   "outputs": [],
   "source": [
    "# All the series are now stationary "
   ]
  },
  {
   "cell_type": "code",
   "execution_count": null,
   "metadata": {},
   "outputs": [],
   "source": [
    "# # Second Differencing\n",
    "# df_differenced = df_differenced.diff().dropna()"
   ]
  },
  {
   "cell_type": "code",
   "execution_count": null,
   "metadata": {
    "scrolled": true
   },
   "outputs": [],
   "source": [
    "# # ADF Test on each column of 2nd Differences Dataframe\n",
    "# for name, column in df_differenced.iteritems():\n",
    "#     adfuller_test(column, name=column.name)\n",
    "#     print('\\n')"
   ]
  },
  {
   "cell_type": "code",
   "execution_count": null,
   "metadata": {},
   "outputs": [],
   "source": [
    "#### Selecting order of VAR model"
   ]
  },
  {
   "cell_type": "code",
   "execution_count": null,
   "metadata": {
    "scrolled": true
   },
   "outputs": [],
   "source": [
    "model = VAR(df_differenced)\n",
    "for i in [1,2,3,4,5,6,7,8,9,10,11]:\n",
    "    result = model.fit(i)\n",
    "    print('Lag Order =', i)\n",
    "    print('AIC : ', result.aic)\n",
    "    print('BIC : ', result.bic)\n",
    "    print('FPE : ', result.fpe)\n",
    "    print('HQIC: ', result.hqic, '\\n')"
   ]
  },
  {
   "cell_type": "code",
   "execution_count": null,
   "metadata": {
    "scrolled": true
   },
   "outputs": [],
   "source": [
    "x = model.select_order(maxlags=12)\n",
    "x.summary()"
   ]
  },
  {
   "cell_type": "code",
   "execution_count": null,
   "metadata": {},
   "outputs": [],
   "source": [
    "## Training Var for selected order 9"
   ]
  },
  {
   "cell_type": "code",
   "execution_count": null,
   "metadata": {},
   "outputs": [],
   "source": [
    "model_fitted = model.fit(2)\n",
    "model_fitted.summary()"
   ]
  },
  {
   "cell_type": "code",
   "execution_count": null,
   "metadata": {},
   "outputs": [],
   "source": [
    "from statsmodels.stats.stattools import durbin_watson\n",
    "out = durbin_watson(model_fitted.resid)\n",
    "\n",
    "for col, val in zip(df.columns, out):\n",
    "    print(col, ':', round(val, 2))"
   ]
  },
  {
   "cell_type": "code",
   "execution_count": null,
   "metadata": {},
   "outputs": [],
   "source": [
    "## The value of Serial correlation seems alright and we can now proceed with the forecast"
   ]
  },
  {
   "cell_type": "code",
   "execution_count": null,
   "metadata": {},
   "outputs": [],
   "source": [
    "model_fitted.plot()"
   ]
  },
  {
   "cell_type": "code",
   "execution_count": null,
   "metadata": {},
   "outputs": [],
   "source": [
    "irf = model_fitted.irf(periods = 21)"
   ]
  },
  {
   "cell_type": "code",
   "execution_count": null,
   "metadata": {},
   "outputs": [],
   "source": [
    "model_fitted.fevd(periods = 21).plot()"
   ]
  },
  {
   "cell_type": "code",
   "execution_count": null,
   "metadata": {},
   "outputs": [],
   "source": [
    "model_fitted.fevd(periods = 21).plot"
   ]
  },
  {
   "cell_type": "code",
   "execution_count": null,
   "metadata": {},
   "outputs": [],
   "source": [
    "df_log.columns"
   ]
  },
  {
   "cell_type": "code",
   "execution_count": null,
   "metadata": {},
   "outputs": [],
   "source": [
    "irf.plot_cum_effects(response = 'log_Demand Reduction', impulse = 'log_footfall')"
   ]
  },
  {
   "cell_type": "code",
   "execution_count": null,
   "metadata": {},
   "outputs": [],
   "source": [
    "irf.plot_cum_effects(response = 'log_Demand Reduction', impulse = 'log_Confirmed Cases',orth=False)"
   ]
  },
  {
   "cell_type": "code",
   "execution_count": null,
   "metadata": {},
   "outputs": [],
   "source": [
    "irf.plot_cum_effects(response = 'log_Demand Reduction', impulse = 'log_Confirmed Cases',orth=False)"
   ]
  },
  {
   "cell_type": "code",
   "execution_count": null,
   "metadata": {},
   "outputs": [],
   "source": [
    "irf.plot_cum_effects(response = 'log_Demand Reduction', impulse = 'log_relative_humidity',orth=False)"
   ]
  },
  {
   "cell_type": "code",
   "execution_count": null,
   "metadata": {
    "scrolled": false
   },
   "outputs": [],
   "source": [
    "# print(irf.irfs)\n",
    "print(irf.cum_effects)"
   ]
  },
  {
   "cell_type": "code",
   "execution_count": null,
   "metadata": {},
   "outputs": [],
   "source": [
    "# def impulse_response(self):\n",
    "#     # Note: The default impulse response figure is a bit different from the manuscript. In the default figure,\n",
    "#     # (1) load decrease -> load reduction increase; (2) all impulses are 1% increase impulse\n",
    "#     model.irf(periods=30).plot_cum_effects(impulse=1, response=0)  # covid case -> load reduction\n",
    "#     plt.show()\n",
    "#     model.irf(periods=30).plot_cum_effects(impulse=4, response=0)  # retail -> load reduction\n",
    "#     plt.show()"
   ]
  },
  {
   "cell_type": "code",
   "execution_count": null,
   "metadata": {},
   "outputs": [],
   "source": [
    "# model_fitted.impulse_response()"
   ]
  },
  {
   "cell_type": "code",
   "execution_count": null,
   "metadata": {},
   "outputs": [],
   "source": [
    "# irf.plot(impulse='Demand Reduction')"
   ]
  },
  {
   "cell_type": "code",
   "execution_count": null,
   "metadata": {},
   "outputs": [],
   "source": []
  },
  {
   "cell_type": "code",
   "execution_count": null,
   "metadata": {},
   "outputs": [],
   "source": []
  }
 ],
 "metadata": {
  "kernelspec": {
   "display_name": "Python 3",
   "language": "python",
   "name": "python3"
  },
  "language_info": {
   "codemirror_mode": {
    "name": "ipython",
    "version": 3
   },
   "file_extension": ".py",
   "mimetype": "text/x-python",
   "name": "python",
   "nbconvert_exporter": "python",
   "pygments_lexer": "ipython3",
   "version": "3.7.4"
  }
 },
 "nbformat": 4,
 "nbformat_minor": 2
}
